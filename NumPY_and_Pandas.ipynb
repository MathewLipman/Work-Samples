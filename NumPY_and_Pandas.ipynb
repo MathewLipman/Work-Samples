{
  "nbformat": 4,
  "nbformat_minor": 0,
  "metadata": {
    "colab": {
      "provenance": [],
      "mount_file_id": "1wegGk1rV9CCGGrbNyiKlMOF2WtsAVanp",
      "authorship_tag": "ABX9TyOotS3v17iU2mAxfxIneWn9",
      "include_colab_link": true
    },
    "kernelspec": {
      "name": "python3",
      "display_name": "Python 3"
    },
    "language_info": {
      "name": "python"
    }
  },
  "cells": [
    {
      "cell_type": "markdown",
      "metadata": {
        "id": "view-in-github",
        "colab_type": "text"
      },
      "source": [
        "<a href=\"https://colab.research.google.com/github/MathewLipman/Work-Samples/blob/main/NumPY_and_Pandas.ipynb\" target=\"_parent\"><img src=\"https://colab.research.google.com/assets/colab-badge.svg\" alt=\"Open In Colab\"/></a>"
      ]
    },
    {
      "cell_type": "markdown",
      "source": [
        "Numpy Limitations: \n",
        "\n",
        "It doesn't support column names, so we must frame questions as multi-dimensional array operations.\n",
        "\n",
        "It only allows for one data type per ndarray, complicating the handling of mixed numeric and string data.\n",
        "\n",
        "While there are many low-level methods, some common analysis patterns lack pre-built methods.\n",
        "\n",
        "Pandas:\n",
        "\n",
        "Pandas is an incredibly versatile and user-friendly Python library designed to make our data exploration and analysis journey both fun and efficient. \n",
        "\n",
        "It gets its name from the econometrics term \"panel data.\" With pandas, we'll be able to easily manipulate, clean, and visualize data, all while enjoying the process. \n",
        "\n",
        "Pandas is not a replacement for NumPy, but rather an extension that builds upon its strengths. Since pandas' underlying code relies heavily on NumPy, our newly acquired skills will be invaluable as we explore this exciting new library.\n",
        "\n",
        "Pandas dataframes are Pandas' answer to NumPY's 2d ndarrays but axis values can have string labels not just numerico nes and dataframes can contain columns with multiple data types including: integer, float and string."
      ],
      "metadata": {
        "id": "HQihFyXBDrem"
      }
    },
    {
      "cell_type": "markdown",
      "source": [
        "We are importing our global fortune 500 dataset 'f500.csv':\n",
        "\n",
        "company: The company's name.\n",
        "\n",
        "rank: Global 500 rank for the company.\n",
        "\n",
        "revenues: Company's total revenue for the fiscal year, in millions of dollars (USD).\n",
        "\n",
        "revenue_change: Percentage change in revenue between the current and prior fiscal year.\n",
        "\n",
        "profits: Net income for the fiscal year, in millions of dollars (USD).\n",
        "ceo: Company's Chief Executive Officer.\n",
        "\n",
        "industry: The company's industry of operation.\n",
        "\n",
        "sector: Sector in which the company operates.\n",
        "\n",
        "previous_rank: Global 500 rank for the company for the prior year.\n",
        "\n",
        "country: Country of the company's headquarters.\n"
      ],
      "metadata": {
        "id": "ZSTCixPGFNMX"
      }
    },
    {
      "cell_type": "code",
      "source": [
        "import pandas as pd\n",
        "f500 = pd.read_csv('/content/drive/MyDrive/Dataset/f500.csv', index_col=0)\n",
        "f500.index.name = None"
      ],
      "metadata": {
        "id": "5YygL3OFDs4R"
      },
      "execution_count": 1,
      "outputs": []
    },
    {
      "cell_type": "markdown",
      "source": [
        "the pandas module is able to access our csv through its path and if we check the type of f500 (the variable we stored pandas(pd) reading our csv) we can see it is in a pandas.core.frame.DataFrame"
      ],
      "metadata": {
        "id": "pMAJemRhSVAF"
      }
    },
    {
      "cell_type": "code",
      "source": [
        "f500_type = type(f500)\n",
        "print(f500_type)"
      ],
      "metadata": {
        "colab": {
          "base_uri": "https://localhost:8080/"
        },
        "id": "-_fLRNn5FG0p",
        "outputId": "b67c3a8c-fb5d-4d6d-dd54-0114b77807e7"
      },
      "execution_count": 3,
      "outputs": [
        {
          "output_type": "stream",
          "name": "stdout",
          "text": [
            "<class 'pandas.core.frame.DataFrame'>\n"
          ]
        }
      ]
    },
    {
      "cell_type": "markdown",
      "source": [
        "By printing the shape we can see we have 500 rows and 16 columns"
      ],
      "metadata": {
        "id": "0oUU4n4NSjSW"
      }
    },
    {
      "cell_type": "code",
      "source": [
        "f500_shape = f500.shape\n",
        "print(f500_shape)\n"
      ],
      "metadata": {
        "colab": {
          "base_uri": "https://localhost:8080/"
        },
        "id": "UD5hYfJ9Fnf0",
        "outputId": "5a061994-ab8e-441c-ad28-3a3428e42119"
      },
      "execution_count": 6,
      "outputs": [
        {
          "output_type": "stream",
          "name": "stdout",
          "text": [
            "(500, 16)\n",
            "<class 'pandas.core.frame.DataFrame'>\n"
          ]
        }
      ]
    },
    {
      "cell_type": "markdown",
      "source": [
        "Now we are printing the first 3 rows (headers included seperately) of our dataset from the top"
      ],
      "metadata": {
        "id": "yiBtONtkSmJ2"
      }
    },
    {
      "cell_type": "code",
      "source": [
        "print(f500.head(3))"
      ],
      "metadata": {
        "colab": {
          "base_uri": "https://localhost:8080/"
        },
        "id": "Uy64jJEoFt5A",
        "outputId": "a26aab8b-2114-465d-a8e4-b527abb00927"
      },
      "execution_count": 10,
      "outputs": [
        {
          "output_type": "stream",
          "name": "stdout",
          "text": [
            "               rank  revenues  revenue_change  profits  assets  profit_change  \\\n",
            "Walmart           1    485873             0.8  13643.0  198825           -7.2   \n",
            "State Grid        2    315199            -4.4   9571.3  489838           -6.2   \n",
            "Sinopec Group     3    267518            -9.1   1257.9  310726          -65.0   \n",
            "\n",
            "                               ceo               industry     sector  \\\n",
            "Walmart        C. Douglas McMillon  General Merchandisers  Retailing   \n",
            "State Grid                 Kou Wei              Utilities     Energy   \n",
            "Sinopec Group            Wang Yupu     Petroleum Refining     Energy   \n",
            "\n",
            "               previous_rank country      hq_location                 website  \\\n",
            "Walmart                    1     USA  Bentonville, AR  http://www.walmart.com   \n",
            "State Grid                 2   China   Beijing, China  http://www.sgcc.com.cn   \n",
            "Sinopec Group              4   China   Beijing, China  http://www.sinopec.com   \n",
            "\n",
            "               years_on_global_500_list  employees  total_stockholder_equity  \n",
            "Walmart                              23    2300000                     77798  \n",
            "State Grid                           17     926067                    209456  \n",
            "Sinopec Group                        19     713288                    106523  \n"
          ]
        }
      ]
    },
    {
      "cell_type": "markdown",
      "source": [
        "To view data from the bottom, instead of head we use tail:"
      ],
      "metadata": {
        "id": "ynEU5GrZS6cx"
      }
    },
    {
      "cell_type": "code",
      "source": [
        "print(f500.tail(3))"
      ],
      "metadata": {
        "colab": {
          "base_uri": "https://localhost:8080/"
        },
        "id": "9_KlTcPoSFOO",
        "outputId": "cf008e6a-e6b7-471f-a05e-daaa0920a00f"
      },
      "execution_count": 12,
      "outputs": [
        {
          "output_type": "stream",
          "name": "stdout",
          "text": [
            "                           rank  revenues  revenue_change  profits  assets  \\\n",
            "Wm. Morrison Supermarkets   498     21741           -11.3    406.4   11630   \n",
            "TUI                         499     21655            -5.5   1151.7   16247   \n",
            "AutoNation                  500     21609             3.6    430.5   10060   \n",
            "\n",
            "                           profit_change                 ceo  \\\n",
            "Wm. Morrison Supermarkets           20.4      David T. Potts   \n",
            "TUI                                195.5   Friedrich Joussen   \n",
            "AutoNation                          -2.7  Michael J. Jackson   \n",
            "\n",
            "                                       industry              sector  \\\n",
            "Wm. Morrison Supermarkets  Food and Drug Stores  Food & Drug Stores   \n",
            "TUI                             Travel Services   Business Services   \n",
            "AutoNation                  Specialty Retailers           Retailing   \n",
            "\n",
            "                           previous_rank  country          hq_location  \\\n",
            "Wm. Morrison Supermarkets            437  Britain    Bradford, Britain   \n",
            "TUI                                  467  Germany     Hanover, Germany   \n",
            "AutoNation                             0      USA  Fort Lauderdale, FL   \n",
            "\n",
            "                                             website  \\\n",
            "Wm. Morrison Supermarkets   http://www.morrisons.com   \n",
            "TUI                          http://www.tuigroup.com   \n",
            "AutoNation                 http://www.autonation.com   \n",
            "\n",
            "                           years_on_global_500_list  employees  \\\n",
            "Wm. Morrison Supermarkets                        13      77210   \n",
            "TUI                                              23      66779   \n",
            "AutoNation                                       12      26000   \n",
            "\n",
            "                           total_stockholder_equity  \n",
            "Wm. Morrison Supermarkets                      5111  \n",
            "TUI                                            3006  \n",
            "AutoNation                                     2310  \n"
          ]
        }
      ]
    },
    {
      "cell_type": "code",
      "source": [
        "f500_top_6 = f500.head(6)\n",
        "f500_bottom_8 = f500.tail(8)\n"
      ],
      "metadata": {
        "id": "0WRQFM0-SwYF"
      },
      "execution_count": 22,
      "outputs": []
    },
    {
      "cell_type": "markdown",
      "source": [
        "To learn about the types of each column we can use dataframe.dtypes attribute, similar to NumPy's ndarray.dtype attribute. "
      ],
      "metadata": {
        "id": "nr9nxNiXTxsz"
      }
    },
    {
      "cell_type": "code",
      "source": [
        "print(f500_top_6.dtypes)"
      ],
      "metadata": {
        "colab": {
          "base_uri": "https://localhost:8080/"
        },
        "id": "HorZ8-TbTwSZ",
        "outputId": "3ccd393d-3196-4d81-f4d5-ef940818a57b"
      },
      "execution_count": 23,
      "outputs": [
        {
          "output_type": "stream",
          "name": "stdout",
          "text": [
            "rank                          int64\n",
            "revenues                      int64\n",
            "revenue_change              float64\n",
            "profits                     float64\n",
            "assets                        int64\n",
            "profit_change               float64\n",
            "ceo                          object\n",
            "industry                     object\n",
            "sector                       object\n",
            "previous_rank                 int64\n",
            "country                      object\n",
            "hq_location                  object\n",
            "website                      object\n",
            "years_on_global_500_list      int64\n",
            "employees                     int64\n",
            "total_stockholder_equity      int64\n",
            "dtype: object\n"
          ]
        }
      ]
    },
    {
      "cell_type": "code",
      "source": [
        "print(f500_bottom_8.dtypes)"
      ],
      "metadata": {
        "colab": {
          "base_uri": "https://localhost:8080/"
        },
        "id": "x4skP-wUUJwz",
        "outputId": "18f9acef-e52d-47af-e6ba-755a4482b89c"
      },
      "execution_count": 24,
      "outputs": [
        {
          "output_type": "stream",
          "name": "stdout",
          "text": [
            "rank                          int64\n",
            "revenues                      int64\n",
            "revenue_change              float64\n",
            "profits                     float64\n",
            "assets                        int64\n",
            "profit_change               float64\n",
            "ceo                          object\n",
            "industry                     object\n",
            "sector                       object\n",
            "previous_rank                 int64\n",
            "country                      object\n",
            "hq_location                  object\n",
            "website                      object\n",
            "years_on_global_500_list      int64\n",
            "employees                     int64\n",
            "total_stockholder_equity      int64\n",
            "dtype: object\n"
          ]
        }
      ]
    },
    {
      "cell_type": "markdown",
      "source": [
        "for an overview of all the dtypes used in our dataframe including shpae (rows and columns, we are using the example with only the top 6 rows). Also we do not need to use the print function for it to produce output."
      ],
      "metadata": {
        "id": "X9Nzj9-1Umgu"
      }
    },
    {
      "cell_type": "code",
      "source": [
        "f500_top_6.info()"
      ],
      "metadata": {
        "colab": {
          "base_uri": "https://localhost:8080/"
        },
        "id": "KEo-VyZgUN94",
        "outputId": "2c3744ff-bb96-4659-f577-ce9386be3257"
      },
      "execution_count": 26,
      "outputs": [
        {
          "output_type": "stream",
          "name": "stdout",
          "text": [
            "<class 'pandas.core.frame.DataFrame'>\n",
            "Index: 6 entries, Walmart to Volkswagen\n",
            "Data columns (total 16 columns):\n",
            " #   Column                    Non-Null Count  Dtype  \n",
            "---  ------                    --------------  -----  \n",
            " 0   rank                      6 non-null      int64  \n",
            " 1   revenues                  6 non-null      int64  \n",
            " 2   revenue_change            6 non-null      float64\n",
            " 3   profits                   6 non-null      float64\n",
            " 4   assets                    6 non-null      int64  \n",
            " 5   profit_change             5 non-null      float64\n",
            " 6   ceo                       6 non-null      object \n",
            " 7   industry                  6 non-null      object \n",
            " 8   sector                    6 non-null      object \n",
            " 9   previous_rank             6 non-null      int64  \n",
            " 10  country                   6 non-null      object \n",
            " 11  hq_location               6 non-null      object \n",
            " 12  website                   6 non-null      object \n",
            " 13  years_on_global_500_list  6 non-null      int64  \n",
            " 14  employees                 6 non-null      int64  \n",
            " 15  total_stockholder_equity  6 non-null      int64  \n",
            "dtypes: float64(3), int64(7), object(6)\n",
            "memory usage: 988.0+ bytes\n"
          ]
        }
      ]
    },
    {
      "cell_type": "markdown",
      "source": [
        "Example now with the full data set"
      ],
      "metadata": {
        "id": "qfkgxgeuVFNj"
      }
    },
    {
      "cell_type": "code",
      "source": [
        "f500.info()"
      ],
      "metadata": {
        "colab": {
          "base_uri": "https://localhost:8080/"
        },
        "id": "dWXwKqxxUkQW",
        "outputId": "79a5fcb8-fd43-4d43-dbec-7b2bdd8b90dd"
      },
      "execution_count": 27,
      "outputs": [
        {
          "output_type": "stream",
          "name": "stdout",
          "text": [
            "<class 'pandas.core.frame.DataFrame'>\n",
            "Index: 500 entries, Walmart to AutoNation\n",
            "Data columns (total 16 columns):\n",
            " #   Column                    Non-Null Count  Dtype  \n",
            "---  ------                    --------------  -----  \n",
            " 0   rank                      500 non-null    int64  \n",
            " 1   revenues                  500 non-null    int64  \n",
            " 2   revenue_change            498 non-null    float64\n",
            " 3   profits                   499 non-null    float64\n",
            " 4   assets                    500 non-null    int64  \n",
            " 5   profit_change             436 non-null    float64\n",
            " 6   ceo                       500 non-null    object \n",
            " 7   industry                  500 non-null    object \n",
            " 8   sector                    500 non-null    object \n",
            " 9   previous_rank             500 non-null    int64  \n",
            " 10  country                   500 non-null    object \n",
            " 11  hq_location               500 non-null    object \n",
            " 12  website                   500 non-null    object \n",
            " 13  years_on_global_500_list  500 non-null    int64  \n",
            " 14  employees                 500 non-null    int64  \n",
            " 15  total_stockholder_equity  500 non-null    int64  \n",
            "dtypes: float64(3), int64(7), object(6)\n",
            "memory usage: 82.6+ KB\n"
          ]
        }
      ]
    },
    {
      "cell_type": "code",
      "source": [
        "float64_dtype = 3\n",
        "int64_dtype = 7\n",
        "object_dtype = 6"
      ],
      "metadata": {
        "id": "LpSKbyTJVC0c"
      },
      "execution_count": 28,
      "outputs": []
    },
    {
      "cell_type": "markdown",
      "source": [
        "Using df (dataframe name) .loc functionality we can input a row name or column name and return the desired output."
      ],
      "metadata": {
        "id": "ZyOc4FyWXCYa"
      }
    },
    {
      "cell_type": "code",
      "source": [
        "\n",
        "f500_top_6.loc[:, \"rank\"]"
      ],
      "metadata": {
        "colab": {
          "base_uri": "https://localhost:8080/"
        },
        "id": "4Ll91RfCVTQX",
        "outputId": "a0304148-4d16-413f-941c-b54eb907dc47"
      },
      "execution_count": 32,
      "outputs": [
        {
          "output_type": "execute_result",
          "data": {
            "text/plain": [
              "Walmart                     1\n",
              "State Grid                  2\n",
              "Sinopec Group               3\n",
              "China National Petroleum    4\n",
              "Toyota Motor                5\n",
              "Volkswagen                  6\n",
              "Name: rank, dtype: int64"
            ]
          },
          "metadata": {},
          "execution_count": 32
        }
      ]
    },
    {
      "cell_type": "code",
      "source": [
        "f500_top_6.loc[\"Walmart\", :]"
      ],
      "metadata": {
        "colab": {
          "base_uri": "https://localhost:8080/"
        },
        "id": "sGWwweu-V-s5",
        "outputId": "8da11f83-77e6-4b1e-f7f8-199667e71d63"
      },
      "execution_count": 35,
      "outputs": [
        {
          "output_type": "execute_result",
          "data": {
            "text/plain": [
              "rank                                             1\n",
              "revenues                                    485873\n",
              "revenue_change                                 0.8\n",
              "profits                                    13643.0\n",
              "assets                                      198825\n",
              "profit_change                                 -7.2\n",
              "ceo                            C. Douglas McMillon\n",
              "industry                     General Merchandisers\n",
              "sector                                   Retailing\n",
              "previous_rank                                    1\n",
              "country                                        USA\n",
              "hq_location                        Bentonville, AR\n",
              "website                     http://www.walmart.com\n",
              "years_on_global_500_list                        23\n",
              "employees                                  2300000\n",
              "total_stockholder_equity                     77798\n",
              "Name: Walmart, dtype: object"
            ]
          },
          "metadata": {},
          "execution_count": 35
        }
      ]
    },
    {
      "cell_type": "code",
      "source": [
        "rank_col = f500_top_6[\"rank\"]\n",
        "print(rank_col)"
      ],
      "metadata": {
        "colab": {
          "base_uri": "https://localhost:8080/"
        },
        "id": "TGEbqwlLW4f9",
        "outputId": "767d490a-0d71-4ef2-f59c-a0057f5835f4"
      },
      "execution_count": 41,
      "outputs": [
        {
          "output_type": "stream",
          "name": "stdout",
          "text": [
            "Walmart                     1\n",
            "State Grid                  2\n",
            "Sinopec Group               3\n",
            "China National Petroleum    4\n",
            "Toyota Motor                5\n",
            "Volkswagen                  6\n",
            "Name: rank, dtype: int64\n"
          ]
        }
      ]
    },
    {
      "cell_type": "code",
      "source": [
        "revenue_col = f500_top_6[\"revenues\"]\n",
        "print(revenue_col)"
      ],
      "metadata": {
        "colab": {
          "base_uri": "https://localhost:8080/"
        },
        "id": "OQmeG__qXMiq",
        "outputId": "a035da99-c5df-4627-a5dd-ed7b06922144"
      },
      "execution_count": 45,
      "outputs": [
        {
          "output_type": "stream",
          "name": "stdout",
          "text": [
            "Walmart                     485873\n",
            "State Grid                  315199\n",
            "Sinopec Group               267518\n",
            "China National Petroleum    262573\n",
            "Toyota Motor                254694\n",
            "Volkswagen                  240264\n",
            "Name: revenues, dtype: int64\n"
          ]
        }
      ]
    },
    {
      "cell_type": "code",
      "source": [
        "industries = f500_top_6[\"industry\"]"
      ],
      "metadata": {
        "id": "mZqBRxkTXmj_"
      },
      "execution_count": 46,
      "outputs": []
    },
    {
      "cell_type": "code",
      "source": [
        "industries_type = type(industries)"
      ],
      "metadata": {
        "id": "Qn6XqUdtX7RF"
      },
      "execution_count": 47,
      "outputs": []
    },
    {
      "cell_type": "markdown",
      "source": [
        "a one dimensional object is a series, a 2d object is a dataframe"
      ],
      "metadata": {
        "id": "lz1t3VowYd7B"
      }
    },
    {
      "cell_type": "code",
      "source": [
        "print(industries)\n",
        "print(industries_type)"
      ],
      "metadata": {
        "colab": {
          "base_uri": "https://localhost:8080/"
        },
        "id": "bao1KxHYX-Xu",
        "outputId": "04c0e77a-96cb-496f-d386-c280e76f5e2e"
      },
      "execution_count": 48,
      "outputs": [
        {
          "output_type": "stream",
          "name": "stdout",
          "text": [
            "Walmart                        General Merchandisers\n",
            "State Grid                                 Utilities\n",
            "Sinopec Group                     Petroleum Refining\n",
            "China National Petroleum          Petroleum Refining\n",
            "Toyota Motor                Motor Vehicles and Parts\n",
            "Volkswagen                  Motor Vehicles and Parts\n",
            "Name: industry, dtype: object\n",
            "<class 'pandas.core.series.Series'>\n"
          ]
        }
      ]
    },
    {
      "cell_type": "markdown",
      "source": [
        "using the loc function on our selection (f500_top_6) we can select the rows and columns (in this case all rows which is only the top 6 from dataset and then the specific columns we want (\"country\",\"rank\")"
      ],
      "metadata": {
        "id": "4YgEgtxSZevj"
      }
    },
    {
      "cell_type": "code",
      "source": [
        "f500_top_6.loc[:,[\"country\",\"rank\"]]"
      ],
      "metadata": {
        "colab": {
          "base_uri": "https://localhost:8080/",
          "height": 235
        },
        "id": "jhQmX6xrYEC-",
        "outputId": "07c1df4d-c854-40ea-c71e-4d2ac82fa444"
      },
      "execution_count": 52,
      "outputs": [
        {
          "output_type": "execute_result",
          "data": {
            "text/plain": [
              "                          country  rank\n",
              "Walmart                       USA     1\n",
              "State Grid                  China     2\n",
              "Sinopec Group               China     3\n",
              "China National Petroleum    China     4\n",
              "Toyota Motor                Japan     5\n",
              "Volkswagen                Germany     6"
            ],
            "text/html": [
              "\n",
              "  <div id=\"df-bf026cd7-ee37-4a21-886e-464f5b3827c2\">\n",
              "    <div class=\"colab-df-container\">\n",
              "      <div>\n",
              "<style scoped>\n",
              "    .dataframe tbody tr th:only-of-type {\n",
              "        vertical-align: middle;\n",
              "    }\n",
              "\n",
              "    .dataframe tbody tr th {\n",
              "        vertical-align: top;\n",
              "    }\n",
              "\n",
              "    .dataframe thead th {\n",
              "        text-align: right;\n",
              "    }\n",
              "</style>\n",
              "<table border=\"1\" class=\"dataframe\">\n",
              "  <thead>\n",
              "    <tr style=\"text-align: right;\">\n",
              "      <th></th>\n",
              "      <th>country</th>\n",
              "      <th>rank</th>\n",
              "    </tr>\n",
              "  </thead>\n",
              "  <tbody>\n",
              "    <tr>\n",
              "      <th>Walmart</th>\n",
              "      <td>USA</td>\n",
              "      <td>1</td>\n",
              "    </tr>\n",
              "    <tr>\n",
              "      <th>State Grid</th>\n",
              "      <td>China</td>\n",
              "      <td>2</td>\n",
              "    </tr>\n",
              "    <tr>\n",
              "      <th>Sinopec Group</th>\n",
              "      <td>China</td>\n",
              "      <td>3</td>\n",
              "    </tr>\n",
              "    <tr>\n",
              "      <th>China National Petroleum</th>\n",
              "      <td>China</td>\n",
              "      <td>4</td>\n",
              "    </tr>\n",
              "    <tr>\n",
              "      <th>Toyota Motor</th>\n",
              "      <td>Japan</td>\n",
              "      <td>5</td>\n",
              "    </tr>\n",
              "    <tr>\n",
              "      <th>Volkswagen</th>\n",
              "      <td>Germany</td>\n",
              "      <td>6</td>\n",
              "    </tr>\n",
              "  </tbody>\n",
              "</table>\n",
              "</div>\n",
              "      <button class=\"colab-df-convert\" onclick=\"convertToInteractive('df-bf026cd7-ee37-4a21-886e-464f5b3827c2')\"\n",
              "              title=\"Convert this dataframe to an interactive table.\"\n",
              "              style=\"display:none;\">\n",
              "        \n",
              "  <svg xmlns=\"http://www.w3.org/2000/svg\" height=\"24px\"viewBox=\"0 0 24 24\"\n",
              "       width=\"24px\">\n",
              "    <path d=\"M0 0h24v24H0V0z\" fill=\"none\"/>\n",
              "    <path d=\"M18.56 5.44l.94 2.06.94-2.06 2.06-.94-2.06-.94-.94-2.06-.94 2.06-2.06.94zm-11 1L8.5 8.5l.94-2.06 2.06-.94-2.06-.94L8.5 2.5l-.94 2.06-2.06.94zm10 10l.94 2.06.94-2.06 2.06-.94-2.06-.94-.94-2.06-.94 2.06-2.06.94z\"/><path d=\"M17.41 7.96l-1.37-1.37c-.4-.4-.92-.59-1.43-.59-.52 0-1.04.2-1.43.59L10.3 9.45l-7.72 7.72c-.78.78-.78 2.05 0 2.83L4 21.41c.39.39.9.59 1.41.59.51 0 1.02-.2 1.41-.59l7.78-7.78 2.81-2.81c.8-.78.8-2.07 0-2.86zM5.41 20L4 18.59l7.72-7.72 1.47 1.35L5.41 20z\"/>\n",
              "  </svg>\n",
              "      </button>\n",
              "      \n",
              "  <style>\n",
              "    .colab-df-container {\n",
              "      display:flex;\n",
              "      flex-wrap:wrap;\n",
              "      gap: 12px;\n",
              "    }\n",
              "\n",
              "    .colab-df-convert {\n",
              "      background-color: #E8F0FE;\n",
              "      border: none;\n",
              "      border-radius: 50%;\n",
              "      cursor: pointer;\n",
              "      display: none;\n",
              "      fill: #1967D2;\n",
              "      height: 32px;\n",
              "      padding: 0 0 0 0;\n",
              "      width: 32px;\n",
              "    }\n",
              "\n",
              "    .colab-df-convert:hover {\n",
              "      background-color: #E2EBFA;\n",
              "      box-shadow: 0px 1px 2px rgba(60, 64, 67, 0.3), 0px 1px 3px 1px rgba(60, 64, 67, 0.15);\n",
              "      fill: #174EA6;\n",
              "    }\n",
              "\n",
              "    [theme=dark] .colab-df-convert {\n",
              "      background-color: #3B4455;\n",
              "      fill: #D2E3FC;\n",
              "    }\n",
              "\n",
              "    [theme=dark] .colab-df-convert:hover {\n",
              "      background-color: #434B5C;\n",
              "      box-shadow: 0px 1px 3px 1px rgba(0, 0, 0, 0.15);\n",
              "      filter: drop-shadow(0px 1px 2px rgba(0, 0, 0, 0.3));\n",
              "      fill: #FFFFFF;\n",
              "    }\n",
              "  </style>\n",
              "\n",
              "      <script>\n",
              "        const buttonEl =\n",
              "          document.querySelector('#df-bf026cd7-ee37-4a21-886e-464f5b3827c2 button.colab-df-convert');\n",
              "        buttonEl.style.display =\n",
              "          google.colab.kernel.accessAllowed ? 'block' : 'none';\n",
              "\n",
              "        async function convertToInteractive(key) {\n",
              "          const element = document.querySelector('#df-bf026cd7-ee37-4a21-886e-464f5b3827c2');\n",
              "          const dataTable =\n",
              "            await google.colab.kernel.invokeFunction('convertToInteractive',\n",
              "                                                     [key], {});\n",
              "          if (!dataTable) return;\n",
              "\n",
              "          const docLinkHtml = 'Like what you see? Visit the ' +\n",
              "            '<a target=\"_blank\" href=https://colab.research.google.com/notebooks/data_table.ipynb>data table notebook</a>'\n",
              "            + ' to learn more about interactive tables.';\n",
              "          element.innerHTML = '';\n",
              "          dataTable['output_type'] = 'display_data';\n",
              "          await google.colab.output.renderOutput(dataTable, element);\n",
              "          const docLink = document.createElement('div');\n",
              "          docLink.innerHTML = docLinkHtml;\n",
              "          element.appendChild(docLink);\n",
              "        }\n",
              "      </script>\n",
              "    </div>\n",
              "  </div>\n",
              "  "
            ]
          },
          "metadata": {},
          "execution_count": 52
        }
      ]
    },
    {
      "cell_type": "code",
      "source": [
        "f500_top_6.loc[:,[\"country\",\"revenues\"]]"
      ],
      "metadata": {
        "colab": {
          "base_uri": "https://localhost:8080/",
          "height": 235
        },
        "id": "Jt4lVoUOZDLh",
        "outputId": "c9e5a9e8-743d-4119-e4f5-1d83b4637207"
      },
      "execution_count": 53,
      "outputs": [
        {
          "output_type": "execute_result",
          "data": {
            "text/plain": [
              "                          country  revenues\n",
              "Walmart                       USA    485873\n",
              "State Grid                  China    315199\n",
              "Sinopec Group               China    267518\n",
              "China National Petroleum    China    262573\n",
              "Toyota Motor                Japan    254694\n",
              "Volkswagen                Germany    240264"
            ],
            "text/html": [
              "\n",
              "  <div id=\"df-d64f9d5b-d0a1-40e4-815b-d8ce997d7d50\">\n",
              "    <div class=\"colab-df-container\">\n",
              "      <div>\n",
              "<style scoped>\n",
              "    .dataframe tbody tr th:only-of-type {\n",
              "        vertical-align: middle;\n",
              "    }\n",
              "\n",
              "    .dataframe tbody tr th {\n",
              "        vertical-align: top;\n",
              "    }\n",
              "\n",
              "    .dataframe thead th {\n",
              "        text-align: right;\n",
              "    }\n",
              "</style>\n",
              "<table border=\"1\" class=\"dataframe\">\n",
              "  <thead>\n",
              "    <tr style=\"text-align: right;\">\n",
              "      <th></th>\n",
              "      <th>country</th>\n",
              "      <th>revenues</th>\n",
              "    </tr>\n",
              "  </thead>\n",
              "  <tbody>\n",
              "    <tr>\n",
              "      <th>Walmart</th>\n",
              "      <td>USA</td>\n",
              "      <td>485873</td>\n",
              "    </tr>\n",
              "    <tr>\n",
              "      <th>State Grid</th>\n",
              "      <td>China</td>\n",
              "      <td>315199</td>\n",
              "    </tr>\n",
              "    <tr>\n",
              "      <th>Sinopec Group</th>\n",
              "      <td>China</td>\n",
              "      <td>267518</td>\n",
              "    </tr>\n",
              "    <tr>\n",
              "      <th>China National Petroleum</th>\n",
              "      <td>China</td>\n",
              "      <td>262573</td>\n",
              "    </tr>\n",
              "    <tr>\n",
              "      <th>Toyota Motor</th>\n",
              "      <td>Japan</td>\n",
              "      <td>254694</td>\n",
              "    </tr>\n",
              "    <tr>\n",
              "      <th>Volkswagen</th>\n",
              "      <td>Germany</td>\n",
              "      <td>240264</td>\n",
              "    </tr>\n",
              "  </tbody>\n",
              "</table>\n",
              "</div>\n",
              "      <button class=\"colab-df-convert\" onclick=\"convertToInteractive('df-d64f9d5b-d0a1-40e4-815b-d8ce997d7d50')\"\n",
              "              title=\"Convert this dataframe to an interactive table.\"\n",
              "              style=\"display:none;\">\n",
              "        \n",
              "  <svg xmlns=\"http://www.w3.org/2000/svg\" height=\"24px\"viewBox=\"0 0 24 24\"\n",
              "       width=\"24px\">\n",
              "    <path d=\"M0 0h24v24H0V0z\" fill=\"none\"/>\n",
              "    <path d=\"M18.56 5.44l.94 2.06.94-2.06 2.06-.94-2.06-.94-.94-2.06-.94 2.06-2.06.94zm-11 1L8.5 8.5l.94-2.06 2.06-.94-2.06-.94L8.5 2.5l-.94 2.06-2.06.94zm10 10l.94 2.06.94-2.06 2.06-.94-2.06-.94-.94-2.06-.94 2.06-2.06.94z\"/><path d=\"M17.41 7.96l-1.37-1.37c-.4-.4-.92-.59-1.43-.59-.52 0-1.04.2-1.43.59L10.3 9.45l-7.72 7.72c-.78.78-.78 2.05 0 2.83L4 21.41c.39.39.9.59 1.41.59.51 0 1.02-.2 1.41-.59l7.78-7.78 2.81-2.81c.8-.78.8-2.07 0-2.86zM5.41 20L4 18.59l7.72-7.72 1.47 1.35L5.41 20z\"/>\n",
              "  </svg>\n",
              "      </button>\n",
              "      \n",
              "  <style>\n",
              "    .colab-df-container {\n",
              "      display:flex;\n",
              "      flex-wrap:wrap;\n",
              "      gap: 12px;\n",
              "    }\n",
              "\n",
              "    .colab-df-convert {\n",
              "      background-color: #E8F0FE;\n",
              "      border: none;\n",
              "      border-radius: 50%;\n",
              "      cursor: pointer;\n",
              "      display: none;\n",
              "      fill: #1967D2;\n",
              "      height: 32px;\n",
              "      padding: 0 0 0 0;\n",
              "      width: 32px;\n",
              "    }\n",
              "\n",
              "    .colab-df-convert:hover {\n",
              "      background-color: #E2EBFA;\n",
              "      box-shadow: 0px 1px 2px rgba(60, 64, 67, 0.3), 0px 1px 3px 1px rgba(60, 64, 67, 0.15);\n",
              "      fill: #174EA6;\n",
              "    }\n",
              "\n",
              "    [theme=dark] .colab-df-convert {\n",
              "      background-color: #3B4455;\n",
              "      fill: #D2E3FC;\n",
              "    }\n",
              "\n",
              "    [theme=dark] .colab-df-convert:hover {\n",
              "      background-color: #434B5C;\n",
              "      box-shadow: 0px 1px 3px 1px rgba(0, 0, 0, 0.15);\n",
              "      filter: drop-shadow(0px 1px 2px rgba(0, 0, 0, 0.3));\n",
              "      fill: #FFFFFF;\n",
              "    }\n",
              "  </style>\n",
              "\n",
              "      <script>\n",
              "        const buttonEl =\n",
              "          document.querySelector('#df-d64f9d5b-d0a1-40e4-815b-d8ce997d7d50 button.colab-df-convert');\n",
              "        buttonEl.style.display =\n",
              "          google.colab.kernel.accessAllowed ? 'block' : 'none';\n",
              "\n",
              "        async function convertToInteractive(key) {\n",
              "          const element = document.querySelector('#df-d64f9d5b-d0a1-40e4-815b-d8ce997d7d50');\n",
              "          const dataTable =\n",
              "            await google.colab.kernel.invokeFunction('convertToInteractive',\n",
              "                                                     [key], {});\n",
              "          if (!dataTable) return;\n",
              "\n",
              "          const docLinkHtml = 'Like what you see? Visit the ' +\n",
              "            '<a target=\"_blank\" href=https://colab.research.google.com/notebooks/data_table.ipynb>data table notebook</a>'\n",
              "            + ' to learn more about interactive tables.';\n",
              "          element.innerHTML = '';\n",
              "          dataTable['output_type'] = 'display_data';\n",
              "          await google.colab.output.renderOutput(dataTable, element);\n",
              "          const docLink = document.createElement('div');\n",
              "          docLink.innerHTML = docLinkHtml;\n",
              "          element.appendChild(docLink);\n",
              "        }\n",
              "      </script>\n",
              "    </div>\n",
              "  </div>\n",
              "  "
            ]
          },
          "metadata": {},
          "execution_count": 53
        }
      ]
    },
    {
      "cell_type": "code",
      "source": [
        "f500_top_6[[\"country\",\"rank\"]]"
      ],
      "metadata": {
        "colab": {
          "base_uri": "https://localhost:8080/",
          "height": 235
        },
        "id": "YcCWexF8ZyiV",
        "outputId": "0c8e68e6-7b03-4865-e354-05671217ab20"
      },
      "execution_count": 54,
      "outputs": [
        {
          "output_type": "execute_result",
          "data": {
            "text/plain": [
              "                          country  rank\n",
              "Walmart                       USA     1\n",
              "State Grid                  China     2\n",
              "Sinopec Group               China     3\n",
              "China National Petroleum    China     4\n",
              "Toyota Motor                Japan     5\n",
              "Volkswagen                Germany     6"
            ],
            "text/html": [
              "\n",
              "  <div id=\"df-aa6427d9-2df6-43f2-8745-0935eb2c7b8d\">\n",
              "    <div class=\"colab-df-container\">\n",
              "      <div>\n",
              "<style scoped>\n",
              "    .dataframe tbody tr th:only-of-type {\n",
              "        vertical-align: middle;\n",
              "    }\n",
              "\n",
              "    .dataframe tbody tr th {\n",
              "        vertical-align: top;\n",
              "    }\n",
              "\n",
              "    .dataframe thead th {\n",
              "        text-align: right;\n",
              "    }\n",
              "</style>\n",
              "<table border=\"1\" class=\"dataframe\">\n",
              "  <thead>\n",
              "    <tr style=\"text-align: right;\">\n",
              "      <th></th>\n",
              "      <th>country</th>\n",
              "      <th>rank</th>\n",
              "    </tr>\n",
              "  </thead>\n",
              "  <tbody>\n",
              "    <tr>\n",
              "      <th>Walmart</th>\n",
              "      <td>USA</td>\n",
              "      <td>1</td>\n",
              "    </tr>\n",
              "    <tr>\n",
              "      <th>State Grid</th>\n",
              "      <td>China</td>\n",
              "      <td>2</td>\n",
              "    </tr>\n",
              "    <tr>\n",
              "      <th>Sinopec Group</th>\n",
              "      <td>China</td>\n",
              "      <td>3</td>\n",
              "    </tr>\n",
              "    <tr>\n",
              "      <th>China National Petroleum</th>\n",
              "      <td>China</td>\n",
              "      <td>4</td>\n",
              "    </tr>\n",
              "    <tr>\n",
              "      <th>Toyota Motor</th>\n",
              "      <td>Japan</td>\n",
              "      <td>5</td>\n",
              "    </tr>\n",
              "    <tr>\n",
              "      <th>Volkswagen</th>\n",
              "      <td>Germany</td>\n",
              "      <td>6</td>\n",
              "    </tr>\n",
              "  </tbody>\n",
              "</table>\n",
              "</div>\n",
              "      <button class=\"colab-df-convert\" onclick=\"convertToInteractive('df-aa6427d9-2df6-43f2-8745-0935eb2c7b8d')\"\n",
              "              title=\"Convert this dataframe to an interactive table.\"\n",
              "              style=\"display:none;\">\n",
              "        \n",
              "  <svg xmlns=\"http://www.w3.org/2000/svg\" height=\"24px\"viewBox=\"0 0 24 24\"\n",
              "       width=\"24px\">\n",
              "    <path d=\"M0 0h24v24H0V0z\" fill=\"none\"/>\n",
              "    <path d=\"M18.56 5.44l.94 2.06.94-2.06 2.06-.94-2.06-.94-.94-2.06-.94 2.06-2.06.94zm-11 1L8.5 8.5l.94-2.06 2.06-.94-2.06-.94L8.5 2.5l-.94 2.06-2.06.94zm10 10l.94 2.06.94-2.06 2.06-.94-2.06-.94-.94-2.06-.94 2.06-2.06.94z\"/><path d=\"M17.41 7.96l-1.37-1.37c-.4-.4-.92-.59-1.43-.59-.52 0-1.04.2-1.43.59L10.3 9.45l-7.72 7.72c-.78.78-.78 2.05 0 2.83L4 21.41c.39.39.9.59 1.41.59.51 0 1.02-.2 1.41-.59l7.78-7.78 2.81-2.81c.8-.78.8-2.07 0-2.86zM5.41 20L4 18.59l7.72-7.72 1.47 1.35L5.41 20z\"/>\n",
              "  </svg>\n",
              "      </button>\n",
              "      \n",
              "  <style>\n",
              "    .colab-df-container {\n",
              "      display:flex;\n",
              "      flex-wrap:wrap;\n",
              "      gap: 12px;\n",
              "    }\n",
              "\n",
              "    .colab-df-convert {\n",
              "      background-color: #E8F0FE;\n",
              "      border: none;\n",
              "      border-radius: 50%;\n",
              "      cursor: pointer;\n",
              "      display: none;\n",
              "      fill: #1967D2;\n",
              "      height: 32px;\n",
              "      padding: 0 0 0 0;\n",
              "      width: 32px;\n",
              "    }\n",
              "\n",
              "    .colab-df-convert:hover {\n",
              "      background-color: #E2EBFA;\n",
              "      box-shadow: 0px 1px 2px rgba(60, 64, 67, 0.3), 0px 1px 3px 1px rgba(60, 64, 67, 0.15);\n",
              "      fill: #174EA6;\n",
              "    }\n",
              "\n",
              "    [theme=dark] .colab-df-convert {\n",
              "      background-color: #3B4455;\n",
              "      fill: #D2E3FC;\n",
              "    }\n",
              "\n",
              "    [theme=dark] .colab-df-convert:hover {\n",
              "      background-color: #434B5C;\n",
              "      box-shadow: 0px 1px 3px 1px rgba(0, 0, 0, 0.15);\n",
              "      filter: drop-shadow(0px 1px 2px rgba(0, 0, 0, 0.3));\n",
              "      fill: #FFFFFF;\n",
              "    }\n",
              "  </style>\n",
              "\n",
              "      <script>\n",
              "        const buttonEl =\n",
              "          document.querySelector('#df-aa6427d9-2df6-43f2-8745-0935eb2c7b8d button.colab-df-convert');\n",
              "        buttonEl.style.display =\n",
              "          google.colab.kernel.accessAllowed ? 'block' : 'none';\n",
              "\n",
              "        async function convertToInteractive(key) {\n",
              "          const element = document.querySelector('#df-aa6427d9-2df6-43f2-8745-0935eb2c7b8d');\n",
              "          const dataTable =\n",
              "            await google.colab.kernel.invokeFunction('convertToInteractive',\n",
              "                                                     [key], {});\n",
              "          if (!dataTable) return;\n",
              "\n",
              "          const docLinkHtml = 'Like what you see? Visit the ' +\n",
              "            '<a target=\"_blank\" href=https://colab.research.google.com/notebooks/data_table.ipynb>data table notebook</a>'\n",
              "            + ' to learn more about interactive tables.';\n",
              "          element.innerHTML = '';\n",
              "          dataTable['output_type'] = 'display_data';\n",
              "          await google.colab.output.renderOutput(dataTable, element);\n",
              "          const docLink = document.createElement('div');\n",
              "          docLink.innerHTML = docLinkHtml;\n",
              "          element.appendChild(docLink);\n",
              "        }\n",
              "      </script>\n",
              "    </div>\n",
              "  </div>\n",
              "  "
            ]
          },
          "metadata": {},
          "execution_count": 54
        }
      ]
    },
    {
      "cell_type": "markdown",
      "source": [
        "this allows us to select columns rank through profits"
      ],
      "metadata": {
        "id": "7lbVGpLlam1W"
      }
    },
    {
      "cell_type": "code",
      "source": [
        "f500_top_6.loc[:,\"rank\":\"profits\"]"
      ],
      "metadata": {
        "colab": {
          "base_uri": "https://localhost:8080/",
          "height": 235
        },
        "id": "FVEpRbH2Z7nj",
        "outputId": "db616017-8b21-4f40-ce31-e774d8015b2e"
      },
      "execution_count": 59,
      "outputs": [
        {
          "output_type": "execute_result",
          "data": {
            "text/plain": [
              "                          rank  revenues  revenue_change  profits\n",
              "Walmart                      1    485873             0.8  13643.0\n",
              "State Grid                   2    315199            -4.4   9571.3\n",
              "Sinopec Group                3    267518            -9.1   1257.9\n",
              "China National Petroleum     4    262573           -12.3   1867.5\n",
              "Toyota Motor                 5    254694             7.7  16899.3\n",
              "Volkswagen                   6    240264             1.5   5937.3"
            ],
            "text/html": [
              "\n",
              "  <div id=\"df-03f46b6a-c438-4de6-afa4-debb74a4aa46\">\n",
              "    <div class=\"colab-df-container\">\n",
              "      <div>\n",
              "<style scoped>\n",
              "    .dataframe tbody tr th:only-of-type {\n",
              "        vertical-align: middle;\n",
              "    }\n",
              "\n",
              "    .dataframe tbody tr th {\n",
              "        vertical-align: top;\n",
              "    }\n",
              "\n",
              "    .dataframe thead th {\n",
              "        text-align: right;\n",
              "    }\n",
              "</style>\n",
              "<table border=\"1\" class=\"dataframe\">\n",
              "  <thead>\n",
              "    <tr style=\"text-align: right;\">\n",
              "      <th></th>\n",
              "      <th>rank</th>\n",
              "      <th>revenues</th>\n",
              "      <th>revenue_change</th>\n",
              "      <th>profits</th>\n",
              "    </tr>\n",
              "  </thead>\n",
              "  <tbody>\n",
              "    <tr>\n",
              "      <th>Walmart</th>\n",
              "      <td>1</td>\n",
              "      <td>485873</td>\n",
              "      <td>0.8</td>\n",
              "      <td>13643.0</td>\n",
              "    </tr>\n",
              "    <tr>\n",
              "      <th>State Grid</th>\n",
              "      <td>2</td>\n",
              "      <td>315199</td>\n",
              "      <td>-4.4</td>\n",
              "      <td>9571.3</td>\n",
              "    </tr>\n",
              "    <tr>\n",
              "      <th>Sinopec Group</th>\n",
              "      <td>3</td>\n",
              "      <td>267518</td>\n",
              "      <td>-9.1</td>\n",
              "      <td>1257.9</td>\n",
              "    </tr>\n",
              "    <tr>\n",
              "      <th>China National Petroleum</th>\n",
              "      <td>4</td>\n",
              "      <td>262573</td>\n",
              "      <td>-12.3</td>\n",
              "      <td>1867.5</td>\n",
              "    </tr>\n",
              "    <tr>\n",
              "      <th>Toyota Motor</th>\n",
              "      <td>5</td>\n",
              "      <td>254694</td>\n",
              "      <td>7.7</td>\n",
              "      <td>16899.3</td>\n",
              "    </tr>\n",
              "    <tr>\n",
              "      <th>Volkswagen</th>\n",
              "      <td>6</td>\n",
              "      <td>240264</td>\n",
              "      <td>1.5</td>\n",
              "      <td>5937.3</td>\n",
              "    </tr>\n",
              "  </tbody>\n",
              "</table>\n",
              "</div>\n",
              "      <button class=\"colab-df-convert\" onclick=\"convertToInteractive('df-03f46b6a-c438-4de6-afa4-debb74a4aa46')\"\n",
              "              title=\"Convert this dataframe to an interactive table.\"\n",
              "              style=\"display:none;\">\n",
              "        \n",
              "  <svg xmlns=\"http://www.w3.org/2000/svg\" height=\"24px\"viewBox=\"0 0 24 24\"\n",
              "       width=\"24px\">\n",
              "    <path d=\"M0 0h24v24H0V0z\" fill=\"none\"/>\n",
              "    <path d=\"M18.56 5.44l.94 2.06.94-2.06 2.06-.94-2.06-.94-.94-2.06-.94 2.06-2.06.94zm-11 1L8.5 8.5l.94-2.06 2.06-.94-2.06-.94L8.5 2.5l-.94 2.06-2.06.94zm10 10l.94 2.06.94-2.06 2.06-.94-2.06-.94-.94-2.06-.94 2.06-2.06.94z\"/><path d=\"M17.41 7.96l-1.37-1.37c-.4-.4-.92-.59-1.43-.59-.52 0-1.04.2-1.43.59L10.3 9.45l-7.72 7.72c-.78.78-.78 2.05 0 2.83L4 21.41c.39.39.9.59 1.41.59.51 0 1.02-.2 1.41-.59l7.78-7.78 2.81-2.81c.8-.78.8-2.07 0-2.86zM5.41 20L4 18.59l7.72-7.72 1.47 1.35L5.41 20z\"/>\n",
              "  </svg>\n",
              "      </button>\n",
              "      \n",
              "  <style>\n",
              "    .colab-df-container {\n",
              "      display:flex;\n",
              "      flex-wrap:wrap;\n",
              "      gap: 12px;\n",
              "    }\n",
              "\n",
              "    .colab-df-convert {\n",
              "      background-color: #E8F0FE;\n",
              "      border: none;\n",
              "      border-radius: 50%;\n",
              "      cursor: pointer;\n",
              "      display: none;\n",
              "      fill: #1967D2;\n",
              "      height: 32px;\n",
              "      padding: 0 0 0 0;\n",
              "      width: 32px;\n",
              "    }\n",
              "\n",
              "    .colab-df-convert:hover {\n",
              "      background-color: #E2EBFA;\n",
              "      box-shadow: 0px 1px 2px rgba(60, 64, 67, 0.3), 0px 1px 3px 1px rgba(60, 64, 67, 0.15);\n",
              "      fill: #174EA6;\n",
              "    }\n",
              "\n",
              "    [theme=dark] .colab-df-convert {\n",
              "      background-color: #3B4455;\n",
              "      fill: #D2E3FC;\n",
              "    }\n",
              "\n",
              "    [theme=dark] .colab-df-convert:hover {\n",
              "      background-color: #434B5C;\n",
              "      box-shadow: 0px 1px 3px 1px rgba(0, 0, 0, 0.15);\n",
              "      filter: drop-shadow(0px 1px 2px rgba(0, 0, 0, 0.3));\n",
              "      fill: #FFFFFF;\n",
              "    }\n",
              "  </style>\n",
              "\n",
              "      <script>\n",
              "        const buttonEl =\n",
              "          document.querySelector('#df-03f46b6a-c438-4de6-afa4-debb74a4aa46 button.colab-df-convert');\n",
              "        buttonEl.style.display =\n",
              "          google.colab.kernel.accessAllowed ? 'block' : 'none';\n",
              "\n",
              "        async function convertToInteractive(key) {\n",
              "          const element = document.querySelector('#df-03f46b6a-c438-4de6-afa4-debb74a4aa46');\n",
              "          const dataTable =\n",
              "            await google.colab.kernel.invokeFunction('convertToInteractive',\n",
              "                                                     [key], {});\n",
              "          if (!dataTable) return;\n",
              "\n",
              "          const docLinkHtml = 'Like what you see? Visit the ' +\n",
              "            '<a target=\"_blank\" href=https://colab.research.google.com/notebooks/data_table.ipynb>data table notebook</a>'\n",
              "            + ' to learn more about interactive tables.';\n",
              "          element.innerHTML = '';\n",
              "          dataTable['output_type'] = 'display_data';\n",
              "          await google.colab.output.renderOutput(dataTable, element);\n",
              "          const docLink = document.createElement('div');\n",
              "          docLink.innerHTML = docLinkHtml;\n",
              "          element.appendChild(docLink);\n",
              "        }\n",
              "      </script>\n",
              "    </div>\n",
              "  </div>\n",
              "  "
            ]
          },
          "metadata": {},
          "execution_count": 59
        }
      ]
    },
    {
      "cell_type": "code",
      "source": [
        "f500_top_6[[\"rank\",\"profits\"]]"
      ],
      "metadata": {
        "colab": {
          "base_uri": "https://localhost:8080/",
          "height": 235
        },
        "id": "sZ_R2OKDaPZV",
        "outputId": "4c555406-ecf1-4396-a09f-6900fcfb4ab7"
      },
      "execution_count": 61,
      "outputs": [
        {
          "output_type": "execute_result",
          "data": {
            "text/plain": [
              "                          rank  profits\n",
              "Walmart                      1  13643.0\n",
              "State Grid                   2   9571.3\n",
              "Sinopec Group                3   1257.9\n",
              "China National Petroleum     4   1867.5\n",
              "Toyota Motor                 5  16899.3\n",
              "Volkswagen                   6   5937.3"
            ],
            "text/html": [
              "\n",
              "  <div id=\"df-42721b68-ec10-4b16-a504-1c89f13c5970\">\n",
              "    <div class=\"colab-df-container\">\n",
              "      <div>\n",
              "<style scoped>\n",
              "    .dataframe tbody tr th:only-of-type {\n",
              "        vertical-align: middle;\n",
              "    }\n",
              "\n",
              "    .dataframe tbody tr th {\n",
              "        vertical-align: top;\n",
              "    }\n",
              "\n",
              "    .dataframe thead th {\n",
              "        text-align: right;\n",
              "    }\n",
              "</style>\n",
              "<table border=\"1\" class=\"dataframe\">\n",
              "  <thead>\n",
              "    <tr style=\"text-align: right;\">\n",
              "      <th></th>\n",
              "      <th>rank</th>\n",
              "      <th>profits</th>\n",
              "    </tr>\n",
              "  </thead>\n",
              "  <tbody>\n",
              "    <tr>\n",
              "      <th>Walmart</th>\n",
              "      <td>1</td>\n",
              "      <td>13643.0</td>\n",
              "    </tr>\n",
              "    <tr>\n",
              "      <th>State Grid</th>\n",
              "      <td>2</td>\n",
              "      <td>9571.3</td>\n",
              "    </tr>\n",
              "    <tr>\n",
              "      <th>Sinopec Group</th>\n",
              "      <td>3</td>\n",
              "      <td>1257.9</td>\n",
              "    </tr>\n",
              "    <tr>\n",
              "      <th>China National Petroleum</th>\n",
              "      <td>4</td>\n",
              "      <td>1867.5</td>\n",
              "    </tr>\n",
              "    <tr>\n",
              "      <th>Toyota Motor</th>\n",
              "      <td>5</td>\n",
              "      <td>16899.3</td>\n",
              "    </tr>\n",
              "    <tr>\n",
              "      <th>Volkswagen</th>\n",
              "      <td>6</td>\n",
              "      <td>5937.3</td>\n",
              "    </tr>\n",
              "  </tbody>\n",
              "</table>\n",
              "</div>\n",
              "      <button class=\"colab-df-convert\" onclick=\"convertToInteractive('df-42721b68-ec10-4b16-a504-1c89f13c5970')\"\n",
              "              title=\"Convert this dataframe to an interactive table.\"\n",
              "              style=\"display:none;\">\n",
              "        \n",
              "  <svg xmlns=\"http://www.w3.org/2000/svg\" height=\"24px\"viewBox=\"0 0 24 24\"\n",
              "       width=\"24px\">\n",
              "    <path d=\"M0 0h24v24H0V0z\" fill=\"none\"/>\n",
              "    <path d=\"M18.56 5.44l.94 2.06.94-2.06 2.06-.94-2.06-.94-.94-2.06-.94 2.06-2.06.94zm-11 1L8.5 8.5l.94-2.06 2.06-.94-2.06-.94L8.5 2.5l-.94 2.06-2.06.94zm10 10l.94 2.06.94-2.06 2.06-.94-2.06-.94-.94-2.06-.94 2.06-2.06.94z\"/><path d=\"M17.41 7.96l-1.37-1.37c-.4-.4-.92-.59-1.43-.59-.52 0-1.04.2-1.43.59L10.3 9.45l-7.72 7.72c-.78.78-.78 2.05 0 2.83L4 21.41c.39.39.9.59 1.41.59.51 0 1.02-.2 1.41-.59l7.78-7.78 2.81-2.81c.8-.78.8-2.07 0-2.86zM5.41 20L4 18.59l7.72-7.72 1.47 1.35L5.41 20z\"/>\n",
              "  </svg>\n",
              "      </button>\n",
              "      \n",
              "  <style>\n",
              "    .colab-df-container {\n",
              "      display:flex;\n",
              "      flex-wrap:wrap;\n",
              "      gap: 12px;\n",
              "    }\n",
              "\n",
              "    .colab-df-convert {\n",
              "      background-color: #E8F0FE;\n",
              "      border: none;\n",
              "      border-radius: 50%;\n",
              "      cursor: pointer;\n",
              "      display: none;\n",
              "      fill: #1967D2;\n",
              "      height: 32px;\n",
              "      padding: 0 0 0 0;\n",
              "      width: 32px;\n",
              "    }\n",
              "\n",
              "    .colab-df-convert:hover {\n",
              "      background-color: #E2EBFA;\n",
              "      box-shadow: 0px 1px 2px rgba(60, 64, 67, 0.3), 0px 1px 3px 1px rgba(60, 64, 67, 0.15);\n",
              "      fill: #174EA6;\n",
              "    }\n",
              "\n",
              "    [theme=dark] .colab-df-convert {\n",
              "      background-color: #3B4455;\n",
              "      fill: #D2E3FC;\n",
              "    }\n",
              "\n",
              "    [theme=dark] .colab-df-convert:hover {\n",
              "      background-color: #434B5C;\n",
              "      box-shadow: 0px 1px 3px 1px rgba(0, 0, 0, 0.15);\n",
              "      filter: drop-shadow(0px 1px 2px rgba(0, 0, 0, 0.3));\n",
              "      fill: #FFFFFF;\n",
              "    }\n",
              "  </style>\n",
              "\n",
              "      <script>\n",
              "        const buttonEl =\n",
              "          document.querySelector('#df-42721b68-ec10-4b16-a504-1c89f13c5970 button.colab-df-convert');\n",
              "        buttonEl.style.display =\n",
              "          google.colab.kernel.accessAllowed ? 'block' : 'none';\n",
              "\n",
              "        async function convertToInteractive(key) {\n",
              "          const element = document.querySelector('#df-42721b68-ec10-4b16-a504-1c89f13c5970');\n",
              "          const dataTable =\n",
              "            await google.colab.kernel.invokeFunction('convertToInteractive',\n",
              "                                                     [key], {});\n",
              "          if (!dataTable) return;\n",
              "\n",
              "          const docLinkHtml = 'Like what you see? Visit the ' +\n",
              "            '<a target=\"_blank\" href=https://colab.research.google.com/notebooks/data_table.ipynb>data table notebook</a>'\n",
              "            + ' to learn more about interactive tables.';\n",
              "          element.innerHTML = '';\n",
              "          dataTable['output_type'] = 'display_data';\n",
              "          await google.colab.output.renderOutput(dataTable, element);\n",
              "          const docLink = document.createElement('div');\n",
              "          docLink.innerHTML = docLinkHtml;\n",
              "          element.appendChild(docLink);\n",
              "        }\n",
              "      </script>\n",
              "    </div>\n",
              "  </div>\n",
              "  "
            ]
          },
          "metadata": {},
          "execution_count": 61
        }
      ]
    },
    {
      "cell_type": "code",
      "source": [
        "countries = f500_top_6[[\"country\"]]\n",
        "print(countries)"
      ],
      "metadata": {
        "colab": {
          "base_uri": "https://localhost:8080/"
        },
        "id": "byAHRscua03S",
        "outputId": "44175dde-2bd0-4720-9b17-c4dad572f813"
      },
      "execution_count": 65,
      "outputs": [
        {
          "output_type": "stream",
          "name": "stdout",
          "text": [
            "                          country\n",
            "Walmart                       USA\n",
            "State Grid                  China\n",
            "Sinopec Group               China\n",
            "China National Petroleum    China\n",
            "Toyota Motor                Japan\n",
            "Volkswagen                Germany\n"
          ]
        }
      ]
    },
    {
      "cell_type": "code",
      "source": [
        "revenue_years = f500_top_6[[\"revenues\", \"years_on_global_500_list\"]]\n",
        "print(revenue_years)"
      ],
      "metadata": {
        "colab": {
          "base_uri": "https://localhost:8080/"
        },
        "id": "ZZ3TkvesbPXp",
        "outputId": "8e7daf65-0ca6-47a1-f7dc-609793617661"
      },
      "execution_count": 66,
      "outputs": [
        {
          "output_type": "stream",
          "name": "stdout",
          "text": [
            "                          revenues  years_on_global_500_list\n",
            "Walmart                     485873                        23\n",
            "State Grid                  315199                        17\n",
            "Sinopec Group               267518                        19\n",
            "China National Petroleum    262573                        17\n",
            "Toyota Motor                254694                        23\n",
            "Volkswagen                  240264                        23\n"
          ]
        }
      ]
    },
    {
      "cell_type": "code",
      "source": [
        "ceo_to_sector = f500_top_6.loc[:,\"ceo\":\"sector\"]\n",
        "print(ceo_to_sector)"
      ],
      "metadata": {
        "colab": {
          "base_uri": "https://localhost:8080/"
        },
        "id": "rImX7n_YbhFQ",
        "outputId": "cc54ab1b-d60f-4c6e-dbb6-98726e32282e"
      },
      "execution_count": 70,
      "outputs": [
        {
          "output_type": "stream",
          "name": "stdout",
          "text": [
            "                                          ceo                  industry  \\\n",
            "Walmart                   C. Douglas McMillon     General Merchandisers   \n",
            "State Grid                            Kou Wei                 Utilities   \n",
            "Sinopec Group                       Wang Yupu        Petroleum Refining   \n",
            "China National Petroleum        Zhang Jianhua        Petroleum Refining   \n",
            "Toyota Motor                      Akio Toyoda  Motor Vehicles and Parts   \n",
            "Volkswagen                    Matthias Muller  Motor Vehicles and Parts   \n",
            "\n",
            "                                          sector  \n",
            "Walmart                                Retailing  \n",
            "State Grid                                Energy  \n",
            "Sinopec Group                             Energy  \n",
            "China National Petroleum                  Energy  \n",
            "Toyota Motor              Motor Vehicles & Parts  \n",
            "Volkswagen                Motor Vehicles & Parts  \n"
          ]
        }
      ]
    },
    {
      "cell_type": "markdown",
      "source": [
        "Using Row Label to Output all Columns\n",
        "\n",
        "this syntax works because if we do not input the columns it is treated as the column index is [:]"
      ],
      "metadata": {
        "id": "7u5CrXHjdHKc"
      }
    },
    {
      "cell_type": "code",
      "source": [
        "f500_top_6.loc[\"Walmart\"]"
      ],
      "metadata": {
        "colab": {
          "base_uri": "https://localhost:8080/"
        },
        "id": "jh4H0-r_cfs0",
        "outputId": "8056d028-d428-409a-9761-e6f51c9b48af"
      },
      "execution_count": 73,
      "outputs": [
        {
          "output_type": "execute_result",
          "data": {
            "text/plain": [
              "rank                                             1\n",
              "revenues                                    485873\n",
              "revenue_change                                 0.8\n",
              "profits                                    13643.0\n",
              "assets                                      198825\n",
              "profit_change                                 -7.2\n",
              "ceo                            C. Douglas McMillon\n",
              "industry                     General Merchandisers\n",
              "sector                                   Retailing\n",
              "previous_rank                                    1\n",
              "country                                        USA\n",
              "hq_location                        Bentonville, AR\n",
              "website                     http://www.walmart.com\n",
              "years_on_global_500_list                        23\n",
              "employees                                  2300000\n",
              "total_stockholder_equity                     77798\n",
              "Name: Walmart, dtype: object"
            ]
          },
          "metadata": {},
          "execution_count": 73
        }
      ]
    },
    {
      "cell_type": "code",
      "source": [
        "f500_top_6.loc[\"Toyota Motor\", :]"
      ],
      "metadata": {
        "colab": {
          "base_uri": "https://localhost:8080/"
        },
        "id": "QBLAo5X8dBLq",
        "outputId": "b128f973-b141-40ff-a5e7-d2360f0c4f9b"
      },
      "execution_count": 77,
      "outputs": [
        {
          "output_type": "execute_result",
          "data": {
            "text/plain": [
              "rank                                                   5\n",
              "revenues                                          254694\n",
              "revenue_change                                       7.7\n",
              "profits                                          16899.3\n",
              "assets                                            437575\n",
              "profit_change                                      -12.3\n",
              "ceo                                          Akio Toyoda\n",
              "industry                        Motor Vehicles and Parts\n",
              "sector                            Motor Vehicles & Parts\n",
              "previous_rank                                          8\n",
              "country                                            Japan\n",
              "hq_location                                Toyota, Japan\n",
              "website                     http://www.toyota-global.com\n",
              "years_on_global_500_list                              23\n",
              "employees                                         364445\n",
              "total_stockholder_equity                          157210\n",
              "Name: Toyota Motor, dtype: object"
            ]
          },
          "metadata": {},
          "execution_count": 77
        }
      ]
    },
    {
      "cell_type": "code",
      "source": [
        "f500_top_6.loc[\"Sinopec Group\"]"
      ],
      "metadata": {
        "colab": {
          "base_uri": "https://localhost:8080/"
        },
        "id": "SNmyFPT7dFT3",
        "outputId": "0d9df68b-4c2e-401e-9988-f6bf32fcd838"
      },
      "execution_count": 78,
      "outputs": [
        {
          "output_type": "execute_result",
          "data": {
            "text/plain": [
              "rank                                             3\n",
              "revenues                                    267518\n",
              "revenue_change                                -9.1\n",
              "profits                                     1257.9\n",
              "assets                                      310726\n",
              "profit_change                                -65.0\n",
              "ceo                                      Wang Yupu\n",
              "industry                        Petroleum Refining\n",
              "sector                                      Energy\n",
              "previous_rank                                    4\n",
              "country                                      China\n",
              "hq_location                         Beijing, China\n",
              "website                     http://www.sinopec.com\n",
              "years_on_global_500_list                        19\n",
              "employees                                   713288\n",
              "total_stockholder_equity                    106523\n",
              "Name: Sinopec Group, dtype: object"
            ]
          },
          "metadata": {},
          "execution_count": 78
        }
      ]
    },
    {
      "cell_type": "code",
      "source": [
        "single_row = f500_top_6.loc[\"Sinopec Group\"]\n",
        "print(type(single_row))\n",
        "print(single_row)"
      ],
      "metadata": {
        "colab": {
          "base_uri": "https://localhost:8080/"
        },
        "id": "sSDyxo5Hfwcd",
        "outputId": "8a66aad4-1120-47aa-b4ad-b0fa512f108f"
      },
      "execution_count": 79,
      "outputs": [
        {
          "output_type": "stream",
          "name": "stdout",
          "text": [
            "<class 'pandas.core.series.Series'>\n",
            "rank                                             3\n",
            "revenues                                    267518\n",
            "revenue_change                                -9.1\n",
            "profits                                     1257.9\n",
            "assets                                      310726\n",
            "profit_change                                -65.0\n",
            "ceo                                      Wang Yupu\n",
            "industry                        Petroleum Refining\n",
            "sector                                      Energy\n",
            "previous_rank                                    4\n",
            "country                                      China\n",
            "hq_location                         Beijing, China\n",
            "website                     http://www.sinopec.com\n",
            "years_on_global_500_list                        19\n",
            "employees                                   713288\n",
            "total_stockholder_equity                    106523\n",
            "Name: Sinopec Group, dtype: object\n"
          ]
        }
      ]
    },
    {
      "cell_type": "markdown",
      "source": [
        "Selecting specific row values with all columns"
      ],
      "metadata": {
        "id": "hxCZt-Z7hW8k"
      }
    },
    {
      "cell_type": "code",
      "source": [
        "list_rows = f500_top_6.loc[[\"Toyota Motor\", \"Walmart\"]]\n",
        "print(type(list_rows))\n",
        "print(list_rows)"
      ],
      "metadata": {
        "colab": {
          "base_uri": "https://localhost:8080/"
        },
        "id": "j9W2k0mqf3cg",
        "outputId": "56254d70-e57d-4505-8a95-a712f6494f8b"
      },
      "execution_count": 83,
      "outputs": [
        {
          "output_type": "stream",
          "name": "stdout",
          "text": [
            "<class 'pandas.core.frame.DataFrame'>\n",
            "              rank  revenues  revenue_change  profits  assets  profit_change  \\\n",
            "Toyota Motor     5    254694             7.7  16899.3  437575          -12.3   \n",
            "Walmart          1    485873             0.8  13643.0  198825           -7.2   \n",
            "\n",
            "                              ceo                  industry  \\\n",
            "Toyota Motor          Akio Toyoda  Motor Vehicles and Parts   \n",
            "Walmart       C. Douglas McMillon     General Merchandisers   \n",
            "\n",
            "                              sector  previous_rank country      hq_location  \\\n",
            "Toyota Motor  Motor Vehicles & Parts              8   Japan    Toyota, Japan   \n",
            "Walmart                    Retailing              1     USA  Bentonville, AR   \n",
            "\n",
            "                                   website  years_on_global_500_list  \\\n",
            "Toyota Motor  http://www.toyota-global.com                        23   \n",
            "Walmart             http://www.walmart.com                        23   \n",
            "\n",
            "              employees  total_stockholder_equity  \n",
            "Toyota Motor     364445                    157210  \n",
            "Walmart         2300000                     77798  \n"
          ]
        }
      ]
    },
    {
      "cell_type": "markdown",
      "source": [
        "selecting a range of rows with all columns"
      ],
      "metadata": {
        "id": "n-6XS97OhVOV"
      }
    },
    {
      "cell_type": "code",
      "source": [
        "slice_rows = f500_top_6[\"State Grid\":\"Toyota Motor\"]\n",
        "print(type(slice_rows))\n",
        "print(slice_rows)"
      ],
      "metadata": {
        "colab": {
          "base_uri": "https://localhost:8080/"
        },
        "id": "XGOVmfKjgS7s",
        "outputId": "6e2ee2c5-ea02-45ae-f84f-a52981e36e0a"
      },
      "execution_count": 89,
      "outputs": [
        {
          "output_type": "stream",
          "name": "stdout",
          "text": [
            "<class 'pandas.core.frame.DataFrame'>\n",
            "                          rank  revenues  revenue_change  profits  assets  \\\n",
            "State Grid                   2    315199            -4.4   9571.3  489838   \n",
            "Sinopec Group                3    267518            -9.1   1257.9  310726   \n",
            "China National Petroleum     4    262573           -12.3   1867.5  585619   \n",
            "Toyota Motor                 5    254694             7.7  16899.3  437575   \n",
            "\n",
            "                          profit_change            ceo  \\\n",
            "State Grid                         -6.2        Kou Wei   \n",
            "Sinopec Group                     -65.0      Wang Yupu   \n",
            "China National Petroleum          -73.7  Zhang Jianhua   \n",
            "Toyota Motor                      -12.3    Akio Toyoda   \n",
            "\n",
            "                                          industry                  sector  \\\n",
            "State Grid                               Utilities                  Energy   \n",
            "Sinopec Group                   Petroleum Refining                  Energy   \n",
            "China National Petroleum        Petroleum Refining                  Energy   \n",
            "Toyota Motor              Motor Vehicles and Parts  Motor Vehicles & Parts   \n",
            "\n",
            "                          previous_rank country     hq_location  \\\n",
            "State Grid                            2   China  Beijing, China   \n",
            "Sinopec Group                         4   China  Beijing, China   \n",
            "China National Petroleum              3   China  Beijing, China   \n",
            "Toyota Motor                          8   Japan   Toyota, Japan   \n",
            "\n",
            "                                               website  \\\n",
            "State Grid                      http://www.sgcc.com.cn   \n",
            "Sinopec Group                   http://www.sinopec.com   \n",
            "China National Petroleum        http://www.cnpc.com.cn   \n",
            "Toyota Motor              http://www.toyota-global.com   \n",
            "\n",
            "                          years_on_global_500_list  employees  \\\n",
            "State Grid                                      17     926067   \n",
            "Sinopec Group                                   19     713288   \n",
            "China National Petroleum                        17    1512048   \n",
            "Toyota Motor                                    23     364445   \n",
            "\n",
            "                          total_stockholder_equity  \n",
            "State Grid                                  209456  \n",
            "Sinopec Group                               106523  \n",
            "China National Petroleum                    301893  \n",
            "Toyota Motor                                157210  \n"
          ]
        }
      ]
    },
    {
      "cell_type": "markdown",
      "source": [
        "Shortcut syntax only works if we are selecting specific rows or columns and we are more likely to select specific columns than rows, regardless if we are selecting specific rows and columns we need to use \".loc\"\n",
        "\n",
        "Select by Label\tExplicit Syntax\tCommon Shorthand\n",
        "\n",
        "Single row\tdf.loc[\"row1\"]\tNone\n",
        "\n",
        "List of rows\tdf.loc[[\"row1\", \"row5\"]]\tNone\n",
        "\n",
        "Slice of rows\tdf.loc[\"row1\":\"row5\"]\tdf[\"row1\":\"row5\"]"
      ],
      "metadata": {
        "id": "SY2b_9WOiF6Q"
      }
    },
    {
      "cell_type": "code",
      "source": [
        "toyota = f500_top_6.loc[\"Toyota Motor\"]\n",
        "print(type(toyota))"
      ],
      "metadata": {
        "colab": {
          "base_uri": "https://localhost:8080/"
        },
        "id": "CyfK6v8tgz5h",
        "outputId": "3ea8afb0-41df-4108-fe04-fd96a485ef19"
      },
      "execution_count": 94,
      "outputs": [
        {
          "output_type": "stream",
          "name": "stdout",
          "text": [
            "<class 'pandas.core.series.Series'>\n"
          ]
        }
      ]
    },
    {
      "cell_type": "code",
      "source": [
        "drink_companies = f500.loc[[\"Anheuser-Busch InBev\", \"Coca-Cola\", \"Heineken Holding\"]]\n",
        "print(type(drink_companies))"
      ],
      "metadata": {
        "colab": {
          "base_uri": "https://localhost:8080/"
        },
        "id": "lLT_ZcARihd0",
        "outputId": "3e5988b4-c057-4fe5-9eec-e52fdfdeb6ad"
      },
      "execution_count": 104,
      "outputs": [
        {
          "output_type": "stream",
          "name": "stdout",
          "text": [
            "<class 'pandas.core.frame.DataFrame'>\n"
          ]
        }
      ]
    },
    {
      "cell_type": "code",
      "source": [
        "drink_companies = f500.loc[[\"Anheuser-Busch InBev\", \"Coca-Cola\", \"Heineken Holding\"]]\n",
        "print(drink_companies)"
      ],
      "metadata": {
        "colab": {
          "base_uri": "https://localhost:8080/"
        },
        "id": "pfR1Atjli7Jv",
        "outputId": "e6171397-633d-48c7-efcb-0fe41d37c0df"
      },
      "execution_count": 99,
      "outputs": [
        {
          "output_type": "stream",
          "name": "stdout",
          "text": [
            "                      rank  revenues  revenue_change  profits  assets  \\\n",
            "Anheuser-Busch InBev   206     45905             5.3   1241.0  258381   \n",
            "Coca-Cola              235     41863            -5.5   6527.0   87270   \n",
            "Heineken Holding       468     23044            -0.7    861.5   41469   \n",
            "\n",
            "                      profit_change                        ceo   industry  \\\n",
            "Anheuser-Busch InBev          -85.0               Carlos Brito  Beverages   \n",
            "Coca-Cola                     -11.2           James B. Quincey  Beverages   \n",
            "Heineken Holding              -18.9  Jean-Francois van Boxmeer  Beverages   \n",
            "\n",
            "                                         sector  previous_rank      country  \\\n",
            "Anheuser-Busch InBev  Food, Beverages & Tobacco            211      Belgium   \n",
            "Coca-Cola             Food, Beverages & Tobacco            206          USA   \n",
            "Heineken Holding      Food, Beverages & Tobacco            459  Netherlands   \n",
            "\n",
            "                                 hq_location  \\\n",
            "Anheuser-Busch InBev         Leuven, Belgium   \n",
            "Coca-Cola                        Atlanta, GA   \n",
            "Heineken Holding      Amsterdam, Netherlands   \n",
            "\n",
            "                                                website  \\\n",
            "Anheuser-Busch InBev            http://www.ab-inbev.com   \n",
            "Coca-Cola               http://www.coca-colacompany.com   \n",
            "Heineken Holding      http://www.theheinekencompany.com   \n",
            "\n",
            "                      years_on_global_500_list  employees  \\\n",
            "Anheuser-Busch InBev                        12     206633   \n",
            "Coca-Cola                                   23     100300   \n",
            "Heineken Holding                            11      73525   \n",
            "\n",
            "                      total_stockholder_equity  \n",
            "Anheuser-Busch InBev                     71339  \n",
            "Coca-Cola                                23062  \n",
            "Heineken Holding                          6958  \n"
          ]
        }
      ]
    },
    {
      "cell_type": "markdown",
      "source": [
        "Since we are printing an inclusive range now of rows we do not need to use a double bracket [[ as we do when we are selecting a list of rows"
      ],
      "metadata": {
        "id": "__b1wugikDjt"
      }
    },
    {
      "cell_type": "code",
      "source": [
        "middle_companies = f500.loc[\"Tata Motors\":\"Nationwide\"]\n",
        "print(middle_companies)"
      ],
      "metadata": {
        "colab": {
          "base_uri": "https://localhost:8080/"
        },
        "id": "bQxkMdUyjTbO",
        "outputId": "512664b9-8bc8-4642-e42c-70adf18a6b5e"
      },
      "execution_count": 108,
      "outputs": [
        {
          "output_type": "stream",
          "name": "stdout",
          "text": [
            "                                 rank  revenues  revenue_change  profits  \\\n",
            "Tata Motors                       247     40329            -4.2   1111.6   \n",
            "Aluminum Corp. of China           248     40278             6.0   -282.5   \n",
            "Mitsui                            249     40275             1.6   2825.3   \n",
            "Manulife Financial                250     40238            49.4   2209.7   \n",
            "China Minsheng Banking            251     40234            -5.2   7201.6   \n",
            "China Pacific Insurance (Group)   252     40193             2.2   1814.9   \n",
            "American Airlines Group           253     40180            -2.0   2676.0   \n",
            "Nationwide                        254     40074            -0.4    334.3   \n",
            "\n",
            "                                 assets  profit_change                   ceo  \\\n",
            "Tata Motors                       42162          -34.0      Guenter Butschek   \n",
            "Aluminum Corp. of China           75089            NaN              Yu Dehui   \n",
            "Mitsui                           103231            NaN       Tatsuo Yasunaga   \n",
            "Manulife Financial               537461           28.9     Donald A. Guloien   \n",
            "China Minsheng Banking           848389           -1.8         Zheng Wanchun   \n",
            "China Pacific Insurance (Group)  146873          -35.7          Huo Lianhong   \n",
            "American Airlines Group           51274          -64.8     W. Douglas Parker   \n",
            "Nationwide                       197790          -42.4  Stephen S. Rasmussen   \n",
            "\n",
            "                                                                  industry  \\\n",
            "Tata Motors                                       Motor Vehicles and Parts   \n",
            "Aluminum Corp. of China                                             Metals   \n",
            "Mitsui                                                             Trading   \n",
            "Manulife Financial                         Insurance: Life, Health (stock)   \n",
            "China Minsheng Banking                       Banks: Commercial and Savings   \n",
            "China Pacific Insurance (Group)            Insurance: Life, Health (stock)   \n",
            "American Airlines Group                                           Airlines   \n",
            "Nationwide                       Insurance: Property and Casualty (Mutual)   \n",
            "\n",
            "                                                 sector  previous_rank  \\\n",
            "Tata Motors                      Motor Vehicles & Parts            226   \n",
            "Aluminum Corp. of China                       Materials            262   \n",
            "Mitsui                                      Wholesalers            245   \n",
            "Manulife Financial                           Financials            394   \n",
            "China Minsheng Banking                       Financials            221   \n",
            "China Pacific Insurance (Group)              Financials            251   \n",
            "American Airlines Group                  Transportation            236   \n",
            "Nationwide                                   Financials            241   \n",
            "\n",
            "                                country               hq_location  \\\n",
            "Tata Motors                       India             Mumbai, India   \n",
            "Aluminum Corp. of China           China            Beijing, China   \n",
            "Mitsui                            Japan              Tokyo, Japan   \n",
            "Manulife Financial               Canada  Toronto, Ontario, Canada   \n",
            "China Minsheng Banking            China            Beijing, China   \n",
            "China Pacific Insurance (Group)   China           Shanghai, China   \n",
            "American Airlines Group             USA            Fort Worth, TX   \n",
            "Nationwide                          USA              Columbus, OH   \n",
            "\n",
            "                                                   website  \\\n",
            "Tata Motors                      http://www.tatamotors.com   \n",
            "Aluminum Corp. of China           http://www.chalco.com.cn   \n",
            "Mitsui                               http://www.mitsui.com   \n",
            "Manulife Financial                 http://www.manulife.com   \n",
            "China Minsheng Banking              http://www.cmbc.com.cn   \n",
            "China Pacific Insurance (Group)     http://www.cpic.com.cn   \n",
            "American Airlines Group                  http://www.aa.com   \n",
            "Nationwide                       http://www.nationwide.com   \n",
            "\n",
            "                                 years_on_global_500_list  employees  \\\n",
            "Tata Motors                                             8      79558   \n",
            "Aluminum Corp. of China                                10     121146   \n",
            "Mitsui                                                 23      42316   \n",
            "Manulife Financial                                     15      34500   \n",
            "China Minsheng Banking                                  5      58720   \n",
            "China Pacific Insurance (Group)                         7      97032   \n",
            "American Airlines Group                                23     122300   \n",
            "Nationwide                                             23      34320   \n",
            "\n",
            "                                 total_stockholder_equity  \n",
            "Tata Motors                                          8942  \n",
            "Aluminum Corp. of China                              2669  \n",
            "Mitsui                                              33500  \n",
            "Manulife Financial                                  31197  \n",
            "China Minsheng Banking                              49297  \n",
            "China Pacific Insurance (Group)                     18960  \n",
            "American Airlines Group                              3785  \n",
            "Nationwide                                          15537  \n"
          ]
        }
      ]
    },
    {
      "cell_type": "markdown",
      "source": [
        "Value count functionality in series (1d) using .value_count method\n",
        "The output is automatically returned in descinding value for highest value counts"
      ],
      "metadata": {
        "id": "ODcnfqY8lYjN"
      }
    },
    {
      "cell_type": "code",
      "source": [
        "sectors = f500[\"sector\"]\n",
        "print(type(sectors))"
      ],
      "metadata": {
        "colab": {
          "base_uri": "https://localhost:8080/"
        },
        "id": "q4P6BlIwjwJt",
        "outputId": "74b52303-f926-4396-891a-02f7e8972923"
      },
      "execution_count": 109,
      "outputs": [
        {
          "output_type": "stream",
          "name": "stdout",
          "text": [
            "<class 'pandas.core.series.Series'>\n"
          ]
        }
      ]
    },
    {
      "cell_type": "code",
      "source": [
        "sectors_value_counts = sectors.value_counts()\n",
        "print(sectors_value_counts)"
      ],
      "metadata": {
        "colab": {
          "base_uri": "https://localhost:8080/"
        },
        "id": "7yGU-_rvk2sh",
        "outputId": "6c4f1958-75b6-4aec-8f66-6d964e10e69b"
      },
      "execution_count": 111,
      "outputs": [
        {
          "output_type": "stream",
          "name": "stdout",
          "text": [
            "Financials                       118\n",
            "Energy                            80\n",
            "Technology                        44\n",
            "Motor Vehicles & Parts            34\n",
            "Wholesalers                       28\n",
            "Health Care                       27\n",
            "Food & Drug Stores                20\n",
            "Transportation                    19\n",
            "Telecommunications                18\n",
            "Retailing                         17\n",
            "Food, Beverages & Tobacco         16\n",
            "Materials                         16\n",
            "Industrials                       15\n",
            "Aerospace & Defense               14\n",
            "Engineering & Construction        13\n",
            "Chemicals                          7\n",
            "Household Products                 3\n",
            "Media                              3\n",
            "Hotels, Restaurants & Leisure      3\n",
            "Business Services                  3\n",
            "Apparel                            2\n",
            "Name: sector, dtype: int64\n"
          ]
        }
      ]
    },
    {
      "cell_type": "code",
      "source": [
        "countries = f500[\"country\"]\n",
        "countries_value_count = countries.value_counts()\n",
        "print(countries_value_count)"
      ],
      "metadata": {
        "colab": {
          "base_uri": "https://localhost:8080/"
        },
        "id": "UeJ6c3Kuk7-D",
        "outputId": "3c0f3bd4-a057-4197-af65-99da131b3cf5"
      },
      "execution_count": 115,
      "outputs": [
        {
          "output_type": "stream",
          "name": "stdout",
          "text": [
            "USA             132\n",
            "China           109\n",
            "Japan            51\n",
            "Germany          29\n",
            "France           29\n",
            "Britain          24\n",
            "South Korea      15\n",
            "Netherlands      14\n",
            "Switzerland      14\n",
            "Canada           11\n",
            "Spain             9\n",
            "Australia         7\n",
            "Brazil            7\n",
            "India             7\n",
            "Italy             7\n",
            "Taiwan            6\n",
            "Russia            4\n",
            "Ireland           4\n",
            "Singapore         3\n",
            "Sweden            3\n",
            "Mexico            2\n",
            "Malaysia          1\n",
            "Thailand          1\n",
            "Belgium           1\n",
            "Norway            1\n",
            "Luxembourg        1\n",
            "Indonesia         1\n",
            "Denmark           1\n",
            "Saudi Arabia      1\n",
            "Finland           1\n",
            "Venezuela         1\n",
            "Turkey            1\n",
            "U.A.E             1\n",
            "Israel            1\n",
            "Name: country, dtype: int64\n"
          ]
        }
      ]
    },
    {
      "cell_type": "markdown",
      "source": [
        "Now we are seeing value country functionality with a dataframe (not a series that is 1d) we are including the sector and industry columns for all rows in our fortune 500 global data set"
      ],
      "metadata": {
        "id": "58EhfDedmBy3"
      }
    },
    {
      "cell_type": "code",
      "source": [
        "sector_industries = f500[[\"sector\", \"industry\"]]\n",
        "print(type(sector_industries))"
      ],
      "metadata": {
        "colab": {
          "base_uri": "https://localhost:8080/"
        },
        "id": "Gq6-NBjJlNHe",
        "outputId": "a9292243-8252-49f2-a498-36ed0bffa12e"
      },
      "execution_count": 116,
      "outputs": [
        {
          "output_type": "stream",
          "name": "stdout",
          "text": [
            "<class 'pandas.core.frame.DataFrame'>\n"
          ]
        }
      ]
    },
    {
      "cell_type": "markdown",
      "source": [
        "the resulting output looks different because the value count method returns a series object that uses a multiindex instead of a single index like in the series.\n",
        "The counts returned are based on a combination of unique non-null values found in both the sector and industry columns"
      ],
      "metadata": {
        "id": "gTk21nuPmWfS"
      }
    },
    {
      "cell_type": "code",
      "source": [
        "si_value_counts = sector_industries.value_counts()\n",
        "print(si_value_counts)"
      ],
      "metadata": {
        "colab": {
          "base_uri": "https://localhost:8080/"
        },
        "id": "zvWosU7sl0fK",
        "outputId": "a89e9ffb-a876-40ad-b2bb-cfba425cb96d"
      },
      "execution_count": 118,
      "outputs": [
        {
          "output_type": "stream",
          "name": "stdout",
          "text": [
            "sector                         industry                                      \n",
            "Financials                     Banks: Commercial and Savings                     51\n",
            "Motor Vehicles & Parts         Motor Vehicles and Parts                          34\n",
            "Energy                         Petroleum Refining                                28\n",
            "Financials                     Insurance: Life, Health (stock)                   24\n",
            "Food & Drug Stores             Food and Drug Stores                              20\n",
            "Energy                         Mining, Crude-Oil Production                      18\n",
            "Financials                     Insurance: Property and Casualty (Stock)          18\n",
            "Telecommunications             Telecommunications                                18\n",
            "Energy                         Utilities                                         18\n",
            "Wholesalers                    Trading                                           15\n",
            "Health Care                    Pharmaceuticals                                   15\n",
            "Aerospace & Defense            Aerospace and Defense                             14\n",
            "Engineering & Construction     Engineering, Construction                         13\n",
            "Technology                     Electronics, Electrical Equip.                    13\n",
            "Energy                         Energy                                            12\n",
            "Materials                      Metals                                            12\n",
            "Retailing                      Specialty Retailers                               10\n",
            "Industrials                    Industrial Machinery                              10\n",
            "Financials                     Insurance: Life, Health (Mutual)                   9\n",
            "Technology                     Computers, Office Equipment                        8\n",
            "Transportation                 Airlines                                           8\n",
            "Financials                     Diversified Financials                             8\n",
            "Food, Beverages & Tobacco      Food Production                                    7\n",
            "Retailing                      General Merchandisers                              7\n",
            "Chemicals                      Chemicals                                          7\n",
            "Technology                     Internet Services and Retailing                    6\n",
            "Transportation                 Mail, Package, and Freight Delivery                6\n",
            "Wholesalers                    Wholesalers: Health Care                           6\n",
            "Financials                     Real estate                                        6\n",
            "Health Care                    Health Care: Insurance and Managed Care            6\n",
            "Technology                     Semiconductors and Other Electronic Components     5\n",
            "                               Information Technology Services                    5\n",
            "Food, Beverages & Tobacco      Food Consumer Products                             5\n",
            "Materials                      Building Materials, Glass                          4\n",
            "Technology                     Network and Other Communications Equipment         4\n",
            "                               Computer Software                                  3\n",
            "Wholesalers                    Wholesalers: Food and Grocery                      3\n",
            "                               Wholesalers: Electronics and Office Equipment      3\n",
            "Transportation                 Railroads                                          3\n",
            "Energy                         Pipelines                                          3\n",
            "Food, Beverages & Tobacco      Beverages                                          3\n",
            "Hotels, Restaurants & Leisure  Food Services                                      3\n",
            "Media                          Entertainment                                      3\n",
            "Household Products             Household and Personal Products                    3\n",
            "Apparel                        Apparel                                            2\n",
            "Financials                     Insurance: Property and Casualty (Mutual)          2\n",
            "Health Care                    Health Care: Medical Facilities                    2\n",
            "Industrials                    Textiles                                           2\n",
            "Health Care                    Health Care: Pharmacy and Other Services           2\n",
            "Transportation                 Shipping                                           2\n",
            "Business Services              Temporary Help                                     2\n",
            "Industrials                    Construction and Farm Machinery                    2\n",
            "Health Care                    Medical Products and Equipment                     2\n",
            "Food, Beverages & Tobacco      Tobacco                                            1\n",
            "Industrials                    Miscellaneous                                      1\n",
            "Energy                         Oil & Gas Equipment Services                       1\n",
            "Business Services              Travel Services                                    1\n",
            "Wholesalers                    Wholesalers: Diversified                           1\n",
            "dtype: int64\n"
          ]
        }
      ]
    },
    {
      "cell_type": "code",
      "source": [
        "countries = f500[\"country\"]\n",
        "country_counts = countries.value_counts()\n",
        "print(country_counts)\n",
        "top_country = \"USA\""
      ],
      "metadata": {
        "colab": {
          "base_uri": "https://localhost:8080/"
        },
        "id": "O7EGvYjAl7ty",
        "outputId": "5f69be0a-af4e-40bb-cec2-cdb1aa3a435d"
      },
      "execution_count": 121,
      "outputs": [
        {
          "output_type": "stream",
          "name": "stdout",
          "text": [
            "USA             132\n",
            "China           109\n",
            "Japan            51\n",
            "Germany          29\n",
            "France           29\n",
            "Britain          24\n",
            "South Korea      15\n",
            "Netherlands      14\n",
            "Switzerland      14\n",
            "Canada           11\n",
            "Spain             9\n",
            "Australia         7\n",
            "Brazil            7\n",
            "India             7\n",
            "Italy             7\n",
            "Taiwan            6\n",
            "Russia            4\n",
            "Ireland           4\n",
            "Singapore         3\n",
            "Sweden            3\n",
            "Mexico            2\n",
            "Malaysia          1\n",
            "Thailand          1\n",
            "Belgium           1\n",
            "Norway            1\n",
            "Luxembourg        1\n",
            "Indonesia         1\n",
            "Denmark           1\n",
            "Saudi Arabia      1\n",
            "Finland           1\n",
            "Venezuela         1\n",
            "Turkey            1\n",
            "U.A.E             1\n",
            "Israel            1\n",
            "Name: country, dtype: int64\n"
          ]
        }
      ]
    },
    {
      "cell_type": "code",
      "source": [
        "hq_locations = f500[\"hq_location\"]\n",
        "hql_counts = hq_locations.value_counts()\n",
        "print(hql_counts)\n",
        "top_hq_city = \"Beijing\""
      ],
      "metadata": {
        "colab": {
          "base_uri": "https://localhost:8080/"
        },
        "id": "QP4IecabnE9c",
        "outputId": "2c40f25e-6a2c-4a26-ec7d-54649e62bc24"
      },
      "execution_count": 123,
      "outputs": [
        {
          "output_type": "stream",
          "name": "stdout",
          "text": [
            "Beijing, China         56\n",
            "Tokyo, Japan           36\n",
            "Paris, France          17\n",
            "New York, NY           15\n",
            "London, Britain        14\n",
            "                       ..\n",
            "Bangkok, Thailand       1\n",
            "Midland, MI             1\n",
            "Perth, Australia        1\n",
            "Leuven, Belgium         1\n",
            "Fort Lauderdale, FL     1\n",
            "Name: hq_location, Length: 235, dtype: int64\n"
          ]
        }
      ]
    },
    {
      "cell_type": "markdown",
      "source": [
        "Selecting the count for a single item or items rather than outputting the count for everything in a column or columns"
      ],
      "metadata": {
        "id": "kce_Z6IYqiw6"
      }
    },
    {
      "cell_type": "code",
      "source": [
        "countries = f500[\"country\"]\n",
        "country_counts = countries.value_counts()\n",
        "india = country_counts[\"India\"]\n",
        "print(india)"
      ],
      "metadata": {
        "colab": {
          "base_uri": "https://localhost:8080/"
        },
        "id": "3QK8UssWnffP",
        "outputId": "be8971b4-4cb6-4649-ece7-b3484cf205a7"
      },
      "execution_count": 125,
      "outputs": [
        {
          "output_type": "stream",
          "name": "stdout",
          "text": [
            "7\n"
          ]
        }
      ]
    },
    {
      "cell_type": "code",
      "source": [
        "north_america = country_counts[[\"USA\", \"Canada\", \"Mexico\"]]\n",
        "print(north_america)"
      ],
      "metadata": {
        "colab": {
          "base_uri": "https://localhost:8080/"
        },
        "id": "tSAB79TJqr3s",
        "outputId": "cd5a087c-ed36-4ba2-e382-45d9923c98bd"
      },
      "execution_count": 127,
      "outputs": [
        {
          "output_type": "stream",
          "name": "stdout",
          "text": [
            "USA       132\n",
            "Canada     11\n",
            "Mexico      2\n",
            "Name: country, dtype: int64\n"
          ]
        }
      ]
    },
    {
      "cell_type": "code",
      "source": [
        "print(type(north_america))"
      ],
      "metadata": {
        "colab": {
          "base_uri": "https://localhost:8080/"
        },
        "id": "etFJlFfJq8IX",
        "outputId": "f348dc13-ac49-4664-be27-c098d7e729b6"
      },
      "execution_count": 128,
      "outputs": [
        {
          "output_type": "stream",
          "name": "stdout",
          "text": [
            "<class 'pandas.core.series.Series'>\n"
          ]
        }
      ]
    },
    {
      "cell_type": "code",
      "source": [
        "japan_to_spain = country_counts[\"Japan\":\"Spain\"]\n",
        "print(type(japan_to_spain))"
      ],
      "metadata": {
        "colab": {
          "base_uri": "https://localhost:8080/"
        },
        "id": "Dy0f2X3vrFbA",
        "outputId": "b500ee6f-cc99-4a8d-98e2-753a4788ec67"
      },
      "execution_count": 130,
      "outputs": [
        {
          "output_type": "stream",
          "name": "stdout",
          "text": [
            "<class 'pandas.core.series.Series'>\n"
          ]
        }
      ]
    },
    {
      "cell_type": "code",
      "source": [
        "print(japan_to_spain)"
      ],
      "metadata": {
        "colab": {
          "base_uri": "https://localhost:8080/"
        },
        "id": "ECG1kfsYrXga",
        "outputId": "55660fda-32ec-4f78-e0b9-95359aba6e61"
      },
      "execution_count": 131,
      "outputs": [
        {
          "output_type": "stream",
          "name": "stdout",
          "text": [
            "Japan          51\n",
            "Germany        29\n",
            "France         29\n",
            "Britain        24\n",
            "South Korea    15\n",
            "Netherlands    14\n",
            "Switzerland    14\n",
            "Canada         11\n",
            "Spain           9\n",
            "Name: country, dtype: int64\n"
          ]
        }
      ]
    },
    {
      "cell_type": "markdown",
      "source": [
        "Select by Label\tExplicit Syntax\tCommon Shorthand\n",
        "\n",
        "Single column from DataFrame\tdf.loc[:, \"col1\"]\tdf[\"col1\"]\n",
        "\n",
        "List of columns from DataFrame\tdf.loc[:, [\"col1\", \"col7\"]]\tdf[[\"col1\", \"col7\"]]\n",
        "\n",
        "Slice of columns from DataFrame\tdf.loc[:, \"col1\":\"col4\"]\tNone\n",
        "\n",
        "Single row from DataFrame\tdf.loc[\"row1\"]\tNone\n",
        "\n",
        "List of rows from DataFrame\tdf.loc[[\"row1\", \"row5\"]]\tNone\n",
        "\n",
        "Slice of rows from DataFrame\tdf.loc[\"row1\":\"row5\"]\tdf[\"row1\":\"row5\"]\n",
        "\n",
        "Single item from Series\ts.loc[\"item8\"]\ts[\"item8\"]\n",
        "\n",
        "List of items from Series\ts.loc[[\"item1\", \"item7\"]]\ts[[\"item1\", \"item7\"]]\n",
        "\n",
        "Slice of items from Series\ts.loc[\"item2\":\"item4\"]\ts[\"item2\":\"item4\"]"
      ],
      "metadata": {
        "id": "-j6mK7SDtDIx"
      }
    },
    {
      "cell_type": "code",
      "source": [
        "big_movers = f500.loc[[\"Aviva\", \"HP\", \"JD.com\", \"BHP Billiton\"], [\"rank\", \"previous_rank\"]]\n",
        "print(big_movers)"
      ],
      "metadata": {
        "colab": {
          "base_uri": "https://localhost:8080/"
        },
        "id": "n-sRJnfgreGZ",
        "outputId": "65c4bc57-f7b5-4221-84b5-fd2fbc29b7c6"
      },
      "execution_count": 136,
      "outputs": [
        {
          "output_type": "stream",
          "name": "stdout",
          "text": [
            "              rank  previous_rank\n",
            "Aviva           90            279\n",
            "HP             194             48\n",
            "JD.com         261            366\n",
            "BHP Billiton   350            168\n"
          ]
        }
      ]
    },
    {
      "cell_type": "code",
      "source": [
        "bottom_companies = f500.loc[\"National Grid\":\"AutoNation\", [\"rank\", \"sector\", \"country\"]]\n",
        "print(bottom_companies)"
      ],
      "metadata": {
        "colab": {
          "base_uri": "https://localhost:8080/"
        },
        "id": "BHGJdaEZt0wG",
        "outputId": "ef3329b7-e70e-4ed7-aca7-58b80a8009b5"
      },
      "execution_count": 138,
      "outputs": [
        {
          "output_type": "stream",
          "name": "stdout",
          "text": [
            "                                       rank              sector  country\n",
            "National Grid                           491              Energy  Britain\n",
            "Dollar General                          492           Retailing      USA\n",
            "Telecom Italia                          493  Telecommunications    Italy\n",
            "Xiamen ITG Holding Group                494         Wholesalers    China\n",
            "Xinjiang Guanghui Industry Investment   495         Wholesalers    China\n",
            "Teva Pharmaceutical Industries          496         Health Care   Israel\n",
            "New China Life Insurance                497          Financials    China\n",
            "Wm. Morrison Supermarkets               498  Food & Drug Stores  Britain\n",
            "TUI                                     499   Business Services  Germany\n",
            "AutoNation                              500           Retailing      USA\n"
          ]
        }
      ]
    },
    {
      "cell_type": "code",
      "source": [
        "revenue_giants = f500.loc[[\"Apple\", \"Industrial & Commercial Bank of China\", \"China Construction Bank\", \"Agricultural Bank of China\"], \"revenues\" : \"profit_change\"]\n",
        "print(revenue_giants)"
      ],
      "metadata": {
        "colab": {
          "base_uri": "https://localhost:8080/"
        },
        "id": "msTNts6_uZwN",
        "outputId": "e58a419b-8ffd-43ef-e885-1095ef75573f"
      },
      "execution_count": 141,
      "outputs": [
        {
          "output_type": "stream",
          "name": "stdout",
          "text": [
            "                                       revenues  revenue_change  profits  \\\n",
            "Apple                                    215639            -7.7  45687.0   \n",
            "Industrial & Commercial Bank of China    147675           -11.7  41883.9   \n",
            "China Construction Bank                  135093            -8.7  34840.9   \n",
            "Agricultural Bank of China               117275           -12.1  27687.8   \n",
            "\n",
            "                                        assets  profit_change  \n",
            "Apple                                   321686          -14.4  \n",
            "Industrial & Commercial Bank of China  3473238           -5.0  \n",
            "China Construction Bank                3016578           -4.0  \n",
            "Agricultural Bank of China             2816039           -3.6  \n"
          ]
        }
      ]
    },
    {
      "cell_type": "code",
      "source": [
        "print(f500.head(5))"
      ],
      "metadata": {
        "colab": {
          "base_uri": "https://localhost:8080/"
        },
        "id": "urVIHqZQu68E",
        "outputId": "b92bf604-d70f-421b-a8c6-9d29c53896d9"
      },
      "execution_count": 142,
      "outputs": [
        {
          "output_type": "stream",
          "name": "stdout",
          "text": [
            "                          rank  revenues  revenue_change  profits  assets  \\\n",
            "Walmart                      1    485873             0.8  13643.0  198825   \n",
            "State Grid                   2    315199            -4.4   9571.3  489838   \n",
            "Sinopec Group                3    267518            -9.1   1257.9  310726   \n",
            "China National Petroleum     4    262573           -12.3   1867.5  585619   \n",
            "Toyota Motor                 5    254694             7.7  16899.3  437575   \n",
            "\n",
            "                          profit_change                  ceo  \\\n",
            "Walmart                            -7.2  C. Douglas McMillon   \n",
            "State Grid                         -6.2              Kou Wei   \n",
            "Sinopec Group                     -65.0            Wang Yupu   \n",
            "China National Petroleum          -73.7        Zhang Jianhua   \n",
            "Toyota Motor                      -12.3          Akio Toyoda   \n",
            "\n",
            "                                          industry                  sector  \\\n",
            "Walmart                      General Merchandisers               Retailing   \n",
            "State Grid                               Utilities                  Energy   \n",
            "Sinopec Group                   Petroleum Refining                  Energy   \n",
            "China National Petroleum        Petroleum Refining                  Energy   \n",
            "Toyota Motor              Motor Vehicles and Parts  Motor Vehicles & Parts   \n",
            "\n",
            "                          previous_rank country      hq_location  \\\n",
            "Walmart                               1     USA  Bentonville, AR   \n",
            "State Grid                            2   China   Beijing, China   \n",
            "Sinopec Group                         4   China   Beijing, China   \n",
            "China National Petroleum              3   China   Beijing, China   \n",
            "Toyota Motor                          8   Japan    Toyota, Japan   \n",
            "\n",
            "                                               website  \\\n",
            "Walmart                         http://www.walmart.com   \n",
            "State Grid                      http://www.sgcc.com.cn   \n",
            "Sinopec Group                   http://www.sinopec.com   \n",
            "China National Petroleum        http://www.cnpc.com.cn   \n",
            "Toyota Motor              http://www.toyota-global.com   \n",
            "\n",
            "                          years_on_global_500_list  employees  \\\n",
            "Walmart                                         23    2300000   \n",
            "State Grid                                      17     926067   \n",
            "Sinopec Group                                   19     713288   \n",
            "China National Petroleum                        17    1512048   \n",
            "Toyota Motor                                    23     364445   \n",
            "\n",
            "                          total_stockholder_equity  \n",
            "Walmart                                      77798  \n",
            "State Grid                                  209456  \n",
            "Sinopec Group                               106523  \n",
            "China National Petroleum                    301893  \n",
            "Toyota Motor                                157210  \n"
          ]
        }
      ]
    },
    {
      "cell_type": "code",
      "source": [
        "f500_head = f500.head(10)\n",
        "f500.info()"
      ],
      "metadata": {
        "colab": {
          "base_uri": "https://localhost:8080/"
        },
        "id": "dAYg4UdlxEBz",
        "outputId": "20ecfae9-f552-4f21-f39e-0821dcb90648"
      },
      "execution_count": 143,
      "outputs": [
        {
          "output_type": "stream",
          "name": "stdout",
          "text": [
            "<class 'pandas.core.frame.DataFrame'>\n",
            "Index: 500 entries, Walmart to AutoNation\n",
            "Data columns (total 16 columns):\n",
            " #   Column                    Non-Null Count  Dtype  \n",
            "---  ------                    --------------  -----  \n",
            " 0   rank                      500 non-null    int64  \n",
            " 1   revenues                  500 non-null    int64  \n",
            " 2   revenue_change            498 non-null    float64\n",
            " 3   profits                   499 non-null    float64\n",
            " 4   assets                    500 non-null    int64  \n",
            " 5   profit_change             436 non-null    float64\n",
            " 6   ceo                       500 non-null    object \n",
            " 7   industry                  500 non-null    object \n",
            " 8   sector                    500 non-null    object \n",
            " 9   previous_rank             500 non-null    int64  \n",
            " 10  country                   500 non-null    object \n",
            " 11  hq_location               500 non-null    object \n",
            " 12  website                   500 non-null    object \n",
            " 13  years_on_global_500_list  500 non-null    int64  \n",
            " 14  employees                 500 non-null    int64  \n",
            " 15  total_stockholder_equity  500 non-null    int64  \n",
            "dtypes: float64(3), int64(7), object(6)\n",
            "memory usage: 82.6+ KB\n"
          ]
        }
      ]
    },
    {
      "cell_type": "markdown",
      "source": [
        "series_a + series_b - Addition\n",
        "\n",
        "series_a - series_b - Subtraction\n",
        "\n",
        "series_a * series_b - Multiplication (this is unrelated to the multiplications used in linear algebra).\n",
        "\n",
        "series_a / series_b - Division"
      ],
      "metadata": {
        "id": "sGJ2n639ykmZ"
      }
    },
    {
      "cell_type": "markdown",
      "source": [
        "In this example we are calcuating rank change by subtracting the current rank from the previous rank = positive means an increase in rank"
      ],
      "metadata": {
        "id": "_SdiF11Sy35y"
      }
    },
    {
      "cell_type": "code",
      "source": [
        "rank_change = f500[\"previous_rank\"] - f500[\"rank\"]\n",
        "print(rank_change)"
      ],
      "metadata": {
        "colab": {
          "base_uri": "https://localhost:8080/"
        },
        "id": "IhxtmuuvxVkU",
        "outputId": "1ad997ba-495b-4d9c-8bb5-3fb2a9df00bd"
      },
      "execution_count": 146,
      "outputs": [
        {
          "output_type": "stream",
          "name": "stdout",
          "text": [
            "Walmart                             0\n",
            "State Grid                          0\n",
            "Sinopec Group                       1\n",
            "China National Petroleum           -1\n",
            "Toyota Motor                        3\n",
            "                                 ... \n",
            "Teva Pharmaceutical Industries   -496\n",
            "New China Life Insurance          -70\n",
            "Wm. Morrison Supermarkets         -61\n",
            "TUI                               -32\n",
            "AutoNation                       -500\n",
            "Length: 500, dtype: int64\n"
          ]
        }
      ]
    },
    {
      "cell_type": "markdown",
      "source": [
        "Now we can also run these operations to do calculations from series:\n",
        "Series.max()\n",
        "\n",
        "Series.min()\n",
        "\n",
        "Series.mean()\n",
        "\n",
        "Series.median()\n",
        "\n",
        "Series.mode()\n",
        "\n",
        "Series.sum()"
      ],
      "metadata": {
        "id": "2OKj_lHTy-f0"
      }
    },
    {
      "cell_type": "code",
      "source": [
        "print(f500[\"revenues\"].sum())"
      ],
      "metadata": {
        "colab": {
          "base_uri": "https://localhost:8080/"
        },
        "id": "G2CN3enBygxo",
        "outputId": "12b8d06d-bdaf-4e60-f146-1bf6f5b3e0a1"
      },
      "execution_count": 148,
      "outputs": [
        {
          "output_type": "stream",
          "name": "stdout",
          "text": [
            "27708179\n"
          ]
        }
      ]
    },
    {
      "cell_type": "markdown",
      "source": [
        "Now we can see the max and minium change in rank but based on the output there must be some incorrect data in rank or previous_rank columns"
      ],
      "metadata": {
        "id": "ObsKeKaV0Gti"
      }
    },
    {
      "cell_type": "code",
      "source": [
        "rank_change_max = rank_change.max()\n",
        "rank_change_min = rank_change.min()"
      ],
      "metadata": {
        "id": "s2eERaEVzSY2"
      },
      "execution_count": 155,
      "outputs": []
    },
    {
      "cell_type": "markdown",
      "source": [
        "Using the describe function we can find even more information related to rank change which is created by subtracting the series rank from previous rank"
      ],
      "metadata": {
        "id": "_5ZPasge0VyQ"
      }
    },
    {
      "cell_type": "code",
      "source": [
        "rank_change.describe()"
      ],
      "metadata": {
        "colab": {
          "base_uri": "https://localhost:8080/"
        },
        "id": "HTzZMZP-0OHD",
        "outputId": "a1efe18c-b47e-433f-df1b-df0088ecb725"
      },
      "execution_count": 156,
      "outputs": [
        {
          "output_type": "execute_result",
          "data": {
            "text/plain": [
              "count    500.000000\n",
              "mean     -28.366000\n",
              "std      108.602823\n",
              "min     -500.000000\n",
              "25%      -28.250000\n",
              "50%       -4.000000\n",
              "75%        8.250000\n",
              "max      226.000000\n",
              "dtype: float64"
            ]
          },
          "metadata": {},
          "execution_count": 156
        }
      ]
    },
    {
      "cell_type": "markdown",
      "source": [
        "Notice the output is in e-notation, a type of scientific notation:\n",
        "\n",
        "Original Notation\tExpanded Formula\tResult\n",
        "\n",
        "5.000000E+02\t5.000000 * 10 ** 2\t500\n",
        "\n",
        "2.436323E+05\t2.436323 * 10 ** 5"
      ],
      "metadata": {
        "id": "m6LD8hHE05Y5"
      }
    },
    {
      "cell_type": "code",
      "source": [
        "assets = f500[\"assets\"]\n",
        "print(assets.describe())"
      ],
      "metadata": {
        "colab": {
          "base_uri": "https://localhost:8080/"
        },
        "id": "xgGpaRKc0SXh",
        "outputId": "ee1d2775-d226-4d0e-8e97-fe2742f2e022"
      },
      "execution_count": 158,
      "outputs": [
        {
          "output_type": "stream",
          "name": "stdout",
          "text": [
            "count    5.000000e+02\n",
            "mean     2.436323e+05\n",
            "std      4.851937e+05\n",
            "min      3.717000e+03\n",
            "25%      3.658850e+04\n",
            "50%      7.326150e+04\n",
            "75%      1.805640e+05\n",
            "max      3.473238e+06\n",
            "Name: assets, dtype: float64\n"
          ]
        }
      ]
    },
    {
      "cell_type": "markdown",
      "source": [
        "\"country\" column only contains string values but we can see the count, uniques, the top and freq (freq of most common value)"
      ],
      "metadata": {
        "id": "kY56Y9K71HOy"
      }
    },
    {
      "cell_type": "code",
      "source": [
        "print(countries.describe())"
      ],
      "metadata": {
        "colab": {
          "base_uri": "https://localhost:8080/"
        },
        "id": "Fx8T7PAY0giI",
        "outputId": "706d5574-8bd1-41d7-d518-96cadd2d6704"
      },
      "execution_count": 160,
      "outputs": [
        {
          "output_type": "stream",
          "name": "stdout",
          "text": [
            "count     500\n",
            "unique     34\n",
            "top       USA\n",
            "freq      132\n",
            "Name: country, dtype: object\n"
          ]
        }
      ]
    },
    {
      "cell_type": "code",
      "source": [
        "rank = f500[\"rank\"]\n",
        "print(rank.describe())\n",
        "rank_desc = rank.describe()"
      ],
      "metadata": {
        "colab": {
          "base_uri": "https://localhost:8080/"
        },
        "id": "IlpElmaZ1EWP",
        "outputId": "8f322fdb-579b-4af5-d31c-04f9ad4be78f"
      },
      "execution_count": 162,
      "outputs": [
        {
          "output_type": "stream",
          "name": "stdout",
          "text": [
            "count    500.000000\n",
            "mean     250.500000\n",
            "std      144.481833\n",
            "min        1.000000\n",
            "25%      125.750000\n",
            "50%      250.500000\n",
            "75%      375.250000\n",
            "max      500.000000\n",
            "Name: rank, dtype: float64\n"
          ]
        }
      ]
    },
    {
      "cell_type": "code",
      "source": [
        "previous_rank = f500[\"previous_rank\"]\n",
        "prev_rank_desc = previous_rank.describe()\n",
        "print(prev_rank_desc)"
      ],
      "metadata": {
        "colab": {
          "base_uri": "https://localhost:8080/"
        },
        "id": "HZNMA6iP1Wz0",
        "outputId": "c2cbfb92-d5b8-4a8a-b56a-15390dbfe6a0"
      },
      "execution_count": 164,
      "outputs": [
        {
          "output_type": "stream",
          "name": "stdout",
          "text": [
            "count    500.000000\n",
            "mean     222.134000\n",
            "std      146.941961\n",
            "min        0.000000\n",
            "25%       92.750000\n",
            "50%      219.500000\n",
            "75%      347.250000\n",
            "max      500.000000\n",
            "Name: previous_rank, dtype: float64\n"
          ]
        }
      ]
    },
    {
      "cell_type": "markdown",
      "source": [
        "Rather than: \n",
        "countries = f500[\"country\"]\n",
        "countries_counts = countries.value_counts()\n",
        "\n",
        "We can assign countries_counts directly using method chaining (a way to combine multiple methods together in a single line):"
      ],
      "metadata": {
        "id": "ay_5m6uy8dex"
      }
    },
    {
      "cell_type": "code",
      "source": [
        "countries_count = f500[\"country\"].value_counts()\n",
        "print(countries_count)"
      ],
      "metadata": {
        "colab": {
          "base_uri": "https://localhost:8080/"
        },
        "id": "_kO61t5Y1maF",
        "outputId": "f8fdc64c-b6f8-4950-c92a-bc11a99f1a30"
      },
      "execution_count": 166,
      "outputs": [
        {
          "output_type": "stream",
          "name": "stdout",
          "text": [
            "USA             132\n",
            "China           109\n",
            "Japan            51\n",
            "Germany          29\n",
            "France           29\n",
            "Britain          24\n",
            "South Korea      15\n",
            "Netherlands      14\n",
            "Switzerland      14\n",
            "Canada           11\n",
            "Spain             9\n",
            "Australia         7\n",
            "Brazil            7\n",
            "India             7\n",
            "Italy             7\n",
            "Taiwan            6\n",
            "Russia            4\n",
            "Ireland           4\n",
            "Singapore         3\n",
            "Sweden            3\n",
            "Mexico            2\n",
            "Malaysia          1\n",
            "Thailand          1\n",
            "Belgium           1\n",
            "Norway            1\n",
            "Luxembourg        1\n",
            "Indonesia         1\n",
            "Denmark           1\n",
            "Saudi Arabia      1\n",
            "Finland           1\n",
            "Venezuela         1\n",
            "Turkey            1\n",
            "U.A.E             1\n",
            "Israel            1\n",
            "Name: country, dtype: int64\n"
          ]
        }
      ]
    },
    {
      "cell_type": "markdown",
      "source": [
        "Another example of method chaining allowing"
      ],
      "metadata": {
        "id": "bsbM_Tvi8-Z1"
      }
    },
    {
      "cell_type": "code",
      "source": [
        "print(f500[\"country\"].value_counts().loc[\"China\"])"
      ],
      "metadata": {
        "colab": {
          "base_uri": "https://localhost:8080/"
        },
        "id": "SG1FAiUr8UCS",
        "outputId": "01203157-3d6e-47b1-d929-827d3cd84469"
      },
      "execution_count": 169,
      "outputs": [
        {
          "output_type": "stream",
          "name": "stdout",
          "text": [
            "109\n"
          ]
        }
      ]
    },
    {
      "cell_type": "markdown",
      "source": [
        "Now we are going to determine if the value zero occurs in previous rank and how often (this would explain why our rank change function did not function properly)"
      ],
      "metadata": {
        "id": "68_42BlT9V8e"
      }
    },
    {
      "cell_type": "code",
      "source": [
        "zero_previous_rank = f500[\"previous_rank\"].value_counts().loc[0]\n",
        "print(zero_previous_rank)"
      ],
      "metadata": {
        "colab": {
          "base_uri": "https://localhost:8080/"
        },
        "id": "d392G7dd81cW",
        "outputId": "7b520b9b-21a3-4912-f192-12e179f18cdd"
      },
      "execution_count": 176,
      "outputs": [
        {
          "output_type": "stream",
          "name": "stdout",
          "text": [
            "33\n"
          ]
        }
      ]
    },
    {
      "cell_type": "markdown",
      "source": [
        "Series.max() and DataFrame.max()\n",
        "\n",
        "Series.min() and DataFrame.min()\n",
        "\n",
        "Series.mean() and DataFrame.mean()\n",
        "\n",
        "Series.median() and DataFrame.median()\n",
        "\n",
        "Series.mode() and DataFrame.mode()\n",
        "\n",
        "Series.sum() and DataFrame.sum()\n",
        "\n",
        "Dataframe.method(axis=0) calculates the results for each column (using the row axis)\n",
        "Dataframe.method(axis=1) calculates the results for each row (using the column axis)"
      ],
      "metadata": {
        "id": "klQgtYTH__f0"
      }
    },
    {
      "cell_type": "markdown",
      "source": [
        "We are now using the median method (function) to calculate the median values for columns (indexs): revenues, profits"
      ],
      "metadata": {
        "id": "0y83WWI1Anmx"
      }
    },
    {
      "cell_type": "code",
      "source": [
        "medians = f500[[\"revenues\", \"profits\"]].median(axis=0)\n",
        "print(medians)"
      ],
      "metadata": {
        "colab": {
          "base_uri": "https://localhost:8080/"
        },
        "id": "oTK514vw9Ocl",
        "outputId": "a6e0c464-a3b0-4e64-afe6-952bcd96895a"
      },
      "execution_count": 177,
      "outputs": [
        {
          "output_type": "stream",
          "name": "stdout",
          "text": [
            "revenues    40236.0\n",
            "profits      1761.6\n",
            "dtype: float64\n"
          ]
        }
      ]
    },
    {
      "cell_type": "markdown",
      "source": [
        "default value for axis parameter is = 0:"
      ],
      "metadata": {
        "id": "F5SQnqYTAx9X"
      }
    },
    {
      "cell_type": "code",
      "source": [
        "medians = f500[[\"revenues\", \"profits\"]].median()\n",
        "print(medians)"
      ],
      "metadata": {
        "colab": {
          "base_uri": "https://localhost:8080/"
        },
        "id": "Ytj3wXFJAmUL",
        "outputId": "996e20bc-d8c8-46c0-a20f-238e2408a33e"
      },
      "execution_count": 184,
      "outputs": [
        {
          "output_type": "stream",
          "name": "stdout",
          "text": [
            "revenues    40236.0\n",
            "profits      1761.6\n",
            "dtype: float64\n"
          ]
        }
      ]
    },
    {
      "cell_type": "code",
      "source": [
        "f500.info()"
      ],
      "metadata": {
        "colab": {
          "base_uri": "https://localhost:8080/"
        },
        "id": "oWoNVDTxBOy7",
        "outputId": "230b4d29-5843-48d7-fc49-eedc73bb9b68"
      },
      "execution_count": 185,
      "outputs": [
        {
          "output_type": "stream",
          "name": "stdout",
          "text": [
            "<class 'pandas.core.frame.DataFrame'>\n",
            "Index: 500 entries, Walmart to AutoNation\n",
            "Data columns (total 16 columns):\n",
            " #   Column                    Non-Null Count  Dtype  \n",
            "---  ------                    --------------  -----  \n",
            " 0   rank                      500 non-null    int64  \n",
            " 1   revenues                  500 non-null    int64  \n",
            " 2   revenue_change            498 non-null    float64\n",
            " 3   profits                   499 non-null    float64\n",
            " 4   assets                    500 non-null    int64  \n",
            " 5   profit_change             436 non-null    float64\n",
            " 6   ceo                       500 non-null    object \n",
            " 7   industry                  500 non-null    object \n",
            " 8   sector                    500 non-null    object \n",
            " 9   previous_rank             500 non-null    int64  \n",
            " 10  country                   500 non-null    object \n",
            " 11  hq_location               500 non-null    object \n",
            " 12  website                   500 non-null    object \n",
            " 13  years_on_global_500_list  500 non-null    int64  \n",
            " 14  employees                 500 non-null    int64  \n",
            " 15  total_stockholder_equity  500 non-null    int64  \n",
            "dtypes: float64(3), int64(7), object(6)\n",
            "memory usage: 82.6+ KB\n"
          ]
        }
      ]
    },
    {
      "cell_type": "code",
      "source": [
        "max_f500 =f500[[\"rank\", \"revenues\", \"revenue_change\", \"profits\", \"assets\", \"profit_change\",\"previous_rank\", \"years_on_global_500_list\", \"employees\", \"total_stockholder_equity\"]].max()\n",
        "print(max_f500)"
      ],
      "metadata": {
        "colab": {
          "base_uri": "https://localhost:8080/"
        },
        "id": "EMM8phgwA43Z",
        "outputId": "99f05ca8-672c-4628-873e-85bc0476103d"
      },
      "execution_count": 187,
      "outputs": [
        {
          "output_type": "stream",
          "name": "stdout",
          "text": [
            "rank                            500.0\n",
            "revenues                     485873.0\n",
            "revenue_change                  442.3\n",
            "profits                       45687.0\n",
            "assets                      3473238.0\n",
            "profit_change                  8909.5\n",
            "previous_rank                   500.0\n",
            "years_on_global_500_list         23.0\n",
            "employees                   2300000.0\n",
            "total_stockholder_equity     301893.0\n",
            "dtype: float64\n"
          ]
        }
      ]
    },
    {
      "cell_type": "markdown",
      "source": [
        "Rather than typing all the columns we want to include for max value look up we can use inside the max parameter \"numeric_only=True\" and this will only select integer or float values"
      ],
      "metadata": {
        "id": "zfJF9vfkB5Ik"
      }
    },
    {
      "cell_type": "code",
      "source": [
        "max_f500 = f500.max(numeric_only=True)\n",
        "print(max_f500)"
      ],
      "metadata": {
        "colab": {
          "base_uri": "https://localhost:8080/"
        },
        "id": "4ITMTzR3Brk0",
        "outputId": "246c0f1f-1d8e-4fdd-bbb3-de028ec22132"
      },
      "execution_count": 190,
      "outputs": [
        {
          "output_type": "stream",
          "name": "stdout",
          "text": [
            "rank                            500.0\n",
            "revenues                     485873.0\n",
            "revenue_change                  442.3\n",
            "profits                       45687.0\n",
            "assets                      3473238.0\n",
            "profit_change                  8909.5\n",
            "previous_rank                   500.0\n",
            "years_on_global_500_list         23.0\n",
            "employees                   2300000.0\n",
            "total_stockholder_equity     301893.0\n",
            "dtype: float64\n"
          ]
        }
      ]
    },
    {
      "cell_type": "markdown",
      "source": [
        "By default describe will only include statics on columns with numeric values"
      ],
      "metadata": {
        "id": "QPfNvjD-CpXw"
      }
    },
    {
      "cell_type": "code",
      "source": [
        "f500.describe()"
      ],
      "metadata": {
        "colab": {
          "base_uri": "https://localhost:8080/",
          "height": 297
        },
        "id": "EaW7OlXrB0_p",
        "outputId": "6f890519-8601-4660-d3f9-862e1e4e4c5e"
      },
      "execution_count": 192,
      "outputs": [
        {
          "output_type": "execute_result",
          "data": {
            "text/plain": [
              "             rank       revenues  revenue_change       profits        assets  \\\n",
              "count  500.000000     500.000000      498.000000    499.000000  5.000000e+02   \n",
              "mean   250.500000   55416.358000        4.538353   3055.203206  2.436323e+05   \n",
              "std    144.481833   45725.478963       28.549067   5171.981071  4.851937e+05   \n",
              "min      1.000000   21609.000000      -67.300000 -13038.000000  3.717000e+03   \n",
              "25%    125.750000   29003.000000       -5.900000    556.950000  3.658850e+04   \n",
              "50%    250.500000   40236.000000        0.550000   1761.600000  7.326150e+04   \n",
              "75%    375.250000   63926.750000        6.975000   3954.000000  1.805640e+05   \n",
              "max    500.000000  485873.000000      442.300000  45687.000000  3.473238e+06   \n",
              "\n",
              "       profit_change  previous_rank  years_on_global_500_list     employees  \\\n",
              "count     436.000000     500.000000                500.000000  5.000000e+02   \n",
              "mean       24.152752     222.134000                 15.036000  1.339983e+05   \n",
              "std       437.509566     146.941961                  7.932752  1.700878e+05   \n",
              "min      -793.700000       0.000000                  1.000000  3.280000e+02   \n",
              "25%       -22.775000      92.750000                  7.000000  4.293250e+04   \n",
              "50%        -0.350000     219.500000                 17.000000  9.291050e+04   \n",
              "75%        17.700000     347.250000                 23.000000  1.689172e+05   \n",
              "max      8909.500000     500.000000                 23.000000  2.300000e+06   \n",
              "\n",
              "       total_stockholder_equity  \n",
              "count                500.000000  \n",
              "mean               30628.076000  \n",
              "std                43642.576833  \n",
              "min               -59909.000000  \n",
              "25%                 7553.750000  \n",
              "50%                15809.500000  \n",
              "75%                37828.500000  \n",
              "max               301893.000000  "
            ],
            "text/html": [
              "\n",
              "  <div id=\"df-ffb0a6f3-e44c-482e-acc3-15f17027bd15\">\n",
              "    <div class=\"colab-df-container\">\n",
              "      <div>\n",
              "<style scoped>\n",
              "    .dataframe tbody tr th:only-of-type {\n",
              "        vertical-align: middle;\n",
              "    }\n",
              "\n",
              "    .dataframe tbody tr th {\n",
              "        vertical-align: top;\n",
              "    }\n",
              "\n",
              "    .dataframe thead th {\n",
              "        text-align: right;\n",
              "    }\n",
              "</style>\n",
              "<table border=\"1\" class=\"dataframe\">\n",
              "  <thead>\n",
              "    <tr style=\"text-align: right;\">\n",
              "      <th></th>\n",
              "      <th>rank</th>\n",
              "      <th>revenues</th>\n",
              "      <th>revenue_change</th>\n",
              "      <th>profits</th>\n",
              "      <th>assets</th>\n",
              "      <th>profit_change</th>\n",
              "      <th>previous_rank</th>\n",
              "      <th>years_on_global_500_list</th>\n",
              "      <th>employees</th>\n",
              "      <th>total_stockholder_equity</th>\n",
              "    </tr>\n",
              "  </thead>\n",
              "  <tbody>\n",
              "    <tr>\n",
              "      <th>count</th>\n",
              "      <td>500.000000</td>\n",
              "      <td>500.000000</td>\n",
              "      <td>498.000000</td>\n",
              "      <td>499.000000</td>\n",
              "      <td>5.000000e+02</td>\n",
              "      <td>436.000000</td>\n",
              "      <td>500.000000</td>\n",
              "      <td>500.000000</td>\n",
              "      <td>5.000000e+02</td>\n",
              "      <td>500.000000</td>\n",
              "    </tr>\n",
              "    <tr>\n",
              "      <th>mean</th>\n",
              "      <td>250.500000</td>\n",
              "      <td>55416.358000</td>\n",
              "      <td>4.538353</td>\n",
              "      <td>3055.203206</td>\n",
              "      <td>2.436323e+05</td>\n",
              "      <td>24.152752</td>\n",
              "      <td>222.134000</td>\n",
              "      <td>15.036000</td>\n",
              "      <td>1.339983e+05</td>\n",
              "      <td>30628.076000</td>\n",
              "    </tr>\n",
              "    <tr>\n",
              "      <th>std</th>\n",
              "      <td>144.481833</td>\n",
              "      <td>45725.478963</td>\n",
              "      <td>28.549067</td>\n",
              "      <td>5171.981071</td>\n",
              "      <td>4.851937e+05</td>\n",
              "      <td>437.509566</td>\n",
              "      <td>146.941961</td>\n",
              "      <td>7.932752</td>\n",
              "      <td>1.700878e+05</td>\n",
              "      <td>43642.576833</td>\n",
              "    </tr>\n",
              "    <tr>\n",
              "      <th>min</th>\n",
              "      <td>1.000000</td>\n",
              "      <td>21609.000000</td>\n",
              "      <td>-67.300000</td>\n",
              "      <td>-13038.000000</td>\n",
              "      <td>3.717000e+03</td>\n",
              "      <td>-793.700000</td>\n",
              "      <td>0.000000</td>\n",
              "      <td>1.000000</td>\n",
              "      <td>3.280000e+02</td>\n",
              "      <td>-59909.000000</td>\n",
              "    </tr>\n",
              "    <tr>\n",
              "      <th>25%</th>\n",
              "      <td>125.750000</td>\n",
              "      <td>29003.000000</td>\n",
              "      <td>-5.900000</td>\n",
              "      <td>556.950000</td>\n",
              "      <td>3.658850e+04</td>\n",
              "      <td>-22.775000</td>\n",
              "      <td>92.750000</td>\n",
              "      <td>7.000000</td>\n",
              "      <td>4.293250e+04</td>\n",
              "      <td>7553.750000</td>\n",
              "    </tr>\n",
              "    <tr>\n",
              "      <th>50%</th>\n",
              "      <td>250.500000</td>\n",
              "      <td>40236.000000</td>\n",
              "      <td>0.550000</td>\n",
              "      <td>1761.600000</td>\n",
              "      <td>7.326150e+04</td>\n",
              "      <td>-0.350000</td>\n",
              "      <td>219.500000</td>\n",
              "      <td>17.000000</td>\n",
              "      <td>9.291050e+04</td>\n",
              "      <td>15809.500000</td>\n",
              "    </tr>\n",
              "    <tr>\n",
              "      <th>75%</th>\n",
              "      <td>375.250000</td>\n",
              "      <td>63926.750000</td>\n",
              "      <td>6.975000</td>\n",
              "      <td>3954.000000</td>\n",
              "      <td>1.805640e+05</td>\n",
              "      <td>17.700000</td>\n",
              "      <td>347.250000</td>\n",
              "      <td>23.000000</td>\n",
              "      <td>1.689172e+05</td>\n",
              "      <td>37828.500000</td>\n",
              "    </tr>\n",
              "    <tr>\n",
              "      <th>max</th>\n",
              "      <td>500.000000</td>\n",
              "      <td>485873.000000</td>\n",
              "      <td>442.300000</td>\n",
              "      <td>45687.000000</td>\n",
              "      <td>3.473238e+06</td>\n",
              "      <td>8909.500000</td>\n",
              "      <td>500.000000</td>\n",
              "      <td>23.000000</td>\n",
              "      <td>2.300000e+06</td>\n",
              "      <td>301893.000000</td>\n",
              "    </tr>\n",
              "  </tbody>\n",
              "</table>\n",
              "</div>\n",
              "      <button class=\"colab-df-convert\" onclick=\"convertToInteractive('df-ffb0a6f3-e44c-482e-acc3-15f17027bd15')\"\n",
              "              title=\"Convert this dataframe to an interactive table.\"\n",
              "              style=\"display:none;\">\n",
              "        \n",
              "  <svg xmlns=\"http://www.w3.org/2000/svg\" height=\"24px\"viewBox=\"0 0 24 24\"\n",
              "       width=\"24px\">\n",
              "    <path d=\"M0 0h24v24H0V0z\" fill=\"none\"/>\n",
              "    <path d=\"M18.56 5.44l.94 2.06.94-2.06 2.06-.94-2.06-.94-.94-2.06-.94 2.06-2.06.94zm-11 1L8.5 8.5l.94-2.06 2.06-.94-2.06-.94L8.5 2.5l-.94 2.06-2.06.94zm10 10l.94 2.06.94-2.06 2.06-.94-2.06-.94-.94-2.06-.94 2.06-2.06.94z\"/><path d=\"M17.41 7.96l-1.37-1.37c-.4-.4-.92-.59-1.43-.59-.52 0-1.04.2-1.43.59L10.3 9.45l-7.72 7.72c-.78.78-.78 2.05 0 2.83L4 21.41c.39.39.9.59 1.41.59.51 0 1.02-.2 1.41-.59l7.78-7.78 2.81-2.81c.8-.78.8-2.07 0-2.86zM5.41 20L4 18.59l7.72-7.72 1.47 1.35L5.41 20z\"/>\n",
              "  </svg>\n",
              "      </button>\n",
              "      \n",
              "  <style>\n",
              "    .colab-df-container {\n",
              "      display:flex;\n",
              "      flex-wrap:wrap;\n",
              "      gap: 12px;\n",
              "    }\n",
              "\n",
              "    .colab-df-convert {\n",
              "      background-color: #E8F0FE;\n",
              "      border: none;\n",
              "      border-radius: 50%;\n",
              "      cursor: pointer;\n",
              "      display: none;\n",
              "      fill: #1967D2;\n",
              "      height: 32px;\n",
              "      padding: 0 0 0 0;\n",
              "      width: 32px;\n",
              "    }\n",
              "\n",
              "    .colab-df-convert:hover {\n",
              "      background-color: #E2EBFA;\n",
              "      box-shadow: 0px 1px 2px rgba(60, 64, 67, 0.3), 0px 1px 3px 1px rgba(60, 64, 67, 0.15);\n",
              "      fill: #174EA6;\n",
              "    }\n",
              "\n",
              "    [theme=dark] .colab-df-convert {\n",
              "      background-color: #3B4455;\n",
              "      fill: #D2E3FC;\n",
              "    }\n",
              "\n",
              "    [theme=dark] .colab-df-convert:hover {\n",
              "      background-color: #434B5C;\n",
              "      box-shadow: 0px 1px 3px 1px rgba(0, 0, 0, 0.15);\n",
              "      filter: drop-shadow(0px 1px 2px rgba(0, 0, 0, 0.3));\n",
              "      fill: #FFFFFF;\n",
              "    }\n",
              "  </style>\n",
              "\n",
              "      <script>\n",
              "        const buttonEl =\n",
              "          document.querySelector('#df-ffb0a6f3-e44c-482e-acc3-15f17027bd15 button.colab-df-convert');\n",
              "        buttonEl.style.display =\n",
              "          google.colab.kernel.accessAllowed ? 'block' : 'none';\n",
              "\n",
              "        async function convertToInteractive(key) {\n",
              "          const element = document.querySelector('#df-ffb0a6f3-e44c-482e-acc3-15f17027bd15');\n",
              "          const dataTable =\n",
              "            await google.colab.kernel.invokeFunction('convertToInteractive',\n",
              "                                                     [key], {});\n",
              "          if (!dataTable) return;\n",
              "\n",
              "          const docLinkHtml = 'Like what you see? Visit the ' +\n",
              "            '<a target=\"_blank\" href=https://colab.research.google.com/notebooks/data_table.ipynb>data table notebook</a>'\n",
              "            + ' to learn more about interactive tables.';\n",
              "          element.innerHTML = '';\n",
              "          dataTable['output_type'] = 'display_data';\n",
              "          await google.colab.output.renderOutput(dataTable, element);\n",
              "          const docLink = document.createElement('div');\n",
              "          docLink.innerHTML = docLinkHtml;\n",
              "          element.appendChild(docLink);\n",
              "        }\n",
              "      </script>\n",
              "    </div>\n",
              "  </div>\n",
              "  "
            ]
          },
          "metadata": {},
          "execution_count": 192
        }
      ]
    },
    {
      "cell_type": "markdown",
      "source": [
        "If want describe to return values from non numeric columns we use in the parameter for describe \"(include=['O']) (that is a letter not a zero)"
      ],
      "metadata": {
        "id": "lvy54L8NDQqt"
      }
    },
    {
      "cell_type": "code",
      "source": [
        "f500.describe(include=['O'])"
      ],
      "metadata": {
        "colab": {
          "base_uri": "https://localhost:8080/",
          "height": 173
        },
        "id": "PWMpl-ZMCX_A",
        "outputId": "ddea12f0-db9f-4dd3-fef1-2e8b13ef2333"
      },
      "execution_count": 200,
      "outputs": [
        {
          "output_type": "execute_result",
          "data": {
            "text/plain": [
              "                        ceo                       industry      sector  \\\n",
              "count                   500                            500         500   \n",
              "unique                  500                             58          21   \n",
              "top     C. Douglas McMillon  Banks: Commercial and Savings  Financials   \n",
              "freq                      1                             51         118   \n",
              "\n",
              "       country     hq_location                 website  \n",
              "count      500             500                     500  \n",
              "unique      34             235                     500  \n",
              "top        USA  Beijing, China  http://www.walmart.com  \n",
              "freq       132              56                       1  "
            ],
            "text/html": [
              "\n",
              "  <div id=\"df-36df6832-2be7-4fec-a197-4df2c414d578\">\n",
              "    <div class=\"colab-df-container\">\n",
              "      <div>\n",
              "<style scoped>\n",
              "    .dataframe tbody tr th:only-of-type {\n",
              "        vertical-align: middle;\n",
              "    }\n",
              "\n",
              "    .dataframe tbody tr th {\n",
              "        vertical-align: top;\n",
              "    }\n",
              "\n",
              "    .dataframe thead th {\n",
              "        text-align: right;\n",
              "    }\n",
              "</style>\n",
              "<table border=\"1\" class=\"dataframe\">\n",
              "  <thead>\n",
              "    <tr style=\"text-align: right;\">\n",
              "      <th></th>\n",
              "      <th>ceo</th>\n",
              "      <th>industry</th>\n",
              "      <th>sector</th>\n",
              "      <th>country</th>\n",
              "      <th>hq_location</th>\n",
              "      <th>website</th>\n",
              "    </tr>\n",
              "  </thead>\n",
              "  <tbody>\n",
              "    <tr>\n",
              "      <th>count</th>\n",
              "      <td>500</td>\n",
              "      <td>500</td>\n",
              "      <td>500</td>\n",
              "      <td>500</td>\n",
              "      <td>500</td>\n",
              "      <td>500</td>\n",
              "    </tr>\n",
              "    <tr>\n",
              "      <th>unique</th>\n",
              "      <td>500</td>\n",
              "      <td>58</td>\n",
              "      <td>21</td>\n",
              "      <td>34</td>\n",
              "      <td>235</td>\n",
              "      <td>500</td>\n",
              "    </tr>\n",
              "    <tr>\n",
              "      <th>top</th>\n",
              "      <td>C. Douglas McMillon</td>\n",
              "      <td>Banks: Commercial and Savings</td>\n",
              "      <td>Financials</td>\n",
              "      <td>USA</td>\n",
              "      <td>Beijing, China</td>\n",
              "      <td>http://www.walmart.com</td>\n",
              "    </tr>\n",
              "    <tr>\n",
              "      <th>freq</th>\n",
              "      <td>1</td>\n",
              "      <td>51</td>\n",
              "      <td>118</td>\n",
              "      <td>132</td>\n",
              "      <td>56</td>\n",
              "      <td>1</td>\n",
              "    </tr>\n",
              "  </tbody>\n",
              "</table>\n",
              "</div>\n",
              "      <button class=\"colab-df-convert\" onclick=\"convertToInteractive('df-36df6832-2be7-4fec-a197-4df2c414d578')\"\n",
              "              title=\"Convert this dataframe to an interactive table.\"\n",
              "              style=\"display:none;\">\n",
              "        \n",
              "  <svg xmlns=\"http://www.w3.org/2000/svg\" height=\"24px\"viewBox=\"0 0 24 24\"\n",
              "       width=\"24px\">\n",
              "    <path d=\"M0 0h24v24H0V0z\" fill=\"none\"/>\n",
              "    <path d=\"M18.56 5.44l.94 2.06.94-2.06 2.06-.94-2.06-.94-.94-2.06-.94 2.06-2.06.94zm-11 1L8.5 8.5l.94-2.06 2.06-.94-2.06-.94L8.5 2.5l-.94 2.06-2.06.94zm10 10l.94 2.06.94-2.06 2.06-.94-2.06-.94-.94-2.06-.94 2.06-2.06.94z\"/><path d=\"M17.41 7.96l-1.37-1.37c-.4-.4-.92-.59-1.43-.59-.52 0-1.04.2-1.43.59L10.3 9.45l-7.72 7.72c-.78.78-.78 2.05 0 2.83L4 21.41c.39.39.9.59 1.41.59.51 0 1.02-.2 1.41-.59l7.78-7.78 2.81-2.81c.8-.78.8-2.07 0-2.86zM5.41 20L4 18.59l7.72-7.72 1.47 1.35L5.41 20z\"/>\n",
              "  </svg>\n",
              "      </button>\n",
              "      \n",
              "  <style>\n",
              "    .colab-df-container {\n",
              "      display:flex;\n",
              "      flex-wrap:wrap;\n",
              "      gap: 12px;\n",
              "    }\n",
              "\n",
              "    .colab-df-convert {\n",
              "      background-color: #E8F0FE;\n",
              "      border: none;\n",
              "      border-radius: 50%;\n",
              "      cursor: pointer;\n",
              "      display: none;\n",
              "      fill: #1967D2;\n",
              "      height: 32px;\n",
              "      padding: 0 0 0 0;\n",
              "      width: 32px;\n",
              "    }\n",
              "\n",
              "    .colab-df-convert:hover {\n",
              "      background-color: #E2EBFA;\n",
              "      box-shadow: 0px 1px 2px rgba(60, 64, 67, 0.3), 0px 1px 3px 1px rgba(60, 64, 67, 0.15);\n",
              "      fill: #174EA6;\n",
              "    }\n",
              "\n",
              "    [theme=dark] .colab-df-convert {\n",
              "      background-color: #3B4455;\n",
              "      fill: #D2E3FC;\n",
              "    }\n",
              "\n",
              "    [theme=dark] .colab-df-convert:hover {\n",
              "      background-color: #434B5C;\n",
              "      box-shadow: 0px 1px 3px 1px rgba(0, 0, 0, 0.15);\n",
              "      filter: drop-shadow(0px 1px 2px rgba(0, 0, 0, 0.3));\n",
              "      fill: #FFFFFF;\n",
              "    }\n",
              "  </style>\n",
              "\n",
              "      <script>\n",
              "        const buttonEl =\n",
              "          document.querySelector('#df-36df6832-2be7-4fec-a197-4df2c414d578 button.colab-df-convert');\n",
              "        buttonEl.style.display =\n",
              "          google.colab.kernel.accessAllowed ? 'block' : 'none';\n",
              "\n",
              "        async function convertToInteractive(key) {\n",
              "          const element = document.querySelector('#df-36df6832-2be7-4fec-a197-4df2c414d578');\n",
              "          const dataTable =\n",
              "            await google.colab.kernel.invokeFunction('convertToInteractive',\n",
              "                                                     [key], {});\n",
              "          if (!dataTable) return;\n",
              "\n",
              "          const docLinkHtml = 'Like what you see? Visit the ' +\n",
              "            '<a target=\"_blank\" href=https://colab.research.google.com/notebooks/data_table.ipynb>data table notebook</a>'\n",
              "            + ' to learn more about interactive tables.';\n",
              "          element.innerHTML = '';\n",
              "          dataTable['output_type'] = 'display_data';\n",
              "          await google.colab.output.renderOutput(dataTable, element);\n",
              "          const docLink = document.createElement('div');\n",
              "          docLink.innerHTML = docLinkHtml;\n",
              "          element.appendChild(docLink);\n",
              "        }\n",
              "      </script>\n",
              "    </div>\n",
              "  </div>\n",
              "  "
            ]
          },
          "metadata": {},
          "execution_count": 200
        }
      ]
    },
    {
      "cell_type": "code",
      "source": [
        "f500_desc = f500.describe()"
      ],
      "metadata": {
        "id": "HpFRPrquC_VD"
      },
      "execution_count": 202,
      "outputs": []
    },
    {
      "cell_type": "code",
      "source": [
        "print(f500.max(numeric_only=True))"
      ],
      "metadata": {
        "colab": {
          "base_uri": "https://localhost:8080/"
        },
        "id": "yCC2m7HzDrDg",
        "outputId": "ad953d0b-b21a-461c-d226-58af96926cf6"
      },
      "execution_count": 209,
      "outputs": [
        {
          "output_type": "stream",
          "name": "stdout",
          "text": [
            "rank                            500.0\n",
            "revenues                     485873.0\n",
            "revenue_change                  442.3\n",
            "profits                       45687.0\n",
            "assets                      3473238.0\n",
            "profit_change                  8909.5\n",
            "previous_rank                   500.0\n",
            "years_on_global_500_list         23.0\n",
            "employees                   2300000.0\n",
            "total_stockholder_equity     301893.0\n",
            "dtype: float64\n"
          ]
        }
      ]
    },
    {
      "cell_type": "code",
      "source": [],
      "metadata": {
        "id": "Y7hoWXRfD3WJ"
      },
      "execution_count": null,
      "outputs": []
    }
  ]
}