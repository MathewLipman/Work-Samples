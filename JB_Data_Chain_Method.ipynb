{
  "nbformat": 4,
  "nbformat_minor": 0,
  "metadata": {
    "colab": {
      "provenance": [],
      "authorship_tag": "ABX9TyM73VpjaAfK1fo8AtFhHzT2",
      "include_colab_link": true
    },
    "kernelspec": {
      "name": "python3",
      "display_name": "Python 3"
    },
    "language_info": {
      "name": "python"
    }
  },
  "cells": [
    {
      "cell_type": "markdown",
      "metadata": {
        "id": "view-in-github",
        "colab_type": "text"
      },
      "source": [
        "<a href=\"https://colab.research.google.com/github/MathewLipman/Work-Samples/blob/main/JB_Data_Chain_Method.ipynb\" target=\"_parent\"><img src=\"https://colab.research.google.com/assets/colab-badge.svg\" alt=\"Open In Colab\"/></a>"
      ]
    },
    {
      "cell_type": "code",
      "source": [
        "!pip install catboost"
      ],
      "metadata": {
        "colab": {
          "base_uri": "https://localhost:8080/"
        },
        "id": "87nwgZbhg8by",
        "outputId": "3abb5d1d-f7b9-469b-a404-825b1bef791e"
      },
      "execution_count": 2,
      "outputs": [
        {
          "output_type": "stream",
          "name": "stdout",
          "text": [
            "Looking in indexes: https://pypi.org/simple, https://us-python.pkg.dev/colab-wheels/public/simple/\n",
            "Collecting catboost\n",
            "  Downloading catboost-1.2-cp310-cp310-manylinux2014_x86_64.whl (98.6 MB)\n",
            "\u001b[2K     \u001b[90m━━━━━━━━━━━━━━━━━━━━━━━━━━━━━━━━━━━━━━━━\u001b[0m \u001b[32m98.6/98.6 MB\u001b[0m \u001b[31m7.0 MB/s\u001b[0m eta \u001b[36m0:00:00\u001b[0m\n",
            "\u001b[?25hRequirement already satisfied: graphviz in /usr/local/lib/python3.10/dist-packages (from catboost) (0.20.1)\n",
            "Requirement already satisfied: matplotlib in /usr/local/lib/python3.10/dist-packages (from catboost) (3.7.1)\n",
            "Requirement already satisfied: numpy>=1.16.0 in /usr/local/lib/python3.10/dist-packages (from catboost) (1.22.4)\n",
            "Requirement already satisfied: pandas>=0.24 in /usr/local/lib/python3.10/dist-packages (from catboost) (1.5.3)\n",
            "Requirement already satisfied: scipy in /usr/local/lib/python3.10/dist-packages (from catboost) (1.10.1)\n",
            "Requirement already satisfied: plotly in /usr/local/lib/python3.10/dist-packages (from catboost) (5.13.1)\n",
            "Requirement already satisfied: six in /usr/local/lib/python3.10/dist-packages (from catboost) (1.16.0)\n",
            "Requirement already satisfied: python-dateutil>=2.8.1 in /usr/local/lib/python3.10/dist-packages (from pandas>=0.24->catboost) (2.8.2)\n",
            "Requirement already satisfied: pytz>=2020.1 in /usr/local/lib/python3.10/dist-packages (from pandas>=0.24->catboost) (2022.7.1)\n",
            "Requirement already satisfied: contourpy>=1.0.1 in /usr/local/lib/python3.10/dist-packages (from matplotlib->catboost) (1.0.7)\n",
            "Requirement already satisfied: cycler>=0.10 in /usr/local/lib/python3.10/dist-packages (from matplotlib->catboost) (0.11.0)\n",
            "Requirement already satisfied: fonttools>=4.22.0 in /usr/local/lib/python3.10/dist-packages (from matplotlib->catboost) (4.39.3)\n",
            "Requirement already satisfied: kiwisolver>=1.0.1 in /usr/local/lib/python3.10/dist-packages (from matplotlib->catboost) (1.4.4)\n",
            "Requirement already satisfied: packaging>=20.0 in /usr/local/lib/python3.10/dist-packages (from matplotlib->catboost) (23.1)\n",
            "Requirement already satisfied: pillow>=6.2.0 in /usr/local/lib/python3.10/dist-packages (from matplotlib->catboost) (8.4.0)\n",
            "Requirement already satisfied: pyparsing>=2.3.1 in /usr/local/lib/python3.10/dist-packages (from matplotlib->catboost) (3.0.9)\n",
            "Requirement already satisfied: tenacity>=6.2.0 in /usr/local/lib/python3.10/dist-packages (from plotly->catboost) (8.2.2)\n",
            "Installing collected packages: catboost\n",
            "Successfully installed catboost-1.2\n"
          ]
        }
      ]
    },
    {
      "cell_type": "code",
      "source": [
        "import catboost as cb\n",
        "import pandas as pd\n",
        "import numpy as np\n",
        "import matplotlib.pyplot as plt\n",
        "import seaborn as sns\n",
        "import matplotlib.style as style\n",
        "import collections"
      ],
      "metadata": {
        "id": "nuB9Zg_3gyLr"
      },
      "execution_count": 3,
      "outputs": []
    },
    {
      "cell_type": "code",
      "source": [
        "def prep_for_ml(df):\n",
        "  # remove pandas types\n",
        "  return (df\n",
        "    .assign(**{col:df[col].astype(float)\n",
        "               for col in df.select_dtypes('number')},\n",
        "            **{col:df[col].astype(str).fillna('')\n",
        "              for col in df.select_dtypes(['object', 'category'])})\n",
        "  )"
      ],
      "metadata": {
        "id": "vWVaqFT_hLhZ"
      },
      "execution_count": 4,
      "outputs": []
    },
    {
      "cell_type": "code",
      "source": [
        "def predict_col(df, col):\n",
        "  df = prep_for_ml(df)\n",
        "  missing = df.query(f'~{col}.isna()')\n",
        "  cat_idx = [i for i,typ in enumerate(df.drop(columns=[col]).dtypes)\n",
        "             if str(typ) == 'object']\n",
        "  X = (missing\n",
        "      .drop(columns=[col])\n",
        "      .values\n",
        "       )\n",
        "  y = missing[col]\n",
        "  model = cb.CatBoostRegressor(iterations=20, cat_features=cat_idx)\n",
        "  model.fit(X,y, cat_features=cat_idx)\n",
        "  pred = model.predict(df.drop(columns=[col]))\n",
        "  return df[col].where(~df[col].isna(), pred)"
      ],
      "metadata": {
        "id": "abZRpn9khMMp"
      },
      "execution_count": 5,
      "outputs": []
    },
    {
      "cell_type": "code",
      "source": [
        "def get_uniq_cols(jb):\n",
        "    counter = collections.defaultdict(list)\n",
        "    for col in sorted(jb.columns):\n",
        "        period_count = col.count('.')\n",
        "        if period_count >= 2:\n",
        "            part_end = 2\n",
        "        else:\n",
        "            part_end = 1\n",
        "        parts = col.split('.')[:part_end]\n",
        "        counter['.'.join(parts)].append(col)\n",
        "    uniq_cols = []\n",
        "    for cols in counter.values():\n",
        "        if len(cols) == 1:\n",
        "          uniq_cols.extend(cols)\n",
        "    return uniq_cols"
      ],
      "metadata": {
        "id": "GrjIknU9hlck"
      },
      "execution_count": 8,
      "outputs": []
    },
    {
      "cell_type": "code",
      "execution_count": 9,
      "metadata": {
        "colab": {
          "base_uri": "https://localhost:8080/"
        },
        "id": "iWslXX8Mgtz1",
        "outputId": "0bee6bad-5b14-4487-b268-9b4674a0dbd6"
      },
      "outputs": [
        {
          "output_type": "stream",
          "name": "stderr",
          "text": [
            "<ipython-input-9-f89adaff68d1>:38: DtypeWarning: Columns (152) have mixed types. Specify dtype option on import or set low_memory=False.\n",
            "  jb = pd.read_csv(url)\n"
          ]
        },
        {
          "output_type": "stream",
          "name": "stdout",
          "text": [
            "Learning rate set to 0.5\n",
            "0:\tlearn: 6.3803115\ttotal: 73.3ms\tremaining: 1.39s\n",
            "1:\tlearn: 6.3357433\ttotal: 91.8ms\tremaining: 826ms\n",
            "2:\tlearn: 6.2698171\ttotal: 106ms\tremaining: 600ms\n",
            "3:\tlearn: 6.2389428\ttotal: 119ms\tremaining: 476ms\n",
            "4:\tlearn: 6.2255307\ttotal: 131ms\tremaining: 393ms\n",
            "5:\tlearn: 6.2151646\ttotal: 143ms\tremaining: 333ms\n",
            "6:\tlearn: 6.1989072\ttotal: 157ms\tremaining: 291ms\n",
            "7:\tlearn: 6.1814612\ttotal: 167ms\tremaining: 251ms\n",
            "8:\tlearn: 6.1779375\ttotal: 178ms\tremaining: 218ms\n",
            "9:\tlearn: 6.1707748\ttotal: 189ms\tremaining: 189ms\n",
            "10:\tlearn: 6.1702599\ttotal: 201ms\tremaining: 164ms\n",
            "11:\tlearn: 6.1648639\ttotal: 211ms\tremaining: 141ms\n",
            "12:\tlearn: 6.1534347\ttotal: 222ms\tremaining: 120ms\n",
            "13:\tlearn: 6.1495147\ttotal: 231ms\tremaining: 99ms\n",
            "14:\tlearn: 6.1364829\ttotal: 243ms\tremaining: 81ms\n",
            "15:\tlearn: 6.1339867\ttotal: 253ms\tremaining: 63.3ms\n",
            "16:\tlearn: 6.1230472\ttotal: 265ms\tremaining: 46.9ms\n",
            "17:\tlearn: 6.1112328\ttotal: 283ms\tremaining: 31.5ms\n",
            "18:\tlearn: 6.1102879\ttotal: 295ms\tremaining: 15.5ms\n",
            "19:\tlearn: 6.0828023\ttotal: 306ms\tremaining: 0us\n"
          ]
        }
      ],
      "source": [
        "def tweak_jb(jb):\n",
        "  uniq_cols = get_uniq_cols(jb)\n",
        "  return (jb\n",
        "    [uniq_cols]\n",
        "    .rename(columns=lambda c: c.replace('.','_'))\n",
        "    .assign(age = lambda df_: df_.age\n",
        "        .str.slice(0,2)\n",
        "        .astype('float')\n",
        "        .astype('Int64'),\n",
        "            are_you_datascientist=lambda df_: df_.are_you_datascientist\n",
        "            .replace({'Yes':True, 'No':False, np.nan:False}),\n",
        "            company_size=lambda df_:df_.company_size\n",
        "            .replace({'Just me': 1, 'Not sure': np.nan, 'More than 5,000': 5000,\n",
        "                      '2–10': 2, '11–50':11,'51–500': 51,\n",
        "                      '501–1,000':501, '1,001–5,000':1001})\n",
        "            .astype('Int64').astype,\n",
        "            country_live =lambda df_: df_.country_live.astype('category'),\n",
        "            employment_status=lambda df_: df_.employment_status.fillna('Other')\n",
        "            .astype('category'),\n",
        "            is_python_main=lambda df_: df_.is_python_main.astype('category'),\n",
        "            team_size=lambda df_: df_.team_size.str.split('-', n=0)\n",
        "            .str[0].replace('More than 40 people', 41)\n",
        "            .where(df_.company_size!=1, 1).astype(float),\n",
        "            years_of_coding = lambda df_: df_.years_of_coding\n",
        "            .replace('Less than 1 year', .5).str.extract(r'(\\d+)')\n",
        "            .astype('float'),\n",
        "            python_years=lambda df_: df_.python_years.replace('Less than 1 year',.5)\n",
        "            .str.extract(r'(\\d+)').astype('float'),\n",
        "            use_python_most=lambda df_: df_.use_python_most.fillna('Unknown')\n",
        "            )\n",
        "      .assign(team_size=lambda df_:predict_col(df_, 'team_size')\n",
        "              .astype(int))\n",
        "      .drop(columns=['python2_version_most'])\n",
        "      .dropna()\n",
        "    )\n",
        "\n",
        "url = 'https://github.com/mattharrison/datasets/raw/master/data/2020-jetbrains-python-survey.csv'\n",
        "jb = pd.read_csv(url)\n",
        "jb2 = tweak_jb(jb)"
      ]
    },
    {
      "cell_type": "code",
      "source": [],
      "metadata": {
        "colab": {
          "base_uri": "https://localhost:8080/",
          "height": 315
        },
        "id": "vf7dKAblgvEK",
        "outputId": "a7dbca7b-727d-4a5b-cb66-4d2b04b285cd"
      },
      "execution_count": 11,
      "outputs": [
        {
          "output_type": "execute_result",
          "data": {
            "text/plain": [
              "             age  nps_main_ide  python_years     team_size  years_of_coding\n",
              "count    16094.0  16094.000000  16094.000000  16094.000000     16094.000000\n",
              "mean   29.253635      8.862682      4.616130      4.156953         5.097552\n",
              "std     9.664401      1.535643      3.185911      4.611627         3.809978\n",
              "min         18.0      0.000000      1.000000      1.000000         1.000000\n",
              "25%         21.0      8.000000      3.000000      2.000000         1.000000\n",
              "50%         30.0      9.000000      3.000000      3.000000         3.000000\n",
              "75%         30.0     10.000000      6.000000      4.000000        11.000000\n",
              "max         60.0     10.000000     11.000000     41.000000        11.000000"
            ],
            "text/html": [
              "\n",
              "  <div id=\"df-5bd92391-0b0a-45cd-99c6-f7eb279496b3\">\n",
              "    <div class=\"colab-df-container\">\n",
              "      <div>\n",
              "<style scoped>\n",
              "    .dataframe tbody tr th:only-of-type {\n",
              "        vertical-align: middle;\n",
              "    }\n",
              "\n",
              "    .dataframe tbody tr th {\n",
              "        vertical-align: top;\n",
              "    }\n",
              "\n",
              "    .dataframe thead th {\n",
              "        text-align: right;\n",
              "    }\n",
              "</style>\n",
              "<table border=\"1\" class=\"dataframe\">\n",
              "  <thead>\n",
              "    <tr style=\"text-align: right;\">\n",
              "      <th></th>\n",
              "      <th>age</th>\n",
              "      <th>nps_main_ide</th>\n",
              "      <th>python_years</th>\n",
              "      <th>team_size</th>\n",
              "      <th>years_of_coding</th>\n",
              "    </tr>\n",
              "  </thead>\n",
              "  <tbody>\n",
              "    <tr>\n",
              "      <th>count</th>\n",
              "      <td>16094.0</td>\n",
              "      <td>16094.000000</td>\n",
              "      <td>16094.000000</td>\n",
              "      <td>16094.000000</td>\n",
              "      <td>16094.000000</td>\n",
              "    </tr>\n",
              "    <tr>\n",
              "      <th>mean</th>\n",
              "      <td>29.253635</td>\n",
              "      <td>8.862682</td>\n",
              "      <td>4.616130</td>\n",
              "      <td>4.156953</td>\n",
              "      <td>5.097552</td>\n",
              "    </tr>\n",
              "    <tr>\n",
              "      <th>std</th>\n",
              "      <td>9.664401</td>\n",
              "      <td>1.535643</td>\n",
              "      <td>3.185911</td>\n",
              "      <td>4.611627</td>\n",
              "      <td>3.809978</td>\n",
              "    </tr>\n",
              "    <tr>\n",
              "      <th>min</th>\n",
              "      <td>18.0</td>\n",
              "      <td>0.000000</td>\n",
              "      <td>1.000000</td>\n",
              "      <td>1.000000</td>\n",
              "      <td>1.000000</td>\n",
              "    </tr>\n",
              "    <tr>\n",
              "      <th>25%</th>\n",
              "      <td>21.0</td>\n",
              "      <td>8.000000</td>\n",
              "      <td>3.000000</td>\n",
              "      <td>2.000000</td>\n",
              "      <td>1.000000</td>\n",
              "    </tr>\n",
              "    <tr>\n",
              "      <th>50%</th>\n",
              "      <td>30.0</td>\n",
              "      <td>9.000000</td>\n",
              "      <td>3.000000</td>\n",
              "      <td>3.000000</td>\n",
              "      <td>3.000000</td>\n",
              "    </tr>\n",
              "    <tr>\n",
              "      <th>75%</th>\n",
              "      <td>30.0</td>\n",
              "      <td>10.000000</td>\n",
              "      <td>6.000000</td>\n",
              "      <td>4.000000</td>\n",
              "      <td>11.000000</td>\n",
              "    </tr>\n",
              "    <tr>\n",
              "      <th>max</th>\n",
              "      <td>60.0</td>\n",
              "      <td>10.000000</td>\n",
              "      <td>11.000000</td>\n",
              "      <td>41.000000</td>\n",
              "      <td>11.000000</td>\n",
              "    </tr>\n",
              "  </tbody>\n",
              "</table>\n",
              "</div>\n",
              "      <button class=\"colab-df-convert\" onclick=\"convertToInteractive('df-5bd92391-0b0a-45cd-99c6-f7eb279496b3')\"\n",
              "              title=\"Convert this dataframe to an interactive table.\"\n",
              "              style=\"display:none;\">\n",
              "        \n",
              "  <svg xmlns=\"http://www.w3.org/2000/svg\" height=\"24px\"viewBox=\"0 0 24 24\"\n",
              "       width=\"24px\">\n",
              "    <path d=\"M0 0h24v24H0V0z\" fill=\"none\"/>\n",
              "    <path d=\"M18.56 5.44l.94 2.06.94-2.06 2.06-.94-2.06-.94-.94-2.06-.94 2.06-2.06.94zm-11 1L8.5 8.5l.94-2.06 2.06-.94-2.06-.94L8.5 2.5l-.94 2.06-2.06.94zm10 10l.94 2.06.94-2.06 2.06-.94-2.06-.94-.94-2.06-.94 2.06-2.06.94z\"/><path d=\"M17.41 7.96l-1.37-1.37c-.4-.4-.92-.59-1.43-.59-.52 0-1.04.2-1.43.59L10.3 9.45l-7.72 7.72c-.78.78-.78 2.05 0 2.83L4 21.41c.39.39.9.59 1.41.59.51 0 1.02-.2 1.41-.59l7.78-7.78 2.81-2.81c.8-.78.8-2.07 0-2.86zM5.41 20L4 18.59l7.72-7.72 1.47 1.35L5.41 20z\"/>\n",
              "  </svg>\n",
              "      </button>\n",
              "      \n",
              "  <style>\n",
              "    .colab-df-container {\n",
              "      display:flex;\n",
              "      flex-wrap:wrap;\n",
              "      gap: 12px;\n",
              "    }\n",
              "\n",
              "    .colab-df-convert {\n",
              "      background-color: #E8F0FE;\n",
              "      border: none;\n",
              "      border-radius: 50%;\n",
              "      cursor: pointer;\n",
              "      display: none;\n",
              "      fill: #1967D2;\n",
              "      height: 32px;\n",
              "      padding: 0 0 0 0;\n",
              "      width: 32px;\n",
              "    }\n",
              "\n",
              "    .colab-df-convert:hover {\n",
              "      background-color: #E2EBFA;\n",
              "      box-shadow: 0px 1px 2px rgba(60, 64, 67, 0.3), 0px 1px 3px 1px rgba(60, 64, 67, 0.15);\n",
              "      fill: #174EA6;\n",
              "    }\n",
              "\n",
              "    [theme=dark] .colab-df-convert {\n",
              "      background-color: #3B4455;\n",
              "      fill: #D2E3FC;\n",
              "    }\n",
              "\n",
              "    [theme=dark] .colab-df-convert:hover {\n",
              "      background-color: #434B5C;\n",
              "      box-shadow: 0px 1px 3px 1px rgba(0, 0, 0, 0.15);\n",
              "      filter: drop-shadow(0px 1px 2px rgba(0, 0, 0, 0.3));\n",
              "      fill: #FFFFFF;\n",
              "    }\n",
              "  </style>\n",
              "\n",
              "      <script>\n",
              "        const buttonEl =\n",
              "          document.querySelector('#df-5bd92391-0b0a-45cd-99c6-f7eb279496b3 button.colab-df-convert');\n",
              "        buttonEl.style.display =\n",
              "          google.colab.kernel.accessAllowed ? 'block' : 'none';\n",
              "\n",
              "        async function convertToInteractive(key) {\n",
              "          const element = document.querySelector('#df-5bd92391-0b0a-45cd-99c6-f7eb279496b3');\n",
              "          const dataTable =\n",
              "            await google.colab.kernel.invokeFunction('convertToInteractive',\n",
              "                                                     [key], {});\n",
              "          if (!dataTable) return;\n",
              "\n",
              "          const docLinkHtml = 'Like what you see? Visit the ' +\n",
              "            '<a target=\"_blank\" href=https://colab.research.google.com/notebooks/data_table.ipynb>data table notebook</a>'\n",
              "            + ' to learn more about interactive tables.';\n",
              "          element.innerHTML = '';\n",
              "          dataTable['output_type'] = 'display_data';\n",
              "          await google.colab.output.renderOutput(dataTable, element);\n",
              "          const docLink = document.createElement('div');\n",
              "          docLink.innerHTML = docLinkHtml;\n",
              "          element.appendChild(docLink);\n",
              "        }\n",
              "      </script>\n",
              "    </div>\n",
              "  </div>\n",
              "  "
            ]
          },
          "metadata": {},
          "execution_count": 11
        }
      ]
    },
    {
      "cell_type": "code",
      "source": [
        "jb.memory_usage(deep=True).sum()"
      ],
      "metadata": {
        "colab": {
          "base_uri": "https://localhost:8080/"
        },
        "id": "npi0B5oEifAt",
        "outputId": "ea8dcc09-2b4d-430b-a579-d6480def99f2"
      },
      "execution_count": 14,
      "outputs": [
        {
          "output_type": "execute_result",
          "data": {
            "text/plain": [
              "529602448"
            ]
          },
          "metadata": {},
          "execution_count": 14
        }
      ]
    },
    {
      "cell_type": "markdown",
      "source": [
        "from 529 megs to 13 megs"
      ],
      "metadata": {
        "id": "079BA3aojRSh"
      }
    },
    {
      "cell_type": "code",
      "source": [
        "jb2.memory_usage(deep=True).sum()"
      ],
      "metadata": {
        "colab": {
          "base_uri": "https://localhost:8080/"
        },
        "id": "60casl09i_GJ",
        "outputId": "c171b4a9-20ee-4606-f2d0-1357dae38205"
      },
      "execution_count": 15,
      "outputs": [
        {
          "output_type": "execute_result",
          "data": {
            "text/plain": [
              "13892498"
            ]
          },
          "metadata": {},
          "execution_count": 15
        }
      ]
    },
    {
      "cell_type": "code",
      "source": [],
      "metadata": {
        "id": "cDKvvPSXjKDY"
      },
      "execution_count": null,
      "outputs": []
    }
  ]
}