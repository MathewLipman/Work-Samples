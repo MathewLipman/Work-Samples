{
  "nbformat": 4,
  "nbformat_minor": 0,
  "metadata": {
    "colab": {
      "provenance": [],
      "mount_file_id": "1dehwq5IaLYsecFKoBiDD6yl4scj7qTut",
      "authorship_tag": "ABX9TyPp7BXWApzh2naDPvsNF4S7",
      "include_colab_link": true
    },
    "kernelspec": {
      "name": "python3",
      "display_name": "Python 3"
    },
    "language_info": {
      "name": "python"
    }
  },
  "cells": [
    {
      "cell_type": "markdown",
      "metadata": {
        "id": "view-in-github",
        "colab_type": "text"
      },
      "source": [
        "<a href=\"https://colab.research.google.com/github/MathewLipman/Work-Samples/blob/main/Retail_Data.ipynb\" target=\"_parent\"><img src=\"https://colab.research.google.com/assets/colab-badge.svg\" alt=\"Open In Colab\"/></a>"
      ]
    },
    {
      "cell_type": "markdown",
      "source": [
        "Examination of retail dataset provided by Kaggle here:\n",
        "https://www.kaggle.com/datasets/regivm/retailtransactiondata"
      ],
      "metadata": {
        "id": "K8G7jTyNLWPf"
      }
    },
    {
      "cell_type": "code",
      "execution_count": null,
      "metadata": {
        "id": "UPXZyW38LOtS"
      },
      "outputs": [],
      "source": []
    },
    {
      "cell_type": "markdown",
      "source": [
        "Common reasons for data requests:\n",
        "\n",
        "\n",
        "*   Surveying (identify our **X** customers)\n",
        "*   Investing (allocate resources for a digital marketing initiative)\n",
        "*   Creating  (create a loyalty program for **X** customers)\n",
        "\n",
        "Establishing the reason for the request is critical as data requests are commonly a means to an end.\n"
      ],
      "metadata": {
        "id": "TZw4yUT9LRME"
      }
    },
    {
      "cell_type": "code",
      "source": [
        "import pandas as pd\n",
        "import datetime as dt"
      ],
      "metadata": {
        "id": "g55yJO7wM8Ke"
      },
      "execution_count": null,
      "outputs": []
    },
    {
      "cell_type": "markdown",
      "source": [
        "We can parse our dates as we initiate reading our file and creating a pandas dataframe. We can also alternatively use pd.to_datetime() post load\n",
        "**The dates prior to being parsed were object(string) type**"
      ],
      "metadata": {
        "id": "cDDOt4v8X1B5"
      }
    },
    {
      "cell_type": "code",
      "source": [
        "data = pd.read_csv(\"/content/drive/MyDrive/Dataset/rfm_xmas19.txt\", parse_dates=[\"trans_date\"])"
      ],
      "metadata": {
        "id": "cg2J0Mh6Ug9Q"
      },
      "execution_count": null,
      "outputs": []
    },
    {
      "cell_type": "markdown",
      "source": [
        "125k rows and 3 columns"
      ],
      "metadata": {
        "id": "19joE7QcU2t8"
      }
    },
    {
      "cell_type": "code",
      "source": [
        "print(data.shape)"
      ],
      "metadata": {
        "colab": {
          "base_uri": "https://localhost:8080/"
        },
        "id": "G_uiS9hIUusP",
        "outputId": "ca1c9763-512e-4af2-dd16-d86d7a4a7a37"
      },
      "execution_count": null,
      "outputs": [
        {
          "output_type": "stream",
          "name": "stdout",
          "text": [
            "(125000, 3)\n"
          ]
        }
      ]
    },
    {
      "cell_type": "code",
      "source": [
        "print(data.head())\n",
        "print(data.tail())"
      ],
      "metadata": {
        "colab": {
          "base_uri": "https://localhost:8080/"
        },
        "id": "vyRy7G_nUtbe",
        "outputId": "d70cadf6-e5d3-4815-c475-d42723b13afc"
      },
      "execution_count": null,
      "outputs": [
        {
          "output_type": "stream",
          "name": "stdout",
          "text": [
            "  customer_id trans_date  tran_amount\n",
            "0      FM5295 2017-11-11           35\n",
            "1      FM4768 2019-12-15           39\n",
            "2      FM2122 2017-11-26           52\n",
            "3      FM1217 2016-08-16           99\n",
            "4      FM1850 2018-08-20           78\n",
            "       customer_id trans_date  tran_amount\n",
            "124995      FM8433 2016-03-26           64\n",
            "124996      FM7232 2019-05-19           38\n",
            "124997      FM8731 2019-08-28           42\n",
            "124998      FM8133 2018-09-14           13\n",
            "124999      FM7996 2019-09-13           36\n"
          ]
        }
      ]
    },
    {
      "cell_type": "code",
      "source": [
        "group_by_customer = data.groupby(\"customer_id\")\n",
        "print(group_by_customer.head())"
      ],
      "metadata": {
        "colab": {
          "base_uri": "https://localhost:8080/"
        },
        "id": "1WtSvOtBU-KL",
        "outputId": "3d95da5e-74c0-4688-9332-94397778f696"
      },
      "execution_count": null,
      "outputs": [
        {
          "output_type": "stream",
          "name": "stdout",
          "text": [
            "       customer_id trans_date  tran_amount\n",
            "0           FM5295 2017-11-11           35\n",
            "1           FM4768 2019-12-15           39\n",
            "2           FM2122 2017-11-26           52\n",
            "3           FM1217 2016-08-16           99\n",
            "4           FM1850 2018-08-20           78\n",
            "...            ...        ...          ...\n",
            "124305      FM8376 2017-07-22           69\n",
            "124326      FM8077 2017-10-13           37\n",
            "124395      FM7856 2019-10-10           46\n",
            "124602      FM7822 2019-04-08           74\n",
            "124878      FM7856 2017-03-28           50\n",
            "\n",
            "[34439 rows x 3 columns]\n"
          ]
        }
      ]
    },
    {
      "cell_type": "code",
      "source": [
        "last_transcation = group_by_customer['trans_date'].max()\n",
        "print(last_transcation.head())"
      ],
      "metadata": {
        "colab": {
          "base_uri": "https://localhost:8080/"
        },
        "id": "Y0m5wwsiVSmb",
        "outputId": "706ebb31-8ee4-43d8-c94f-741773099583"
      },
      "execution_count": null,
      "outputs": [
        {
          "output_type": "stream",
          "name": "stdout",
          "text": [
            "customer_id\n",
            "FM1112   2019-10-14\n",
            "FM1113   2019-11-09\n",
            "FM1114   2019-11-12\n",
            "FM1115   2019-12-05\n",
            "FM1116   2019-05-25\n",
            "Name: trans_date, dtype: datetime64[ns]\n"
          ]
        }
      ]
    },
    {
      "cell_type": "code",
      "source": [
        "last_transcation.shape"
      ],
      "metadata": {
        "colab": {
          "base_uri": "https://localhost:8080/"
        },
        "id": "GfjTLvlsWPzS",
        "outputId": "f3826db8-824c-4061-cf4f-eb7ade532184"
      },
      "execution_count": null,
      "outputs": [
        {
          "output_type": "execute_result",
          "data": {
            "text/plain": [
              "(6889,)"
            ]
          },
          "metadata": {},
          "execution_count": 18
        }
      ]
    },
    {
      "cell_type": "code",
      "source": [
        "best_churn = pd.DataFrame(last_transaction)\n",
        "print(best_churn.head())"
      ],
      "metadata": {
        "colab": {
          "base_uri": "https://localhost:8080/"
        },
        "id": "Wd6bw5jUbG92",
        "outputId": "51bf3bd0-3e90-46bf-f06b-104c0b0ef2a1"
      },
      "execution_count": null,
      "outputs": [
        {
          "output_type": "stream",
          "name": "stdout",
          "text": [
            "            trans_date\n",
            "customer_id           \n",
            "FM1112      2019-10-14\n",
            "FM1113      2019-11-09\n",
            "FM1114      2019-11-12\n",
            "FM1115      2019-12-05\n",
            "FM1116      2019-05-25\n"
          ]
        }
      ]
    },
    {
      "cell_type": "code",
      "source": [
        "cut_off_date = dt.datetime(2019, 9, 16)"
      ],
      "metadata": {
        "id": "q35xUJDDbMKP"
      },
      "execution_count": null,
      "outputs": []
    },
    {
      "cell_type": "code",
      "source": [
        "best_churn['churned'] = best_churn['trans_date'].apply(lambda date: 1 if date < cut_off_date else 0)"
      ],
      "metadata": {
        "id": "nVK8FhA_bhXM"
      },
      "execution_count": null,
      "outputs": []
    },
    {
      "cell_type": "code",
      "source": [
        "best_churn['churned'].value_counts()"
      ],
      "metadata": {
        "colab": {
          "base_uri": "https://localhost:8080/"
        },
        "id": "elhjKKUpbyu1",
        "outputId": "34ce1008-12b5-490d-8b74-2eb679c0925f"
      },
      "execution_count": null,
      "outputs": [
        {
          "output_type": "execute_result",
          "data": {
            "text/plain": [
              "0    4695\n",
              "1    2194\n",
              "Name: churned, dtype: int64"
            ]
          },
          "metadata": {},
          "execution_count": 31
        }
      ]
    },
    {
      "cell_type": "code",
      "source": [
        "churned_customers = best_churn[best_churn['churned'] == 1]"
      ],
      "metadata": {
        "id": "qtjsP-WtcAKU"
      },
      "execution_count": null,
      "outputs": []
    },
    {
      "cell_type": "code",
      "source": [
        "churned_customers.shape"
      ],
      "metadata": {
        "colab": {
          "base_uri": "https://localhost:8080/"
        },
        "id": "QWGAo1D0eSQP",
        "outputId": "4ea07255-449c-46be-968e-53c80de718d8"
      },
      "execution_count": null,
      "outputs": [
        {
          "output_type": "execute_result",
          "data": {
            "text/plain": [
              "(2194, 2)"
            ]
          },
          "metadata": {},
          "execution_count": 45
        }
      ]
    },
    {
      "cell_type": "code",
      "source": [
        "print(best_churn)"
      ],
      "metadata": {
        "colab": {
          "base_uri": "https://localhost:8080/"
        },
        "id": "OVepCOsoeYRu",
        "outputId": "4bcd853e-ab16-43df-93f2-e7f08651b1e8"
      },
      "execution_count": null,
      "outputs": [
        {
          "output_type": "stream",
          "name": "stdout",
          "text": [
            "            trans_date  churned\n",
            "customer_id                    \n",
            "FM1112      2019-10-14        0\n",
            "FM1113      2019-11-09        0\n",
            "FM1114      2019-11-12        0\n",
            "FM1115      2019-12-05        0\n",
            "FM1116      2019-05-25        1\n",
            "...                ...      ...\n",
            "FM8996      2019-09-09        1\n",
            "FM8997      2019-03-28        1\n",
            "FM8998      2019-09-22        0\n",
            "FM8999      2019-04-02        1\n",
            "FM9000      2019-11-28        0\n",
            "\n",
            "[6889 rows x 2 columns]\n"
          ]
        }
      ]
    },
    {
      "cell_type": "code",
      "source": [
        "best_churn[\"nr_of_transactions\"] = group_by_customer.size()"
      ],
      "metadata": {
        "id": "vslQrBFzgJt7"
      },
      "execution_count": null,
      "outputs": []
    },
    {
      "cell_type": "code",
      "source": [
        "print(best_churn['nr_of_transactions'])"
      ],
      "metadata": {
        "colab": {
          "base_uri": "https://localhost:8080/"
        },
        "id": "T3LBg28FgnXT",
        "outputId": "0743a611-e3c0-480e-de45-02c27febca4e"
      },
      "execution_count": null,
      "outputs": [
        {
          "output_type": "stream",
          "name": "stdout",
          "text": [
            "customer_id\n",
            "FM1112    15\n",
            "FM1113    20\n",
            "FM1114    19\n",
            "FM1115    22\n",
            "FM1116    13\n",
            "          ..\n",
            "FM8996    13\n",
            "FM8997    14\n",
            "FM8998    13\n",
            "FM8999    12\n",
            "FM9000    13\n",
            "Name: nr_of_transactions, Length: 6889, dtype: int64\n"
          ]
        }
      ]
    },
    {
      "cell_type": "code",
      "source": [
        "print(group_by_customer.head())"
      ],
      "metadata": {
        "colab": {
          "base_uri": "https://localhost:8080/"
        },
        "id": "aEj9kHI5grKY",
        "outputId": "4af354d6-22d8-4bd9-a52d-e8c9cbb0a7ba"
      },
      "execution_count": null,
      "outputs": [
        {
          "output_type": "stream",
          "name": "stdout",
          "text": [
            "       customer_id trans_date  tran_amount\n",
            "0           FM5295 2017-11-11           35\n",
            "1           FM4768 2019-12-15           39\n",
            "2           FM2122 2017-11-26           52\n",
            "3           FM1217 2016-08-16           99\n",
            "4           FM1850 2018-08-20           78\n",
            "...            ...        ...          ...\n",
            "124305      FM8376 2017-07-22           69\n",
            "124326      FM8077 2017-10-13           37\n",
            "124395      FM7856 2019-10-10           46\n",
            "124602      FM7822 2019-04-08           74\n",
            "124878      FM7856 2017-03-28           50\n",
            "\n",
            "[34439 rows x 3 columns]\n"
          ]
        }
      ]
    },
    {
      "cell_type": "code",
      "source": [
        "print(group_by_customer.size())"
      ],
      "metadata": {
        "colab": {
          "base_uri": "https://localhost:8080/"
        },
        "id": "CSnouSKmg_LN",
        "outputId": "9a4fd67e-27b4-4117-a7d5-cb35a550f0a0"
      },
      "execution_count": null,
      "outputs": [
        {
          "output_type": "stream",
          "name": "stdout",
          "text": [
            "customer_id\n",
            "FM1112    15\n",
            "FM1113    20\n",
            "FM1114    19\n",
            "FM1115    22\n",
            "FM1116    13\n",
            "          ..\n",
            "FM8996    13\n",
            "FM8997    14\n",
            "FM8998    13\n",
            "FM8999    12\n",
            "FM9000    13\n",
            "Length: 6889, dtype: int64\n"
          ]
        }
      ]
    },
    {
      "cell_type": "code",
      "source": [
        "best_churn[\"nr_of_transactions\"] = group_by_customer.size()"
      ],
      "metadata": {
        "id": "A4V0I5TqhBlo"
      },
      "execution_count": null,
      "outputs": []
    },
    {
      "cell_type": "code",
      "source": [
        "best_churn['total_spent'] = group_by_customer['tran_amount'].sum()\n"
      ],
      "metadata": {
        "id": "42OB3kYDhjv3"
      },
      "execution_count": null,
      "outputs": []
    },
    {
      "cell_type": "code",
      "source": [
        "print(best_churn.head())"
      ],
      "metadata": {
        "colab": {
          "base_uri": "https://localhost:8080/"
        },
        "id": "cTs09ugpiE0l",
        "outputId": "ef669b20-498e-4e58-efef-5ec15a473286"
      },
      "execution_count": null,
      "outputs": [
        {
          "output_type": "stream",
          "name": "stdout",
          "text": [
            "            trans_date  churned  nr_of_transactions  total_spent\n",
            "customer_id                                                     \n",
            "FM1112      2019-10-14        0                  15         1012\n",
            "FM1113      2019-11-09        0                  20         1490\n",
            "FM1114      2019-11-12        0                  19         1432\n",
            "FM1115      2019-12-05        0                  22         1659\n",
            "FM1116      2019-05-25        1                  13          857\n"
          ]
        }
      ]
    },
    {
      "cell_type": "code",
      "source": [
        "print(best_churn.head())"
      ],
      "metadata": {
        "colab": {
          "base_uri": "https://localhost:8080/"
        },
        "id": "Iw0hAzT9jYp7",
        "outputId": "1efe8795-0274-456c-8478-63511540e67c"
      },
      "execution_count": null,
      "outputs": [
        {
          "output_type": "stream",
          "name": "stdout",
          "text": [
            "             churned  nr_of_transactions  total_spent\n",
            "customer_id                                          \n",
            "FM1112             0                  15         1012\n",
            "FM1113             0                  20         1490\n",
            "FM1114             0                  19         1432\n",
            "FM1115             0                  22         1659\n",
            "FM1116             1                  13          857\n"
          ]
        }
      ]
    },
    {
      "cell_type": "code",
      "source": [
        "best_churn['rank'] = (best_churn['nr_of_transactions'] / 2) + (best_churn['total_spent'] / 2)"
      ],
      "metadata": {
        "id": "QIqvG9wNjkIt"
      },
      "execution_count": null,
      "outputs": []
    },
    {
      "cell_type": "markdown",
      "source": [
        "date column was popped from **group_by_customer** since it was no longer relevant (after grouping together transcations to transcation vol and spend to spend total) I should of stored it in a variable and need to explore if and when drop is better than pop to use.\n",
        "\n",
        ".pop():\n",
        "\n",
        "This method is used to remove a single column from a DataFrame and return that column. The changes are done in-place, which means the original DataFrame is modified. It's most commonly used when you want to use a column of data separately, but you don't need it in the original DataFrame anymore.\n",
        "\n",
        "\n",
        "\n",
        "Ideal use case for .pop(): When you want to remove a single column and use the removed column for further operations.\n",
        "\n",
        ".drop():\n",
        "\n",
        "This method is used to remove rows or columns by specifying labels. You can remove multiple columns or rows at once, and by default, it does not modify the original DataFrame; it returns a new one instead.\n",
        "\n",
        "If you want to drop in-place (i.e., modify the original DataFrame), you can use df.drop('column_name', axis=1, inplace=True).\n",
        "\n",
        "Ideal use case for .drop(): When you want to remove one or more columns or rows and don't need them for further operations.\n",
        "\n",
        "Core differences:\n",
        "\n",
        ".pop() operates in-place and can only operate on a single column, returning the popped column. .drop() operates on a copy by default, can remove multiple rows or columns at once, and returns the modified DataFrame.\n",
        ".pop() only operates on columns, while .drop() can operate on either rows or columns.\n",
        "They are not completely interchangeable because of these differences. For example, you can't use .pop() to remove a row or multiple columns, and you can't use .drop() to remove a column and return it for further use (unless you do additional steps to keep track of the dropped data).\n"
      ],
      "metadata": {
        "id": "noA7_HYVlPDN"
      }
    },
    {
      "cell_type": "code",
      "source": [
        "print(best_churn.head())"
      ],
      "metadata": {
        "colab": {
          "base_uri": "https://localhost:8080/"
        },
        "id": "udUoRIfoj6E7",
        "outputId": "4fcc9e23-b1ec-40cb-9549-48086cd6be3d"
      },
      "execution_count": null,
      "outputs": [
        {
          "output_type": "stream",
          "name": "stdout",
          "text": [
            "             churned  nr_of_transactions  total_spent   rank\n",
            "customer_id                                                 \n",
            "FM1112             0                  15         1012  513.5\n",
            "FM1113             0                  20         1490  755.0\n",
            "FM1114             0                  19         1432  725.5\n",
            "FM1115             0                  22         1659  840.5\n",
            "FM1116             1                  13          857  435.0\n"
          ]
        }
      ]
    },
    {
      "cell_type": "code",
      "source": [
        "best_churn[\n",
        "    [\"nr_of_transactions\", \"total_spent\"]\n",
        "].describe().loc[[\"min\", \"max\"]]"
      ],
      "metadata": {
        "colab": {
          "base_uri": "https://localhost:8080/",
          "height": 117
        },
        "id": "tEscCTvdj_9E",
        "outputId": "5a45fc20-ae82-4fb1-d76f-725f0f21ee1b"
      },
      "execution_count": null,
      "outputs": [
        {
          "output_type": "execute_result",
          "data": {
            "text/plain": [
              "     nr_of_transactions  total_spent\n",
              "min                 4.0        149.0\n",
              "max                39.0       2933.0"
            ],
            "text/html": [
              "\n",
              "  <div id=\"df-ed3f079f-aeeb-4858-8eb7-c7d2d6507d81\">\n",
              "    <div class=\"colab-df-container\">\n",
              "      <div>\n",
              "<style scoped>\n",
              "    .dataframe tbody tr th:only-of-type {\n",
              "        vertical-align: middle;\n",
              "    }\n",
              "\n",
              "    .dataframe tbody tr th {\n",
              "        vertical-align: top;\n",
              "    }\n",
              "\n",
              "    .dataframe thead th {\n",
              "        text-align: right;\n",
              "    }\n",
              "</style>\n",
              "<table border=\"1\" class=\"dataframe\">\n",
              "  <thead>\n",
              "    <tr style=\"text-align: right;\">\n",
              "      <th></th>\n",
              "      <th>nr_of_transactions</th>\n",
              "      <th>total_spent</th>\n",
              "    </tr>\n",
              "  </thead>\n",
              "  <tbody>\n",
              "    <tr>\n",
              "      <th>min</th>\n",
              "      <td>4.0</td>\n",
              "      <td>149.0</td>\n",
              "    </tr>\n",
              "    <tr>\n",
              "      <th>max</th>\n",
              "      <td>39.0</td>\n",
              "      <td>2933.0</td>\n",
              "    </tr>\n",
              "  </tbody>\n",
              "</table>\n",
              "</div>\n",
              "      <button class=\"colab-df-convert\" onclick=\"convertToInteractive('df-ed3f079f-aeeb-4858-8eb7-c7d2d6507d81')\"\n",
              "              title=\"Convert this dataframe to an interactive table.\"\n",
              "              style=\"display:none;\">\n",
              "        \n",
              "  <svg xmlns=\"http://www.w3.org/2000/svg\" height=\"24px\"viewBox=\"0 0 24 24\"\n",
              "       width=\"24px\">\n",
              "    <path d=\"M0 0h24v24H0V0z\" fill=\"none\"/>\n",
              "    <path d=\"M18.56 5.44l.94 2.06.94-2.06 2.06-.94-2.06-.94-.94-2.06-.94 2.06-2.06.94zm-11 1L8.5 8.5l.94-2.06 2.06-.94-2.06-.94L8.5 2.5l-.94 2.06-2.06.94zm10 10l.94 2.06.94-2.06 2.06-.94-2.06-.94-.94-2.06-.94 2.06-2.06.94z\"/><path d=\"M17.41 7.96l-1.37-1.37c-.4-.4-.92-.59-1.43-.59-.52 0-1.04.2-1.43.59L10.3 9.45l-7.72 7.72c-.78.78-.78 2.05 0 2.83L4 21.41c.39.39.9.59 1.41.59.51 0 1.02-.2 1.41-.59l7.78-7.78 2.81-2.81c.8-.78.8-2.07 0-2.86zM5.41 20L4 18.59l7.72-7.72 1.47 1.35L5.41 20z\"/>\n",
              "  </svg>\n",
              "      </button>\n",
              "      \n",
              "  <style>\n",
              "    .colab-df-container {\n",
              "      display:flex;\n",
              "      flex-wrap:wrap;\n",
              "      gap: 12px;\n",
              "    }\n",
              "\n",
              "    .colab-df-convert {\n",
              "      background-color: #E8F0FE;\n",
              "      border: none;\n",
              "      border-radius: 50%;\n",
              "      cursor: pointer;\n",
              "      display: none;\n",
              "      fill: #1967D2;\n",
              "      height: 32px;\n",
              "      padding: 0 0 0 0;\n",
              "      width: 32px;\n",
              "    }\n",
              "\n",
              "    .colab-df-convert:hover {\n",
              "      background-color: #E2EBFA;\n",
              "      box-shadow: 0px 1px 2px rgba(60, 64, 67, 0.3), 0px 1px 3px 1px rgba(60, 64, 67, 0.15);\n",
              "      fill: #174EA6;\n",
              "    }\n",
              "\n",
              "    [theme=dark] .colab-df-convert {\n",
              "      background-color: #3B4455;\n",
              "      fill: #D2E3FC;\n",
              "    }\n",
              "\n",
              "    [theme=dark] .colab-df-convert:hover {\n",
              "      background-color: #434B5C;\n",
              "      box-shadow: 0px 1px 3px 1px rgba(0, 0, 0, 0.15);\n",
              "      filter: drop-shadow(0px 1px 2px rgba(0, 0, 0, 0.3));\n",
              "      fill: #FFFFFF;\n",
              "    }\n",
              "  </style>\n",
              "\n",
              "      <script>\n",
              "        const buttonEl =\n",
              "          document.querySelector('#df-ed3f079f-aeeb-4858-8eb7-c7d2d6507d81 button.colab-df-convert');\n",
              "        buttonEl.style.display =\n",
              "          google.colab.kernel.accessAllowed ? 'block' : 'none';\n",
              "\n",
              "        async function convertToInteractive(key) {\n",
              "          const element = document.querySelector('#df-ed3f079f-aeeb-4858-8eb7-c7d2d6507d81');\n",
              "          const dataTable =\n",
              "            await google.colab.kernel.invokeFunction('convertToInteractive',\n",
              "                                                     [key], {});\n",
              "          if (!dataTable) return;\n",
              "\n",
              "          const docLinkHtml = 'Like what you see? Visit the ' +\n",
              "            '<a target=\"_blank\" href=https://colab.research.google.com/notebooks/data_table.ipynb>data table notebook</a>'\n",
              "            + ' to learn more about interactive tables.';\n",
              "          element.innerHTML = '';\n",
              "          dataTable['output_type'] = 'display_data';\n",
              "          await google.colab.output.renderOutput(dataTable, element);\n",
              "          const docLink = document.createElement('div');\n",
              "          docLink.innerHTML = docLinkHtml;\n",
              "          element.appendChild(docLink);\n",
              "        }\n",
              "      </script>\n",
              "    </div>\n",
              "  </div>\n",
              "  "
            ]
          },
          "metadata": {},
          "execution_count": 90
        }
      ]
    },
    {
      "cell_type": "code",
      "source": [
        "best_churn[\n",
        "    [\"nr_of_transactions\", \"total_spent\"]\n",
        "].describe().loc[[\"mean\"]]"
      ],
      "metadata": {
        "colab": {
          "base_uri": "https://localhost:8080/",
          "height": 84
        },
        "id": "jABVaWX3lH5C",
        "outputId": "cb6856ae-952c-46f5-ec0e-9e4a9bc3ed4f"
      },
      "execution_count": null,
      "outputs": [
        {
          "output_type": "execute_result",
          "data": {
            "text/plain": [
              "      nr_of_transactions  total_spent\n",
              "mean           18.144869  1179.269705"
            ],
            "text/html": [
              "\n",
              "  <div id=\"df-3d77eebd-0644-4c26-bdf0-fbdd01d9553c\">\n",
              "    <div class=\"colab-df-container\">\n",
              "      <div>\n",
              "<style scoped>\n",
              "    .dataframe tbody tr th:only-of-type {\n",
              "        vertical-align: middle;\n",
              "    }\n",
              "\n",
              "    .dataframe tbody tr th {\n",
              "        vertical-align: top;\n",
              "    }\n",
              "\n",
              "    .dataframe thead th {\n",
              "        text-align: right;\n",
              "    }\n",
              "</style>\n",
              "<table border=\"1\" class=\"dataframe\">\n",
              "  <thead>\n",
              "    <tr style=\"text-align: right;\">\n",
              "      <th></th>\n",
              "      <th>nr_of_transactions</th>\n",
              "      <th>total_spent</th>\n",
              "    </tr>\n",
              "  </thead>\n",
              "  <tbody>\n",
              "    <tr>\n",
              "      <th>mean</th>\n",
              "      <td>18.144869</td>\n",
              "      <td>1179.269705</td>\n",
              "    </tr>\n",
              "  </tbody>\n",
              "</table>\n",
              "</div>\n",
              "      <button class=\"colab-df-convert\" onclick=\"convertToInteractive('df-3d77eebd-0644-4c26-bdf0-fbdd01d9553c')\"\n",
              "              title=\"Convert this dataframe to an interactive table.\"\n",
              "              style=\"display:none;\">\n",
              "        \n",
              "  <svg xmlns=\"http://www.w3.org/2000/svg\" height=\"24px\"viewBox=\"0 0 24 24\"\n",
              "       width=\"24px\">\n",
              "    <path d=\"M0 0h24v24H0V0z\" fill=\"none\"/>\n",
              "    <path d=\"M18.56 5.44l.94 2.06.94-2.06 2.06-.94-2.06-.94-.94-2.06-.94 2.06-2.06.94zm-11 1L8.5 8.5l.94-2.06 2.06-.94-2.06-.94L8.5 2.5l-.94 2.06-2.06.94zm10 10l.94 2.06.94-2.06 2.06-.94-2.06-.94-.94-2.06-.94 2.06-2.06.94z\"/><path d=\"M17.41 7.96l-1.37-1.37c-.4-.4-.92-.59-1.43-.59-.52 0-1.04.2-1.43.59L10.3 9.45l-7.72 7.72c-.78.78-.78 2.05 0 2.83L4 21.41c.39.39.9.59 1.41.59.51 0 1.02-.2 1.41-.59l7.78-7.78 2.81-2.81c.8-.78.8-2.07 0-2.86zM5.41 20L4 18.59l7.72-7.72 1.47 1.35L5.41 20z\"/>\n",
              "  </svg>\n",
              "      </button>\n",
              "      \n",
              "  <style>\n",
              "    .colab-df-container {\n",
              "      display:flex;\n",
              "      flex-wrap:wrap;\n",
              "      gap: 12px;\n",
              "    }\n",
              "\n",
              "    .colab-df-convert {\n",
              "      background-color: #E8F0FE;\n",
              "      border: none;\n",
              "      border-radius: 50%;\n",
              "      cursor: pointer;\n",
              "      display: none;\n",
              "      fill: #1967D2;\n",
              "      height: 32px;\n",
              "      padding: 0 0 0 0;\n",
              "      width: 32px;\n",
              "    }\n",
              "\n",
              "    .colab-df-convert:hover {\n",
              "      background-color: #E2EBFA;\n",
              "      box-shadow: 0px 1px 2px rgba(60, 64, 67, 0.3), 0px 1px 3px 1px rgba(60, 64, 67, 0.15);\n",
              "      fill: #174EA6;\n",
              "    }\n",
              "\n",
              "    [theme=dark] .colab-df-convert {\n",
              "      background-color: #3B4455;\n",
              "      fill: #D2E3FC;\n",
              "    }\n",
              "\n",
              "    [theme=dark] .colab-df-convert:hover {\n",
              "      background-color: #434B5C;\n",
              "      box-shadow: 0px 1px 3px 1px rgba(0, 0, 0, 0.15);\n",
              "      filter: drop-shadow(0px 1px 2px rgba(0, 0, 0, 0.3));\n",
              "      fill: #FFFFFF;\n",
              "    }\n",
              "  </style>\n",
              "\n",
              "      <script>\n",
              "        const buttonEl =\n",
              "          document.querySelector('#df-3d77eebd-0644-4c26-bdf0-fbdd01d9553c button.colab-df-convert');\n",
              "        buttonEl.style.display =\n",
              "          google.colab.kernel.accessAllowed ? 'block' : 'none';\n",
              "\n",
              "        async function convertToInteractive(key) {\n",
              "          const element = document.querySelector('#df-3d77eebd-0644-4c26-bdf0-fbdd01d9553c');\n",
              "          const dataTable =\n",
              "            await google.colab.kernel.invokeFunction('convertToInteractive',\n",
              "                                                     [key], {});\n",
              "          if (!dataTable) return;\n",
              "\n",
              "          const docLinkHtml = 'Like what you see? Visit the ' +\n",
              "            '<a target=\"_blank\" href=https://colab.research.google.com/notebooks/data_table.ipynb>data table notebook</a>'\n",
              "            + ' to learn more about interactive tables.';\n",
              "          element.innerHTML = '';\n",
              "          dataTable['output_type'] = 'display_data';\n",
              "          await google.colab.output.renderOutput(dataTable, element);\n",
              "          const docLink = document.createElement('div');\n",
              "          docLink.innerHTML = docLinkHtml;\n",
              "          element.appendChild(docLink);\n",
              "        }\n",
              "      </script>\n",
              "    </div>\n",
              "  </div>\n",
              "  "
            ]
          },
          "metadata": {},
          "execution_count": 91
        }
      ]
    },
    {
      "cell_type": "markdown",
      "source": [
        "the backslashes need to be used\n",
        "\n",
        "This formula takes each value from the column and subtracts the min value from that column from it it then divides it by the max value for that column with the minimum subtracted from it. \n",
        "\n",
        "This allows us to do scaling releative to the range"
      ],
      "metadata": {
        "id": "tx5agM_ZpP32"
      }
    },
    {
      "cell_type": "code",
      "source": [
        "best_churn[\"scaled_tran\"] = (best_churn[\"nr_of_transactions\"] \\\n",
        "                             - best_churn[\"nr_of_transactions\"].min()) \\\n",
        "                             / (best_churn[\"nr_of_transactions\"].max() \\\n",
        "                             - best_churn[\"nr_of_transactions\"].min())"
      ],
      "metadata": {
        "id": "X5_3oCFEn62U"
      },
      "execution_count": null,
      "outputs": []
    },
    {
      "cell_type": "code",
      "source": [
        "best_churn['scaled_spent'] = (best_churn['total_spent'] \\\n",
        "                              - best_churn['total_spent'].min()) \\\n",
        "                              / (best_churn['total_spent'].max() \\\n",
        "                              - best_churn['total_spent'].min())\n",
        "\n"
      ],
      "metadata": {
        "id": "MoIK4vHEphLa"
      },
      "execution_count": null,
      "outputs": []
    },
    {
      "cell_type": "code",
      "source": [
        "print(best_churn.head())"
      ],
      "metadata": {
        "colab": {
          "base_uri": "https://localhost:8080/"
        },
        "id": "17wxZ0J6qNjA",
        "outputId": "36d7d0b1-d1c9-405f-9c0f-80a2f2b28a49"
      },
      "execution_count": null,
      "outputs": [
        {
          "output_type": "stream",
          "name": "stdout",
          "text": [
            "             churned  nr_of_transactions  total_spent   rank  scaled_tran  \\\n",
            "customer_id                                                                 \n",
            "FM1112             0                  15         1012  513.5     0.314286   \n",
            "FM1113             0                  20         1490  755.0     0.457143   \n",
            "FM1114             0                  19         1432  725.5     0.428571   \n",
            "FM1115             0                  22         1659  840.5     0.514286   \n",
            "FM1116             1                  13          857  435.0     0.257143   \n",
            "\n",
            "             scaled_spent  \n",
            "customer_id                \n",
            "FM1112           0.309986  \n",
            "FM1113           0.481681  \n",
            "FM1114           0.460848  \n",
            "FM1115           0.542385  \n",
            "FM1116           0.254310  \n"
          ]
        }
      ]
    },
    {
      "cell_type": "markdown",
      "source": [
        "Now that we have both amounts scaled we are going to add a new column to store this value into, we can compare ranks before and after scaling."
      ],
      "metadata": {
        "id": "8Hel5iZarPEf"
      }
    },
    {
      "cell_type": "code",
      "source": [
        "best_churn['score'] = 100*(.5*best_churn['scaled_tran'] + .5*best_churn['scaled_spent'])"
      ],
      "metadata": {
        "id": "MatTRIjuqTAK"
      },
      "execution_count": null,
      "outputs": []
    },
    {
      "cell_type": "code",
      "source": [
        "print(best_churn.head())"
      ],
      "metadata": {
        "colab": {
          "base_uri": "https://localhost:8080/"
        },
        "id": "AvLP6-uBr0Gn",
        "outputId": "d37145c5-8629-485d-e725-5d0340989a1f"
      },
      "execution_count": null,
      "outputs": [
        {
          "output_type": "stream",
          "name": "stdout",
          "text": [
            "             churned  nr_of_transactions  total_spent   rank  scaled_tran  \\\n",
            "customer_id                                                                 \n",
            "FM1112             0                  15         1012  513.5     0.314286   \n",
            "FM1113             0                  20         1490  755.0     0.457143   \n",
            "FM1114             0                  19         1432  725.5     0.428571   \n",
            "FM1115             0                  22         1659  840.5     0.514286   \n",
            "FM1116             1                  13          857  435.0     0.257143   \n",
            "\n",
            "             scaled_spent      score  \n",
            "customer_id                           \n",
            "FM1112           0.309986  31.213567  \n",
            "FM1113           0.481681  46.941195  \n",
            "FM1114           0.460848  44.470956  \n",
            "FM1115           0.542385  52.833539  \n",
            "FM1116           0.254310  25.572660  \n"
          ]
        }
      ]
    },
    {
      "cell_type": "markdown",
      "source": [
        "By scaling we have now balanced both variables as we wanted to weigh them evenly and we have a 100 point ranking system"
      ],
      "metadata": {
        "id": "C9A32f7cspay"
      }
    },
    {
      "cell_type": "code",
      "source": [
        "val_range = best_churn[\n",
        "    ['rank', 'score']\n",
        "].describe().loc[['min', 'max', 'mean']]    \n",
        "print(val_range)"
      ],
      "metadata": {
        "colab": {
          "base_uri": "https://localhost:8080/"
        },
        "id": "K0wOhQWmr9KE",
        "outputId": "e5787e35-31c4-4373-ae35-023627db394c"
      },
      "execution_count": null,
      "outputs": [
        {
          "output_type": "stream",
          "name": "stdout",
          "text": [
            "             rank       score\n",
            "min     76.500000    0.000000\n",
            "max   1486.000000  100.000000\n",
            "mean   598.707287   38.710362\n"
          ]
        }
      ]
    },
    {
      "cell_type": "code",
      "source": [
        "best_churn.sort_values('score', inplace=True,  ascending=False)"
      ],
      "metadata": {
        "id": "c5piY7Dar2pi"
      },
      "execution_count": null,
      "outputs": []
    },
    {
      "cell_type": "markdown",
      "source": [],
      "metadata": {
        "id": "Uzw3zgdgu7cC"
      }
    },
    {
      "cell_type": "markdown",
      "source": [
        "The top customers are still the top customers but scaling our rank to an 100 point system makes it easier to understand"
      ],
      "metadata": {
        "id": "hkBfscxOvBa4"
      }
    },
    {
      "cell_type": "code",
      "source": [
        "print(best_churn)"
      ],
      "metadata": {
        "colab": {
          "base_uri": "https://localhost:8080/"
        },
        "id": "KMCgVrHMtEI5",
        "outputId": "86697bce-d1f6-4cc7-efd8-4e8fc7089167"
      },
      "execution_count": null,
      "outputs": [
        {
          "output_type": "stream",
          "name": "stdout",
          "text": [
            "             churned  nr_of_transactions  total_spent    rank  scaled_tran  \\\n",
            "customer_id                                                                  \n",
            "FM4424             0                  39         2933  1486.0     1.000000   \n",
            "FM4320             0                  38         2647  1342.5     0.971429   \n",
            "FM3799             1                  36         2513  1274.5     0.914286   \n",
            "FM5109             0                  35         2506  1270.5     0.885714   \n",
            "FM3805             1                  35         2453  1244.0     0.885714   \n",
            "...              ...                 ...          ...     ...          ...   \n",
            "FM7716             1                   4          221   112.5     0.000000   \n",
            "FM7224             1                   4          191    97.5     0.000000   \n",
            "FM8504             0                   4          190    97.0     0.000000   \n",
            "FM8559             1                   4          157    80.5     0.000000   \n",
            "FM7333             1                   4          149    76.5     0.000000   \n",
            "\n",
            "             scaled_spent       score  \n",
            "customer_id                            \n",
            "FM4424           1.000000  100.000000  \n",
            "FM4320           0.897270   93.434934  \n",
            "FM3799           0.849138   88.171182  \n",
            "FM5109           0.846624   86.616892  \n",
            "FM3805           0.827586   85.665025  \n",
            "...                   ...         ...  \n",
            "FM7716           0.025862    1.293103  \n",
            "FM7224           0.015086    0.754310  \n",
            "FM8504           0.014727    0.736351  \n",
            "FM8559           0.002874    0.143678  \n",
            "FM7333           0.000000    0.000000  \n",
            "\n",
            "[6889 rows x 7 columns]\n"
          ]
        }
      ]
    },
    {
      "cell_type": "code",
      "source": [
        "print(data.head())"
      ],
      "metadata": {
        "colab": {
          "base_uri": "https://localhost:8080/"
        },
        "id": "Tk0q7-oGukV7",
        "outputId": "fcddbce8-32c5-4a15-805d-b937326ca93d"
      },
      "execution_count": null,
      "outputs": [
        {
          "output_type": "stream",
          "name": "stdout",
          "text": [
            "  customer_id trans_date  tran_amount\n",
            "0      FM5295 2017-11-11           35\n",
            "1      FM4768 2019-12-15           39\n",
            "2      FM2122 2017-11-26           52\n",
            "3      FM1217 2016-08-16           99\n",
            "4      FM1850 2018-08-20           78\n"
          ]
        }
      ]
    },
    {
      "cell_type": "code",
      "source": [
        "mean_tran_amount = data['tran_amount'].mean()\n",
        "print(mean_tran_amount)"
      ],
      "metadata": {
        "colab": {
          "base_uri": "https://localhost:8080/"
        },
        "id": "4jeNKdVEvtNT",
        "outputId": "4a0c176e-2993-4306-9d46-04400ca19fa2"
      },
      "execution_count": null,
      "outputs": [
        {
          "output_type": "stream",
          "name": "stdout",
          "text": [
            "64.991912\n"
          ]
        }
      ]
    },
    {
      "cell_type": "markdown",
      "source": [
        "Based on a $1000 coupon budget, we take the avg transcation amount and reduce it by 2/3 and then divide that amount by coupon amount. This gives us the amount of customers we can offer a reasonable discount for to entice them to shop "
      ],
      "metadata": {
        "id": "M0c6LiqVwQyN"
      }
    },
    {
      "cell_type": "code",
      "source": [
        "coupon = data['tran_amount'].mean() *.3\n",
        "nr_of_customers = 1000 / coupon"
      ],
      "metadata": {
        "id": "bEW832gCvx5q"
      },
      "execution_count": null,
      "outputs": []
    },
    {
      "cell_type": "code",
      "source": [
        "print(coupon, nr_of_customers)\n",
        "print(coupon, nr_of_customers, sep=\"\\n\")"
      ],
      "metadata": {
        "colab": {
          "base_uri": "https://localhost:8080/"
        },
        "id": "ra4VXvLnwhIY",
        "outputId": "5bca3400-9b94-4238-f203-4d94a358ea94"
      },
      "execution_count": null,
      "outputs": [
        {
          "output_type": "stream",
          "name": "stdout",
          "text": [
            "19.4975736 51.28843314123969\n",
            "19.4975736\n",
            "51.28843314123969\n"
          ]
        }
      ]
    },
    {
      "cell_type": "code",
      "source": [
        "top_50_churned = best_churn[best_churn['churned'] == 1]\n",
        "top_50_churned = top_50_churned.head(50)\n",
        "top_50_churned.to_csv('/content/drive/MyDrive/Dataset/retail_data.txt')"
      ],
      "metadata": {
        "id": "Eujr16gUwjDF"
      },
      "execution_count": null,
      "outputs": []
    },
    {
      "cell_type": "code",
      "source": [
        "top_50_churnedb = best_churn.loc[best_churn['churned'] == 1].head(50)\n",
        "top_50_churnedb.to_csv('/content/drive/MyDrive/Dataset/retail_datab.csv')"
      ],
      "metadata": {
        "id": "U5vIlbezw5I-"
      },
      "execution_count": null,
      "outputs": []
    },
    {
      "cell_type": "code",
      "source": [
        "print(top_50_churned.head())"
      ],
      "metadata": {
        "id": "h88MiNt1zhbd"
      },
      "execution_count": null,
      "outputs": []
    },
    {
      "cell_type": "code",
      "source": [
        "print(top_50_churnedb.head())"
      ],
      "metadata": {
        "id": "m5Nf2gpy0OOH"
      },
      "execution_count": null,
      "outputs": []
    },
    {
      "cell_type": "code",
      "source": [],
      "metadata": {
        "id": "1iU1nivY0aS8"
      },
      "execution_count": 142,
      "outputs": []
    }
  ]
}