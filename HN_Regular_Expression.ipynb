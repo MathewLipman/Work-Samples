{
  "nbformat": 4,
  "nbformat_minor": 0,
  "metadata": {
    "colab": {
      "provenance": [],
      "mount_file_id": "15ds7zkkq8wi0MRj4Rj4xJQjeU5EeVjs9",
      "authorship_tag": "ABX9TyNL5sU9IMw/M4keSbwWwJRL",
      "include_colab_link": true
    },
    "kernelspec": {
      "name": "python3",
      "display_name": "Python 3"
    },
    "language_info": {
      "name": "python"
    }
  },
  "cells": [
    {
      "cell_type": "markdown",
      "metadata": {
        "id": "view-in-github",
        "colab_type": "text"
      },
      "source": [
        "<a href=\"https://colab.research.google.com/github/MathewLipman/Work-Samples/blob/main/HN_Regular_Expression.ipynb\" target=\"_parent\"><img src=\"https://colab.research.google.com/assets/colab-badge.svg\" alt=\"Open In Colab\"/></a>"
      ]
    },
    {
      "cell_type": "code",
      "execution_count": 3,
      "metadata": {
        "id": "6Se43VTAnVyL"
      },
      "outputs": [],
      "source": [
        "import pandas as pd\n",
        "import numpy as np\n",
        "import matplotlib.pyplot as plt\n",
        "import seaborn as sns\n",
        "import matplotlib.style as style"
      ]
    },
    {
      "cell_type": "markdown",
      "source": [
        "id: The unique identifier from Hacker News for the story\n",
        "title: The title of the story\n",
        "url: The URL that the stories links to, if the story has a URL\n",
        "num_points: The number of points the story acquired, calculated as the total number of upvotes minus the total number of downvotes\n",
        "num_comments: The number of comments that were made on the story\n",
        "author: The username of the person who submitted the story\n",
        "created_at: The date and time at which the story was submitted"
      ],
      "metadata": {
        "id": "IY-ia3gG0o6q"
      }
    },
    {
      "cell_type": "code",
      "source": [
        "hacker_news = pd.read_csv('/content/drive/MyDrive/Dataset/hacker_news.csv')\n"
      ],
      "metadata": {
        "id": "0Qgs_H5Vos_6"
      },
      "execution_count": 4,
      "outputs": []
    },
    {
      "cell_type": "code",
      "source": [
        "hacker_news.info()"
      ],
      "metadata": {
        "colab": {
          "base_uri": "https://localhost:8080/"
        },
        "id": "bJxCV8U40w7i",
        "outputId": "9920cd44-e64b-4f95-d2c8-42b1d9161d23"
      },
      "execution_count": 5,
      "outputs": [
        {
          "output_type": "stream",
          "name": "stdout",
          "text": [
            "<class 'pandas.core.frame.DataFrame'>\n",
            "RangeIndex: 20100 entries, 0 to 20099\n",
            "Data columns (total 7 columns):\n",
            " #   Column        Non-Null Count  Dtype \n",
            "---  ------        --------------  ----- \n",
            " 0   id            20100 non-null  int64 \n",
            " 1   title         20100 non-null  object\n",
            " 2   url           17660 non-null  object\n",
            " 3   num_points    20100 non-null  int64 \n",
            " 4   num_comments  20100 non-null  int64 \n",
            " 5   author        20100 non-null  object\n",
            " 6   created_at    20100 non-null  object\n",
            "dtypes: int64(3), object(4)\n",
            "memory usage: 1.1+ MB\n"
          ]
        }
      ]
    },
    {
      "cell_type": "code",
      "source": [
        "hn = hacker_news"
      ],
      "metadata": {
        "id": "nnvL3NJR0yN7"
      },
      "execution_count": 6,
      "outputs": []
    },
    {
      "cell_type": "code",
      "source": [
        "hn.head()"
      ],
      "metadata": {
        "colab": {
          "base_uri": "https://localhost:8080/",
          "height": 204
        },
        "id": "mrScgi3t0283",
        "outputId": "9d4c265b-f106-421b-a769-641065847bc3"
      },
      "execution_count": 7,
      "outputs": [
        {
          "output_type": "execute_result",
          "data": {
            "text/plain": [
              "         id                                              title  \\\n",
              "0  12224879                          Interactive Dynamic Video   \n",
              "1  10975351  How to Use Open Source and Shut the Fuck Up at...   \n",
              "2  11964716  Florida DJs May Face Felony for April Fools' W...   \n",
              "3  11919867       Technology ventures: From Idea to Enterprise   \n",
              "4  10301696  Note by Note: The Making of Steinway L1037 (2007)   \n",
              "\n",
              "                                                 url  num_points  \\\n",
              "0            http://www.interactivedynamicvideo.com/         386   \n",
              "1  http://hueniverse.com/2016/01/26/how-to-use-op...          39   \n",
              "2  http://www.thewire.com/entertainment/2013/04/f...           2   \n",
              "3  https://www.amazon.com/Technology-Ventures-Ent...           3   \n",
              "4  http://www.nytimes.com/2007/11/07/movies/07ste...           8   \n",
              "\n",
              "   num_comments      author       created_at  \n",
              "0            52    ne0phyte   8/4/2016 11:52  \n",
              "1            10      josep2  1/26/2016 19:30  \n",
              "2             1    vezycash  6/23/2016 22:20  \n",
              "3             1     hswarna   6/17/2016 0:01  \n",
              "4             2  walterbell   9/30/2015 4:12  "
            ],
            "text/html": [
              "\n",
              "  <div id=\"df-3ea8d7d0-caa1-4994-9444-6405cecd660a\">\n",
              "    <div class=\"colab-df-container\">\n",
              "      <div>\n",
              "<style scoped>\n",
              "    .dataframe tbody tr th:only-of-type {\n",
              "        vertical-align: middle;\n",
              "    }\n",
              "\n",
              "    .dataframe tbody tr th {\n",
              "        vertical-align: top;\n",
              "    }\n",
              "\n",
              "    .dataframe thead th {\n",
              "        text-align: right;\n",
              "    }\n",
              "</style>\n",
              "<table border=\"1\" class=\"dataframe\">\n",
              "  <thead>\n",
              "    <tr style=\"text-align: right;\">\n",
              "      <th></th>\n",
              "      <th>id</th>\n",
              "      <th>title</th>\n",
              "      <th>url</th>\n",
              "      <th>num_points</th>\n",
              "      <th>num_comments</th>\n",
              "      <th>author</th>\n",
              "      <th>created_at</th>\n",
              "    </tr>\n",
              "  </thead>\n",
              "  <tbody>\n",
              "    <tr>\n",
              "      <th>0</th>\n",
              "      <td>12224879</td>\n",
              "      <td>Interactive Dynamic Video</td>\n",
              "      <td>http://www.interactivedynamicvideo.com/</td>\n",
              "      <td>386</td>\n",
              "      <td>52</td>\n",
              "      <td>ne0phyte</td>\n",
              "      <td>8/4/2016 11:52</td>\n",
              "    </tr>\n",
              "    <tr>\n",
              "      <th>1</th>\n",
              "      <td>10975351</td>\n",
              "      <td>How to Use Open Source and Shut the Fuck Up at...</td>\n",
              "      <td>http://hueniverse.com/2016/01/26/how-to-use-op...</td>\n",
              "      <td>39</td>\n",
              "      <td>10</td>\n",
              "      <td>josep2</td>\n",
              "      <td>1/26/2016 19:30</td>\n",
              "    </tr>\n",
              "    <tr>\n",
              "      <th>2</th>\n",
              "      <td>11964716</td>\n",
              "      <td>Florida DJs May Face Felony for April Fools' W...</td>\n",
              "      <td>http://www.thewire.com/entertainment/2013/04/f...</td>\n",
              "      <td>2</td>\n",
              "      <td>1</td>\n",
              "      <td>vezycash</td>\n",
              "      <td>6/23/2016 22:20</td>\n",
              "    </tr>\n",
              "    <tr>\n",
              "      <th>3</th>\n",
              "      <td>11919867</td>\n",
              "      <td>Technology ventures: From Idea to Enterprise</td>\n",
              "      <td>https://www.amazon.com/Technology-Ventures-Ent...</td>\n",
              "      <td>3</td>\n",
              "      <td>1</td>\n",
              "      <td>hswarna</td>\n",
              "      <td>6/17/2016 0:01</td>\n",
              "    </tr>\n",
              "    <tr>\n",
              "      <th>4</th>\n",
              "      <td>10301696</td>\n",
              "      <td>Note by Note: The Making of Steinway L1037 (2007)</td>\n",
              "      <td>http://www.nytimes.com/2007/11/07/movies/07ste...</td>\n",
              "      <td>8</td>\n",
              "      <td>2</td>\n",
              "      <td>walterbell</td>\n",
              "      <td>9/30/2015 4:12</td>\n",
              "    </tr>\n",
              "  </tbody>\n",
              "</table>\n",
              "</div>\n",
              "      <button class=\"colab-df-convert\" onclick=\"convertToInteractive('df-3ea8d7d0-caa1-4994-9444-6405cecd660a')\"\n",
              "              title=\"Convert this dataframe to an interactive table.\"\n",
              "              style=\"display:none;\">\n",
              "        \n",
              "  <svg xmlns=\"http://www.w3.org/2000/svg\" height=\"24px\"viewBox=\"0 0 24 24\"\n",
              "       width=\"24px\">\n",
              "    <path d=\"M0 0h24v24H0V0z\" fill=\"none\"/>\n",
              "    <path d=\"M18.56 5.44l.94 2.06.94-2.06 2.06-.94-2.06-.94-.94-2.06-.94 2.06-2.06.94zm-11 1L8.5 8.5l.94-2.06 2.06-.94-2.06-.94L8.5 2.5l-.94 2.06-2.06.94zm10 10l.94 2.06.94-2.06 2.06-.94-2.06-.94-.94-2.06-.94 2.06-2.06.94z\"/><path d=\"M17.41 7.96l-1.37-1.37c-.4-.4-.92-.59-1.43-.59-.52 0-1.04.2-1.43.59L10.3 9.45l-7.72 7.72c-.78.78-.78 2.05 0 2.83L4 21.41c.39.39.9.59 1.41.59.51 0 1.02-.2 1.41-.59l7.78-7.78 2.81-2.81c.8-.78.8-2.07 0-2.86zM5.41 20L4 18.59l7.72-7.72 1.47 1.35L5.41 20z\"/>\n",
              "  </svg>\n",
              "      </button>\n",
              "      \n",
              "  <style>\n",
              "    .colab-df-container {\n",
              "      display:flex;\n",
              "      flex-wrap:wrap;\n",
              "      gap: 12px;\n",
              "    }\n",
              "\n",
              "    .colab-df-convert {\n",
              "      background-color: #E8F0FE;\n",
              "      border: none;\n",
              "      border-radius: 50%;\n",
              "      cursor: pointer;\n",
              "      display: none;\n",
              "      fill: #1967D2;\n",
              "      height: 32px;\n",
              "      padding: 0 0 0 0;\n",
              "      width: 32px;\n",
              "    }\n",
              "\n",
              "    .colab-df-convert:hover {\n",
              "      background-color: #E2EBFA;\n",
              "      box-shadow: 0px 1px 2px rgba(60, 64, 67, 0.3), 0px 1px 3px 1px rgba(60, 64, 67, 0.15);\n",
              "      fill: #174EA6;\n",
              "    }\n",
              "\n",
              "    [theme=dark] .colab-df-convert {\n",
              "      background-color: #3B4455;\n",
              "      fill: #D2E3FC;\n",
              "    }\n",
              "\n",
              "    [theme=dark] .colab-df-convert:hover {\n",
              "      background-color: #434B5C;\n",
              "      box-shadow: 0px 1px 3px 1px rgba(0, 0, 0, 0.15);\n",
              "      filter: drop-shadow(0px 1px 2px rgba(0, 0, 0, 0.3));\n",
              "      fill: #FFFFFF;\n",
              "    }\n",
              "  </style>\n",
              "\n",
              "      <script>\n",
              "        const buttonEl =\n",
              "          document.querySelector('#df-3ea8d7d0-caa1-4994-9444-6405cecd660a button.colab-df-convert');\n",
              "        buttonEl.style.display =\n",
              "          google.colab.kernel.accessAllowed ? 'block' : 'none';\n",
              "\n",
              "        async function convertToInteractive(key) {\n",
              "          const element = document.querySelector('#df-3ea8d7d0-caa1-4994-9444-6405cecd660a');\n",
              "          const dataTable =\n",
              "            await google.colab.kernel.invokeFunction('convertToInteractive',\n",
              "                                                     [key], {});\n",
              "          if (!dataTable) return;\n",
              "\n",
              "          const docLinkHtml = 'Like what you see? Visit the ' +\n",
              "            '<a target=\"_blank\" href=https://colab.research.google.com/notebooks/data_table.ipynb>data table notebook</a>'\n",
              "            + ' to learn more about interactive tables.';\n",
              "          element.innerHTML = '';\n",
              "          dataTable['output_type'] = 'display_data';\n",
              "          await google.colab.output.renderOutput(dataTable, element);\n",
              "          const docLink = document.createElement('div');\n",
              "          docLink.innerHTML = docLinkHtml;\n",
              "          element.appendChild(docLink);\n",
              "        }\n",
              "      </script>\n",
              "    </div>\n",
              "  </div>\n",
              "  "
            ]
          },
          "metadata": {},
          "execution_count": 7
        }
      ]
    },
    {
      "cell_type": "code",
      "source": [
        "import re"
      ],
      "metadata": {
        "id": "LIPS2kS6290c"
      },
      "execution_count": 8,
      "outputs": []
    },
    {
      "cell_type": "code",
      "source": [
        "python_mentions_title = 0\n",
        "pattern = \"[Pp]ython\"\n",
        "\n",
        "for s in hn['title']:\n",
        "    if re.search(pattern, s):\n",
        "        python_mentions_title += 1\n",
        "\n",
        "print(python_mentions_title)"
      ],
      "metadata": {
        "colab": {
          "base_uri": "https://localhost:8080/"
        },
        "id": "V5B8Kv9w0674",
        "outputId": "4200a327-c16a-4ca5-cbec-00e76e9d9b86"
      },
      "execution_count": 9,
      "outputs": [
        {
          "output_type": "stream",
          "name": "stdout",
          "text": [
            "160\n"
          ]
        }
      ]
    },
    {
      "cell_type": "code",
      "source": [
        "\n",
        "\n",
        "titles = hn[\"title\"].tolist()\n",
        "python_mentions = 0\n",
        "pattern = \"[Pp]ython\"\n",
        "\n",
        "for t in titles:\n",
        "    if re.search(pattern, t):\n",
        "        python_mentions += 1"
      ],
      "metadata": {
        "id": "hGxel0qQ27lT"
      },
      "execution_count": 10,
      "outputs": []
    },
    {
      "cell_type": "code",
      "source": [
        "titles = hn[\"title\"].tolist()"
      ],
      "metadata": {
        "id": "l9w7nlzC32y3"
      },
      "execution_count": 11,
      "outputs": []
    },
    {
      "cell_type": "code",
      "source": [
        "pattern = \"[Pp]ython\"\n",
        "python_titles = hn['title'].str.contains(pattern)"
      ],
      "metadata": {
        "id": "yJaI5Rnk4YFo"
      },
      "execution_count": 12,
      "outputs": []
    },
    {
      "cell_type": "code",
      "source": [
        "python_titles.value_counts()"
      ],
      "metadata": {
        "colab": {
          "base_uri": "https://localhost:8080/"
        },
        "id": "pFOvLrIu5Gjq",
        "outputId": "b9c510dd-5ede-4da9-91fe-37654683c504"
      },
      "execution_count": 13,
      "outputs": [
        {
          "output_type": "execute_result",
          "data": {
            "text/plain": [
              "False    19940\n",
              "True       160\n",
              "Name: title, dtype: int64"
            ]
          },
          "metadata": {},
          "execution_count": 13
        }
      ]
    },
    {
      "cell_type": "code",
      "source": [
        "pt = hn.groupby(python_titles)"
      ],
      "metadata": {
        "id": "ywDXCCAL5IcC"
      },
      "execution_count": 14,
      "outputs": []
    },
    {
      "cell_type": "code",
      "source": [
        "combined = pd.concat([hn, python_titles], ignore_index=True, axis=1)"
      ],
      "metadata": {
        "id": "kS9SvNOt6NrR"
      },
      "execution_count": 15,
      "outputs": []
    },
    {
      "cell_type": "code",
      "source": [
        "print(combined)"
      ],
      "metadata": {
        "colab": {
          "base_uri": "https://localhost:8080/"
        },
        "id": "8vW1C3Ch6PC1",
        "outputId": "99847af8-7303-40f0-af8a-bc0adfa52456"
      },
      "execution_count": 16,
      "outputs": [
        {
          "output_type": "stream",
          "name": "stdout",
          "text": [
            "              0                                                  1  \\\n",
            "0      12224879                          Interactive Dynamic Video   \n",
            "1      10975351  How to Use Open Source and Shut the Fuck Up at...   \n",
            "2      11964716  Florida DJs May Face Felony for April Fools' W...   \n",
            "3      11919867       Technology ventures: From Idea to Enterprise   \n",
            "4      10301696  Note by Note: The Making of Steinway L1037 (2007)   \n",
            "...         ...                                                ...   \n",
            "20095  12379592  How Purism Avoids Intels Active Management Tec...   \n",
            "20096  10339284          YC Application Translated and Broken Down   \n",
            "20097  10824382  Microkernels are slow and Elvis didn't do no d...   \n",
            "20098  10739875                      How Product Hunt really works   \n",
            "20099  11680777  RoboBrowser: Your friendly neighborhood web sc...   \n",
            "\n",
            "                                                       2    3    4  \\\n",
            "0                http://www.interactivedynamicvideo.com/  386   52   \n",
            "1      http://hueniverse.com/2016/01/26/how-to-use-op...   39   10   \n",
            "2      http://www.thewire.com/entertainment/2013/04/f...    2    1   \n",
            "3      https://www.amazon.com/Technology-Ventures-Ent...    3    1   \n",
            "4      http://www.nytimes.com/2007/11/07/movies/07ste...    8    2   \n",
            "...                                                  ...  ...  ...   \n",
            "20095  https://puri.sm/philosophy/how-purism-avoids-i...   10    6   \n",
            "20096  https://medium.com/@zreitano/the-yc-applicatio...    4    1   \n",
            "20097  http://blog.darknedgy.net/technology/2016/01/0...  169  132   \n",
            "20098  https://medium.com/@benjiwheeler/how-product-h...  695  222   \n",
            "20099              https://github.com/jmcarp/robobrowser  182   58   \n",
            "\n",
            "                   5                 6      7  \n",
            "0           ne0phyte    8/4/2016 11:52  False  \n",
            "1             josep2   1/26/2016 19:30  False  \n",
            "2           vezycash   6/23/2016 22:20  False  \n",
            "3            hswarna    6/17/2016 0:01  False  \n",
            "4         walterbell    9/30/2015 4:12  False  \n",
            "...              ...               ...    ...  \n",
            "20095  AdmiralAsshat    8/29/2016 2:22  False  \n",
            "20096       zreitano   10/6/2015 14:57  False  \n",
            "20097    vezzy-fnord     1/2/2016 0:49  False  \n",
            "20098          brw12  12/15/2015 19:32  False  \n",
            "20099      pmoriarty    5/12/2016 1:43  False  \n",
            "\n",
            "[20100 rows x 8 columns]\n"
          ]
        }
      ]
    },
    {
      "cell_type": "code",
      "source": [
        "pattern = '[Pp]ython'\n",
        "titles = hn['title']\n",
        "python_mentions = titles.str.contains(pattern).sum()"
      ],
      "metadata": {
        "id": "qFrcHFTd6zBa"
      },
      "execution_count": 17,
      "outputs": []
    },
    {
      "cell_type": "code",
      "source": [
        "titles = hn['title']\n",
        "\n",
        "py_titles_bool = titles.str.contains(\"[Pp]ython\")\n",
        "print(py_titles_bool.head())\n"
      ],
      "metadata": {
        "colab": {
          "base_uri": "https://localhost:8080/"
        },
        "id": "QKCed29k7JqO",
        "outputId": "9d4e77aa-32dd-454b-df1c-6e369e0e04e0"
      },
      "execution_count": 18,
      "outputs": [
        {
          "output_type": "stream",
          "name": "stdout",
          "text": [
            "0    False\n",
            "1    False\n",
            "2    False\n",
            "3    False\n",
            "4    False\n",
            "Name: title, dtype: bool\n"
          ]
        }
      ]
    },
    {
      "cell_type": "code",
      "source": [
        "py_titles = titles[py_titles_bool]\n",
        "print(py_titles.head())"
      ],
      "metadata": {
        "colab": {
          "base_uri": "https://localhost:8080/"
        },
        "id": "ZDmMpRnd7ybO",
        "outputId": "91b64fee-e739-42cd-f800-7fb25a9da4aa"
      },
      "execution_count": 19,
      "outputs": [
        {
          "output_type": "stream",
          "name": "stdout",
          "text": [
            "103                  From Python to Lua: Why We Switched\n",
            "104            Ubuntu 16.04 LTS to Ship Without Python 2\n",
            "145    Create a GUI Application Using Qt and Python i...\n",
            "197    How I Solved GCHQ's Xmas Card with Python and ...\n",
            "437    Unikernel Power Comes to Java, Node.js, Go, an...\n",
            "Name: title, dtype: object\n"
          ]
        }
      ]
    },
    {
      "cell_type": "code",
      "source": [],
      "metadata": {
        "id": "gHJbtiu-88ZM"
      },
      "execution_count": 19,
      "outputs": []
    },
    {
      "cell_type": "code",
      "source": [
        "pattern = \"[Aa]pple\"\n",
        "apple_titles_bool = hn['title'].str.contains(pattern)\n",
        "apple_titles  =  titles[apple_titles_bool]\n",
        "print(apple_titles.head())"
      ],
      "metadata": {
        "colab": {
          "base_uri": "https://localhost:8080/"
        },
        "id": "ujd4lxET77qf",
        "outputId": "d49aa6c4-fbf7-4ef7-af0e-d7f6ccc083bf"
      },
      "execution_count": 20,
      "outputs": [
        {
          "output_type": "stream",
          "name": "stdout",
          "text": [
            "81     Apple Watch Scooped Up Over Half the Smartwatc...\n",
            "209    Jony Ive Sighted Driving the Apple Car Through...\n",
            "266       Show HN: Unofficial Tinder Client for Apple TV\n",
            "283    Toyota to Adopt Fords Entertainment Software t...\n",
            "376                           Apple  Don't Blink [video]\n",
            "Name: title, dtype: object\n"
          ]
        }
      ]
    },
    {
      "cell_type": "code",
      "source": [
        "py_titles = hn['title'][hn['title'].str.contains(\"[Pp]ython\")]\n",
        "print(py_titles.head())"
      ],
      "metadata": {
        "colab": {
          "base_uri": "https://localhost:8080/"
        },
        "id": "p85P7qLK9F4I",
        "outputId": "cc0c8ae4-b00a-485a-b5d7-e6db3afabd67"
      },
      "execution_count": 21,
      "outputs": [
        {
          "output_type": "stream",
          "name": "stdout",
          "text": [
            "103                  From Python to Lua: Why We Switched\n",
            "104            Ubuntu 16.04 LTS to Ship Without Python 2\n",
            "145    Create a GUI Application Using Qt and Python i...\n",
            "197    How I Solved GCHQ's Xmas Card with Python and ...\n",
            "437    Unikernel Power Comes to Java, Node.js, Go, an...\n",
            "Name: title, dtype: object\n"
          ]
        }
      ]
    },
    {
      "cell_type": "code",
      "source": [
        "ruby_titles = hn['title'][hn['title'].str.contains(\"[Rr]uby\")]\n",
        "print(ruby_titles.head())"
      ],
      "metadata": {
        "colab": {
          "base_uri": "https://localhost:8080/"
        },
        "id": "tWiVLioP-IXB",
        "outputId": "6f9292bf-eaeb-4c86-b603-0d420af4c61e"
      },
      "execution_count": 22,
      "outputs": [
        {
          "output_type": "stream",
          "name": "stdout",
          "text": [
            "191                    Ruby on Google AppEngine Goes Beta\n",
            "485          Related: Pure Ruby Relational Algebra Engine\n",
            "1389    Show HN: HTTPalooza  Ruby's greatest HTTP clie...\n",
            "1950    Rewriting a Ruby C Extension in Rust: How a Na...\n",
            "2023    Show HN: CrashBreak  Reproduce exceptions as f...\n",
            "Name: title, dtype: object\n"
          ]
        }
      ]
    },
    {
      "cell_type": "markdown",
      "source": [
        "a{3} a - three times\n",
        "\n",
        "a{3,5} a - three, four or five times\n",
        "\n",
        "a{,3} a - zero, one, two or three times\n",
        "\n",
        "a{8,} a - 8 times or more\n",
        "\n",
        "a{0,} a - zero or more times\n",
        "a{1,} a - one or more times\n",
        "a{0,1} a - zero or one time (Optional)"
      ],
      "metadata": {
        "id": "8XD4J-XYDUAB"
      }
    },
    {
      "cell_type": "code",
      "source": [
        "email_bool = titles.str.contains(\"e-?mail\")\n"
      ],
      "metadata": {
        "id": "NhvnLqtm-yZd"
      },
      "execution_count": 23,
      "outputs": []
    },
    {
      "cell_type": "code",
      "source": [
        "email_count = email_bool.sum()"
      ],
      "metadata": {
        "id": "1zERvWi0FJWG"
      },
      "execution_count": 24,
      "outputs": []
    },
    {
      "cell_type": "code",
      "source": [
        "email_titles = titles[email_bool]\n",
        "print(email_titles.head())"
      ],
      "metadata": {
        "colab": {
          "base_uri": "https://localhost:8080/"
        },
        "id": "o9agpa0AFPok",
        "outputId": "e36c1184-14a1-4cc8-a626-fd97dacb6966"
      },
      "execution_count": 25,
      "outputs": [
        {
          "output_type": "stream",
          "name": "stdout",
          "text": [
            "120     Show HN: Send an email from your shell to your...\n",
            "314         Disposable emails for safe spam free shopping\n",
            "1362    Ask HN: Doing cold emails? helps us prove this...\n",
            "1751    Protect yourself from spam, bots and phishing ...\n",
            "2422                   Ashley Madison hack treating email\n",
            "Name: title, dtype: object\n"
          ]
        }
      ]
    },
    {
      "cell_type": "markdown",
      "source": [
        "[fud] - either f, u or d\n",
        "\n",
        "[a-e] - a,b,c,d, or e\n",
        "\n",
        "[0-3] - 0,1,2 or 3\n",
        "\n",
        "[A-Z] - any uppercase letter\n",
        "\n",
        "[A-Za-z] - any uppercase or lowercase letter\n",
        "\n",
        "\\d - any digit character (equivalent to [0-9])\n",
        "\n",
        "\\w - any digit uppercase, lowercase or underscore character (equivalent to [A-Za-z0-9]\n",
        "\n",
        "\\s - any space, tab or linebreak character\n",
        "\n",
        ". - any character except newline"
      ],
      "metadata": {
        "id": "2OtRLd1ZH5vl"
      }
    },
    {
      "cell_type": "code",
      "source": [
        "pattern = \"\\[\\w+\\]\"\n",
        "tag_titles = titles[titles.str.contains(pattern)]\n",
        "tag_count = tag_titles.shape[0]"
      ],
      "metadata": {
        "id": "IdVXJJ63FZbL"
      },
      "execution_count": 26,
      "outputs": []
    },
    {
      "cell_type": "code",
      "source": [
        "print(tag_count)"
      ],
      "metadata": {
        "colab": {
          "base_uri": "https://localhost:8080/"
        },
        "id": "PhuuzmEXKX4l",
        "outputId": "d094e399-e0ec-4a7f-c4d3-9a661fac6d27"
      },
      "execution_count": 27,
      "outputs": [
        {
          "output_type": "stream",
          "name": "stdout",
          "text": [
            "444\n"
          ]
        }
      ]
    },
    {
      "cell_type": "code",
      "source": [
        "tag_5 = tag_titles.head()\n",
        "print(tag_5)"
      ],
      "metadata": {
        "colab": {
          "base_uri": "https://localhost:8080/"
        },
        "id": "c5oj97z1KemA",
        "outputId": "f18d2b86-88de-4d5b-8266-8bab6b481a34"
      },
      "execution_count": 28,
      "outputs": [
        {
          "output_type": "stream",
          "name": "stdout",
          "text": [
            "67     Analysis of 114 propaganda sources from ISIS, ...\n",
            "101    Munich Gunman Got Weapon from the Darknet [Ger...\n",
            "160         File indexing and searching for Plan 9 [pdf]\n",
            "163    Attack on Kunduz Trauma Centre, Afghanistan  I...\n",
            "196               [Beta] Speedtest.net  HTML5 Speed Test\n",
            "Name: title, dtype: object\n"
          ]
        }
      ]
    },
    {
      "cell_type": "code",
      "source": [
        "pattern = r\"\\[(\\w+)\\]\"\n",
        "tag_5_matches = tag_5.str.extract(pattern, expand=False)\n",
        "print(tag_5_matches)"
      ],
      "metadata": {
        "colab": {
          "base_uri": "https://localhost:8080/"
        },
        "id": "be7747wjS9Ti",
        "outputId": "7fe5101f-0c5c-4206-a092-bc7d8dd4eb20"
      },
      "execution_count": 29,
      "outputs": [
        {
          "output_type": "stream",
          "name": "stdout",
          "text": [
            "67        pdf\n",
            "101    German\n",
            "160       pdf\n",
            "163       pdf\n",
            "196      Beta\n",
            "Name: title, dtype: object\n"
          ]
        }
      ]
    },
    {
      "cell_type": "code",
      "source": [
        "tag_titles.value_counts()"
      ],
      "metadata": {
        "colab": {
          "base_uri": "https://localhost:8080/"
        },
        "id": "BPDAyGhWgBl1",
        "outputId": "9190fa09-c765-4689-e5e6-2bda07a91323"
      },
      "execution_count": 30,
      "outputs": [
        {
          "output_type": "execute_result",
          "data": {
            "text/plain": [
              "Analysis of 114 propaganda sources from ISIS, Jabhat al-Nusra, al-Qaeda [pdf]    1\n",
              "3-D Depth Reconstruction from a Single Still Image (2007) [pdf]                  1\n",
              "[video] Introducing Apple File System                                            1\n",
              "Enough Is Enough: Stop Wasting Money on Vitamin and Mineral Supplements [pdf]    1\n",
              "Optimal Tip-to-Tip Efficiency  a model for male audience stimulation [pdf]       1\n",
              "                                                                                ..\n",
              "Macromedia Flash   A New  Hope for Web Applications (2002) [pdf]                 1\n",
              "Y Combinator's Altman: What I Worry About in Business [video]                    1\n",
              "The impact of syntax colouring on program comprehension [pdf]                    1\n",
              "Linkedin 13M settlement over Add Connections [pdf]                               1\n",
              "Users Really Do Plug in USB Drives They Find [pdf]                               1\n",
              "Name: title, Length: 444, dtype: int64"
            ]
          },
          "metadata": {},
          "execution_count": 30
        }
      ]
    },
    {
      "cell_type": "markdown",
      "source": [
        "putting the parentises outside everything but the quotes means we capture the brackets [] as well "
      ],
      "metadata": {
        "id": "5efSUJEJiine"
      }
    },
    {
      "cell_type": "code",
      "source": [
        "pattern = r\"(\\[\\w+\\])\"\n",
        "tag_5_matches = tag_5.str.extract(pattern)\n",
        "print(tag_5_matches)\n"
      ],
      "metadata": {
        "colab": {
          "base_uri": "https://localhost:8080/"
        },
        "id": "B3r3WMNSTrGh",
        "outputId": "c7d42835-a8a5-4f5d-fd34-8b1bd67226ab"
      },
      "execution_count": 31,
      "outputs": [
        {
          "output_type": "stream",
          "name": "stdout",
          "text": [
            "            0\n",
            "67      [pdf]\n",
            "101  [German]\n",
            "160     [pdf]\n",
            "163     [pdf]\n",
            "196    [Beta]\n"
          ]
        }
      ]
    },
    {
      "cell_type": "markdown",
      "source": [
        "We are extract a pattern (which captures everything inside the brackets), and store the output as a frequency table in a new variable, tag_freq"
      ],
      "metadata": {
        "id": "w4DLZVXWkDCU"
      }
    },
    {
      "cell_type": "code",
      "source": [
        "\n",
        "pattern = r\"\\[(\\w+)\\]\"\n",
        "tag_freq = titles.str.extract(pattern, expand=False).value_counts()\n"
      ],
      "metadata": {
        "id": "Y4v1gDRujoNX"
      },
      "execution_count": 37,
      "outputs": []
    },
    {
      "cell_type": "markdown",
      "source": [
        "def first_10_matches(pattern):\n",
        "    \"\"\"\n",
        "    Return the first 10 story titles that match\n",
        "    the provided regular expression\n",
        "    \"\"\"\n",
        "    all_matches = titles[titles.str.contains(pattern)]\n",
        "    first_10 = all_matches.head(10)\n",
        "    return first_10"
      ],
      "metadata": {
        "id": "OQyfCWBmkvJi"
      }
    },
    {
      "cell_type": "code",
      "source": [
        "def first_10_matches(pattern):\n",
        "    \"\"\"\n",
        "    Return the first 10 story titles that match\n",
        "    the provided regular expression\n",
        "    \"\"\"\n",
        "    all_matches = titles[titles.str.contains(pattern)]\n",
        "    first_10 = all_matches.head(10)\n",
        "    return first_10\n",
        "pattern = r\"\\[(\\w+)\\]\"\n",
        "tag_count = titles[titles.str.contains(pattern)]"
      ],
      "metadata": {
        "id": "f3PsbNVij_tK"
      },
      "execution_count": 39,
      "outputs": []
    },
    {
      "cell_type": "code",
      "source": [
        "\n",
        "def first_10_matches(pattern):\n",
        "    \"\"\"\n",
        "    Return the first 10 story titles that match\n",
        "    the provided regular expression\n",
        "    \"\"\"\n",
        "    all_matches = titles[titles.str.contains(pattern)]\n",
        "    first_10 = all_matches.head(10)\n",
        "    return first_10\n",
        "pattern = r\"[Jj]ava[^Ss]\"\n",
        "java_titles = titles[titles.str.contains(pattern)]"
      ],
      "metadata": {
        "id": "8-p5PJtTVH8K"
      },
      "execution_count": 41,
      "outputs": []
    },
    {
      "cell_type": "markdown",
      "source": [
        "This pattern finds Java but eliminates instances where Java is followed by an S or s (eliminating Javascript or JavaScript) "
      ],
      "metadata": {
        "id": "Ha7aB4qKYeb6"
      }
    },
    {
      "cell_type": "code",
      "source": [
        "\n",
        "def first_10_matches(pattern):\n",
        "    \"\"\"\n",
        "    Return the first 10 story titles that match\n",
        "    the provided regular expression\n",
        "    \"\"\"\n",
        "    all_matches = titles[titles.str.contains(pattern)]\n",
        "    first_10 = all_matches.head(10)\n",
        "    return first_10\n",
        "pattern = r\"[Jj]ava[^Ss]\"\n",
        "first_10_matches_java = first_10_matches(pattern)"
      ],
      "metadata": {
        "id": "8-VLekhwVS7H"
      },
      "execution_count": 51,
      "outputs": []
    },
    {
      "cell_type": "markdown",
      "source": [
        "Negative Regular Expression - Negative Character Classes\n",
        "[^fud] - any character except f, u or d\n",
        "\n",
        "[^1-3Z\\s] any character exept 1,2,3 Z or whitespace characters\n",
        "\n",
        "**Uppercasing the letters makes them exceptions:**\n",
        "\n",
        "[\\D] any character except digit characters\n",
        "\n",
        "[\\W] any character except word characters\n",
        "\n",
        "[\\S] any character except whitespace characters "
      ],
      "metadata": {
        "id": "xbTGCvDRXCc6"
      }
    },
    {
      "cell_type": "code",
      "source": [
        "pattern = r\"\\b[Jj]ava\\b\"\n",
        "java_titles = titles[titles.str.contains(pattern)]\n"
      ],
      "metadata": {
        "id": "dLxLqdVzZoJl"
      },
      "execution_count": 67,
      "outputs": []
    },
    {
      "cell_type": "markdown",
      "source": [
        "Beginning Anchor - ^abc = matches abc only at the start of a string\n",
        "\n",
        "End Anchor - abc$  - matches abc only at the end of a string"
      ],
      "metadata": {
        "id": "PuPDAh40beK2"
      }
    },
    {
      "cell_type": "code",
      "source": [
        "test_cases = pd.Series([\n",
        "    \"Red Nose Day is a well-known fundraising event\",\n",
        "    \"My favorite color is Red\",\n",
        "    \"My Red Car was purchased three years ago\"\n",
        "])\n",
        "print(test_cases)"
      ],
      "metadata": {
        "colab": {
          "base_uri": "https://localhost:8080/"
        },
        "id": "V5jovxfyWOj3",
        "outputId": "071f7b34-586a-45d2-e3a3-43afbb807b95"
      },
      "execution_count": 71,
      "outputs": [
        {
          "output_type": "stream",
          "name": "stdout",
          "text": [
            "0    Red Nose Day is a well-known fundraising event\n",
            "1                          My favorite color is Red\n",
            "2          My Red Car was purchased three years ago\n",
            "dtype: object\n"
          ]
        }
      ]
    },
    {
      "cell_type": "markdown",
      "source": [
        "Since our pattern has a ^ at the start of it, it only finds strings that start with \"Red\""
      ],
      "metadata": {
        "id": "1BTvHTnIb-vd"
      }
    },
    {
      "cell_type": "code",
      "source": [
        "test_cases.str.contains(r\"^Red\")"
      ],
      "metadata": {
        "colab": {
          "base_uri": "https://localhost:8080/"
        },
        "id": "Jm_4Z92iZkfZ",
        "outputId": "f5de6658-3157-4646-c9cf-d460d4ccc8b0"
      },
      "execution_count": 72,
      "outputs": [
        {
          "output_type": "execute_result",
          "data": {
            "text/plain": [
              "0     True\n",
              "1    False\n",
              "2    False\n",
              "dtype: bool"
            ]
          },
          "metadata": {},
          "execution_count": 72
        }
      ]
    },
    {
      "cell_type": "code",
      "source": [
        "test_cases.str.contains(r\"^My\")"
      ],
      "metadata": {
        "colab": {
          "base_uri": "https://localhost:8080/"
        },
        "id": "RjAabA7eb66s",
        "outputId": "063c5aef-338e-475e-a2b5-d22df6cdd39e"
      },
      "execution_count": 73,
      "outputs": [
        {
          "output_type": "execute_result",
          "data": {
            "text/plain": [
              "0    False\n",
              "1     True\n",
              "2     True\n",
              "dtype: bool"
            ]
          },
          "metadata": {},
          "execution_count": 73
        }
      ]
    },
    {
      "cell_type": "markdown",
      "source": [
        "using the $ symbol will only find patterns in strings that end with that value"
      ],
      "metadata": {
        "id": "iS-84Kozca-b"
      }
    },
    {
      "cell_type": "code",
      "source": [
        "test_cases.str.contains(r\"Red$\")"
      ],
      "metadata": {
        "colab": {
          "base_uri": "https://localhost:8080/"
        },
        "id": "Ob72iUJVcHTD",
        "outputId": "3031bda0-e078-4db8-e675-45520cd21ad9"
      },
      "execution_count": 74,
      "outputs": [
        {
          "output_type": "execute_result",
          "data": {
            "text/plain": [
              "0    False\n",
              "1     True\n",
              "2    False\n",
              "dtype: bool"
            ]
          },
          "metadata": {},
          "execution_count": 74
        }
      ]
    },
    {
      "cell_type": "markdown",
      "source": [
        "only find strings that begin with [ ] "
      ],
      "metadata": {
        "id": "SJx7Bka_gXMv"
      }
    },
    {
      "cell_type": "code",
      "source": [
        "pattern_beginning = r\"^\\[\\w+\\]\"\n",
        "beginning_count = titles.str.contains(pattern_beginning).sum()\n"
      ],
      "metadata": {
        "id": "sUeb5uStcOhC"
      },
      "execution_count": 86,
      "outputs": []
    },
    {
      "cell_type": "markdown",
      "source": [
        "only find strings that end with [ ]"
      ],
      "metadata": {
        "id": "x-EDF8AWga1B"
      }
    },
    {
      "cell_type": "code",
      "source": [
        "pattern_beginning = r\"\\[\\w+\\]$\"\n",
        "ending_count = titles.str.contains(pattern_beginning).sum()\n",
        "\n"
      ],
      "metadata": {
        "id": "Am5efBwrddj7"
      },
      "execution_count": 87,
      "outputs": []
    },
    {
      "cell_type": "code",
      "source": [
        "email_tests = pd.Series(['email', 'Email', 'eMail', 'EMAIL'])\n",
        "email_tests.str.contains(r\"email\")"
      ],
      "metadata": {
        "colab": {
          "base_uri": "https://localhost:8080/"
        },
        "id": "ozzgX1gzd97x",
        "outputId": "25b72016-9f68-43a3-86b8-8a7417f2d0ce"
      },
      "execution_count": 90,
      "outputs": [
        {
          "output_type": "execute_result",
          "data": {
            "text/plain": [
              "0     True\n",
              "1    False\n",
              "2    False\n",
              "3    False\n",
              "dtype: bool"
            ]
          },
          "metadata": {},
          "execution_count": 90
        }
      ]
    },
    {
      "cell_type": "code",
      "source": [
        "import re\n",
        "email_tests.str.contains(r\"email\",flags=re.I)"
      ],
      "metadata": {
        "colab": {
          "base_uri": "https://localhost:8080/"
        },
        "id": "6SRIUo3igk8V",
        "outputId": "519832e8-e7af-47f9-ec34-d0bd61baf26c"
      },
      "execution_count": 99,
      "outputs": [
        {
          "output_type": "execute_result",
          "data": {
            "text/plain": [
              "0      True\n",
              "1      True\n",
              "2     False\n",
              "3     False\n",
              "4     False\n",
              "5     False\n",
              "6      True\n",
              "7     False\n",
              "8      True\n",
              "9      True\n",
              "10     True\n",
              "11    False\n",
              "dtype: bool"
            ]
          },
          "metadata": {},
          "execution_count": 99
        }
      ]
    },
    {
      "cell_type": "code",
      "source": [
        "email_in_titles = titles.str.contains(r\"email\",flags=re.I)"
      ],
      "metadata": {
        "id": "t2tiAu3ygm4R"
      },
      "execution_count": 92,
      "outputs": []
    },
    {
      "cell_type": "code",
      "source": [
        "email_tests = pd.Series(['email', 'Email', 'e Mail', 'e mail', 'E-mail',\n",
        "              'e-mail', 'eMail', 'E-Mail', 'EMAIL', 'emails', 'Emails',\n",
        "              'E-Mails'])\n",
        "\n",
        "pattern = r\"\\be[\\-\\s]?mails?\\b\"\n",
        "\n",
        "email_mentions = titles.str.contains(pattern,flags=re.I).sum()"
      ],
      "metadata": {
        "id": "ocfV1Qnrg9vU"
      },
      "execution_count": 102,
      "outputs": []
    },
    {
      "cell_type": "code",
      "source": [
        "pattern = r\"[Pp]ython\"\n",
        "python_counts = titles.str.contains(pattern).sum()\n",
        "print(python_counts)"
      ],
      "metadata": {
        "colab": {
          "base_uri": "https://localhost:8080/"
        },
        "id": "AkJauzgHhNuN",
        "outputId": "ab2340f6-27ea-4f30-adf2-1b57be0709d5"
      },
      "execution_count": 105,
      "outputs": [
        {
          "output_type": "stream",
          "name": "stdout",
          "text": [
            "160\n"
          ]
        }
      ]
    },
    {
      "cell_type": "markdown",
      "source": [
        "using  `flags=re.I`  will match to case any case in the pattern"
      ],
      "metadata": {
        "id": "RtuEdVl4j6CC"
      }
    },
    {
      "cell_type": "code",
      "source": [
        "pattern = r\"python\"\n",
        "python_counts = titles.str.contains(pattern, flags=re.I).sum()\n",
        "print(python_counts)"
      ],
      "metadata": {
        "colab": {
          "base_uri": "https://localhost:8080/"
        },
        "id": "AIDcK74qjy2G",
        "outputId": "275ed581-21e3-4c0c-d5c1-0bcc0cbc6fe6"
      },
      "execution_count": 106,
      "outputs": [
        {
          "output_type": "stream",
          "name": "stdout",
          "text": [
            "160\n"
          ]
        }
      ]
    },
    {
      "cell_type": "code",
      "source": [
        "pattern = r'sql'\n",
        "sql_counts = titles.str.contains(pattern, flags=re.I).sum()\n",
        "print(sql_counts)"
      ],
      "metadata": {
        "colab": {
          "base_uri": "https://localhost:8080/"
        },
        "id": "5u0FrRyFj4Go",
        "outputId": "df044803-80db-4360-902a-8089c560df17"
      },
      "execution_count": 108,
      "outputs": [
        {
          "output_type": "stream",
          "name": "stdout",
          "text": [
            "108\n"
          ]
        }
      ]
    },
    {
      "cell_type": "code",
      "source": [
        "pattern = r'(SQL)'\n",
        "sql_capitalizations = titles.str.extract(pattern, flags=re.I, expand=False)\n",
        "sql_capitalizations_freq = sql_capitalizations.value_counts()\n",
        "print(sql_capitalizations_freq)"
      ],
      "metadata": {
        "colab": {
          "base_uri": "https://localhost:8080/"
        },
        "id": "zEo5rXyXkby7",
        "outputId": "50fb5433-e966-42cc-dc90-6019478739e5"
      },
      "execution_count": 112,
      "outputs": [
        {
          "output_type": "stream",
          "name": "stdout",
          "text": [
            "SQL    101\n",
            "Sql      4\n",
            "sql      3\n",
            "Name: title, dtype: int64\n"
          ]
        }
      ]
    },
    {
      "cell_type": "markdown",
      "source": [
        "adding \"\\w+\" to our () will match to any word that is prior to our SQL pattern (which is not case sensitive because of our flags=re.I)"
      ],
      "metadata": {
        "id": "8Rmc20lNm_et"
      }
    },
    {
      "cell_type": "code",
      "source": [
        "pattern = r\"(\\w+SQL)\"\n",
        "sql_flavors = titles.str.extract(pattern, flags=re.I, expand=False)\n",
        "sql_flavors_freq = sql_flavors.value_counts()\n",
        "print(sql_flavors_freq)"
      ],
      "metadata": {
        "colab": {
          "base_uri": "https://localhost:8080/"
        },
        "id": "m4MY6iVUmMrM",
        "outputId": "78c16e9c-47a9-4286-c062-c4ff15e4dc94"
      },
      "execution_count": 113,
      "outputs": [
        {
          "output_type": "stream",
          "name": "stdout",
          "text": [
            "PostgreSQL    27\n",
            "NoSQL         16\n",
            "MySQL         12\n",
            "MemSQL         1\n",
            "SparkSQL       1\n",
            "nosql          1\n",
            "mySql          1\n",
            "CloudSQL       1\n",
            "Name: title, dtype: int64\n"
          ]
        }
      ]
    },
    {
      "cell_type": "code",
      "source": [
        "pattern = r\"(\\w+PYTHON)\"\n",
        "python_flavors = titles.str.extract(pattern, flags=re.I, expand=False)\n",
        "python_flavors_freq = python_flavors.value_counts()\n",
        "print(python_flavors_freq)"
      ],
      "metadata": {
        "colab": {
          "base_uri": "https://localhost:8080/"
        },
        "id": "ZjiPcQZBpIN_",
        "outputId": "2c3e50c2-66bd-4644-87d3-364f0488b290"
      },
      "execution_count": 114,
      "outputs": [
        {
          "output_type": "stream",
          "name": "stdout",
          "text": [
            "CPython         2\n",
            "IPython         2\n",
            "MicroPython     2\n",
            "IronPython      1\n",
            "ImportPython    1\n",
            "Micropython     1\n",
            "Ptpython        1\n",
            "Name: title, dtype: int64\n"
          ]
        }
      ]
    },
    {
      "cell_type": "code",
      "source": [
        "pattern = r\"(\\w+SQL)\"\n",
        "sql_flavors = titles.str.extract(pattern, flags=re.I, expand=False).str.lower()\n",
        "sql_flavors_freq = sql_flavors.value_counts()\n",
        "print(sql_flavors_freq)"
      ],
      "metadata": {
        "colab": {
          "base_uri": "https://localhost:8080/"
        },
        "id": "yw5hBVowpNlc",
        "outputId": "54f3f8a5-cd84-48fe-cb0b-7b843897bf24"
      },
      "execution_count": 115,
      "outputs": [
        {
          "output_type": "stream",
          "name": "stdout",
          "text": [
            "postgresql    27\n",
            "nosql         17\n",
            "mysql         13\n",
            "memsql         1\n",
            "sparksql       1\n",
            "cloudsql       1\n",
            "Name: title, dtype: int64\n"
          ]
        }
      ]
    },
    {
      "cell_type": "markdown",
      "source": [
        "We now can see the average number of comments for posts containing titles that include variations of sql (+sql)"
      ],
      "metadata": {
        "id": "cLF7YkLZqza5"
      }
    },
    {
      "cell_type": "code",
      "source": [
        "hn_sql = hn[hn['title'].str.contains(r\"\\w+SQL\", flags=re.I)].copy()\n",
        "hn_sql['flavor'] = hn_sql['title'].str.extract(pattern, flags=re.I, expand=False)\n",
        "hn_sql['flavor'] = hn_sql['flavor'].str.lower()\n",
        "sql_pivot = hn_sql.pivot_table(index='flavor', values='num_comments', aggfunc='mean')\n",
        "print(sql_pivot)"
      ],
      "metadata": {
        "colab": {
          "base_uri": "https://localhost:8080/"
        },
        "id": "vGfkkjc-pr4n",
        "outputId": "9882b1cc-c1a7-41c0-cb93-7a27c59dacc1"
      },
      "execution_count": 118,
      "outputs": [
        {
          "output_type": "stream",
          "name": "stdout",
          "text": [
            "            num_comments\n",
            "flavor                  \n",
            "cloudsql        5.000000\n",
            "memsql         14.000000\n",
            "mysql          12.230769\n",
            "nosql          14.529412\n",
            "postgresql     25.962963\n",
            "sparksql        1.000000\n"
          ]
        }
      ]
    },
    {
      "cell_type": "markdown",
      "source": [
        "This pattern checks for the version of Python, it will optionally extract digit(s) following python "
      ],
      "metadata": {
        "id": "XBciYl3trcYF"
      }
    },
    {
      "cell_type": "code",
      "source": [
        "pattern = r\"[Pp]ython ?[\\d.]+\"\n",
        "hn_python = hn[hn['title'].str.contains(pattern, flags=re.I)].copy()\n"
      ],
      "metadata": {
        "id": "1e4VxKEXqn12"
      },
      "execution_count": 131,
      "outputs": []
    },
    {
      "cell_type": "code",
      "source": [
        "pattern = r\"[Pp]ython ([\\d\\.]+)\"\n",
        "\n",
        "py_versions = titles.str.extract(pattern, expand=False)\n",
        "py_versions_freq = dict(py_versions.value_counts())\n",
        "print(py_versions_freq)"
      ],
      "metadata": {
        "colab": {
          "base_uri": "https://localhost:8080/"
        },
        "id": "Iu29tt-rskFu",
        "outputId": "7453fd92-f770-4c83-9fdf-691ce1d88eb2"
      },
      "execution_count": 135,
      "outputs": [
        {
          "output_type": "stream",
          "name": "stdout",
          "text": [
            "{'3': 10, '2': 3, '3.5': 3, '3.6': 2, '2.7': 1, '1.5': 1, '8': 1, '3.5.0': 1, '4': 1}\n"
          ]
        }
      ]
    },
    {
      "cell_type": "code",
      "source": [
        "def first_10_matches(pattern):\n",
        "    \"\"\"\n",
        "    Return the first 10 story titles that match\n",
        "    the provided regular expression\n",
        "    \"\"\"\n",
        "    all_matches = titles[titles.str.contains(pattern)]\n",
        "    first_10 = all_matches.head(10)\n",
        "    return first_10\n",
        "\n",
        "first_10_matches(r\"\\b[Cc]\\b\")"
      ],
      "metadata": {
        "colab": {
          "base_uri": "https://localhost:8080/"
        },
        "id": "JvWT62YktiHO",
        "outputId": "36e438a6-e1e1-4b42-d66c-505270b667f3"
      },
      "execution_count": 136,
      "outputs": [
        {
          "output_type": "execute_result",
          "data": {
            "text/plain": [
              "14                 Custom Deleters for C++ Smart Pointers\n",
              "221                        Lisp, C++: Sadness in my heart\n",
              "222                  MemSQL (YC W11) Raises $36M Series C\n",
              "354     VW C.E.O. Personally Apologized to President O...\n",
              "366                      The new C standards are worth it\n",
              "445           Moz raises $10m Series C from Foundry Group\n",
              "509     BDE 3.0 (Bloomberg's core C++ library): Open S...\n",
              "522          Fuchsia: Micro kernel written in C by Google\n",
              "550     How to Become a C.E.O.? The Quickest Path Is a...\n",
              "1283    A lightweight C++ signals and slots implementa...\n",
              "Name: title, dtype: object"
            ]
          },
          "metadata": {},
          "execution_count": 136
        }
      ]
    },
    {
      "cell_type": "code",
      "source": [
        "def first_10_matches(pattern):\n",
        "    \"\"\"\n",
        "    Return the first 10 story titles that match\n",
        "    the provided regular expression\n",
        "    \"\"\"\n",
        "    all_matches = titles[titles.str.contains(pattern)]\n",
        "    first_10 = all_matches.head(10)\n",
        "    return first_10\n",
        "\n",
        "first_10_matches(r\"\\b[Cc]\\b[^.+]\")"
      ],
      "metadata": {
        "colab": {
          "base_uri": "https://localhost:8080/"
        },
        "id": "aGSVz-ORvLT2",
        "outputId": "61e57d7a-dad8-4949-890d-a50d4beb67e0"
      },
      "execution_count": 138,
      "outputs": [
        {
          "output_type": "execute_result",
          "data": {
            "text/plain": [
              "366                      The new C standards are worth it\n",
              "445           Moz raises $10m Series C from Foundry Group\n",
              "522          Fuchsia: Micro kernel written in C by Google\n",
              "1308            Show HN: Yupp, yet another C preprocessor\n",
              "1327                     The C standard formalized in Coq\n",
              "1366                          GNU C Library 2.23 released\n",
              "1430    Cysignals: signal handling (SIGINT, SIGSEGV, )...\n",
              "1621                        SDCC  Small Device C Compiler\n",
              "1950    Rewriting a Ruby C Extension in Rust: How a Na...\n",
              "2196    MyHTML  HTML Parser on Pure C with POSIX Threa...\n",
              "Name: title, dtype: object"
            ]
          },
          "metadata": {},
          "execution_count": 138
        }
      ]
    },
    {
      "cell_type": "markdown",
      "source": [
        "`zzz(?=abc)` - matches zzz only when it is followed by abc - Positive lookahead\n",
        "\n",
        "`zzz(?!abc)` - matches zzz only when it is not followed by ABC - Negative Lookahead\n",
        "\n",
        "`(?<=abc)zzz` - matches zzz only when it is preceded by abc - Positive Lookbehind\n",
        "\n",
        "`(?<!abc)zzz` - matches zzz when it is not preceded by abc - Negative Lookbehind\n",
        "\n",
        "These tips can help you remember the syntax for lookarounds:\n",
        "\n",
        "\n",
        "Inside the parentheses, the first character of a lookaround is always ?.\n",
        "If the lookaround is a lookbehind, the next character will be <, which you can think of as an arrow head pointing behind the match.\n",
        "The next character indicates whether the lookaround is positive (=) or negative (!)."
      ],
      "metadata": {
        "id": "UQUDVuKPwAEB"
      }
    },
    {
      "cell_type": "code",
      "source": [],
      "metadata": {
        "id": "52HMOGYLvY96"
      },
      "execution_count": null,
      "outputs": []
    },
    {
      "cell_type": "markdown",
      "source": [
        "Matches Green only when followed by _Blue"
      ],
      "metadata": {
        "id": "XEmKwPOmyCTn"
      }
    },
    {
      "cell_type": "code",
      "source": [
        "test_cases = ['Red_Green_Blue',\n",
        "              'Yellow_Green_Red',\n",
        "              'Red_Green_Red',\n",
        "              'Yellow_Green_Blue',\n",
        "              'Green']\n",
        "\n",
        "def run_test_cases(pattern):\n",
        "    for tc in test_cases:\n",
        "        result = re.search(pattern, tc)\n",
        "        print(result or \"NO MATCH\")\n",
        "run_test_cases(r\"Green(?=_Blue)\")        "
      ],
      "metadata": {
        "colab": {
          "base_uri": "https://localhost:8080/"
        },
        "id": "BtHlsPCXxJFN",
        "outputId": "6f892d56-dd51-420d-9d39-eda89eb56985"
      },
      "execution_count": 140,
      "outputs": [
        {
          "output_type": "stream",
          "name": "stdout",
          "text": [
            "<re.Match object; span=(4, 9), match='Green'>\n",
            "NO MATCH\n",
            "NO MATCH\n",
            "<re.Match object; span=(7, 12), match='Green'>\n",
            "NO MATCH\n"
          ]
        }
      ]
    },
    {
      "cell_type": "markdown",
      "source": [
        "Green only when preceded by Red_"
      ],
      "metadata": {
        "id": "G_CR1BAcx3m9"
      }
    },
    {
      "cell_type": "code",
      "source": [
        "run_test_cases(r\"(?<=Red_)Green\")"
      ],
      "metadata": {
        "colab": {
          "base_uri": "https://localhost:8080/"
        },
        "id": "-0EbznbRxcHp",
        "outputId": "7f58a101-fc33-4fe6-89e7-3e38052f5a87"
      },
      "execution_count": 141,
      "outputs": [
        {
          "output_type": "stream",
          "name": "stdout",
          "text": [
            "<re.Match object; span=(4, 9), match='Green'>\n",
            "NO MATCH\n",
            "<re.Match object; span=(4, 9), match='Green'>\n",
            "NO MATCH\n",
            "NO MATCH\n"
          ]
        }
      ]
    },
    {
      "cell_type": "markdown",
      "source": [
        "Green only when yellow does not precede it"
      ],
      "metadata": {
        "id": "SS8754HKye2M"
      }
    },
    {
      "cell_type": "code",
      "source": [
        "run_test_cases(r\"(?<!Yellow_)Green\")"
      ],
      "metadata": {
        "colab": {
          "base_uri": "https://localhost:8080/"
        },
        "id": "awKsoKi3yQYR",
        "outputId": "0f2e691a-f77f-4d5c-cd5d-474d488e2c33"
      },
      "execution_count": 142,
      "outputs": [
        {
          "output_type": "stream",
          "name": "stdout",
          "text": [
            "<re.Match object; span=(4, 9), match='Green'>\n",
            "NO MATCH\n",
            "<re.Match object; span=(4, 9), match='Green'>\n",
            "NO MATCH\n",
            "<re.Match object; span=(0, 5), match='Green'>\n"
          ]
        }
      ]
    },
    {
      "cell_type": "markdown",
      "source": [
        "This matches instances in which green is followed by exactly 5 characters like _blue"
      ],
      "metadata": {
        "id": "6M-Ks1IxyxEH"
      }
    },
    {
      "cell_type": "code",
      "source": [
        "run_test_cases(r\"Green(?=.{5})\")"
      ],
      "metadata": {
        "colab": {
          "base_uri": "https://localhost:8080/"
        },
        "id": "lL4f4mqtyYIa",
        "outputId": "63461c25-95c9-4c28-b6d8-99ee3f66e9a5"
      },
      "execution_count": 143,
      "outputs": [
        {
          "output_type": "stream",
          "name": "stdout",
          "text": [
            "<re.Match object; span=(4, 9), match='Green'>\n",
            "NO MATCH\n",
            "NO MATCH\n",
            "<re.Match object; span=(7, 12), match='Green'>\n",
            "NO MATCH\n"
          ]
        }
      ]
    },
    {
      "cell_type": "code",
      "source": [
        "pattern = r\"(?<!Series\\s)\\b[Cc]\\b((?![+.])|\\.$)\"\n",
        "c_mentions = titles.str.contains(pattern).sum()"
      ],
      "metadata": {
        "colab": {
          "base_uri": "https://localhost:8080/"
        },
        "id": "Rof_hud_y0s0",
        "outputId": "1dd8cb09-d168-4d54-babe-9042ec5a296f"
      },
      "execution_count": 145,
      "outputs": [
        {
          "output_type": "stream",
          "name": "stderr",
          "text": [
            "<ipython-input-145-cb639a79a078>:2: UserWarning: This pattern is interpreted as a regular expression, and has match groups. To actually get the groups, use str.extract.\n",
            "  c_mentions = titles.str.contains(pattern).sum()\n"
          ]
        }
      ]
    },
    {
      "cell_type": "code",
      "source": [
        "test_cases = [\n",
        "              \"I'm going to read a book.\",\n",
        "              \"Green is my favorite color.\",\n",
        "              \"My name is Aaron.\",\n",
        "              \"No doubles here.\",\n",
        "              \"I have a pet eel.\"\n",
        "             ]\n",
        "\n",
        "for tc in test_cases:\n",
        "    print(re.search(r\"(\\w)\\1\", tc))"
      ],
      "metadata": {
        "colab": {
          "base_uri": "https://localhost:8080/"
        },
        "id": "bq33YSI5zY3H",
        "outputId": "a0e64509-ad59-4745-bc45-5235118b895f"
      },
      "execution_count": 148,
      "outputs": [
        {
          "output_type": "stream",
          "name": "stdout",
          "text": [
            "<re.Match object; span=(21, 23), match='oo'>\n",
            "<re.Match object; span=(2, 4), match='ee'>\n",
            "None\n",
            "None\n",
            "<re.Match object; span=(13, 15), match='ee'>\n"
          ]
        }
      ]
    },
    {
      "cell_type": "markdown",
      "source": [
        "this pattern will discover words repeated right after each other in titles"
      ],
      "metadata": {
        "id": "Y080i8o32Xzn"
      }
    },
    {
      "cell_type": "code",
      "source": [
        "pattern = r\"\\b(\\w+)\\s\\1\\b\"\n",
        "repeated_words = titles[titles.str.contains(pattern)]\n",
        "repeated_word_freq = repeated_words.value_counts()\n"
      ],
      "metadata": {
        "colab": {
          "base_uri": "https://localhost:8080/"
        },
        "id": "W3G9u5l80z-R",
        "outputId": "a1b589b2-dc48-4f78-aab0-1bc316666e3f"
      },
      "execution_count": 157,
      "outputs": [
        {
          "output_type": "stream",
          "name": "stdout",
          "text": [
            "Silicon Valley Has a Problem Problem                                        1\n",
            "Wire Wire: A West African Cyber Threat                                      1\n",
            "Flexbox Cheatsheet Cheatsheet                                               1\n",
            "The Mindset Mindset (2015)                                                  1\n",
            "Valentine's Day Special: Bye Bye Tinder, Flirting in the Support Channel    1\n",
            "Mcdonalds copying cyriak  cows cows cows in their new commercial?           1\n",
            "Bang Bang Control                                                           1\n",
            "Cordless Telephones: Bye Bye Privacy (1991)                                 1\n",
            "Solving the the Monty-Hall-Problem in Swift                                 1\n",
            "Bye Bye Webrtc2SIP: WebRTC with Asterisk and Amazon AWS Only                1\n",
            "Intellij-Rust Rust Plugin for IntelliJ IDEA                                 1\n",
            "Name: title, dtype: int64\n"
          ]
        },
        {
          "output_type": "stream",
          "name": "stderr",
          "text": [
            "<ipython-input-157-cba61c3c462a>:2: UserWarning: This pattern is interpreted as a regular expression, and has match groups. To actually get the groups, use str.extract.\n",
            "  repeated_words = titles[titles.str.contains(pattern)]\n"
          ]
        }
      ]
    },
    {
      "cell_type": "markdown",
      "source": [
        "`re.sub(pattern, repl, string, flags=0)`\n",
        "\n",
        "The repl parameter is the text that you would like to substitute for the match. Let's look at a simple example where we replace all capital letters in a string with dashes:"
      ],
      "metadata": {
        "id": "ObbOmoG-3Ugf"
      }
    },
    {
      "cell_type": "code",
      "source": [
        "string = \"aBcDEfGHIj\"\n",
        "\n",
        "print(re.sub(r\"[A-Z]\", \"-\", string))"
      ],
      "metadata": {
        "colab": {
          "base_uri": "https://localhost:8080/"
        },
        "id": "wMC5tI6b2ucf",
        "outputId": "49774cf1-c9cc-4bed-9533-e9e8cccbc85a"
      },
      "execution_count": 158,
      "outputs": [
        {
          "output_type": "stream",
          "name": "stdout",
          "text": [
            "a-c--f---j\n"
          ]
        }
      ]
    },
    {
      "cell_type": "markdown",
      "source": [
        "When using pandas:\n",
        "`Series.str.replace(pat, repl, flags=0)`"
      ],
      "metadata": {
        "id": "jL515ZcY3o1W"
      }
    },
    {
      "cell_type": "code",
      "source": [
        "sql_variations = pd.Series([\"SQL\", \"Sql\", \"sql\"])\n",
        "\n",
        "sql_uniform = sql_variations.str.replace(r\"sql\", \"SQL\", flags=re.I)\n",
        "print(sql_uniform)"
      ],
      "metadata": {
        "colab": {
          "base_uri": "https://localhost:8080/"
        },
        "id": "IiCP17UY3hx1",
        "outputId": "3b160d78-d42f-410b-f734-713e75bcbe1e"
      },
      "execution_count": 161,
      "outputs": [
        {
          "output_type": "stream",
          "name": "stdout",
          "text": [
            "0    SQL\n",
            "1    SQL\n",
            "2    SQL\n",
            "dtype: object\n"
          ]
        }
      ]
    },
    {
      "cell_type": "code",
      "source": [
        "email_variations = pd.Series(['email', 'Email', 'e Mail',\n",
        "                        'e mail', 'E-mail', 'e-mail',\n",
        "                        'eMail', 'E-Mail', 'EMAIL'])\n",
        "pattern = r\"\\be[-\\s]?mail\"\n",
        "email_uniform = email_variations.str.replace(pattern, \"email\", flags=re.I)\n",
        "titles_clean = titles.str.replace(pattern, \"email\", flags=re.I)"
      ],
      "metadata": {
        "colab": {
          "base_uri": "https://localhost:8080/"
        },
        "id": "BBowsazn31lo",
        "outputId": "faed9b26-6a0d-41cc-bc46-54412d0aeda9"
      },
      "execution_count": 162,
      "outputs": [
        {
          "output_type": "stream",
          "name": "stderr",
          "text": [
            "<ipython-input-162-7f54f34fc005>:5: FutureWarning: The default value of regex will change from True to False in a future version.\n",
            "  email_uniform = email_variations.str.replace(pattern, \"email\", flags=re.I)\n",
            "<ipython-input-162-7f54f34fc005>:6: FutureWarning: The default value of regex will change from True to False in a future version.\n",
            "  titles_clean = titles.str.replace(pattern, \"email\", flags=re.I)\n"
          ]
        }
      ]
    },
    {
      "cell_type": "markdown",
      "source": [
        "`pattern = r\"https?://([\\w\\-\\.]+)\"`\n",
        "\n",
        "Using this pattern: pattern = r\"https?://([\\w\\-\\.]+)\" allows us to capture and extract the domain value of a url (after the protocol which is 'http://')\n",
        "\n"
      ],
      "metadata": {
        "id": "6B_T0eu15lcQ"
      }
    },
    {
      "cell_type": "code",
      "source": [
        "test_urls = pd.Series([\n",
        " 'https://www.amazon.com/Technology-Ventures-Enterprise-Thomas-Byers/dp/0073523429',\n",
        " 'http://www.interactivedynamicvideo.com/',\n",
        " 'http://www.nytimes.com/2007/11/07/movies/07stein.html?_r=0',\n",
        " 'http://evonomics.com/advertising-cannot-maintain-internet-heres-solution/',\n",
        " 'HTTPS://github.com/keppel/pinn',\n",
        " 'Http://phys.org/news/2015-09-scale-solar-youve.html',\n",
        " 'https://iot.seeed.cc',\n",
        " 'http://www.bfilipek.com/2016/04/custom-deleters-for-c-smart-pointers.html',\n",
        " 'http://beta.crowdfireapp.com/?beta=agnipath',\n",
        " 'https://www.valid.ly?param',\n",
        " 'http://css-cursor.techstream.org'\n",
        "])\n",
        "pattern = r\"https?://([\\w\\-\\.]+)\"\n",
        "test_urls_clean = test_urls.str.extract(pattern, flags=re.I, expand=False)\n",
        "domains = hn['url'].str.extract(pattern, flags=re.I, expand=False)\n",
        "top_domains = domains.value_counts().head(5)\n",
        "print(top_domains)"
      ],
      "metadata": {
        "colab": {
          "base_uri": "https://localhost:8080/"
        },
        "id": "9ZQvDJZv4U6N",
        "outputId": "9408d489-edfc-418a-ae6f-f63b7d6ca6ed"
      },
      "execution_count": 168,
      "outputs": [
        {
          "output_type": "stream",
          "name": "stdout",
          "text": [
            "github.com             1008\n",
            "medium.com              825\n",
            "www.nytimes.com         525\n",
            "www.theguardian.com     248\n",
            "techcrunch.com          245\n",
            "Name: url, dtype: int64\n"
          ]
        }
      ]
    },
    {
      "cell_type": "code",
      "source": [
        "domains.value_counts().head(15)"
      ],
      "metadata": {
        "colab": {
          "base_uri": "https://localhost:8080/"
        },
        "id": "FfeJy-Zc4m0P",
        "outputId": "16d9f9d9-c18b-4e1c-f18c-427c8b04c478"
      },
      "execution_count": 173,
      "outputs": [
        {
          "output_type": "execute_result",
          "data": {
            "text/plain": [
              "github.com                1008\n",
              "medium.com                 825\n",
              "www.nytimes.com            525\n",
              "www.theguardian.com        248\n",
              "techcrunch.com             245\n",
              "www.youtube.com            213\n",
              "www.bloomberg.com          193\n",
              "arstechnica.com            191\n",
              "www.washingtonpost.com     190\n",
              "www.wsj.com                138\n",
              "www.theatlantic.com        137\n",
              "www.bbc.com                134\n",
              "www.wired.com              114\n",
              "www.theverge.com           112\n",
              "www.bbc.co.uk              108\n",
              "Name: url, dtype: int64"
            ]
          },
          "metadata": {},
          "execution_count": 173
        }
      ]
    },
    {
      "cell_type": "code",
      "source": [],
      "metadata": {
        "colab": {
          "base_uri": "https://localhost:8080/"
        },
        "id": "yW4zre_N5z92",
        "outputId": "d0b427ca-9608-4a29-8ac2-f01a1956cc33"
      },
      "execution_count": 176,
      "outputs": [
        {
          "output_type": "stream",
          "name": "stdout",
          "text": [
            "0                      www.amazon.com\n",
            "1     www.interactivedynamicvideo.com\n",
            "2                     www.nytimes.com\n",
            "3                       evonomics.com\n",
            "4                          github.com\n",
            "5                            phys.org\n",
            "6                        iot.seeed.cc\n",
            "7                    www.bfilipek.com\n",
            "8               beta.crowdfireapp.com\n",
            "9                        www.valid.ly\n",
            "10          css-cursor.techstream.org\n",
            "dtype: object\n"
          ]
        }
      ]
    },
    {
      "cell_type": "code",
      "source": [
        "created_at = hn['created_at'].head()\n",
        "print(created_at)"
      ],
      "metadata": {
        "colab": {
          "base_uri": "https://localhost:8080/"
        },
        "id": "YXsl-h1K6SZf",
        "outputId": "a106b762-36e2-4781-adc9-158a2906d558"
      },
      "execution_count": 177,
      "outputs": [
        {
          "output_type": "stream",
          "name": "stdout",
          "text": [
            "0     8/4/2016 11:52\n",
            "1    1/26/2016 19:30\n",
            "2    6/23/2016 22:20\n",
            "3     6/17/2016 0:01\n",
            "4     9/30/2015 4:12\n",
            "Name: created_at, dtype: object\n"
          ]
        }
      ]
    },
    {
      "cell_type": "markdown",
      "source": [
        "this pattern splits at the space and captures each of the two words in a different column"
      ],
      "metadata": {
        "id": "_RYXs-C7RD3C"
      }
    },
    {
      "cell_type": "code",
      "source": [
        "pattern = r\"(.+)\\s(.+)\"\n",
        "dates_times = created_at.str.extract(pattern)\n",
        "print(dates_times)"
      ],
      "metadata": {
        "colab": {
          "base_uri": "https://localhost:8080/"
        },
        "id": "52IRkdRuQ9DI",
        "outputId": "60ce0d9a-e401-4683-e325-433217d5cbbd"
      },
      "execution_count": 178,
      "outputs": [
        {
          "output_type": "stream",
          "name": "stdout",
          "text": [
            "           0      1\n",
            "0   8/4/2016  11:52\n",
            "1  1/26/2016  19:30\n",
            "2  6/23/2016  22:20\n",
            "3  6/17/2016   0:01\n",
            "4  9/30/2015   4:12\n"
          ]
        }
      ]
    },
    {
      "cell_type": "markdown",
      "source": [
        "This pattern `r\"(https?)://([\\w\\.\\-]+)/?(.*)\"` will seperate a url into its protocol, domain and path and we can then identify rows that contain those values or extract the values and store them in another variable. "
      ],
      "metadata": {
        "id": "xODAohLHSjIY"
      }
    },
    {
      "cell_type": "code",
      "source": [
        "# `test_urls` is available from the previous screen\n",
        "pattern = r\"(https?)://([\\w\\.\\-]+)/?(.*)\"\n",
        "\n",
        "test_url_parts = test_urls.str.extract(pattern, flags=re.I)\n",
        "url_parts = hn['url'].str.extract(pattern, flags=re.I)"
      ],
      "metadata": {
        "id": "ka7iKxM4RAZe"
      },
      "execution_count": 179,
      "outputs": []
    },
    {
      "cell_type": "code",
      "source": [
        "print(url_parts)"
      ],
      "metadata": {
        "colab": {
          "base_uri": "https://localhost:8080/"
        },
        "id": "DyQgJTahRf-o",
        "outputId": "b1949892-6ae6-4053-a496-6cb4fe0f2e14"
      },
      "execution_count": 183,
      "outputs": [
        {
          "output_type": "stream",
          "name": "stdout",
          "text": [
            "           0                                1  \\\n",
            "0       http  www.interactivedynamicvideo.com   \n",
            "1       http                   hueniverse.com   \n",
            "2       http                  www.thewire.com   \n",
            "3      https                   www.amazon.com   \n",
            "4       http                  www.nytimes.com   \n",
            "...      ...                              ...   \n",
            "20095  https                          puri.sm   \n",
            "20096  https                       medium.com   \n",
            "20097   http               blog.darknedgy.net   \n",
            "20098  https                       medium.com   \n",
            "20099  https                       github.com   \n",
            "\n",
            "                                                       2  \n",
            "0                                                         \n",
            "1      2016/01/26/how-to-use-open-source-and-shut-the...  \n",
            "2      entertainment/2013/04/florida-djs-april-fools-...  \n",
            "3      Technology-Ventures-Enterprise-Thomas-Byers/dp...  \n",
            "4                    2007/11/07/movies/07stein.html?_r=0  \n",
            "...                                                  ...  \n",
            "20095  philosophy/how-purism-avoids-intels-active-man...  \n",
            "20096  @zreitano/the-yc-application-broken-down-and-t...  \n",
            "20097                           technology/2016/01/01/0/  \n",
            "20098  @benjiwheeler/how-product-hunt-really-works-d8...  \n",
            "20099                                 jmcarp/robobrowser  \n",
            "\n",
            "[20100 rows x 3 columns]\n"
          ]
        }
      ]
    },
    {
      "cell_type": "code",
      "source": [
        "created_at = hn['created_at'].head()\n",
        "\n",
        "pattern = r\"(.+) (.+)\"\n",
        "dates_times = created_at.str.extract(pattern)\n",
        "print(dates_times)"
      ],
      "metadata": {
        "colab": {
          "base_uri": "https://localhost:8080/"
        },
        "id": "nqi3jqWERiBk",
        "outputId": "1be9e4e8-1887-4308-9b7b-58424c1d1078"
      },
      "execution_count": 184,
      "outputs": [
        {
          "output_type": "stream",
          "name": "stdout",
          "text": [
            "           0      1\n",
            "0   8/4/2016  11:52\n",
            "1  1/26/2016  19:30\n",
            "2  6/23/2016  22:20\n",
            "3  6/17/2016   0:01\n",
            "4  9/30/2015   4:12\n"
          ]
        }
      ]
    },
    {
      "cell_type": "code",
      "source": [
        "created_at = hn['created_at'].head()\n",
        "\n",
        "pattern = r\"(?P<date>.+) (?P<time>.+)\"\n",
        "dates_times = created_at.str.extract(pattern)\n",
        "print(dates_times)"
      ],
      "metadata": {
        "colab": {
          "base_uri": "https://localhost:8080/"
        },
        "id": "DHR3qJp8S_KG",
        "outputId": "7d6dca60-a0fe-4b70-e765-ebed24559c47"
      },
      "execution_count": 185,
      "outputs": [
        {
          "output_type": "stream",
          "name": "stdout",
          "text": [
            "        date   time\n",
            "0   8/4/2016  11:52\n",
            "1  1/26/2016  19:30\n",
            "2  6/23/2016  22:20\n",
            "3  6/17/2016   0:01\n",
            "4  9/30/2015   4:12\n"
          ]
        }
      ]
    },
    {
      "cell_type": "markdown",
      "source": [
        "We have updated our pattern to now incude names for each capture group: Protocol, domain and path so that when these values are extracted their corresponding columns are named."
      ],
      "metadata": {
        "id": "zPuYnDjLUPBY"
      }
    },
    {
      "cell_type": "code",
      "source": [
        "pattern = r\"(?P<protocol>https?)://(?P<domain>[\\w\\.\\-]+)/?(?P<path>.*)\"\n",
        "\n",
        "url_parts = hn['url'].str.extract(pattern, flags=re.I)\n",
        "print(url_parts)"
      ],
      "metadata": {
        "colab": {
          "base_uri": "https://localhost:8080/"
        },
        "id": "rV71BQQpTXYZ",
        "outputId": "e2adfe9c-bc3e-41a3-e556-4c17029e7930"
      },
      "execution_count": 189,
      "outputs": [
        {
          "output_type": "stream",
          "name": "stdout",
          "text": [
            "      protocol                           domain  \\\n",
            "0         http  www.interactivedynamicvideo.com   \n",
            "1         http                   hueniverse.com   \n",
            "2         http                  www.thewire.com   \n",
            "3        https                   www.amazon.com   \n",
            "4         http                  www.nytimes.com   \n",
            "...        ...                              ...   \n",
            "20095    https                          puri.sm   \n",
            "20096    https                       medium.com   \n",
            "20097     http               blog.darknedgy.net   \n",
            "20098    https                       medium.com   \n",
            "20099    https                       github.com   \n",
            "\n",
            "                                                    path  \n",
            "0                                                         \n",
            "1      2016/01/26/how-to-use-open-source-and-shut-the...  \n",
            "2      entertainment/2013/04/florida-djs-april-fools-...  \n",
            "3      Technology-Ventures-Enterprise-Thomas-Byers/dp...  \n",
            "4                    2007/11/07/movies/07stein.html?_r=0  \n",
            "...                                                  ...  \n",
            "20095  philosophy/how-purism-avoids-intels-active-man...  \n",
            "20096  @zreitano/the-yc-application-broken-down-and-t...  \n",
            "20097                           technology/2016/01/01/0/  \n",
            "20098  @benjiwheeler/how-product-hunt-really-works-d8...  \n",
            "20099                                 jmcarp/robobrowser  \n",
            "\n",
            "[20100 rows x 3 columns]\n"
          ]
        }
      ]
    },
    {
      "cell_type": "code",
      "source": [],
      "metadata": {
        "id": "nBBUUXyPUYvJ"
      },
      "execution_count": null,
      "outputs": []
    }
  ]
}