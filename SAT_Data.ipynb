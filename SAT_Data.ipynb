{
  "nbformat": 4,
  "nbformat_minor": 0,
  "metadata": {
    "colab": {
      "provenance": [],
      "mount_file_id": "180qnCCPBkeB0kdgbVmgKg4RRh3ROlssK",
      "authorship_tag": "ABX9TyNBBNMvGVjHqVKw1XHO7hgs",
      "include_colab_link": true
    },
    "kernelspec": {
      "name": "python3",
      "display_name": "Python 3"
    },
    "language_info": {
      "name": "python"
    }
  },
  "cells": [
    {
      "cell_type": "markdown",
      "metadata": {
        "id": "view-in-github",
        "colab_type": "text"
      },
      "source": [
        "<a href=\"https://colab.research.google.com/github/MathewLipman/Work-Samples/blob/main/SAT_Data.ipynb\" target=\"_parent\"><img src=\"https://colab.research.google.com/assets/colab-badge.svg\" alt=\"Open In Colab\"/></a>"
      ]
    },
    {
      "cell_type": "code",
      "execution_count": null,
      "metadata": {
        "id": "oaOlfMDPiq3L"
      },
      "outputs": [],
      "source": [
        "import pandas as pd\n",
        "import numpy as np\n",
        "import matplotlib.pyplot as plt\n",
        "import seaborn as sns\n",
        "import matplotlib.style as style\n"
      ]
    },
    {
      "cell_type": "code",
      "source": [
        "sat = pd.read_csv('/content/drive/MyDrive/Dataset/2012_SAT_Results.csv')"
      ],
      "metadata": {
        "id": "Y9Mm7_hEi3Js"
      },
      "execution_count": null,
      "outputs": []
    },
    {
      "cell_type": "markdown",
      "source": [
        "SAT scores by school - SAT scores for each high school in New York City\n",
        "School attendance - Attendance information for each school in New York City\n",
        "Class size - Information on class size for each school\n",
        "AP test results - Advanced Placement (AP) exam results for each high school (passing an optional AP exam in a particular subject can earn a student college credit in that subject)\n",
        "Graduation outcomes - The percentage of students who graduated, and other outcome information\n",
        "Demographics - Demographic information for each school\n",
        "School survey - Surveys of parents, teachers, and students at each school"
      ],
      "metadata": {
        "id": "maaWA_7WjTr0"
      }
    },
    {
      "cell_type": "code",
      "source": [
        "sat.head()"
      ],
      "metadata": {
        "colab": {
          "base_uri": "https://localhost:8080/",
          "height": 216
        },
        "id": "SGftmfIAjGt8",
        "outputId": "424882c3-8b43-42e5-a781-6d7e017bcac1"
      },
      "execution_count": null,
      "outputs": [
        {
          "output_type": "execute_result",
          "data": {
            "text/plain": [
              "      DBN                                    SCHOOL NAME  \\\n",
              "0  01M292  HENRY STREET SCHOOL FOR INTERNATIONAL STUDIES   \n",
              "1  01M448            UNIVERSITY NEIGHBORHOOD HIGH SCHOOL   \n",
              "2  01M450                     EAST SIDE COMMUNITY SCHOOL   \n",
              "3  01M458                      FORSYTH SATELLITE ACADEMY   \n",
              "4  01M509                        MARTA VALLE HIGH SCHOOL   \n",
              "\n",
              "  Num of SAT Test Takers SAT Critical Reading Avg. Score SAT Math Avg. Score  \\\n",
              "0                     29                             355                 404   \n",
              "1                     91                             383                 423   \n",
              "2                     70                             377                 402   \n",
              "3                      7                             414                 401   \n",
              "4                     44                             390                 433   \n",
              "\n",
              "  SAT Writing Avg. Score  \n",
              "0                    363  \n",
              "1                    366  \n",
              "2                    370  \n",
              "3                    359  \n",
              "4                    384  "
            ],
            "text/html": [
              "\n",
              "  <div id=\"df-3d98b911-5de5-4cdf-8e6b-d30e197206a0\">\n",
              "    <div class=\"colab-df-container\">\n",
              "      <div>\n",
              "<style scoped>\n",
              "    .dataframe tbody tr th:only-of-type {\n",
              "        vertical-align: middle;\n",
              "    }\n",
              "\n",
              "    .dataframe tbody tr th {\n",
              "        vertical-align: top;\n",
              "    }\n",
              "\n",
              "    .dataframe thead th {\n",
              "        text-align: right;\n",
              "    }\n",
              "</style>\n",
              "<table border=\"1\" class=\"dataframe\">\n",
              "  <thead>\n",
              "    <tr style=\"text-align: right;\">\n",
              "      <th></th>\n",
              "      <th>DBN</th>\n",
              "      <th>SCHOOL NAME</th>\n",
              "      <th>Num of SAT Test Takers</th>\n",
              "      <th>SAT Critical Reading Avg. Score</th>\n",
              "      <th>SAT Math Avg. Score</th>\n",
              "      <th>SAT Writing Avg. Score</th>\n",
              "    </tr>\n",
              "  </thead>\n",
              "  <tbody>\n",
              "    <tr>\n",
              "      <th>0</th>\n",
              "      <td>01M292</td>\n",
              "      <td>HENRY STREET SCHOOL FOR INTERNATIONAL STUDIES</td>\n",
              "      <td>29</td>\n",
              "      <td>355</td>\n",
              "      <td>404</td>\n",
              "      <td>363</td>\n",
              "    </tr>\n",
              "    <tr>\n",
              "      <th>1</th>\n",
              "      <td>01M448</td>\n",
              "      <td>UNIVERSITY NEIGHBORHOOD HIGH SCHOOL</td>\n",
              "      <td>91</td>\n",
              "      <td>383</td>\n",
              "      <td>423</td>\n",
              "      <td>366</td>\n",
              "    </tr>\n",
              "    <tr>\n",
              "      <th>2</th>\n",
              "      <td>01M450</td>\n",
              "      <td>EAST SIDE COMMUNITY SCHOOL</td>\n",
              "      <td>70</td>\n",
              "      <td>377</td>\n",
              "      <td>402</td>\n",
              "      <td>370</td>\n",
              "    </tr>\n",
              "    <tr>\n",
              "      <th>3</th>\n",
              "      <td>01M458</td>\n",
              "      <td>FORSYTH SATELLITE ACADEMY</td>\n",
              "      <td>7</td>\n",
              "      <td>414</td>\n",
              "      <td>401</td>\n",
              "      <td>359</td>\n",
              "    </tr>\n",
              "    <tr>\n",
              "      <th>4</th>\n",
              "      <td>01M509</td>\n",
              "      <td>MARTA VALLE HIGH SCHOOL</td>\n",
              "      <td>44</td>\n",
              "      <td>390</td>\n",
              "      <td>433</td>\n",
              "      <td>384</td>\n",
              "    </tr>\n",
              "  </tbody>\n",
              "</table>\n",
              "</div>\n",
              "      <button class=\"colab-df-convert\" onclick=\"convertToInteractive('df-3d98b911-5de5-4cdf-8e6b-d30e197206a0')\"\n",
              "              title=\"Convert this dataframe to an interactive table.\"\n",
              "              style=\"display:none;\">\n",
              "        \n",
              "  <svg xmlns=\"http://www.w3.org/2000/svg\" height=\"24px\"viewBox=\"0 0 24 24\"\n",
              "       width=\"24px\">\n",
              "    <path d=\"M0 0h24v24H0V0z\" fill=\"none\"/>\n",
              "    <path d=\"M18.56 5.44l.94 2.06.94-2.06 2.06-.94-2.06-.94-.94-2.06-.94 2.06-2.06.94zm-11 1L8.5 8.5l.94-2.06 2.06-.94-2.06-.94L8.5 2.5l-.94 2.06-2.06.94zm10 10l.94 2.06.94-2.06 2.06-.94-2.06-.94-.94-2.06-.94 2.06-2.06.94z\"/><path d=\"M17.41 7.96l-1.37-1.37c-.4-.4-.92-.59-1.43-.59-.52 0-1.04.2-1.43.59L10.3 9.45l-7.72 7.72c-.78.78-.78 2.05 0 2.83L4 21.41c.39.39.9.59 1.41.59.51 0 1.02-.2 1.41-.59l7.78-7.78 2.81-2.81c.8-.78.8-2.07 0-2.86zM5.41 20L4 18.59l7.72-7.72 1.47 1.35L5.41 20z\"/>\n",
              "  </svg>\n",
              "      </button>\n",
              "      \n",
              "  <style>\n",
              "    .colab-df-container {\n",
              "      display:flex;\n",
              "      flex-wrap:wrap;\n",
              "      gap: 12px;\n",
              "    }\n",
              "\n",
              "    .colab-df-convert {\n",
              "      background-color: #E8F0FE;\n",
              "      border: none;\n",
              "      border-radius: 50%;\n",
              "      cursor: pointer;\n",
              "      display: none;\n",
              "      fill: #1967D2;\n",
              "      height: 32px;\n",
              "      padding: 0 0 0 0;\n",
              "      width: 32px;\n",
              "    }\n",
              "\n",
              "    .colab-df-convert:hover {\n",
              "      background-color: #E2EBFA;\n",
              "      box-shadow: 0px 1px 2px rgba(60, 64, 67, 0.3), 0px 1px 3px 1px rgba(60, 64, 67, 0.15);\n",
              "      fill: #174EA6;\n",
              "    }\n",
              "\n",
              "    [theme=dark] .colab-df-convert {\n",
              "      background-color: #3B4455;\n",
              "      fill: #D2E3FC;\n",
              "    }\n",
              "\n",
              "    [theme=dark] .colab-df-convert:hover {\n",
              "      background-color: #434B5C;\n",
              "      box-shadow: 0px 1px 3px 1px rgba(0, 0, 0, 0.15);\n",
              "      filter: drop-shadow(0px 1px 2px rgba(0, 0, 0, 0.3));\n",
              "      fill: #FFFFFF;\n",
              "    }\n",
              "  </style>\n",
              "\n",
              "      <script>\n",
              "        const buttonEl =\n",
              "          document.querySelector('#df-3d98b911-5de5-4cdf-8e6b-d30e197206a0 button.colab-df-convert');\n",
              "        buttonEl.style.display =\n",
              "          google.colab.kernel.accessAllowed ? 'block' : 'none';\n",
              "\n",
              "        async function convertToInteractive(key) {\n",
              "          const element = document.querySelector('#df-3d98b911-5de5-4cdf-8e6b-d30e197206a0');\n",
              "          const dataTable =\n",
              "            await google.colab.kernel.invokeFunction('convertToInteractive',\n",
              "                                                     [key], {});\n",
              "          if (!dataTable) return;\n",
              "\n",
              "          const docLinkHtml = 'Like what you see? Visit the ' +\n",
              "            '<a target=\"_blank\" href=https://colab.research.google.com/notebooks/data_table.ipynb>data table notebook</a>'\n",
              "            + ' to learn more about interactive tables.';\n",
              "          element.innerHTML = '';\n",
              "          dataTable['output_type'] = 'display_data';\n",
              "          await google.colab.output.renderOutput(dataTable, element);\n",
              "          const docLink = document.createElement('div');\n",
              "          docLink.innerHTML = docLinkHtml;\n",
              "          element.appendChild(docLink);\n",
              "        }\n",
              "      </script>\n",
              "    </div>\n",
              "  </div>\n",
              "  "
            ]
          },
          "metadata": {},
          "execution_count": 38
        }
      ]
    },
    {
      "cell_type": "code",
      "source": [
        "data_files = [\n",
        "    \"/content/drive/MyDrive/Dataset/2010__AP__College_Board__School_Level_Results.csv\",\n",
        "    \"/content/drive/MyDrive/Dataset/2010-2011_Class_Size_-_School-level_detail.csv\",\n",
        "    \"/content/drive/MyDrive/Dataset/2006_-_2012_School_Demographics_and_Accountability_Snapshot.csv\",\n",
        "    \"/content/drive/MyDrive/Dataset/2005-2010_Graduation_Outcomes_-_School_Level.csv\",\n",
        "    \"/content/drive/MyDrive/Dataset/2014_-_2015_DOE_High_School_Directory.csv\",\n",
        "    \"/content/drive/MyDrive/Dataset/2012_SAT_Results.csv\"\n",
        "]\n",
        "\n",
        "\n",
        "data = {}"
      ],
      "metadata": {
        "id": "3tuPRrs_jLSA"
      },
      "execution_count": null,
      "outputs": []
    },
    {
      "cell_type": "code",
      "source": [
        "data = {}\n",
        "\n",
        "for f in data_files:\n",
        "    d = pd.read_csv('{0}'.format(f))\n",
        "    key_name = f.replace(\".csv\",\"\")\n",
        "    data[key_name] = d\n",
        "\n"
      ],
      "metadata": {
        "id": "RqHIfon_mWWX"
      },
      "execution_count": null,
      "outputs": []
    },
    {
      "cell_type": "code",
      "source": [
        "list(data)"
      ],
      "metadata": {
        "colab": {
          "base_uri": "https://localhost:8080/"
        },
        "id": "Wl_O0V9vpIWL",
        "outputId": "bc30c565-7b0a-4458-dcb9-8b5ef15938b5"
      },
      "execution_count": null,
      "outputs": [
        {
          "output_type": "execute_result",
          "data": {
            "text/plain": [
              "['/content/drive/MyDrive/Dataset/2010__AP__College_Board__School_Level_Results',\n",
              " '/content/drive/MyDrive/Dataset/2010-2011_Class_Size_-_School-level_detail',\n",
              " '/content/drive/MyDrive/Dataset/2006_-_2012_School_Demographics_and_Accountability_Snapshot',\n",
              " '/content/drive/MyDrive/Dataset/2005-2010_Graduation_Outcomes_-_School_Level',\n",
              " '/content/drive/MyDrive/Dataset/2014_-_2015_DOE_High_School_Directory',\n",
              " '/content/drive/MyDrive/Dataset/2012_SAT_Results']"
            ]
          },
          "metadata": {},
          "execution_count": 41
        }
      ]
    },
    {
      "cell_type": "code",
      "source": [
        "sat_results =  '/content/drive/MyDrive/Dataset/2012_SAT_Results'"
      ],
      "metadata": {
        "id": "JsTG9nZjqUtk"
      },
      "execution_count": null,
      "outputs": []
    },
    {
      "cell_type": "markdown",
      "source": [
        "\"ap_2010.csv\",\n",
        "    \"class_size.csv\",\n",
        "    \"demographics.csv\",\n",
        "    \"graduation.csv\",\n",
        "    \"hs_directory.csv\",\n",
        "    \"sat_results.csv\""
      ],
      "metadata": {
        "id": "b_jESCaUrV-W"
      }
    },
    {
      "cell_type": "code",
      "source": [
        "data['sat_results'] = data['/content/drive/MyDrive/Dataset/2012_SAT_Results']\n",
        "data['ap_2010'] = data['/content/drive/MyDrive/Dataset/2010__AP__College_Board__School_Level_Results']\n",
        "data['class_size'] = data['/content/drive/MyDrive/Dataset/2010-2011_Class_Size_-_School-level_detail']\n",
        "data['demographics'] = data['/content/drive/MyDrive/Dataset/2006_-_2012_School_Demographics_and_Accountability_Snapshot']\n",
        "data['graduation'] = data['/content/drive/MyDrive/Dataset/2005-2010_Graduation_Outcomes_-_School_Level']\n",
        "data['hs_directory'] = data['/content/drive/MyDrive/Dataset/2014_-_2015_DOE_High_School_Directory']"
      ],
      "metadata": {
        "id": "HR3X_Fo-rDst"
      },
      "execution_count": null,
      "outputs": []
    },
    {
      "cell_type": "code",
      "source": [
        "print(data[\"sat_results\"].head())"
      ],
      "metadata": {
        "colab": {
          "base_uri": "https://localhost:8080/"
        },
        "id": "rkknGgJMrIiC",
        "outputId": "c3d6dbbb-308a-4ce8-ec56-d6b01c11cb5b"
      },
      "execution_count": null,
      "outputs": [
        {
          "output_type": "stream",
          "name": "stdout",
          "text": [
            "      DBN                                    SCHOOL NAME  \\\n",
            "0  01M292  HENRY STREET SCHOOL FOR INTERNATIONAL STUDIES   \n",
            "1  01M448            UNIVERSITY NEIGHBORHOOD HIGH SCHOOL   \n",
            "2  01M450                     EAST SIDE COMMUNITY SCHOOL   \n",
            "3  01M458                      FORSYTH SATELLITE ACADEMY   \n",
            "4  01M509                        MARTA VALLE HIGH SCHOOL   \n",
            "\n",
            "  Num of SAT Test Takers SAT Critical Reading Avg. Score SAT Math Avg. Score  \\\n",
            "0                     29                             355                 404   \n",
            "1                     91                             383                 423   \n",
            "2                     70                             377                 402   \n",
            "3                      7                             414                 401   \n",
            "4                     44                             390                 433   \n",
            "\n",
            "  SAT Writing Avg. Score  \n",
            "0                    363  \n",
            "1                    366  \n",
            "2                    370  \n",
            "3                    359  \n",
            "4                    384  \n"
          ]
        }
      ]
    },
    {
      "cell_type": "code",
      "source": [
        "list(data)"
      ],
      "metadata": {
        "colab": {
          "base_uri": "https://localhost:8080/"
        },
        "id": "4jPCUlp5rfNX",
        "outputId": "ebef2cf7-0754-4996-875e-b00f26899129"
      },
      "execution_count": null,
      "outputs": [
        {
          "output_type": "execute_result",
          "data": {
            "text/plain": [
              "['/content/drive/MyDrive/Dataset/2010__AP__College_Board__School_Level_Results',\n",
              " '/content/drive/MyDrive/Dataset/2010-2011_Class_Size_-_School-level_detail',\n",
              " '/content/drive/MyDrive/Dataset/2006_-_2012_School_Demographics_and_Accountability_Snapshot',\n",
              " '/content/drive/MyDrive/Dataset/2005-2010_Graduation_Outcomes_-_School_Level',\n",
              " '/content/drive/MyDrive/Dataset/2014_-_2015_DOE_High_School_Directory',\n",
              " '/content/drive/MyDrive/Dataset/2012_SAT_Results',\n",
              " 'sat_results',\n",
              " 'ap_2010',\n",
              " 'class_size',\n",
              " 'demographics',\n",
              " 'graduation',\n",
              " 'hs_directory']"
            ]
          },
          "metadata": {},
          "execution_count": 45
        }
      ]
    },
    {
      "cell_type": "code",
      "source": [
        "dupe_values = {'/content/drive/MyDrive/Dataset/2010__AP__College_Board__School_Level_Results',\n",
        " '/content/drive/MyDrive/Dataset/2010-2011_Class_Size_-_School-level_detail',\n",
        " '/content/drive/MyDrive/Dataset/2006_-_2012_School_Demographics_and_Accountability_Snapshot',\n",
        " '/content/drive/MyDrive/Dataset/2005-2010_Graduation_Outcomes_-_School_Level',\n",
        " '/content/drive/MyDrive/Dataset/2014_-_2015_DOE_High_School_Directory',\n",
        " '/content/drive/MyDrive/Dataset/2012_SAT_Results'}"
      ],
      "metadata": {
        "id": "nIYIAkECtKme"
      },
      "execution_count": null,
      "outputs": []
    },
    {
      "cell_type": "code",
      "source": [
        "for d in dupe_values:\n",
        "  del data[d]\n",
        "list(data)"
      ],
      "metadata": {
        "colab": {
          "base_uri": "https://localhost:8080/"
        },
        "id": "-e7vClrntrQM",
        "outputId": "dddd0352-e4a3-422b-aecb-31e6c3c32de5"
      },
      "execution_count": null,
      "outputs": [
        {
          "output_type": "execute_result",
          "data": {
            "text/plain": [
              "['sat_results',\n",
              " 'ap_2010',\n",
              " 'class_size',\n",
              " 'demographics',\n",
              " 'graduation',\n",
              " 'hs_directory']"
            ]
          },
          "metadata": {},
          "execution_count": 47
        }
      ]
    },
    {
      "cell_type": "code",
      "source": [
        "for d in data:\n",
        "   print(data[d].head())"
      ],
      "metadata": {
        "colab": {
          "base_uri": "https://localhost:8080/"
        },
        "id": "j7yMslYcuP0R",
        "outputId": "754f7e96-80ec-4a75-fe08-6d74074d0452"
      },
      "execution_count": null,
      "outputs": [
        {
          "output_type": "stream",
          "name": "stdout",
          "text": [
            "      DBN                                    SCHOOL NAME  \\\n",
            "0  01M292  HENRY STREET SCHOOL FOR INTERNATIONAL STUDIES   \n",
            "1  01M448            UNIVERSITY NEIGHBORHOOD HIGH SCHOOL   \n",
            "2  01M450                     EAST SIDE COMMUNITY SCHOOL   \n",
            "3  01M458                      FORSYTH SATELLITE ACADEMY   \n",
            "4  01M509                        MARTA VALLE HIGH SCHOOL   \n",
            "\n",
            "  Num of SAT Test Takers SAT Critical Reading Avg. Score SAT Math Avg. Score  \\\n",
            "0                     29                             355                 404   \n",
            "1                     91                             383                 423   \n",
            "2                     70                             377                 402   \n",
            "3                      7                             414                 401   \n",
            "4                     44                             390                 433   \n",
            "\n",
            "  SAT Writing Avg. Score  \n",
            "0                    363  \n",
            "1                    366  \n",
            "2                    370  \n",
            "3                    359  \n",
            "4                    384  \n",
            "      DBN                             SchoolName  AP Test Takers   \\\n",
            "0  01M448           UNIVERSITY NEIGHBORHOOD H.S.             39.0   \n",
            "1  01M450                 EAST SIDE COMMUNITY HS             19.0   \n",
            "2  01M515                    LOWER EASTSIDE PREP             24.0   \n",
            "3  01M539         NEW EXPLORATIONS SCI,TECH,MATH            255.0   \n",
            "4  02M296  High School of Hospitality Management              NaN   \n",
            "\n",
            "   Total Exams Taken  Number of Exams with scores 3 4 or 5  \n",
            "0               49.0                                  10.0  \n",
            "1               21.0                                   NaN  \n",
            "2               26.0                                  24.0  \n",
            "3              377.0                                 191.0  \n",
            "4                NaN                                   NaN  \n",
            "   CSD BOROUGH SCHOOL CODE                SCHOOL NAME GRADE  PROGRAM TYPE  \\\n",
            "0    1       M        M015  P.S. 015 Roberto Clemente     0K       GEN ED   \n",
            "1    1       M        M015  P.S. 015 Roberto Clemente     0K          CTT   \n",
            "2    1       M        M015  P.S. 015 Roberto Clemente     01       GEN ED   \n",
            "3    1       M        M015  P.S. 015 Roberto Clemente     01          CTT   \n",
            "4    1       M        M015  P.S. 015 Roberto Clemente     02       GEN ED   \n",
            "\n",
            "  CORE SUBJECT (MS CORE and 9-12 ONLY) CORE COURSE (MS CORE and 9-12 ONLY)  \\\n",
            "0                                    -                                   -   \n",
            "1                                    -                                   -   \n",
            "2                                    -                                   -   \n",
            "3                                    -                                   -   \n",
            "4                                    -                                   -   \n",
            "\n",
            "  SERVICE CATEGORY(K-9* ONLY)  NUMBER OF STUDENTS / SEATS FILLED  \\\n",
            "0                           -                               19.0   \n",
            "1                           -                               21.0   \n",
            "2                           -                               17.0   \n",
            "3                           -                               17.0   \n",
            "4                           -                               15.0   \n",
            "\n",
            "   NUMBER OF SECTIONS  AVERAGE CLASS SIZE  SIZE OF SMALLEST CLASS  \\\n",
            "0                 1.0                19.0                    19.0   \n",
            "1                 1.0                21.0                    21.0   \n",
            "2                 1.0                17.0                    17.0   \n",
            "3                 1.0                17.0                    17.0   \n",
            "4                 1.0                15.0                    15.0   \n",
            "\n",
            "   SIZE OF LARGEST CLASS DATA SOURCE  SCHOOLWIDE PUPIL-TEACHER RATIO  \n",
            "0                   19.0         ATS                             NaN  \n",
            "1                   21.0         ATS                             NaN  \n",
            "2                   17.0         ATS                             NaN  \n",
            "3                   17.0         ATS                             NaN  \n",
            "4                   15.0         ATS                             NaN  \n",
            "      DBN                       Name  schoolyear fl_percent  frl_percent  \\\n",
            "0  01M015  P.S. 015 ROBERTO CLEMENTE    20052006       89.4          NaN   \n",
            "1  01M015  P.S. 015 ROBERTO CLEMENTE    20062007       89.4          NaN   \n",
            "2  01M015  P.S. 015 ROBERTO CLEMENTE    20072008       89.4          NaN   \n",
            "3  01M015  P.S. 015 ROBERTO CLEMENTE    20082009       89.4          NaN   \n",
            "4  01M015  P.S. 015 ROBERTO CLEMENTE    20092010                    96.5   \n",
            "\n",
            "   total_enrollment prek   k grade1 grade2  ... black_num black_per  \\\n",
            "0               281   15  36     40     33  ...        74      26.3   \n",
            "1               243   15  29     39     38  ...        68      28.0   \n",
            "2               261   18  43     39     36  ...        77      29.5   \n",
            "3               252   17  37     44     32  ...        75      29.8   \n",
            "4               208   16  40     28     32  ...        67      32.2   \n",
            "\n",
            "  hispanic_num hispanic_per white_num white_per male_num male_per female_num  \\\n",
            "0          189         67.3         5       1.8    158.0     56.2      123.0   \n",
            "1          153         63.0         4       1.6    140.0     57.6      103.0   \n",
            "2          157         60.2         7       2.7    143.0     54.8      118.0   \n",
            "3          149         59.1         7       2.8    149.0     59.1      103.0   \n",
            "4          118         56.7         6       2.9    124.0     59.6       84.0   \n",
            "\n",
            "  female_per  \n",
            "0       43.8  \n",
            "1       42.4  \n",
            "2       45.2  \n",
            "3       40.9  \n",
            "4       40.4  \n",
            "\n",
            "[5 rows x 38 columns]\n",
            "    Demographic     DBN                            School Name    Cohort  \\\n",
            "0  Total Cohort  01M292  HENRY STREET SCHOOL FOR INTERNATIONAL      2003   \n",
            "1  Total Cohort  01M292  HENRY STREET SCHOOL FOR INTERNATIONAL      2004   \n",
            "2  Total Cohort  01M292  HENRY STREET SCHOOL FOR INTERNATIONAL      2005   \n",
            "3  Total Cohort  01M292  HENRY STREET SCHOOL FOR INTERNATIONAL      2006   \n",
            "4  Total Cohort  01M292  HENRY STREET SCHOOL FOR INTERNATIONAL  2006 Aug   \n",
            "\n",
            "   Total Cohort Total Grads - n  Total Grads - % of cohort Total Regents - n  \\\n",
            "0             5               s                        NaN                 s   \n",
            "1            55              37                       67.3                17   \n",
            "2            64              43                       67.2                27   \n",
            "3            78              43                       55.1                36   \n",
            "4            78              44                       56.4                37   \n",
            "\n",
            "   Total Regents - % of cohort  Total Regents - % of grads  ...  \\\n",
            "0                          NaN                         NaN  ...   \n",
            "1                         30.9                        45.9  ...   \n",
            "2                         42.2                        62.8  ...   \n",
            "3                         46.2                        83.7  ...   \n",
            "4                         47.4                        84.1  ...   \n",
            "\n",
            "  Regents w/o Advanced - n  Regents w/o Advanced - % of cohort  \\\n",
            "0                        s                                 NaN   \n",
            "1                       17                                30.9   \n",
            "2                       27                                42.2   \n",
            "3                       36                                46.2   \n",
            "4                       37                                47.4   \n",
            "\n",
            "   Regents w/o Advanced - % of grads Local - n  Local - % of cohort  \\\n",
            "0                                NaN         s                  NaN   \n",
            "1                               45.9        20                 36.4   \n",
            "2                               62.8        16                 25.0   \n",
            "3                               83.7         7                  9.0   \n",
            "4                               84.1         7                  9.0   \n",
            "\n",
            "   Local - % of grads Still Enrolled - n  Still Enrolled - % of cohort  \\\n",
            "0                 NaN                  s                           NaN   \n",
            "1                54.1                 15                          27.3   \n",
            "2                37.2                  9                          14.1   \n",
            "3                16.3                 16                          20.5   \n",
            "4                15.9                 15                          19.2   \n",
            "\n",
            "   Dropped Out - n Dropped Out - % of cohort  \n",
            "0                s                       NaN  \n",
            "1                3                       5.5  \n",
            "2                9                      14.1  \n",
            "3               11                      14.1  \n",
            "4               11                      14.1  \n",
            "\n",
            "[5 rows x 23 columns]\n",
            "      dbn                                        school_name    borough  \\\n",
            "0  27Q260          Frederick Douglass Academy VI High School     Queens   \n",
            "1  21K559        Life Academy High School for Film and Music   Brooklyn   \n",
            "2  16K393     Frederick Douglass Academy IV Secondary School   Brooklyn   \n",
            "3  08X305                               Pablo Neruda Academy      Bronx   \n",
            "4  03M485  Fiorello H. LaGuardia High School of Music & A...  Manhattan   \n",
            "\n",
            "  building_code  phone_number    fax_number  grade_span_min  grade_span_max  \\\n",
            "0          Q465  718-471-2154  718-471-2890             9.0              12   \n",
            "1          K400  718-333-7750  718-333-7775             9.0              12   \n",
            "2          K026  718-574-2820  718-574-2821             9.0              12   \n",
            "3          X450  718-824-1682  718-824-1663             9.0              12   \n",
            "4          M485  212-496-0700  212-724-5748             9.0              12   \n",
            "\n",
            "   expgrade_span_min  expgrade_span_max  ... priority08 priority09 priority10  \\\n",
            "0                NaN                NaN  ...        NaN        NaN        NaN   \n",
            "1                NaN                NaN  ...        NaN        NaN        NaN   \n",
            "2                NaN                NaN  ...        NaN        NaN        NaN   \n",
            "3                NaN                NaN  ...        NaN        NaN        NaN   \n",
            "4                NaN                NaN  ...        NaN        NaN        NaN   \n",
            "\n",
            "                                          Location 1 Community Board  \\\n",
            "0  8 21 Bay 25 Street\\nFar Rockaway, NY 11691\\n(4...            14.0   \n",
            "1  2630 Benson Avenue\\nBrooklyn, NY 11214\\n(40.59...            13.0   \n",
            "2  1014 Lafayette Avenue\\nBrooklyn, NY 11221\\n(40...             3.0   \n",
            "3  1980 Lafayette Avenue\\nBronx, NY 10473\\n(40.82...             9.0   \n",
            "4  100 Amsterdam Avenue\\nNew York, NY 10023\\n(40....             7.0   \n",
            "\n",
            "   Council District Census Tract        BIN           BBL  \\\n",
            "0              31.0     100802.0  4300730.0  4.157360e+09   \n",
            "1              47.0        306.0  3186454.0  3.068830e+09   \n",
            "2              36.0        291.0  3393805.0  3.016160e+09   \n",
            "3              18.0         16.0  2022205.0  2.036040e+09   \n",
            "4               6.0        151.0  1030341.0  1.011560e+09   \n",
            "\n",
            "                                                 NTA  \n",
            "0  Far Rockaway-Bayswater                        ...  \n",
            "1  Gravesend                                     ...  \n",
            "2  Stuyvesant Heights                            ...  \n",
            "3  Soundview-Castle Hill-Clason Point-Harding Par...  \n",
            "4  Lincoln Square                                ...  \n",
            "\n",
            "[5 rows x 64 columns]\n"
          ]
        }
      ]
    },
    {
      "cell_type": "code",
      "source": [
        "\n",
        "dbn_section = [d for d in data.keys() if 'DBN' in d]\n",
        "print(data.keys())"
      ],
      "metadata": {
        "colab": {
          "base_uri": "https://localhost:8080/"
        },
        "id": "cAiEiM9Dv6JP",
        "outputId": "b0a19118-118d-4472-e4f0-5992bdccb80d"
      },
      "execution_count": null,
      "outputs": [
        {
          "output_type": "stream",
          "name": "stdout",
          "text": [
            "dict_keys(['sat_results', 'ap_2010', 'class_size', 'demographics', 'graduation', 'hs_directory'])\n"
          ]
        }
      ]
    },
    {
      "cell_type": "code",
      "source": [
        "for key, df in data.items():\n",
        "    if 'DBN' in df.columns:\n",
        "        print(f\"The DataFrame '{key}' contains the 'DBN' column.\")\n",
        "    else:\n",
        "        print(f\"The DataFrame '{key}' does not contain the 'DBN' column.\")"
      ],
      "metadata": {
        "colab": {
          "base_uri": "https://localhost:8080/"
        },
        "id": "RYOpPgwswioF",
        "outputId": "f6d7df07-99b0-459f-9be4-29865ed77cd7"
      },
      "execution_count": null,
      "outputs": [
        {
          "output_type": "stream",
          "name": "stdout",
          "text": [
            "The DataFrame 'sat_results' contains the 'DBN' column.\n",
            "The DataFrame 'ap_2010' contains the 'DBN' column.\n",
            "The DataFrame 'class_size' does not contain the 'DBN' column.\n",
            "The DataFrame 'demographics' contains the 'DBN' column.\n",
            "The DataFrame 'graduation' contains the 'DBN' column.\n",
            "The DataFrame 'hs_directory' does not contain the 'DBN' column.\n"
          ]
        }
      ]
    },
    {
      "cell_type": "code",
      "source": [
        "data.items()"
      ],
      "metadata": {
        "colab": {
          "base_uri": "https://localhost:8080/"
        },
        "id": "wpWdmU5tDLoz",
        "outputId": "0a699a30-8166-48c4-b48f-c8cd99e9a63c"
      },
      "execution_count": null,
      "outputs": [
        {
          "output_type": "execute_result",
          "data": {
            "text/plain": [
              "dict_items([('sat_results',         DBN                                    SCHOOL NAME  \\\n",
              "0    01M292  HENRY STREET SCHOOL FOR INTERNATIONAL STUDIES   \n",
              "1    01M448            UNIVERSITY NEIGHBORHOOD HIGH SCHOOL   \n",
              "2    01M450                     EAST SIDE COMMUNITY SCHOOL   \n",
              "3    01M458                      FORSYTH SATELLITE ACADEMY   \n",
              "4    01M509                        MARTA VALLE HIGH SCHOOL   \n",
              "..      ...                                            ...   \n",
              "473  75X012               P.S. X012 LEWIS AND CLARK SCHOOL   \n",
              "474  75X754        J. M. RAPPORT SCHOOL CAREER DEVELOPMENT   \n",
              "475  79M645     SCHOOL FOR COOPERATIVE TECHNICAL EDUCATION   \n",
              "476  79Q950                            GED PLUS s CITYWIDE   \n",
              "477  79X490                                PHOENIX ACADEMY   \n",
              "\n",
              "    Num of SAT Test Takers SAT Critical Reading Avg. Score  \\\n",
              "0                       29                             355   \n",
              "1                       91                             383   \n",
              "2                       70                             377   \n",
              "3                        7                             414   \n",
              "4                       44                             390   \n",
              "..                     ...                             ...   \n",
              "473                      s                               s   \n",
              "474                      s                               s   \n",
              "475                      s                               s   \n",
              "476                      8                             496   \n",
              "477                      9                             367   \n",
              "\n",
              "    SAT Math Avg. Score SAT Writing Avg. Score  \n",
              "0                   404                    363  \n",
              "1                   423                    366  \n",
              "2                   402                    370  \n",
              "3                   401                    359  \n",
              "4                   433                    384  \n",
              "..                  ...                    ...  \n",
              "473                   s                      s  \n",
              "474                   s                      s  \n",
              "475                   s                      s  \n",
              "476                 400                    426  \n",
              "477                 370                    360  \n",
              "\n",
              "[478 rows x 6 columns]), ('ap_2010',         DBN                                         SchoolName  \\\n",
              "0    01M448                       UNIVERSITY NEIGHBORHOOD H.S.   \n",
              "1    01M450                             EAST SIDE COMMUNITY HS   \n",
              "2    01M515                                LOWER EASTSIDE PREP   \n",
              "3    01M539                     NEW EXPLORATIONS SCI,TECH,MATH   \n",
              "4    02M296              High School of Hospitality Management   \n",
              "..      ...                                                ...   \n",
              "253  31R605                         STATEN ISLAND TECHNICAL HS   \n",
              "254  32K545                      EBC-HS FOR PUB SERVICE (BUSH)   \n",
              "255  32K552                          Academy of Urban Planning   \n",
              "256  32K554               All City Leadership Secondary School   \n",
              "257  32K556  Bushwick Leaders High School for Academic Exce...   \n",
              "\n",
              "     AP Test Takers   Total Exams Taken  Number of Exams with scores 3 4 or 5  \n",
              "0               39.0               49.0                                  10.0  \n",
              "1               19.0               21.0                                   NaN  \n",
              "2               24.0               26.0                                  24.0  \n",
              "3              255.0              377.0                                 191.0  \n",
              "4                NaN                NaN                                   NaN  \n",
              "..               ...                ...                                   ...  \n",
              "253            528.0              905.0                                 809.0  \n",
              "254             47.0               64.0                                  13.0  \n",
              "255             76.0              100.0                                  10.0  \n",
              "256              7.0                8.0                                   NaN  \n",
              "257             34.0               35.0                                  18.0  \n",
              "\n",
              "[258 rows x 5 columns]), ('class_size',        CSD BOROUGH SCHOOL CODE                     SCHOOL NAME GRADE   \\\n",
              "0        1       M        M015       P.S. 015 Roberto Clemente     0K   \n",
              "1        1       M        M015       P.S. 015 Roberto Clemente     0K   \n",
              "2        1       M        M015       P.S. 015 Roberto Clemente     01   \n",
              "3        1       M        M015       P.S. 015 Roberto Clemente     01   \n",
              "4        1       M        M015       P.S. 015 Roberto Clemente     02   \n",
              "...    ...     ...         ...                             ...    ...   \n",
              "27606   32       K        K564  Bushwick Community High School  09-12   \n",
              "27607   32       K        K564  Bushwick Community High School  09-12   \n",
              "27608   32       K        K564  Bushwick Community High School  09-12   \n",
              "27609   32       K        K564  Bushwick Community High School  09-12   \n",
              "27610   32       K        K564  Bushwick Community High School    NaN   \n",
              "\n",
              "      PROGRAM TYPE CORE SUBJECT (MS CORE and 9-12 ONLY)  \\\n",
              "0           GEN ED                                    -   \n",
              "1              CTT                                    -   \n",
              "2           GEN ED                                    -   \n",
              "3              CTT                                    -   \n",
              "4           GEN ED                                    -   \n",
              "...            ...                                  ...   \n",
              "27606       GEN ED                       SOCIAL STUDIES   \n",
              "27607       GEN ED                       SOCIAL STUDIES   \n",
              "27608       GEN ED                       SOCIAL STUDIES   \n",
              "27609          CTT                                 MATH   \n",
              "27610          NaN                                  NaN   \n",
              "\n",
              "      CORE COURSE (MS CORE and 9-12 ONLY) SERVICE CATEGORY(K-9* ONLY)  \\\n",
              "0                                       -                           -   \n",
              "1                                       -                           -   \n",
              "2                                       -                           -   \n",
              "3                                       -                           -   \n",
              "4                                       -                           -   \n",
              "...                                   ...                         ...   \n",
              "27606             US History & Government                           -   \n",
              "27607                           Economics                           -   \n",
              "27608         Participation in Government                           -   \n",
              "27609                  Integrated Algebra                           -   \n",
              "27610                                 NaN                         NaN   \n",
              "\n",
              "       NUMBER OF STUDENTS / SEATS FILLED  NUMBER OF SECTIONS  \\\n",
              "0                                   19.0                 1.0   \n",
              "1                                   21.0                 1.0   \n",
              "2                                   17.0                 1.0   \n",
              "3                                   17.0                 1.0   \n",
              "4                                   15.0                 1.0   \n",
              "...                                  ...                 ...   \n",
              "27606                              256.0                10.0   \n",
              "27607                               65.0                 2.0   \n",
              "27608                               53.0                 2.0   \n",
              "27609                               50.0                 2.0   \n",
              "27610                                NaN                 NaN   \n",
              "\n",
              "       AVERAGE CLASS SIZE  SIZE OF SMALLEST CLASS  SIZE OF LARGEST CLASS  \\\n",
              "0                    19.0                    19.0                   19.0   \n",
              "1                    21.0                    21.0                   21.0   \n",
              "2                    17.0                    17.0                   17.0   \n",
              "3                    17.0                    17.0                   17.0   \n",
              "4                    15.0                    15.0                   15.0   \n",
              "...                   ...                     ...                    ...   \n",
              "27606                25.6                    15.0                   35.0   \n",
              "27607                32.5                    32.0                   33.0   \n",
              "27608                26.5                    25.0                   28.0   \n",
              "27609                25.0                    25.0                   25.0   \n",
              "27610                 NaN                     NaN                    NaN   \n",
              "\n",
              "      DATA SOURCE  SCHOOLWIDE PUPIL-TEACHER RATIO  \n",
              "0             ATS                             NaN  \n",
              "1             ATS                             NaN  \n",
              "2             ATS                             NaN  \n",
              "3             ATS                             NaN  \n",
              "4             ATS                             NaN  \n",
              "...           ...                             ...  \n",
              "27606       STARS                             NaN  \n",
              "27607       STARS                             NaN  \n",
              "27608       STARS                             NaN  \n",
              "27609       STARS                             NaN  \n",
              "27610         NaN                            17.1  \n",
              "\n",
              "[27611 rows x 16 columns]), ('demographics',           DBN                                              Name  schoolyear  \\\n",
              "0      01M015                         P.S. 015 ROBERTO CLEMENTE    20052006   \n",
              "1      01M015                         P.S. 015 ROBERTO CLEMENTE    20062007   \n",
              "2      01M015                         P.S. 015 ROBERTO CLEMENTE    20072008   \n",
              "3      01M015                         P.S. 015 ROBERTO CLEMENTE    20082009   \n",
              "4      01M015                         P.S. 015 ROBERTO CLEMENTE    20092010   \n",
              "...       ...                                               ...         ...   \n",
              "10070  32K564                    BUSHWICK COMMUNITY HIGH SCHOOL    20072008   \n",
              "10071  32K564                    BUSHWICK COMMUNITY HIGH SCHOOL    20082009   \n",
              "10072  32K564                    BUSHWICK COMMUNITY HIGH SCHOOL    20092010   \n",
              "10073  32K564                    BUSHWICK COMMUNITY HIGH SCHOOL    20102011   \n",
              "10074  32K564  BUSHWICK COMMUNITY HIGH SCHOOL                      20112012   \n",
              "\n",
              "      fl_percent  frl_percent  total_enrollment  prek     k grade1 grade2  \\\n",
              "0           89.4          NaN               281    15    36     40     33   \n",
              "1           89.4          NaN               243    15    29     39     38   \n",
              "2           89.4          NaN               261    18    43     39     36   \n",
              "3           89.4          NaN               252    17    37     44     32   \n",
              "4                        96.5               208    16    40     28     32   \n",
              "...          ...          ...               ...   ...   ...    ...    ...   \n",
              "10070       85.6          NaN               355   NaN   NaN    NaN    NaN   \n",
              "10071       65.2          NaN               383   NaN   NaN    NaN    NaN   \n",
              "10072                    89.2               395   NaN   NaN    NaN    NaN   \n",
              "10073                    88.2               420   NaN   NaN    NaN    NaN   \n",
              "10074        NaN         81.8               382                             \n",
              "\n",
              "       ... black_num black_per hispanic_num hispanic_per white_num white_per  \\\n",
              "0      ...        74      26.3          189         67.3         5       1.8   \n",
              "1      ...        68      28.0          153         63.0         4       1.6   \n",
              "2      ...        77      29.5          157         60.2         7       2.7   \n",
              "3      ...        75      29.8          149         59.1         7       2.8   \n",
              "4      ...        67      32.2          118         56.7         6       2.9   \n",
              "...    ...       ...       ...          ...          ...       ...       ...   \n",
              "10070  ...       151      42.5          198         55.8         5       1.4   \n",
              "10071  ...       132      34.5          245         64.0         2       0.5   \n",
              "10072  ...       146      37.0          242         61.3         3       0.8   \n",
              "10073  ...       166      39.5          242         57.6         8       1.9   \n",
              "10074  ...       137      35.9          235         61.5         7       1.8   \n",
              "\n",
              "      male_num male_per female_num female_per  \n",
              "0        158.0     56.2      123.0       43.8  \n",
              "1        140.0     57.6      103.0       42.4  \n",
              "2        143.0     54.8      118.0       45.2  \n",
              "3        149.0     59.1      103.0       40.9  \n",
              "4        124.0     59.6       84.0       40.4  \n",
              "...        ...      ...        ...        ...  \n",
              "10070    181.0     51.0      174.0       49.0  \n",
              "10071    206.0     53.8      177.0       46.2  \n",
              "10072    199.0     50.4      196.0       49.6  \n",
              "10073    209.0     49.8      211.0       50.2  \n",
              "10074    169.0     44.2      213.0       55.8  \n",
              "\n",
              "[10075 rows x 38 columns]), ('graduation',         Demographic     DBN                            School Name    Cohort  \\\n",
              "0      Total Cohort  01M292  HENRY STREET SCHOOL FOR INTERNATIONAL      2003   \n",
              "1      Total Cohort  01M292  HENRY STREET SCHOOL FOR INTERNATIONAL      2004   \n",
              "2      Total Cohort  01M292  HENRY STREET SCHOOL FOR INTERNATIONAL      2005   \n",
              "3      Total Cohort  01M292  HENRY STREET SCHOOL FOR INTERNATIONAL      2006   \n",
              "4      Total Cohort  01M292  HENRY STREET SCHOOL FOR INTERNATIONAL  2006 Aug   \n",
              "...             ...     ...                                    ...       ...   \n",
              "25091          Male  32K564         BUSHWICK COMMUNITY HIGH SCHOOL      2003   \n",
              "25092          Male  32K564         BUSHWICK COMMUNITY HIGH SCHOOL      2004   \n",
              "25093          Male  32K564         BUSHWICK COMMUNITY HIGH SCHOOL      2005   \n",
              "25094          Male  32K564         BUSHWICK COMMUNITY HIGH SCHOOL      2006   \n",
              "25095          Male  32K564         BUSHWICK COMMUNITY HIGH SCHOOL  2006 Aug   \n",
              "\n",
              "       Total Cohort Total Grads - n  Total Grads - % of cohort  \\\n",
              "0                 5               s                        NaN   \n",
              "1                55              37                       67.3   \n",
              "2                64              43                       67.2   \n",
              "3                78              43                       55.1   \n",
              "4                78              44                       56.4   \n",
              "...             ...             ...                        ...   \n",
              "25091            65               1                        1.5   \n",
              "25092            64               2                        3.1   \n",
              "25093            79               3                        3.8   \n",
              "25094            57               4                        7.0   \n",
              "25095            57               4                        7.0   \n",
              "\n",
              "      Total Regents - n  Total Regents - % of cohort  \\\n",
              "0                     s                          NaN   \n",
              "1                    17                         30.9   \n",
              "2                    27                         42.2   \n",
              "3                    36                         46.2   \n",
              "4                    37                         47.4   \n",
              "...                 ...                          ...   \n",
              "25091                 0                          0.0   \n",
              "25092                 0                          0.0   \n",
              "25093                 1                          1.3   \n",
              "25094                 2                          3.5   \n",
              "25095                 2                          3.5   \n",
              "\n",
              "       Total Regents - % of grads  ... Regents w/o Advanced - n  \\\n",
              "0                             NaN  ...                        s   \n",
              "1                            45.9  ...                       17   \n",
              "2                            62.8  ...                       27   \n",
              "3                            83.7  ...                       36   \n",
              "4                            84.1  ...                       37   \n",
              "...                           ...  ...                      ...   \n",
              "25091                         0.0  ...                        0   \n",
              "25092                         0.0  ...                        0   \n",
              "25093                        33.3  ...                        1   \n",
              "25094                        50.0  ...                        2   \n",
              "25095                        50.0  ...                        2   \n",
              "\n",
              "       Regents w/o Advanced - % of cohort  Regents w/o Advanced - % of grads  \\\n",
              "0                                     NaN                                NaN   \n",
              "1                                    30.9                               45.9   \n",
              "2                                    42.2                               62.8   \n",
              "3                                    46.2                               83.7   \n",
              "4                                    47.4                               84.1   \n",
              "...                                   ...                                ...   \n",
              "25091                                 0.0                                0.0   \n",
              "25092                                 0.0                                0.0   \n",
              "25093                                 1.3                               33.3   \n",
              "25094                                 3.5                               50.0   \n",
              "25095                                 3.5                               50.0   \n",
              "\n",
              "      Local - n  Local - % of cohort  Local - % of grads Still Enrolled - n  \\\n",
              "0             s                  NaN                 NaN                  s   \n",
              "1            20                 36.4                54.1                 15   \n",
              "2            16                 25.0                37.2                  9   \n",
              "3             7                  9.0                16.3                 16   \n",
              "4             7                  9.0                15.9                 15   \n",
              "...         ...                  ...                 ...                ...   \n",
              "25091         1                  1.5               100.0               44.0   \n",
              "25092         2                  3.1               100.0               38.0   \n",
              "25093         2                  2.5                66.7               46.0   \n",
              "25094         2                  3.5                50.0               34.0   \n",
              "25095         2                  3.5                50.0               34.0   \n",
              "\n",
              "       Still Enrolled - % of cohort  Dropped Out - n Dropped Out - % of cohort  \n",
              "0                               NaN                s                       NaN  \n",
              "1                              27.3                3                       5.5  \n",
              "2                              14.1                9                      14.1  \n",
              "3                              20.5               11                      14.1  \n",
              "4                              19.2               11                      14.1  \n",
              "...                             ...              ...                       ...  \n",
              "25091                          67.7             20.0                      30.8  \n",
              "25092                          59.4             22.0                      34.4  \n",
              "25093                          58.2             28.0                      35.4  \n",
              "25094                          59.6             17.0                      29.8  \n",
              "25095                          59.6             17.0                      29.8  \n",
              "\n",
              "[25096 rows x 23 columns]), ('hs_directory',         dbn                                        school_name    borough  \\\n",
              "0    27Q260          Frederick Douglass Academy VI High School     Queens   \n",
              "1    21K559        Life Academy High School for Film and Music   Brooklyn   \n",
              "2    16K393     Frederick Douglass Academy IV Secondary School   Brooklyn   \n",
              "3    08X305                               Pablo Neruda Academy      Bronx   \n",
              "4    03M485  Fiorello H. LaGuardia High School of Music & A...  Manhattan   \n",
              "..      ...                                                ...        ...   \n",
              "430  02M300  Urban Assembly School of Design and Constructi...  Manhattan   \n",
              "431  09X412                      Bronx High School of Business      Bronx   \n",
              "432  32K549                 Bushwick School for Social Justice   Brooklyn   \n",
              "433  02M407              Institute for Collaborative Education  Manhattan   \n",
              "434  21K344      Rachel Carson High School for Coastal Studies   Brooklyn   \n",
              "\n",
              "    building_code  phone_number    fax_number  grade_span_min  grade_span_max  \\\n",
              "0            Q465  718-471-2154  718-471-2890             9.0              12   \n",
              "1            K400  718-333-7750  718-333-7775             9.0              12   \n",
              "2            K026  718-574-2820  718-574-2821             9.0              12   \n",
              "3            X450  718-824-1682  718-824-1663             9.0              12   \n",
              "4            M485  212-496-0700  212-724-5748             9.0              12   \n",
              "..            ...           ...           ...             ...             ...   \n",
              "430          M535  212-586-0981  212-586-1731             9.0              12   \n",
              "431          X410  718-410-4060  718-992-5760             9.0              12   \n",
              "432          K480  718-381-7100  718-418-0192             9.0              12   \n",
              "433          M475  212-475-7972  212-475-0459             6.0              12   \n",
              "434          K303  718-265-0329  718-372-2514             9.0              12   \n",
              "\n",
              "     expgrade_span_min  expgrade_span_max  ... priority08 priority09  \\\n",
              "0                  NaN                NaN  ...        NaN        NaN   \n",
              "1                  NaN                NaN  ...        NaN        NaN   \n",
              "2                  NaN                NaN  ...        NaN        NaN   \n",
              "3                  NaN                NaN  ...        NaN        NaN   \n",
              "4                  NaN                NaN  ...        NaN        NaN   \n",
              "..                 ...                ...  ...        ...        ...   \n",
              "430                NaN                NaN  ...        NaN        NaN   \n",
              "431                NaN                NaN  ...        NaN        NaN   \n",
              "432                NaN                NaN  ...        NaN        NaN   \n",
              "433                NaN                NaN  ...        NaN        NaN   \n",
              "434                NaN                NaN  ...        NaN        NaN   \n",
              "\n",
              "    priority10                                         Location 1  \\\n",
              "0          NaN  8 21 Bay 25 Street\\nFar Rockaway, NY 11691\\n(4...   \n",
              "1          NaN  2630 Benson Avenue\\nBrooklyn, NY 11214\\n(40.59...   \n",
              "2          NaN  1014 Lafayette Avenue\\nBrooklyn, NY 11221\\n(40...   \n",
              "3          NaN  1980 Lafayette Avenue\\nBronx, NY 10473\\n(40.82...   \n",
              "4          NaN  100 Amsterdam Avenue\\nNew York, NY 10023\\n(40....   \n",
              "..         ...                                                ...   \n",
              "430        NaN  525 West 50Th Street\\nNew York, NY 10019\\n(40....   \n",
              "431        NaN  240 East 172 Street\\nBronx, NY 10457\\n(40.8403...   \n",
              "432        NaN  400 Irving Avenue\\nBrooklyn, NY 11237\\n(40.696...   \n",
              "433        NaN  345 East 15Th Street\\nNew York, NY 10003\\n(40....   \n",
              "434        NaN  521 West Avenue\\nBrooklyn, NY 11224\\n(40.58211...   \n",
              "\n",
              "    Community Board  Council District Census Tract        BIN           BBL  \\\n",
              "0              14.0              31.0     100802.0  4300730.0  4.157360e+09   \n",
              "1              13.0              47.0        306.0  3186454.0  3.068830e+09   \n",
              "2               3.0              36.0        291.0  3393805.0  3.016160e+09   \n",
              "3               9.0              18.0         16.0  2022205.0  2.036040e+09   \n",
              "4               7.0               6.0        151.0  1030341.0  1.011560e+09   \n",
              "..              ...               ...          ...        ...           ...   \n",
              "430             4.0               3.0        135.0  1083802.0  1.010790e+09   \n",
              "431             4.0              16.0        225.0  2007806.0  2.028170e+09   \n",
              "432             4.0              37.0        435.0  3076908.0  3.033650e+09   \n",
              "433             6.0               2.0         48.0  1020419.0  1.009220e+09   \n",
              "434            13.0              47.0        354.0  3196292.0  3.072500e+09   \n",
              "\n",
              "                                                   NTA  \n",
              "0    Far Rockaway-Bayswater                        ...  \n",
              "1    Gravesend                                     ...  \n",
              "2    Stuyvesant Heights                            ...  \n",
              "3    Soundview-Castle Hill-Clason Point-Harding Par...  \n",
              "4    Lincoln Square                                ...  \n",
              "..                                                 ...  \n",
              "430  Clinton                                       ...  \n",
              "431  East Concourse-Concourse Village              ...  \n",
              "432  Bushwick North                                ...  \n",
              "433  Gramercy                                      ...  \n",
              "434  West Brighton                                 ...  \n",
              "\n",
              "[435 rows x 64 columns])])"
            ]
          },
          "metadata": {},
          "execution_count": 62
        }
      ]
    },
    {
      "cell_type": "code",
      "source": [
        "for col in data.columns:\n",
        "    if 'DBN' in df.columns:\n",
        "        print(f\"The DataFrame '{key}' contains the 'DBN' column.\")\n",
        "    else:\n",
        "        print(f\"The DataFrame '{key}' does not contain the 'DBN' column.\")"
      ],
      "metadata": {
        "colab": {
          "base_uri": "https://localhost:8080/",
          "height": 244
        },
        "id": "_dondb7qDGp4",
        "outputId": "162fa77c-91fd-4f24-aa23-2d28ddb33e3d"
      },
      "execution_count": null,
      "outputs": [
        {
          "output_type": "error",
          "ename": "AttributeError",
          "evalue": "ignored",
          "traceback": [
            "\u001b[0;31m---------------------------------------------------------------------------\u001b[0m",
            "\u001b[0;31mAttributeError\u001b[0m                            Traceback (most recent call last)",
            "\u001b[0;32m<ipython-input-63-06fe9d4d200e>\u001b[0m in \u001b[0;36m<cell line: 1>\u001b[0;34m()\u001b[0m\n\u001b[0;32m----> 1\u001b[0;31m \u001b[0;32mfor\u001b[0m \u001b[0mcol\u001b[0m \u001b[0;32min\u001b[0m \u001b[0mdata\u001b[0m\u001b[0;34m.\u001b[0m\u001b[0mcolumns\u001b[0m\u001b[0;34m:\u001b[0m\u001b[0;34m\u001b[0m\u001b[0;34m\u001b[0m\u001b[0m\n\u001b[0m\u001b[1;32m      2\u001b[0m     \u001b[0;32mif\u001b[0m \u001b[0;34m'DBN'\u001b[0m \u001b[0;32min\u001b[0m \u001b[0mdf\u001b[0m\u001b[0;34m.\u001b[0m\u001b[0mcolumns\u001b[0m\u001b[0;34m:\u001b[0m\u001b[0;34m\u001b[0m\u001b[0;34m\u001b[0m\u001b[0m\n\u001b[1;32m      3\u001b[0m         \u001b[0mprint\u001b[0m\u001b[0;34m(\u001b[0m\u001b[0;34mf\"The DataFrame '{key}' contains the 'DBN' column.\"\u001b[0m\u001b[0;34m)\u001b[0m\u001b[0;34m\u001b[0m\u001b[0;34m\u001b[0m\u001b[0m\n\u001b[1;32m      4\u001b[0m     \u001b[0;32melse\u001b[0m\u001b[0;34m:\u001b[0m\u001b[0;34m\u001b[0m\u001b[0;34m\u001b[0m\u001b[0m\n\u001b[1;32m      5\u001b[0m         \u001b[0mprint\u001b[0m\u001b[0;34m(\u001b[0m\u001b[0;34mf\"The DataFrame '{key}' does not contain the 'DBN' column.\"\u001b[0m\u001b[0;34m)\u001b[0m\u001b[0;34m\u001b[0m\u001b[0;34m\u001b[0m\u001b[0m\n",
            "\u001b[0;31mAttributeError\u001b[0m: 'dict' object has no attribute 'columns'"
          ]
        }
      ]
    },
    {
      "cell_type": "code",
      "source": [
        "d75_survey = pd.read_csv('/content/drive/MyDrive/Dataset/masterfile11_d75_final.txt', delimiter=\"\\t\", encoding='windows-1252')"
      ],
      "metadata": {
        "id": "eA-9e8oLxcfH"
      },
      "execution_count": null,
      "outputs": []
    },
    {
      "cell_type": "code",
      "source": [
        "all_survey = pd.read_csv('/content/drive/MyDrive/Dataset/masterfile11_gened_final.txt', delimiter=\"\\t\", encoding='windows-1252')"
      ],
      "metadata": {
        "id": "fWVjRElo0l3Q"
      },
      "execution_count": null,
      "outputs": []
    },
    {
      "cell_type": "code",
      "source": [
        "survey = pd.concat([all_survey, d75_survey], axis=0)"
      ],
      "metadata": {
        "id": "6E4nLmY-0o5x"
      },
      "execution_count": null,
      "outputs": []
    },
    {
      "cell_type": "code",
      "source": [
        "print(survey.head())"
      ],
      "metadata": {
        "colab": {
          "base_uri": "https://localhost:8080/"
        },
        "id": "iad8kE7l1Eu3",
        "outputId": "efa00f2c-4a4c-4818-a8a5-48b8b9bb5f22"
      },
      "execution_count": null,
      "outputs": [
        {
          "output_type": "stream",
          "name": "stdout",
          "text": [
            "      dbn    bn                      schoolname  d75 studentssurveyed  ...  \\\n",
            "0  01M015  M015       P.S. 015 Roberto Clemente    0               No  ...   \n",
            "1  01M019  M019             P.S. 019 Asher Levy    0               No  ...   \n",
            "2  01M020  M020            P.S. 020 Anna Silver    0               No  ...   \n",
            "3  01M034  M034  P.S. 034 Franklin D. Roosevelt    0              Yes  ...   \n",
            "4  01M063  M063       P.S. 063 William McKinley    0               No  ...   \n",
            "\n",
            "   s_q14_7 s_q14_8  s_q14_9  s_q14_10  s_q14_11  \n",
            "0      NaN     NaN      NaN       NaN       NaN  \n",
            "1      NaN     NaN      NaN       NaN       NaN  \n",
            "2      NaN     NaN      NaN       NaN       NaN  \n",
            "3      NaN     NaN      NaN       NaN       NaN  \n",
            "4      NaN     NaN      NaN       NaN       NaN  \n",
            "\n",
            "[5 rows x 2773 columns]\n"
          ]
        }
      ]
    },
    {
      "cell_type": "code",
      "source": [
        "survey[\"DBN\"] = survey[\"dbn\"]\n",
        "\n",
        "survey_fields = [\n",
        "    \"DBN\", \n",
        "    \"rr_s\", \n",
        "    \"rr_t\", \n",
        "    \"rr_p\", \n",
        "    \"N_s\", \n",
        "    \"N_t\", \n",
        "    \"N_p\", \n",
        "    \"saf_p_11\", \n",
        "    \"com_p_11\", \n",
        "    \"eng_p_11\", \n",
        "    \"aca_p_11\", \n",
        "    \"saf_t_11\", \n",
        "    \"com_t_11\", \n",
        "    \"eng_t_11\", \n",
        "    \"aca_t_11\", \n",
        "    \"saf_s_11\", \n",
        "    \"com_s_11\", \n",
        "    \"eng_s_11\", \n",
        "    \"aca_s_11\", \n",
        "    \"saf_tot_11\", \n",
        "    \"com_tot_11\", \n",
        "    \"eng_tot_11\", \n",
        "    \"aca_tot_11\",\n",
        "]\n",
        "survey = survey.loc[:,survey_fields]\n",
        "data[\"survey\"] = survey\n",
        "\n",
        "print(survey.head())"
      ],
      "metadata": {
        "colab": {
          "base_uri": "https://localhost:8080/"
        },
        "id": "_NlcxhAs1Rpq",
        "outputId": "c1c62e9a-42b7-4032-f5d8-4fe45334d176"
      },
      "execution_count": null,
      "outputs": [
        {
          "output_type": "stream",
          "name": "stdout",
          "text": [
            "      DBN  rr_s  rr_t  rr_p    N_s   N_t    N_p  saf_p_11  com_p_11  eng_p_11  \\\n",
            "0  01M015   NaN    88    60    NaN  22.0   90.0       8.5       7.6       7.5   \n",
            "1  01M019   NaN   100    60    NaN  34.0  161.0       8.4       7.6       7.6   \n",
            "2  01M020   NaN    88    73    NaN  42.0  367.0       8.9       8.3       8.3   \n",
            "3  01M034  89.0    73    50  145.0  29.0  151.0       8.8       8.2       8.0   \n",
            "4  01M063   NaN   100    60    NaN  23.0   90.0       8.7       7.9       8.1   \n",
            "\n",
            "   ...  eng_t_11  aca_t_11  saf_s_11  com_s_11  eng_s_11  aca_s_11  \\\n",
            "0  ...       7.6       7.9       NaN       NaN       NaN       NaN   \n",
            "1  ...       8.9       9.1       NaN       NaN       NaN       NaN   \n",
            "2  ...       6.8       7.5       NaN       NaN       NaN       NaN   \n",
            "3  ...       6.8       7.8       6.2       5.9       6.5       7.4   \n",
            "4  ...       7.8       8.1       NaN       NaN       NaN       NaN   \n",
            "\n",
            "   saf_tot_11  com_tot_11  eng_tot_11  aca_tot_11  \n",
            "0         8.0         7.7         7.5         7.9  \n",
            "1         8.5         8.1         8.2         8.4  \n",
            "2         8.2         7.3         7.5         8.0  \n",
            "3         7.3         6.7         7.1         7.9  \n",
            "4         8.5         7.6         7.9         8.0  \n",
            "\n",
            "[5 rows x 23 columns]\n"
          ]
        }
      ]
    },
    {
      "cell_type": "code",
      "source": [
        "data[\"hs_directory\"][\"DBN\"] = data[\"hs_directory\"][\"dbn\"]\n",
        "\n",
        "def pad_csd(num):\n",
        "    return str(num).zfill(2)\n",
        "    \n",
        "data[\"class_size\"][\"padded_csd\"] = data[\"class_size\"][\"CSD\"].apply(pad_csd)\n",
        "data[\"class_size\"][\"DBN\"] = data[\"class_size\"][\"padded_csd\"] + data[\"class_size\"][\"SCHOOL CODE\"]\n",
        "print(data[\"class_size\"].head())"
      ],
      "metadata": {
        "colab": {
          "base_uri": "https://localhost:8080/"
        },
        "id": "eUOOGTVGHRT2",
        "outputId": "462410fa-03c2-4d98-bee8-8620bf828595"
      },
      "execution_count": null,
      "outputs": [
        {
          "output_type": "stream",
          "name": "stdout",
          "text": [
            "   CSD BOROUGH SCHOOL CODE                SCHOOL NAME GRADE  PROGRAM TYPE  \\\n",
            "0    1       M        M015  P.S. 015 Roberto Clemente     0K       GEN ED   \n",
            "1    1       M        M015  P.S. 015 Roberto Clemente     0K          CTT   \n",
            "2    1       M        M015  P.S. 015 Roberto Clemente     01       GEN ED   \n",
            "3    1       M        M015  P.S. 015 Roberto Clemente     01          CTT   \n",
            "4    1       M        M015  P.S. 015 Roberto Clemente     02       GEN ED   \n",
            "\n",
            "  CORE SUBJECT (MS CORE and 9-12 ONLY) CORE COURSE (MS CORE and 9-12 ONLY)  \\\n",
            "0                                    -                                   -   \n",
            "1                                    -                                   -   \n",
            "2                                    -                                   -   \n",
            "3                                    -                                   -   \n",
            "4                                    -                                   -   \n",
            "\n",
            "  SERVICE CATEGORY(K-9* ONLY)  NUMBER OF STUDENTS / SEATS FILLED  \\\n",
            "0                           -                               19.0   \n",
            "1                           -                               21.0   \n",
            "2                           -                               17.0   \n",
            "3                           -                               17.0   \n",
            "4                           -                               15.0   \n",
            "\n",
            "   NUMBER OF SECTIONS  AVERAGE CLASS SIZE  SIZE OF SMALLEST CLASS  \\\n",
            "0                 1.0                19.0                    19.0   \n",
            "1                 1.0                21.0                    21.0   \n",
            "2                 1.0                17.0                    17.0   \n",
            "3                 1.0                17.0                    17.0   \n",
            "4                 1.0                15.0                    15.0   \n",
            "\n",
            "   SIZE OF LARGEST CLASS DATA SOURCE  SCHOOLWIDE PUPIL-TEACHER RATIO  \\\n",
            "0                   19.0         ATS                             NaN   \n",
            "1                   21.0         ATS                             NaN   \n",
            "2                   17.0         ATS                             NaN   \n",
            "3                   17.0         ATS                             NaN   \n",
            "4                   15.0         ATS                             NaN   \n",
            "\n",
            "  padded_csd     DBN  \n",
            "0         01  01M015  \n",
            "1         01  01M015  \n",
            "2         01  01M015  \n",
            "3         01  01M015  \n",
            "4         01  01M015  \n"
          ]
        }
      ]
    },
    {
      "cell_type": "code",
      "source": [
        "cols = ['SAT Math Avg. Score', 'SAT Critical Reading Avg. Score', 'SAT Writing Avg. Score']\n",
        "for c in cols:\n",
        "    data[\"sat_results\"][c] = pd.to_numeric(data[\"sat_results\"][c], errors=\"coerce\")\n",
        "\n",
        "data['sat_results']['sat_score'] = data['sat_results'][cols[0]] + data['sat_results'][cols[1]] + data['sat_results'][cols[2]]\n",
        "print(data['sat_results']['sat_score'].head())"
      ],
      "metadata": {
        "colab": {
          "base_uri": "https://localhost:8080/"
        },
        "id": "SKHE-G39J005",
        "outputId": "b56ae04c-e59d-4a05-9fa2-b07990b26a4d"
      },
      "execution_count": null,
      "outputs": [
        {
          "output_type": "stream",
          "name": "stdout",
          "text": [
            "0    1122.0\n",
            "1    1172.0\n",
            "2    1149.0\n",
            "3    1174.0\n",
            "4    1207.0\n",
            "Name: sat_score, dtype: float64\n"
          ]
        }
      ]
    },
    {
      "cell_type": "code",
      "source": [
        "data[\"hs_directory\"][\"Location 1\"]"
      ],
      "metadata": {
        "colab": {
          "base_uri": "https://localhost:8080/"
        },
        "id": "VW77DgByP4Iv",
        "outputId": "caafa78e-94c8-4220-a326-c4decd36278a"
      },
      "execution_count": null,
      "outputs": [
        {
          "output_type": "execute_result",
          "data": {
            "text/plain": [
              "0      8 21 Bay 25 Street\\nFar Rockaway, NY 11691\\n(4...\n",
              "1      2630 Benson Avenue\\nBrooklyn, NY 11214\\n(40.59...\n",
              "2      1014 Lafayette Avenue\\nBrooklyn, NY 11221\\n(40...\n",
              "3      1980 Lafayette Avenue\\nBronx, NY 10473\\n(40.82...\n",
              "4      100 Amsterdam Avenue\\nNew York, NY 10023\\n(40....\n",
              "                             ...                        \n",
              "430    525 West 50Th Street\\nNew York, NY 10019\\n(40....\n",
              "431    240 East 172 Street\\nBronx, NY 10457\\n(40.8403...\n",
              "432    400 Irving Avenue\\nBrooklyn, NY 11237\\n(40.696...\n",
              "433    345 East 15Th Street\\nNew York, NY 10003\\n(40....\n",
              "434    521 West Avenue\\nBrooklyn, NY 11224\\n(40.58211...\n",
              "Name: Location 1, Length: 435, dtype: object"
            ]
          },
          "metadata": {},
          "execution_count": 71
        }
      ]
    },
    {
      "cell_type": "code",
      "source": [
        "import re\n",
        "def find_lat(loc):\n",
        "    coords = re.findall(\"\\(.+\\)\", loc)\n",
        "    lat = coords[0].split(\",\")[0].replace(\"(\", \"\")\n",
        "    return lat\n",
        "\n",
        "\n",
        "data[\"hs_directory\"][\"lat\"] = data[\"hs_directory\"][\"Location 1\"].apply(find_lat)\n",
        "\n",
        "print(data[\"hs_directory\"].head())"
      ],
      "metadata": {
        "colab": {
          "base_uri": "https://localhost:8080/"
        },
        "id": "Mg3MrjoDLfIq",
        "outputId": "a3492864-1ea0-4dd3-dbcc-0065d503a2a6"
      },
      "execution_count": null,
      "outputs": [
        {
          "output_type": "stream",
          "name": "stdout",
          "text": [
            "      dbn                                        school_name    borough  \\\n",
            "0  27Q260          Frederick Douglass Academy VI High School     Queens   \n",
            "1  21K559        Life Academy High School for Film and Music   Brooklyn   \n",
            "2  16K393     Frederick Douglass Academy IV Secondary School   Brooklyn   \n",
            "3  08X305                               Pablo Neruda Academy      Bronx   \n",
            "4  03M485  Fiorello H. LaGuardia High School of Music & A...  Manhattan   \n",
            "\n",
            "  building_code  phone_number    fax_number  grade_span_min  grade_span_max  \\\n",
            "0          Q465  718-471-2154  718-471-2890             9.0              12   \n",
            "1          K400  718-333-7750  718-333-7775             9.0              12   \n",
            "2          K026  718-574-2820  718-574-2821             9.0              12   \n",
            "3          X450  718-824-1682  718-824-1663             9.0              12   \n",
            "4          M485  212-496-0700  212-724-5748             9.0              12   \n",
            "\n",
            "   expgrade_span_min  expgrade_span_max  ... priority10  \\\n",
            "0                NaN                NaN  ...        NaN   \n",
            "1                NaN                NaN  ...        NaN   \n",
            "2                NaN                NaN  ...        NaN   \n",
            "3                NaN                NaN  ...        NaN   \n",
            "4                NaN                NaN  ...        NaN   \n",
            "\n",
            "                                          Location 1 Community Board  \\\n",
            "0  8 21 Bay 25 Street\\nFar Rockaway, NY 11691\\n(4...            14.0   \n",
            "1  2630 Benson Avenue\\nBrooklyn, NY 11214\\n(40.59...            13.0   \n",
            "2  1014 Lafayette Avenue\\nBrooklyn, NY 11221\\n(40...             3.0   \n",
            "3  1980 Lafayette Avenue\\nBronx, NY 10473\\n(40.82...             9.0   \n",
            "4  100 Amsterdam Avenue\\nNew York, NY 10023\\n(40....             7.0   \n",
            "\n",
            "  Council District Census Tract        BIN           BBL  \\\n",
            "0             31.0     100802.0  4300730.0  4.157360e+09   \n",
            "1             47.0        306.0  3186454.0  3.068830e+09   \n",
            "2             36.0        291.0  3393805.0  3.016160e+09   \n",
            "3             18.0         16.0  2022205.0  2.036040e+09   \n",
            "4              6.0        151.0  1030341.0  1.011560e+09   \n",
            "\n",
            "                                                 NTA     DBN           lat  \n",
            "0  Far Rockaway-Bayswater                        ...  27Q260  40.601989336  \n",
            "1  Gravesend                                     ...  21K559  40.593593811  \n",
            "2  Stuyvesant Heights                            ...  16K393  40.692133704  \n",
            "3  Soundview-Castle Hill-Clason Point-Harding Par...  08X305  40.822303765  \n",
            "4  Lincoln Square                                ...  03M485  40.773670507  \n",
            "\n",
            "[5 rows x 66 columns]\n"
          ]
        }
      ]
    },
    {
      "cell_type": "code",
      "source": [
        "import re\n",
        "def find_lon(loc):\n",
        "    coords = re.findall(\"\\(.+\\)\", loc)\n",
        "    lon = coords[0].split(\",\")[1].replace(\")\", \"\")\n",
        "    return lon\n",
        "\n",
        "\n",
        "data[\"hs_directory\"][\"lon\"] = data[\"hs_directory\"][\"Location 1\"].apply(find_lon)\n",
        "\n",
        "data[\"hs_directory\"][\"lat\"] = pd.to_numeric(data[\"hs_directory\"][\"lat\"], errors=\"coerce\")\n",
        "data[\"hs_directory\"][\"lon\"] = pd.to_numeric(data[\"hs_directory\"][\"lon\"], errors=\"coerce\")\n",
        "\n",
        "print(data[\"hs_directory\"].head())"
      ],
      "metadata": {
        "colab": {
          "base_uri": "https://localhost:8080/"
        },
        "id": "IjFpqTQTPDY1",
        "outputId": "bde0867c-d9d2-486b-e5bf-1aa3f0ce0c1a"
      },
      "execution_count": null,
      "outputs": [
        {
          "output_type": "stream",
          "name": "stdout",
          "text": [
            "      dbn                                        school_name    borough  \\\n",
            "0  27Q260          Frederick Douglass Academy VI High School     Queens   \n",
            "1  21K559        Life Academy High School for Film and Music   Brooklyn   \n",
            "2  16K393     Frederick Douglass Academy IV Secondary School   Brooklyn   \n",
            "3  08X305                               Pablo Neruda Academy      Bronx   \n",
            "4  03M485  Fiorello H. LaGuardia High School of Music & A...  Manhattan   \n",
            "\n",
            "  building_code  phone_number    fax_number  grade_span_min  grade_span_max  \\\n",
            "0          Q465  718-471-2154  718-471-2890             9.0              12   \n",
            "1          K400  718-333-7750  718-333-7775             9.0              12   \n",
            "2          K026  718-574-2820  718-574-2821             9.0              12   \n",
            "3          X450  718-824-1682  718-824-1663             9.0              12   \n",
            "4          M485  212-496-0700  212-724-5748             9.0              12   \n",
            "\n",
            "   expgrade_span_min  expgrade_span_max  ...  \\\n",
            "0                NaN                NaN  ...   \n",
            "1                NaN                NaN  ...   \n",
            "2                NaN                NaN  ...   \n",
            "3                NaN                NaN  ...   \n",
            "4                NaN                NaN  ...   \n",
            "\n",
            "                                          Location 1 Community Board  \\\n",
            "0  8 21 Bay 25 Street\\nFar Rockaway, NY 11691\\n(4...            14.0   \n",
            "1  2630 Benson Avenue\\nBrooklyn, NY 11214\\n(40.59...            13.0   \n",
            "2  1014 Lafayette Avenue\\nBrooklyn, NY 11221\\n(40...             3.0   \n",
            "3  1980 Lafayette Avenue\\nBronx, NY 10473\\n(40.82...             9.0   \n",
            "4  100 Amsterdam Avenue\\nNew York, NY 10023\\n(40....             7.0   \n",
            "\n",
            "  Council District Census Tract        BIN           BBL  \\\n",
            "0             31.0     100802.0  4300730.0  4.157360e+09   \n",
            "1             47.0        306.0  3186454.0  3.068830e+09   \n",
            "2             36.0        291.0  3393805.0  3.016160e+09   \n",
            "3             18.0         16.0  2022205.0  2.036040e+09   \n",
            "4              6.0        151.0  1030341.0  1.011560e+09   \n",
            "\n",
            "                                                 NTA     DBN        lat  \\\n",
            "0  Far Rockaway-Bayswater                        ...  27Q260  40.601989   \n",
            "1  Gravesend                                     ...  21K559  40.593594   \n",
            "2  Stuyvesant Heights                            ...  16K393  40.692134   \n",
            "3  Soundview-Castle Hill-Clason Point-Harding Par...  08X305  40.822304   \n",
            "4  Lincoln Square                                ...  03M485  40.773671   \n",
            "\n",
            "         lon  \n",
            "0 -73.762834  \n",
            "1 -73.984729  \n",
            "2 -73.931503  \n",
            "3 -73.855961  \n",
            "4 -73.985269  \n",
            "\n",
            "[5 rows x 67 columns]\n"
          ]
        }
      ]
    },
    {
      "cell_type": "code",
      "source": [
        "import re\n",
        "import re\n",
        "def find_lon(loc):\n",
        "    coords = re.findall(\"\\(.+\\)\", loc)\n",
        "    lon = coords[0].split(\",\")[1].replace(\")\", \"\").strip()\n",
        "    return lon\n",
        "\n",
        "data[\"hs_directory\"][\"lon\"] = data[\"hs_directory\"][\"Location 1\"].apply(find_lon)\n",
        "\n",
        "data[\"hs_directory\"][\"lat\"] = pd.to_numeric(data[\"hs_directory\"][\"lat\"], errors=\"coerce\")\n",
        "data[\"hs_directory\"][\"lon\"] = pd.to_numeric(data[\"hs_directory\"][\"lon\"], errors=\"coerce\")\n",
        "\n",
        "print(data[\"hs_directory\"].head())"
      ],
      "metadata": {
        "colab": {
          "base_uri": "https://localhost:8080/"
        },
        "id": "okqpmcejPZfQ",
        "outputId": "5db95db1-a2cf-46fb-93bc-945e18a3390f"
      },
      "execution_count": null,
      "outputs": [
        {
          "output_type": "stream",
          "name": "stdout",
          "text": [
            "      dbn                                        school_name    borough  \\\n",
            "0  27Q260          Frederick Douglass Academy VI High School     Queens   \n",
            "1  21K559        Life Academy High School for Film and Music   Brooklyn   \n",
            "2  16K393     Frederick Douglass Academy IV Secondary School   Brooklyn   \n",
            "3  08X305                               Pablo Neruda Academy      Bronx   \n",
            "4  03M485  Fiorello H. LaGuardia High School of Music & A...  Manhattan   \n",
            "\n",
            "  building_code  phone_number    fax_number  grade_span_min  grade_span_max  \\\n",
            "0          Q465  718-471-2154  718-471-2890             9.0              12   \n",
            "1          K400  718-333-7750  718-333-7775             9.0              12   \n",
            "2          K026  718-574-2820  718-574-2821             9.0              12   \n",
            "3          X450  718-824-1682  718-824-1663             9.0              12   \n",
            "4          M485  212-496-0700  212-724-5748             9.0              12   \n",
            "\n",
            "   expgrade_span_min  expgrade_span_max  ...  \\\n",
            "0                NaN                NaN  ...   \n",
            "1                NaN                NaN  ...   \n",
            "2                NaN                NaN  ...   \n",
            "3                NaN                NaN  ...   \n",
            "4                NaN                NaN  ...   \n",
            "\n",
            "                                          Location 1 Community Board  \\\n",
            "0  8 21 Bay 25 Street\\nFar Rockaway, NY 11691\\n(4...            14.0   \n",
            "1  2630 Benson Avenue\\nBrooklyn, NY 11214\\n(40.59...            13.0   \n",
            "2  1014 Lafayette Avenue\\nBrooklyn, NY 11221\\n(40...             3.0   \n",
            "3  1980 Lafayette Avenue\\nBronx, NY 10473\\n(40.82...             9.0   \n",
            "4  100 Amsterdam Avenue\\nNew York, NY 10023\\n(40....             7.0   \n",
            "\n",
            "  Council District Census Tract        BIN           BBL  \\\n",
            "0             31.0     100802.0  4300730.0  4.157360e+09   \n",
            "1             47.0        306.0  3186454.0  3.068830e+09   \n",
            "2             36.0        291.0  3393805.0  3.016160e+09   \n",
            "3             18.0         16.0  2022205.0  2.036040e+09   \n",
            "4              6.0        151.0  1030341.0  1.011560e+09   \n",
            "\n",
            "                                                 NTA     DBN        lat  \\\n",
            "0  Far Rockaway-Bayswater                        ...  27Q260  40.601989   \n",
            "1  Gravesend                                     ...  21K559  40.593594   \n",
            "2  Stuyvesant Heights                            ...  16K393  40.692134   \n",
            "3  Soundview-Castle Hill-Clason Point-Harding Par...  08X305  40.822304   \n",
            "4  Lincoln Square                                ...  03M485  40.773671   \n",
            "\n",
            "         lon  \n",
            "0 -73.762834  \n",
            "1 -73.984729  \n",
            "2 -73.931503  \n",
            "3 -73.855961  \n",
            "4 -73.985269  \n",
            "\n",
            "[5 rows x 67 columns]\n"
          ]
        }
      ]
    },
    {
      "cell_type": "code",
      "source": [
        "class_size = data['class_size']\n",
        "class_size = class_size[class_size['GRADE '] == '09-12']\n",
        "class_size = class_size[class_size['PROGRAM TYPE'] == 'GEN ED']\n",
        "print(class_size.head())\n"
      ],
      "metadata": {
        "colab": {
          "base_uri": "https://localhost:8080/"
        },
        "id": "4JIhdRAa8vK9",
        "outputId": "28e368c4-7b58-42c3-f9b4-decb457d17ec"
      },
      "execution_count": null,
      "outputs": [
        {
          "output_type": "stream",
          "name": "stdout",
          "text": [
            "     CSD BOROUGH SCHOOL CODE                                    SCHOOL NAME  \\\n",
            "225    1       M        M292  Henry Street School for International Studies   \n",
            "226    1       M        M292  Henry Street School for International Studies   \n",
            "227    1       M        M292  Henry Street School for International Studies   \n",
            "228    1       M        M292  Henry Street School for International Studies   \n",
            "229    1       M        M292  Henry Street School for International Studies   \n",
            "\n",
            "    GRADE  PROGRAM TYPE CORE SUBJECT (MS CORE and 9-12 ONLY)  \\\n",
            "225  09-12       GEN ED                              ENGLISH   \n",
            "226  09-12       GEN ED                              ENGLISH   \n",
            "227  09-12       GEN ED                              ENGLISH   \n",
            "228  09-12       GEN ED                              ENGLISH   \n",
            "229  09-12       GEN ED                                 MATH   \n",
            "\n",
            "    CORE COURSE (MS CORE and 9-12 ONLY) SERVICE CATEGORY(K-9* ONLY)  \\\n",
            "225                           English 9                           -   \n",
            "226                          English 10                           -   \n",
            "227                          English 11                           -   \n",
            "228                          English 12                           -   \n",
            "229                  Integrated Algebra                           -   \n",
            "\n",
            "     NUMBER OF STUDENTS / SEATS FILLED  NUMBER OF SECTIONS  \\\n",
            "225                               63.0                 3.0   \n",
            "226                               79.0                 3.0   \n",
            "227                               38.0                 2.0   \n",
            "228                               69.0                 3.0   \n",
            "229                               53.0                 3.0   \n",
            "\n",
            "     AVERAGE CLASS SIZE  SIZE OF SMALLEST CLASS  SIZE OF LARGEST CLASS  \\\n",
            "225                21.0                    19.0                   25.0   \n",
            "226                26.3                    24.0                   31.0   \n",
            "227                19.0                    16.0                   22.0   \n",
            "228                23.0                    13.0                   30.0   \n",
            "229                17.7                    16.0                   21.0   \n",
            "\n",
            "    DATA SOURCE  SCHOOLWIDE PUPIL-TEACHER RATIO padded_csd     DBN  \n",
            "225       STARS                             NaN         01  01M292  \n",
            "226       STARS                             NaN         01  01M292  \n",
            "227       STARS                             NaN         01  01M292  \n",
            "228       STARS                             NaN         01  01M292  \n",
            "229       STARS                             NaN         01  01M292  \n"
          ]
        }
      ]
    },
    {
      "cell_type": "code",
      "source": [
        "class_size = class_size.groupby(\"DBN\").agg(numpy.mean)\n",
        "class_size.reset_index(inplace=True)\n",
        "data[\"class_size\"] = class_size\n",
        "print(data[\"class_size\"].head())"
      ],
      "metadata": {
        "colab": {
          "base_uri": "https://localhost:8080/"
        },
        "id": "ag--5PfiNIP1",
        "outputId": "e80f3e20-4111-4511-93d0-6557bb46764b"
      },
      "execution_count": null,
      "outputs": [
        {
          "output_type": "stream",
          "name": "stdout",
          "text": [
            "      DBN  CSD  NUMBER OF STUDENTS / SEATS FILLED  NUMBER OF SECTIONS  \\\n",
            "0  01M292  1.0                            88.0000            4.000000   \n",
            "1  01M332  1.0                            46.0000            2.000000   \n",
            "2  01M378  1.0                            33.0000            1.000000   \n",
            "3  01M448  1.0                           105.6875            4.750000   \n",
            "4  01M450  1.0                            57.6000            2.733333   \n",
            "\n",
            "   AVERAGE CLASS SIZE  SIZE OF SMALLEST CLASS  SIZE OF LARGEST CLASS  \\\n",
            "0           22.564286                   18.50              26.571429   \n",
            "1           22.000000                   21.00              23.500000   \n",
            "2           33.000000                   33.00              33.000000   \n",
            "3           22.231250                   18.25              27.062500   \n",
            "4           21.200000                   19.40              22.866667   \n",
            "\n",
            "   SCHOOLWIDE PUPIL-TEACHER RATIO  \n",
            "0                             NaN  \n",
            "1                             NaN  \n",
            "2                             NaN  \n",
            "3                             NaN  \n",
            "4                             NaN  \n"
          ]
        }
      ]
    },
    {
      "cell_type": "markdown",
      "source": [
        "reloaded this data fresh to fix an error "
      ],
      "metadata": {
        "id": "h8pLlnQnWZm_"
      }
    },
    {
      "cell_type": "code",
      "source": [
        "data['demographics'] = pd.read_csv('/content/drive/MyDrive/Dataset/2006_-_2012_School_Demographics_and_Accountability_Snapshot.csv')\n",
        "data['graduation'] = pd.read_csv('/content/drive/MyDrive/Dataset/2005-2010_Graduation_Outcomes_-_School_Level.csv')"
      ],
      "metadata": {
        "id": "8kQPNHzNVWFn"
      },
      "execution_count": null,
      "outputs": []
    },
    {
      "cell_type": "code",
      "source": [
        "\n",
        "data['demographics'] = data['demographics'][data['demographics']['schoolyear'] == 20112012]\n",
        "print(data['demographics'].head())"
      ],
      "metadata": {
        "colab": {
          "base_uri": "https://localhost:8080/"
        },
        "id": "fiiI8h2iNIgz",
        "outputId": "ca6476f5-d8eb-4376-a651-4af2dc36a2fc"
      },
      "execution_count": null,
      "outputs": [
        {
          "output_type": "stream",
          "name": "stdout",
          "text": [
            "       DBN                                              Name  schoolyear  \\\n",
            "6   01M015  P.S. 015 ROBERTO CLEMENTE                           20112012   \n",
            "13  01M019  P.S. 019 ASHER LEVY                                 20112012   \n",
            "20  01M020  PS 020 ANNA SILVER                                  20112012   \n",
            "27  01M034  PS 034 FRANKLIN D ROOSEVELT                         20112012   \n",
            "35  01M063  PS 063 WILLIAM MCKINLEY                             20112012   \n",
            "\n",
            "   fl_percent  frl_percent  total_enrollment prek    k grade1 grade2  ...  \\\n",
            "6         NaN         89.4               189   13   31     35     28  ...   \n",
            "13        NaN         61.5               328   32   46     52     54  ...   \n",
            "20        NaN         92.5               626   52  102    121     87  ...   \n",
            "27        NaN         99.7               401   14   34     38     36  ...   \n",
            "35        NaN         78.9               176   18   20     30     21  ...   \n",
            "\n",
            "   black_num black_per hispanic_num hispanic_per white_num white_per male_num  \\\n",
            "6         63      33.3          109         57.7         4       2.1     97.0   \n",
            "13        81      24.7          158         48.2        28       8.5    147.0   \n",
            "20        55       8.8          357         57.0        16       2.6    330.0   \n",
            "27        90      22.4          275         68.6         8       2.0    204.0   \n",
            "35        41      23.3          110         62.5        15       8.5     97.0   \n",
            "\n",
            "   male_per female_num female_per  \n",
            "6      51.3       92.0       48.7  \n",
            "13     44.8      181.0       55.2  \n",
            "20     52.7      296.0       47.3  \n",
            "27     50.9      197.0       49.1  \n",
            "35     55.1       79.0       44.9  \n",
            "\n",
            "[5 rows x 38 columns]\n"
          ]
        }
      ]
    },
    {
      "cell_type": "code",
      "source": [
        "data[\"graduation\"] = data[\"graduation\"][data[\"graduation\"][\"Cohort\"] == \"2006\"]\n",
        "data[\"graduation\"] = data[\"graduation\"][data[\"graduation\"][\"Demographic\"] == \"Total Cohort\"]\n",
        "print(data[\"graduation\"].head())"
      ],
      "metadata": {
        "id": "HAE1TSZRUCkL",
        "colab": {
          "base_uri": "https://localhost:8080/"
        },
        "outputId": "57f9d772-d8df-453c-d3ca-7b753a443b76"
      },
      "execution_count": null,
      "outputs": [
        {
          "output_type": "stream",
          "name": "stdout",
          "text": [
            "     Demographic     DBN                            School Name Cohort  \\\n",
            "3   Total Cohort  01M292  HENRY STREET SCHOOL FOR INTERNATIONAL   2006   \n",
            "10  Total Cohort  01M448    UNIVERSITY NEIGHBORHOOD HIGH SCHOOL   2006   \n",
            "17  Total Cohort  01M450             EAST SIDE COMMUNITY SCHOOL   2006   \n",
            "24  Total Cohort  01M509                MARTA VALLE HIGH SCHOOL   2006   \n",
            "31  Total Cohort  01M515  LOWER EAST SIDE PREPARATORY HIGH SCHO   2006   \n",
            "\n",
            "    Total Cohort Total Grads - n  Total Grads - % of cohort Total Regents - n  \\\n",
            "3             78              43                       55.1                36   \n",
            "10           124              53                       42.7                42   \n",
            "17            90              70                       77.8                67   \n",
            "24            84              47                       56.0                40   \n",
            "31           193             105                       54.4                91   \n",
            "\n",
            "    Total Regents - % of cohort  Total Regents - % of grads  ...  \\\n",
            "3                          46.2                        83.7  ...   \n",
            "10                         33.9                        79.2  ...   \n",
            "17                         74.4                        95.7  ...   \n",
            "24                         47.6                        85.1  ...   \n",
            "31                         47.2                        86.7  ...   \n",
            "\n",
            "   Regents w/o Advanced - n  Regents w/o Advanced - % of cohort  \\\n",
            "3                        36                                46.2   \n",
            "10                       34                                27.4   \n",
            "17                       67                                74.4   \n",
            "24                       23                                27.4   \n",
            "31                       22                                11.4   \n",
            "\n",
            "    Regents w/o Advanced - % of grads Local - n  Local - % of cohort  \\\n",
            "3                                83.7         7                  9.0   \n",
            "10                               64.2        11                  8.9   \n",
            "17                               95.7         3                  3.3   \n",
            "24                               48.9         7                  8.3   \n",
            "31                               21.0        14                  7.3   \n",
            "\n",
            "    Local - % of grads Still Enrolled - n  Still Enrolled - % of cohort  \\\n",
            "3                 16.3                 16                          20.5   \n",
            "10                20.8                 46                          37.1   \n",
            "17                 4.3                 15                          16.7   \n",
            "24                14.9                 25                          29.8   \n",
            "31                13.3                 53                          27.5   \n",
            "\n",
            "    Dropped Out - n Dropped Out - % of cohort  \n",
            "3                11                      14.1  \n",
            "10               20                      16.1  \n",
            "17                5                       5.6  \n",
            "24                5                       6.0  \n",
            "31               35                      18.1  \n",
            "\n",
            "[5 rows x 23 columns]\n"
          ]
        }
      ]
    },
    {
      "cell_type": "code",
      "source": [
        "cols = ['AP Test Takers ', 'Total Exams Taken', 'Number of Exams with scores 3 4 or 5']\n",
        "\n",
        "for c in cols:\n",
        "    data['ap_2010'][c] = pd.to_numeric(data['ap_2010'][c], errors='coerce')\n",
        "    \n",
        "print(data['ap_2010'])"
      ],
      "metadata": {
        "colab": {
          "base_uri": "https://localhost:8080/"
        },
        "id": "UqVMFX25V1tI",
        "outputId": "b5b37ce6-2928-4fee-fa3c-d49658b4afee"
      },
      "execution_count": null,
      "outputs": [
        {
          "output_type": "stream",
          "name": "stdout",
          "text": [
            "        DBN                                         SchoolName  \\\n",
            "0    01M448                       UNIVERSITY NEIGHBORHOOD H.S.   \n",
            "1    01M450                             EAST SIDE COMMUNITY HS   \n",
            "2    01M515                                LOWER EASTSIDE PREP   \n",
            "3    01M539                     NEW EXPLORATIONS SCI,TECH,MATH   \n",
            "4    02M296              High School of Hospitality Management   \n",
            "..      ...                                                ...   \n",
            "253  31R605                         STATEN ISLAND TECHNICAL HS   \n",
            "254  32K545                      EBC-HS FOR PUB SERVICE (BUSH)   \n",
            "255  32K552                          Academy of Urban Planning   \n",
            "256  32K554               All City Leadership Secondary School   \n",
            "257  32K556  Bushwick Leaders High School for Academic Exce...   \n",
            "\n",
            "     AP Test Takers   Total Exams Taken  Number of Exams with scores 3 4 or 5  \n",
            "0               39.0               49.0                                  10.0  \n",
            "1               19.0               21.0                                   NaN  \n",
            "2               24.0               26.0                                  24.0  \n",
            "3              255.0              377.0                                 191.0  \n",
            "4                NaN                NaN                                   NaN  \n",
            "..               ...                ...                                   ...  \n",
            "253            528.0              905.0                                 809.0  \n",
            "254             47.0               64.0                                  13.0  \n",
            "255             76.0              100.0                                  10.0  \n",
            "256              7.0                8.0                                   NaN  \n",
            "257             34.0               35.0                                  18.0  \n",
            "\n",
            "[258 rows x 5 columns]\n"
          ]
        }
      ]
    },
    {
      "cell_type": "code",
      "source": [
        "\n",
        "combined = data['sat_results']\n",
        "combined = combined.merge(data['ap_2010'], on='DBN' , how='left')\n",
        "combined = combined.merge(data['graduation'], on='DBN' , how='left')\n",
        "\n",
        "print(combined.head())"
      ],
      "metadata": {
        "colab": {
          "base_uri": "https://localhost:8080/"
        },
        "id": "b2EbjiLWYwbJ",
        "outputId": "c326cc53-8ce1-4d0c-ffcf-a4477710eb48"
      },
      "execution_count": null,
      "outputs": [
        {
          "output_type": "stream",
          "name": "stdout",
          "text": [
            "      DBN                                    SCHOOL NAME  \\\n",
            "0  01M292  HENRY STREET SCHOOL FOR INTERNATIONAL STUDIES   \n",
            "1  01M448            UNIVERSITY NEIGHBORHOOD HIGH SCHOOL   \n",
            "2  01M450                     EAST SIDE COMMUNITY SCHOOL   \n",
            "3  01M458                      FORSYTH SATELLITE ACADEMY   \n",
            "4  01M509                        MARTA VALLE HIGH SCHOOL   \n",
            "\n",
            "  Num of SAT Test Takers  SAT Critical Reading Avg. Score  \\\n",
            "0                     29                            355.0   \n",
            "1                     91                            383.0   \n",
            "2                     70                            377.0   \n",
            "3                      7                            414.0   \n",
            "4                     44                            390.0   \n",
            "\n",
            "   SAT Math Avg. Score  SAT Writing Avg. Score  sat_score  \\\n",
            "0                404.0                   363.0     1122.0   \n",
            "1                423.0                   366.0     1172.0   \n",
            "2                402.0                   370.0     1149.0   \n",
            "3                401.0                   359.0     1174.0   \n",
            "4                433.0                   384.0     1207.0   \n",
            "\n",
            "                     SchoolName  AP Test Takers   Total Exams Taken  ...  \\\n",
            "0                           NaN              NaN                NaN  ...   \n",
            "1  UNIVERSITY NEIGHBORHOOD H.S.             39.0               49.0  ...   \n",
            "2        EAST SIDE COMMUNITY HS             19.0               21.0  ...   \n",
            "3                           NaN              NaN                NaN  ...   \n",
            "4                           NaN              NaN                NaN  ...   \n",
            "\n",
            "   Regents w/o Advanced - n Regents w/o Advanced - % of cohort  \\\n",
            "0                        36                               46.2   \n",
            "1                        34                               27.4   \n",
            "2                        67                               74.4   \n",
            "3                       NaN                                NaN   \n",
            "4                        23                               27.4   \n",
            "\n",
            "  Regents w/o Advanced - % of grads Local - n  Local - % of cohort  \\\n",
            "0                              83.7         7                  9.0   \n",
            "1                              64.2        11                  8.9   \n",
            "2                              95.7         3                  3.3   \n",
            "3                               NaN       NaN                  NaN   \n",
            "4                              48.9         7                  8.3   \n",
            "\n",
            "  Local - % of grads  Still Enrolled - n Still Enrolled - % of cohort  \\\n",
            "0               16.3                  16                         20.5   \n",
            "1               20.8                  46                         37.1   \n",
            "2                4.3                  15                         16.7   \n",
            "3                NaN                 NaN                          NaN   \n",
            "4               14.9                  25                         29.8   \n",
            "\n",
            "   Dropped Out - n  Dropped Out - % of cohort  \n",
            "0               11                       14.1  \n",
            "1               20                       16.1  \n",
            "2                5                        5.6  \n",
            "3              NaN                        NaN  \n",
            "4                5                        6.0  \n",
            "\n",
            "[5 rows x 33 columns]\n"
          ]
        }
      ]
    },
    {
      "cell_type": "code",
      "source": [
        "merges = ['class_size', 'demographics', 'survey', 'hs_directory']\n",
        "\n",
        "for m in merges:\n",
        "    combined = combined.merge(data[m], on='DBN', how='inner')\n",
        "\n",
        "print(combined.head())\n",
        "\n"
      ],
      "metadata": {
        "colab": {
          "base_uri": "https://localhost:8080/"
        },
        "id": "WKD4PAMhanK_",
        "outputId": "84d5bba8-2614-43ef-efb2-b8f99dd5676b"
      },
      "execution_count": null,
      "outputs": [
        {
          "output_type": "stream",
          "name": "stdout",
          "text": [
            "      DBN                                    SCHOOL NAME  \\\n",
            "0  01M292  HENRY STREET SCHOOL FOR INTERNATIONAL STUDIES   \n",
            "1  01M292  HENRY STREET SCHOOL FOR INTERNATIONAL STUDIES   \n",
            "2  01M292  HENRY STREET SCHOOL FOR INTERNATIONAL STUDIES   \n",
            "3  01M292  HENRY STREET SCHOOL FOR INTERNATIONAL STUDIES   \n",
            "4  01M292  HENRY STREET SCHOOL FOR INTERNATIONAL STUDIES   \n",
            "\n",
            "  Num of SAT Test Takers  SAT Critical Reading Avg. Score  \\\n",
            "0                     29                            355.0   \n",
            "1                     29                            355.0   \n",
            "2                     29                            355.0   \n",
            "3                     29                            355.0   \n",
            "4                     29                            355.0   \n",
            "\n",
            "   SAT Math Avg. Score  SAT Writing Avg. Score  sat_score SchoolName  \\\n",
            "0                404.0                   363.0     1122.0        NaN   \n",
            "1                404.0                   363.0     1122.0        NaN   \n",
            "2                404.0                   363.0     1122.0        NaN   \n",
            "3                404.0                   363.0     1122.0        NaN   \n",
            "4                404.0                   363.0     1122.0        NaN   \n",
            "\n",
            "   AP Test Takers   Total Exams Taken  ...  priority10  \\\n",
            "0              NaN                NaN  ...         NaN   \n",
            "1              NaN                NaN  ...         NaN   \n",
            "2              NaN                NaN  ...         NaN   \n",
            "3              NaN                NaN  ...         NaN   \n",
            "4              NaN                NaN  ...         NaN   \n",
            "\n",
            "                                          Location 1 Community Board  \\\n",
            "0  220 Henry Street\\nNew York, NY 10002\\n(40.7137...             3.0   \n",
            "1  220 Henry Street\\nNew York, NY 10002\\n(40.7137...             3.0   \n",
            "2  220 Henry Street\\nNew York, NY 10002\\n(40.7137...             3.0   \n",
            "3  220 Henry Street\\nNew York, NY 10002\\n(40.7137...             3.0   \n",
            "4  220 Henry Street\\nNew York, NY 10002\\n(40.7137...             3.0   \n",
            "\n",
            "  Council District  Census Tract        BIN           BBL  \\\n",
            "0              1.0         201.0  1003223.0  1.002690e+09   \n",
            "1              1.0         201.0  1003223.0  1.002690e+09   \n",
            "2              1.0         201.0  1003223.0  1.002690e+09   \n",
            "3              1.0         201.0  1003223.0  1.002690e+09   \n",
            "4              1.0         201.0  1003223.0  1.002690e+09   \n",
            "\n",
            "                                                 NTA        lat       lon  \n",
            "0  Lower East Side                               ...  40.713764 -73.98526  \n",
            "1  Lower East Side                               ...  40.713764 -73.98526  \n",
            "2  Lower East Side                               ...  40.713764 -73.98526  \n",
            "3  Lower East Side                               ...  40.713764 -73.98526  \n",
            "4  Lower East Side                               ...  40.713764 -73.98526  \n",
            "\n",
            "[5 rows x 165 columns]\n"
          ]
        }
      ]
    },
    {
      "cell_type": "code",
      "source": [
        "means = df.mean()\n",
        "df = df.fillna(means)"
      ],
      "metadata": {
        "colab": {
          "base_uri": "https://localhost:8080/"
        },
        "id": "og-O7V84cnx1",
        "outputId": "10d4ee50-348f-41cf-8746-aad48db3de11"
      },
      "execution_count": null,
      "outputs": [
        {
          "output_type": "stream",
          "name": "stderr",
          "text": [
            "<ipython-input-104-5945bf1d720c>:1: FutureWarning: The default value of numeric_only in DataFrame.mean is deprecated. In a future version, it will default to False. In addition, specifying 'numeric_only=None' is deprecated. Select only valid columns or specify the value of numeric_only to silence this warning.\n",
            "  means = df.mean()\n"
          ]
        }
      ]
    },
    {
      "cell_type": "code",
      "source": [
        "\n",
        "print(combined.head())"
      ],
      "metadata": {
        "colab": {
          "base_uri": "https://localhost:8080/"
        },
        "id": "eGgH7n_7dIU4",
        "outputId": "159be9dd-c27f-4f26-921f-a9a6213b9a81"
      },
      "execution_count": null,
      "outputs": [
        {
          "output_type": "stream",
          "name": "stdout",
          "text": [
            "      DBN                                    SCHOOL NAME  \\\n",
            "0  01M292  HENRY STREET SCHOOL FOR INTERNATIONAL STUDIES   \n",
            "1  01M292  HENRY STREET SCHOOL FOR INTERNATIONAL STUDIES   \n",
            "2  01M292  HENRY STREET SCHOOL FOR INTERNATIONAL STUDIES   \n",
            "3  01M292  HENRY STREET SCHOOL FOR INTERNATIONAL STUDIES   \n",
            "4  01M292  HENRY STREET SCHOOL FOR INTERNATIONAL STUDIES   \n",
            "\n",
            "  Num of SAT Test Takers  SAT Critical Reading Avg. Score  \\\n",
            "0                     29                            355.0   \n",
            "1                     29                            355.0   \n",
            "2                     29                            355.0   \n",
            "3                     29                            355.0   \n",
            "4                     29                            355.0   \n",
            "\n",
            "   SAT Math Avg. Score  SAT Writing Avg. Score  sat_score SchoolName  \\\n",
            "0                404.0                   363.0     1122.0        NaN   \n",
            "1                404.0                   363.0     1122.0        NaN   \n",
            "2                404.0                   363.0     1122.0        NaN   \n",
            "3                404.0                   363.0     1122.0        NaN   \n",
            "4                404.0                   363.0     1122.0        NaN   \n",
            "\n",
            "   AP Test Takers   Total Exams Taken  ...  priority10  \\\n",
            "0              NaN                NaN  ...         NaN   \n",
            "1              NaN                NaN  ...         NaN   \n",
            "2              NaN                NaN  ...         NaN   \n",
            "3              NaN                NaN  ...         NaN   \n",
            "4              NaN                NaN  ...         NaN   \n",
            "\n",
            "                                          Location 1 Community Board  \\\n",
            "0  220 Henry Street\\nNew York, NY 10002\\n(40.7137...             3.0   \n",
            "1  220 Henry Street\\nNew York, NY 10002\\n(40.7137...             3.0   \n",
            "2  220 Henry Street\\nNew York, NY 10002\\n(40.7137...             3.0   \n",
            "3  220 Henry Street\\nNew York, NY 10002\\n(40.7137...             3.0   \n",
            "4  220 Henry Street\\nNew York, NY 10002\\n(40.7137...             3.0   \n",
            "\n",
            "  Council District  Census Tract        BIN           BBL  \\\n",
            "0              1.0         201.0  1003223.0  1.002690e+09   \n",
            "1              1.0         201.0  1003223.0  1.002690e+09   \n",
            "2              1.0         201.0  1003223.0  1.002690e+09   \n",
            "3              1.0         201.0  1003223.0  1.002690e+09   \n",
            "4              1.0         201.0  1003223.0  1.002690e+09   \n",
            "\n",
            "                                                 NTA        lat       lon  \n",
            "0  Lower East Side                               ...  40.713764 -73.98526  \n",
            "1  Lower East Side                               ...  40.713764 -73.98526  \n",
            "2  Lower East Side                               ...  40.713764 -73.98526  \n",
            "3  Lower East Side                               ...  40.713764 -73.98526  \n",
            "4  Lower East Side                               ...  40.713764 -73.98526  \n",
            "\n",
            "[5 rows x 165 columns]\n"
          ]
        }
      ]
    },
    {
      "cell_type": "markdown",
      "source": [
        "`means = combined.mean()`\n",
        "\n",
        "`combined = combined.fillna(means) `\n",
        "\n",
        "Using the mean method and fillna we can fill all NA values with their respective column's average values.\n",
        "\n",
        "For non numeric columns we are filling our NA values in with zero as well."
      ],
      "metadata": {
        "id": "bXvsvhPmeJpX"
      }
    },
    {
      "cell_type": "code",
      "source": [
        "combined = combined.fillna(combined.mean())\n",
        "combined = combined.fillna(0)\n",
        "print(combined.head(5))"
      ],
      "metadata": {
        "colab": {
          "base_uri": "https://localhost:8080/"
        },
        "id": "pbjKil4AdLar",
        "outputId": "a656fc36-9827-48be-ccf3-4f3e7d59a7b6"
      },
      "execution_count": null,
      "outputs": [
        {
          "output_type": "stream",
          "name": "stdout",
          "text": [
            "      DBN                                    SCHOOL NAME  \\\n",
            "0  01M292  HENRY STREET SCHOOL FOR INTERNATIONAL STUDIES   \n",
            "1  01M292  HENRY STREET SCHOOL FOR INTERNATIONAL STUDIES   \n",
            "2  01M292  HENRY STREET SCHOOL FOR INTERNATIONAL STUDIES   \n",
            "3  01M292  HENRY STREET SCHOOL FOR INTERNATIONAL STUDIES   \n",
            "4  01M292  HENRY STREET SCHOOL FOR INTERNATIONAL STUDIES   \n",
            "\n",
            "  Num of SAT Test Takers  SAT Critical Reading Avg. Score  \\\n",
            "0                     29                            355.0   \n",
            "1                     29                            355.0   \n",
            "2                     29                            355.0   \n",
            "3                     29                            355.0   \n",
            "4                     29                            355.0   \n",
            "\n",
            "   SAT Math Avg. Score  SAT Writing Avg. Score  sat_score SchoolName  \\\n",
            "0                404.0                   363.0     1122.0          0   \n",
            "1                404.0                   363.0     1122.0          0   \n",
            "2                404.0                   363.0     1122.0          0   \n",
            "3                404.0                   363.0     1122.0          0   \n",
            "4                404.0                   363.0     1122.0          0   \n",
            "\n",
            "   AP Test Takers   Total Exams Taken  ...  priority10  \\\n",
            "0       129.987509         198.644691  ...         0.0   \n",
            "1       129.987509         198.644691  ...         0.0   \n",
            "2       129.987509         198.644691  ...         0.0   \n",
            "3       129.987509         198.644691  ...         0.0   \n",
            "4       129.987509         198.644691  ...         0.0   \n",
            "\n",
            "                                          Location 1 Community Board  \\\n",
            "0  220 Henry Street\\nNew York, NY 10002\\n(40.7137...             3.0   \n",
            "1  220 Henry Street\\nNew York, NY 10002\\n(40.7137...             3.0   \n",
            "2  220 Henry Street\\nNew York, NY 10002\\n(40.7137...             3.0   \n",
            "3  220 Henry Street\\nNew York, NY 10002\\n(40.7137...             3.0   \n",
            "4  220 Henry Street\\nNew York, NY 10002\\n(40.7137...             3.0   \n",
            "\n",
            "  Council District  Census Tract        BIN           BBL  \\\n",
            "0              1.0         201.0  1003223.0  1.002690e+09   \n",
            "1              1.0         201.0  1003223.0  1.002690e+09   \n",
            "2              1.0         201.0  1003223.0  1.002690e+09   \n",
            "3              1.0         201.0  1003223.0  1.002690e+09   \n",
            "4              1.0         201.0  1003223.0  1.002690e+09   \n",
            "\n",
            "                                                 NTA        lat       lon  \n",
            "0  Lower East Side                               ...  40.713764 -73.98526  \n",
            "1  Lower East Side                               ...  40.713764 -73.98526  \n",
            "2  Lower East Side                               ...  40.713764 -73.98526  \n",
            "3  Lower East Side                               ...  40.713764 -73.98526  \n",
            "4  Lower East Side                               ...  40.713764 -73.98526  \n",
            "\n",
            "[5 rows x 165 columns]\n"
          ]
        },
        {
          "output_type": "stream",
          "name": "stderr",
          "text": [
            "<ipython-input-107-be7655a947e3>:1: FutureWarning: The default value of numeric_only in DataFrame.mean is deprecated. In a future version, it will default to False. In addition, specifying 'numeric_only=None' is deprecated. Select only valid columns or specify the value of numeric_only to silence this warning.\n",
            "  combined = combined.fillna(combined.mean())\n"
          ]
        }
      ]
    },
    {
      "cell_type": "markdown",
      "source": [
        "def ex_first_two(col):\n",
        "    return col[0:2]\n",
        "\n",
        "school_dist = []  # initialize an empty list\n",
        "\n",
        "for i in combined['DBN']:\n",
        "    school_dist.append(ex_first_two(i))  # append the first two characters of each DBN to the list\n",
        "\n",
        "combined['school_dist'] = school_dist  # assign the list to the 'school_dist' column\n",
        "\n",
        "combined['school_dist'].value_counts()\n",
        "\n",
        "using apply is preffered in pandas and more efficient\n",
        "\n",
        "\n",
        "\n"
      ],
      "metadata": {
        "id": "9L5GaZSKiyym"
      }
    },
    {
      "cell_type": "code",
      "source": [
        "def ex_first_two(col):\n",
        "    return col[0:2]\n",
        "    \n",
        "# using apply function to iterate over the DBN column\n",
        "combined['school_dist'] = combined['DBN'].apply(ex_first_two)\n",
        "    \n",
        "combined['school_dist'].value_counts()\n"
      ],
      "metadata": {
        "id": "7zv8xkcNegz0",
        "colab": {
          "base_uri": "https://localhost:8080/"
        },
        "outputId": "30aa3c11-b8ec-418c-9552-774f9a15e2a1"
      },
      "execution_count": 108,
      "outputs": [
        {
          "output_type": "execute_result",
          "data": {
            "text/plain": [
              "02    303\n",
              "10    151\n",
              "09    136\n",
              "11    105\n",
              "17     96\n",
              "14     91\n",
              "07     90\n",
              "13     85\n",
              "24     82\n",
              "12     73\n",
              "21     72\n",
              "03     71\n",
              "19     71\n",
              "08     69\n",
              "31     67\n",
              "06     64\n",
              "28     63\n",
              "27     60\n",
              "15     59\n",
              "30     59\n",
              "25     54\n",
              "18     50\n",
              "29     50\n",
              "04     49\n",
              "05     43\n",
              "01     42\n",
              "32     41\n",
              "26     35\n",
              "20     33\n",
              "22     28\n",
              "16     24\n",
              "23     21\n",
              "Name: school_dist, dtype: int64"
            ]
          },
          "metadata": {},
          "execution_count": 108
        }
      ]
    },
    {
      "cell_type": "code",
      "source": [
        "correlations = combined.corr()['sat_score']\n",
        "print(correlations)"
      ],
      "metadata": {
        "colab": {
          "base_uri": "https://localhost:8080/"
        },
        "id": "jmUg3ToWjLtZ",
        "outputId": "b4b8c8a0-d9eb-48ac-c16f-ff20291aed9e"
      },
      "execution_count": 110,
      "outputs": [
        {
          "output_type": "stream",
          "name": "stdout",
          "text": [
            "SAT Critical Reading Avg. Score    0.986650\n",
            "SAT Math Avg. Score                0.972547\n",
            "SAT Writing Avg. Score             0.988028\n",
            "sat_score                          1.000000\n",
            "AP Test Takers                     0.530071\n",
            "                                     ...   \n",
            "Census Tract                       0.061062\n",
            "BIN                                0.057465\n",
            "BBL                                0.048766\n",
            "lat                               -0.135597\n",
            "lon                               -0.131595\n",
            "Name: sat_score, Length: 84, dtype: float64\n"
          ]
        },
        {
          "output_type": "stream",
          "name": "stderr",
          "text": [
            "<ipython-input-110-ee2175aeb68e>:1: FutureWarning: The default value of numeric_only in DataFrame.corr is deprecated. In a future version, it will default to False. Select only valid columns or specify the value of numeric_only to silence this warning.\n",
            "  correlations = combined.corr()['sat_score']\n"
          ]
        }
      ]
    },
    {
      "cell_type": "code",
      "source": [
        "style.use('dark_background')\n",
        "combined.plot.scatter(x='total_enrollment', y='sat_score')\n",
        "plt.show()"
      ],
      "metadata": {
        "colab": {
          "base_uri": "https://localhost:8080/",
          "height": 450
        },
        "id": "MlN-nxiglGQw",
        "outputId": "4a39424c-1485-4184-9fca-ee40cd71e95f"
      },
      "execution_count": 113,
      "outputs": [
        {
          "output_type": "display_data",
          "data": {
            "text/plain": [
              "<Figure size 640x480 with 1 Axes>"
            ],
            "image/png": "[encoded data removed]"
          },
          "metadata": {}
        }
      ]
    },
    {
      "cell_type": "markdown",
      "source": [
        "Schools with low enrollment and low overall combined SAT Scores"
      ],
      "metadata": {
        "id": "e8GieGglnII8"
      }
    },
    {
      "cell_type": "code",
      "source": [
        "low_enrollment = combined[combined['total_enrollment'] < 1000]\n",
        "low_enrollment = combined[combined['sat_score'] < 1000] \n",
        "print(low_enrollment['School Name'])\n"
      ],
      "metadata": {
        "colab": {
          "base_uri": "https://localhost:8080/"
        },
        "id": "6ZOxwg9QmG7Z",
        "outputId": "2888f69d-c8fd-41e5-b9cc-db60727e93d4"
      },
      "execution_count": 114,
      "outputs": [
        {
          "output_type": "stream",
          "name": "stdout",
          "text": [
            "579       INTERNATIONAL COMMUNITY HIGH SCHOOL\n",
            "580       INTERNATIONAL COMMUNITY HIGH SCHOOL\n",
            "581       INTERNATIONAL COMMUNITY HIGH SCHOOL\n",
            "582       INTERNATIONAL COMMUNITY HIGH SCHOOL\n",
            "583       INTERNATIONAL COMMUNITY HIGH SCHOOL\n",
            "                        ...                  \n",
            "1640                MULTICULTURAL HIGH SCHOOL\n",
            "1844    PAN AMERICAN INTERNATIONAL HIGH SCHOO\n",
            "1845    PAN AMERICAN INTERNATIONAL HIGH SCHOO\n",
            "1846    PAN AMERICAN INTERNATIONAL HIGH SCHOO\n",
            "1847    PAN AMERICAN INTERNATIONAL HIGH SCHOO\n",
            "Name: School Name, Length: 70, dtype: object\n"
          ]
        }
      ]
    },
    {
      "cell_type": "markdown",
      "source": [
        "english lanuage percentage vs sat score"
      ],
      "metadata": {
        "id": "a3YMKjvCnv9L"
      }
    },
    {
      "cell_type": "code",
      "source": [
        "combined.plot.scatter(x='ell_percent', y='sat_score')\n",
        "plt.show()"
      ],
      "metadata": {
        "colab": {
          "base_uri": "https://localhost:8080/",
          "height": 450
        },
        "id": "N0rHdZgunF3d",
        "outputId": "17606306-055c-4e6d-ab9e-2da1fb196ac8"
      },
      "execution_count": 115,
      "outputs": [
        {
          "output_type": "display_data",
          "data": {
            "text/plain": [
              "<Figure size 640x480 with 1 Axes>"
            ],
            "image/png": "[encoded data removed]"
          },
          "metadata": {}
        }
      ]
    },
    {
      "cell_type": "code",
      "source": [
        "districts = combined.groupby('school_dist').agg(np.mean) \n",
        "districts.reset_index(inplace=True)\n",
        "print(districts.head())"
      ],
      "metadata": {
        "colab": {
          "base_uri": "https://localhost:8080/"
        },
        "id": "tqW_r21intvv",
        "outputId": "397634c4-ed08-4ffd-cdd2-f200b74cd76a"
      },
      "execution_count": 116,
      "outputs": [
        {
          "output_type": "stream",
          "name": "stdout",
          "text": [
            "  school_dist  SAT Critical Reading Avg. Score  SAT Math Avg. Score  \\\n",
            "0          01                       441.833333           473.333333   \n",
            "1          02                       428.562742           446.571654   \n",
            "2          03                       433.102428           441.486092   \n",
            "3          04                       402.142857           416.285714   \n",
            "4          05                       434.864424           446.559775   \n",
            "\n",
            "   SAT Writing Avg. Score    sat_score  AP Test Takers   Total Exams Taken  \\\n",
            "0              439.333333  1354.500000       117.160421         173.822346   \n",
            "1              426.896607  1302.031003       129.256026         202.608894   \n",
            "2              432.023828  1306.612348       161.641554         254.031111   \n",
            "3              405.714286  1224.142857       129.564291         184.796966   \n",
            "4              426.919938  1308.344138        85.113374         113.126672   \n",
            "\n",
            "   Number of Exams with scores 3 4 or 5  Total Cohort  \\\n",
            "0                            136.597837     93.500000   \n",
            "1                            158.469677    156.100482   \n",
            "2                            201.187856    181.985595   \n",
            "3                            151.890540    113.857143   \n",
            "4                            141.738510    143.883060   \n",
            "\n",
            "   Total Grads - % of cohort  ...  priority08  priority09  priority10  \\\n",
            "0                  71.333333  ...         0.0         0.0         0.0   \n",
            "1                  75.969897  ...         0.0         0.0         0.0   \n",
            "2                  74.681119  ...         0.0         0.0         0.0   \n",
            "3                  76.257143  ...         0.0         0.0         0.0   \n",
            "4                  75.904635  ...         0.0         0.0         0.0   \n",
            "\n",
            "   Community Board  Council District  Census Tract           BIN  \\\n",
            "0         3.000000          1.500000   1106.833333  1.004144e+06   \n",
            "1         4.147836          3.011433   1246.975747  1.111750e+06   \n",
            "2         7.591549          6.591549    166.239437  1.035445e+06   \n",
            "3        11.000000          8.000000   2637.000000  1.055874e+06   \n",
            "4         9.488372          8.302326   9687.860465  1.063557e+06   \n",
            "\n",
            "            BBL        lat        lon  \n",
            "0  1.003302e+09  40.719022 -73.982377  \n",
            "1  1.076904e+09  40.739504 -73.991267  \n",
            "2  1.012958e+09  40.780811 -73.977911  \n",
            "3  1.016681e+09  40.793449 -73.943215  \n",
            "4  1.019714e+09  40.817535 -73.948341  \n",
            "\n",
            "[5 rows x 85 columns]\n"
          ]
        }
      ]
    },
    {
      "cell_type": "code",
      "source": [],
      "metadata": {
        "id": "rx0yBwLhpKWm"
      },
      "execution_count": null,
      "outputs": []
    }
  ]
}