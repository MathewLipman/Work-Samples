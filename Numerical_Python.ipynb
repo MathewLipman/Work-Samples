{
  "nbformat": 4,
  "nbformat_minor": 0,
  "metadata": {
    "colab": {
      "provenance": []
    },
    "kernelspec": {
      "name": "python3",
      "display_name": "Python 3"
    },
    "language_info": {
      "name": "python"
    }
  },
  "cells": [
    {
      "cell_type": "code",
      "execution_count": null,
      "metadata": {
        "id": "7Tv19Rzn2dJJ"
      },
      "outputs": [],
      "source": [
        "import numpy as np"
      ]
    },
    {
      "cell_type": "code",
      "source": [
        "data_ndarray = np.array([5, 10, 15, 20])"
      ],
      "metadata": {
        "id": "ESzUExzE2psK"
      },
      "execution_count": null,
      "outputs": []
    },
    {
      "cell_type": "code",
      "source": [
        "print(data_ndarray)"
      ],
      "metadata": {
        "colab": {
          "base_uri": "https://localhost:8080/"
        },
        "id": "HoJ8cd8_21cL",
        "outputId": "02b64084-20a6-48cf-f3f9-ab82e6c7727d"
      },
      "execution_count": null,
      "outputs": [
        {
          "output_type": "stream",
          "name": "stdout",
          "text": [
            "[ 5 10 15 20]\n"
          ]
        }
      ]
    },
    {
      "cell_type": "code",
      "source": [
        "data_ndarray = np.array([10, 20, 30])"
      ],
      "metadata": {
        "id": "US4nSBHH2_jJ"
      },
      "execution_count": null,
      "outputs": []
    },
    {
      "cell_type": "code",
      "source": [
        "import csv\n",
        "csv_file_path = '/content/drive/MyDrive/Dataset/nyc_taxis.csv'\n",
        "with open(csv_file_path, 'r', encoding='utf-8') as csvfile:\n",
        "  csvreader = csv.reader(csvfile)\n",
        "  taxilist = list(csvreader)\n",
        "  taxilistheader = taxilist[0:1]\n",
        "  taxilist = taxilist[1:] \n",
        "print(taxilistheader)\n",
        "print(taxilist)"
      ],
      "metadata": {
        "id": "brH1K3fe6fhe"
      },
      "execution_count": null,
      "outputs": []
    },
    {
      "cell_type": "code",
      "source": [
        "import numpy as np"
      ],
      "metadata": {
        "id": "bcUmBj6V8rIc"
      },
      "execution_count": null,
      "outputs": []
    },
    {
      "cell_type": "code",
      "source": [
        "hdata_ndarray = np.array(taxilistheader)\n",
        "print(hdata_ndarray)"
      ],
      "metadata": {
        "id": "vQjIcMhl-7mx"
      },
      "execution_count": null,
      "outputs": []
    },
    {
      "cell_type": "code",
      "source": [
        "data_ndarray = np.array(taxilist)"
      ],
      "metadata": {
        "id": "QiFUjCA-9Wn4"
      },
      "execution_count": null,
      "outputs": []
    },
    {
      "cell_type": "code",
      "source": [
        "print(data_ndarray)\n"
      ],
      "metadata": {
        "id": "iQ5hy6Ev-zd2"
      },
      "execution_count": null,
      "outputs": []
    },
    {
      "cell_type": "markdown",
      "source": [
        "Convert all values to floats:"
      ],
      "metadata": {
        "id": "EUqnCoiZARN9"
      }
    },
    {
      "cell_type": "code",
      "source": [
        "\n",
        "converted_taxilist = []\n",
        "for row in data_ndarray:\n",
        "    converted_row = []\n",
        "    for element in row:\n",
        "        converted_row.append(float(element))\n",
        "    converted_taxilist.append(converted_row)"
      ],
      "metadata": {
        "id": "FGrIfGiU-1Gz"
      },
      "execution_count": null,
      "outputs": []
    },
    {
      "cell_type": "code",
      "source": [
        "taxi = np.array(converted_taxilist)"
      ],
      "metadata": {
        "id": "v0CDB5_d-6mk"
      },
      "execution_count": null,
      "outputs": []
    },
    {
      "cell_type": "markdown",
      "source": [
        "... indicates truncation because of size "
      ],
      "metadata": {
        "id": "oxgA_YoXISXy"
      }
    },
    {
      "cell_type": "code",
      "source": [
        "print(taxi)"
      ],
      "metadata": {
        "id": "wZ4CjPvlCLTB"
      },
      "execution_count": null,
      "outputs": []
    },
    {
      "cell_type": "markdown",
      "source": [
        "How do we determine how many rows and columns are in our array? "
      ],
      "metadata": {
        "id": "weIQT42kILw8"
      }
    },
    {
      "cell_type": "code",
      "source": [
        "data_ndarray = np.array([[5, 10, 15], \n",
        "                         [20, 25, 30]])\n",
        "print(data_ndarray.shape)\n",
        "\n",
        "print(taxi.shape)"
      ],
      "metadata": {
        "id": "LxUBPWdLCNMc"
      },
      "execution_count": null,
      "outputs": []
    },
    {
      "cell_type": "markdown",
      "source": [
        "2013 rows and 15 columns"
      ],
      "metadata": {
        "id": "FZ0QwSoXIgDY"
      }
    },
    {
      "cell_type": "markdown",
      "source": [
        "So now what we've learned is we can convert a table to an array using numpy and and perform new operations on the data."
      ],
      "metadata": {
        "id": "We0YacOuIras"
      }
    },
    {
      "cell_type": "code",
      "source": [
        "import csv\n",
        "csv_file_path = '/content/drive/MyDrive/Dataset/artworks_clean.csv'\n",
        "with open(csv_file_path, 'r', encoding='utf-8') as csvfile:\n",
        "  csvreader = csv.reader(csvfile)\n",
        "  moma = list(csvreader)\n",
        "  momaheader = moma[0:1]\n",
        "  moma = moma[1:] \n",
        "print(momaheader)\n",
        "print(moma)"
      ],
      "metadata": {
        "id": "2YJQK7GWIdWh"
      },
      "execution_count": null,
      "outputs": []
    },
    {
      "cell_type": "code",
      "source": [
        "moma = np.array(moma)"
      ],
      "metadata": {
        "id": "kUteguEAJHk4"
      },
      "execution_count": null,
      "outputs": []
    },
    {
      "cell_type": "code",
      "source": [
        "print(moma)"
      ],
      "metadata": {
        "id": "ju9S4eWAJLaO"
      },
      "execution_count": null,
      "outputs": []
    },
    {
      "cell_type": "markdown",
      "source": [
        "Now as an array, we can use shape to see how many rows and columns"
      ],
      "metadata": {
        "id": "5aey6FSaKZSF"
      }
    },
    {
      "cell_type": "code",
      "source": [
        "print(moma.shape)"
      ],
      "metadata": {
        "id": "cezDgHP4JTOD"
      },
      "execution_count": null,
      "outputs": []
    },
    {
      "cell_type": "code",
      "source": [
        "print(momaheader)"
      ],
      "metadata": {
        "id": "4uG-MFRFJYh_"
      },
      "execution_count": null,
      "outputs": []
    },
    {
      "cell_type": "code",
      "source": [
        "row_0 = moma[0,]\n",
        "rows_391_to_500 = moma[391:501]\n",
        "row_21_column_5 = moma[21,5]"
      ],
      "metadata": {
        "id": "PGOHmO5iJojB"
      },
      "execution_count": null,
      "outputs": []
    },
    {
      "cell_type": "code",
      "source": [
        "print(row_0)"
      ],
      "metadata": {
        "id": "sODlSU1lMuJ-"
      },
      "execution_count": null,
      "outputs": []
    },
    {
      "cell_type": "code",
      "source": [
        "print(rows_391_to_500)"
      ],
      "metadata": {
        "id": "Jfw07zeQMzIa"
      },
      "execution_count": null,
      "outputs": []
    },
    {
      "cell_type": "code",
      "source": [
        "row_21_column_5 = moma[21,5]"
      ],
      "metadata": {
        "id": "uDFFPsr9M5JT"
      },
      "execution_count": null,
      "outputs": []
    },
    {
      "cell_type": "code",
      "source": [
        "print(row_21_column_5)"
      ],
      "metadata": {
        "colab": {
          "base_uri": "https://localhost:8080/"
        },
        "id": "4n0ScViUNBk7",
        "outputId": "2ede2fd0-ea74-42dc-f306-d4f433b8512f"
      },
      "execution_count": null,
      "outputs": [
        {
          "output_type": "stream",
          "name": "stdout",
          "text": [
            "Female\n"
          ]
        }
      ]
    },
    {
      "cell_type": "code",
      "source": [
        "row_1 = moma[1:2,]\n",
        "print(row_1)"
      ],
      "metadata": {
        "id": "bF2uO3_JNSl0",
        "colab": {
          "base_uri": "https://localhost:8080/"
        },
        "outputId": "f4c11d53-c62f-4c2c-f3d7-9ef1bf2ad8f0"
      },
      "execution_count": null,
      "outputs": [
        {
          "output_type": "stream",
          "name": "stdout",
          "text": [
            "[['Duplicate of plate from folio 11 verso (supplementary suite, plate 4) from ARDICIA'\n",
            "  'Pablo Palazuelo' 'Spanish' '1916' '2007' 'Male' '1978'\n",
            "  'Prints & Illustrated Books']]\n"
          ]
        }
      ]
    },
    {
      "cell_type": "code",
      "source": [
        "sel_moma = moma[:,2]"
      ],
      "metadata": {
        "id": "2Ne-80evOf2B"
      },
      "execution_count": null,
      "outputs": []
    },
    {
      "cell_type": "code",
      "source": [
        "print(sel_moma)"
      ],
      "metadata": {
        "id": "FrWQfsxzPNKU"
      },
      "execution_count": null,
      "outputs": []
    },
    {
      "cell_type": "code",
      "source": [
        "sel_moma = moma[:,1:3]\n",
        "print(sel_moma)"
      ],
      "metadata": {
        "id": "lR8eWvfQPONZ"
      },
      "execution_count": null,
      "outputs": []
    },
    {
      "cell_type": "code",
      "source": [
        "sel_moma = moma[:,[0,2,3]]\n",
        "print(sel_moma)"
      ],
      "metadata": {
        "id": "tGg6ndroPYRu"
      },
      "execution_count": null,
      "outputs": []
    },
    {
      "cell_type": "code",
      "source": [
        "sel_moma = moma[1:]\n",
        "print(sel_moma)"
      ],
      "metadata": {
        "id": "xrccMPnEP7TI"
      },
      "execution_count": null,
      "outputs": []
    },
    {
      "cell_type": "code",
      "source": [
        "columns_1_4_7 = moma[:,[1,4,7]]\n",
        "row_99_columns_5_to_8 = moma[99, 5:9]\n",
        "rows_100_to_200_column_7 = moma[100:201,7]"
      ],
      "metadata": {
        "id": "nGUmfr_D05No"
      },
      "execution_count": null,
      "outputs": []
    },
    {
      "cell_type": "code",
      "source": [
        "print(rows_100_to_200_column_7)"
      ],
      "metadata": {
        "id": "LZijQYrh65b1"
      },
      "execution_count": null,
      "outputs": []
    },
    {
      "cell_type": "code",
      "source": [
        "fare_amount = taxi[:,9]\n",
        "fees_amount = taxi[:,10]\n",
        "fare_and_fees = fare_amount + fees_amount\n",
        "print(fare_and_fees)"
      ],
      "metadata": {
        "id": "zWNdRvvs7GA7"
      },
      "execution_count": null,
      "outputs": []
    },
    {
      "cell_type": "markdown",
      "source": [
        "Calculating average trip miles per hour from taxi data - the trip length is in seconds so we need to convert it by dividing it by 3600 to have the trip length in hours"
      ],
      "metadata": {
        "id": "T_6Vb18R-hdl"
      }
    },
    {
      "cell_type": "code",
      "source": [
        "trip_distance_miles = taxi[:, 7]\n",
        "trip_length_seconds = taxi[:, 8]\n",
        "\n",
        "trip_length_hours = trip_length_seconds / 3600 # there are 3600 seconds in one hour"
      ],
      "metadata": {
        "id": "tKeUhXwl9fd8"
      },
      "execution_count": null,
      "outputs": []
    },
    {
      "cell_type": "code",
      "source": [
        "trip_distance_miles = taxi[:, 7]\n",
        "trip_length_seconds = taxi[:, 8]\n",
        "\n",
        "trip_length_hours = trip_length_seconds / 3600 # there are 3600 seconds in one hour\n",
        "\n",
        "trip_mph = trip_distance_miles / trip_length_hours\n",
        "print(trip_mph[:10])"
      ],
      "metadata": {
        "id": "v69pI0Xs-glK"
      },
      "execution_count": null,
      "outputs": []
    },
    {
      "cell_type": "markdown",
      "source": [
        "Using Method Calculation"
      ],
      "metadata": {
        "id": "7hN1vvs2ApoZ"
      }
    },
    {
      "cell_type": "code",
      "source": [
        "from re import M\n",
        "mph_min = (min(trip_mph))\n",
        "mph_max = (max(trip_mph))\n",
        "\n",
        "print(mph_min)\n",
        "print(mph_max)\n"
      ],
      "metadata": {
        "id": "iIo3TZ8p_OD4"
      },
      "execution_count": null,
      "outputs": []
    },
    {
      "cell_type": "code",
      "source": [
        "mph_min = trip_mph.min()\n",
        "print(mph_min)"
      ],
      "metadata": {
        "id": "La0KGe-V_jfM"
      },
      "execution_count": null,
      "outputs": []
    },
    {
      "cell_type": "code",
      "source": [
        "mph_max = trip_mph.max()\n",
        "print(mph_max)"
      ],
      "metadata": {
        "id": "wSXM-mTV_5Me"
      },
      "execution_count": null,
      "outputs": []
    },
    {
      "cell_type": "code",
      "source": [
        "mph_mean = trip_mph.mean()\n",
        "print(mph_mean)"
      ],
      "metadata": {
        "id": "-wgGU_zcAAQG"
      },
      "execution_count": null,
      "outputs": []
    },
    {
      "cell_type": "markdown",
      "source": [
        "Function implementation calculation, method was used prior:\n",
        "The following will help you remember the correct terminology to use:\n",
        "\n",
        "Function calls usually start with the library name or its alias (e.g., np.mean()).\n",
        "Method calls begin with an object or variable name from a particular class (e.g., trip_mph.mean()).\n",
        "\n",
        "Calculation\tFunction Implementation\tMethod Implementation\n",
        "Calculate the minimum value of trip_mph\tnp.min(trip_mph)\ttrip_mph.min()\n",
        "Calculate the maximum value of trip_mph\tnp.max(trip_mph)\ttrip_mph.max()\n",
        "Calculate the mean value of trip_mph\tnp.mean(trip_mph)\ttrip_mph.mean()\n",
        "Calculate the median value of trip_mph"
      ],
      "metadata": {
        "id": "klVGOrhDAlA5"
      }
    },
    {
      "cell_type": "code",
      "source": [
        "np.min(trip_mph)\n",
        "print(np.min(trip_mph))"
      ],
      "metadata": {
        "id": "eWBBkm_pAGrm"
      },
      "execution_count": null,
      "outputs": []
    },
    {
      "cell_type": "code",
      "source": [
        "np.mean(trip_mph)\n",
        "print(np.mean(trip_mph))"
      ],
      "metadata": {
        "id": "lC3jDdcZAgIp"
      },
      "execution_count": null,
      "outputs": []
    },
    {
      "cell_type": "code",
      "source": [
        "np.median(trip_mph)\n",
        "print(np.median(trip_mph))"
      ],
      "metadata": {
        "id": "LWSC_Yq3CgQu"
      },
      "execution_count": null,
      "outputs": []
    },
    {
      "cell_type": "markdown",
      "source": [
        "Find the maximum value of each row using axis parameter (axis=1)"
      ],
      "metadata": {
        "id": "axfZUvFvVY7Q"
      }
    },
    {
      "cell_type": "code",
      "source": [
        "max_value_per_row = taxi.max(axis=1)\n",
        "print(max_value_per_row)"
      ],
      "metadata": {
        "id": "z_imsVuIIz1P"
      },
      "execution_count": null,
      "outputs": []
    },
    {
      "cell_type": "markdown",
      "source": [
        "Find the maximum value of each column using the axis parameter (axis=0)"
      ],
      "metadata": {
        "id": "5tV7FEscVosC"
      }
    },
    {
      "cell_type": "code",
      "source": [
        "max_value_per_column = taxi.max(axis=0)\n",
        "print(max_value_per_column)"
      ],
      "metadata": {
        "id": "8BcxXdmYCkxN"
      },
      "execution_count": null,
      "outputs": []
    },
    {
      "cell_type": "markdown",
      "source": [
        "Reduce taxi data set to verify that the total amount column (13) is equal to the sum of indexes 9,10,11,12.\n",
        "\n",
        "9 = fare_amount, 10=fee_amount, 11=tolls_amount, 12=tip_amount, 13=total_amount"
      ],
      "metadata": {
        "id": "n4pV9-crXnbM"
      }
    },
    {
      "cell_type": "code",
      "source": [
        "taxi_first_five = taxi[:5]\n",
        "fare_components = taxi_first_five[:,9:13]\n",
        "print(taxi_first_five)\n",
        "print(fare_components)"
      ],
      "metadata": {
        "id": "SVi8Tr1ZWmqV"
      },
      "execution_count": null,
      "outputs": []
    },
    {
      "cell_type": "code",
      "source": [
        "fare_sums = fare_components.sum(axis=1)\n",
        "print(fare_sums)"
      ],
      "metadata": {
        "colab": {
          "base_uri": "https://localhost:8080/"
        },
        "id": "74wQ1nqdX4on",
        "outputId": "81b27ae3-1f79-4189-8296-9bc90fbfdd91"
      },
      "execution_count": null,
      "outputs": [
        {
          "output_type": "stream",
          "name": "stdout",
          "text": [
            "[69.99 54.3  37.8  32.76 18.8 ]\n"
          ]
        }
      ]
    },
    {
      "cell_type": "code",
      "source": [
        "fare_totals = taxi_first_five[:,13]\n",
        "print(fare_totals)"
      ],
      "metadata": {
        "colab": {
          "base_uri": "https://localhost:8080/"
        },
        "id": "LpE4XLqZYIEY",
        "outputId": "a6bab0e7-a1ba-48b9-cf91-9248686ecded"
      },
      "execution_count": null,
      "outputs": [
        {
          "output_type": "stream",
          "name": "stdout",
          "text": [
            "[69.99 54.3  37.8  32.76 18.8 ]\n"
          ]
        }
      ]
    },
    {
      "cell_type": "code",
      "source": [
        "print(fare_sums)\n",
        "print(fare_totals)"
      ],
      "metadata": {
        "id": "Ik3sTm5bYWV9"
      },
      "execution_count": null,
      "outputs": []
    },
    {
      "cell_type": "markdown",
      "source": [
        "As related to Taxi Dataset: \n",
        "Here's some info on selected columns:\n",
        "\n",
        "📅 pickup_year: Trip's year\n",
        "📅 pickup_month: Trip's month (January is 1, December is 12)\n",
        "📅 pickup_day: Trip's day of the month\n",
        "📍 pickup_location_code: Starting airport or borough\n",
        "📍 dropoff_location_code: Ending airport or borough\n",
        "📏 trip_distance: Trip distance in miles\n",
        "⏱️ trip_length: Trip length in seconds\n",
        "💵 fare_amount: Base fare in dollars\n",
        "💰 total_amount: Total amount charged, including all fees, tolls, and tips\n",
        "\n",
        "\n",
        "# NYC Taxi Trip Data\n",
        "\n",
        "Source: [NYC Taxi and Limousine Commission](http://www.nyc.gov/html/tlc/html/about/trip_record_data.shtml)\n",
        "\n",
        "This data set includes a 1/50th random sample of all trips between January and June 2016 that either start or end at an aiport location.\n",
        "\n",
        "## Column Summary\n",
        "\n",
        "- `pickup_year` - The year of the trip.\n",
        "- `pickup_month` - The month of the trip (January is `1`, December is `12`).\n",
        "- `pickup_day` - The day of the month of the trip.\n",
        "- `pickup_dayofweek` - The day of the week (Monday is `1`, Sunday is `7`)\n",
        "- `pickup_time` - The time that the trip started, as one of six categories:\n",
        "    - `0` - 0:00am-3:59am.\n",
        "    - `1` - 4:00am-7:59am.\n",
        "    - `2` - 8:00am-11:59am.\n",
        "    - `3` - 12:00pm-3:59pm.\n",
        "    - `4` - 4:00pm-7:59pm.\n",
        "    - `5` - 8:00pm-11:59pm.\n",
        "- `pickup_location_code` - The airport or [borough](https://en.wikipedia.org/wiki/Boroughs_of_New_York_City) where the the trip started, as one of eight categories:\n",
        "    - `0` - Bronx.\n",
        "    - `1` - Brooklyn.\n",
        "    - `2` - JFK Airport.\n",
        "    - `3` - LaGuardia Airport.\n",
        "    - `4` - Manhattan.\n",
        "    - `5` - Newark Airport.\n",
        "    - `6` - Queens.\n",
        "    - `7` - Staten Island.\n",
        "- `dropoff_location_code` - The airport or borough where the the trip finished, using the same eight category codes as `pickup_location_code`.\n",
        "- `trip_distance` - The distance of the trip in miles.\n",
        "- `trip_length` - The length of the trip in seconds.\n",
        "- `fare_amount` - The base fare of the trip, in dollars.\n",
        "- `fees_amount` - Any fees added to the fare, eg surcharges, extras, and MTA taxes.\n",
        "- `tolls_amount` - The amount of all tolls paid during the trip.\n",
        "- `tip_amount` - The tip added by the customer - does not include cash tips.\n",
        "- `total_amount` - The total amount charged to the passenger, excluding cash tips.\n",
        "- `payment_type` - The payment type, one of six categories:\n",
        "    - `1` - Credit card.\n",
        "    - `2` - Cash.\n",
        "    - `3` - No charge.\n",
        "    - `4` - Dispute.\n",
        "    - `5` - Unknown.\n",
        "    - `6` - Voided trip."
      ],
      "metadata": {
        "id": "5ZsWMAiUap72"
      }
    },
    {
      "cell_type": "code",
      "source": [
        "import numpy as np\n",
        "\n",
        "np.genfromtxt(filename, delimiter=None)"
      ],
      "metadata": {
        "id": "mW5NX0MlYk-j"
      },
      "execution_count": null,
      "outputs": []
    }
  ]
}