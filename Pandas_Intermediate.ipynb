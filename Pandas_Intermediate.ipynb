{
  "nbformat": 4,
  "nbformat_minor": 0,
  "metadata": {
    "colab": {
      "provenance": [],
      "mount_file_id": "1vgnjo5FTaxyjsMe8fS59zpVCCYs33_l_",
      "authorship_tag": "ABX9TyMTCbQ5itVGnBn22ruW92gY",
      "include_colab_link": true
    },
    "kernelspec": {
      "name": "python3",
      "display_name": "Python 3"
    },
    "language_info": {
      "name": "python"
    }
  },
  "cells": [
    {
      "cell_type": "markdown",
      "metadata": {
        "id": "view-in-github",
        "colab_type": "text"
      },
      "source": [
        "<a href=\"https://colab.research.google.com/github/MathewLipman/Work-Samples/blob/main/Pandas_Intermediate.ipynb\" target=\"_parent\"><img src=\"https://colab.research.google.com/assets/colab-badge.svg\" alt=\"Open In Colab\"/></a>"
      ]
    },
    {
      "cell_type": "markdown",
      "source": [
        "First we are importing our dataset using pandas and we are replacing all the zero values in previous rank column with NaN (Not a Number)"
      ],
      "metadata": {
        "id": "SphbKxNRbier"
      }
    },
    {
      "cell_type": "code",
      "source": [
        "import numpy as np"
      ],
      "metadata": {
        "id": "wL1BDSrzcJEY"
      },
      "execution_count": 3,
      "outputs": []
    },
    {
      "cell_type": "markdown",
      "source": [
        "By using index_col = 0 we specify the first column will be used as the axis name for the index axis "
      ],
      "metadata": {
        "id": "NBKmQ9NppS4h"
      }
    },
    {
      "cell_type": "code",
      "execution_count": 4,
      "metadata": {
        "id": "MKjrMWISbXei"
      },
      "outputs": [],
      "source": [
        "import pandas as pd\n",
        "# read the data set into a pandas dataframe\n",
        "f500 = pd.read_csv('/content/drive/MyDrive/Dataset/f500.csv', index_col=0)\n",
        "f500.index.name = None\n",
        "\n",
        "# replace 0 values in the \"previous_rank\" column with NaN\n",
        "f500.loc[f500[\"previous_rank\"] == 0, \"previous_rank\"] = np.nan"
      ]
    },
    {
      "cell_type": "markdown",
      "source": [
        "Data dictionary for dataset: \n",
        "company: Name of the company.\n",
        "\n",
        "rank: Global 500 rank for the company.\n",
        "\n",
        "revenues: Company's total revenue for the fiscal year, in millions of dollars (USD).\n",
        "\n",
        "revenue_change: Percentage change in revenue between the current and prior fiscal year.\n",
        "\n",
        "profits: Net income for the fiscal year, in millions of dollars (USD).\n",
        "sector: Sector in which the company operates.\n",
        "\n",
        "previous_rank: Global 500 rank for the company for the prior year.\n",
        "country: Country in which the company is headquartered.\n",
        "\n",
        "hq_location: City and country, (or city and state for the USA) where the company is headquartered.\n",
        "\n",
        "employees: Total employees (full-time equivalent, if available) at fiscal year-end."
      ],
      "metadata": {
        "id": "U54lseC2cQpE"
      }
    },
    {
      "cell_type": "code",
      "source": [
        "f500_selection = f500[[\"rank\", \"revenues\", \"revenue_change\"]].head()"
      ],
      "metadata": {
        "id": "qMGuZ9Q3cai0"
      },
      "execution_count": 5,
      "outputs": []
    },
    {
      "cell_type": "markdown",
      "source": [
        "We are now loading our data without index_col = 0 so our first column will contain integer values"
      ],
      "metadata": {
        "id": "5fJUjXujrALu"
      }
    },
    {
      "cell_type": "code",
      "source": [
        "import pandas as pd\n",
        "# read the data set into a pandas dataframe\n",
        "f500 = pd.read_csv('/content/drive/MyDrive/Dataset/f500.csv')\n",
        "f500.index.name = None\n",
        "\n",
        "# replace 0 values in the \"previous_rank\" column with NaN\n",
        "f500.loc[f500[\"previous_rank\"] == 0, \"previous_rank\"] = np.nan\n"
      ],
      "metadata": {
        "id": "iKA5cpSPdONm"
      },
      "execution_count": 6,
      "outputs": []
    },
    {
      "cell_type": "markdown",
      "source": [
        "Using the iloc functionality to call and assign values to corresponding variables"
      ],
      "metadata": {
        "id": "cec9BuRMr3Oz"
      }
    },
    {
      "cell_type": "code",
      "source": [
        "fifth_row = f500.iloc[4]\n",
        "company_value = f500.iloc[0,0]"
      ],
      "metadata": {
        "id": "mviBnPUgrJoQ"
      },
      "execution_count": 7,
      "outputs": []
    },
    {
      "cell_type": "markdown",
      "source": [
        "Some more examples"
      ],
      "metadata": {
        "id": "ciTlP1LAsTb-"
      }
    },
    {
      "cell_type": "code",
      "source": [
        "#df.iloc[row_index,column_index]\n",
        "first_column = f500.iloc[:,0]\n",
        "print(first_column)"
      ],
      "metadata": {
        "colab": {
          "base_uri": "https://localhost:8080/"
        },
        "id": "C-E3TPUYra-C",
        "outputId": "ba83f9fe-efe8-4353-98b9-2c87c06ddddd"
      },
      "execution_count": 8,
      "outputs": [
        {
          "output_type": "stream",
          "name": "stdout",
          "text": [
            "0                             Walmart\n",
            "1                          State Grid\n",
            "2                       Sinopec Group\n",
            "3            China National Petroleum\n",
            "4                        Toyota Motor\n",
            "                    ...              \n",
            "495    Teva Pharmaceutical Industries\n",
            "496          New China Life Insurance\n",
            "497         Wm. Morrison Supermarkets\n",
            "498                               TUI\n",
            "499                        AutoNation\n",
            "Name: company, Length: 500, dtype: object\n"
          ]
        }
      ]
    },
    {
      "cell_type": "markdown",
      "source": [
        "With loc[], the ending slice is included.\n",
        "With iloc[], the ending slice is not included"
      ],
      "metadata": {
        "id": "YuTB4G6GuaOy"
      }
    },
    {
      "cell_type": "code",
      "source": [
        "second_to_fith_rows = f500[1:5]\n",
        "print(second_to_fith_rows)"
      ],
      "metadata": {
        "colab": {
          "base_uri": "https://localhost:8080/"
        },
        "id": "ceHJ4HMwuWV2",
        "outputId": "9b5a8d48-5247-4240-a775-ed721fd20044"
      },
      "execution_count": 9,
      "outputs": [
        {
          "output_type": "stream",
          "name": "stdout",
          "text": [
            "                    company  rank  revenues  revenue_change  profits  assets  \\\n",
            "1                State Grid     2    315199            -4.4   9571.3  489838   \n",
            "2             Sinopec Group     3    267518            -9.1   1257.9  310726   \n",
            "3  China National Petroleum     4    262573           -12.3   1867.5  585619   \n",
            "4              Toyota Motor     5    254694             7.7  16899.3  437575   \n",
            "\n",
            "   profit_change            ceo                  industry  \\\n",
            "1           -6.2        Kou Wei                 Utilities   \n",
            "2          -65.0      Wang Yupu        Petroleum Refining   \n",
            "3          -73.7  Zhang Jianhua        Petroleum Refining   \n",
            "4          -12.3    Akio Toyoda  Motor Vehicles and Parts   \n",
            "\n",
            "                   sector  previous_rank country     hq_location  \\\n",
            "1                  Energy            2.0   China  Beijing, China   \n",
            "2                  Energy            4.0   China  Beijing, China   \n",
            "3                  Energy            3.0   China  Beijing, China   \n",
            "4  Motor Vehicles & Parts            8.0   Japan   Toyota, Japan   \n",
            "\n",
            "                        website  years_on_global_500_list  employees  \\\n",
            "1        http://www.sgcc.com.cn                        17     926067   \n",
            "2        http://www.sinopec.com                        19     713288   \n",
            "3        http://www.cnpc.com.cn                        17    1512048   \n",
            "4  http://www.toyota-global.com                        23     364445   \n",
            "\n",
            "   total_stockholder_equity  \n",
            "1                    209456  \n",
            "2                    106523  \n",
            "3                    301893  \n",
            "4                    157210  \n"
          ]
        }
      ]
    },
    {
      "cell_type": "markdown",
      "source": [
        "select by integer position\tExplicit Syntax\tShorthand Convention\n",
        "\n",
        "Single column from dataframe\tdf.iloc[:,3]\t\n",
        "\n",
        "List of columns from dataframe\tdf.iloc[:,[3,5,6]]\t\n",
        "\n",
        "Slice of columns from dataframe\tdf.iloc[:,3:7]\t\n",
        "\n",
        "Single row from dataframe\tdf.iloc[20]\t\n",
        "\n",
        "List of rows from dataframe\tdf.iloc[[0,3,8]]\t\n",
        "\n",
        "Slice of rows from dataframe\tdf.iloc[3:5]\tdf[3:5]\n",
        "\n",
        "Single items from series\ts.iloc[8]\ts[8]\n",
        "\n",
        "List of item from series\ts.iloc[[2,8,1]]\ts[[2,8,1]]\n",
        "\n",
        "Slice of items from series\ts.iloc[5:10]\ts[5:10]"
      ],
      "metadata": {
        "id": "AqglVEGOuji6"
      }
    },
    {
      "cell_type": "code",
      "source": [
        "first_three_rows = f500[0:3]\n",
        "first_seventh_row_slice_first5col = f500.iloc[[0,6], :5]"
      ],
      "metadata": {
        "id": "tchpt8ZZvFgC"
      },
      "execution_count": 10,
      "outputs": []
    },
    {
      "cell_type": "markdown",
      "source": [
        "isnull method "
      ],
      "metadata": {
        "id": "0SO5dDr60PxA"
      }
    },
    {
      "cell_type": "code",
      "source": [
        "rev_is_null = f500[\"revenue_change\"].isnull()\n",
        "print(rev_is_null.head())"
      ],
      "metadata": {
        "colab": {
          "base_uri": "https://localhost:8080/"
        },
        "id": "QQpIFdEawDve",
        "outputId": "bdf96131-3b21-464e-cfb9-1a4d93c4bae9"
      },
      "execution_count": 11,
      "outputs": [
        {
          "output_type": "stream",
          "name": "stdout",
          "text": [
            "0    False\n",
            "1    False\n",
            "2    False\n",
            "3    False\n",
            "4    False\n",
            "Name: revenue_change, dtype: bool\n"
          ]
        }
      ]
    },
    {
      "cell_type": "code",
      "source": [
        "rev_change_null = f500[rev_is_null]\n",
        "print(rev_change_null[[\"company\",\"country\",\"sector\"]])"
      ],
      "metadata": {
        "colab": {
          "base_uri": "https://localhost:8080/"
        },
        "id": "0Mu-F7yn0TVM",
        "outputId": "37ee83c9-d886-4ab0-995b-80fe75952f9a"
      },
      "execution_count": 12,
      "outputs": [
        {
          "output_type": "stream",
          "name": "stdout",
          "text": [
            "                        company  country      sector\n",
            "90                       Uniper  Germany      Energy\n",
            "180  Hewlett Packard Enterprise      USA  Technology\n"
          ]
        }
      ]
    },
    {
      "cell_type": "markdown",
      "source": [
        "Null Previous Rank with one line of code "
      ],
      "metadata": {
        "id": "n081u5gh350_"
      }
    },
    {
      "cell_type": "code",
      "source": [
        "null_previous_rank = f500[f500[\"previous_rank\"].isnull()][[\"company\", \"rank\", \"previous_rank\"]]\n",
        "print(null_previous_rank)"
      ],
      "metadata": {
        "colab": {
          "base_uri": "https://localhost:8080/"
        },
        "id": "paXxvKhC0kBv",
        "outputId": "22e04115-081e-4846-aa4a-7f21f6cc40d1"
      },
      "execution_count": 13,
      "outputs": [
        {
          "output_type": "stream",
          "name": "stdout",
          "text": [
            "                                   company  rank  previous_rank\n",
            "48                   Legal & General Group    49            NaN\n",
            "90                                  Uniper    91            NaN\n",
            "123                      Dell Technologies   124            NaN\n",
            "138                 Anbang Insurance Group   139            NaN\n",
            "140                        Albertsons Cos.   141            NaN\n",
            "180             Hewlett Packard Enterprise   181            NaN\n",
            "267                           Hengli Group   268            NaN\n",
            "271         Johnson Controls International   272            NaN\n",
            "341                                  Chubb   342            NaN\n",
            "375                 Charter Communications   376            NaN\n",
            "376                              Medtronic   377            NaN\n",
            "392                               Facebook   393            NaN\n",
            "409                            Kraft Heinz   410            NaN\n",
            "414                                  Nokia   415            NaN\n",
            "431                          Standard Life   432            NaN\n",
            "440            Brookfield Asset Management   441            NaN\n",
            "441        Mercantil Servicios Financieros   442            NaN\n",
            "446                            Samsung C&T   447            NaN\n",
            "456                        Heraeus Holding   457            NaN\n",
            "458                Yango Financial Holding   459            NaN\n",
            "461                  Alibaba Group Holding   462            NaN\n",
            "463                            Progressive   464            NaN\n",
            "466                Country Garden Holdings   467            NaN\n",
            "472                                 Altice   473            NaN\n",
            "477                       Tencent Holdings   478            NaN\n",
            "482                                  Aflac   483            NaN\n",
            "484                  Suning Commerce Group   485            NaN\n",
            "487                             Xiamen C&D   488            NaN\n",
            "491                         Dollar General   492            NaN\n",
            "493               Xiamen ITG Holding Group   494            NaN\n",
            "494  Xinjiang Guanghui Industry Investment   495            NaN\n",
            "495         Teva Pharmaceutical Industries   496            NaN\n",
            "499                             AutoNation   500            NaN\n"
          ]
        }
      ]
    },
    {
      "cell_type": "markdown",
      "source": [
        "If we want to select the first company from null_previous_rank df by integer position we can use df.iloc[]\n",
        "\n",
        "We must use \"iloc\" if we try to use \"loc\" we will recieve a key error.\n",
        "\n",
        "If we wanted to use \"loc\" we would have to select the integer value which is 48 in this case."
      ],
      "metadata": {
        "id": "HHrz_xWo4opu"
      }
    },
    {
      "cell_type": "code",
      "source": [
        "null_previous_rank = f500[f500[\"previous_rank\"].isnull()][[\"company\", \"rank\", \"previous_rank\"]]\n",
        "first_null_prev_rank = null_previous_rank.iloc[0]\n",
        "print(first_null_prev_rank)"
      ],
      "metadata": {
        "colab": {
          "base_uri": "https://localhost:8080/"
        },
        "id": "zM2h01Hc374V",
        "outputId": "c5a2158c-f08d-40f7-b8bb-75ad3e4edd93"
      },
      "execution_count": 14,
      "outputs": [
        {
          "output_type": "stream",
          "name": "stdout",
          "text": [
            "company          Legal & General Group\n",
            "rank                                49\n",
            "previous_rank                      NaN\n",
            "Name: 48, dtype: object\n"
          ]
        }
      ]
    },
    {
      "cell_type": "code",
      "source": [
        "top5_null_prev_rank = null_previous_rank.iloc[:5]\n",
        "print(top5_null_prev_rank)"
      ],
      "metadata": {
        "colab": {
          "base_uri": "https://localhost:8080/"
        },
        "id": "gAn8Nhxc44bu",
        "outputId": "8756fd33-add4-47f9-9c55-61dd0383419d"
      },
      "execution_count": 15,
      "outputs": [
        {
          "output_type": "stream",
          "name": "stdout",
          "text": [
            "                    company  rank  previous_rank\n",
            "48    Legal & General Group    49            NaN\n",
            "90                   Uniper    91            NaN\n",
            "123       Dell Technologies   124            NaN\n",
            "138  Anbang Insurance Group   139            NaN\n",
            "140         Albertsons Cos.   141            NaN\n"
          ]
        }
      ]
    },
    {
      "cell_type": "markdown",
      "source": [
        "Now we can use not null functionality to exclude null values from our calculation"
      ],
      "metadata": {
        "id": "6j9G2feT6dwR"
      }
    },
    {
      "cell_type": "code",
      "source": [
        "f500[\"rank_change\"] = f500[\"previous_rank\"] - f500[\"rank\"]\n",
        "print(f500[\"rank_change\"].head(5))\n",
        "print(f500[\"rank_change\"].tail(3))\n",
        "print(f500[\"rank_change\"].value_counts())"
      ],
      "metadata": {
        "colab": {
          "base_uri": "https://localhost:8080/"
        },
        "id": "GwxrexSn6040",
        "outputId": "3dd89210-39a1-4e65-abce-4e736447c13a"
      },
      "execution_count": 16,
      "outputs": [
        {
          "output_type": "stream",
          "name": "stdout",
          "text": [
            "0    0.0\n",
            "1    0.0\n",
            "2    1.0\n",
            "3   -1.0\n",
            "4    3.0\n",
            "Name: rank_change, dtype: float64\n",
            "497   -61.0\n",
            "498   -32.0\n",
            "499     NaN\n",
            "Name: rank_change, dtype: float64\n",
            "-1.0      14\n",
            "-4.0      13\n",
            "-2.0      12\n",
            " 8.0      12\n",
            " 6.0      11\n",
            "          ..\n",
            " 93.0      1\n",
            " 65.0      1\n",
            "-199.0     1\n",
            " 62.0      1\n",
            "-32.0      1\n",
            "Name: rank_change, Length: 152, dtype: int64\n"
          ]
        }
      ]
    },
    {
      "cell_type": "markdown",
      "source": [
        "One line of code: rank_change = f500[f500[\"previous_rank\"].notnull()][\"previous_rank\"] - f500[f500[\"previous_rank\"].notnull()][\"rank\"]"
      ],
      "metadata": {
        "id": "FAkTTb86_HyW"
      }
    },
    {
      "cell_type": "code",
      "source": [
        "previously_ranked = f500[f500[\"previous_rank\"].notnull()]\n",
        "rank_change = previously_ranked[\"previous_rank\"] - previously_ranked[\"rank\"]"
      ],
      "metadata": {
        "id": "zMGfgRg65Wv1"
      },
      "execution_count": 17,
      "outputs": []
    },
    {
      "cell_type": "code",
      "source": [
        "print(rank_change.shape)\n",
        "print(rank_change.tail(3))"
      ],
      "metadata": {
        "colab": {
          "base_uri": "https://localhost:8080/"
        },
        "id": "vcO1-mSR6riN",
        "outputId": "395760af-6876-4b13-8476-a5cbf766d1bb"
      },
      "execution_count": 18,
      "outputs": [
        {
          "output_type": "stream",
          "name": "stdout",
          "text": [
            "(467,)\n",
            "496   -70.0\n",
            "497   -61.0\n",
            "498   -32.0\n",
            "dtype: float64\n"
          ]
        }
      ]
    },
    {
      "cell_type": "markdown",
      "source": [
        "Another way to accomplish this - without creating the new column first, assign it after the work has been done, verified and stored in a variable. Assign that variable to the new column created in the pd df."
      ],
      "metadata": {
        "id": "245NxsUfBREB"
      }
    },
    {
      "cell_type": "code",
      "source": [
        "previously_ranked = f500[f500[\"previous_rank\"].notnull()]\n",
        "rank_change = previously_ranked[\"previous_rank\"] - previously_ranked[\"rank\"]\n",
        "f500[\"rank_change\"] = rank_change"
      ],
      "metadata": {
        "id": "TQP6JetF-xHY"
      },
      "execution_count": 19,
      "outputs": []
    },
    {
      "cell_type": "markdown",
      "source": [
        "pandas\tPython equivalent\tMeaning\n",
        "\n",
        "a & b\ta and b\tTrue if both a and b are True, else False\n",
        "\n",
        "a | b\ta or b\tTrue if either a or b is True\n",
        "\n",
        "~a\tnot a\tTrue if a is False, else False"
      ],
      "metadata": {
        "id": "pjEM3gtCCCza"
      }
    },
    {
      "cell_type": "code",
      "source": [
        "print(f500_selection)"
      ],
      "metadata": {
        "colab": {
          "base_uri": "https://localhost:8080/"
        },
        "id": "Yahh3K-cCiYb",
        "outputId": "874818ae-b266-4da2-f107-046862d90156"
      },
      "execution_count": 20,
      "outputs": [
        {
          "output_type": "stream",
          "name": "stdout",
          "text": [
            "                          rank  revenues  revenue_change\n",
            "Walmart                      1    485873             0.8\n",
            "State Grid                   2    315199            -4.4\n",
            "Sinopec Group                3    267518            -9.1\n",
            "China National Petroleum     4    262573           -12.3\n",
            "Toyota Motor                 5    254694             7.7\n"
          ]
        }
      ]
    },
    {
      "cell_type": "code",
      "source": [
        "f500_sel = f500[[\"company\", \"revenues\", \"country\"]].head()\n",
        "print(f500_sel)"
      ],
      "metadata": {
        "colab": {
          "base_uri": "https://localhost:8080/"
        },
        "id": "cE96RQQ3Cvpd",
        "outputId": "418ef8f0-af4c-470c-e72b-bec585187bcb"
      },
      "execution_count": 21,
      "outputs": [
        {
          "output_type": "stream",
          "name": "stdout",
          "text": [
            "                    company  revenues country\n",
            "0                   Walmart    485873     USA\n",
            "1                State Grid    315199   China\n",
            "2             Sinopec Group    267518   China\n",
            "3  China National Petroleum    262573   China\n",
            "4              Toyota Motor    254694   Japan\n"
          ]
        }
      ]
    },
    {
      "cell_type": "markdown",
      "source": [
        "Setting up some variables for Boolean comparison and using pd syntax to combine them - PD uses & instead of and\n",
        "\n",
        "Since we are filtering for a specific country, we are specifiying which indexes to output and excluding country = we can also of done this with a variable "
      ],
      "metadata": {
        "id": "LoJoJEWdDigS"
      }
    },
    {
      "cell_type": "code",
      "source": [
        "over_265 = f500_sel[\"revenues\"] > 265000\n",
        "china = f500_sel[\"country\"] == \"China\"\n",
        "combined = over_265 & china\n",
        "result = f500_sel.loc[combined,[\"company\", \"revenues\"]]"
      ],
      "metadata": {
        "id": "giTlhmdDDEiS"
      },
      "execution_count": 22,
      "outputs": []
    },
    {
      "cell_type": "code",
      "source": [
        "print(result)"
      ],
      "metadata": {
        "colab": {
          "base_uri": "https://localhost:8080/"
        },
        "id": "-ll8hL7mDevy",
        "outputId": "408238ac-4280-4418-939e-aebaa6629213"
      },
      "execution_count": 23,
      "outputs": [
        {
          "output_type": "stream",
          "name": "stdout",
          "text": [
            "         company  revenues\n",
            "1     State Grid    315199\n",
            "2  Sinopec Group    267518\n"
          ]
        }
      ]
    },
    {
      "cell_type": "markdown",
      "source": [
        "We define our two variables revenue exceeding a billion (the dataset is in millions) and negative profits - we combine them and then we store the output in a variable "
      ],
      "metadata": {
        "id": "wrtqixUaHjEU"
      }
    },
    {
      "cell_type": "code",
      "source": [
        "large_revenue = f500[\"revenues\"] > 100000\n",
        "negative_profits = f500[\"profits\"] < 0\n",
        "combined = large_revenue & negative_profits\n",
        "big_rev_neg_profit = f500[combined]\n"
      ],
      "metadata": {
        "id": "Z5nBHrO8D6EI"
      },
      "execution_count": 24,
      "outputs": []
    },
    {
      "cell_type": "code",
      "source": [
        "print(big_rev_neg_profit)"
      ],
      "metadata": {
        "colab": {
          "base_uri": "https://localhost:8080/"
        },
        "id": "fhQbgqt8Fmq2",
        "outputId": "2272ab01-5b9c-46bb-c852-53419a76c49c"
      },
      "execution_count": 25,
      "outputs": [
        {
          "output_type": "stream",
          "name": "stdout",
          "text": [
            "                company  rank  revenues  revenue_change  profits   assets  \\\n",
            "32  Japan Post Holdings    33    122990             3.6   -267.4  2631385   \n",
            "44              Chevron    45    107567           -18.0   -497.0   260078   \n",
            "\n",
            "    profit_change               ceo                         industry  \\\n",
            "32         -107.5  Masatsugu Nagato  Insurance: Life, Health (stock)   \n",
            "44         -110.8    John S. Watson               Petroleum Refining   \n",
            "\n",
            "        sector  previous_rank country    hq_location                  website  \\\n",
            "32  Financials           37.0   Japan   Tokyo, Japan  http://www.japanpost.jp   \n",
            "44      Energy           31.0     USA  San Ramon, CA   http://www.chevron.com   \n",
            "\n",
            "    years_on_global_500_list  employees  total_stockholder_equity  rank_change  \n",
            "32                        21     248384                     91532          4.0  \n",
            "44                        23      55200                    145556        -14.0  \n"
          ]
        }
      ]
    },
    {
      "cell_type": "code",
      "source": [
        "filter_brazil_venezula = (f500[\"country\"] == \"Brazil\") | (f500[\"country\"] == \"Venezuela\")\n",
        "filter_tech_outside_usa = (f500[\"sector\"] == \"Technology\") & ~((f500[\"country\"] == \"USA\"))\n",
        "brazil_venezuela = f500[filter_brazil_venezula]\n",
        "tech_outside_usa = f500[filter_tech_outside_usa].head()"
      ],
      "metadata": {
        "id": "pA0Zm8wGGX42"
      },
      "execution_count": 26,
      "outputs": []
    },
    {
      "cell_type": "code",
      "source": [
        "print(brazil_venezuela)"
      ],
      "metadata": {
        "colab": {
          "base_uri": "https://localhost:8080/"
        },
        "id": "dqnvWa2WOkIM",
        "outputId": "a746b5aa-b0c9-47c7-abe2-d8ce696fcd8e"
      },
      "execution_count": 27,
      "outputs": [
        {
          "output_type": "stream",
          "name": "stdout",
          "text": [
            "                             company  rank  revenues  revenue_change  profits  \\\n",
            "74                         Petrobras    75     81405           -16.3  -4838.0   \n",
            "112            Itau Unibanco Holding   113     66876            21.4   6666.4   \n",
            "150                  Banco do Brasil   151     58093           -13.4   2013.8   \n",
            "153                   Banco Bradesco   154     57443            31.3   5127.9   \n",
            "190                              JBS   191     48825            -0.1    107.7   \n",
            "369                             Vale   370     29363            14.7   3982.0   \n",
            "441  Mercantil Servicios Financieros   442     24403            50.3   2004.2   \n",
            "486                Ultrapar Holdings   487     22167            -2.3    447.5   \n",
            "\n",
            "     assets  profit_change                        ceo  \\\n",
            "74   246983            NaN       Pedro Pullen Parente   \n",
            "112  415972          -13.7    Candido Botelho Bracher   \n",
            "150  426416          -52.3   Paulo Rogerio Caffarelli   \n",
            "153  366418           -5.7  Luiz Carlos Trabuco Cappi   \n",
            "190   31605          -92.3    Wesley Mendonca Batista   \n",
            "369   99014            NaN          Fabio Schvartsman   \n",
            "441  148659          -10.5      Gustavo J. Vollmer A.   \n",
            "486    7426           -0.8            Thilo Mannhardt   \n",
            "\n",
            "                          industry                     sector  previous_rank  \\\n",
            "74              Petroleum Refining                     Energy           58.0   \n",
            "112  Banks: Commercial and Savings                 Financials          159.0   \n",
            "150  Banks: Commercial and Savings                 Financials          115.0   \n",
            "153  Banks: Commercial and Savings                 Financials          209.0   \n",
            "190                Food Production  Food, Beverages & Tobacco          185.0   \n",
            "369   Mining, Crude-Oil Production                     Energy          417.0   \n",
            "441  Banks: Commercial and Savings                 Financials            NaN   \n",
            "486                         Energy                     Energy          474.0   \n",
            "\n",
            "       country             hq_location                        website  \\\n",
            "74      Brazil  Rio de Janeiro, Brazil    http://www.petrobras.com.br   \n",
            "112     Brazil       Sao Paulo, Brazil         http://www.itau.com.br   \n",
            "150     Brazil        Brasilia, Brazil           http://www.bb.com.br   \n",
            "153     Brazil          Osasco, Brazil     http://www.bradesco.com.br   \n",
            "190     Brazil       Sao Paulo, Brazil  http://jbss.infoinvest.com.br   \n",
            "369     Brazil  Rio de Janeiro, Brazil            http://www.vale.com   \n",
            "441  Venezuela      Caracas, Venezuela             http://www.msf.com   \n",
            "486     Brazil       Sao Paulo, Brazil        http://www.ultra.com.br   \n",
            "\n",
            "     years_on_global_500_list  employees  total_stockholder_equity  \\\n",
            "74                         23      68829                     76779   \n",
            "112                         4      94779                     37680   \n",
            "150                        23     100622                     26551   \n",
            "153                        21      94541                     32369   \n",
            "190                         8     237061                      7307   \n",
            "369                        11      73062                     39042   \n",
            "441                         1       8370                      7550   \n",
            "486                         8      15173                      2621   \n",
            "\n",
            "     rank_change  \n",
            "74         -17.0  \n",
            "112         46.0  \n",
            "150        -36.0  \n",
            "153         55.0  \n",
            "190         -6.0  \n",
            "369         47.0  \n",
            "441          NaN  \n",
            "486        -13.0  \n"
          ]
        }
      ]
    },
    {
      "cell_type": "markdown",
      "source": [
        "This allows us to identify the companies with the most employees in China but by default sort_values() method sorts in ascending"
      ],
      "metadata": {
        "id": "nuiPuvXiHbNI"
      }
    },
    {
      "cell_type": "code",
      "source": [
        "selected_rows = f500[f500[\"country\"] == \"China\"]\n",
        "sorted_rows = selected_rows.sort_values(\"employees\")\n",
        "print(sorted_rows[[\"company\", \"country\", \"employees\"]].head())"
      ],
      "metadata": {
        "colab": {
          "base_uri": "https://localhost:8080/"
        },
        "id": "1EywXQPDP38S",
        "outputId": "b04b96a5-54db-4e25-d5d8-18743a30e2d3"
      },
      "execution_count": 28,
      "outputs": [
        {
          "output_type": "stream",
          "name": "stdout",
          "text": [
            "                                company country  employees\n",
            "204                         Noble Group   China       1000\n",
            "458             Yango Financial Holding   China      10234\n",
            "438  China National Aviation Fuel Group   China      11739\n",
            "128                         Tewoo Group   China      17353\n",
            "182            Amer International Group   China      17852\n"
          ]
        }
      ]
    },
    {
      "cell_type": "markdown",
      "source": [
        "By adding ascending=false to the sort_values's parameter, the output is returned in descnding order (which is what we wanted to identify the companies in China with the most employees."
      ],
      "metadata": {
        "id": "Sr0E5HRbHsvw"
      }
    },
    {
      "cell_type": "code",
      "source": [
        "selected_rows = f500[f500[\"country\"] == \"China\"]\n",
        "sorted_rows = selected_rows.sort_values(\"employees\", ascending=False)\n",
        "print(sorted_rows[[\"company\", \"country\", \"employees\"]].head())"
      ],
      "metadata": {
        "colab": {
          "base_uri": "https://localhost:8080/"
        },
        "id": "BkHdTA8qHFQY",
        "outputId": "3fda7ee8-d55e-4ce8-820f-084075774f6a"
      },
      "execution_count": 29,
      "outputs": [
        {
          "output_type": "stream",
          "name": "stdout",
          "text": [
            "                        company country  employees\n",
            "3      China National Petroleum   China    1512048\n",
            "118            China Post Group   China     941211\n",
            "1                    State Grid   China     926067\n",
            "2                 Sinopec Group   China     713288\n",
            "37   Agricultural Bank of China   China     501368\n"
          ]
        }
      ]
    },
    {
      "cell_type": "markdown",
      "source": [
        "Tail is not as effective as setting ascending=falseeven though we get the same output because of the order."
      ],
      "metadata": {
        "id": "tES4f-C0H-yL"
      }
    },
    {
      "cell_type": "code",
      "source": [
        "selected_rows = f500[f500[\"country\"] == \"China\"]\n",
        "sorted_rows = selected_rows.sort_values(\"employees\")\n",
        "print(sorted_rows[[\"company\", \"country\", \"employees\"]].tail())"
      ],
      "metadata": {
        "colab": {
          "base_uri": "https://localhost:8080/"
        },
        "id": "dI5njO5fHrgs",
        "outputId": "8f86b16e-86c6-4037-8aa0-4b8e1adde4a3"
      },
      "execution_count": 30,
      "outputs": [
        {
          "output_type": "stream",
          "name": "stdout",
          "text": [
            "                        company country  employees\n",
            "37   Agricultural Bank of China   China     501368\n",
            "2                 Sinopec Group   China     713288\n",
            "1                    State Grid   China     926067\n",
            "118            China Post Group   China     941211\n",
            "3      China National Petroleum   China    1512048\n"
          ]
        }
      ]
    },
    {
      "cell_type": "markdown",
      "source": [
        "Now we are going to identify the top japanese employer and only output the company name."
      ],
      "metadata": {
        "id": "tcbPfxnRIsPS"
      }
    },
    {
      "cell_type": "code",
      "source": [
        "selected_rows = f500[f500[\"country\"] == \"Japan\"]\n",
        "sorted_rows = selected_rows.sort_values(\"employees\", ascending=False)\n",
        "top_japanese_employer = sorted_rows.iloc[0][\"company\"]\n",
        "print(top_japanese_employer)"
      ],
      "metadata": {
        "colab": {
          "base_uri": "https://localhost:8080/"
        },
        "id": "ioaalhmEH4bW",
        "outputId": "2a51e9bc-8851-4967-b137-04323f574f35"
      },
      "execution_count": 32,
      "outputs": [
        {
          "output_type": "stream",
          "name": "stdout",
          "text": [
            "Toyota Motor\n"
          ]
        }
      ]
    },
    {
      "cell_type": "markdown",
      "source": [
        "Using Loops in Pandas pd - Pandas uses vectorized methods to work with data more efficiently but loops can still be used and are often used for aggregation."
      ],
      "metadata": {
        "id": "3uJ38IbzOnKg"
      }
    },
    {
      "cell_type": "code",
      "source": [
        "# Create an empty dictionary to store the results\n",
        "avg_rev_by_country = {}\n",
        "\n",
        "# Create an array of unique countries\n",
        "countries = f500[\"country\"].unique()\n",
        "\n",
        "# Use a for loop to iterate over the countries\n",
        "for c in countries:\n",
        "    # Use boolean comparison to select only rows that\n",
        "    # correspond to a specific country\n",
        "    selected_rows = f500[f500[\"country\"] == c]\n",
        "    # Calculate the mean average revenue for just those rows\n",
        "    mean = selected_rows[\"revenues\"].mean()\n",
        "    # Assign the mean value to the dictionary, using the\n",
        "    # country name as the key\n",
        "    avg_rev_by_country[c] = mean"
      ],
      "metadata": {
        "id": "_4c2d58NIkfc"
      },
      "execution_count": 33,
      "outputs": []
    },
    {
      "cell_type": "code",
      "source": [
        "print(avg_rev_by_country)"
      ],
      "metadata": {
        "colab": {
          "base_uri": "https://localhost:8080/"
        },
        "id": "jPWRwn7UPIbr",
        "outputId": "19a5095c-41cc-4e6a-825a-06c49e4cd969"
      },
      "execution_count": 34,
      "outputs": [
        {
          "output_type": "stream",
          "name": "stdout",
          "text": [
            "{'USA': 64218.371212121216, 'China': 55397.880733944956, 'Japan': 53164.03921568627, 'Germany': 63915.0, 'Netherlands': 61708.92857142857, 'Britain': 51588.708333333336, 'South Korea': 49725.6, 'Switzerland': 51353.57142857143, 'France': 55231.793103448275, 'Taiwan': 46364.666666666664, 'Singapore': 54454.333333333336, 'Italy': 51899.57142857143, 'Russia': 65247.75, 'Spain': 40600.666666666664, 'Brazil': 52024.57142857143, 'Mexico': 54987.5, 'Luxembourg': 56791.0, 'India': 39993.0, 'Malaysia': 49479.0, 'Thailand': 48719.0, 'Australia': 33688.71428571428, 'Belgium': 45905.0, 'Norway': 45873.0, 'Canada': 31848.0, 'Ireland': 32819.5, 'Indonesia': 36487.0, 'Denmark': 35464.0, 'Saudi Arabia': 35421.0, 'Sweden': 27963.666666666668, 'Finland': 26113.0, 'Venezuela': 24403.0, 'Turkey': 23456.0, 'U.A.E': 22799.0, 'Israel': 21903.0}\n"
          ]
        }
      ]
    },
    {
      "cell_type": "code",
      "source": [
        "# Create an empty dictionary to store the results\n",
        "avg_rank_by_country = {}\n",
        "\n",
        "# Create an array of unique countries\n",
        "countries = f500[\"country\"].unique()\n",
        "\n",
        "# Use a for loop to iterate over the countries\n",
        "for c in countries:\n",
        "    # Use boolean comparison to select only rows that\n",
        "    # correspond to a specific country\n",
        "    selected_rows = f500[f500[\"country\"] == c]\n",
        "    # Calculate the mean average revenue for just those rows\n",
        "    mean = selected_rows[\"rank\"].mean()\n",
        "    # Assign the mean value to the dictionary, using the\n",
        "    # country name as the key\n",
        "    avg_rank_by_country[c] = mean"
      ],
      "metadata": {
        "id": "epNdxYBGPLIY"
      },
      "execution_count": 40,
      "outputs": []
    },
    {
      "cell_type": "code",
      "source": [
        "print(avg_rank_by_country)"
      ],
      "metadata": {
        "colab": {
          "base_uri": "https://localhost:8080/"
        },
        "id": "RSBqFu8sPla2",
        "outputId": "31ca31a2-c677-40f3-a821-8b92dd7150a2"
      },
      "execution_count": 41,
      "outputs": [
        {
          "output_type": "stream",
          "name": "stdout",
          "text": [
            "{'USA': 231.99242424242425, 'China': 252.52293577981652, 'Japan': 241.66666666666666, 'Germany': 205.9655172413793, 'Netherlands': 273.2857142857143, 'Britain': 269.9166666666667, 'South Korea': 274.73333333333335, 'Switzerland': 262.64285714285717, 'France': 228.13793103448276, 'Taiwan': 325.1666666666667, 'Singapore': 249.33333333333334, 'Italy': 238.71428571428572, 'Russia': 138.75, 'Spain': 293.22222222222223, 'Brazil': 220.14285714285714, 'Mexico': 164.0, 'Luxembourg': 156.0, 'India': 267.7142857142857, 'Malaysia': 184.0, 'Thailand': 192.0, 'Australia': 330.42857142857144, 'Belgium': 206.0, 'Norway': 207.0, 'Canada': 347.27272727272725, 'Ireland': 329.25, 'Indonesia': 289.0, 'Denmark': 298.0, 'Saudi Arabia': 299.0, 'Sweden': 400.6666666666667, 'Finland': 415.0, 'Venezuela': 442.0, 'Turkey': 463.0, 'U.A.E': 480.0, 'Israel': 496.0}\n"
          ]
        }
      ]
    },
    {
      "cell_type": "markdown",
      "source": [
        "To find the top employer by country first we create an empty dictionary.\n",
        "We then create a array that has all the unique country values from our dataset.\n",
        "We use a for loop to iterate through each unique country and store in our dictionary the entry for each country that has the most employees using the sort_values method. \n",
        "The top employer for each country is located at the 0 position since we are in descinding order. \n",
        "We then take the entry in country with the most employees and add the corresponding company name.\n",
        "\n",
        "Top_employer_by_country includes our country value and then takes the first entry (descinding) for most employees and the corresponding company name. "
      ],
      "metadata": {
        "id": "lGJEBLC5R3ye"
      }
    },
    {
      "cell_type": "code",
      "source": [
        "# Create an empty dictionary to store the results\n",
        "top_employer_by_country = {}\n",
        "\n",
        "# Create an array of unique countries\n",
        "countries = f500[\"country\"].unique()\n",
        "\n",
        "# Use a for loop to iterate over the countries\n",
        "for c in countries:\n",
        "    # Use boolean comparison to select only rows that\n",
        "    # correspond to a specific country\n",
        "    selected_rows = f500[f500[\"country\"] == c]\n",
        "    sorted_rows = selected_rows.sort_values(\"employees\", ascending=False)\n",
        "    top_employer = sorted_rows.iloc[0]\n",
        "    employer_name = top_employer[\"company\"]\n",
        "    top_employer_by_country[c] = employer_name\n",
        "  "
      ],
      "metadata": {
        "id": "yF6nQXhIPoNo"
      },
      "execution_count": 52,
      "outputs": []
    },
    {
      "cell_type": "code",
      "source": [
        "print(top_employer_by_country)"
      ],
      "metadata": {
        "colab": {
          "base_uri": "https://localhost:8080/"
        },
        "id": "3WSUYtLORNqd",
        "outputId": "c46f7858-d15f-4839-a11b-b02d3fda7e1c"
      },
      "execution_count": 53,
      "outputs": [
        {
          "output_type": "stream",
          "name": "stdout",
          "text": [
            "{'USA': 'Walmart', 'China': 'China National Petroleum', 'Japan': 'Toyota Motor', 'Germany': 'Volkswagen', 'Netherlands': 'EXOR Group', 'Britain': 'Compass Group', 'South Korea': 'Samsung Electronics', 'Switzerland': 'Nestle', 'France': 'Sodexo', 'Taiwan': 'Hon Hai Precision Industry', 'Singapore': 'Flex', 'Italy': 'Poste Italiane', 'Russia': 'Gazprom', 'Spain': 'Banco Santander', 'Brazil': 'JBS', 'Mexico': 'America Movil', 'Luxembourg': 'ArcelorMittal', 'India': 'State Bank of India', 'Malaysia': 'Petronas', 'Thailand': 'PTT', 'Australia': 'Wesfarmers', 'Belgium': 'Anheuser-Busch InBev', 'Norway': 'Statoil', 'Canada': 'George Weston', 'Ireland': 'Accenture', 'Indonesia': 'Pertamina', 'Denmark': 'Maersk Group', 'Saudi Arabia': 'SABIC', 'Sweden': 'H & M Hennes & Mauritz', 'Finland': 'Nokia', 'Venezuela': 'Mercantil Servicios Financieros', 'Turkey': 'Koc Holding', 'U.A.E': 'Emirates Group', 'Israel': 'Teva Pharmaceutical Industries'}\n"
          ]
        }
      ]
    },
    {
      "cell_type": "markdown",
      "source": [
        "To find the top companies by ROA first we need to calculate ROA (profits / assets). We create a new column in our df that has these values.\n",
        "\n",
        "We now create an empty dictonary to store the output of our for loop.\n",
        "The for loop is looking at all the sector values in the sector column. It now checks all the sector values and sorts them by highest ROA and takes the top value (since ascending is false, it is in the iloc[0] position.\n",
        "\n",
        "We then store the corresponding company for each each sector's highest ROA company. "
      ],
      "metadata": {
        "id": "RawqAQ2FbnnT"
      }
    },
    {
      "cell_type": "code",
      "source": [
        "f500[\"roa\"] = f500[\"profits\"] / f500[\"assets\"]\n",
        "top_roa_by_sector = {}\n",
        "for sector in f500[\"sector\"].unique():\n",
        "    is_sector = f500[\"sector\"] == sector\n",
        "    sector_companies = f500.loc[is_sector]\n",
        "    top_company = sector_companies.sort_values(\"roa\",ascending=False).iloc[0]\n",
        "    company_name = top_company[\"company\"]\n",
        "    top_roa_by_sector[sector] = company_name"
      ],
      "metadata": {
        "id": "VDtCmPbARO1H"
      },
      "execution_count": 70,
      "outputs": []
    },
    {
      "cell_type": "code",
      "source": [
        "print(top_roa_by_sector)"
      ],
      "metadata": {
        "colab": {
          "base_uri": "https://localhost:8080/"
        },
        "id": "RP1G0xTHZydi",
        "outputId": "43727366-2896-44ab-8679-9218f257bc5a"
      },
      "execution_count": 71,
      "outputs": [
        {
          "output_type": "stream",
          "name": "stdout",
          "text": [
            "{'Retailing': 'H & M Hennes & Mauritz', 'Energy': 'National Grid', 'Motor Vehicles & Parts': 'Subaru', 'Financials': 'Berkshire Hathaway', 'Technology': 'Accenture', 'Wholesalers': 'McKesson', 'Health Care': 'Gilead Sciences', 'Telecommunications': 'KDDI', 'Engineering & Construction': 'Pacific Construction Group', 'Industrials': '3M', 'Food & Drug Stores': 'Publix Super Markets', 'Aerospace & Defense': 'Lockheed Martin', 'Food, Beverages & Tobacco': 'Philip Morris International', 'Household Products': 'Unilever', 'Transportation': 'Delta Air Lines', 'Materials': 'CRH', 'Chemicals': 'LyondellBasell Industries', 'Media': 'Disney', 'Apparel': 'Nike', 'Hotels, Restaurants & Leisure': 'McDonald’s', 'Business Services': 'Adecco Group'}\n"
          ]
        }
      ]
    },
    {
      "cell_type": "code",
      "source": [],
      "metadata": {
        "id": "CHv5Qhj7avTg"
      },
      "execution_count": null,
      "outputs": []
    }
  ]
}