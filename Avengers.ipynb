{
  "nbformat": 4,
  "nbformat_minor": 0,
  "metadata": {
    "colab": {
      "provenance": [],
      "mount_file_id": "1KEaoBCiJZzrxSryBz1Vi5uwZ_F0V-IDC",
      "authorship_tag": "ABX9TyNGMV1PCMhBinIkWjOrOi1a",
      "include_colab_link": true
    },
    "kernelspec": {
      "name": "python3",
      "display_name": "Python 3"
    },
    "language_info": {
      "name": "python"
    }
  },
  "cells": [
    {
      "cell_type": "markdown",
      "metadata": {
        "id": "view-in-github",
        "colab_type": "text"
      },
      "source": [
        "<a href=\"https://colab.research.google.com/github/MathewLipman/Work-Samples/blob/main/Avengers.ipynb\" target=\"_parent\"><img src=\"https://colab.research.google.com/assets/colab-badge.svg\" alt=\"Open In Colab\"/></a>"
      ]
    },
    {
      "cell_type": "code",
      "execution_count": null,
      "metadata": {
        "id": "w_Ww1g1R0HBr"
      },
      "outputs": [],
      "source": [
        "import pandas as pd\n",
        "import numpy as np\n",
        "import matplotlib.pyplot as plt\n",
        "import matplotlib.style as style\n",
        "import seaborn as sns"
      ]
    },
    {
      "cell_type": "code",
      "source": [
        "avengers = pd.read_csv('/content/drive/MyDrive/Dataset/avengers.csv', encoding ='latin1')"
      ],
      "metadata": {
        "id": "bxOnCp2Q0XK4"
      },
      "execution_count": null,
      "outputs": []
    },
    {
      "cell_type": "code",
      "source": [
        "print(avengers.info)"
      ],
      "metadata": {
        "colab": {
          "base_uri": "https://localhost:8080/"
        },
        "id": "lj9wMohL0r85",
        "outputId": "01943c1f-cad5-405e-d96a-6066a81198c6"
      },
      "execution_count": null,
      "outputs": [
        {
          "output_type": "stream",
          "name": "stdout",
          "text": [
            "<bound method DataFrame.info of                                                    URL  \\\n",
            "0        http://marvel.wikia.com/Henry_Pym_(Earth-616)   \n",
            "1    http://marvel.wikia.com/Janet_van_Dyne_(Earth-...   \n",
            "2    http://marvel.wikia.com/Anthony_Stark_(Earth-616)   \n",
            "3    http://marvel.wikia.com/Robert_Bruce_Banner_(E...   \n",
            "4     http://marvel.wikia.com/Thor_Odinson_(Earth-616)   \n",
            "..                                                 ...   \n",
            "168   http://marvel.wikia.com/Eric_Brooks_(Earth-616)#   \n",
            "169  http://marvel.wikia.com/Adam_Brashear_(Earth-6...   \n",
            "170  http://marvel.wikia.com/Victor_Alvarez_(Earth-...   \n",
            "171     http://marvel.wikia.com/Ava_Ayala_(Earth-616)#   \n",
            "172         http://marvel.wikia.com/Kaluu_(Earth-616)#   \n",
            "\n",
            "                      Name/Alias  Appearances Current?  Gender  \\\n",
            "0      Henry Jonathan \"Hank\" Pym         1269      YES    MALE   \n",
            "1                 Janet van Dyne         1165      YES  FEMALE   \n",
            "2    Anthony Edward \"Tony\" Stark         3068      YES    MALE   \n",
            "3            Robert Bruce Banner         2089      YES    MALE   \n",
            "4                   Thor Odinson         2402      YES    MALE   \n",
            "..                           ...          ...      ...     ...   \n",
            "168                  Eric Brooks          198      YES    MALE   \n",
            "169                Adam Brashear           29      YES    MALE   \n",
            "170               Victor Alvarez           45      YES    MALE   \n",
            "171                    Ava Ayala           49      YES  FEMALE   \n",
            "172                        Kaluu           35      YES    MALE   \n",
            "\n",
            "    Probationary Introl Full/Reserve Avengers Intro  Year  \\\n",
            "0                   NaN                      Sep-63  1963   \n",
            "1                   NaN                      Sep-63  1963   \n",
            "2                   NaN                      Sep-63  1963   \n",
            "3                   NaN                      Sep-63  1963   \n",
            "4                   NaN                      Sep-63  1963   \n",
            "..                  ...                         ...   ...   \n",
            "168                 NaN                      13-Nov  2013   \n",
            "169                 NaN                      14-Jan  2014   \n",
            "170                 NaN                      14-Jan  2014   \n",
            "171                 NaN                      14-Jan  2014   \n",
            "172                 NaN                      15-Jan  2015   \n",
            "\n",
            "     Years since joining Honorary  ... Return1 Death2 Return2 Death3 Return3  \\\n",
            "0                     52     Full  ...      NO    NaN     NaN    NaN     NaN   \n",
            "1                     52     Full  ...     YES    NaN     NaN    NaN     NaN   \n",
            "2                     52     Full  ...     YES    NaN     NaN    NaN     NaN   \n",
            "3                     52     Full  ...     YES    NaN     NaN    NaN     NaN   \n",
            "4                     52     Full  ...     YES    YES      NO    NaN     NaN   \n",
            "..                   ...      ...  ...     ...    ...     ...    ...     ...   \n",
            "168                    2     Full  ...     NaN    NaN     NaN    NaN     NaN   \n",
            "169                    1     Full  ...     NaN    NaN     NaN    NaN     NaN   \n",
            "170                    1     Full  ...     NaN    NaN     NaN    NaN     NaN   \n",
            "171                    1     Full  ...     NaN    NaN     NaN    NaN     NaN   \n",
            "172                    0     Full  ...     NaN    NaN     NaN    NaN     NaN   \n",
            "\n",
            "    Death4 Return4 Death5 Return5  \\\n",
            "0      NaN     NaN    NaN     NaN   \n",
            "1      NaN     NaN    NaN     NaN   \n",
            "2      NaN     NaN    NaN     NaN   \n",
            "3      NaN     NaN    NaN     NaN   \n",
            "4      NaN     NaN    NaN     NaN   \n",
            "..     ...     ...    ...     ...   \n",
            "168    NaN     NaN    NaN     NaN   \n",
            "169    NaN     NaN    NaN     NaN   \n",
            "170    NaN     NaN    NaN     NaN   \n",
            "171    NaN     NaN    NaN     NaN   \n",
            "172    NaN     NaN    NaN     NaN   \n",
            "\n",
            "                                                 Notes  \n",
            "0    Merged with Ultron in Rage of Ultron Vol. 1. A...  \n",
            "1    Dies in Secret Invasion V1:I8. Actually was se...  \n",
            "2    Death: \"Later while under the influence of Imm...  \n",
            "3    Dies in Ghosts of the Future arc. However \"he ...  \n",
            "4    Dies in Fear Itself brought back because that'...  \n",
            "..                                                 ...  \n",
            "168                                                NaN  \n",
            "169                                                NaN  \n",
            "170                                                NaN  \n",
            "171                                                NaN  \n",
            "172                                                NaN  \n",
            "\n",
            "[173 rows x 21 columns]>\n"
          ]
        }
      ]
    },
    {
      "cell_type": "code",
      "source": [
        "avengers['Year'].hist()"
      ],
      "metadata": {
        "colab": {
          "base_uri": "https://localhost:8080/",
          "height": 448
        },
        "id": "5QFWOcLU1WVT",
        "outputId": "3d8502cf-5dcc-44bf-d1d9-2cd593ab410f"
      },
      "execution_count": null,
      "outputs": [
        {
          "output_type": "execute_result",
          "data": {
            "text/plain": [
              "<Axes: >"
            ]
          },
          "metadata": {},
          "execution_count": 10
        },
        {
          "output_type": "display_data",
          "data": {
            "text/plain": [
              "<Figure size 640x480 with 1 Axes>"
            ],
            "image/png": "[encoded data removed]"
          },
          "metadata": {}
        }
      ]
    },
    {
      "cell_type": "code",
      "source": [
        "\n",
        "\n",
        "true_avengers = avengers[avengers['Year'] >= 1960]"
      ],
      "metadata": {
        "id": "8DfDtokP1vpL"
      },
      "execution_count": 12,
      "outputs": []
    },
    {
      "cell_type": "code",
      "source": [
        "true_avengers['Year'].hist()"
      ],
      "metadata": {
        "colab": {
          "base_uri": "https://localhost:8080/",
          "height": 448
        },
        "id": "ghLofOx32Yhk",
        "outputId": "28a3a7ce-2069-47dc-9f99-92047a344496"
      },
      "execution_count": 14,
      "outputs": [
        {
          "output_type": "execute_result",
          "data": {
            "text/plain": [
              "<Axes: >"
            ]
          },
          "metadata": {},
          "execution_count": 14
        },
        {
          "output_type": "display_data",
          "data": {
            "text/plain": [
              "<Figure size 640x480 with 1 Axes>"
            ],
            "image/png": "[encoded data removed]"
          },
          "metadata": {}
        }
      ]
    },
    {
      "cell_type": "code",
      "source": [
        "def clean_death(row):\n",
        "  num_deaths = 0 \n",
        "  columns = ['Death1', 'Death2', 'Death3', 'Death4', 'Death5']\n",
        "\n",
        "  for c in columns:\n",
        "    death = row[c]\n",
        "    if pd.isnull(death) or death ==\"NO\":\n",
        "      continue\n",
        "    elif death == 'YES':\n",
        "      num_deaths += 1\n",
        "  return num_deaths\n",
        "\n",
        "true_avengers['Deaths'] = true_avengers.apply(clean_death, axis=1)"
      ],
      "metadata": {
        "id": "2O2x5Q2w2dtT",
        "colab": {
          "base_uri": "https://localhost:8080/"
        },
        "outputId": "7dce8611-d8c1-4973-81ff-e17d1aee559f"
      },
      "execution_count": 17,
      "outputs": [
        {
          "output_type": "stream",
          "name": "stderr",
          "text": [
            "<ipython-input-17-7e6b779be014>:13: SettingWithCopyWarning: \n",
            "A value is trying to be set on a copy of a slice from a DataFrame.\n",
            "Try using .loc[row_indexer,col_indexer] = value instead\n",
            "\n",
            "See the caveats in the documentation: https://pandas.pydata.org/pandas-docs/stable/user_guide/indexing.html#returning-a-view-versus-a-copy\n",
            "  true_avengers['Deaths'] = true_avengers.apply(clean_death, axis=1)\n"
          ]
        }
      ]
    },
    {
      "cell_type": "code",
      "source": [
        "true_avengers['Deaths'].value_counts()"
      ],
      "metadata": {
        "colab": {
          "base_uri": "https://localhost:8080/"
        },
        "id": "6g1vor6Z4hIn",
        "outputId": "9832f3fe-284e-429a-8cf1-dc71ec95763c"
      },
      "execution_count": 20,
      "outputs": [
        {
          "output_type": "execute_result",
          "data": {
            "text/plain": [
              "0    91\n",
              "1    52\n",
              "2    14\n",
              "3     1\n",
              "5     1\n",
              "Name: Deaths, dtype: int64"
            ]
          },
          "metadata": {},
          "execution_count": 20
        }
      ]
    },
    {
      "cell_type": "code",
      "source": [
        "correct_joined_years = true_avengers[true_avengers['Years since joining'] == (2015 - true_avengers['Year'])]"
      ],
      "metadata": {
        "id": "oLxGa7ah5fG-"
      },
      "execution_count": 21,
      "outputs": []
    },
    {
      "cell_type": "code",
      "source": [],
      "metadata": {
        "id": "LiUBFt9p7NBJ"
      },
      "execution_count": null,
      "outputs": []
    }
  ]
}