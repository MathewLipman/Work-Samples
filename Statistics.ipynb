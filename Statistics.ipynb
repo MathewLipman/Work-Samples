{
  "nbformat": 4,
  "nbformat_minor": 0,
  "metadata": {
    "colab": {
      "provenance": [],
      "mount_file_id": "1fpd5n4UVvzkFzaZTX-v6qv_O4cr6y8yO",
      "authorship_tag": "ABX9TyP/prZFD7Iv13OMRLxMeTfO",
      "include_colab_link": true
    },
    "kernelspec": {
      "name": "python3",
      "display_name": "Python 3"
    },
    "language_info": {
      "name": "python"
    }
  },
  "cells": [
    {
      "cell_type": "markdown",
      "metadata": {
        "id": "view-in-github",
        "colab_type": "text"
      },
      "source": [
        "<a href=\"https://colab.research.google.com/github/MathewLipman/Work-Samples/blob/main/Statistics.ipynb\" target=\"_parent\"><img src=\"https://colab.research.google.com/assets/colab-badge.svg\" alt=\"Open In Colab\"/></a>"
      ]
    },
    {
      "cell_type": "code",
      "execution_count": null,
      "metadata": {
        "id": "dQsYPCI44VYN"
      },
      "outputs": [],
      "source": [
        "import pandas as pd\n",
        "import numpy as np\n",
        "import datetime as dt\n",
        "import matplotlib.pyplot as plt\n",
        "import matplotlib.style as style\n",
        "import seaborn as sns"
      ]
    },
    {
      "cell_type": "code",
      "source": [
        "wnba = pd.read_csv('/content/drive/MyDrive/Dataset/wnba.csv')"
      ],
      "metadata": {
        "id": "tD0rwMo94rZB"
      },
      "execution_count": null,
      "outputs": []
    },
    {
      "cell_type": "code",
      "source": [
        "wnba.shape"
      ],
      "metadata": {
        "colab": {
          "base_uri": "https://localhost:8080/"
        },
        "id": "po6YI1f_4_iw",
        "outputId": "9afa59a9-4b79-4580-91d9-6136c1e09b67"
      },
      "execution_count": null,
      "outputs": [
        {
          "output_type": "execute_result",
          "data": {
            "text/plain": [
              "(143, 32)"
            ]
          },
          "metadata": {},
          "execution_count": 274
        }
      ]
    },
    {
      "cell_type": "code",
      "source": [
        "pd.set_option('display.max_colwidth', 200)"
      ],
      "metadata": {
        "id": "95-vAELB5Bq0"
      },
      "execution_count": null,
      "outputs": []
    },
    {
      "cell_type": "code",
      "source": [
        "wnba.head()"
      ],
      "metadata": {
        "colab": {
          "base_uri": "https://localhost:8080/"
        },
        "id": "uQWZNCac58BZ",
        "outputId": "10c39f5b-bfba-431b-f9d7-e60ab224ad17"
      },
      "execution_count": null,
      "outputs": [
        {
          "output_type": "execute_result",
          "data": {
            "text/plain": [
              "              Name Team  Pos  Height  Weight        BMI Birth_Place  \\\n",
              "0    Aerial Powers  DAL    F     183    71.0  21.200991          US   \n",
              "1      Alana Beard   LA  G/F     185    73.0  21.329438          US   \n",
              "2     Alex Bentley  CON    G     170    69.0  23.875433          US   \n",
              "3  Alex Montgomery  SAN  G/F     185    84.0  24.543462          US   \n",
              "4     Alexis Jones  MIN    G     175    78.0  25.469388          US   \n",
              "\n",
              "           Birthdate  Age         College  ... OREB  DREB  REB  AST  STL  BLK  \\\n",
              "0   January 17, 1994   23  Michigan State  ...    6    22   28   12    3    6   \n",
              "1       May 14, 1982   35            Duke  ...   19    82  101   72   63   13   \n",
              "2   October 27, 1990   26      Penn State  ...    4    36   40   78   22    3   \n",
              "3  December 11, 1988   28    Georgia Tech  ...   35   134  169   65   20   10   \n",
              "4     August 5, 1994   23          Baylor  ...    3     9   12   12    7    0   \n",
              "\n",
              "   TO  PTS  DD2  TD3  \n",
              "0  12   93    0    0  \n",
              "1  40  217    0    0  \n",
              "2  24  218    0    0  \n",
              "3  38  188    2    0  \n",
              "4  14   50    0    0  \n",
              "\n",
              "[5 rows x 32 columns]"
            ],
            "text/html": [
              "\n",
              "  <div id=\"df-0d60d858-481b-42aa-a9b8-7f68589cdf76\">\n",
              "    <div class=\"colab-df-container\">\n",
              "      <div>\n",
              "<style scoped>\n",
              "    .dataframe tbody tr th:only-of-type {\n",
              "        vertical-align: middle;\n",
              "    }\n",
              "\n",
              "    .dataframe tbody tr th {\n",
              "        vertical-align: top;\n",
              "    }\n",
              "\n",
              "    .dataframe thead th {\n",
              "        text-align: right;\n",
              "    }\n",
              "</style>\n",
              "<table border=\"1\" class=\"dataframe\">\n",
              "  <thead>\n",
              "    <tr style=\"text-align: right;\">\n",
              "      <th></th>\n",
              "      <th>Name</th>\n",
              "      <th>Team</th>\n",
              "      <th>Pos</th>\n",
              "      <th>Height</th>\n",
              "      <th>Weight</th>\n",
              "      <th>BMI</th>\n",
              "      <th>Birth_Place</th>\n",
              "      <th>Birthdate</th>\n",
              "      <th>Age</th>\n",
              "      <th>College</th>\n",
              "      <th>...</th>\n",
              "      <th>OREB</th>\n",
              "      <th>DREB</th>\n",
              "      <th>REB</th>\n",
              "      <th>AST</th>\n",
              "      <th>STL</th>\n",
              "      <th>BLK</th>\n",
              "      <th>TO</th>\n",
              "      <th>PTS</th>\n",
              "      <th>DD2</th>\n",
              "      <th>TD3</th>\n",
              "    </tr>\n",
              "  </thead>\n",
              "  <tbody>\n",
              "    <tr>\n",
              "      <th>0</th>\n",
              "      <td>Aerial Powers</td>\n",
              "      <td>DAL</td>\n",
              "      <td>F</td>\n",
              "      <td>183</td>\n",
              "      <td>71.0</td>\n",
              "      <td>21.200991</td>\n",
              "      <td>US</td>\n",
              "      <td>January 17, 1994</td>\n",
              "      <td>23</td>\n",
              "      <td>Michigan State</td>\n",
              "      <td>...</td>\n",
              "      <td>6</td>\n",
              "      <td>22</td>\n",
              "      <td>28</td>\n",
              "      <td>12</td>\n",
              "      <td>3</td>\n",
              "      <td>6</td>\n",
              "      <td>12</td>\n",
              "      <td>93</td>\n",
              "      <td>0</td>\n",
              "      <td>0</td>\n",
              "    </tr>\n",
              "    <tr>\n",
              "      <th>1</th>\n",
              "      <td>Alana Beard</td>\n",
              "      <td>LA</td>\n",
              "      <td>G/F</td>\n",
              "      <td>185</td>\n",
              "      <td>73.0</td>\n",
              "      <td>21.329438</td>\n",
              "      <td>US</td>\n",
              "      <td>May 14, 1982</td>\n",
              "      <td>35</td>\n",
              "      <td>Duke</td>\n",
              "      <td>...</td>\n",
              "      <td>19</td>\n",
              "      <td>82</td>\n",
              "      <td>101</td>\n",
              "      <td>72</td>\n",
              "      <td>63</td>\n",
              "      <td>13</td>\n",
              "      <td>40</td>\n",
              "      <td>217</td>\n",
              "      <td>0</td>\n",
              "      <td>0</td>\n",
              "    </tr>\n",
              "    <tr>\n",
              "      <th>2</th>\n",
              "      <td>Alex Bentley</td>\n",
              "      <td>CON</td>\n",
              "      <td>G</td>\n",
              "      <td>170</td>\n",
              "      <td>69.0</td>\n",
              "      <td>23.875433</td>\n",
              "      <td>US</td>\n",
              "      <td>October 27, 1990</td>\n",
              "      <td>26</td>\n",
              "      <td>Penn State</td>\n",
              "      <td>...</td>\n",
              "      <td>4</td>\n",
              "      <td>36</td>\n",
              "      <td>40</td>\n",
              "      <td>78</td>\n",
              "      <td>22</td>\n",
              "      <td>3</td>\n",
              "      <td>24</td>\n",
              "      <td>218</td>\n",
              "      <td>0</td>\n",
              "      <td>0</td>\n",
              "    </tr>\n",
              "    <tr>\n",
              "      <th>3</th>\n",
              "      <td>Alex Montgomery</td>\n",
              "      <td>SAN</td>\n",
              "      <td>G/F</td>\n",
              "      <td>185</td>\n",
              "      <td>84.0</td>\n",
              "      <td>24.543462</td>\n",
              "      <td>US</td>\n",
              "      <td>December 11, 1988</td>\n",
              "      <td>28</td>\n",
              "      <td>Georgia Tech</td>\n",
              "      <td>...</td>\n",
              "      <td>35</td>\n",
              "      <td>134</td>\n",
              "      <td>169</td>\n",
              "      <td>65</td>\n",
              "      <td>20</td>\n",
              "      <td>10</td>\n",
              "      <td>38</td>\n",
              "      <td>188</td>\n",
              "      <td>2</td>\n",
              "      <td>0</td>\n",
              "    </tr>\n",
              "    <tr>\n",
              "      <th>4</th>\n",
              "      <td>Alexis Jones</td>\n",
              "      <td>MIN</td>\n",
              "      <td>G</td>\n",
              "      <td>175</td>\n",
              "      <td>78.0</td>\n",
              "      <td>25.469388</td>\n",
              "      <td>US</td>\n",
              "      <td>August 5, 1994</td>\n",
              "      <td>23</td>\n",
              "      <td>Baylor</td>\n",
              "      <td>...</td>\n",
              "      <td>3</td>\n",
              "      <td>9</td>\n",
              "      <td>12</td>\n",
              "      <td>12</td>\n",
              "      <td>7</td>\n",
              "      <td>0</td>\n",
              "      <td>14</td>\n",
              "      <td>50</td>\n",
              "      <td>0</td>\n",
              "      <td>0</td>\n",
              "    </tr>\n",
              "  </tbody>\n",
              "</table>\n",
              "<p>5 rows × 32 columns</p>\n",
              "</div>\n",
              "      <button class=\"colab-df-convert\" onclick=\"convertToInteractive('df-0d60d858-481b-42aa-a9b8-7f68589cdf76')\"\n",
              "              title=\"Convert this dataframe to an interactive table.\"\n",
              "              style=\"display:none;\">\n",
              "        \n",
              "  <svg xmlns=\"http://www.w3.org/2000/svg\" height=\"24px\"viewBox=\"0 0 24 24\"\n",
              "       width=\"24px\">\n",
              "    <path d=\"M0 0h24v24H0V0z\" fill=\"none\"/>\n",
              "    <path d=\"M18.56 5.44l.94 2.06.94-2.06 2.06-.94-2.06-.94-.94-2.06-.94 2.06-2.06.94zm-11 1L8.5 8.5l.94-2.06 2.06-.94-2.06-.94L8.5 2.5l-.94 2.06-2.06.94zm10 10l.94 2.06.94-2.06 2.06-.94-2.06-.94-.94-2.06-.94 2.06-2.06.94z\"/><path d=\"M17.41 7.96l-1.37-1.37c-.4-.4-.92-.59-1.43-.59-.52 0-1.04.2-1.43.59L10.3 9.45l-7.72 7.72c-.78.78-.78 2.05 0 2.83L4 21.41c.39.39.9.59 1.41.59.51 0 1.02-.2 1.41-.59l7.78-7.78 2.81-2.81c.8-.78.8-2.07 0-2.86zM5.41 20L4 18.59l7.72-7.72 1.47 1.35L5.41 20z\"/>\n",
              "  </svg>\n",
              "      </button>\n",
              "      \n",
              "  <style>\n",
              "    .colab-df-container {\n",
              "      display:flex;\n",
              "      flex-wrap:wrap;\n",
              "      gap: 12px;\n",
              "    }\n",
              "\n",
              "    .colab-df-convert {\n",
              "      background-color: #E8F0FE;\n",
              "      border: none;\n",
              "      border-radius: 50%;\n",
              "      cursor: pointer;\n",
              "      display: none;\n",
              "      fill: #1967D2;\n",
              "      height: 32px;\n",
              "      padding: 0 0 0 0;\n",
              "      width: 32px;\n",
              "    }\n",
              "\n",
              "    .colab-df-convert:hover {\n",
              "      background-color: #E2EBFA;\n",
              "      box-shadow: 0px 1px 2px rgba(60, 64, 67, 0.3), 0px 1px 3px 1px rgba(60, 64, 67, 0.15);\n",
              "      fill: #174EA6;\n",
              "    }\n",
              "\n",
              "    [theme=dark] .colab-df-convert {\n",
              "      background-color: #3B4455;\n",
              "      fill: #D2E3FC;\n",
              "    }\n",
              "\n",
              "    [theme=dark] .colab-df-convert:hover {\n",
              "      background-color: #434B5C;\n",
              "      box-shadow: 0px 1px 3px 1px rgba(0, 0, 0, 0.15);\n",
              "      filter: drop-shadow(0px 1px 2px rgba(0, 0, 0, 0.3));\n",
              "      fill: #FFFFFF;\n",
              "    }\n",
              "  </style>\n",
              "\n",
              "      <script>\n",
              "        const buttonEl =\n",
              "          document.querySelector('#df-0d60d858-481b-42aa-a9b8-7f68589cdf76 button.colab-df-convert');\n",
              "        buttonEl.style.display =\n",
              "          google.colab.kernel.accessAllowed ? 'block' : 'none';\n",
              "\n",
              "        async function convertToInteractive(key) {\n",
              "          const element = document.querySelector('#df-0d60d858-481b-42aa-a9b8-7f68589cdf76');\n",
              "          const dataTable =\n",
              "            await google.colab.kernel.invokeFunction('convertToInteractive',\n",
              "                                                     [key], {});\n",
              "          if (!dataTable) return;\n",
              "\n",
              "          const docLinkHtml = 'Like what you see? Visit the ' +\n",
              "            '<a target=\"_blank\" href=https://colab.research.google.com/notebooks/data_table.ipynb>data table notebook</a>'\n",
              "            + ' to learn more about interactive tables.';\n",
              "          element.innerHTML = '';\n",
              "          dataTable['output_type'] = 'display_data';\n",
              "          await google.colab.output.renderOutput(dataTable, element);\n",
              "          const docLink = document.createElement('div');\n",
              "          docLink.innerHTML = docLinkHtml;\n",
              "          element.appendChild(docLink);\n",
              "        }\n",
              "      </script>\n",
              "    </div>\n",
              "  </div>\n",
              "  "
            ]
          },
          "metadata": {},
          "execution_count": 276
        }
      ]
    },
    {
      "cell_type": "code",
      "source": [
        "wnba.columns"
      ],
      "metadata": {
        "colab": {
          "base_uri": "https://localhost:8080/"
        },
        "id": "GMVAvJ-q59It",
        "outputId": "c66cdc1e-7681-44f1-e2e8-f3c25a879ff6"
      },
      "execution_count": null,
      "outputs": [
        {
          "output_type": "execute_result",
          "data": {
            "text/plain": [
              "Index(['Name', 'Team', 'Pos', 'Height', 'Weight', 'BMI', 'Birth_Place',\n",
              "       'Birthdate', 'Age', 'College', 'Experience', 'Games Played', 'MIN',\n",
              "       'FGM', 'FGA', 'FG%', '15:00', '3PA', '3P%', 'FTM', 'FTA', 'FT%', 'OREB',\n",
              "       'DREB', 'REB', 'AST', 'STL', 'BLK', 'TO', 'PTS', 'DD2', 'TD3'],\n",
              "      dtype='object')"
            ]
          },
          "metadata": {},
          "execution_count": 277
        }
      ]
    },
    {
      "cell_type": "code",
      "source": [
        "wnba[wnba['College'] == 'Duke']\n"
      ],
      "metadata": {
        "id": "j6_wOGMC6cv8",
        "colab": {
          "base_uri": "https://localhost:8080/"
        },
        "outputId": "2c31dad6-41f6-436b-95b5-bdd76972f23a"
      },
      "execution_count": null,
      "outputs": [
        {
          "output_type": "execute_result",
          "data": {
            "text/plain": [
              "                      Name Team  Pos  Height  Weight        BMI Birth_Place  \\\n",
              "1              Alana Beard   LA  G/F     185    73.0  21.329438          US   \n",
              "33            Chelsea Gray   LA    G     180    77.0  23.765432          US   \n",
              "47      Elizabeth Williams  ATL  F/C     191    87.0  23.848030          US   \n",
              "61          Jasmine Thomas  CON    G     175    66.0  21.551020          US   \n",
              "73  Karima Christmas-Kelly  DAL  G/F     183    82.0  24.485652          US   \n",
              "83          Krystal Thomas  WAS    C     196    88.0  22.907122          US   \n",
              "95          Monique Currie  PHO  G/F     183    80.0  23.888441          US   \n",
              "\n",
              "             Birthdate  Age College  ... OREB  DREB  REB  AST  STL  BLK  TO  \\\n",
              "1         May 14, 1982   35    Duke  ...   19    82  101   72   63   13  40   \n",
              "33     August 10, 1992   25    Duke  ...   19    80   99  132   29    7  61   \n",
              "47       June 23, 1993   24    Duke  ...   35    61   96    5    5    4  21   \n",
              "61  September 30, 1989   27    Duke  ...    9    55   64  118   45    4  58   \n",
              "73    November 9, 1989   27    Duke  ...    4    10   14    6    1    1  13   \n",
              "83     October 6, 1989   27    Duke  ...   97   172  269   30   15   31  45   \n",
              "95   February 25, 1983   34    Duke  ...   19   103  122   67   22   11  48   \n",
              "\n",
              "    PTS  DD2  TD3  \n",
              "1   217    0    0  \n",
              "33  456    1    0  \n",
              "47  128    0    0  \n",
              "61  391    1    0  \n",
              "73   65    0    0  \n",
              "83  199    2    0  \n",
              "95  364    0    0  \n",
              "\n",
              "[7 rows x 32 columns]"
            ],
            "text/html": [
              "\n",
              "  <div id=\"df-ac51d170-463a-4bfe-aa96-6fee8aa5d752\">\n",
              "    <div class=\"colab-df-container\">\n",
              "      <div>\n",
              "<style scoped>\n",
              "    .dataframe tbody tr th:only-of-type {\n",
              "        vertical-align: middle;\n",
              "    }\n",
              "\n",
              "    .dataframe tbody tr th {\n",
              "        vertical-align: top;\n",
              "    }\n",
              "\n",
              "    .dataframe thead th {\n",
              "        text-align: right;\n",
              "    }\n",
              "</style>\n",
              "<table border=\"1\" class=\"dataframe\">\n",
              "  <thead>\n",
              "    <tr style=\"text-align: right;\">\n",
              "      <th></th>\n",
              "      <th>Name</th>\n",
              "      <th>Team</th>\n",
              "      <th>Pos</th>\n",
              "      <th>Height</th>\n",
              "      <th>Weight</th>\n",
              "      <th>BMI</th>\n",
              "      <th>Birth_Place</th>\n",
              "      <th>Birthdate</th>\n",
              "      <th>Age</th>\n",
              "      <th>College</th>\n",
              "      <th>...</th>\n",
              "      <th>OREB</th>\n",
              "      <th>DREB</th>\n",
              "      <th>REB</th>\n",
              "      <th>AST</th>\n",
              "      <th>STL</th>\n",
              "      <th>BLK</th>\n",
              "      <th>TO</th>\n",
              "      <th>PTS</th>\n",
              "      <th>DD2</th>\n",
              "      <th>TD3</th>\n",
              "    </tr>\n",
              "  </thead>\n",
              "  <tbody>\n",
              "    <tr>\n",
              "      <th>1</th>\n",
              "      <td>Alana Beard</td>\n",
              "      <td>LA</td>\n",
              "      <td>G/F</td>\n",
              "      <td>185</td>\n",
              "      <td>73.0</td>\n",
              "      <td>21.329438</td>\n",
              "      <td>US</td>\n",
              "      <td>May 14, 1982</td>\n",
              "      <td>35</td>\n",
              "      <td>Duke</td>\n",
              "      <td>...</td>\n",
              "      <td>19</td>\n",
              "      <td>82</td>\n",
              "      <td>101</td>\n",
              "      <td>72</td>\n",
              "      <td>63</td>\n",
              "      <td>13</td>\n",
              "      <td>40</td>\n",
              "      <td>217</td>\n",
              "      <td>0</td>\n",
              "      <td>0</td>\n",
              "    </tr>\n",
              "    <tr>\n",
              "      <th>33</th>\n",
              "      <td>Chelsea Gray</td>\n",
              "      <td>LA</td>\n",
              "      <td>G</td>\n",
              "      <td>180</td>\n",
              "      <td>77.0</td>\n",
              "      <td>23.765432</td>\n",
              "      <td>US</td>\n",
              "      <td>August 10, 1992</td>\n",
              "      <td>25</td>\n",
              "      <td>Duke</td>\n",
              "      <td>...</td>\n",
              "      <td>19</td>\n",
              "      <td>80</td>\n",
              "      <td>99</td>\n",
              "      <td>132</td>\n",
              "      <td>29</td>\n",
              "      <td>7</td>\n",
              "      <td>61</td>\n",
              "      <td>456</td>\n",
              "      <td>1</td>\n",
              "      <td>0</td>\n",
              "    </tr>\n",
              "    <tr>\n",
              "      <th>47</th>\n",
              "      <td>Elizabeth Williams</td>\n",
              "      <td>ATL</td>\n",
              "      <td>F/C</td>\n",
              "      <td>191</td>\n",
              "      <td>87.0</td>\n",
              "      <td>23.848030</td>\n",
              "      <td>US</td>\n",
              "      <td>June 23, 1993</td>\n",
              "      <td>24</td>\n",
              "      <td>Duke</td>\n",
              "      <td>...</td>\n",
              "      <td>35</td>\n",
              "      <td>61</td>\n",
              "      <td>96</td>\n",
              "      <td>5</td>\n",
              "      <td>5</td>\n",
              "      <td>4</td>\n",
              "      <td>21</td>\n",
              "      <td>128</td>\n",
              "      <td>0</td>\n",
              "      <td>0</td>\n",
              "    </tr>\n",
              "    <tr>\n",
              "      <th>61</th>\n",
              "      <td>Jasmine Thomas</td>\n",
              "      <td>CON</td>\n",
              "      <td>G</td>\n",
              "      <td>175</td>\n",
              "      <td>66.0</td>\n",
              "      <td>21.551020</td>\n",
              "      <td>US</td>\n",
              "      <td>September 30, 1989</td>\n",
              "      <td>27</td>\n",
              "      <td>Duke</td>\n",
              "      <td>...</td>\n",
              "      <td>9</td>\n",
              "      <td>55</td>\n",
              "      <td>64</td>\n",
              "      <td>118</td>\n",
              "      <td>45</td>\n",
              "      <td>4</td>\n",
              "      <td>58</td>\n",
              "      <td>391</td>\n",
              "      <td>1</td>\n",
              "      <td>0</td>\n",
              "    </tr>\n",
              "    <tr>\n",
              "      <th>73</th>\n",
              "      <td>Karima Christmas-Kelly</td>\n",
              "      <td>DAL</td>\n",
              "      <td>G/F</td>\n",
              "      <td>183</td>\n",
              "      <td>82.0</td>\n",
              "      <td>24.485652</td>\n",
              "      <td>US</td>\n",
              "      <td>November 9, 1989</td>\n",
              "      <td>27</td>\n",
              "      <td>Duke</td>\n",
              "      <td>...</td>\n",
              "      <td>4</td>\n",
              "      <td>10</td>\n",
              "      <td>14</td>\n",
              "      <td>6</td>\n",
              "      <td>1</td>\n",
              "      <td>1</td>\n",
              "      <td>13</td>\n",
              "      <td>65</td>\n",
              "      <td>0</td>\n",
              "      <td>0</td>\n",
              "    </tr>\n",
              "    <tr>\n",
              "      <th>83</th>\n",
              "      <td>Krystal Thomas</td>\n",
              "      <td>WAS</td>\n",
              "      <td>C</td>\n",
              "      <td>196</td>\n",
              "      <td>88.0</td>\n",
              "      <td>22.907122</td>\n",
              "      <td>US</td>\n",
              "      <td>October 6, 1989</td>\n",
              "      <td>27</td>\n",
              "      <td>Duke</td>\n",
              "      <td>...</td>\n",
              "      <td>97</td>\n",
              "      <td>172</td>\n",
              "      <td>269</td>\n",
              "      <td>30</td>\n",
              "      <td>15</td>\n",
              "      <td>31</td>\n",
              "      <td>45</td>\n",
              "      <td>199</td>\n",
              "      <td>2</td>\n",
              "      <td>0</td>\n",
              "    </tr>\n",
              "    <tr>\n",
              "      <th>95</th>\n",
              "      <td>Monique Currie</td>\n",
              "      <td>PHO</td>\n",
              "      <td>G/F</td>\n",
              "      <td>183</td>\n",
              "      <td>80.0</td>\n",
              "      <td>23.888441</td>\n",
              "      <td>US</td>\n",
              "      <td>February 25, 1983</td>\n",
              "      <td>34</td>\n",
              "      <td>Duke</td>\n",
              "      <td>...</td>\n",
              "      <td>19</td>\n",
              "      <td>103</td>\n",
              "      <td>122</td>\n",
              "      <td>67</td>\n",
              "      <td>22</td>\n",
              "      <td>11</td>\n",
              "      <td>48</td>\n",
              "      <td>364</td>\n",
              "      <td>0</td>\n",
              "      <td>0</td>\n",
              "    </tr>\n",
              "  </tbody>\n",
              "</table>\n",
              "<p>7 rows × 32 columns</p>\n",
              "</div>\n",
              "      <button class=\"colab-df-convert\" onclick=\"convertToInteractive('df-ac51d170-463a-4bfe-aa96-6fee8aa5d752')\"\n",
              "              title=\"Convert this dataframe to an interactive table.\"\n",
              "              style=\"display:none;\">\n",
              "        \n",
              "  <svg xmlns=\"http://www.w3.org/2000/svg\" height=\"24px\"viewBox=\"0 0 24 24\"\n",
              "       width=\"24px\">\n",
              "    <path d=\"M0 0h24v24H0V0z\" fill=\"none\"/>\n",
              "    <path d=\"M18.56 5.44l.94 2.06.94-2.06 2.06-.94-2.06-.94-.94-2.06-.94 2.06-2.06.94zm-11 1L8.5 8.5l.94-2.06 2.06-.94-2.06-.94L8.5 2.5l-.94 2.06-2.06.94zm10 10l.94 2.06.94-2.06 2.06-.94-2.06-.94-.94-2.06-.94 2.06-2.06.94z\"/><path d=\"M17.41 7.96l-1.37-1.37c-.4-.4-.92-.59-1.43-.59-.52 0-1.04.2-1.43.59L10.3 9.45l-7.72 7.72c-.78.78-.78 2.05 0 2.83L4 21.41c.39.39.9.59 1.41.59.51 0 1.02-.2 1.41-.59l7.78-7.78 2.81-2.81c.8-.78.8-2.07 0-2.86zM5.41 20L4 18.59l7.72-7.72 1.47 1.35L5.41 20z\"/>\n",
              "  </svg>\n",
              "      </button>\n",
              "      \n",
              "  <style>\n",
              "    .colab-df-container {\n",
              "      display:flex;\n",
              "      flex-wrap:wrap;\n",
              "      gap: 12px;\n",
              "    }\n",
              "\n",
              "    .colab-df-convert {\n",
              "      background-color: #E8F0FE;\n",
              "      border: none;\n",
              "      border-radius: 50%;\n",
              "      cursor: pointer;\n",
              "      display: none;\n",
              "      fill: #1967D2;\n",
              "      height: 32px;\n",
              "      padding: 0 0 0 0;\n",
              "      width: 32px;\n",
              "    }\n",
              "\n",
              "    .colab-df-convert:hover {\n",
              "      background-color: #E2EBFA;\n",
              "      box-shadow: 0px 1px 2px rgba(60, 64, 67, 0.3), 0px 1px 3px 1px rgba(60, 64, 67, 0.15);\n",
              "      fill: #174EA6;\n",
              "    }\n",
              "\n",
              "    [theme=dark] .colab-df-convert {\n",
              "      background-color: #3B4455;\n",
              "      fill: #D2E3FC;\n",
              "    }\n",
              "\n",
              "    [theme=dark] .colab-df-convert:hover {\n",
              "      background-color: #434B5C;\n",
              "      box-shadow: 0px 1px 3px 1px rgba(0, 0, 0, 0.15);\n",
              "      filter: drop-shadow(0px 1px 2px rgba(0, 0, 0, 0.3));\n",
              "      fill: #FFFFFF;\n",
              "    }\n",
              "  </style>\n",
              "\n",
              "      <script>\n",
              "        const buttonEl =\n",
              "          document.querySelector('#df-ac51d170-463a-4bfe-aa96-6fee8aa5d752 button.colab-df-convert');\n",
              "        buttonEl.style.display =\n",
              "          google.colab.kernel.accessAllowed ? 'block' : 'none';\n",
              "\n",
              "        async function convertToInteractive(key) {\n",
              "          const element = document.querySelector('#df-ac51d170-463a-4bfe-aa96-6fee8aa5d752');\n",
              "          const dataTable =\n",
              "            await google.colab.kernel.invokeFunction('convertToInteractive',\n",
              "                                                     [key], {});\n",
              "          if (!dataTable) return;\n",
              "\n",
              "          const docLinkHtml = 'Like what you see? Visit the ' +\n",
              "            '<a target=\"_blank\" href=https://colab.research.google.com/notebooks/data_table.ipynb>data table notebook</a>'\n",
              "            + ' to learn more about interactive tables.';\n",
              "          element.innerHTML = '';\n",
              "          dataTable['output_type'] = 'display_data';\n",
              "          await google.colab.output.renderOutput(dataTable, element);\n",
              "          const docLink = document.createElement('div');\n",
              "          docLink.innerHTML = docLinkHtml;\n",
              "          element.appendChild(docLink);\n",
              "        }\n",
              "      </script>\n",
              "    </div>\n",
              "  </div>\n",
              "  "
            ]
          },
          "metadata": {},
          "execution_count": 278
        }
      ]
    },
    {
      "cell_type": "code",
      "source": [
        "wnba.duplicated().sum()"
      ],
      "metadata": {
        "id": "3fA3RUZb6zvf",
        "colab": {
          "base_uri": "https://localhost:8080/"
        },
        "outputId": "681ce871-7f4c-494b-8ebe-c61b4dd97bf8"
      },
      "execution_count": null,
      "outputs": [
        {
          "output_type": "execute_result",
          "data": {
            "text/plain": [
              "0"
            ]
          },
          "metadata": {},
          "execution_count": 279
        }
      ]
    },
    {
      "cell_type": "code",
      "source": [
        "wnba['Name'].duplicated().sum()"
      ],
      "metadata": {
        "id": "aNxZQiR38Cad",
        "colab": {
          "base_uri": "https://localhost:8080/"
        },
        "outputId": "33796cb6-d4b5-466f-d931-07ca769253f1"
      },
      "execution_count": null,
      "outputs": [
        {
          "output_type": "execute_result",
          "data": {
            "text/plain": [
              "0"
            ]
          },
          "metadata": {},
          "execution_count": 280
        }
      ]
    },
    {
      "cell_type": "markdown",
      "source": [
        "Random state = 1 means that the numbers generated by this code will remain consistent - after it produces our random sample it will keep producing the same numbers so the codes results are reproducable and this can help us in our sampling / testing / work greatly in other ways."
      ],
      "metadata": {
        "id": "n1kXLTqk_2pH"
      }
    },
    {
      "cell_type": "code",
      "source": [
        "# print(wnba.head())\n",
        "# print(wnba.tail())\n",
        "# wnba.shape\n",
        "print(wnba['Games Played'].describe())\n",
        "parameter = max(wnba['Games Played'])\n",
        "sample = wnba['Games Played'].sample(30, random_state = 1)\n",
        "statistic = max(sample)\n",
        "sampling_error = parameter - statistic"
      ],
      "metadata": {
        "id": "GCQHA2Lm8SSA",
        "colab": {
          "base_uri": "https://localhost:8080/"
        },
        "outputId": "3e268503-7767-47a6-bcf3-5b9113e31ccc"
      },
      "execution_count": null,
      "outputs": [
        {
          "output_type": "stream",
          "name": "stdout",
          "text": [
            "count    143.000000\n",
            "mean      24.356643\n",
            "std        7.104259\n",
            "min        2.000000\n",
            "25%       22.000000\n",
            "50%       27.000000\n",
            "75%       29.000000\n",
            "max       32.000000\n",
            "Name: Games Played, dtype: float64\n"
          ]
        }
      ]
    },
    {
      "cell_type": "markdown",
      "source": [
        "bootstrapping / central limit theroem:\n",
        "\n",
        "The idea behind this code is to perform a simple simulation of the Central Limit Theorem, which states that the distribution of sample means will approximate a normal distribution, given a sufficiently large number of samples, regardless of the shape of the population distribution. By generating a large number of sample means and plotting them, one can observe this principle in action. The resulting plot is often called a sampling distribution of the mean. This technique is useful in inferential statistics when trying to estimate population parameters based on samples."
      ],
      "metadata": {
        "id": "eT4dAOr9Byry"
      }
    },
    {
      "cell_type": "code",
      "source": [
        "sample_means = []\n",
        "population_mean = wnba['PTS'].mean(numeric_only=True)\n",
        "\n",
        "for i in range(100):\n",
        "    sample = wnba['PTS'].sample(10, random_state=i)\n",
        "    sample_means.append(sample.mean(numeric_only=True))"
      ],
      "metadata": {
        "id": "UhF9FbMr-MMw"
      },
      "execution_count": null,
      "outputs": []
    },
    {
      "cell_type": "code",
      "source": [
        "np.mean(sample_means)"
      ],
      "metadata": {
        "id": "orK4FwlMC2IW",
        "colab": {
          "base_uri": "https://localhost:8080/"
        },
        "outputId": "b068f0f6-1881-4ff3-bb56-7a1304719570"
      },
      "execution_count": null,
      "outputs": [
        {
          "output_type": "execute_result",
          "data": {
            "text/plain": [
              "187.805"
            ]
          },
          "metadata": {},
          "execution_count": 283
        }
      ]
    },
    {
      "cell_type": "code",
      "source": [
        "np.mean(population_mean)"
      ],
      "metadata": {
        "id": "_FJOlAqMC59T",
        "colab": {
          "base_uri": "https://localhost:8080/"
        },
        "outputId": "5eada52e-bba5-4f32-878f-fbaf05e1b82a"
      },
      "execution_count": null,
      "outputs": [
        {
          "output_type": "execute_result",
          "data": {
            "text/plain": [
              "201.7902097902098"
            ]
          },
          "metadata": {},
          "execution_count": 284
        }
      ]
    },
    {
      "cell_type": "code",
      "source": [
        "plt.scatter(range(1,101), sample_means)\n",
        "plt.axhline(population_mean, color='purple')\n",
        "plt.show()"
      ],
      "metadata": {
        "id": "ClyB7gM-BxUt",
        "colab": {
          "base_uri": "https://localhost:8080/"
        },
        "outputId": "2b0fdde3-a47a-4ac7-c3f9-f7f3b6e4d52c"
      },
      "execution_count": null,
      "outputs": [
        {
          "output_type": "display_data",
          "data": {
            "text/plain": [
              "<Figure size 640x480 with 1 Axes>"
            ],
            "image/png": "[encoded data removed]"
          },
          "metadata": {}
        }
      ]
    },
    {
      "cell_type": "code",
      "source": [
        "wnba.columns"
      ],
      "metadata": {
        "id": "V97Dp-6MCB0k",
        "colab": {
          "base_uri": "https://localhost:8080/"
        },
        "outputId": "68322e55-9e32-432c-de69-362415b55846"
      },
      "execution_count": null,
      "outputs": [
        {
          "output_type": "execute_result",
          "data": {
            "text/plain": [
              "Index(['Name', 'Team', 'Pos', 'Height', 'Weight', 'BMI', 'Birth_Place',\n",
              "       'Birthdate', 'Age', 'College', 'Experience', 'Games Played', 'MIN',\n",
              "       'FGM', 'FGA', 'FG%', '15:00', '3PA', '3P%', 'FTM', 'FTA', 'FT%', 'OREB',\n",
              "       'DREB', 'REB', 'AST', 'STL', 'BLK', 'TO', 'PTS', 'DD2', 'TD3'],\n",
              "      dtype='object')"
            ]
          },
          "metadata": {},
          "execution_count": 286
        }
      ]
    },
    {
      "cell_type": "code",
      "source": [
        "wnba['Pts_per_game'] = wnba['PTS'] / wnba['Games Played']"
      ],
      "metadata": {
        "id": "R6tYXX5pFqTr"
      },
      "execution_count": null,
      "outputs": []
    },
    {
      "cell_type": "code",
      "source": [
        "wnba['Pts_per_game'].mean(numeric_only=True)"
      ],
      "metadata": {
        "colab": {
          "base_uri": "https://localhost:8080/"
        },
        "id": "HfoX0UAu885s",
        "outputId": "4188a188-879c-465c-adf7-8fe70da7055f"
      },
      "execution_count": null,
      "outputs": [
        {
          "output_type": "execute_result",
          "data": {
            "text/plain": [
              "7.704285467170314"
            ]
          },
          "metadata": {},
          "execution_count": 288
        }
      ]
    },
    {
      "cell_type": "code",
      "source": [
        "gpoints = wnba.loc[wnba['Pos'] == 'G', 'Pts_per_game']\n"
      ],
      "metadata": {
        "id": "RCtshNmkAJAG"
      },
      "execution_count": null,
      "outputs": []
    },
    {
      "cell_type": "code",
      "source": [
        "print(gpoints.sort_values(ascending=False).head())"
      ],
      "metadata": {
        "colab": {
          "base_uri": "https://localhost:8080/"
        },
        "id": "oeANZn_NALA7",
        "outputId": "186c740a-02fc-413c-9b4b-db2bee27b2b0"
      },
      "execution_count": null,
      "outputs": [
        {
          "output_type": "stream",
          "name": "stdout",
          "text": [
            "45     18.800000\n",
            "124    18.166667\n",
            "67     17.233333\n",
            "7      17.000000\n",
            "138    16.103448\n",
            "Name: Pts_per_game, dtype: float64\n"
          ]
        }
      ]
    },
    {
      "cell_type": "code",
      "source": [
        "gpoints.mean(numeric_only=True)"
      ],
      "metadata": {
        "colab": {
          "base_uri": "https://localhost:8080/"
        },
        "id": "EUuFuaLMAe8b",
        "outputId": "523d5de9-156f-4e5c-d35b-47183de0b0b6"
      },
      "execution_count": null,
      "outputs": [
        {
          "output_type": "execute_result",
          "data": {
            "text/plain": [
              "8.183390625861266"
            ]
          },
          "metadata": {},
          "execution_count": 291
        }
      ]
    },
    {
      "cell_type": "code",
      "source": [
        "positions = ['G', 'F', 'C', 'G/F', 'F/C']\n",
        "posp = {}\n",
        "\n",
        "grouped = wnba.groupby('Pos')\n",
        "\n",
        "for p in positions:\n",
        "    if p in grouped.groups:  # check if the position exists in the groups\n",
        "        df_position = grouped.get_group(p)\n",
        "        stats = df_position['Pts_per_game'].describe()\n",
        "        posp[p] = stats\n",
        "\n",
        "# posp is a dictionary where each key is a position and the corresponding value \n",
        "# is a Series with statistics for 'Pts_per_game' for that position.\n",
        "\n",
        "# For example, to access the stats for the position 'G', you can do:\n",
        "print(posp['C'])\n"
      ],
      "metadata": {
        "colab": {
          "base_uri": "https://localhost:8080/"
        },
        "id": "C0nx6KDEDuvg",
        "outputId": "fd18e8f7-2662-4e84-ab84-5f41dde36cae"
      },
      "execution_count": null,
      "outputs": [
        {
          "output_type": "stream",
          "name": "stdout",
          "text": [
            "count    25.000000\n",
            "mean      6.506023\n",
            "std       5.614580\n",
            "min       0.333333\n",
            "25%       2.076923\n",
            "50%       5.300000\n",
            "75%       8.466667\n",
            "max      20.954545\n",
            "Name: Pts_per_game, dtype: float64\n"
          ]
        }
      ]
    },
    {
      "cell_type": "code",
      "source": [
        "postteam = wnba.groupby(['Pos', 'Team'])\n",
        "postteam.size()"
      ],
      "metadata": {
        "colab": {
          "base_uri": "https://localhost:8080/"
        },
        "id": "EUPhe8UkEcQx",
        "outputId": "e4a27383-fc4d-4aad-812d-d3af6050accc"
      },
      "execution_count": null,
      "outputs": [
        {
          "output_type": "execute_result",
          "data": {
            "text/plain": [
              "Pos  Team\n",
              "C    ATL     2\n",
              "     CHI     1\n",
              "     CON     1\n",
              "     DAL     2\n",
              "     IND     2\n",
              "     LA      2\n",
              "     MIN     2\n",
              "     NY      3\n",
              "     PHO     2\n",
              "     SAN     4\n",
              "     SEA     2\n",
              "     WAS     2\n",
              "F    ATL     1\n",
              "     CHI     6\n",
              "     CON     4\n",
              "     DAL     5\n",
              "     IND     3\n",
              "     LA      2\n",
              "     MIN     3\n",
              "     PHO     2\n",
              "     SAN     2\n",
              "     SEA     3\n",
              "     WAS     2\n",
              "F/C  ATL     2\n",
              "     CON     2\n",
              "     LA      2\n",
              "     MIN     1\n",
              "     NY      2\n",
              "     PHO     1\n",
              "     SEA     2\n",
              "G    ATL     5\n",
              "     CHI     4\n",
              "     CON     4\n",
              "     DAL     4\n",
              "     IND     6\n",
              "     LA      4\n",
              "     MIN     4\n",
              "     NY      6\n",
              "     PHO     6\n",
              "     SAN     5\n",
              "     SEA     5\n",
              "     WAS     7\n",
              "G/F  ATL     1\n",
              "     CHI     1\n",
              "     CON     1\n",
              "     DAL     1\n",
              "     IND     1\n",
              "     LA      2\n",
              "     MIN     1\n",
              "     NY      1\n",
              "     PHO     1\n",
              "     SAN     2\n",
              "     WAS     1\n",
              "dtype: int64"
            ]
          },
          "metadata": {},
          "execution_count": 293
        }
      ]
    },
    {
      "cell_type": "code",
      "source": [
        "postteamppg = wnba.groupby(['Pos', 'Team'])['Pts_per_game'].mean(numeric_only=True)\n",
        "print(postteamppg.head())"
      ],
      "metadata": {
        "colab": {
          "base_uri": "https://localhost:8080/"
        },
        "id": "Hl_SfnZzEvBy",
        "outputId": "b8502143-bf9a-4846-8241-adb9769bf695"
      },
      "execution_count": null,
      "outputs": [
        {
          "output_type": "stream",
          "name": "stdout",
          "text": [
            "Pos  Team\n",
            "C    ATL      6.422989\n",
            "     CHI     14.214286\n",
            "     CON      5.950000\n",
            "     DAL      2.479167\n",
            "     IND      4.050000\n",
            "Name: Pts_per_game, dtype: float64\n"
          ]
        }
      ]
    },
    {
      "cell_type": "code",
      "source": [
        "\n",
        "# Stratifying the data in five strata\n",
        "stratum_G = wnba[wnba.Pos == 'G']\n",
        "stratum_F = wnba[wnba.Pos == 'F']\n",
        "stratum_C = wnba[wnba.Pos == 'C']\n",
        "stratum_GF = wnba[wnba.Pos == 'G/F']\n",
        "stratum_FC = wnba[wnba.Pos == 'F/C']\n"
      ],
      "metadata": {
        "id": "edTxobzTHXLJ"
      },
      "execution_count": null,
      "outputs": []
    },
    {
      "cell_type": "code",
      "source": [
        "points_per_position = {}\n",
        "for stratum, position in [(stratum_G, 'G'), (stratum_F, 'F'), (stratum_C, 'C'),\n",
        "                (stratum_GF, 'G/F'), (stratum_FC, 'F/C')]:\n",
        "    \n",
        "    sample = stratum['Pts_per_game'].sample(10, random_state = 0) # simple random sampling on each stratum\n",
        "    points_per_position[position] = sample.mean(numeric_only=True)\n",
        "    \n",
        "position_most_points = max(points_per_position, key = points_per_position.get)"
      ],
      "metadata": {
        "id": "b22rv8OIHeF1"
      },
      "execution_count": null,
      "outputs": []
    },
    {
      "cell_type": "code",
      "source": [
        "print(points_per_position)"
      ],
      "metadata": {
        "id": "Jbd2f84LHxAb",
        "colab": {
          "base_uri": "https://localhost:8080/"
        },
        "outputId": "282ac7d3-b12a-4eb0-fb83-b015ef8e6258"
      },
      "execution_count": null,
      "outputs": [
        {
          "output_type": "stream",
          "name": "stdout",
          "text": [
            "{'G': 7.092926195632343, 'F': 8.702175158545568, 'C': 9.833761394334251, 'G/F': 6.817264935760487, 'F/C': 9.059118773946361}\n"
          ]
        }
      ]
    },
    {
      "cell_type": "code",
      "source": [
        "print(position_most_points)"
      ],
      "metadata": {
        "colab": {
          "base_uri": "https://localhost:8080/"
        },
        "id": "l-YPDlUd-FWa",
        "outputId": "433912e9-45d1-4b5f-c6fd-8d517169729f"
      },
      "execution_count": null,
      "outputs": [
        {
          "output_type": "stream",
          "name": "stdout",
          "text": [
            "C\n"
          ]
        }
      ]
    },
    {
      "cell_type": "code",
      "source": [
        "pd.DataFrame.from_dict(points_per_position, orient='index')"
      ],
      "metadata": {
        "id": "1dVZK1y0E9Eg",
        "colab": {
          "base_uri": "https://localhost:8080/"
        },
        "outputId": "fbfc165e-03d6-4259-d3a4-40f42217fedb"
      },
      "execution_count": null,
      "outputs": [
        {
          "output_type": "execute_result",
          "data": {
            "text/plain": [
              "            0\n",
              "G    7.092926\n",
              "F    8.702175\n",
              "C    9.833761\n",
              "G/F  6.817265\n",
              "F/C  9.059119"
            ],
            "text/html": [
              "\n",
              "  <div id=\"df-cbb05372-ea8f-4d10-be2f-d9558d712f38\">\n",
              "    <div class=\"colab-df-container\">\n",
              "      <div>\n",
              "<style scoped>\n",
              "    .dataframe tbody tr th:only-of-type {\n",
              "        vertical-align: middle;\n",
              "    }\n",
              "\n",
              "    .dataframe tbody tr th {\n",
              "        vertical-align: top;\n",
              "    }\n",
              "\n",
              "    .dataframe thead th {\n",
              "        text-align: right;\n",
              "    }\n",
              "</style>\n",
              "<table border=\"1\" class=\"dataframe\">\n",
              "  <thead>\n",
              "    <tr style=\"text-align: right;\">\n",
              "      <th></th>\n",
              "      <th>0</th>\n",
              "    </tr>\n",
              "  </thead>\n",
              "  <tbody>\n",
              "    <tr>\n",
              "      <th>G</th>\n",
              "      <td>7.092926</td>\n",
              "    </tr>\n",
              "    <tr>\n",
              "      <th>F</th>\n",
              "      <td>8.702175</td>\n",
              "    </tr>\n",
              "    <tr>\n",
              "      <th>C</th>\n",
              "      <td>9.833761</td>\n",
              "    </tr>\n",
              "    <tr>\n",
              "      <th>G/F</th>\n",
              "      <td>6.817265</td>\n",
              "    </tr>\n",
              "    <tr>\n",
              "      <th>F/C</th>\n",
              "      <td>9.059119</td>\n",
              "    </tr>\n",
              "  </tbody>\n",
              "</table>\n",
              "</div>\n",
              "      <button class=\"colab-df-convert\" onclick=\"convertToInteractive('df-cbb05372-ea8f-4d10-be2f-d9558d712f38')\"\n",
              "              title=\"Convert this dataframe to an interactive table.\"\n",
              "              style=\"display:none;\">\n",
              "        \n",
              "  <svg xmlns=\"http://www.w3.org/2000/svg\" height=\"24px\"viewBox=\"0 0 24 24\"\n",
              "       width=\"24px\">\n",
              "    <path d=\"M0 0h24v24H0V0z\" fill=\"none\"/>\n",
              "    <path d=\"M18.56 5.44l.94 2.06.94-2.06 2.06-.94-2.06-.94-.94-2.06-.94 2.06-2.06.94zm-11 1L8.5 8.5l.94-2.06 2.06-.94-2.06-.94L8.5 2.5l-.94 2.06-2.06.94zm10 10l.94 2.06.94-2.06 2.06-.94-2.06-.94-.94-2.06-.94 2.06-2.06.94z\"/><path d=\"M17.41 7.96l-1.37-1.37c-.4-.4-.92-.59-1.43-.59-.52 0-1.04.2-1.43.59L10.3 9.45l-7.72 7.72c-.78.78-.78 2.05 0 2.83L4 21.41c.39.39.9.59 1.41.59.51 0 1.02-.2 1.41-.59l7.78-7.78 2.81-2.81c.8-.78.8-2.07 0-2.86zM5.41 20L4 18.59l7.72-7.72 1.47 1.35L5.41 20z\"/>\n",
              "  </svg>\n",
              "      </button>\n",
              "      \n",
              "  <style>\n",
              "    .colab-df-container {\n",
              "      display:flex;\n",
              "      flex-wrap:wrap;\n",
              "      gap: 12px;\n",
              "    }\n",
              "\n",
              "    .colab-df-convert {\n",
              "      background-color: #E8F0FE;\n",
              "      border: none;\n",
              "      border-radius: 50%;\n",
              "      cursor: pointer;\n",
              "      display: none;\n",
              "      fill: #1967D2;\n",
              "      height: 32px;\n",
              "      padding: 0 0 0 0;\n",
              "      width: 32px;\n",
              "    }\n",
              "\n",
              "    .colab-df-convert:hover {\n",
              "      background-color: #E2EBFA;\n",
              "      box-shadow: 0px 1px 2px rgba(60, 64, 67, 0.3), 0px 1px 3px 1px rgba(60, 64, 67, 0.15);\n",
              "      fill: #174EA6;\n",
              "    }\n",
              "\n",
              "    [theme=dark] .colab-df-convert {\n",
              "      background-color: #3B4455;\n",
              "      fill: #D2E3FC;\n",
              "    }\n",
              "\n",
              "    [theme=dark] .colab-df-convert:hover {\n",
              "      background-color: #434B5C;\n",
              "      box-shadow: 0px 1px 3px 1px rgba(0, 0, 0, 0.15);\n",
              "      filter: drop-shadow(0px 1px 2px rgba(0, 0, 0, 0.3));\n",
              "      fill: #FFFFFF;\n",
              "    }\n",
              "  </style>\n",
              "\n",
              "      <script>\n",
              "        const buttonEl =\n",
              "          document.querySelector('#df-cbb05372-ea8f-4d10-be2f-d9558d712f38 button.colab-df-convert');\n",
              "        buttonEl.style.display =\n",
              "          google.colab.kernel.accessAllowed ? 'block' : 'none';\n",
              "\n",
              "        async function convertToInteractive(key) {\n",
              "          const element = document.querySelector('#df-cbb05372-ea8f-4d10-be2f-d9558d712f38');\n",
              "          const dataTable =\n",
              "            await google.colab.kernel.invokeFunction('convertToInteractive',\n",
              "                                                     [key], {});\n",
              "          if (!dataTable) return;\n",
              "\n",
              "          const docLinkHtml = 'Like what you see? Visit the ' +\n",
              "            '<a target=\"_blank\" href=https://colab.research.google.com/notebooks/data_table.ipynb>data table notebook</a>'\n",
              "            + ' to learn more about interactive tables.';\n",
              "          element.innerHTML = '';\n",
              "          dataTable['output_type'] = 'display_data';\n",
              "          await google.colab.output.renderOutput(dataTable, element);\n",
              "          const docLink = document.createElement('div');\n",
              "          docLink.innerHTML = docLinkHtml;\n",
              "          element.appendChild(docLink);\n",
              "        }\n",
              "      </script>\n",
              "    </div>\n",
              "  </div>\n",
              "  "
            ]
          },
          "metadata": {},
          "execution_count": 299
        }
      ]
    },
    {
      "cell_type": "code",
      "source": [
        "style.use('dark_background')\n",
        "# Separate keys and values\n",
        "positions = list(points_per_position.keys())\n",
        "points = list(points_per_position.values())\n",
        "\n",
        "# Create bar plot\n",
        "plt.figure(figsize=(10,6))\n",
        "plt.barh(positions, points, color='orange')\n",
        "\n",
        "plt.xlabel('Positions')\n",
        "plt.ylabel('Points')\n",
        "\n",
        "# Display plot\n",
        "plt.show()\n"
      ],
      "metadata": {
        "id": "nm2DEOcwI6qu",
        "colab": {
          "base_uri": "https://localhost:8080/",
          "height": 542
        },
        "outputId": "fc60dc2b-6eb0-43a0-d832-63369cbb51ae"
      },
      "execution_count": null,
      "outputs": [
        {
          "output_type": "display_data",
          "data": {
            "text/plain": [
              "<Figure size 1000x600 with 1 Axes>"
            ],
            "image/png": "[encoded data removed]"
          },
          "metadata": {}
        }
      ]
    },
    {
      "cell_type": "markdown",
      "source": [
        "the output is in intervals, bin = n, splits our sample n times. "
      ],
      "metadata": {
        "id": "7OXlb19USJP2"
      }
    },
    {
      "cell_type": "code",
      "source": [
        "print(wnba['Games Played'].value_counts(bins = 3, normalize = True) * 100)"
      ],
      "metadata": {
        "id": "yUiguzvrRYY5",
        "colab": {
          "base_uri": "https://localhost:8080/"
        },
        "outputId": "2d8f7091-051d-4051-ca35-b19bb30af4b0"
      },
      "execution_count": null,
      "outputs": [
        {
          "output_type": "stream",
          "name": "stdout",
          "text": [
            "(22.0, 32.0]     72.727273\n",
            "(12.0, 22.0]     18.181818\n",
            "(1.969, 12.0]     9.090909\n",
            "Name: Games Played, dtype: float64\n"
          ]
        }
      ]
    },
    {
      "cell_type": "code",
      "source": [
        "under_12 = wnba[wnba['Games Played'] <= 12]\n",
        "btw_13_22 = wnba[(wnba['Games Played'] > 12) & (wnba['Games Played'] <= 22)]\n",
        "over_22 = wnba[wnba['Games Played'] > 22]\n",
        "\n",
        "print(under_12.shape)\n",
        "print(over_22.shape)"
      ],
      "metadata": {
        "colab": {
          "base_uri": "https://localhost:8080/"
        },
        "id": "pUwCYaG-rvA0",
        "outputId": "90ec2547-d9db-4d94-c5fe-45462a091cc2"
      },
      "execution_count": null,
      "outputs": [
        {
          "output_type": "stream",
          "name": "stdout",
          "text": [
            "(13, 33)\n",
            "(104, 33)\n"
          ]
        }
      ]
    },
    {
      "cell_type": "markdown",
      "source": [
        "The sample grouping was determined by proportion to the overall sample size, recall the bin distribution for games played earlier."
      ],
      "metadata": {
        "id": "CQZSS34L86Hv"
      }
    },
    {
      "cell_type": "code",
      "source": [
        "under_12 = wnba[wnba['Games Played'] <= 12]\n",
        "btw_13_22 = wnba[(wnba['Games Played'] > 12) & (wnba['Games Played'] <= 22)]\n",
        "over_22 = wnba[wnba['Games Played'] > 22]\n",
        "\n",
        "# print(under_12.shape)\n",
        "# print(btwn_13_22.shape)\n",
        "# print(over_22.shape)\n",
        "\n",
        "\n",
        "sample_under_12_means = []\n",
        "sample_btw_13_22_means = []\n",
        "sample_over_22_means = []\n",
        "\n",
        "proportional_sampling_means = []\n",
        "\n",
        "\n",
        "for i in range(100):\n",
        "    sample_under_12 = under_12['PTS'].sample(1, random_state=i)\n",
        "    sample_under_12_means.append(sample_under_12.mean(numeric_only=True))\n",
        "    \n",
        "    sample_btw_13_22 = btw_13_22['PTS'].sample(2, random_state=i)\n",
        "    sample_btw_13_22_means.append(sample_btw_13_22.mean(numeric_only=True))\n",
        "    \n",
        "    sample_over_22 = over_22['PTS'].sample(7, random_state=i)\n",
        "    sample_over_22_means.append(sample_over_22.mean(numeric_only=True))\n",
        "\n",
        "    final_sample = pd.concat([sample_under_12, sample_btw_13_22, sample_over_22])\n",
        "    proportional_sampling_means.append(final_sample.mean(numeric_only=True))\n"
      ],
      "metadata": {
        "id": "MsMW6OYav2Z0"
      },
      "execution_count": null,
      "outputs": []
    },
    {
      "cell_type": "code",
      "source": [
        "df = pd.concat([sample_under_12, sample_btw_13_22, sample_over_22], axis=1)\n",
        "df.columns = ['Under 12', 'Between 13 and 22', 'Over 22']\n",
        "df"
      ],
      "metadata": {
        "colab": {
          "base_uri": "https://localhost:8080/",
          "height": 381
        },
        "id": "RhDMI7NRwYul",
        "outputId": "33703356-d7ec-4864-991a-f33cfa6182aa"
      },
      "execution_count": null,
      "outputs": [
        {
          "output_type": "execute_result",
          "data": {
            "text/plain": [
              "     Under 12  Between 13 and 22  Over 22\n",
              "0        93.0                NaN      NaN\n",
              "119       NaN               96.0      NaN\n",
              "54        NaN               13.0      NaN\n",
              "76        NaN                NaN    411.0\n",
              "60        NaN                NaN    200.0\n",
              "27        NaN                NaN    228.0\n",
              "58        NaN                NaN    364.0\n",
              "107       NaN                NaN     96.0\n",
              "10        NaN                NaN    244.0\n",
              "135       NaN                NaN    217.0"
            ],
            "text/html": [
              "\n",
              "  <div id=\"df-250a8650-e836-45fe-b31f-cb1193e0a6ac\">\n",
              "    <div class=\"colab-df-container\">\n",
              "      <div>\n",
              "<style scoped>\n",
              "    .dataframe tbody tr th:only-of-type {\n",
              "        vertical-align: middle;\n",
              "    }\n",
              "\n",
              "    .dataframe tbody tr th {\n",
              "        vertical-align: top;\n",
              "    }\n",
              "\n",
              "    .dataframe thead th {\n",
              "        text-align: right;\n",
              "    }\n",
              "</style>\n",
              "<table border=\"1\" class=\"dataframe\">\n",
              "  <thead>\n",
              "    <tr style=\"text-align: right;\">\n",
              "      <th></th>\n",
              "      <th>Under 12</th>\n",
              "      <th>Between 13 and 22</th>\n",
              "      <th>Over 22</th>\n",
              "    </tr>\n",
              "  </thead>\n",
              "  <tbody>\n",
              "    <tr>\n",
              "      <th>0</th>\n",
              "      <td>93.0</td>\n",
              "      <td>NaN</td>\n",
              "      <td>NaN</td>\n",
              "    </tr>\n",
              "    <tr>\n",
              "      <th>119</th>\n",
              "      <td>NaN</td>\n",
              "      <td>96.0</td>\n",
              "      <td>NaN</td>\n",
              "    </tr>\n",
              "    <tr>\n",
              "      <th>54</th>\n",
              "      <td>NaN</td>\n",
              "      <td>13.0</td>\n",
              "      <td>NaN</td>\n",
              "    </tr>\n",
              "    <tr>\n",
              "      <th>76</th>\n",
              "      <td>NaN</td>\n",
              "      <td>NaN</td>\n",
              "      <td>411.0</td>\n",
              "    </tr>\n",
              "    <tr>\n",
              "      <th>60</th>\n",
              "      <td>NaN</td>\n",
              "      <td>NaN</td>\n",
              "      <td>200.0</td>\n",
              "    </tr>\n",
              "    <tr>\n",
              "      <th>27</th>\n",
              "      <td>NaN</td>\n",
              "      <td>NaN</td>\n",
              "      <td>228.0</td>\n",
              "    </tr>\n",
              "    <tr>\n",
              "      <th>58</th>\n",
              "      <td>NaN</td>\n",
              "      <td>NaN</td>\n",
              "      <td>364.0</td>\n",
              "    </tr>\n",
              "    <tr>\n",
              "      <th>107</th>\n",
              "      <td>NaN</td>\n",
              "      <td>NaN</td>\n",
              "      <td>96.0</td>\n",
              "    </tr>\n",
              "    <tr>\n",
              "      <th>10</th>\n",
              "      <td>NaN</td>\n",
              "      <td>NaN</td>\n",
              "      <td>244.0</td>\n",
              "    </tr>\n",
              "    <tr>\n",
              "      <th>135</th>\n",
              "      <td>NaN</td>\n",
              "      <td>NaN</td>\n",
              "      <td>217.0</td>\n",
              "    </tr>\n",
              "  </tbody>\n",
              "</table>\n",
              "</div>\n",
              "      <button class=\"colab-df-convert\" onclick=\"convertToInteractive('df-250a8650-e836-45fe-b31f-cb1193e0a6ac')\"\n",
              "              title=\"Convert this dataframe to an interactive table.\"\n",
              "              style=\"display:none;\">\n",
              "        \n",
              "  <svg xmlns=\"http://www.w3.org/2000/svg\" height=\"24px\"viewBox=\"0 0 24 24\"\n",
              "       width=\"24px\">\n",
              "    <path d=\"M0 0h24v24H0V0z\" fill=\"none\"/>\n",
              "    <path d=\"M18.56 5.44l.94 2.06.94-2.06 2.06-.94-2.06-.94-.94-2.06-.94 2.06-2.06.94zm-11 1L8.5 8.5l.94-2.06 2.06-.94-2.06-.94L8.5 2.5l-.94 2.06-2.06.94zm10 10l.94 2.06.94-2.06 2.06-.94-2.06-.94-.94-2.06-.94 2.06-2.06.94z\"/><path d=\"M17.41 7.96l-1.37-1.37c-.4-.4-.92-.59-1.43-.59-.52 0-1.04.2-1.43.59L10.3 9.45l-7.72 7.72c-.78.78-.78 2.05 0 2.83L4 21.41c.39.39.9.59 1.41.59.51 0 1.02-.2 1.41-.59l7.78-7.78 2.81-2.81c.8-.78.8-2.07 0-2.86zM5.41 20L4 18.59l7.72-7.72 1.47 1.35L5.41 20z\"/>\n",
              "  </svg>\n",
              "      </button>\n",
              "      \n",
              "  <style>\n",
              "    .colab-df-container {\n",
              "      display:flex;\n",
              "      flex-wrap:wrap;\n",
              "      gap: 12px;\n",
              "    }\n",
              "\n",
              "    .colab-df-convert {\n",
              "      background-color: #E8F0FE;\n",
              "      border: none;\n",
              "      border-radius: 50%;\n",
              "      cursor: pointer;\n",
              "      display: none;\n",
              "      fill: #1967D2;\n",
              "      height: 32px;\n",
              "      padding: 0 0 0 0;\n",
              "      width: 32px;\n",
              "    }\n",
              "\n",
              "    .colab-df-convert:hover {\n",
              "      background-color: #E2EBFA;\n",
              "      box-shadow: 0px 1px 2px rgba(60, 64, 67, 0.3), 0px 1px 3px 1px rgba(60, 64, 67, 0.15);\n",
              "      fill: #174EA6;\n",
              "    }\n",
              "\n",
              "    [theme=dark] .colab-df-convert {\n",
              "      background-color: #3B4455;\n",
              "      fill: #D2E3FC;\n",
              "    }\n",
              "\n",
              "    [theme=dark] .colab-df-convert:hover {\n",
              "      background-color: #434B5C;\n",
              "      box-shadow: 0px 1px 3px 1px rgba(0, 0, 0, 0.15);\n",
              "      filter: drop-shadow(0px 1px 2px rgba(0, 0, 0, 0.3));\n",
              "      fill: #FFFFFF;\n",
              "    }\n",
              "  </style>\n",
              "\n",
              "      <script>\n",
              "        const buttonEl =\n",
              "          document.querySelector('#df-250a8650-e836-45fe-b31f-cb1193e0a6ac button.colab-df-convert');\n",
              "        buttonEl.style.display =\n",
              "          google.colab.kernel.accessAllowed ? 'block' : 'none';\n",
              "\n",
              "        async function convertToInteractive(key) {\n",
              "          const element = document.querySelector('#df-250a8650-e836-45fe-b31f-cb1193e0a6ac');\n",
              "          const dataTable =\n",
              "            await google.colab.kernel.invokeFunction('convertToInteractive',\n",
              "                                                     [key], {});\n",
              "          if (!dataTable) return;\n",
              "\n",
              "          const docLinkHtml = 'Like what you see? Visit the ' +\n",
              "            '<a target=\"_blank\" href=https://colab.research.google.com/notebooks/data_table.ipynb>data table notebook</a>'\n",
              "            + ' to learn more about interactive tables.';\n",
              "          element.innerHTML = '';\n",
              "          dataTable['output_type'] = 'display_data';\n",
              "          await google.colab.output.renderOutput(dataTable, element);\n",
              "          const docLink = document.createElement('div');\n",
              "          docLink.innerHTML = docLinkHtml;\n",
              "          element.appendChild(docLink);\n",
              "        }\n",
              "      </script>\n",
              "    </div>\n",
              "  </div>\n",
              "  "
            ]
          },
          "metadata": {},
          "execution_count": 304
        }
      ]
    },
    {
      "cell_type": "code",
      "source": [
        "print(sample_under_12.mean(numeric_only=True))\n",
        "print(sample_btw_13_22.mean(numeric_only=True))\n",
        "print(sample_over_22.mean(numeric_only=True))"
      ],
      "metadata": {
        "colab": {
          "base_uri": "https://localhost:8080/"
        },
        "id": "h-ZOO0Ss6cQa",
        "outputId": "9bbac5e9-135e-4e0a-b92a-ea4757921ab8"
      },
      "execution_count": null,
      "outputs": [
        {
          "output_type": "stream",
          "name": "stdout",
          "text": [
            "93.0\n",
            "54.5\n",
            "251.42857142857142\n"
          ]
        }
      ]
    },
    {
      "cell_type": "code",
      "source": [
        "print(proportional_sampling_means)"
      ],
      "metadata": {
        "colab": {
          "base_uri": "https://localhost:8080/"
        },
        "id": "RqB8QGEb6Suo",
        "outputId": "c945c8b9-82af-42fe-d0e0-70341172ca5d"
      },
      "execution_count": null,
      "outputs": [
        {
          "output_type": "stream",
          "name": "stdout",
          "text": [
            "[185.9, 163.6, 176.0, 305.1, 241.1, 200.1, 272.5, 170.5, 190.5, 138.4, 165.7, 214.9, 130.0, 173.6, 195.0, 148.5, 192.6, 176.5, 267.2, 208.9, 153.6, 176.3, 206.3, 118.4, 268.3, 197.1, 154.7, 294.4, 160.9, 160.8, 203.4, 188.8, 274.9, 201.7, 275.3, 235.1, 141.2, 145.5, 222.7, 187.0, 231.3, 202.0, 230.2, 289.7, 249.1, 120.4, 222.7, 225.8, 217.9, 232.7, 176.0, 197.7, 177.6, 208.8, 144.8, 279.5, 330.3, 169.3, 123.2, 172.7, 169.7, 259.9, 191.9, 239.1, 177.3, 264.2, 151.9, 176.4, 180.5, 189.0, 227.6, 225.5, 161.5, 148.8, 208.7, 173.1, 200.1, 219.7, 260.3, 169.2, 159.0, 216.7, 204.3, 245.0, 234.4, 216.1, 196.9, 201.0, 191.8, 186.7, 202.6, 155.7, 182.5, 162.6, 192.5, 203.7, 230.2, 207.1, 157.4, 196.2]\n"
          ]
        }
      ]
    },
    {
      "cell_type": "code",
      "source": [
        "np.mean(wnba['PTS'])"
      ],
      "metadata": {
        "colab": {
          "base_uri": "https://localhost:8080/"
        },
        "id": "MllSo4L58HUM",
        "outputId": "2f25a5d3-0820-4499-caa4-204a9cf88021"
      },
      "execution_count": null,
      "outputs": [
        {
          "output_type": "execute_result",
          "data": {
            "text/plain": [
              "201.7902097902098"
            ]
          },
          "metadata": {},
          "execution_count": 307
        }
      ]
    },
    {
      "cell_type": "code",
      "source": [
        "print(len(range(101)))\n",
        "print(len(proportional_sampling_means))\n"
      ],
      "metadata": {
        "colab": {
          "base_uri": "https://localhost:8080/"
        },
        "id": "Nk-ll92L_RcJ",
        "outputId": "09fcd2fd-6cd7-4e51-f357-3ecc5f6b7286"
      },
      "execution_count": null,
      "outputs": [
        {
          "output_type": "stream",
          "name": "stdout",
          "text": [
            "101\n",
            "100\n"
          ]
        }
      ]
    },
    {
      "cell_type": "markdown",
      "source": [
        "Even the proportionate sampling deviates significantly from the mean. This is indicative that our criteria has room for improvement. Let's check the metrics for other variables to find stronger/tighter correlations.\n",
        "\n",
        "Minutes played might be more important than games played..."
      ],
      "metadata": {
        "id": "jNq9Ob5eCGMA"
      }
    },
    {
      "cell_type": "code",
      "source": [
        "plt.scatter(range(100), proportional_sampling_means)\n",
        "plt.axhline(wnba['PTS'].mean(numeric_only=True))\n",
        "plt.title('Proportional Sampling of Games')\n",
        "plt.show()\n",
        "\n",
        "plt.scatter(range(100), sample_under_12_means)\n",
        "plt.axhline(sample_under_12.mean(numeric_only=True))\n",
        "plt.title('Under_12_Games')\n",
        "plt.show()\n",
        "\n",
        "plt.scatter(range(100), sample_over_22_means)\n",
        "plt.axhline(sample_over_22.mean(numeric_only=True))\n",
        "plt.title('Over_22_Games')\n",
        "plt.show()"
      ],
      "metadata": {
        "colab": {
          "base_uri": "https://localhost:8080/",
          "height": 1000
        },
        "id": "YoeF-Knv9slk",
        "outputId": "2f27dbd3-8488-4813-91cf-6db82e329758"
      },
      "execution_count": null,
      "outputs": [
        {
          "output_type": "display_data",
          "data": {
            "text/plain": [
              "<Figure size 640x480 with 1 Axes>"
            ],
            "image/png": "[encoded data removed]"
          },
          "metadata": {}
        },
        {
          "output_type": "display_data",
          "data": {
            "text/plain": [
              "<Figure size 640x480 with 1 Axes>"
            ],
            "image/png": "[encoded data removed]"
          },
          "metadata": {}
        },
        {
          "output_type": "display_data",
          "data": {
            "text/plain": [
              "<Figure size 640x480 with 1 Axes>"
            ],
            "image/png": "[encoded data removed]"
          },
          "metadata": {}
        }
      ]
    },
    {
      "cell_type": "code",
      "source": [
        "print(wnba['MIN'].value_counts(bins = 3, normalize = True))"
      ],
      "metadata": {
        "colab": {
          "base_uri": "https://localhost:8080/"
        },
        "id": "cTsorwJMCkl9",
        "outputId": "c2649e35-1c29-40bc-fb74-2799eb7f060a"
      },
      "execution_count": null,
      "outputs": [
        {
          "output_type": "stream",
          "name": "stdout",
          "text": [
            "(347.333, 682.667]    0.349650\n",
            "(10.993, 347.333]     0.335664\n",
            "(682.667, 1018.0]     0.314685\n",
            "Name: MIN, dtype: float64\n"
          ]
        }
      ]
    },
    {
      "cell_type": "code",
      "source": [
        "wnba.columns"
      ],
      "metadata": {
        "colab": {
          "base_uri": "https://localhost:8080/"
        },
        "id": "cqUWGF3NDJBL",
        "outputId": "18805b17-ed44-46f7-9372-20e4b0ffe731"
      },
      "execution_count": null,
      "outputs": [
        {
          "output_type": "execute_result",
          "data": {
            "text/plain": [
              "Index(['Name', 'Team', 'Pos', 'Height', 'Weight', 'BMI', 'Birth_Place',\n",
              "       'Birthdate', 'Age', 'College', 'Experience', 'Games Played', 'MIN',\n",
              "       'FGM', 'FGA', 'FG%', '15:00', '3PA', '3P%', 'FTM', 'FTA', 'FT%', 'OREB',\n",
              "       'DREB', 'REB', 'AST', 'STL', 'BLK', 'TO', 'PTS', 'DD2', 'TD3',\n",
              "       'Pts_per_game'],\n",
              "      dtype='object')"
            ]
          },
          "metadata": {},
          "execution_count": 311
        }
      ]
    },
    {
      "cell_type": "code",
      "source": [
        "under_12 = wnba[wnba['Games Played'] <= 12]\n",
        "btw_13_22 = wnba[(wnba['Games Played'] > 12) & (wnba['Games Played'] <= 22)]\n",
        "over_22 = wnba[wnba['Games Played'] > 22]\n",
        "\n",
        "# print(under_12.shape)\n",
        "# print(btwn_13_22.shape)\n",
        "# print(over_22.shape)\n",
        "\n",
        "\n",
        "sample_under_12_means = []\n",
        "sample_btw_13_22_means = []\n",
        "sample_over_22_means = []\n",
        "\n",
        "proportional_sampling_means = []\n",
        "\n",
        "\n",
        "for i in range(100):\n",
        "    sample_under_12 = under_12['PTS'].sample(1, random_state=i)\n",
        "    sample_under_12_means.append(sample_under_12.mean(numeric_only=True))\n",
        "    \n",
        "    sample_btw_13_22 = btw_13_22['PTS'].sample(2, random_state=i)\n",
        "    sample_btw_13_22_means.append(sample_btw_13_22.mean(numeric_only=True))\n",
        "    \n",
        "    sample_over_22 = over_22['PTS'].sample(7, random_state=i)\n",
        "    sample_over_22_means.append(sample_over_22.mean(numeric_only=True))\n",
        "\n",
        "    final_sample = pd.concat([sample_under_12, sample_btw_13_22, sample_over_22])\n",
        "    proportional_sampling_means.append(final_sample.mean(numeric_only=True))"
      ],
      "metadata": {
        "id": "mKMvvYKSDIeQ"
      },
      "execution_count": null,
      "outputs": []
    },
    {
      "cell_type": "code",
      "source": [
        "print(wnba['Team'].unique())\n",
        "print(pd.Series(wnba['Team'].unique()).sample(4, random_state = 0))"
      ],
      "metadata": {
        "colab": {
          "base_uri": "https://localhost:8080/"
        },
        "id": "OZ2CYdNpEe3-",
        "outputId": "11a19d49-9241-4aaf-cb64-09f97380805e"
      },
      "execution_count": null,
      "outputs": [
        {
          "output_type": "stream",
          "name": "stdout",
          "text": [
            "['DAL' 'LA' 'CON' 'SAN' 'MIN' 'SEA' 'PHO' 'CHI' 'WAS' 'NY' 'ATL' 'IND']\n",
            "6     PHO\n",
            "11    IND\n",
            "4     MIN\n",
            "10    ATL\n",
            "dtype: object\n"
          ]
        }
      ]
    },
    {
      "cell_type": "code",
      "source": [
        "print(wnba['Team'].unique())\n",
        "clusters = pd.Series(wnba['Team'].unique()).sample(4, random_state = 0)\n",
        "\n",
        "sample = pd.DataFrame()\n",
        "\n",
        "for cluster in clusters:\n",
        "    data_collected = wnba[wnba['Team'] == cluster]\n",
        "    sample= pd.concat([data_collected])\n",
        "    print(cluster)\n",
        "\n"
      ],
      "metadata": {
        "colab": {
          "base_uri": "https://localhost:8080/"
        },
        "id": "FW0lrqS0oQSO",
        "outputId": "23eeea8f-e740-474e-aec7-1dbf1946d653"
      },
      "execution_count": null,
      "outputs": [
        {
          "output_type": "stream",
          "name": "stdout",
          "text": [
            "['DAL' 'LA' 'CON' 'SAN' 'MIN' 'SEA' 'PHO' 'CHI' 'WAS' 'NY' 'ATL' 'IND']\n",
            "PHO\n",
            "IND\n",
            "MIN\n",
            "ATL\n"
          ]
        }
      ]
    },
    {
      "cell_type": "code",
      "source": [
        "print(wnba['Team'].unique())\n",
        "clusters = pd.Series(wnba['Team'].unique()).sample(4, random_state = 0)\n",
        "\n",
        "sample = pd.DataFrame()\n",
        "\n",
        "for cluster in clusters:\n",
        "    data_collected = wnba[wnba['Team'] == cluster]\n",
        "    sample = pd.concat([sample, data_collected])\n",
        "    print(cluster)\n",
        "\n"
      ],
      "metadata": {
        "colab": {
          "base_uri": "https://localhost:8080/"
        },
        "id": "qF9gjbz3rVxU",
        "outputId": "b237d6e7-08e2-4f32-ce34-7a574db543cd"
      },
      "execution_count": null,
      "outputs": [
        {
          "output_type": "stream",
          "name": "stdout",
          "text": [
            "['DAL' 'LA' 'CON' 'SAN' 'MIN' 'SEA' 'PHO' 'CHI' 'WAS' 'NY' 'ATL' 'IND']\n",
            "PHO\n",
            "IND\n",
            "MIN\n",
            "ATL\n"
          ]
        }
      ]
    },
    {
      "cell_type": "code",
      "source": [
        "sample.info()"
      ],
      "metadata": {
        "colab": {
          "base_uri": "https://localhost:8080/"
        },
        "id": "IVeei0uMqoaN",
        "outputId": "ae19392b-aba9-4d8e-b570-08231b1b6e77"
      },
      "execution_count": null,
      "outputs": [
        {
          "output_type": "stream",
          "name": "stdout",
          "text": [
            "<class 'pandas.core.frame.DataFrame'>\n",
            "Int64Index: 46 entries, 6 to 138\n",
            "Data columns (total 33 columns):\n",
            " #   Column        Non-Null Count  Dtype  \n",
            "---  ------        --------------  -----  \n",
            " 0   Name          46 non-null     object \n",
            " 1   Team          46 non-null     object \n",
            " 2   Pos           46 non-null     object \n",
            " 3   Height        46 non-null     int64  \n",
            " 4   Weight        46 non-null     float64\n",
            " 5   BMI           46 non-null     float64\n",
            " 6   Birth_Place   46 non-null     object \n",
            " 7   Birthdate     46 non-null     object \n",
            " 8   Age           46 non-null     int64  \n",
            " 9   College       46 non-null     object \n",
            " 10  Experience    46 non-null     object \n",
            " 11  Games Played  46 non-null     int64  \n",
            " 12  MIN           46 non-null     int64  \n",
            " 13  FGM           46 non-null     int64  \n",
            " 14  FGA           46 non-null     int64  \n",
            " 15  FG%           46 non-null     float64\n",
            " 16  15:00         46 non-null     int64  \n",
            " 17  3PA           46 non-null     int64  \n",
            " 18  3P%           46 non-null     float64\n",
            " 19  FTM           46 non-null     int64  \n",
            " 20  FTA           46 non-null     int64  \n",
            " 21  FT%           46 non-null     float64\n",
            " 22  OREB          46 non-null     int64  \n",
            " 23  DREB          46 non-null     int64  \n",
            " 24  REB           46 non-null     int64  \n",
            " 25  AST           46 non-null     int64  \n",
            " 26  STL           46 non-null     int64  \n",
            " 27  BLK           46 non-null     int64  \n",
            " 28  TO            46 non-null     int64  \n",
            " 29  PTS           46 non-null     int64  \n",
            " 30  DD2           46 non-null     int64  \n",
            " 31  TD3           46 non-null     int64  \n",
            " 32  Pts_per_game  46 non-null     float64\n",
            "dtypes: float64(6), int64(20), object(7)\n",
            "memory usage: 12.2+ KB\n"
          ]
        }
      ]
    },
    {
      "cell_type": "markdown",
      "source": [
        "Our cluster is a random seletion of 4 out of 12 possible team values. We use that subset to calculate means and compare the means from the subset to the means from the group. This can help us determine stronger correlations and variance within the dataset. This process can be repeated and even be automated...\n",
        "\n",
        "The data from the 4 randomly selected teams is collected and stored in a new DF ('sample'). From there we calculate the mean values for th values we want to compare to the full dataset, WNBA."
      ],
      "metadata": {
        "id": "CRwvgnyyjYMI"
      }
    },
    {
      "cell_type": "code",
      "source": [
        "clusters = pd.Series(wnba['Team'].unique()).sample(4, random_state = 0)\n",
        "\n",
        "sample = pd.DataFrame()\n",
        "\n",
        "for cluster in clusters:\n",
        "    data_collected = wnba[wnba['Team'] == cluster]\n",
        "    sample = sample.append(data_collected)\n",
        "\n",
        "sampling_error_height = wnba['Height'].mean(numeric_only=True) - sample['Height'].mean(numeric_only=True)\n",
        "sampling_error_age = wnba['Age'].mean(numeric_only=True) - sample['Age'].mean(numeric_only=True)\n",
        "sampling_error_BMI = wnba['BMI'].mean(numeric_only=True) - sample['BMI'].mean(numeric_only=True)\n",
        "sampling_error_points = wnba['PTS'].mean(numeric_only=True) - sample['PTS'].mean(numeric_only=True)"
      ],
      "metadata": {
        "id": "9VxcQ-o_iJaO"
      },
      "execution_count": null,
      "outputs": []
    },
    {
      "cell_type": "code",
      "source": [
        "import pandas as pd"
      ],
      "metadata": {
        "id": "gatLBivHlM8-"
      },
      "execution_count": null,
      "outputs": []
    },
    {
      "cell_type": "markdown",
      "source": [
        "Pandas will be deprecating the append method as it does not utilize arrays and vectors like concat does. Using concat methodoly is far more effecient (especially with larger datasets)"
      ],
      "metadata": {
        "id": "BjJdEePdlyNZ"
      }
    },
    {
      "cell_type": "code",
      "source": [
        "from collections.abc import Sequence\n",
        "clusters = pd.Series(wnba['Team'].unique()).sample(4, random_state = 0)\n",
        "\n",
        "sample = pd.DataFrame()\n",
        "\n",
        "for cluster in clusters:\n",
        "    data_collected = wnba[wnba['Team'] == cluster]\n",
        "    sample = pd.concat([sample, data_collected], axis=0, ignore_index=True, keys='sequence')"
      ],
      "metadata": {
        "id": "KTD5KD7nkd6i"
      },
      "execution_count": null,
      "outputs": []
    },
    {
      "cell_type": "code",
      "source": [
        "sample.head()"
      ],
      "metadata": {
        "id": "BNim0abtlTCN",
        "colab": {
          "base_uri": "https://localhost:8080/",
          "height": 246
        },
        "outputId": "79652a22-6be8-4fe1-d9b7-2eccee2050f3"
      },
      "execution_count": null,
      "outputs": [
        {
          "output_type": "execute_result",
          "data": {
            "text/plain": [
              "              Name Team  Pos  Height  Weight        BMI Birth_Place  \\\n",
              "0    Alexis Prince  PHO    G   188.0    81.0  22.917610          US   \n",
              "1   Angel Robinson  PHO  F/C   198.0    88.0  22.446689          US   \n",
              "2  Brittney Griner  PHO    C   206.0    93.0  21.915355          US   \n",
              "3   Camille Little  PHO    F   188.0    82.0  23.200543          US   \n",
              "4     Cayla George  PHO    C   193.0    87.0  23.356332          AU   \n",
              "\n",
              "          Birthdate   Age         College  ...   DREB    REB   AST   STL  \\\n",
              "0  February 5, 1994  23.0          Baylor  ...   14.0   15.0   5.0   4.0   \n",
              "1   August 30, 1995  21.0   Arizona State  ...   42.0   58.0   8.0   1.0   \n",
              "2  October 18, 1990  26.0          Baylor  ...  129.0  172.0  39.0  13.0   \n",
              "3  January 18, 1985  32.0  North Carolina  ...   71.0  113.0  42.0  28.0   \n",
              "4    April 20, 1987  30.0         Georgia  ...   71.0   81.0  15.0   9.0   \n",
              "\n",
              "    BLK    TO    PTS  DD2  TD3  Pts_per_game  \n",
              "0   3.0   3.0   24.0  0.0  0.0      1.500000  \n",
              "1  11.0  16.0   58.0  0.0  0.0      3.866667  \n",
              "2  54.0  52.0  461.0  6.0  0.0     20.954545  \n",
              "3  13.0  50.0  228.0  0.0  0.0      7.600000  \n",
              "4  11.0  13.0  100.0  1.0  0.0      3.571429  \n",
              "\n",
              "[5 rows x 33 columns]"
            ],
            "text/html": [
              "\n",
              "  <div id=\"df-ecddd66c-b3ce-4f10-ac6c-033dff84ae53\">\n",
              "    <div class=\"colab-df-container\">\n",
              "      <div>\n",
              "<style scoped>\n",
              "    .dataframe tbody tr th:only-of-type {\n",
              "        vertical-align: middle;\n",
              "    }\n",
              "\n",
              "    .dataframe tbody tr th {\n",
              "        vertical-align: top;\n",
              "    }\n",
              "\n",
              "    .dataframe thead th {\n",
              "        text-align: right;\n",
              "    }\n",
              "</style>\n",
              "<table border=\"1\" class=\"dataframe\">\n",
              "  <thead>\n",
              "    <tr style=\"text-align: right;\">\n",
              "      <th></th>\n",
              "      <th>Name</th>\n",
              "      <th>Team</th>\n",
              "      <th>Pos</th>\n",
              "      <th>Height</th>\n",
              "      <th>Weight</th>\n",
              "      <th>BMI</th>\n",
              "      <th>Birth_Place</th>\n",
              "      <th>Birthdate</th>\n",
              "      <th>Age</th>\n",
              "      <th>College</th>\n",
              "      <th>...</th>\n",
              "      <th>DREB</th>\n",
              "      <th>REB</th>\n",
              "      <th>AST</th>\n",
              "      <th>STL</th>\n",
              "      <th>BLK</th>\n",
              "      <th>TO</th>\n",
              "      <th>PTS</th>\n",
              "      <th>DD2</th>\n",
              "      <th>TD3</th>\n",
              "      <th>Pts_per_game</th>\n",
              "    </tr>\n",
              "  </thead>\n",
              "  <tbody>\n",
              "    <tr>\n",
              "      <th>0</th>\n",
              "      <td>Alexis Prince</td>\n",
              "      <td>PHO</td>\n",
              "      <td>G</td>\n",
              "      <td>188.0</td>\n",
              "      <td>81.0</td>\n",
              "      <td>22.917610</td>\n",
              "      <td>US</td>\n",
              "      <td>February 5, 1994</td>\n",
              "      <td>23.0</td>\n",
              "      <td>Baylor</td>\n",
              "      <td>...</td>\n",
              "      <td>14.0</td>\n",
              "      <td>15.0</td>\n",
              "      <td>5.0</td>\n",
              "      <td>4.0</td>\n",
              "      <td>3.0</td>\n",
              "      <td>3.0</td>\n",
              "      <td>24.0</td>\n",
              "      <td>0.0</td>\n",
              "      <td>0.0</td>\n",
              "      <td>1.500000</td>\n",
              "    </tr>\n",
              "    <tr>\n",
              "      <th>1</th>\n",
              "      <td>Angel Robinson</td>\n",
              "      <td>PHO</td>\n",
              "      <td>F/C</td>\n",
              "      <td>198.0</td>\n",
              "      <td>88.0</td>\n",
              "      <td>22.446689</td>\n",
              "      <td>US</td>\n",
              "      <td>August 30, 1995</td>\n",
              "      <td>21.0</td>\n",
              "      <td>Arizona State</td>\n",
              "      <td>...</td>\n",
              "      <td>42.0</td>\n",
              "      <td>58.0</td>\n",
              "      <td>8.0</td>\n",
              "      <td>1.0</td>\n",
              "      <td>11.0</td>\n",
              "      <td>16.0</td>\n",
              "      <td>58.0</td>\n",
              "      <td>0.0</td>\n",
              "      <td>0.0</td>\n",
              "      <td>3.866667</td>\n",
              "    </tr>\n",
              "    <tr>\n",
              "      <th>2</th>\n",
              "      <td>Brittney Griner</td>\n",
              "      <td>PHO</td>\n",
              "      <td>C</td>\n",
              "      <td>206.0</td>\n",
              "      <td>93.0</td>\n",
              "      <td>21.915355</td>\n",
              "      <td>US</td>\n",
              "      <td>October 18, 1990</td>\n",
              "      <td>26.0</td>\n",
              "      <td>Baylor</td>\n",
              "      <td>...</td>\n",
              "      <td>129.0</td>\n",
              "      <td>172.0</td>\n",
              "      <td>39.0</td>\n",
              "      <td>13.0</td>\n",
              "      <td>54.0</td>\n",
              "      <td>52.0</td>\n",
              "      <td>461.0</td>\n",
              "      <td>6.0</td>\n",
              "      <td>0.0</td>\n",
              "      <td>20.954545</td>\n",
              "    </tr>\n",
              "    <tr>\n",
              "      <th>3</th>\n",
              "      <td>Camille Little</td>\n",
              "      <td>PHO</td>\n",
              "      <td>F</td>\n",
              "      <td>188.0</td>\n",
              "      <td>82.0</td>\n",
              "      <td>23.200543</td>\n",
              "      <td>US</td>\n",
              "      <td>January 18, 1985</td>\n",
              "      <td>32.0</td>\n",
              "      <td>North Carolina</td>\n",
              "      <td>...</td>\n",
              "      <td>71.0</td>\n",
              "      <td>113.0</td>\n",
              "      <td>42.0</td>\n",
              "      <td>28.0</td>\n",
              "      <td>13.0</td>\n",
              "      <td>50.0</td>\n",
              "      <td>228.0</td>\n",
              "      <td>0.0</td>\n",
              "      <td>0.0</td>\n",
              "      <td>7.600000</td>\n",
              "    </tr>\n",
              "    <tr>\n",
              "      <th>4</th>\n",
              "      <td>Cayla George</td>\n",
              "      <td>PHO</td>\n",
              "      <td>C</td>\n",
              "      <td>193.0</td>\n",
              "      <td>87.0</td>\n",
              "      <td>23.356332</td>\n",
              "      <td>AU</td>\n",
              "      <td>April 20, 1987</td>\n",
              "      <td>30.0</td>\n",
              "      <td>Georgia</td>\n",
              "      <td>...</td>\n",
              "      <td>71.0</td>\n",
              "      <td>81.0</td>\n",
              "      <td>15.0</td>\n",
              "      <td>9.0</td>\n",
              "      <td>11.0</td>\n",
              "      <td>13.0</td>\n",
              "      <td>100.0</td>\n",
              "      <td>1.0</td>\n",
              "      <td>0.0</td>\n",
              "      <td>3.571429</td>\n",
              "    </tr>\n",
              "  </tbody>\n",
              "</table>\n",
              "<p>5 rows × 33 columns</p>\n",
              "</div>\n",
              "      <button class=\"colab-df-convert\" onclick=\"convertToInteractive('df-ecddd66c-b3ce-4f10-ac6c-033dff84ae53')\"\n",
              "              title=\"Convert this dataframe to an interactive table.\"\n",
              "              style=\"display:none;\">\n",
              "        \n",
              "  <svg xmlns=\"http://www.w3.org/2000/svg\" height=\"24px\"viewBox=\"0 0 24 24\"\n",
              "       width=\"24px\">\n",
              "    <path d=\"M0 0h24v24H0V0z\" fill=\"none\"/>\n",
              "    <path d=\"M18.56 5.44l.94 2.06.94-2.06 2.06-.94-2.06-.94-.94-2.06-.94 2.06-2.06.94zm-11 1L8.5 8.5l.94-2.06 2.06-.94-2.06-.94L8.5 2.5l-.94 2.06-2.06.94zm10 10l.94 2.06.94-2.06 2.06-.94-2.06-.94-.94-2.06-.94 2.06-2.06.94z\"/><path d=\"M17.41 7.96l-1.37-1.37c-.4-.4-.92-.59-1.43-.59-.52 0-1.04.2-1.43.59L10.3 9.45l-7.72 7.72c-.78.78-.78 2.05 0 2.83L4 21.41c.39.39.9.59 1.41.59.51 0 1.02-.2 1.41-.59l7.78-7.78 2.81-2.81c.8-.78.8-2.07 0-2.86zM5.41 20L4 18.59l7.72-7.72 1.47 1.35L5.41 20z\"/>\n",
              "  </svg>\n",
              "      </button>\n",
              "      \n",
              "  <style>\n",
              "    .colab-df-container {\n",
              "      display:flex;\n",
              "      flex-wrap:wrap;\n",
              "      gap: 12px;\n",
              "    }\n",
              "\n",
              "    .colab-df-convert {\n",
              "      background-color: #E8F0FE;\n",
              "      border: none;\n",
              "      border-radius: 50%;\n",
              "      cursor: pointer;\n",
              "      display: none;\n",
              "      fill: #1967D2;\n",
              "      height: 32px;\n",
              "      padding: 0 0 0 0;\n",
              "      width: 32px;\n",
              "    }\n",
              "\n",
              "    .colab-df-convert:hover {\n",
              "      background-color: #E2EBFA;\n",
              "      box-shadow: 0px 1px 2px rgba(60, 64, 67, 0.3), 0px 1px 3px 1px rgba(60, 64, 67, 0.15);\n",
              "      fill: #174EA6;\n",
              "    }\n",
              "\n",
              "    [theme=dark] .colab-df-convert {\n",
              "      background-color: #3B4455;\n",
              "      fill: #D2E3FC;\n",
              "    }\n",
              "\n",
              "    [theme=dark] .colab-df-convert:hover {\n",
              "      background-color: #434B5C;\n",
              "      box-shadow: 0px 1px 3px 1px rgba(0, 0, 0, 0.15);\n",
              "      filter: drop-shadow(0px 1px 2px rgba(0, 0, 0, 0.3));\n",
              "      fill: #FFFFFF;\n",
              "    }\n",
              "  </style>\n",
              "\n",
              "      <script>\n",
              "        const buttonEl =\n",
              "          document.querySelector('#df-ecddd66c-b3ce-4f10-ac6c-033dff84ae53 button.colab-df-convert');\n",
              "        buttonEl.style.display =\n",
              "          google.colab.kernel.accessAllowed ? 'block' : 'none';\n",
              "\n",
              "        async function convertToInteractive(key) {\n",
              "          const element = document.querySelector('#df-ecddd66c-b3ce-4f10-ac6c-033dff84ae53');\n",
              "          const dataTable =\n",
              "            await google.colab.kernel.invokeFunction('convertToInteractive',\n",
              "                                                     [key], {});\n",
              "          if (!dataTable) return;\n",
              "\n",
              "          const docLinkHtml = 'Like what you see? Visit the ' +\n",
              "            '<a target=\"_blank\" href=https://colab.research.google.com/notebooks/data_table.ipynb>data table notebook</a>'\n",
              "            + ' to learn more about interactive tables.';\n",
              "          element.innerHTML = '';\n",
              "          dataTable['output_type'] = 'display_data';\n",
              "          await google.colab.output.renderOutput(dataTable, element);\n",
              "          const docLink = document.createElement('div');\n",
              "          docLink.innerHTML = docLinkHtml;\n",
              "          element.appendChild(docLink);\n",
              "        }\n",
              "      </script>\n",
              "    </div>\n",
              "  </div>\n",
              "  "
            ]
          },
          "metadata": {},
          "execution_count": 320
        }
      ]
    },
    {
      "cell_type": "markdown",
      "source": [],
      "metadata": {
        "id": "0vmKBndTiJPk"
      }
    },
    {
      "cell_type": "code",
      "source": [
        "print(sampling_error_height)\n",
        "print(sampling_error_age)\n",
        "print(sampling_error_BMI)\n",
        "print(sampling_error_points) "
      ],
      "metadata": {
        "id": "CQ4TTyZ7i9Mf",
        "colab": {
          "base_uri": "https://localhost:8080/"
        },
        "outputId": "e75e5a3a-ad23-4990-fd79-9b5feb27315f"
      },
      "execution_count": null,
      "outputs": [
        {
          "output_type": "stream",
          "name": "stdout",
          "text": [
            "-0.06400121617511445\n",
            "-1.401337792642142\n",
            "0.23095444165951662\n",
            "-27.79674673152934\n"
          ]
        }
      ]
    },
    {
      "cell_type": "code",
      "source": [
        "\n",
        "\n",
        "variables = {'Name': '', 'Team': '', 'Pos': '', 'Height': '', 'BMI': '',\n",
        "             'Birth_Place': '', 'Birthdate': '', 'Age': '', 'College': '', 'Experience': '',\n",
        "             'Games Played': '', 'MIN': '', 'FGM': '', 'FGA': '',\n",
        "             '3PA': '', 'FTM': '', 'FTA': '', 'FT%': '', 'OREB': '', 'DREB': '',\n",
        "             'REB': '', 'AST': '', 'PTS': ''}\n",
        "\n",
        "\n",
        "variables = {'Name': 'qualitative', 'Team': 'qualitative', 'Pos': 'qualitative',\n",
        "             'Height': 'quantitative', 'BMI': 'quantitative',\n",
        "             'Birth_Place': 'qualitative', 'Birthdate': 'quantitative', 'Age': 'quantitative', \n",
        "             'College': 'qualitative', 'Experience': 'quantitative', 'Games Played': 'quantitative',\n",
        "             'MIN': 'quantitative', 'FGM': 'quantitative', 'FGA': 'quantitative',\n",
        "             '3PA': 'quantitative', 'FTM': 'quantitative',\n",
        "             'FTA': 'quantitative', 'FT%': 'quantitative', 'OREB': 'quantitative', 'DREB': 'quantitative',\n",
        "             'REB': 'quantitative', 'AST': 'quantitative', 'PTS': 'quantitative'}"
      ],
      "metadata": {
        "id": "slSFwl9DIUA-"
      },
      "execution_count": null,
      "outputs": []
    },
    {
      "cell_type": "code",
      "source": [
        "wnba.dtypes == 'object'"
      ],
      "metadata": {
        "id": "jG2ISNM7_pzh",
        "colab": {
          "base_uri": "https://localhost:8080/"
        },
        "outputId": "b0c9ea17-5be5-498d-d3a4-fd110f0ae644"
      },
      "execution_count": null,
      "outputs": [
        {
          "output_type": "execute_result",
          "data": {
            "text/plain": [
              "Name             True\n",
              "Team             True\n",
              "Pos              True\n",
              "Height          False\n",
              "Weight          False\n",
              "BMI             False\n",
              "Birth_Place      True\n",
              "Birthdate        True\n",
              "Age             False\n",
              "College          True\n",
              "Experience       True\n",
              "Games Played    False\n",
              "MIN             False\n",
              "FGM             False\n",
              "FGA             False\n",
              "FG%             False\n",
              "15:00           False\n",
              "3PA             False\n",
              "3P%             False\n",
              "FTM             False\n",
              "FTA             False\n",
              "FT%             False\n",
              "OREB            False\n",
              "DREB            False\n",
              "REB             False\n",
              "AST             False\n",
              "STL             False\n",
              "BLK             False\n",
              "TO              False\n",
              "PTS             False\n",
              "DD2             False\n",
              "TD3             False\n",
              "Pts_per_game    False\n",
              "dtype: bool"
            ]
          },
          "metadata": {},
          "execution_count": 323
        }
      ]
    },
    {
      "cell_type": "code",
      "source": [
        "object_cols = wnba.dtypes[wnba.dtypes == 'object'].index\n",
        "print(object_cols)\n"
      ],
      "metadata": {
        "id": "fXUZPU4GPht0",
        "colab": {
          "base_uri": "https://localhost:8080/"
        },
        "outputId": "3526bd1d-b335-4712-bcd4-1ad8b56e8b81"
      },
      "execution_count": null,
      "outputs": [
        {
          "output_type": "stream",
          "name": "stdout",
          "text": [
            "Index(['Name', 'Team', 'Pos', 'Birth_Place', 'Birthdate', 'College',\n",
            "       'Experience'],\n",
            "      dtype='object')\n"
          ]
        }
      ]
    },
    {
      "cell_type": "code",
      "source": [
        "object_data = wnba[object_cols]\n"
      ],
      "metadata": {
        "id": "Ux-EJeMGWAfr"
      },
      "execution_count": null,
      "outputs": []
    },
    {
      "cell_type": "code",
      "source": [
        "print(object_data)"
      ],
      "metadata": {
        "id": "La1uEqUqWCbW",
        "colab": {
          "base_uri": "https://localhost:8080/"
        },
        "outputId": "9ecc07b3-dd1b-476e-e6c8-dd1cf4d9a0af"
      },
      "execution_count": null,
      "outputs": [
        {
          "output_type": "stream",
          "name": "stdout",
          "text": [
            "                 Name Team  Pos Birth_Place           Birthdate  \\\n",
            "0       Aerial Powers  DAL    F          US    January 17, 1994   \n",
            "1         Alana Beard   LA  G/F          US        May 14, 1982   \n",
            "2        Alex Bentley  CON    G          US    October 27, 1990   \n",
            "3     Alex Montgomery  SAN  G/F          US   December 11, 1988   \n",
            "4        Alexis Jones  MIN    G          US      August 5, 1994   \n",
            "..                ...  ...  ...         ...                 ...   \n",
            "138     Tiffany Hayes  ATL    G          US  September 20, 1989   \n",
            "139   Tiffany Jackson   LA    F          US      April 26, 1985   \n",
            "140  Tiffany Mitchell  IND    G          US  September 23, 1984   \n",
            "141      Tina Charles   NY  F/C          US        May 12, 1988   \n",
            "142     Yvonne Turner  PHO    G          US    October 13, 1987   \n",
            "\n",
            "            College Experience  \n",
            "0    Michigan State          2  \n",
            "1              Duke         12  \n",
            "2        Penn State          4  \n",
            "3      Georgia Tech          6  \n",
            "4            Baylor          R  \n",
            "..              ...        ...  \n",
            "138     Connecticut          6  \n",
            "139           Texas          9  \n",
            "140  South Carolina          2  \n",
            "141     Connecticut          8  \n",
            "142        Nebraska          2  \n",
            "\n",
            "[143 rows x 7 columns]\n"
          ]
        }
      ]
    },
    {
      "cell_type": "code",
      "source": [
        "numeric_cols = wnba.select_dtypes(include=['int64', 'float64']).columns"
      ],
      "metadata": {
        "id": "ujWd_MlUP86B"
      },
      "execution_count": null,
      "outputs": []
    },
    {
      "cell_type": "code",
      "source": [
        "numeric_data = wnba[numeric_cols]"
      ],
      "metadata": {
        "id": "_mgCGMG9WTSu"
      },
      "execution_count": null,
      "outputs": []
    },
    {
      "cell_type": "code",
      "source": [
        "print(len(wnba.columns))\n",
        "print(len(numeric_data.columns))\n",
        "print(len(object_data.columns))\n"
      ],
      "metadata": {
        "id": "wL5MteK0Qb4q",
        "colab": {
          "base_uri": "https://localhost:8080/"
        },
        "outputId": "70a860fe-1268-41f9-ecaa-a068562623b2"
      },
      "execution_count": null,
      "outputs": [
        {
          "output_type": "stream",
          "name": "stdout",
          "text": [
            "33\n",
            "26\n",
            "7\n"
          ]
        }
      ]
    },
    {
      "cell_type": "code",
      "source": [
        "df_dtypes = pd.DataFrame(wnba.dtypes, columns=['Dtype'])\n",
        "sorted_dtypes = df_dtypes.sort_values(by=['Dtype'])\n",
        "\n",
        "# print(sorted_dtypes)\n",
        "\n",
        "nominal_scale = wnba.select_dtypes(include=['object']).columns\n",
        "nominal_scale = list(nominal_scale)\n",
        "# print(wnba['Height_labels'].value_counts())\n",
        "print(nominal_scale)"
      ],
      "metadata": {
        "id": "naqI-oehRVER",
        "colab": {
          "base_uri": "https://localhost:8080/"
        },
        "outputId": "d067b15c-c7e3-4a99-fcac-db8a72f37d85"
      },
      "execution_count": null,
      "outputs": [
        {
          "output_type": "stream",
          "name": "stdout",
          "text": [
            "['Name', 'Team', 'Pos', 'Birth_Place', 'Birthdate', 'College', 'Experience']\n"
          ]
        }
      ]
    },
    {
      "cell_type": "code",
      "source": [
        "df_nominal_scale = pd.DataFrame(object_data)\n",
        "df_nominal_scale.head()"
      ],
      "metadata": {
        "id": "Iv5MtqGCU56M",
        "colab": {
          "base_uri": "https://localhost:8080/",
          "height": 216
        },
        "outputId": "60f11c67-2bf8-496a-a6c1-03b30075d342"
      },
      "execution_count": null,
      "outputs": [
        {
          "output_type": "execute_result",
          "data": {
            "text/plain": [
              "              Name Team  Pos Birth_Place          Birthdate         College  \\\n",
              "0    Aerial Powers  DAL    F          US   January 17, 1994  Michigan State   \n",
              "1      Alana Beard   LA  G/F          US       May 14, 1982            Duke   \n",
              "2     Alex Bentley  CON    G          US   October 27, 1990      Penn State   \n",
              "3  Alex Montgomery  SAN  G/F          US  December 11, 1988    Georgia Tech   \n",
              "4     Alexis Jones  MIN    G          US     August 5, 1994          Baylor   \n",
              "\n",
              "  Experience  \n",
              "0          2  \n",
              "1         12  \n",
              "2          4  \n",
              "3          6  \n",
              "4          R  "
            ],
            "text/html": [
              "\n",
              "  <div id=\"df-05ede6b3-9a01-403e-843f-fa305333b651\">\n",
              "    <div class=\"colab-df-container\">\n",
              "      <div>\n",
              "<style scoped>\n",
              "    .dataframe tbody tr th:only-of-type {\n",
              "        vertical-align: middle;\n",
              "    }\n",
              "\n",
              "    .dataframe tbody tr th {\n",
              "        vertical-align: top;\n",
              "    }\n",
              "\n",
              "    .dataframe thead th {\n",
              "        text-align: right;\n",
              "    }\n",
              "</style>\n",
              "<table border=\"1\" class=\"dataframe\">\n",
              "  <thead>\n",
              "    <tr style=\"text-align: right;\">\n",
              "      <th></th>\n",
              "      <th>Name</th>\n",
              "      <th>Team</th>\n",
              "      <th>Pos</th>\n",
              "      <th>Birth_Place</th>\n",
              "      <th>Birthdate</th>\n",
              "      <th>College</th>\n",
              "      <th>Experience</th>\n",
              "    </tr>\n",
              "  </thead>\n",
              "  <tbody>\n",
              "    <tr>\n",
              "      <th>0</th>\n",
              "      <td>Aerial Powers</td>\n",
              "      <td>DAL</td>\n",
              "      <td>F</td>\n",
              "      <td>US</td>\n",
              "      <td>January 17, 1994</td>\n",
              "      <td>Michigan State</td>\n",
              "      <td>2</td>\n",
              "    </tr>\n",
              "    <tr>\n",
              "      <th>1</th>\n",
              "      <td>Alana Beard</td>\n",
              "      <td>LA</td>\n",
              "      <td>G/F</td>\n",
              "      <td>US</td>\n",
              "      <td>May 14, 1982</td>\n",
              "      <td>Duke</td>\n",
              "      <td>12</td>\n",
              "    </tr>\n",
              "    <tr>\n",
              "      <th>2</th>\n",
              "      <td>Alex Bentley</td>\n",
              "      <td>CON</td>\n",
              "      <td>G</td>\n",
              "      <td>US</td>\n",
              "      <td>October 27, 1990</td>\n",
              "      <td>Penn State</td>\n",
              "      <td>4</td>\n",
              "    </tr>\n",
              "    <tr>\n",
              "      <th>3</th>\n",
              "      <td>Alex Montgomery</td>\n",
              "      <td>SAN</td>\n",
              "      <td>G/F</td>\n",
              "      <td>US</td>\n",
              "      <td>December 11, 1988</td>\n",
              "      <td>Georgia Tech</td>\n",
              "      <td>6</td>\n",
              "    </tr>\n",
              "    <tr>\n",
              "      <th>4</th>\n",
              "      <td>Alexis Jones</td>\n",
              "      <td>MIN</td>\n",
              "      <td>G</td>\n",
              "      <td>US</td>\n",
              "      <td>August 5, 1994</td>\n",
              "      <td>Baylor</td>\n",
              "      <td>R</td>\n",
              "    </tr>\n",
              "  </tbody>\n",
              "</table>\n",
              "</div>\n",
              "      <button class=\"colab-df-convert\" onclick=\"convertToInteractive('df-05ede6b3-9a01-403e-843f-fa305333b651')\"\n",
              "              title=\"Convert this dataframe to an interactive table.\"\n",
              "              style=\"display:none;\">\n",
              "        \n",
              "  <svg xmlns=\"http://www.w3.org/2000/svg\" height=\"24px\"viewBox=\"0 0 24 24\"\n",
              "       width=\"24px\">\n",
              "    <path d=\"M0 0h24v24H0V0z\" fill=\"none\"/>\n",
              "    <path d=\"M18.56 5.44l.94 2.06.94-2.06 2.06-.94-2.06-.94-.94-2.06-.94 2.06-2.06.94zm-11 1L8.5 8.5l.94-2.06 2.06-.94-2.06-.94L8.5 2.5l-.94 2.06-2.06.94zm10 10l.94 2.06.94-2.06 2.06-.94-2.06-.94-.94-2.06-.94 2.06-2.06.94z\"/><path d=\"M17.41 7.96l-1.37-1.37c-.4-.4-.92-.59-1.43-.59-.52 0-1.04.2-1.43.59L10.3 9.45l-7.72 7.72c-.78.78-.78 2.05 0 2.83L4 21.41c.39.39.9.59 1.41.59.51 0 1.02-.2 1.41-.59l7.78-7.78 2.81-2.81c.8-.78.8-2.07 0-2.86zM5.41 20L4 18.59l7.72-7.72 1.47 1.35L5.41 20z\"/>\n",
              "  </svg>\n",
              "      </button>\n",
              "      \n",
              "  <style>\n",
              "    .colab-df-container {\n",
              "      display:flex;\n",
              "      flex-wrap:wrap;\n",
              "      gap: 12px;\n",
              "    }\n",
              "\n",
              "    .colab-df-convert {\n",
              "      background-color: #E8F0FE;\n",
              "      border: none;\n",
              "      border-radius: 50%;\n",
              "      cursor: pointer;\n",
              "      display: none;\n",
              "      fill: #1967D2;\n",
              "      height: 32px;\n",
              "      padding: 0 0 0 0;\n",
              "      width: 32px;\n",
              "    }\n",
              "\n",
              "    .colab-df-convert:hover {\n",
              "      background-color: #E2EBFA;\n",
              "      box-shadow: 0px 1px 2px rgba(60, 64, 67, 0.3), 0px 1px 3px 1px rgba(60, 64, 67, 0.15);\n",
              "      fill: #174EA6;\n",
              "    }\n",
              "\n",
              "    [theme=dark] .colab-df-convert {\n",
              "      background-color: #3B4455;\n",
              "      fill: #D2E3FC;\n",
              "    }\n",
              "\n",
              "    [theme=dark] .colab-df-convert:hover {\n",
              "      background-color: #434B5C;\n",
              "      box-shadow: 0px 1px 3px 1px rgba(0, 0, 0, 0.15);\n",
              "      filter: drop-shadow(0px 1px 2px rgba(0, 0, 0, 0.3));\n",
              "      fill: #FFFFFF;\n",
              "    }\n",
              "  </style>\n",
              "\n",
              "      <script>\n",
              "        const buttonEl =\n",
              "          document.querySelector('#df-05ede6b3-9a01-403e-843f-fa305333b651 button.colab-df-convert');\n",
              "        buttonEl.style.display =\n",
              "          google.colab.kernel.accessAllowed ? 'block' : 'none';\n",
              "\n",
              "        async function convertToInteractive(key) {\n",
              "          const element = document.querySelector('#df-05ede6b3-9a01-403e-843f-fa305333b651');\n",
              "          const dataTable =\n",
              "            await google.colab.kernel.invokeFunction('convertToInteractive',\n",
              "                                                     [key], {});\n",
              "          if (!dataTable) return;\n",
              "\n",
              "          const docLinkHtml = 'Like what you see? Visit the ' +\n",
              "            '<a target=\"_blank\" href=https://colab.research.google.com/notebooks/data_table.ipynb>data table notebook</a>'\n",
              "            + ' to learn more about interactive tables.';\n",
              "          element.innerHTML = '';\n",
              "          dataTable['output_type'] = 'display_data';\n",
              "          await google.colab.output.renderOutput(dataTable, element);\n",
              "          const docLink = document.createElement('div');\n",
              "          docLink.innerHTML = docLinkHtml;\n",
              "          element.appendChild(docLink);\n",
              "        }\n",
              "      </script>\n",
              "    </div>\n",
              "  </div>\n",
              "  "
            ]
          },
          "metadata": {},
          "execution_count": 331
        }
      ]
    },
    {
      "cell_type": "code",
      "source": [
        "experience_col = df_nominal_scale['Experience'].copy()\n",
        "df_nominal_scale = df_nominal_scale.drop(columns=['Experience'])"
      ],
      "metadata": {
        "id": "22I8EYNIVL4a"
      },
      "execution_count": null,
      "outputs": []
    },
    {
      "cell_type": "code",
      "source": [],
      "metadata": {
        "id": "r1IJ7D0nYUn_"
      },
      "execution_count": null,
      "outputs": []
    },
    {
      "cell_type": "code",
      "source": [
        "experience_col.value_counts()"
      ],
      "metadata": {
        "id": "TK36CO_nXVAX",
        "colab": {
          "base_uri": "https://localhost:8080/"
        },
        "outputId": "bb26a5c4-261d-41cc-b658-f9d67c745433"
      },
      "execution_count": null,
      "outputs": [
        {
          "output_type": "execute_result",
          "data": {
            "text/plain": [
              "R     23\n",
              "3     19\n",
              "6     14\n",
              "5     14\n",
              "1     12\n",
              "2     11\n",
              "4     11\n",
              "9     11\n",
              "10     5\n",
              "12     4\n",
              "11     4\n",
              "7      4\n",
              "8      3\n",
              "13     3\n",
              "14     3\n",
              "15     2\n",
              "Name: Experience, dtype: int64"
            ]
          },
          "metadata": {},
          "execution_count": 333
        }
      ]
    },
    {
      "cell_type": "code",
      "source": [
        "exp_rep = {'R': 0}\n",
        "\n",
        "experience_col = experience_col.replace(exp_rep)"
      ],
      "metadata": {
        "id": "vNk25z5kYVtI"
      },
      "execution_count": null,
      "outputs": []
    },
    {
      "cell_type": "code",
      "source": [
        "print(experience_col.value_counts())"
      ],
      "metadata": {
        "id": "hYj4nK3DYrm_",
        "colab": {
          "base_uri": "https://localhost:8080/"
        },
        "outputId": "bfdb5fee-8480-4e43-fe6f-534d59439c1e"
      },
      "execution_count": null,
      "outputs": [
        {
          "output_type": "stream",
          "name": "stdout",
          "text": [
            "0     23\n",
            "3     19\n",
            "6     14\n",
            "5     14\n",
            "1     12\n",
            "2     11\n",
            "4     11\n",
            "9     11\n",
            "10     5\n",
            "12     4\n",
            "11     4\n",
            "7      4\n",
            "8      3\n",
            "13     3\n",
            "14     3\n",
            "15     2\n",
            "Name: Experience, dtype: int64\n"
          ]
        }
      ]
    },
    {
      "cell_type": "code",
      "source": [
        "experience_col = experience_col.astype('int')"
      ],
      "metadata": {
        "id": "Vb792TqyY_mU"
      },
      "execution_count": null,
      "outputs": []
    },
    {
      "cell_type": "code",
      "source": [
        "experience_col.dtypes"
      ],
      "metadata": {
        "id": "KYpgVzWSZMjI",
        "colab": {
          "base_uri": "https://localhost:8080/"
        },
        "outputId": "fab5f1ad-1796-45f8-d38b-e9849b9c50f1"
      },
      "execution_count": null,
      "outputs": [
        {
          "output_type": "execute_result",
          "data": {
            "text/plain": [
              "dtype('int64')"
            ]
          },
          "metadata": {},
          "execution_count": 337
        }
      ]
    },
    {
      "cell_type": "code",
      "source": [
        "wnba['Experience'] = experience_col"
      ],
      "metadata": {
        "id": "ol1tf1YQaQFI"
      },
      "execution_count": null,
      "outputs": []
    },
    {
      "cell_type": "code",
      "source": [
        "numeric_cols = wnba.select_dtypes(include=['int64', 'float64']).columns"
      ],
      "metadata": {
        "id": "PhnnqYslZeDK"
      },
      "execution_count": null,
      "outputs": []
    },
    {
      "cell_type": "code",
      "source": [
        "numeric_data = wnba[numeric_cols]"
      ],
      "metadata": {
        "id": "N71sIwd_ZhOa"
      },
      "execution_count": null,
      "outputs": []
    },
    {
      "cell_type": "code",
      "source": [
        "print(numeric_data.columns)"
      ],
      "metadata": {
        "id": "Ht4Dwdh4Z-Id",
        "colab": {
          "base_uri": "https://localhost:8080/"
        },
        "outputId": "0732ccde-44f9-4d4e-f3d7-9d32484d78ea"
      },
      "execution_count": null,
      "outputs": [
        {
          "output_type": "stream",
          "name": "stdout",
          "text": [
            "Index(['Height', 'Weight', 'BMI', 'Age', 'Experience', 'Games Played', 'MIN',\n",
            "       'FGM', 'FGA', 'FG%', '15:00', '3PA', '3P%', 'FTM', 'FTA', 'FT%', 'OREB',\n",
            "       'DREB', 'REB', 'AST', 'STL', 'BLK', 'TO', 'PTS', 'DD2', 'TD3',\n",
            "       'Pts_per_game'],\n",
            "      dtype='object')\n"
          ]
        }
      ]
    },
    {
      "cell_type": "code",
      "source": [
        "interval = ['Birthdate']\n",
        "ratio = sorted(['Height', 'Weight', 'BMI', 'Age', 'Experience', 'Games Played', 'MIN', 'FGM', 'FGA', 'FG%', '15:00', \n",
        "                '3PA', '3P%', 'FTM', 'FTA', 'FT%', 'OREB', 'DREB', 'REB', 'AST', 'STL', 'BLK', 'TO',\n",
        "                'PTS', 'DD2', 'TD3'])"
      ],
      "metadata": {
        "id": "qh4MUAcqcCqS"
      },
      "execution_count": null,
      "outputs": []
    },
    {
      "cell_type": "code",
      "source": [
        "freq_distro_pos = wnba['Pos'].value_counts()\n",
        "freq_distro_height = wnba['Height'].value_counts()"
      ],
      "metadata": {
        "id": "iAmA_VbAwfzy"
      },
      "execution_count": null,
      "outputs": []
    },
    {
      "cell_type": "code",
      "source": [
        "age_ascending = wnba['Age'].value_counts().sort_values()\n",
        "age_descending = wnba['Age'].value_counts()\n",
        "age_over_30 = wnba['Age'] > 30\n",
        "print(age_over_30.value_counts())"
      ],
      "metadata": {
        "id": "SVCCJacO0Cnd",
        "colab": {
          "base_uri": "https://localhost:8080/"
        },
        "outputId": "9f75ee95-8e26-431b-b027-55535a0ce602"
      },
      "execution_count": null,
      "outputs": [
        {
          "output_type": "stream",
          "name": "stdout",
          "text": [
            "False    114\n",
            "True      29\n",
            "Name: Age, dtype: int64\n"
          ]
        }
      ]
    },
    {
      "cell_type": "code",
      "source": [
        "def make_pts_ordinal(row):\n",
        "    if row['PTS'] <= 20:\n",
        "        return 'very few points'\n",
        "    if (20 < row['PTS'] <=  80):\n",
        "        return 'few points'\n",
        "    if (80 < row['PTS'] <=  150):\n",
        "        return 'many, but below average'\n",
        "    if (150 < row['PTS'] <= 300):\n",
        "        return 'average number of points'\n",
        "    if (300 < row['PTS'] <=  450):\n",
        "        return 'more than average'\n",
        "    else:\n",
        "        return 'much more than average'\n",
        "    \n",
        "wnba['PTS_ordinal_scale'] = wnba.apply(make_pts_ordinal, axis = 1)\n",
        "\n",
        "print(wnba['PTS_ordinal_scale'].value_counts())"
      ],
      "metadata": {
        "id": "eK-Q9DI-4zx-",
        "colab": {
          "base_uri": "https://localhost:8080/"
        },
        "outputId": "a9736604-1ad8-42aa-cc65-b8ef0d201b0e"
      },
      "execution_count": null,
      "outputs": [
        {
          "output_type": "stream",
          "name": "stdout",
          "text": [
            "average number of points    45\n",
            "few points                  27\n",
            "many, but below average     25\n",
            "more than average           21\n",
            "much more than average      13\n",
            "very few points             12\n",
            "Name: PTS_ordinal_scale, dtype: int64\n"
          ]
        }
      ]
    },
    {
      "cell_type": "markdown",
      "source": [
        "iloc allows us to reorder the values based on their index position."
      ],
      "metadata": {
        "id": "3WP5keXx-e37"
      }
    },
    {
      "cell_type": "code",
      "source": [
        "pts_ordinal_desc = wnba['PTS_ordinal_scale'].value_counts().iloc[[4, 3, 0, 2, 1, 5]]\n",
        "print(pts_ordinal_desc)"
      ],
      "metadata": {
        "id": "2mvCsyBz-Qlq",
        "colab": {
          "base_uri": "https://localhost:8080/"
        },
        "outputId": "1b35b6fe-5076-4847-cfce-2477183daa97"
      },
      "execution_count": null,
      "outputs": [
        {
          "output_type": "stream",
          "name": "stdout",
          "text": [
            "much more than average      13\n",
            "more than average           21\n",
            "average number of points    45\n",
            "many, but below average     25\n",
            "few points                  27\n",
            "very few points             12\n",
            "Name: PTS_ordinal_scale, dtype: int64\n"
          ]
        }
      ]
    },
    {
      "cell_type": "code",
      "source": [
        "guards = wnba['Pos'] == 'G'\n",
        "guard_count = guards.sum()\n",
        "player_count = wnba['Pos'].shape[0]\n",
        "guard_proportion = round(guard_count / player_count, 2)\n",
        "centers = wnba['Pos'] == 'C'\n",
        "center_count = centers.sum()\n",
        "center_proportion = round(center_count / player_count, 2)\n",
        "print(wnba['Pos'].value_counts())\n",
        "mixed_positions = wnba['Pos'].value_counts().iloc[[3,4]]\n",
        "print(mixed_positions.sum())\n",
        "mixed_positions_percentage = round(mixed_positions.sum() / player_count, 2)"
      ],
      "metadata": {
        "id": "sSs_RorBDG6d",
        "colab": {
          "base_uri": "https://localhost:8080/"
        },
        "outputId": "09ca4a42-cbe8-4862-dff1-49c34214b7c7"
      },
      "execution_count": null,
      "outputs": [
        {
          "output_type": "stream",
          "name": "stdout",
          "text": [
            "G      60\n",
            "F      33\n",
            "C      25\n",
            "G/F    13\n",
            "F/C    12\n",
            "Name: Pos, dtype: int64\n",
            "25\n"
          ]
        }
      ]
    },
    {
      "cell_type": "code",
      "source": [
        "percentages = wnba['Age'].value_counts(normalize = True).sort_index() * 100\n",
        "proportion_25 = percentages[25] / 100\n",
        "percentage_30 = percentages[30]\n",
        "percentage_over_30 = percentages.loc[30:].sum()\n",
        "percentage_below_23 = percentages.loc[:23].sum()"
      ],
      "metadata": {
        "id": "oxvJseBuHazD"
      },
      "execution_count": null,
      "outputs": []
    },
    {
      "cell_type": "code",
      "source": [
        "percentage_test = percentages.loc[:].sum()\n",
        "print(percentage_test)"
      ],
      "metadata": {
        "id": "yOBKoYHtCDQI",
        "colab": {
          "base_uri": "https://localhost:8080/"
        },
        "outputId": "84c35a82-ac00-435a-8177-df37d1a2451d"
      },
      "execution_count": null,
      "outputs": [
        {
          "output_type": "stream",
          "name": "stdout",
          "text": [
            "100.0\n"
          ]
        }
      ]
    },
    {
      "cell_type": "code",
      "source": [
        "print(percentages)"
      ],
      "metadata": {
        "id": "2lJdk58OIfmh",
        "colab": {
          "base_uri": "https://localhost:8080/"
        },
        "outputId": "59649c3d-8e57-4c7c-eeb3-2e076f6509bb"
      },
      "execution_count": null,
      "outputs": [
        {
          "output_type": "stream",
          "name": "stdout",
          "text": [
            "21     1.398601\n",
            "22     6.993007\n",
            "23    10.489510\n",
            "24    11.188811\n",
            "25    10.489510\n",
            "26     8.391608\n",
            "27     9.090909\n",
            "28     9.790210\n",
            "29     5.594406\n",
            "30     6.293706\n",
            "31     5.594406\n",
            "32     5.594406\n",
            "33     2.097902\n",
            "34     3.496503\n",
            "35     2.797203\n",
            "36     0.699301\n",
            "Name: Age, dtype: float64\n"
          ]
        }
      ]
    },
    {
      "cell_type": "code",
      "source": [
        "print(proportion_25)\n",
        "print(percentage_30)\n",
        "print(percentage_over_30)\n",
        "print(percentage_below_23)\n"
      ],
      "metadata": {
        "id": "sLGR1yjDHcur",
        "colab": {
          "base_uri": "https://localhost:8080/"
        },
        "outputId": "afdcd9b5-0fbe-4e0e-82fb-a33646ce8bd1"
      },
      "execution_count": null,
      "outputs": [
        {
          "output_type": "stream",
          "name": "stdout",
          "text": [
            "0.1048951048951049\n",
            "6.293706293706294\n",
            "26.573426573426573\n",
            "18.88111888111888\n"
          ]
        }
      ]
    },
    {
      "cell_type": "code",
      "source": [
        "age_count = wnba['Age'].shape[0]\n",
        "age_25 = wnba['Age'] == 25\n",
        "age_25 = age_25.sum()\n",
        "proportion_25 = age_25 / age_count\n",
        "\n",
        "age_30 = wnba['Age'] == 30\n",
        "age_30_count = age_30.sum()\n",
        "percentage_30 = 100 * age_30_count / age_count\n",
        "\n",
        "percentage_over_30 = wnba['Age'] >= 30\n",
        "percentage_over_30_count = percentage_over_30.sum()\n",
        "percentage_over_30 = percentage_over_30_count / age_count * 100\n",
        "\n",
        "percentage_below_23 = wnba['Age'] <= 23\n",
        "percentage_below_23_count = percentage_below_23.sum()\n",
        "percentage_below_23 = percentage_below_23_count / age_count *100"
      ],
      "metadata": {
        "id": "3wBO_IRWIHih"
      },
      "execution_count": null,
      "outputs": []
    },
    {
      "cell_type": "code",
      "source": [
        "print(percentage_below_23)"
      ],
      "metadata": {
        "id": "WppAFeYaIKEY",
        "colab": {
          "base_uri": "https://localhost:8080/"
        },
        "outputId": "949ac20b-e006-4cef-b3f6-c2466db1ea54"
      },
      "execution_count": null,
      "outputs": [
        {
          "output_type": "stream",
          "name": "stdout",
          "text": [
            "18.88111888111888\n"
          ]
        }
      ]
    },
    {
      "cell_type": "code",
      "source": [
        "age_chart = wnba['Age'].value_counts(normalize=True).sort_index()*100\n",
        "age_chart.loc[:23].sum()"
      ],
      "metadata": {
        "id": "MU7e5YPwEhO5",
        "colab": {
          "base_uri": "https://localhost:8080/"
        },
        "outputId": "3366fa40-a53f-431e-c12c-14806fb44152"
      },
      "execution_count": null,
      "outputs": [
        {
          "output_type": "execute_result",
          "data": {
            "text/plain": [
              "18.88111888111888"
            ]
          },
          "metadata": {},
          "execution_count": 354
        }
      ]
    },
    {
      "cell_type": "markdown",
      "source": [
        "Weak indicates less than or equal to."
      ],
      "metadata": {
        "id": "mj4-K_7GFobR"
      }
    },
    {
      "cell_type": "code",
      "source": [
        "from scipy.stats import percentileofscore\n",
        "print(percentileofscore(a = wnba['Age'], score = 23, kind = 'weak'))"
      ],
      "metadata": {
        "id": "A3e_FNrEFmiA",
        "colab": {
          "base_uri": "https://localhost:8080/"
        },
        "outputId": "6541f28f-a615-4cb6-80f2-0a34c648c546"
      },
      "execution_count": null,
      "outputs": [
        {
          "output_type": "stream",
          "name": "stdout",
          "text": [
            "18.88111888111888\n"
          ]
        }
      ]
    },
    {
      "cell_type": "markdown",
      "source": [
        "By subtracting all the % values that are less than or equal to 29 from 100 we find all the values that are 30 or greater. "
      ],
      "metadata": {
        "id": "QC2ZAm4PF8bf"
      }
    },
    {
      "cell_type": "code",
      "source": [
        "from scipy.stats import percentileofscore\n",
        "print(100 - percentileofscore(wnba['Age'], 29, kind = 'weak'))"
      ],
      "metadata": {
        "id": "EJp4TP9aF65p",
        "colab": {
          "base_uri": "https://localhost:8080/"
        },
        "outputId": "530159c4-cb06-4763-81de-742a09017d04"
      },
      "execution_count": null,
      "outputs": [
        {
          "output_type": "stream",
          "name": "stdout",
          "text": [
            "26.573426573426573\n"
          ]
        }
      ]
    },
    {
      "cell_type": "code",
      "source": [
        "percentile_rank_half_less = round(percentileofscore(a = wnba['Games Played'], score = 17, kind = 'weak'), 2)\n",
        "percentage_half_more = round(100 - percentile_rank_half_less, 2)\n",
        "print(percentile_rank_half_less, percentage_half_more, sep='\\n')"
      ],
      "metadata": {
        "id": "SbxBKJkZG86W",
        "colab": {
          "base_uri": "https://localhost:8080/"
        },
        "outputId": "7b07c1c7-5257-4b3a-d21b-09ada7b6a390"
      },
      "execution_count": null,
      "outputs": [
        {
          "output_type": "stream",
          "name": "stdout",
          "text": [
            "16.08\n",
            "83.92\n"
          ]
        }
      ]
    },
    {
      "cell_type": "markdown",
      "source": [
        "Within describes parameters, we can select the values we want the percentage rank output for - by default, describe uses quartiles (25, 50, 75, 100) and selects the values for each respective percentage rank (all values less than or equal to percenage rank). We can select just the output we want with iloc. We used loc prior because we were selecting specific values in the index. With ilco we select based on integer position."
      ],
      "metadata": {
        "id": "alKW8m-wJKOj"
      }
    },
    {
      "cell_type": "code",
      "source": [
        "print(wnba['Age'].describe())\n",
        "print(wnba['Age'].describe(percentiles = [.1, .15, .33, .5, .592, .85, .90]).iloc[3:])"
      ],
      "metadata": {
        "id": "4PTo8EF5HBDd",
        "colab": {
          "base_uri": "https://localhost:8080/"
        },
        "outputId": "f2086fe6-3f26-43e4-b9db-1ee9a08d9ffb"
      },
      "execution_count": null,
      "outputs": [
        {
          "output_type": "stream",
          "name": "stdout",
          "text": [
            "count    143.000000\n",
            "mean      27.076923\n",
            "std        3.679170\n",
            "min       21.000000\n",
            "25%       24.000000\n",
            "50%       27.000000\n",
            "75%       30.000000\n",
            "max       36.000000\n",
            "Name: Age, dtype: float64\n",
            "min      21.0\n",
            "10%      23.0\n",
            "15%      23.0\n",
            "33%      25.0\n",
            "50%      27.0\n",
            "59.2%    28.0\n",
            "85%      31.0\n",
            "90%      32.0\n",
            "max      36.0\n",
            "Name: Age, dtype: float64\n"
          ]
        }
      ]
    },
    {
      "cell_type": "markdown",
      "source": [
        "Upper quartile is 75% and lower quartile is 25% "
      ],
      "metadata": {
        "id": "fE1d4MaiLbRP"
      }
    },
    {
      "cell_type": "code",
      "source": [
        "age_upper_quartile   = wnba['Age'].describe().iloc[-2]\n",
        "age_middle_quartile   = wnba['Age'].describe().iloc[-3]\n",
        "age_95th_percentile = wnba['Age'].describe(percentiles = [.95]).iloc[-2]"
      ],
      "metadata": {
        "id": "EV33JjAhLZbs"
      },
      "execution_count": null,
      "outputs": []
    },
    {
      "cell_type": "markdown",
      "source": [
        "The range between the upper and lower weight is 58kg."
      ],
      "metadata": {
        "id": "evjybK8EOEyR"
      }
    },
    {
      "cell_type": "code",
      "source": [
        "print(wnba['Weight'].value_counts().sort_index(ascending=False))"
      ],
      "metadata": {
        "id": "0EQPcPQUN_M2",
        "colab": {
          "base_uri": "https://localhost:8080/"
        },
        "outputId": "512f1f36-3529-4520-ce51-f334a76e9099"
      },
      "execution_count": null,
      "outputs": [
        {
          "output_type": "stream",
          "name": "stdout",
          "text": [
            "113.0     2\n",
            "108.0     1\n",
            "104.0     2\n",
            "97.0      1\n",
            "96.0      2\n",
            "95.0      2\n",
            "93.0      3\n",
            "91.0      3\n",
            "90.0      2\n",
            "89.0      3\n",
            "88.0      6\n",
            "87.0      6\n",
            "86.0      7\n",
            "85.0      2\n",
            "84.0      9\n",
            "83.0      4\n",
            "82.0      4\n",
            "81.0      5\n",
            "80.0      3\n",
            "79.0      6\n",
            "78.0      5\n",
            "77.0     10\n",
            "76.0      4\n",
            "75.0      4\n",
            "74.0      4\n",
            "73.0      6\n",
            "71.0      2\n",
            "70.0      3\n",
            "69.0      2\n",
            "68.0      2\n",
            "67.0      1\n",
            "66.0      8\n",
            "65.0      4\n",
            "64.0      5\n",
            "63.0      3\n",
            "62.0      1\n",
            "59.0      2\n",
            "58.0      1\n",
            "57.0      1\n",
            "55.0      1\n",
            "Name: Weight, dtype: int64\n"
          ]
        }
      ]
    },
    {
      "cell_type": "markdown",
      "source": [
        "Using value_counts, bin parameter - we can divide the distribution of our sample by n even parts. We are going to distribute the weight distribution into 10 bins so 58KG should be subdivided into 10 equal 5.8kg segments\n",
        "\n",
        "( - indicates starting point is not included\n",
        "**]** - indicates ending point is included\n",
        "\n",
        "When we add bins, a frequency table becomes known as a **'Grouped Frequency Distribution Table'**"
      ],
      "metadata": {
        "id": "PZ9CbKXjOOpY"
      }
    },
    {
      "cell_type": "code",
      "source": [
        "print(wnba['Weight'].value_counts(bins=10).sort_index(ascending=False))"
      ],
      "metadata": {
        "id": "uQC3gFWpOg_i",
        "colab": {
          "base_uri": "https://localhost:8080/"
        },
        "outputId": "bb62070e-fa0f-4c87-ed2c-6409faba1ae5"
      },
      "execution_count": null,
      "outputs": [
        {
          "output_type": "stream",
          "name": "stdout",
          "text": [
            "(107.2, 113.0]     3\n",
            "(101.4, 107.2]     2\n",
            "(95.6, 101.4]      3\n",
            "(89.8, 95.6]      10\n",
            "(84.0, 89.8]      24\n",
            "(78.2, 84.0]      31\n",
            "(72.4, 78.2]      33\n",
            "(66.6, 72.4]      10\n",
            "(60.8, 66.6]      21\n",
            "(54.941, 60.8]     5\n",
            "Name: Weight, dtype: int64\n"
          ]
        }
      ]
    },
    {
      "cell_type": "code",
      "source": [
        "grouped_freq_table = wnba['PTS'].value_counts(bins=10, normalize=True).sort_index(ascending=False) * 100\n",
        "print(grouped_freq_table)"
      ],
      "metadata": {
        "id": "6s844pF6RpkF",
        "colab": {
          "base_uri": "https://localhost:8080/"
        },
        "outputId": "b35cf864-8b96-4976-dae8-3fa9266d8def"
      },
      "execution_count": null,
      "outputs": [
        {
          "output_type": "stream",
          "name": "stdout",
          "text": [
            "(525.8, 584.0]     3.496503\n",
            "(467.6, 525.8]     2.797203\n",
            "(409.4, 467.6]     5.594406\n",
            "(351.2, 409.4]     6.993007\n",
            "(293.0, 351.2]     5.594406\n",
            "(234.8, 293.0]    11.888112\n",
            "(176.6, 234.8]    13.986014\n",
            "(118.4, 176.6]    11.888112\n",
            "(60.2, 118.4]     16.783217\n",
            "(1.417, 60.2]     20.979021\n",
            "Name: PTS, dtype: float64\n"
          ]
        }
      ]
    },
    {
      "cell_type": "markdown",
      "source": [
        "Pandas interval range method lets us create our own interval ranges and distributions through: start, end and freq parameters. This could be used for setting ticks on a chart or to set manually set our own specific distribution ranges (when needed)."
      ],
      "metadata": {
        "id": "AdtiaqtfULAk"
      }
    },
    {
      "cell_type": "code",
      "source": [
        "print(wnba['PTS'].value_counts(bins = 6).sort_index())\n",
        "intervals = pd.interval_range(start = 0, end = 600, freq = 100)\n",
        "print(intervals)"
      ],
      "metadata": {
        "id": "YiL1fUZfTssD",
        "colab": {
          "base_uri": "https://localhost:8080/"
        },
        "outputId": "16121cd3-68f6-47c8-cfe3-005c4e6a481a"
      },
      "execution_count": null,
      "outputs": [
        {
          "output_type": "stream",
          "name": "stdout",
          "text": [
            "(1.417, 99.0]     48\n",
            "(99.0, 196.0]     27\n",
            "(196.0, 293.0]    33\n",
            "(293.0, 390.0]    13\n",
            "(390.0, 487.0]    13\n",
            "(487.0, 584.0]     9\n",
            "Name: PTS, dtype: int64\n",
            "IntervalIndex([(0, 100], (100, 200], (200, 300], (300, 400], (400, 500], (500, 600]], dtype='interval[int64, right]')\n"
          ]
        }
      ]
    },
    {
      "cell_type": "markdown",
      "source": [
        "By passing the interval variable we created using Pandas interval_range method to bin = in a frequency chart, we can have the distribution calculated for our whatever interval range we choose to set. \n",
        "\n",
        "From the perspective of a reader, we know how interval ranges that are much more logical and easier to follow (audience is always a key component with data).\n",
        "\n",
        "We can see the sum of the freq table with our interval distribution is 143 which matches the amount of players in the entire sample."
      ],
      "metadata": {
        "id": "1a-K-ekDUpOv"
      }
    },
    {
      "cell_type": "code",
      "source": [
        "print(wnba['PTS'].value_counts(bins = intervals).sort_index())\n",
        "pts_freq_table = wnba['PTS'].value_counts(bins = intervals).sort_index()\n",
        "print(pts_freq_table.sum())"
      ],
      "metadata": {
        "id": "gGxMZvwvU4Ts",
        "colab": {
          "base_uri": "https://localhost:8080/"
        },
        "outputId": "46cfd83e-eba2-4442-88f5-ec8a1a61e4df"
      },
      "execution_count": null,
      "outputs": [
        {
          "output_type": "stream",
          "name": "stdout",
          "text": [
            "(0, 100]      49\n",
            "(100, 200]    28\n",
            "(200, 300]    32\n",
            "(300, 400]    17\n",
            "(400, 500]    10\n",
            "(500, 600]     7\n",
            "Name: PTS, dtype: int64\n",
            "143\n"
          ]
        }
      ]
    },
    {
      "cell_type": "code",
      "source": [
        "print(wnba['Height'].value_counts()[175])"
      ],
      "metadata": {
        "id": "aKoaLox4W2RE",
        "colab": {
          "base_uri": "https://localhost:8080/"
        },
        "outputId": "57a9ad3d-ec94-42db-a48b-6b1cfd656a6e"
      },
      "execution_count": null,
      "outputs": [
        {
          "output_type": "stream",
          "name": "stdout",
          "text": [
            "16\n"
          ]
        }
      ]
    },
    {
      "cell_type": "code",
      "source": [
        "print(wnba['Height'].describe().iloc[3:])"
      ],
      "metadata": {
        "id": "COFee72mXLiv",
        "colab": {
          "base_uri": "https://localhost:8080/"
        },
        "outputId": "e6c173f7-f186-4cf3-f76f-8788a58952c7"
      },
      "execution_count": null,
      "outputs": [
        {
          "output_type": "stream",
          "name": "stdout",
          "text": [
            "min    165.0\n",
            "25%    176.5\n",
            "50%    185.0\n",
            "75%    191.0\n",
            "max    206.0\n",
            "Name: Height, dtype: float64\n"
          ]
        }
      ]
    },
    {
      "cell_type": "code",
      "source": [
        "wnba['Pos'].value_counts().plot.bar()"
      ],
      "metadata": {
        "id": "M92dlUscYt2s",
        "colab": {
          "base_uri": "https://localhost:8080/",
          "height": 457
        },
        "outputId": "95a418ed-3513-4ea5-e947-b26cbdee3538"
      },
      "execution_count": null,
      "outputs": [
        {
          "output_type": "execute_result",
          "data": {
            "text/plain": [
              "<Axes: >"
            ]
          },
          "metadata": {},
          "execution_count": 367
        },
        {
          "output_type": "display_data",
          "data": {
            "text/plain": [
              "<Figure size 640x480 with 1 Axes>"
            ],
            "image/png": "[encoded data removed]"
          },
          "metadata": {}
        }
      ]
    },
    {
      "cell_type": "markdown",
      "source": [
        "The use of bins makes this dataset chartable and extremly informative even with just 5 bins now. We can see that 54 people had 118 points or less and 27 people had 352 to 584 points"
      ],
      "metadata": {
        "id": "EMYtbqVGZbeA"
      }
    },
    {
      "cell_type": "code",
      "source": [
        "wnba['PTS'].value_counts(bins=5).plot.barh()"
      ],
      "metadata": {
        "id": "-qxau-kLZA92",
        "colab": {
          "base_uri": "https://localhost:8080/",
          "height": 448
        },
        "outputId": "8474b0ea-2482-4f19-9591-570079826435"
      },
      "execution_count": null,
      "outputs": [
        {
          "output_type": "execute_result",
          "data": {
            "text/plain": [
              "<Axes: >"
            ]
          },
          "metadata": {},
          "execution_count": 368
        },
        {
          "output_type": "display_data",
          "data": {
            "text/plain": [
              "<Figure size 640x480 with 1 Axes>"
            ],
            "image/png": "[encoded data removed]"
          },
          "metadata": {}
        }
      ]
    },
    {
      "cell_type": "code",
      "source": [
        "wnba['PTS'].value_counts(bins=5)"
      ],
      "metadata": {
        "id": "SIT_QkhEZoyL",
        "colab": {
          "base_uri": "https://localhost:8080/"
        },
        "outputId": "a185050f-e69c-49a9-f690-f09d1df94bfe"
      },
      "execution_count": null,
      "outputs": [
        {
          "output_type": "execute_result",
          "data": {
            "text/plain": [
              "(1.417, 118.4]    54\n",
              "(118.4, 234.8]    37\n",
              "(234.8, 351.2]    25\n",
              "(351.2, 467.6]    18\n",
              "(467.6, 584.0]     9\n",
              "Name: PTS, dtype: int64"
            ]
          },
          "metadata": {},
          "execution_count": 369
        }
      ]
    },
    {
      "cell_type": "code",
      "source": [
        "wnba.columns"
      ],
      "metadata": {
        "id": "IeLiOxkGbEAO",
        "colab": {
          "base_uri": "https://localhost:8080/"
        },
        "outputId": "d6a29ed6-384d-474c-ba29-d529c818198b"
      },
      "execution_count": null,
      "outputs": [
        {
          "output_type": "execute_result",
          "data": {
            "text/plain": [
              "Index(['Name', 'Team', 'Pos', 'Height', 'Weight', 'BMI', 'Birth_Place',\n",
              "       'Birthdate', 'Age', 'College', 'Experience', 'Games Played', 'MIN',\n",
              "       'FGM', 'FGA', 'FG%', '15:00', '3PA', '3P%', 'FTM', 'FTA', 'FT%', 'OREB',\n",
              "       'DREB', 'REB', 'AST', 'STL', 'BLK', 'TO', 'PTS', 'DD2', 'TD3',\n",
              "       'Pts_per_game', 'PTS_ordinal_scale'],\n",
              "      dtype='object')"
            ]
          },
          "metadata": {},
          "execution_count": 370
        }
      ]
    },
    {
      "cell_type": "code",
      "source": [
        "wnba['Pos'].value_counts().plot.barh(title = 'Number of players in WNBA by position')\n",
        "plt.show()"
      ],
      "metadata": {
        "id": "fbfINLfVb8O8",
        "colab": {
          "base_uri": "https://localhost:8080/",
          "height": 452
        },
        "outputId": "09e1ed8c-0ae5-447b-a50d-c22a8d86d394"
      },
      "execution_count": null,
      "outputs": [
        {
          "output_type": "display_data",
          "data": {
            "text/plain": [
              "<Figure size 640x480 with 1 Axes>"
            ],
            "image/png": "[encoded data removed]"
          },
          "metadata": {}
        }
      ]
    },
    {
      "cell_type": "code",
      "source": [
        "wnba['Pos'].value_counts().plot.pie(title = 'Number of players in WNBA by position')\n",
        "plt.show()"
      ],
      "metadata": {
        "id": "uFQojHG2dzBi",
        "colab": {
          "base_uri": "https://localhost:8080/",
          "height": 428
        },
        "outputId": "10938446-940b-4d59-e6af-c92e743ebf8a"
      },
      "execution_count": null,
      "outputs": [
        {
          "output_type": "display_data",
          "data": {
            "text/plain": [
              "<Figure size 640x480 with 1 Axes>"
            ],
            "image/png": "[encoded data removed]"
          },
          "metadata": {}
        }
      ]
    },
    {
      "cell_type": "code",
      "source": [
        "wnba['PTS'].value_counts(bins=intervals).plot.pie()\n",
        "plt.ylabel('')"
      ],
      "metadata": {
        "id": "_cUepPhXfmLx",
        "colab": {
          "base_uri": "https://localhost:8080/",
          "height": 424
        },
        "outputId": "8586d788-a4cd-40a9-c467-4b7071ab6bdc"
      },
      "execution_count": null,
      "outputs": [
        {
          "output_type": "execute_result",
          "data": {
            "text/plain": [
              "Text(0, 0.5, '')"
            ]
          },
          "metadata": {},
          "execution_count": 373
        },
        {
          "output_type": "display_data",
          "data": {
            "text/plain": [
              "<Figure size 640x480 with 1 Axes>"
            ],
            "image/png": "[encoded data removed]"
          },
          "metadata": {}
        }
      ]
    },
    {
      "cell_type": "code",
      "source": [
        "wnba['PTS'].value_counts(bins=intervals).plot.pie(figsize = (2,2) )"
      ],
      "metadata": {
        "id": "wZ80o4lMhM7T",
        "colab": {
          "base_uri": "https://localhost:8080/",
          "height": 209
        },
        "outputId": "ac201952-16fd-48ea-dad1-5acfb8709258"
      },
      "execution_count": null,
      "outputs": [
        {
          "output_type": "execute_result",
          "data": {
            "text/plain": [
              "<Axes: ylabel='PTS'>"
            ]
          },
          "metadata": {},
          "execution_count": 374
        },
        {
          "output_type": "display_data",
          "data": {
            "text/plain": [
              "<Figure size 200x200 with 1 Axes>"
            ],
            "image/png": "[encoded data removed]"
          },
          "metadata": {}
        }
      ]
    },
    {
      "cell_type": "markdown",
      "source": [
        "By using the autopct parameter we can have the percentages for our pie chart output directly on their respectice wedges. \n",
        "\n",
        "% announces string format\n",
        "\n",
        ".1 the level of decimal point precision (number of decimal points to measure)\n",
        "\n",
        "f display number as fixed point number\n",
        "\n",
        "% want to use percentages\n",
        "% include % percentage symbol in output"
      ],
      "metadata": {
        "id": "KCcrRYGHieJ6"
      }
    },
    {
      "cell_type": "code",
      "source": [
        "style.use('bmh')\n",
        "wnba['Pos'].value_counts().plot.pie(figsize = (6,6), autopct = '%.1f%%')\n",
        "plt.show()"
      ],
      "metadata": {
        "id": "Ny1vZyGwibvw",
        "colab": {
          "base_uri": "https://localhost:8080/",
          "height": 499
        },
        "outputId": "024b0ddc-46ea-47ec-fbea-46a65da3aa28"
      },
      "execution_count": null,
      "outputs": [
        {
          "output_type": "display_data",
          "data": {
            "text/plain": [
              "<Figure size 600x600 with 1 Axes>"
            ],
            "image/png": "[encoded data removed]"
          },
          "metadata": {}
        }
      ]
    },
    {
      "cell_type": "markdown",
      "source": [
        "histograms by default use a bin frequency of n = 10. you can set hist(bins=n) "
      ],
      "metadata": {
        "id": "mYJ-4iR8_4MI"
      }
    },
    {
      "cell_type": "code",
      "source": [
        "wnba['PTS'].plot.hist(grid=False)"
      ],
      "metadata": {
        "colab": {
          "base_uri": "https://localhost:8080/",
          "height": 443
        },
        "id": "DAmJR0X1_ZVf",
        "outputId": "d6742e7e-dd76-45e5-fe13-4a1eef337c8e"
      },
      "execution_count": null,
      "outputs": [
        {
          "output_type": "execute_result",
          "data": {
            "text/plain": [
              "<Axes: ylabel='Frequency'>"
            ]
          },
          "metadata": {},
          "execution_count": 399
        },
        {
          "output_type": "display_data",
          "data": {
            "text/plain": [
              "<Figure size 640x480 with 1 Axes>"
            ],
            "image/png": "[encoded data removed]"
          },
          "metadata": {}
        }
      ]
    },
    {
      "cell_type": "markdown",
      "source": [
        "Matches the output of our default histogram"
      ],
      "metadata": {
        "id": "_qs7FKWZAPv4"
      }
    },
    {
      "cell_type": "code",
      "source": [
        "wnba['PTS'].value_counts(bins=10).sort_index()"
      ],
      "metadata": {
        "colab": {
          "base_uri": "https://localhost:8080/"
        },
        "id": "CKvltQ0f__Fu",
        "outputId": "fa731c15-0034-4d90-d3d8-9909083fcf83"
      },
      "execution_count": null,
      "outputs": [
        {
          "output_type": "execute_result",
          "data": {
            "text/plain": [
              "(1.417, 60.2]     30\n",
              "(60.2, 118.4]     24\n",
              "(118.4, 176.6]    17\n",
              "(176.6, 234.8]    20\n",
              "(234.8, 293.0]    17\n",
              "(293.0, 351.2]     8\n",
              "(351.2, 409.4]    10\n",
              "(409.4, 467.6]     8\n",
              "(467.6, 525.8]     4\n",
              "(525.8, 584.0]     5\n",
              "Name: PTS, dtype: int64"
            ]
          },
          "metadata": {},
          "execution_count": 391
        }
      ]
    },
    {
      "cell_type": "code",
      "source": [
        "from numpy import arange\n",
        "\n",
        "wnba['PTS'].plot.hist(grid = True, xticks = arange(2,585,58.2), rot = 30)\n",
        "plt.show()"
      ],
      "metadata": {
        "colab": {
          "base_uri": "https://localhost:8080/",
          "height": 443
        },
        "id": "2KupLisOCVFr",
        "outputId": "41b9be15-7396-4426-ec14-da8d84ac0668"
      },
      "execution_count": null,
      "outputs": [
        {
          "output_type": "display_data",
          "data": {
            "text/plain": [
              "<Figure size 640x480 with 1 Axes>"
            ],
            "image/png": "[encoded data removed]"
          },
          "metadata": {}
        }
      ]
    },
    {
      "cell_type": "code",
      "source": [
        "print(wnba['Games Played'].describe())\n",
        "wnba['Games Played'].plot.hist()\n",
        "plt.show()"
      ],
      "metadata": {
        "colab": {
          "base_uri": "https://localhost:8080/",
          "height": 587
        },
        "id": "Lr-2WOleEgbw",
        "outputId": "8dc0fc54-9917-4fb3-a0fd-d6fad2baeacb"
      },
      "execution_count": null,
      "outputs": [
        {
          "output_type": "stream",
          "name": "stdout",
          "text": [
            "count    143.000000\n",
            "mean      24.356643\n",
            "std        7.104259\n",
            "min        2.000000\n",
            "25%       22.000000\n",
            "50%       27.000000\n",
            "75%       29.000000\n",
            "max       32.000000\n",
            "Name: Games Played, dtype: float64\n"
          ]
        },
        {
          "output_type": "display_data",
          "data": {
            "text/plain": [
              "<Figure size 640x480 with 1 Axes>"
            ],
            "image/png": "[encoded data removed]"
          },
          "metadata": {}
        }
      ]
    },
    {
      "cell_type": "markdown",
      "source": [
        "We can set the range "
      ],
      "metadata": {
        "id": "oEXuUDEuIn4V"
      }
    },
    {
      "cell_type": "code",
      "source": [
        "wnba['PTS'].describe()"
      ],
      "metadata": {
        "colab": {
          "base_uri": "https://localhost:8080/"
        },
        "id": "3XmOj6a5IyTQ",
        "outputId": "423b146b-ec50-47c0-f55d-dd532b9f91df"
      },
      "execution_count": null,
      "outputs": [
        {
          "output_type": "execute_result",
          "data": {
            "text/plain": [
              "count    143.000000\n",
              "mean     201.790210\n",
              "std      153.381548\n",
              "min        2.000000\n",
              "25%       75.000000\n",
              "50%      177.000000\n",
              "75%      277.500000\n",
              "max      584.000000\n",
              "Name: PTS, dtype: float64"
            ]
          },
          "metadata": {},
          "execution_count": 405
        }
      ]
    },
    {
      "cell_type": "code",
      "source": [
        "wnba['PTS'].plot.hist(range = (1,600), bins = 6)\n",
        "plt.show()"
      ],
      "metadata": {
        "colab": {
          "base_uri": "https://localhost:8080/",
          "height": 425
        },
        "id": "q8CfLXIPIglJ",
        "outputId": "b86c3c5e-04b5-4fab-80f2-a064f463f6ff"
      },
      "execution_count": null,
      "outputs": [
        {
          "output_type": "display_data",
          "data": {
            "text/plain": [
              "<Figure size 640x480 with 1 Axes>"
            ],
            "image/png": "[encoded data removed]"
          },
          "metadata": {}
        }
      ]
    },
    {
      "cell_type": "code",
      "source": [
        "wnba['PTS'].plot.hist(range = (1,600), bins = 8, title='Points Per Season Distribution')\n",
        "plt.show()\n",
        "wnba['Games Played'].plot.hist(range = (1,32), bins=8, title ='The distribution of players by games played')\n",
        "plt.xlabel('Games played')\n",
        "plt.show()\n",
        "print(wnba['Games Played'].value_counts(bins=8).sort_index())"
      ],
      "metadata": {
        "colab": {
          "base_uri": "https://localhost:8080/",
          "height": 1000
        },
        "id": "6EhNkYjmKz6W",
        "outputId": "02339672-ccbd-4278-84f6-39bf94f228f2"
      },
      "execution_count": null,
      "outputs": [
        {
          "output_type": "display_data",
          "data": {
            "text/plain": [
              "<Figure size 640x480 with 1 Axes>"
            ],
            "image/png": "[encoded data removed]"
          },
          "metadata": {}
        },
        {
          "output_type": "display_data",
          "data": {
            "text/plain": [
              "<Figure size 640x480 with 1 Axes>"
            ],
            "image/png": "[encoded data removed]"
          },
          "metadata": {}
        },
        {
          "output_type": "stream",
          "name": "stdout",
          "text": [
            "(1.969, 5.75]     5\n",
            "(5.75, 9.5]       5\n",
            "(9.5, 13.25]      3\n",
            "(13.25, 17.0]    10\n",
            "(17.0, 20.75]     8\n",
            "(20.75, 24.5]    20\n",
            "(24.5, 28.25]    31\n",
            "(28.25, 32.0]    61\n",
            "Name: Games Played, dtype: int64\n"
          ]
        }
      ]
    },
    {
      "cell_type": "code",
      "source": [
        "wnba['AST'].plot.hist()\n",
        "plt.show()\n",
        "wnba['FT%'].plot.hist()\n",
        "plt.show()"
      ],
      "metadata": {
        "colab": {
          "base_uri": "https://localhost:8080/",
          "height": 833
        },
        "id": "q35SX5mIMbeq",
        "outputId": "66a899d0-4a97-4030-f3f2-f7028813f265"
      },
      "execution_count": null,
      "outputs": [
        {
          "output_type": "display_data",
          "data": {
            "text/plain": [
              "<Figure size 640x480 with 1 Axes>"
            ],
            "image/png": "[encoded data removed]"
          },
          "metadata": {}
        },
        {
          "output_type": "display_data",
          "data": {
            "text/plain": [
              "<Figure size 640x480 with 1 Axes>"
            ],
            "image/png": "[encoded data removed]"
          },
          "metadata": {}
        }
      ]
    },
    {
      "cell_type": "code",
      "source": [
        "import matplotlib.pyplot as plt\n",
        "\n",
        "wnba['BMI'].plot.hist()\n",
        "plt.show()"
      ],
      "metadata": {
        "colab": {
          "base_uri": "https://localhost:8080/",
          "height": 425
        },
        "id": "azA1I4OrNqpv",
        "outputId": "2c08dc44-7a27-4c78-b0df-ca13d393511d"
      },
      "execution_count": null,
      "outputs": [
        {
          "output_type": "display_data",
          "data": {
            "text/plain": [
              "<Figure size 640x480 with 1 Axes>"
            ],
            "image/png": "[encoded data removed]"
          },
          "metadata": {}
        }
      ]
    },
    {
      "cell_type": "markdown",
      "source": [
        "Not surprisingly for a basketball team, Height follows the most normal frequency distribution (majority of values in center with outer edges falling off progressively)."
      ],
      "metadata": {
        "id": "0dr0qNbvOXL_"
      }
    },
    {
      "cell_type": "code",
      "source": [
        "wnba['Age'].plot.hist()\n",
        "plt.show()\n",
        "wnba['Height'].plot.hist()\n",
        "plt.show()\n",
        "wnba['MIN'].plot.hist()\n",
        "plt.show()\n"
      ],
      "metadata": {
        "colab": {
          "base_uri": "https://localhost:8080/",
          "height": 1000
        },
        "id": "ilpus2n7OTR3",
        "outputId": "85ba5e19-2f54-43a7-a14c-ccb654e08bed"
      },
      "execution_count": null,
      "outputs": [
        {
          "output_type": "display_data",
          "data": {
            "text/plain": [
              "<Figure size 640x480 with 1 Axes>"
            ],
            "image/png": "[encoded data removed]"
          },
          "metadata": {}
        },
        {
          "output_type": "display_data",
          "data": {
            "text/plain": [
              "<Figure size 640x480 with 1 Axes>"
            ],
            "image/png": "[encoded data removed]"
          },
          "metadata": {}
        },
        {
          "output_type": "display_data",
          "data": {
            "text/plain": [
              "<Figure size 640x480 with 1 Axes>"
            ],
            "image/png": "[encoded data removed]"
          },
          "metadata": {}
        }
      ]
    },
    {
      "cell_type": "markdown",
      "source": [
        "Years in WNBA\tLabel\n",
        "\n",
        "0\tRookie\n",
        "\n",
        "1-3\tLittle experience\n",
        "\n",
        "4-5\tExperienced\n",
        "\n",
        "5-10\tVery experienced\n",
        "\n",
        ">10\tVeteran"
      ],
      "metadata": {
        "id": "Qw5jP-aLQPni"
      }
    },
    {
      "cell_type": "code",
      "source": [
        "def make_exp_ordinal(row):\n",
        "  if row['Experience'] == 0:\n",
        "      return 'Rookie'\n",
        "  if (1 < row['Experience'] <= 3):\n",
        "      return 'Little Experience'\n",
        "  if (4 < row['Experience'] <= 5):\n",
        "      return 'Experienced'\n",
        "  if (5 < row['Experience'] <= 10):\n",
        "      return 'Very experienced'\n",
        "  else:\n",
        "    return 'Veteran'\n",
        "wnba['Exp_ordinal_scale'] = wnba.apply(make_exp_ordinal, axis = 1)\n"
      ],
      "metadata": {
        "id": "WigpXIqbPkDt"
      },
      "execution_count": null,
      "outputs": []
    },
    {
      "cell_type": "code",
      "source": [
        "print(wnba['Exp_ordinal_scale'].value_counts())"
      ],
      "metadata": {
        "colab": {
          "base_uri": "https://localhost:8080/"
        },
        "id": "psrTBDGeRanv",
        "outputId": "466fbf4f-29a1-46bb-c463-c3a249db47f4"
      },
      "execution_count": null,
      "outputs": [
        {
          "output_type": "stream",
          "name": "stdout",
          "text": [
            "Veteran              39\n",
            "Very experienced     37\n",
            "Little Experience    30\n",
            "Rookie               23\n",
            "Experienced          14\n",
            "Name: Exp_ordinal_scale, dtype: int64\n"
          ]
        }
      ]
    },
    {
      "cell_type": "code",
      "source": [
        "print(wnba['Exp_ordinal_scale'].describe())"
      ],
      "metadata": {
        "colab": {
          "base_uri": "https://localhost:8080/"
        },
        "id": "LFg-3eqKR0Xm",
        "outputId": "d5867956-6c22-4944-d061-08d479dae145"
      },
      "execution_count": null,
      "outputs": [
        {
          "output_type": "stream",
          "name": "stdout",
          "text": [
            "count         143\n",
            "unique          5\n",
            "top       Veteran\n",
            "freq           55\n",
            "Name: Exp_ordinal_scale, dtype: object\n"
          ]
        }
      ]
    },
    {
      "cell_type": "code",
      "source": [
        "rookies = wnba[wnba['Exp_ordinal_scale'] == 'Rookie']\n",
        "little_xp = wnba[wnba['Exp_ordinal_scale'] == 'Little Experience']\n",
        "experienced = wnba[wnba['Exp_ordinal_scale'] == 'Experienced']\n",
        "very_xp = wnba[wnba['Exp_ordinal_scale'] == 'Very experienced']\n",
        "veterans =  wnba[wnba['Exp_ordinal_scale'] == 'Veteran']"
      ],
      "metadata": {
        "id": "rzVIA3B3Tm4Z"
      },
      "execution_count": null,
      "outputs": []
    },
    {
      "cell_type": "code",
      "source": [
        "rookies['Pos'].value_counts()"
      ],
      "metadata": {
        "colab": {
          "base_uri": "https://localhost:8080/"
        },
        "id": "XO8fNMG3Tt0B",
        "outputId": "ec0a2b1f-8d3c-48dd-d740-b577704c7abd"
      },
      "execution_count": null,
      "outputs": [
        {
          "output_type": "execute_result",
          "data": {
            "text/plain": [
              "G      14\n",
              "C       4\n",
              "F       4\n",
              "F/C     1\n",
              "Name: Pos, dtype: int64"
            ]
          },
          "metadata": {},
          "execution_count": 469
        }
      ]
    },
    {
      "cell_type": "code",
      "source": [
        "rookies['Pos'].value_counts().plot.barh()"
      ],
      "metadata": {
        "colab": {
          "base_uri": "https://localhost:8080/",
          "height": 452
        },
        "id": "8grwOBtRTyoI",
        "outputId": "46ad6a5d-c50b-4ce8-a204-d7352b2b21dd"
      },
      "execution_count": null,
      "outputs": [
        {
          "output_type": "execute_result",
          "data": {
            "text/plain": [
              "<Axes: >"
            ]
          },
          "metadata": {},
          "execution_count": 470
        },
        {
          "output_type": "display_data",
          "data": {
            "text/plain": [
              "<Figure size 640x480 with 1 Axes>"
            ],
            "image/png": "[encoded data removed]"
          },
          "metadata": {}
        }
      ]
    },
    {
      "cell_type": "code",
      "source": [
        "rookie_distro = rookies['Pos'].value_counts()\n",
        "little_xp_distro = little_xp['Pos'].value_counts()\n",
        "experienced_distro =  experienced['Pos'].value_counts()\n",
        "very_xp_distro = very_xp['Pos'].value_counts()\n",
        "veterans_distro = veterans['Pos'].value_counts()\n"
      ],
      "metadata": {
        "id": "vtQTY3KTVIJ9"
      },
      "execution_count": null,
      "outputs": []
    },
    {
      "cell_type": "code",
      "source": [
        "print(experienced_distro)"
      ],
      "metadata": {
        "colab": {
          "base_uri": "https://localhost:8080/"
        },
        "id": "N03-BVJBd5GK",
        "outputId": "bc7b3c68-638a-40ac-9b60-63538cb2a92d"
      },
      "execution_count": null,
      "outputs": [
        {
          "output_type": "stream",
          "name": "stdout",
          "text": [
            "G      5\n",
            "C      3\n",
            "F/C    2\n",
            "G/F    2\n",
            "F      2\n",
            "Name: Pos, dtype: int64\n"
          ]
        }
      ]
    },
    {
      "cell_type": "code",
      "source": [
        "veterans_distro.plot.pie(title='Veterans')\n",
        "plt.show()\n",
        "rookie_distro.plot.pie(title='Rookies')\n",
        "plt.show()"
      ],
      "metadata": {
        "colab": {
          "base_uri": "https://localhost:8080/",
          "height": 851
        },
        "id": "Vq1oC03PVK9B",
        "outputId": "376960e6-e89c-4d9f-f3f2-50b02fb81611"
      },
      "execution_count": null,
      "outputs": [
        {
          "output_type": "display_data",
          "data": {
            "text/plain": [
              "<Figure size 640x480 with 1 Axes>"
            ],
            "image/png": "[encoded data removed]"
          },
          "metadata": {}
        },
        {
          "output_type": "display_data",
          "data": {
            "text/plain": [
              "<Figure size 640x480 with 1 Axes>"
            ],
            "image/png": "[encoded data removed]"
          },
          "metadata": {}
        }
      ]
    },
    {
      "cell_type": "markdown",
      "source": [
        "Using Seaborn's countplot function we can plot the entire Exp_ordinal_scale column across the x access. We select the position column to be represented as a hue and we can see the different positions, color coded for every level of experience. \n",
        "\n",
        "Guards are predominant at all levels of experience. Guard forwards and forward enters are more prevelant as experience level increases. "
      ],
      "metadata": {
        "id": "b3AMqP10X8nO"
      }
    },
    {
      "cell_type": "code",
      "source": [
        "import seaborn as sns\n",
        "style.use('dark_background')\n",
        "plt.figure().set_figwidth(12)\n",
        "sns.countplot(x ='Exp_ordinal_scale' , hue ='Pos' , data=wnba)\n",
        "plt.grid(False)\n",
        "plt.legend()\n",
        "plt.show()"
      ],
      "metadata": {
        "colab": {
          "base_uri": "https://localhost:8080/",
          "height": 459
        },
        "id": "Kk_egEOuW0n4",
        "outputId": "3fd0cfbb-8d2d-47de-8b9d-fc97f4652c9c"
      },
      "execution_count": null,
      "outputs": [
        {
          "output_type": "display_data",
          "data": {
            "text/plain": [
              "<Figure size 960x480 with 1 Axes>"
            ],
            "image/png": "[encoded data removed]"
          },
          "metadata": {}
        }
      ]
    },
    {
      "cell_type": "code",
      "source": [
        "style.use('dark_background')\n",
        "plt.figure().set_figwidth(12)\n",
        "sns.countplot(x ='Exp_ordinal_scale' , hue ='Pos', data=wnba, order = ['Rookie', 'Little Experience', 'Experienced', 'Very experienced', 'Veteran'])\n",
        "plt.show()"
      ],
      "metadata": {
        "colab": {
          "base_uri": "https://localhost:8080/",
          "height": 459
        },
        "id": "CSi5vEIfaPQA",
        "outputId": "8fc786bf-e8cd-4ab1-b739-fd3bfd6ebb15"
      },
      "execution_count": null,
      "outputs": [
        {
          "output_type": "display_data",
          "data": {
            "text/plain": [
              "<Figure size 960x480 with 1 Axes>"
            ],
            "image/png": "[encoded data removed]"
          },
          "metadata": {}
        }
      ]
    },
    {
      "cell_type": "markdown",
      "source": [
        "We can even reorder the elements in HUE (currently set to the POS field)\n",
        "\n"
      ],
      "metadata": {
        "id": "6wIFH6nab-RA"
      }
    },
    {
      "cell_type": "code",
      "source": [
        "plt.figure().set_figwidth(12)\n",
        "sns.countplot(x ='Exp_ordinal_scale' , hue ='Pos', data=wnba, order = ['Rookie', 'Little Experience', 'Experienced', 'Very experienced', 'Veteran'], hue_order=['C', 'F', 'F/C', 'G', 'G/F'])\n",
        "plt.show()"
      ],
      "metadata": {
        "colab": {
          "base_uri": "https://localhost:8080/",
          "height": 459
        },
        "id": "XE_rkJArb9fQ",
        "outputId": "85e38cbe-4944-43c2-e2cd-94b43547feda"
      },
      "execution_count": null,
      "outputs": [
        {
          "output_type": "display_data",
          "data": {
            "text/plain": [
              "<Figure size 960x480 with 1 Axes>"
            ],
            "image/png": "[encoded data removed]"
          },
          "metadata": {}
        }
      ]
    },
    {
      "cell_type": "code",
      "source": [
        "print(wnba['Exp_ordinal_scale'].value_counts())"
      ],
      "metadata": {
        "colab": {
          "base_uri": "https://localhost:8080/"
        },
        "id": "UrQKuUWWdUP5",
        "outputId": "bd390a72-cd8c-4992-b521-843226278cef"
      },
      "execution_count": null,
      "outputs": [
        {
          "output_type": "stream",
          "name": "stdout",
          "text": [
            "Veteran              39\n",
            "Very experienced     37\n",
            "Little Experience    30\n",
            "Rookie               23\n",
            "Experienced          14\n",
            "Name: Exp_ordinal_scale, dtype: int64\n"
          ]
        }
      ]
    },
    {
      "cell_type": "code",
      "source": [
        "print('Average Mins Per Season By Experience')\n",
        "print('Rookies:', round(rookies['MIN'].mean(),2))\n",
        "print('Little Experience:', round(little_xp['MIN'].mean(),2))\n",
        "print('Experienced:', round(experienced['MIN'].mean(),2))\n",
        "print('Very Experienced:', round(very_xp['MIN'].mean(),2))\n",
        "print('Veterans:', round(veterans['MIN'].mean(),2))\n",
        "print('Overall Average:', round(wnba['MIN'].mean(),2))"
      ],
      "metadata": {
        "colab": {
          "base_uri": "https://localhost:8080/"
        },
        "id": "1yBTfxm3c09S",
        "outputId": "22a332a8-7103-4b43-e0b1-09e15ee7adcd"
      },
      "execution_count": null,
      "outputs": [
        {
          "output_type": "stream",
          "name": "stdout",
          "text": [
            "Average Mins Per Season By Experience\n",
            "Rookies: 272.26\n",
            "Little Experience: 485.17\n",
            "Experienced: 492.86\n",
            "Very Experienced: 596.14\n",
            "Veterans: 545.97\n",
            "Overall Average: 496.97\n"
          ]
        }
      ]
    },
    {
      "cell_type": "code",
      "source": [
        "print('Average age:', round(wnba['Age'].mean(), 2))"
      ],
      "metadata": {
        "colab": {
          "base_uri": "https://localhost:8080/"
        },
        "id": "oDPt4L7bfP1a",
        "outputId": "bcefae6f-5208-4e61-d8e0-fdad3f3a3761"
      },
      "execution_count": null,
      "outputs": [
        {
          "output_type": "stream",
          "name": "stdout",
          "text": [
            "Average age: 27.08\n"
          ]
        }
      ]
    },
    {
      "cell_type": "code",
      "source": [
        "mean_age = wnba['Age'].mean()\n",
        "\n",
        "def ordinal_age(row):\n",
        "    if row['Age'] > mean_age:\n",
        "        return 'Old'\n",
        "    else:\n",
        "        return 'Young'\n"
      ],
      "metadata": {
        "id": "33DR2nxkir_A"
      },
      "execution_count": null,
      "outputs": []
    },
    {
      "cell_type": "code",
      "source": [
        "wnba['ordinal_age'] = wnba.apply(ordinal_age, axis=1)"
      ],
      "metadata": {
        "id": "yHhR9TgciwCh"
      },
      "execution_count": null,
      "outputs": []
    },
    {
      "cell_type": "code",
      "source": [
        "wnba['ordinal_age'].value_counts()"
      ],
      "metadata": {
        "colab": {
          "base_uri": "https://localhost:8080/"
        },
        "id": "utLScKhtjylF",
        "outputId": "8407b6e5-bea9-4faa-b5aa-02492244dde0"
      },
      "execution_count": null,
      "outputs": [
        {
          "output_type": "execute_result",
          "data": {
            "text/plain": [
              "Young    83\n",
              "Old      60\n",
              "Name: ordinal_age, dtype: int64"
            ]
          },
          "metadata": {},
          "execution_count": 501
        }
      ]
    },
    {
      "cell_type": "code",
      "source": [
        "wnba['age_mean_relative'] = wnba['Age'].apply(lambda x: 'old' if x >= 27.08 else 'young')\n",
        "wnba['min_mean_relative'] = wnba['MIN'].apply(lambda x: 'average or above' if x >= 497 else 'below average')"
      ],
      "metadata": {
        "id": "5ZGjiIZfj2c_"
      },
      "execution_count": null,
      "outputs": []
    },
    {
      "cell_type": "code",
      "source": [
        "print(wnba['age_mean_relative'].value_counts())"
      ],
      "metadata": {
        "colab": {
          "base_uri": "https://localhost:8080/"
        },
        "id": "zGuFg19yj9mR",
        "outputId": "c270aad5-3518-436e-a7f1-60f933b017de"
      },
      "execution_count": null,
      "outputs": [
        {
          "output_type": "stream",
          "name": "stdout",
          "text": [
            "young    83\n",
            "old      60\n",
            "Name: age_mean_relative, dtype: int64\n"
          ]
        }
      ]
    },
    {
      "cell_type": "code",
      "source": [
        "print(wnba['min_mean_relative'].value_counts())"
      ],
      "metadata": {
        "colab": {
          "base_uri": "https://localhost:8080/"
        },
        "id": "7F8lsr-IkNMg",
        "outputId": "a348abe6-9254-4b26-dbfe-70ef026ef4f2"
      },
      "execution_count": null,
      "outputs": [
        {
          "output_type": "stream",
          "name": "stdout",
          "text": [
            "average or above    73\n",
            "below average       70\n",
            "Name: min_mean_relative, dtype: int64\n"
          ]
        }
      ]
    },
    {
      "cell_type": "code",
      "source": [
        "sns.set_theme()\n",
        "sns.countplot(x='age_mean_relative', hue='min_mean_relative', data=wnba)\n",
        "plt.show()         \n"
      ],
      "metadata": {
        "id": "qIw9bUNkk2PA",
        "outputId": "e8731a7b-2ffa-4b53-f3e5-0649846dd54a",
        "colab": {
          "base_uri": "https://localhost:8080/",
          "height": 466
        }
      },
      "execution_count": null,
      "outputs": [
        {
          "output_type": "display_data",
          "data": {
            "text/plain": [
              "<Figure size 640x480 with 1 Axes>"
            ],
            "image/png": "[encoded data removed]"
          },
          "metadata": {}
        }
      ]
    },
    {
      "cell_type": "code",
      "source": [
        "print(little_xp)"
      ],
      "metadata": {
        "id": "LC0uMNGeduc3"
      },
      "execution_count": null,
      "outputs": []
    },
    {
      "cell_type": "code",
      "source": [
        "def make_pts_ordinal(row):\n",
        "    if row['PTS'] <= 20:\n",
        "        return 'very few points'\n",
        "    if (20 < row['PTS'] <=  80):\n",
        "        return 'few points'\n",
        "    if (80 < row['PTS'] <=  150):\n",
        "        return 'many, but below average'\n",
        "    if (150 < row['PTS'] <= 300):\n",
        "        return 'average number of points'\n",
        "    if (300 < row['PTS'] <=  450):\n",
        "        return 'more than average'\n",
        "    else:\n",
        "        return 'much more than average'\n",
        "    \n",
        "wnba['PTS_ordinal_scale'] = wnba.apply(make_pts_ordinal, axis = 1)\n",
        "\n",
        "print(wnba['PTS_ordinal_scale'].value_counts())"
      ],
      "metadata": {
        "id": "MN0RzIQDPiHc"
      },
      "execution_count": null,
      "outputs": []
    },
    {
      "cell_type": "code",
      "source": [
        "# Save the 'Experience' column\n",
        "experience_col = df_nominal_scale['Experience'].copy()\n",
        "\n",
        "# Drop the 'Experience' column from the DataFrame\n",
        "nominal_scale = df_nominal_scale.drop(columns=['Experience'])\n"
      ],
      "metadata": {
        "id": "lWTRrHFGRXCE",
        "colab": {
          "base_uri": "https://localhost:8080/",
          "height": 520
        },
        "outputId": "6e5824dc-6697-40f7-c74a-7d0ff6b46b47"
      },
      "execution_count": null,
      "outputs": [
        {
          "output_type": "error",
          "ename": "KeyError",
          "evalue": "ignored",
          "traceback": [
            "\u001b[0;31m---------------------------------------------------------------------------\u001b[0m",
            "\u001b[0;31mKeyError\u001b[0m                                  Traceback (most recent call last)",
            "\u001b[0;32m/usr/local/lib/python3.10/dist-packages/pandas/core/indexes/base.py\u001b[0m in \u001b[0;36mget_loc\u001b[0;34m(self, key, method, tolerance)\u001b[0m\n\u001b[1;32m   3801\u001b[0m             \u001b[0;32mtry\u001b[0m\u001b[0;34m:\u001b[0m\u001b[0;34m\u001b[0m\u001b[0;34m\u001b[0m\u001b[0m\n\u001b[0;32m-> 3802\u001b[0;31m                 \u001b[0;32mreturn\u001b[0m \u001b[0mself\u001b[0m\u001b[0;34m.\u001b[0m\u001b[0m_engine\u001b[0m\u001b[0;34m.\u001b[0m\u001b[0mget_loc\u001b[0m\u001b[0;34m(\u001b[0m\u001b[0mcasted_key\u001b[0m\u001b[0;34m)\u001b[0m\u001b[0;34m\u001b[0m\u001b[0;34m\u001b[0m\u001b[0m\n\u001b[0m\u001b[1;32m   3803\u001b[0m             \u001b[0;32mexcept\u001b[0m \u001b[0mKeyError\u001b[0m \u001b[0;32mas\u001b[0m \u001b[0merr\u001b[0m\u001b[0;34m:\u001b[0m\u001b[0;34m\u001b[0m\u001b[0;34m\u001b[0m\u001b[0m\n",
            "\u001b[0;32m/usr/local/lib/python3.10/dist-packages/pandas/_libs/index.pyx\u001b[0m in \u001b[0;36mpandas._libs.index.IndexEngine.get_loc\u001b[0;34m()\u001b[0m\n",
            "\u001b[0;32m/usr/local/lib/python3.10/dist-packages/pandas/_libs/index.pyx\u001b[0m in \u001b[0;36mpandas._libs.index.IndexEngine.get_loc\u001b[0;34m()\u001b[0m\n",
            "\u001b[0;32mpandas/_libs/hashtable_class_helper.pxi\u001b[0m in \u001b[0;36mpandas._libs.hashtable.PyObjectHashTable.get_item\u001b[0;34m()\u001b[0m\n",
            "\u001b[0;32mpandas/_libs/hashtable_class_helper.pxi\u001b[0m in \u001b[0;36mpandas._libs.hashtable.PyObjectHashTable.get_item\u001b[0;34m()\u001b[0m\n",
            "\u001b[0;31mKeyError\u001b[0m: 'Experience'",
            "\nThe above exception was the direct cause of the following exception:\n",
            "\u001b[0;31mKeyError\u001b[0m                                  Traceback (most recent call last)",
            "\u001b[0;32m<ipython-input-376-46cdd02b3407>\u001b[0m in \u001b[0;36m<cell line: 2>\u001b[0;34m()\u001b[0m\n\u001b[1;32m      1\u001b[0m \u001b[0;31m# Save the 'Experience' column\u001b[0m\u001b[0;34m\u001b[0m\u001b[0;34m\u001b[0m\u001b[0m\n\u001b[0;32m----> 2\u001b[0;31m \u001b[0mexperience_col\u001b[0m \u001b[0;34m=\u001b[0m \u001b[0mdf_nominal_scale\u001b[0m\u001b[0;34m[\u001b[0m\u001b[0;34m'Experience'\u001b[0m\u001b[0;34m]\u001b[0m\u001b[0;34m.\u001b[0m\u001b[0mcopy\u001b[0m\u001b[0;34m(\u001b[0m\u001b[0;34m)\u001b[0m\u001b[0;34m\u001b[0m\u001b[0;34m\u001b[0m\u001b[0m\n\u001b[0m\u001b[1;32m      3\u001b[0m \u001b[0;34m\u001b[0m\u001b[0m\n\u001b[1;32m      4\u001b[0m \u001b[0;31m# Drop the 'Experience' column from the DataFrame\u001b[0m\u001b[0;34m\u001b[0m\u001b[0;34m\u001b[0m\u001b[0m\n\u001b[1;32m      5\u001b[0m \u001b[0mnominal_scale\u001b[0m \u001b[0;34m=\u001b[0m \u001b[0mdf_nominal_scale\u001b[0m\u001b[0;34m.\u001b[0m\u001b[0mdrop\u001b[0m\u001b[0;34m(\u001b[0m\u001b[0mcolumns\u001b[0m\u001b[0;34m=\u001b[0m\u001b[0;34m[\u001b[0m\u001b[0;34m'Experience'\u001b[0m\u001b[0;34m]\u001b[0m\u001b[0;34m)\u001b[0m\u001b[0;34m\u001b[0m\u001b[0;34m\u001b[0m\u001b[0m\n",
            "\u001b[0;32m/usr/local/lib/python3.10/dist-packages/pandas/core/frame.py\u001b[0m in \u001b[0;36m__getitem__\u001b[0;34m(self, key)\u001b[0m\n\u001b[1;32m   3805\u001b[0m             \u001b[0;32mif\u001b[0m \u001b[0mself\u001b[0m\u001b[0;34m.\u001b[0m\u001b[0mcolumns\u001b[0m\u001b[0;34m.\u001b[0m\u001b[0mnlevels\u001b[0m \u001b[0;34m>\u001b[0m \u001b[0;36m1\u001b[0m\u001b[0;34m:\u001b[0m\u001b[0;34m\u001b[0m\u001b[0;34m\u001b[0m\u001b[0m\n\u001b[1;32m   3806\u001b[0m                 \u001b[0;32mreturn\u001b[0m \u001b[0mself\u001b[0m\u001b[0;34m.\u001b[0m\u001b[0m_getitem_multilevel\u001b[0m\u001b[0;34m(\u001b[0m\u001b[0mkey\u001b[0m\u001b[0;34m)\u001b[0m\u001b[0;34m\u001b[0m\u001b[0;34m\u001b[0m\u001b[0m\n\u001b[0;32m-> 3807\u001b[0;31m             \u001b[0mindexer\u001b[0m \u001b[0;34m=\u001b[0m \u001b[0mself\u001b[0m\u001b[0;34m.\u001b[0m\u001b[0mcolumns\u001b[0m\u001b[0;34m.\u001b[0m\u001b[0mget_loc\u001b[0m\u001b[0;34m(\u001b[0m\u001b[0mkey\u001b[0m\u001b[0;34m)\u001b[0m\u001b[0;34m\u001b[0m\u001b[0;34m\u001b[0m\u001b[0m\n\u001b[0m\u001b[1;32m   3808\u001b[0m             \u001b[0;32mif\u001b[0m \u001b[0mis_integer\u001b[0m\u001b[0;34m(\u001b[0m\u001b[0mindexer\u001b[0m\u001b[0;34m)\u001b[0m\u001b[0;34m:\u001b[0m\u001b[0;34m\u001b[0m\u001b[0;34m\u001b[0m\u001b[0m\n\u001b[1;32m   3809\u001b[0m                 \u001b[0mindexer\u001b[0m \u001b[0;34m=\u001b[0m \u001b[0;34m[\u001b[0m\u001b[0mindexer\u001b[0m\u001b[0;34m]\u001b[0m\u001b[0;34m\u001b[0m\u001b[0;34m\u001b[0m\u001b[0m\n",
            "\u001b[0;32m/usr/local/lib/python3.10/dist-packages/pandas/core/indexes/base.py\u001b[0m in \u001b[0;36mget_loc\u001b[0;34m(self, key, method, tolerance)\u001b[0m\n\u001b[1;32m   3802\u001b[0m                 \u001b[0;32mreturn\u001b[0m \u001b[0mself\u001b[0m\u001b[0;34m.\u001b[0m\u001b[0m_engine\u001b[0m\u001b[0;34m.\u001b[0m\u001b[0mget_loc\u001b[0m\u001b[0;34m(\u001b[0m\u001b[0mcasted_key\u001b[0m\u001b[0;34m)\u001b[0m\u001b[0;34m\u001b[0m\u001b[0;34m\u001b[0m\u001b[0m\n\u001b[1;32m   3803\u001b[0m             \u001b[0;32mexcept\u001b[0m \u001b[0mKeyError\u001b[0m \u001b[0;32mas\u001b[0m \u001b[0merr\u001b[0m\u001b[0;34m:\u001b[0m\u001b[0;34m\u001b[0m\u001b[0;34m\u001b[0m\u001b[0m\n\u001b[0;32m-> 3804\u001b[0;31m                 \u001b[0;32mraise\u001b[0m \u001b[0mKeyError\u001b[0m\u001b[0;34m(\u001b[0m\u001b[0mkey\u001b[0m\u001b[0;34m)\u001b[0m \u001b[0;32mfrom\u001b[0m \u001b[0merr\u001b[0m\u001b[0;34m\u001b[0m\u001b[0;34m\u001b[0m\u001b[0m\n\u001b[0m\u001b[1;32m   3805\u001b[0m             \u001b[0;32mexcept\u001b[0m \u001b[0mTypeError\u001b[0m\u001b[0;34m:\u001b[0m\u001b[0;34m\u001b[0m\u001b[0;34m\u001b[0m\u001b[0m\n\u001b[1;32m   3806\u001b[0m                 \u001b[0;31m# If we have a listlike key, _check_indexing_error will raise\u001b[0m\u001b[0;34m\u001b[0m\u001b[0;34m\u001b[0m\u001b[0m\n",
            "\u001b[0;31mKeyError\u001b[0m: 'Experience'"
          ]
        }
      ]
    },
    {
      "cell_type": "code",
      "source": [],
      "metadata": {
        "id": "1TcI-PmuRYlE"
      },
      "execution_count": null,
      "outputs": []
    }
  ]
}