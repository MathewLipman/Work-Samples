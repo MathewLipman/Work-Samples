{
  "nbformat": 4,
  "nbformat_minor": 0,
  "metadata": {
    "colab": {
      "provenance": [],
      "mount_file_id": "17K-slyG9pfLDp3P3gtYXhTjoFNt3jMVz",
      "authorship_tag": "ABX9TyNw5IkMTjliZYZ/UyDeh1Xm",
      "include_colab_link": true
    },
    "kernelspec": {
      "name": "python3",
      "display_name": "Python 3"
    },
    "language_info": {
      "name": "python"
    }
  },
  "cells": [
    {
      "cell_type": "markdown",
      "metadata": {
        "id": "view-in-github",
        "colab_type": "text"
      },
      "source": [
        "<a href=\"https://colab.research.google.com/github/MathewLipman/Work-Samples/blob/main/German_Ebay_Used_Auto.ipynb\" target=\"_parent\"><img src=\"https://colab.research.google.com/assets/colab-badge.svg\" alt=\"Open In Colab\"/></a>"
      ]
    },
    {
      "cell_type": "code",
      "execution_count": 4,
      "metadata": {
        "id": "6e9Q5xenQbAD"
      },
      "outputs": [],
      "source": [
        "import numpy as np\n",
        "import pandas as pd"
      ]
    },
    {
      "cell_type": "code",
      "source": [
        "autos = pd.read_csv(\"/content/drive/MyDrive/Dataset/autos.csv\", encoding=\"Latin-1\")\n",
        "print(autos.columns)\n",
        "lower_capped = autos.columns.str.lower()\n",
        "print(lower_capped)"
      ],
      "metadata": {
        "colab": {
          "base_uri": "https://localhost:8080/"
        },
        "id": "UtOiNpLOQbbW",
        "outputId": "8be2215f-e24d-427b-c1bb-aa651eeb806b"
      },
      "execution_count": 5,
      "outputs": [
        {
          "output_type": "stream",
          "name": "stdout",
          "text": [
            "Index(['dateCrawled', 'name', 'seller', 'offerType', 'price', 'abtest',\n",
            "       'vehicleType', 'yearOfRegistration', 'gearbox', 'powerPS', 'model',\n",
            "       'kilometer', 'monthOfRegistration', 'fuelType', 'brand',\n",
            "       'notRepairedDamage', 'dateCreated', 'nrOfPictures', 'postalCode',\n",
            "       'lastSeen'],\n",
            "      dtype='object')\n",
            "Index(['datecrawled', 'name', 'seller', 'offertype', 'price', 'abtest',\n",
            "       'vehicletype', 'yearofregistration', 'gearbox', 'powerps', 'model',\n",
            "       'kilometer', 'monthofregistration', 'fueltype', 'brand',\n",
            "       'notrepaireddamage', 'datecreated', 'nrofpictures', 'postalcode',\n",
            "       'lastseen'],\n",
            "      dtype='object')\n"
          ]
        }
      ]
    },
    {
      "cell_type": "code",
      "source": [
        "autos.info"
      ],
      "metadata": {
        "colab": {
          "base_uri": "https://localhost:8080/"
        },
        "id": "hVgZfK1pSDTc",
        "outputId": "ebf602c7-cd3f-412b-b40f-380c17b65d03"
      },
      "execution_count": 6,
      "outputs": [
        {
          "output_type": "execute_result",
          "data": {
            "text/plain": [
              "<bound method DataFrame.info of                 dateCrawled                                          name  \\\n",
              "0       2016-03-24 11:52:17                                    Golf_3_1.6   \n",
              "1       2016-03-24 10:58:45                          A5_Sportback_2.7_Tdi   \n",
              "2       2016-03-14 12:52:21                Jeep_Grand_Cherokee_\"Overland\"   \n",
              "3       2016-03-17 16:54:04                            GOLF_4_1_4__3TÜRER   \n",
              "4       2016-03-31 17:25:20                Skoda_Fabia_1.4_TDI_PD_Classic   \n",
              "...                     ...                                           ...   \n",
              "371523  2016-03-14 17:48:27                    Suche_t4___vito_ab_6_sitze   \n",
              "371524  2016-03-05 19:56:21         Smart_smart_leistungssteigerung_100ps   \n",
              "371525  2016-03-19 18:57:12            Volkswagen_Multivan_T4_TDI_7DC_UY2   \n",
              "371526  2016-03-20 19:41:08                        VW_Golf_Kombi_1_9l_TDI   \n",
              "371527  2016-03-07 19:39:19  BMW_M135i_vollausgestattet_NP_52.720____Euro   \n",
              "\n",
              "        seller offerType  price   abtest vehicleType  yearOfRegistration  \\\n",
              "0       privat   Angebot    480     test         NaN                1993   \n",
              "1       privat   Angebot  18300     test       coupe                2011   \n",
              "2       privat   Angebot   9800     test         suv                2004   \n",
              "3       privat   Angebot   1500     test  kleinwagen                2001   \n",
              "4       privat   Angebot   3600     test  kleinwagen                2008   \n",
              "...        ...       ...    ...      ...         ...                 ...   \n",
              "371523  privat   Angebot   2200     test         NaN                2005   \n",
              "371524  privat   Angebot   1199     test      cabrio                2000   \n",
              "371525  privat   Angebot   9200     test         bus                1996   \n",
              "371526  privat   Angebot   3400     test       kombi                2002   \n",
              "371527  privat   Angebot  28990  control   limousine                2013   \n",
              "\n",
              "          gearbox  powerPS        model  kilometer  monthOfRegistration  \\\n",
              "0         manuell        0         golf     150000                    0   \n",
              "1         manuell      190          NaN     125000                    5   \n",
              "2       automatik      163        grand     125000                    8   \n",
              "3         manuell       75         golf     150000                    6   \n",
              "4         manuell       69        fabia      90000                    7   \n",
              "...           ...      ...          ...        ...                  ...   \n",
              "371523        NaN        0          NaN      20000                    1   \n",
              "371524  automatik      101       fortwo     125000                    3   \n",
              "371525    manuell      102  transporter     150000                    3   \n",
              "371526    manuell      100         golf     150000                    6   \n",
              "371527    manuell      320      m_reihe      50000                    8   \n",
              "\n",
              "       fuelType           brand notRepairedDamage          dateCreated  \\\n",
              "0        benzin      volkswagen               NaN  2016-03-24 00:00:00   \n",
              "1        diesel            audi                ja  2016-03-24 00:00:00   \n",
              "2        diesel            jeep               NaN  2016-03-14 00:00:00   \n",
              "3        benzin      volkswagen              nein  2016-03-17 00:00:00   \n",
              "4        diesel           skoda              nein  2016-03-31 00:00:00   \n",
              "...         ...             ...               ...                  ...   \n",
              "371523      NaN  sonstige_autos               NaN  2016-03-14 00:00:00   \n",
              "371524   benzin           smart              nein  2016-03-05 00:00:00   \n",
              "371525   diesel      volkswagen              nein  2016-03-19 00:00:00   \n",
              "371526   diesel      volkswagen               NaN  2016-03-20 00:00:00   \n",
              "371527   benzin             bmw              nein  2016-03-07 00:00:00   \n",
              "\n",
              "        nrOfPictures  postalCode             lastSeen  \n",
              "0                  0       70435  2016-04-07 03:16:57  \n",
              "1                  0       66954  2016-04-07 01:46:50  \n",
              "2                  0       90480  2016-04-05 12:47:46  \n",
              "3                  0       91074  2016-03-17 17:40:17  \n",
              "4                  0       60437  2016-04-06 10:17:21  \n",
              "...              ...         ...                  ...  \n",
              "371523             0       39576  2016-04-06 00:46:52  \n",
              "371524             0       26135  2016-03-11 18:17:12  \n",
              "371525             0       87439  2016-04-07 07:15:26  \n",
              "371526             0       40764  2016-03-24 12:45:21  \n",
              "371527             0       73326  2016-03-22 03:17:10  \n",
              "\n",
              "[371528 rows x 20 columns]>"
            ]
          },
          "metadata": {},
          "execution_count": 6
        }
      ]
    },
    {
      "cell_type": "code",
      "source": [
        "autos.head()"
      ],
      "metadata": {
        "colab": {
          "base_uri": "https://localhost:8080/",
          "height": 438
        },
        "id": "BwEe_0vITfUY",
        "outputId": "6a29ff1f-cbeb-46fb-d73a-567a6117c356"
      },
      "execution_count": 7,
      "outputs": [
        {
          "output_type": "execute_result",
          "data": {
            "text/plain": [
              "           dateCrawled                            name  seller offerType  \\\n",
              "0  2016-03-24 11:52:17                      Golf_3_1.6  privat   Angebot   \n",
              "1  2016-03-24 10:58:45            A5_Sportback_2.7_Tdi  privat   Angebot   \n",
              "2  2016-03-14 12:52:21  Jeep_Grand_Cherokee_\"Overland\"  privat   Angebot   \n",
              "3  2016-03-17 16:54:04              GOLF_4_1_4__3TÜRER  privat   Angebot   \n",
              "4  2016-03-31 17:25:20  Skoda_Fabia_1.4_TDI_PD_Classic  privat   Angebot   \n",
              "\n",
              "   price abtest vehicleType  yearOfRegistration    gearbox  powerPS  model  \\\n",
              "0    480   test         NaN                1993    manuell        0   golf   \n",
              "1  18300   test       coupe                2011    manuell      190    NaN   \n",
              "2   9800   test         suv                2004  automatik      163  grand   \n",
              "3   1500   test  kleinwagen                2001    manuell       75   golf   \n",
              "4   3600   test  kleinwagen                2008    manuell       69  fabia   \n",
              "\n",
              "   kilometer  monthOfRegistration fuelType       brand notRepairedDamage  \\\n",
              "0     150000                    0   benzin  volkswagen               NaN   \n",
              "1     125000                    5   diesel        audi                ja   \n",
              "2     125000                    8   diesel        jeep               NaN   \n",
              "3     150000                    6   benzin  volkswagen              nein   \n",
              "4      90000                    7   diesel       skoda              nein   \n",
              "\n",
              "           dateCreated  nrOfPictures  postalCode             lastSeen  \n",
              "0  2016-03-24 00:00:00             0       70435  2016-04-07 03:16:57  \n",
              "1  2016-03-24 00:00:00             0       66954  2016-04-07 01:46:50  \n",
              "2  2016-03-14 00:00:00             0       90480  2016-04-05 12:47:46  \n",
              "3  2016-03-17 00:00:00             0       91074  2016-03-17 17:40:17  \n",
              "4  2016-03-31 00:00:00             0       60437  2016-04-06 10:17:21  "
            ],
            "text/html": [
              "\n",
              "  <div id=\"df-fb2b8ef7-2ceb-4e5f-84d7-597736873a90\">\n",
              "    <div class=\"colab-df-container\">\n",
              "      <div>\n",
              "<style scoped>\n",
              "    .dataframe tbody tr th:only-of-type {\n",
              "        vertical-align: middle;\n",
              "    }\n",
              "\n",
              "    .dataframe tbody tr th {\n",
              "        vertical-align: top;\n",
              "    }\n",
              "\n",
              "    .dataframe thead th {\n",
              "        text-align: right;\n",
              "    }\n",
              "</style>\n",
              "<table border=\"1\" class=\"dataframe\">\n",
              "  <thead>\n",
              "    <tr style=\"text-align: right;\">\n",
              "      <th></th>\n",
              "      <th>dateCrawled</th>\n",
              "      <th>name</th>\n",
              "      <th>seller</th>\n",
              "      <th>offerType</th>\n",
              "      <th>price</th>\n",
              "      <th>abtest</th>\n",
              "      <th>vehicleType</th>\n",
              "      <th>yearOfRegistration</th>\n",
              "      <th>gearbox</th>\n",
              "      <th>powerPS</th>\n",
              "      <th>model</th>\n",
              "      <th>kilometer</th>\n",
              "      <th>monthOfRegistration</th>\n",
              "      <th>fuelType</th>\n",
              "      <th>brand</th>\n",
              "      <th>notRepairedDamage</th>\n",
              "      <th>dateCreated</th>\n",
              "      <th>nrOfPictures</th>\n",
              "      <th>postalCode</th>\n",
              "      <th>lastSeen</th>\n",
              "    </tr>\n",
              "  </thead>\n",
              "  <tbody>\n",
              "    <tr>\n",
              "      <th>0</th>\n",
              "      <td>2016-03-24 11:52:17</td>\n",
              "      <td>Golf_3_1.6</td>\n",
              "      <td>privat</td>\n",
              "      <td>Angebot</td>\n",
              "      <td>480</td>\n",
              "      <td>test</td>\n",
              "      <td>NaN</td>\n",
              "      <td>1993</td>\n",
              "      <td>manuell</td>\n",
              "      <td>0</td>\n",
              "      <td>golf</td>\n",
              "      <td>150000</td>\n",
              "      <td>0</td>\n",
              "      <td>benzin</td>\n",
              "      <td>volkswagen</td>\n",
              "      <td>NaN</td>\n",
              "      <td>2016-03-24 00:00:00</td>\n",
              "      <td>0</td>\n",
              "      <td>70435</td>\n",
              "      <td>2016-04-07 03:16:57</td>\n",
              "    </tr>\n",
              "    <tr>\n",
              "      <th>1</th>\n",
              "      <td>2016-03-24 10:58:45</td>\n",
              "      <td>A5_Sportback_2.7_Tdi</td>\n",
              "      <td>privat</td>\n",
              "      <td>Angebot</td>\n",
              "      <td>18300</td>\n",
              "      <td>test</td>\n",
              "      <td>coupe</td>\n",
              "      <td>2011</td>\n",
              "      <td>manuell</td>\n",
              "      <td>190</td>\n",
              "      <td>NaN</td>\n",
              "      <td>125000</td>\n",
              "      <td>5</td>\n",
              "      <td>diesel</td>\n",
              "      <td>audi</td>\n",
              "      <td>ja</td>\n",
              "      <td>2016-03-24 00:00:00</td>\n",
              "      <td>0</td>\n",
              "      <td>66954</td>\n",
              "      <td>2016-04-07 01:46:50</td>\n",
              "    </tr>\n",
              "    <tr>\n",
              "      <th>2</th>\n",
              "      <td>2016-03-14 12:52:21</td>\n",
              "      <td>Jeep_Grand_Cherokee_\"Overland\"</td>\n",
              "      <td>privat</td>\n",
              "      <td>Angebot</td>\n",
              "      <td>9800</td>\n",
              "      <td>test</td>\n",
              "      <td>suv</td>\n",
              "      <td>2004</td>\n",
              "      <td>automatik</td>\n",
              "      <td>163</td>\n",
              "      <td>grand</td>\n",
              "      <td>125000</td>\n",
              "      <td>8</td>\n",
              "      <td>diesel</td>\n",
              "      <td>jeep</td>\n",
              "      <td>NaN</td>\n",
              "      <td>2016-03-14 00:00:00</td>\n",
              "      <td>0</td>\n",
              "      <td>90480</td>\n",
              "      <td>2016-04-05 12:47:46</td>\n",
              "    </tr>\n",
              "    <tr>\n",
              "      <th>3</th>\n",
              "      <td>2016-03-17 16:54:04</td>\n",
              "      <td>GOLF_4_1_4__3TÜRER</td>\n",
              "      <td>privat</td>\n",
              "      <td>Angebot</td>\n",
              "      <td>1500</td>\n",
              "      <td>test</td>\n",
              "      <td>kleinwagen</td>\n",
              "      <td>2001</td>\n",
              "      <td>manuell</td>\n",
              "      <td>75</td>\n",
              "      <td>golf</td>\n",
              "      <td>150000</td>\n",
              "      <td>6</td>\n",
              "      <td>benzin</td>\n",
              "      <td>volkswagen</td>\n",
              "      <td>nein</td>\n",
              "      <td>2016-03-17 00:00:00</td>\n",
              "      <td>0</td>\n",
              "      <td>91074</td>\n",
              "      <td>2016-03-17 17:40:17</td>\n",
              "    </tr>\n",
              "    <tr>\n",
              "      <th>4</th>\n",
              "      <td>2016-03-31 17:25:20</td>\n",
              "      <td>Skoda_Fabia_1.4_TDI_PD_Classic</td>\n",
              "      <td>privat</td>\n",
              "      <td>Angebot</td>\n",
              "      <td>3600</td>\n",
              "      <td>test</td>\n",
              "      <td>kleinwagen</td>\n",
              "      <td>2008</td>\n",
              "      <td>manuell</td>\n",
              "      <td>69</td>\n",
              "      <td>fabia</td>\n",
              "      <td>90000</td>\n",
              "      <td>7</td>\n",
              "      <td>diesel</td>\n",
              "      <td>skoda</td>\n",
              "      <td>nein</td>\n",
              "      <td>2016-03-31 00:00:00</td>\n",
              "      <td>0</td>\n",
              "      <td>60437</td>\n",
              "      <td>2016-04-06 10:17:21</td>\n",
              "    </tr>\n",
              "  </tbody>\n",
              "</table>\n",
              "</div>\n",
              "      <button class=\"colab-df-convert\" onclick=\"convertToInteractive('df-fb2b8ef7-2ceb-4e5f-84d7-597736873a90')\"\n",
              "              title=\"Convert this dataframe to an interactive table.\"\n",
              "              style=\"display:none;\">\n",
              "        \n",
              "  <svg xmlns=\"http://www.w3.org/2000/svg\" height=\"24px\"viewBox=\"0 0 24 24\"\n",
              "       width=\"24px\">\n",
              "    <path d=\"M0 0h24v24H0V0z\" fill=\"none\"/>\n",
              "    <path d=\"M18.56 5.44l.94 2.06.94-2.06 2.06-.94-2.06-.94-.94-2.06-.94 2.06-2.06.94zm-11 1L8.5 8.5l.94-2.06 2.06-.94-2.06-.94L8.5 2.5l-.94 2.06-2.06.94zm10 10l.94 2.06.94-2.06 2.06-.94-2.06-.94-.94-2.06-.94 2.06-2.06.94z\"/><path d=\"M17.41 7.96l-1.37-1.37c-.4-.4-.92-.59-1.43-.59-.52 0-1.04.2-1.43.59L10.3 9.45l-7.72 7.72c-.78.78-.78 2.05 0 2.83L4 21.41c.39.39.9.59 1.41.59.51 0 1.02-.2 1.41-.59l7.78-7.78 2.81-2.81c.8-.78.8-2.07 0-2.86zM5.41 20L4 18.59l7.72-7.72 1.47 1.35L5.41 20z\"/>\n",
              "  </svg>\n",
              "      </button>\n",
              "      \n",
              "  <style>\n",
              "    .colab-df-container {\n",
              "      display:flex;\n",
              "      flex-wrap:wrap;\n",
              "      gap: 12px;\n",
              "    }\n",
              "\n",
              "    .colab-df-convert {\n",
              "      background-color: #E8F0FE;\n",
              "      border: none;\n",
              "      border-radius: 50%;\n",
              "      cursor: pointer;\n",
              "      display: none;\n",
              "      fill: #1967D2;\n",
              "      height: 32px;\n",
              "      padding: 0 0 0 0;\n",
              "      width: 32px;\n",
              "    }\n",
              "\n",
              "    .colab-df-convert:hover {\n",
              "      background-color: #E2EBFA;\n",
              "      box-shadow: 0px 1px 2px rgba(60, 64, 67, 0.3), 0px 1px 3px 1px rgba(60, 64, 67, 0.15);\n",
              "      fill: #174EA6;\n",
              "    }\n",
              "\n",
              "    [theme=dark] .colab-df-convert {\n",
              "      background-color: #3B4455;\n",
              "      fill: #D2E3FC;\n",
              "    }\n",
              "\n",
              "    [theme=dark] .colab-df-convert:hover {\n",
              "      background-color: #434B5C;\n",
              "      box-shadow: 0px 1px 3px 1px rgba(0, 0, 0, 0.15);\n",
              "      filter: drop-shadow(0px 1px 2px rgba(0, 0, 0, 0.3));\n",
              "      fill: #FFFFFF;\n",
              "    }\n",
              "  </style>\n",
              "\n",
              "      <script>\n",
              "        const buttonEl =\n",
              "          document.querySelector('#df-fb2b8ef7-2ceb-4e5f-84d7-597736873a90 button.colab-df-convert');\n",
              "        buttonEl.style.display =\n",
              "          google.colab.kernel.accessAllowed ? 'block' : 'none';\n",
              "\n",
              "        async function convertToInteractive(key) {\n",
              "          const element = document.querySelector('#df-fb2b8ef7-2ceb-4e5f-84d7-597736873a90');\n",
              "          const dataTable =\n",
              "            await google.colab.kernel.invokeFunction('convertToInteractive',\n",
              "                                                     [key], {});\n",
              "          if (!dataTable) return;\n",
              "\n",
              "          const docLinkHtml = 'Like what you see? Visit the ' +\n",
              "            '<a target=\"_blank\" href=https://colab.research.google.com/notebooks/data_table.ipynb>data table notebook</a>'\n",
              "            + ' to learn more about interactive tables.';\n",
              "          element.innerHTML = '';\n",
              "          dataTable['output_type'] = 'display_data';\n",
              "          await google.colab.output.renderOutput(dataTable, element);\n",
              "          const docLink = document.createElement('div');\n",
              "          docLink.innerHTML = docLinkHtml;\n",
              "          element.appendChild(docLink);\n",
              "        }\n",
              "      </script>\n",
              "    </div>\n",
              "  </div>\n",
              "  "
            ]
          },
          "metadata": {},
          "execution_count": 7
        }
      ]
    },
    {
      "cell_type": "code",
      "source": [
        "print(autos.columns)"
      ],
      "metadata": {
        "colab": {
          "base_uri": "https://localhost:8080/"
        },
        "id": "BmqRGylYTkCy",
        "outputId": "69f55a22-5587-4f60-c0af-7d2eec3369cf"
      },
      "execution_count": 8,
      "outputs": [
        {
          "output_type": "stream",
          "name": "stdout",
          "text": [
            "Index(['dateCrawled', 'name', 'seller', 'offerType', 'price', 'abtest',\n",
            "       'vehicleType', 'yearOfRegistration', 'gearbox', 'powerPS', 'model',\n",
            "       'kilometer', 'monthOfRegistration', 'fuelType', 'brand',\n",
            "       'notRepairedDamage', 'dateCreated', 'nrOfPictures', 'postalCode',\n",
            "       'lastSeen'],\n",
            "      dtype='object')\n"
          ]
        }
      ]
    },
    {
      "cell_type": "code",
      "source": [
        "\n",
        "autos_map_dict = {\n",
        "'yearOfRegistration': 'registration_year',\n",
        "'monthOfRegistration': 'registration_month',\n",
        "'notRepairedDamage':'unrepaired_damage',\n",
        "'dateCreated':'ad_created'\n",
        "}\n",
        "\n",
        "\n",
        "\n",
        "print(autos.columns.map(autos_map_dict).value_counts())\n",
        "print"
      ],
      "metadata": {
        "colab": {
          "base_uri": "https://localhost:8080/"
        },
        "id": "J5xyFoSlU1W8",
        "outputId": "6f0023c5-a720-4434-b3c1-05d6ef491c42"
      },
      "execution_count": 9,
      "outputs": [
        {
          "output_type": "stream",
          "name": "stdout",
          "text": [
            "registration_year     1\n",
            "registration_month    1\n",
            "unrepaired_damage     1\n",
            "ad_created            1\n",
            "dtype: int64\n"
          ]
        },
        {
          "output_type": "execute_result",
          "data": {
            "text/plain": [
              "<function print>"
            ]
          },
          "metadata": {},
          "execution_count": 9
        }
      ]
    },
    {
      "cell_type": "markdown",
      "source": [
        "Using the rename method will only rename matching values and leave other values intact. "
      ],
      "metadata": {
        "id": "7C2027uwZzZp"
      }
    },
    {
      "cell_type": "code",
      "source": [
        "\n",
        "\n",
        "# Define the dictionary with the old column names as keys and new column names as values\n",
        "autos_map_dict = {\n",
        "    'yearOfRegistration': 'registration_year',\n",
        "    'monthOfRegistration': 'registration_month',\n",
        "    'notRepairedDamage': 'unrepaired_damage',\n",
        "    'dateCreated': 'ad_created'\n",
        "}\n",
        "\n",
        "# Rename the columns\n",
        "autos_renamed = autos.rename(columns=autos_map_dict)\n",
        "\n",
        "# Print the renamed column names\n",
        "print(autos_renamed.columns)\n",
        "\n",
        "autos.columns = autos_renamed.columns"
      ],
      "metadata": {
        "colab": {
          "base_uri": "https://localhost:8080/"
        },
        "id": "qp6Cfs_iWAz1",
        "outputId": "90680a7f-d6d8-42a7-ff90-6899dd4ae244"
      },
      "execution_count": 10,
      "outputs": [
        {
          "output_type": "stream",
          "name": "stdout",
          "text": [
            "Index(['dateCrawled', 'name', 'seller', 'offerType', 'price', 'abtest',\n",
            "       'vehicleType', 'registration_year', 'gearbox', 'powerPS', 'model',\n",
            "       'kilometer', 'registration_month', 'fuelType', 'brand',\n",
            "       'unrepaired_damage', 'ad_created', 'nrOfPictures', 'postalCode',\n",
            "       'lastSeen'],\n",
            "      dtype='object')\n"
          ]
        }
      ]
    },
    {
      "cell_type": "code",
      "source": [
        "autos_lowercapped = autos.columns.str.lower()"
      ],
      "metadata": {
        "id": "zybDvkjkaNUK"
      },
      "execution_count": 11,
      "outputs": []
    },
    {
      "cell_type": "code",
      "source": [
        "print(autos_lowercapped)"
      ],
      "metadata": {
        "colab": {
          "base_uri": "https://localhost:8080/"
        },
        "id": "YM16XEQxarQm",
        "outputId": "34df557b-9860-48e0-c644-b3afef854e14"
      },
      "execution_count": 12,
      "outputs": [
        {
          "output_type": "stream",
          "name": "stdout",
          "text": [
            "Index(['datecrawled', 'name', 'seller', 'offertype', 'price', 'abtest',\n",
            "       'vehicletype', 'registration_year', 'gearbox', 'powerps', 'model',\n",
            "       'kilometer', 'registration_month', 'fueltype', 'brand',\n",
            "       'unrepaired_damage', 'ad_created', 'nrofpictures', 'postalcode',\n",
            "       'lastseen'],\n",
            "      dtype='object')\n"
          ]
        }
      ]
    },
    {
      "cell_type": "code",
      "source": [
        "autos_stripped = autos_lowercapped.str.strip()"
      ],
      "metadata": {
        "id": "5BDzhbOGbBlu"
      },
      "execution_count": 13,
      "outputs": []
    },
    {
      "cell_type": "code",
      "source": [
        "print(autos_stripped)\n",
        "autos.columns = autos_stripped"
      ],
      "metadata": {
        "colab": {
          "base_uri": "https://localhost:8080/"
        },
        "id": "ziKWodSebNyb",
        "outputId": "ef6554b3-764f-484d-e77a-8ec85df2195c"
      },
      "execution_count": 14,
      "outputs": [
        {
          "output_type": "stream",
          "name": "stdout",
          "text": [
            "Index(['datecrawled', 'name', 'seller', 'offertype', 'price', 'abtest',\n",
            "       'vehicletype', 'registration_year', 'gearbox', 'powerps', 'model',\n",
            "       'kilometer', 'registration_month', 'fueltype', 'brand',\n",
            "       'unrepaired_damage', 'ad_created', 'nrofpictures', 'postalcode',\n",
            "       'lastseen'],\n",
            "      dtype='object')\n"
          ]
        }
      ]
    },
    {
      "cell_type": "code",
      "source": [
        "autos.head()"
      ],
      "metadata": {
        "colab": {
          "base_uri": "https://localhost:8080/",
          "height": 438
        },
        "id": "fdDqjdTfbSfP",
        "outputId": "ac04a0bd-8191-4fe1-e991-632c6c94c90b"
      },
      "execution_count": 15,
      "outputs": [
        {
          "output_type": "execute_result",
          "data": {
            "text/plain": [
              "           datecrawled                            name  seller offertype  \\\n",
              "0  2016-03-24 11:52:17                      Golf_3_1.6  privat   Angebot   \n",
              "1  2016-03-24 10:58:45            A5_Sportback_2.7_Tdi  privat   Angebot   \n",
              "2  2016-03-14 12:52:21  Jeep_Grand_Cherokee_\"Overland\"  privat   Angebot   \n",
              "3  2016-03-17 16:54:04              GOLF_4_1_4__3TÜRER  privat   Angebot   \n",
              "4  2016-03-31 17:25:20  Skoda_Fabia_1.4_TDI_PD_Classic  privat   Angebot   \n",
              "\n",
              "   price abtest vehicletype  registration_year    gearbox  powerps  model  \\\n",
              "0    480   test         NaN               1993    manuell        0   golf   \n",
              "1  18300   test       coupe               2011    manuell      190    NaN   \n",
              "2   9800   test         suv               2004  automatik      163  grand   \n",
              "3   1500   test  kleinwagen               2001    manuell       75   golf   \n",
              "4   3600   test  kleinwagen               2008    manuell       69  fabia   \n",
              "\n",
              "   kilometer  registration_month fueltype       brand unrepaired_damage  \\\n",
              "0     150000                   0   benzin  volkswagen               NaN   \n",
              "1     125000                   5   diesel        audi                ja   \n",
              "2     125000                   8   diesel        jeep               NaN   \n",
              "3     150000                   6   benzin  volkswagen              nein   \n",
              "4      90000                   7   diesel       skoda              nein   \n",
              "\n",
              "            ad_created  nrofpictures  postalcode             lastseen  \n",
              "0  2016-03-24 00:00:00             0       70435  2016-04-07 03:16:57  \n",
              "1  2016-03-24 00:00:00             0       66954  2016-04-07 01:46:50  \n",
              "2  2016-03-14 00:00:00             0       90480  2016-04-05 12:47:46  \n",
              "3  2016-03-17 00:00:00             0       91074  2016-03-17 17:40:17  \n",
              "4  2016-03-31 00:00:00             0       60437  2016-04-06 10:17:21  "
            ],
            "text/html": [
              "\n",
              "  <div id=\"df-11c80a46-a5c9-474e-8947-7fd84dee75aa\">\n",
              "    <div class=\"colab-df-container\">\n",
              "      <div>\n",
              "<style scoped>\n",
              "    .dataframe tbody tr th:only-of-type {\n",
              "        vertical-align: middle;\n",
              "    }\n",
              "\n",
              "    .dataframe tbody tr th {\n",
              "        vertical-align: top;\n",
              "    }\n",
              "\n",
              "    .dataframe thead th {\n",
              "        text-align: right;\n",
              "    }\n",
              "</style>\n",
              "<table border=\"1\" class=\"dataframe\">\n",
              "  <thead>\n",
              "    <tr style=\"text-align: right;\">\n",
              "      <th></th>\n",
              "      <th>datecrawled</th>\n",
              "      <th>name</th>\n",
              "      <th>seller</th>\n",
              "      <th>offertype</th>\n",
              "      <th>price</th>\n",
              "      <th>abtest</th>\n",
              "      <th>vehicletype</th>\n",
              "      <th>registration_year</th>\n",
              "      <th>gearbox</th>\n",
              "      <th>powerps</th>\n",
              "      <th>model</th>\n",
              "      <th>kilometer</th>\n",
              "      <th>registration_month</th>\n",
              "      <th>fueltype</th>\n",
              "      <th>brand</th>\n",
              "      <th>unrepaired_damage</th>\n",
              "      <th>ad_created</th>\n",
              "      <th>nrofpictures</th>\n",
              "      <th>postalcode</th>\n",
              "      <th>lastseen</th>\n",
              "    </tr>\n",
              "  </thead>\n",
              "  <tbody>\n",
              "    <tr>\n",
              "      <th>0</th>\n",
              "      <td>2016-03-24 11:52:17</td>\n",
              "      <td>Golf_3_1.6</td>\n",
              "      <td>privat</td>\n",
              "      <td>Angebot</td>\n",
              "      <td>480</td>\n",
              "      <td>test</td>\n",
              "      <td>NaN</td>\n",
              "      <td>1993</td>\n",
              "      <td>manuell</td>\n",
              "      <td>0</td>\n",
              "      <td>golf</td>\n",
              "      <td>150000</td>\n",
              "      <td>0</td>\n",
              "      <td>benzin</td>\n",
              "      <td>volkswagen</td>\n",
              "      <td>NaN</td>\n",
              "      <td>2016-03-24 00:00:00</td>\n",
              "      <td>0</td>\n",
              "      <td>70435</td>\n",
              "      <td>2016-04-07 03:16:57</td>\n",
              "    </tr>\n",
              "    <tr>\n",
              "      <th>1</th>\n",
              "      <td>2016-03-24 10:58:45</td>\n",
              "      <td>A5_Sportback_2.7_Tdi</td>\n",
              "      <td>privat</td>\n",
              "      <td>Angebot</td>\n",
              "      <td>18300</td>\n",
              "      <td>test</td>\n",
              "      <td>coupe</td>\n",
              "      <td>2011</td>\n",
              "      <td>manuell</td>\n",
              "      <td>190</td>\n",
              "      <td>NaN</td>\n",
              "      <td>125000</td>\n",
              "      <td>5</td>\n",
              "      <td>diesel</td>\n",
              "      <td>audi</td>\n",
              "      <td>ja</td>\n",
              "      <td>2016-03-24 00:00:00</td>\n",
              "      <td>0</td>\n",
              "      <td>66954</td>\n",
              "      <td>2016-04-07 01:46:50</td>\n",
              "    </tr>\n",
              "    <tr>\n",
              "      <th>2</th>\n",
              "      <td>2016-03-14 12:52:21</td>\n",
              "      <td>Jeep_Grand_Cherokee_\"Overland\"</td>\n",
              "      <td>privat</td>\n",
              "      <td>Angebot</td>\n",
              "      <td>9800</td>\n",
              "      <td>test</td>\n",
              "      <td>suv</td>\n",
              "      <td>2004</td>\n",
              "      <td>automatik</td>\n",
              "      <td>163</td>\n",
              "      <td>grand</td>\n",
              "      <td>125000</td>\n",
              "      <td>8</td>\n",
              "      <td>diesel</td>\n",
              "      <td>jeep</td>\n",
              "      <td>NaN</td>\n",
              "      <td>2016-03-14 00:00:00</td>\n",
              "      <td>0</td>\n",
              "      <td>90480</td>\n",
              "      <td>2016-04-05 12:47:46</td>\n",
              "    </tr>\n",
              "    <tr>\n",
              "      <th>3</th>\n",
              "      <td>2016-03-17 16:54:04</td>\n",
              "      <td>GOLF_4_1_4__3TÜRER</td>\n",
              "      <td>privat</td>\n",
              "      <td>Angebot</td>\n",
              "      <td>1500</td>\n",
              "      <td>test</td>\n",
              "      <td>kleinwagen</td>\n",
              "      <td>2001</td>\n",
              "      <td>manuell</td>\n",
              "      <td>75</td>\n",
              "      <td>golf</td>\n",
              "      <td>150000</td>\n",
              "      <td>6</td>\n",
              "      <td>benzin</td>\n",
              "      <td>volkswagen</td>\n",
              "      <td>nein</td>\n",
              "      <td>2016-03-17 00:00:00</td>\n",
              "      <td>0</td>\n",
              "      <td>91074</td>\n",
              "      <td>2016-03-17 17:40:17</td>\n",
              "    </tr>\n",
              "    <tr>\n",
              "      <th>4</th>\n",
              "      <td>2016-03-31 17:25:20</td>\n",
              "      <td>Skoda_Fabia_1.4_TDI_PD_Classic</td>\n",
              "      <td>privat</td>\n",
              "      <td>Angebot</td>\n",
              "      <td>3600</td>\n",
              "      <td>test</td>\n",
              "      <td>kleinwagen</td>\n",
              "      <td>2008</td>\n",
              "      <td>manuell</td>\n",
              "      <td>69</td>\n",
              "      <td>fabia</td>\n",
              "      <td>90000</td>\n",
              "      <td>7</td>\n",
              "      <td>diesel</td>\n",
              "      <td>skoda</td>\n",
              "      <td>nein</td>\n",
              "      <td>2016-03-31 00:00:00</td>\n",
              "      <td>0</td>\n",
              "      <td>60437</td>\n",
              "      <td>2016-04-06 10:17:21</td>\n",
              "    </tr>\n",
              "  </tbody>\n",
              "</table>\n",
              "</div>\n",
              "      <button class=\"colab-df-convert\" onclick=\"convertToInteractive('df-11c80a46-a5c9-474e-8947-7fd84dee75aa')\"\n",
              "              title=\"Convert this dataframe to an interactive table.\"\n",
              "              style=\"display:none;\">\n",
              "        \n",
              "  <svg xmlns=\"http://www.w3.org/2000/svg\" height=\"24px\"viewBox=\"0 0 24 24\"\n",
              "       width=\"24px\">\n",
              "    <path d=\"M0 0h24v24H0V0z\" fill=\"none\"/>\n",
              "    <path d=\"M18.56 5.44l.94 2.06.94-2.06 2.06-.94-2.06-.94-.94-2.06-.94 2.06-2.06.94zm-11 1L8.5 8.5l.94-2.06 2.06-.94-2.06-.94L8.5 2.5l-.94 2.06-2.06.94zm10 10l.94 2.06.94-2.06 2.06-.94-2.06-.94-.94-2.06-.94 2.06-2.06.94z\"/><path d=\"M17.41 7.96l-1.37-1.37c-.4-.4-.92-.59-1.43-.59-.52 0-1.04.2-1.43.59L10.3 9.45l-7.72 7.72c-.78.78-.78 2.05 0 2.83L4 21.41c.39.39.9.59 1.41.59.51 0 1.02-.2 1.41-.59l7.78-7.78 2.81-2.81c.8-.78.8-2.07 0-2.86zM5.41 20L4 18.59l7.72-7.72 1.47 1.35L5.41 20z\"/>\n",
              "  </svg>\n",
              "      </button>\n",
              "      \n",
              "  <style>\n",
              "    .colab-df-container {\n",
              "      display:flex;\n",
              "      flex-wrap:wrap;\n",
              "      gap: 12px;\n",
              "    }\n",
              "\n",
              "    .colab-df-convert {\n",
              "      background-color: #E8F0FE;\n",
              "      border: none;\n",
              "      border-radius: 50%;\n",
              "      cursor: pointer;\n",
              "      display: none;\n",
              "      fill: #1967D2;\n",
              "      height: 32px;\n",
              "      padding: 0 0 0 0;\n",
              "      width: 32px;\n",
              "    }\n",
              "\n",
              "    .colab-df-convert:hover {\n",
              "      background-color: #E2EBFA;\n",
              "      box-shadow: 0px 1px 2px rgba(60, 64, 67, 0.3), 0px 1px 3px 1px rgba(60, 64, 67, 0.15);\n",
              "      fill: #174EA6;\n",
              "    }\n",
              "\n",
              "    [theme=dark] .colab-df-convert {\n",
              "      background-color: #3B4455;\n",
              "      fill: #D2E3FC;\n",
              "    }\n",
              "\n",
              "    [theme=dark] .colab-df-convert:hover {\n",
              "      background-color: #434B5C;\n",
              "      box-shadow: 0px 1px 3px 1px rgba(0, 0, 0, 0.15);\n",
              "      filter: drop-shadow(0px 1px 2px rgba(0, 0, 0, 0.3));\n",
              "      fill: #FFFFFF;\n",
              "    }\n",
              "  </style>\n",
              "\n",
              "      <script>\n",
              "        const buttonEl =\n",
              "          document.querySelector('#df-11c80a46-a5c9-474e-8947-7fd84dee75aa button.colab-df-convert');\n",
              "        buttonEl.style.display =\n",
              "          google.colab.kernel.accessAllowed ? 'block' : 'none';\n",
              "\n",
              "        async function convertToInteractive(key) {\n",
              "          const element = document.querySelector('#df-11c80a46-a5c9-474e-8947-7fd84dee75aa');\n",
              "          const dataTable =\n",
              "            await google.colab.kernel.invokeFunction('convertToInteractive',\n",
              "                                                     [key], {});\n",
              "          if (!dataTable) return;\n",
              "\n",
              "          const docLinkHtml = 'Like what you see? Visit the ' +\n",
              "            '<a target=\"_blank\" href=https://colab.research.google.com/notebooks/data_table.ipynb>data table notebook</a>'\n",
              "            + ' to learn more about interactive tables.';\n",
              "          element.innerHTML = '';\n",
              "          dataTable['output_type'] = 'display_data';\n",
              "          await google.colab.output.renderOutput(dataTable, element);\n",
              "          const docLink = document.createElement('div');\n",
              "          docLink.innerHTML = docLinkHtml;\n",
              "          element.appendChild(docLink);\n",
              "        }\n",
              "      </script>\n",
              "    </div>\n",
              "  </div>\n",
              "  "
            ]
          },
          "metadata": {},
          "execution_count": 15
        }
      ]
    },
    {
      "cell_type": "code",
      "source": [
        "autos.describe()\n"
      ],
      "metadata": {
        "colab": {
          "base_uri": "https://localhost:8080/",
          "height": 297
        },
        "id": "u0QxEHvUb39b",
        "outputId": "dcc26dcc-bec6-4c7c-eaf6-bc80e0340142"
      },
      "execution_count": 16,
      "outputs": [
        {
          "output_type": "execute_result",
          "data": {
            "text/plain": [
              "              price  registration_year        powerps      kilometer  \\\n",
              "count  3.715280e+05      371528.000000  371528.000000  371528.000000   \n",
              "mean   1.729514e+04        2004.577997     115.549477  125618.688228   \n",
              "std    3.587954e+06          92.866598     192.139578   40112.337051   \n",
              "min    0.000000e+00        1000.000000       0.000000    5000.000000   \n",
              "25%    1.150000e+03        1999.000000      70.000000  125000.000000   \n",
              "50%    2.950000e+03        2003.000000     105.000000  150000.000000   \n",
              "75%    7.200000e+03        2008.000000     150.000000  150000.000000   \n",
              "max    2.147484e+09        9999.000000   20000.000000  150000.000000   \n",
              "\n",
              "       registration_month  nrofpictures    postalcode  \n",
              "count       371528.000000      371528.0  371528.00000  \n",
              "mean             5.734445           0.0   50820.66764  \n",
              "std              3.712412           0.0   25799.08247  \n",
              "min              0.000000           0.0    1067.00000  \n",
              "25%              3.000000           0.0   30459.00000  \n",
              "50%              6.000000           0.0   49610.00000  \n",
              "75%              9.000000           0.0   71546.00000  \n",
              "max             12.000000           0.0   99998.00000  "
            ],
            "text/html": [
              "\n",
              "  <div id=\"df-08d643f9-5ad0-4bc9-98f5-96f718b87129\">\n",
              "    <div class=\"colab-df-container\">\n",
              "      <div>\n",
              "<style scoped>\n",
              "    .dataframe tbody tr th:only-of-type {\n",
              "        vertical-align: middle;\n",
              "    }\n",
              "\n",
              "    .dataframe tbody tr th {\n",
              "        vertical-align: top;\n",
              "    }\n",
              "\n",
              "    .dataframe thead th {\n",
              "        text-align: right;\n",
              "    }\n",
              "</style>\n",
              "<table border=\"1\" class=\"dataframe\">\n",
              "  <thead>\n",
              "    <tr style=\"text-align: right;\">\n",
              "      <th></th>\n",
              "      <th>price</th>\n",
              "      <th>registration_year</th>\n",
              "      <th>powerps</th>\n",
              "      <th>kilometer</th>\n",
              "      <th>registration_month</th>\n",
              "      <th>nrofpictures</th>\n",
              "      <th>postalcode</th>\n",
              "    </tr>\n",
              "  </thead>\n",
              "  <tbody>\n",
              "    <tr>\n",
              "      <th>count</th>\n",
              "      <td>3.715280e+05</td>\n",
              "      <td>371528.000000</td>\n",
              "      <td>371528.000000</td>\n",
              "      <td>371528.000000</td>\n",
              "      <td>371528.000000</td>\n",
              "      <td>371528.0</td>\n",
              "      <td>371528.00000</td>\n",
              "    </tr>\n",
              "    <tr>\n",
              "      <th>mean</th>\n",
              "      <td>1.729514e+04</td>\n",
              "      <td>2004.577997</td>\n",
              "      <td>115.549477</td>\n",
              "      <td>125618.688228</td>\n",
              "      <td>5.734445</td>\n",
              "      <td>0.0</td>\n",
              "      <td>50820.66764</td>\n",
              "    </tr>\n",
              "    <tr>\n",
              "      <th>std</th>\n",
              "      <td>3.587954e+06</td>\n",
              "      <td>92.866598</td>\n",
              "      <td>192.139578</td>\n",
              "      <td>40112.337051</td>\n",
              "      <td>3.712412</td>\n",
              "      <td>0.0</td>\n",
              "      <td>25799.08247</td>\n",
              "    </tr>\n",
              "    <tr>\n",
              "      <th>min</th>\n",
              "      <td>0.000000e+00</td>\n",
              "      <td>1000.000000</td>\n",
              "      <td>0.000000</td>\n",
              "      <td>5000.000000</td>\n",
              "      <td>0.000000</td>\n",
              "      <td>0.0</td>\n",
              "      <td>1067.00000</td>\n",
              "    </tr>\n",
              "    <tr>\n",
              "      <th>25%</th>\n",
              "      <td>1.150000e+03</td>\n",
              "      <td>1999.000000</td>\n",
              "      <td>70.000000</td>\n",
              "      <td>125000.000000</td>\n",
              "      <td>3.000000</td>\n",
              "      <td>0.0</td>\n",
              "      <td>30459.00000</td>\n",
              "    </tr>\n",
              "    <tr>\n",
              "      <th>50%</th>\n",
              "      <td>2.950000e+03</td>\n",
              "      <td>2003.000000</td>\n",
              "      <td>105.000000</td>\n",
              "      <td>150000.000000</td>\n",
              "      <td>6.000000</td>\n",
              "      <td>0.0</td>\n",
              "      <td>49610.00000</td>\n",
              "    </tr>\n",
              "    <tr>\n",
              "      <th>75%</th>\n",
              "      <td>7.200000e+03</td>\n",
              "      <td>2008.000000</td>\n",
              "      <td>150.000000</td>\n",
              "      <td>150000.000000</td>\n",
              "      <td>9.000000</td>\n",
              "      <td>0.0</td>\n",
              "      <td>71546.00000</td>\n",
              "    </tr>\n",
              "    <tr>\n",
              "      <th>max</th>\n",
              "      <td>2.147484e+09</td>\n",
              "      <td>9999.000000</td>\n",
              "      <td>20000.000000</td>\n",
              "      <td>150000.000000</td>\n",
              "      <td>12.000000</td>\n",
              "      <td>0.0</td>\n",
              "      <td>99998.00000</td>\n",
              "    </tr>\n",
              "  </tbody>\n",
              "</table>\n",
              "</div>\n",
              "      <button class=\"colab-df-convert\" onclick=\"convertToInteractive('df-08d643f9-5ad0-4bc9-98f5-96f718b87129')\"\n",
              "              title=\"Convert this dataframe to an interactive table.\"\n",
              "              style=\"display:none;\">\n",
              "        \n",
              "  <svg xmlns=\"http://www.w3.org/2000/svg\" height=\"24px\"viewBox=\"0 0 24 24\"\n",
              "       width=\"24px\">\n",
              "    <path d=\"M0 0h24v24H0V0z\" fill=\"none\"/>\n",
              "    <path d=\"M18.56 5.44l.94 2.06.94-2.06 2.06-.94-2.06-.94-.94-2.06-.94 2.06-2.06.94zm-11 1L8.5 8.5l.94-2.06 2.06-.94-2.06-.94L8.5 2.5l-.94 2.06-2.06.94zm10 10l.94 2.06.94-2.06 2.06-.94-2.06-.94-.94-2.06-.94 2.06-2.06.94z\"/><path d=\"M17.41 7.96l-1.37-1.37c-.4-.4-.92-.59-1.43-.59-.52 0-1.04.2-1.43.59L10.3 9.45l-7.72 7.72c-.78.78-.78 2.05 0 2.83L4 21.41c.39.39.9.59 1.41.59.51 0 1.02-.2 1.41-.59l7.78-7.78 2.81-2.81c.8-.78.8-2.07 0-2.86zM5.41 20L4 18.59l7.72-7.72 1.47 1.35L5.41 20z\"/>\n",
              "  </svg>\n",
              "      </button>\n",
              "      \n",
              "  <style>\n",
              "    .colab-df-container {\n",
              "      display:flex;\n",
              "      flex-wrap:wrap;\n",
              "      gap: 12px;\n",
              "    }\n",
              "\n",
              "    .colab-df-convert {\n",
              "      background-color: #E8F0FE;\n",
              "      border: none;\n",
              "      border-radius: 50%;\n",
              "      cursor: pointer;\n",
              "      display: none;\n",
              "      fill: #1967D2;\n",
              "      height: 32px;\n",
              "      padding: 0 0 0 0;\n",
              "      width: 32px;\n",
              "    }\n",
              "\n",
              "    .colab-df-convert:hover {\n",
              "      background-color: #E2EBFA;\n",
              "      box-shadow: 0px 1px 2px rgba(60, 64, 67, 0.3), 0px 1px 3px 1px rgba(60, 64, 67, 0.15);\n",
              "      fill: #174EA6;\n",
              "    }\n",
              "\n",
              "    [theme=dark] .colab-df-convert {\n",
              "      background-color: #3B4455;\n",
              "      fill: #D2E3FC;\n",
              "    }\n",
              "\n",
              "    [theme=dark] .colab-df-convert:hover {\n",
              "      background-color: #434B5C;\n",
              "      box-shadow: 0px 1px 3px 1px rgba(0, 0, 0, 0.15);\n",
              "      filter: drop-shadow(0px 1px 2px rgba(0, 0, 0, 0.3));\n",
              "      fill: #FFFFFF;\n",
              "    }\n",
              "  </style>\n",
              "\n",
              "      <script>\n",
              "        const buttonEl =\n",
              "          document.querySelector('#df-08d643f9-5ad0-4bc9-98f5-96f718b87129 button.colab-df-convert');\n",
              "        buttonEl.style.display =\n",
              "          google.colab.kernel.accessAllowed ? 'block' : 'none';\n",
              "\n",
              "        async function convertToInteractive(key) {\n",
              "          const element = document.querySelector('#df-08d643f9-5ad0-4bc9-98f5-96f718b87129');\n",
              "          const dataTable =\n",
              "            await google.colab.kernel.invokeFunction('convertToInteractive',\n",
              "                                                     [key], {});\n",
              "          if (!dataTable) return;\n",
              "\n",
              "          const docLinkHtml = 'Like what you see? Visit the ' +\n",
              "            '<a target=\"_blank\" href=https://colab.research.google.com/notebooks/data_table.ipynb>data table notebook</a>'\n",
              "            + ' to learn more about interactive tables.';\n",
              "          element.innerHTML = '';\n",
              "          dataTable['output_type'] = 'display_data';\n",
              "          await google.colab.output.renderOutput(dataTable, element);\n",
              "          const docLink = document.createElement('div');\n",
              "          docLink.innerHTML = docLinkHtml;\n",
              "          element.appendChild(docLink);\n",
              "        }\n",
              "      </script>\n",
              "    </div>\n",
              "  </div>\n",
              "  "
            ]
          },
          "metadata": {},
          "execution_count": 16
        }
      ]
    },
    {
      "cell_type": "code",
      "source": [
        "autos.info()"
      ],
      "metadata": {
        "colab": {
          "base_uri": "https://localhost:8080/"
        },
        "id": "d-PNftkbh5lh",
        "outputId": "9dcfa145-1be3-4926-b9a9-dfc5080251da"
      },
      "execution_count": 17,
      "outputs": [
        {
          "output_type": "stream",
          "name": "stdout",
          "text": [
            "<class 'pandas.core.frame.DataFrame'>\n",
            "RangeIndex: 371528 entries, 0 to 371527\n",
            "Data columns (total 20 columns):\n",
            " #   Column              Non-Null Count   Dtype \n",
            "---  ------              --------------   ----- \n",
            " 0   datecrawled         371528 non-null  object\n",
            " 1   name                371528 non-null  object\n",
            " 2   seller              371528 non-null  object\n",
            " 3   offertype           371528 non-null  object\n",
            " 4   price               371528 non-null  int64 \n",
            " 5   abtest              371528 non-null  object\n",
            " 6   vehicletype         333659 non-null  object\n",
            " 7   registration_year   371528 non-null  int64 \n",
            " 8   gearbox             351319 non-null  object\n",
            " 9   powerps             371528 non-null  int64 \n",
            " 10  model               351044 non-null  object\n",
            " 11  kilometer           371528 non-null  int64 \n",
            " 12  registration_month  371528 non-null  int64 \n",
            " 13  fueltype            338142 non-null  object\n",
            " 14  brand               371528 non-null  object\n",
            " 15  unrepaired_damage   299468 non-null  object\n",
            " 16  ad_created          371528 non-null  object\n",
            " 17  nrofpictures        371528 non-null  int64 \n",
            " 18  postalcode          371528 non-null  int64 \n",
            " 19  lastseen            371528 non-null  object\n",
            "dtypes: int64(7), object(13)\n",
            "memory usage: 56.7+ MB\n"
          ]
        }
      ]
    },
    {
      "cell_type": "code",
      "source": [
        "autos.describe(include='all')"
      ],
      "metadata": {
        "id": "wgRWPZ3HiIZ4",
        "colab": {
          "base_uri": "https://localhost:8080/",
          "height": 488
        },
        "outputId": "52d8d4ba-5a0f-408b-ce49-800f180b8394"
      },
      "execution_count": 18,
      "outputs": [
        {
          "output_type": "execute_result",
          "data": {
            "text/plain": [
              "                datecrawled         name  seller offertype         price  \\\n",
              "count                371528       371528  371528    371528  3.715280e+05   \n",
              "unique               280500       233531       2         2           NaN   \n",
              "top     2016-03-24 14:49:47  Ford_Fiesta  privat   Angebot           NaN   \n",
              "freq                      7          657  371525    371516           NaN   \n",
              "mean                    NaN          NaN     NaN       NaN  1.729514e+04   \n",
              "std                     NaN          NaN     NaN       NaN  3.587954e+06   \n",
              "min                     NaN          NaN     NaN       NaN  0.000000e+00   \n",
              "25%                     NaN          NaN     NaN       NaN  1.150000e+03   \n",
              "50%                     NaN          NaN     NaN       NaN  2.950000e+03   \n",
              "75%                     NaN          NaN     NaN       NaN  7.200000e+03   \n",
              "max                     NaN          NaN     NaN       NaN  2.147484e+09   \n",
              "\n",
              "        abtest vehicletype  registration_year  gearbox        powerps   model  \\\n",
              "count   371528      333659      371528.000000   351319  371528.000000  351044   \n",
              "unique       2           8                NaN        2            NaN     251   \n",
              "top       test   limousine                NaN  manuell            NaN    golf   \n",
              "freq    192585       95894                NaN   274214            NaN   30070   \n",
              "mean       NaN         NaN        2004.577997      NaN     115.549477     NaN   \n",
              "std        NaN         NaN          92.866598      NaN     192.139578     NaN   \n",
              "min        NaN         NaN        1000.000000      NaN       0.000000     NaN   \n",
              "25%        NaN         NaN        1999.000000      NaN      70.000000     NaN   \n",
              "50%        NaN         NaN        2003.000000      NaN     105.000000     NaN   \n",
              "75%        NaN         NaN        2008.000000      NaN     150.000000     NaN   \n",
              "max        NaN         NaN        9999.000000      NaN   20000.000000     NaN   \n",
              "\n",
              "            kilometer  registration_month fueltype       brand  \\\n",
              "count   371528.000000       371528.000000   338142      371528   \n",
              "unique            NaN                 NaN        7          40   \n",
              "top               NaN                 NaN   benzin  volkswagen   \n",
              "freq              NaN                 NaN   223857       79640   \n",
              "mean    125618.688228            5.734445      NaN         NaN   \n",
              "std      40112.337051            3.712412      NaN         NaN   \n",
              "min       5000.000000            0.000000      NaN         NaN   \n",
              "25%     125000.000000            3.000000      NaN         NaN   \n",
              "50%     150000.000000            6.000000      NaN         NaN   \n",
              "75%     150000.000000            9.000000      NaN         NaN   \n",
              "max     150000.000000           12.000000      NaN         NaN   \n",
              "\n",
              "       unrepaired_damage           ad_created  nrofpictures    postalcode  \\\n",
              "count             299468               371528      371528.0  371528.00000   \n",
              "unique                 2                  114           NaN           NaN   \n",
              "top                 nein  2016-04-03 00:00:00           NaN           NaN   \n",
              "freq              263182                14450           NaN           NaN   \n",
              "mean                 NaN                  NaN           0.0   50820.66764   \n",
              "std                  NaN                  NaN           0.0   25799.08247   \n",
              "min                  NaN                  NaN           0.0    1067.00000   \n",
              "25%                  NaN                  NaN           0.0   30459.00000   \n",
              "50%                  NaN                  NaN           0.0   49610.00000   \n",
              "75%                  NaN                  NaN           0.0   71546.00000   \n",
              "max                  NaN                  NaN           0.0   99998.00000   \n",
              "\n",
              "                   lastseen  \n",
              "count                371528  \n",
              "unique               182806  \n",
              "top     2016-04-07 06:45:59  \n",
              "freq                     17  \n",
              "mean                    NaN  \n",
              "std                     NaN  \n",
              "min                     NaN  \n",
              "25%                     NaN  \n",
              "50%                     NaN  \n",
              "75%                     NaN  \n",
              "max                     NaN  "
            ],
            "text/html": [
              "\n",
              "  <div id=\"df-00698afe-43bd-4ac3-bc3b-1657d18ea755\">\n",
              "    <div class=\"colab-df-container\">\n",
              "      <div>\n",
              "<style scoped>\n",
              "    .dataframe tbody tr th:only-of-type {\n",
              "        vertical-align: middle;\n",
              "    }\n",
              "\n",
              "    .dataframe tbody tr th {\n",
              "        vertical-align: top;\n",
              "    }\n",
              "\n",
              "    .dataframe thead th {\n",
              "        text-align: right;\n",
              "    }\n",
              "</style>\n",
              "<table border=\"1\" class=\"dataframe\">\n",
              "  <thead>\n",
              "    <tr style=\"text-align: right;\">\n",
              "      <th></th>\n",
              "      <th>datecrawled</th>\n",
              "      <th>name</th>\n",
              "      <th>seller</th>\n",
              "      <th>offertype</th>\n",
              "      <th>price</th>\n",
              "      <th>abtest</th>\n",
              "      <th>vehicletype</th>\n",
              "      <th>registration_year</th>\n",
              "      <th>gearbox</th>\n",
              "      <th>powerps</th>\n",
              "      <th>model</th>\n",
              "      <th>kilometer</th>\n",
              "      <th>registration_month</th>\n",
              "      <th>fueltype</th>\n",
              "      <th>brand</th>\n",
              "      <th>unrepaired_damage</th>\n",
              "      <th>ad_created</th>\n",
              "      <th>nrofpictures</th>\n",
              "      <th>postalcode</th>\n",
              "      <th>lastseen</th>\n",
              "    </tr>\n",
              "  </thead>\n",
              "  <tbody>\n",
              "    <tr>\n",
              "      <th>count</th>\n",
              "      <td>371528</td>\n",
              "      <td>371528</td>\n",
              "      <td>371528</td>\n",
              "      <td>371528</td>\n",
              "      <td>3.715280e+05</td>\n",
              "      <td>371528</td>\n",
              "      <td>333659</td>\n",
              "      <td>371528.000000</td>\n",
              "      <td>351319</td>\n",
              "      <td>371528.000000</td>\n",
              "      <td>351044</td>\n",
              "      <td>371528.000000</td>\n",
              "      <td>371528.000000</td>\n",
              "      <td>338142</td>\n",
              "      <td>371528</td>\n",
              "      <td>299468</td>\n",
              "      <td>371528</td>\n",
              "      <td>371528.0</td>\n",
              "      <td>371528.00000</td>\n",
              "      <td>371528</td>\n",
              "    </tr>\n",
              "    <tr>\n",
              "      <th>unique</th>\n",
              "      <td>280500</td>\n",
              "      <td>233531</td>\n",
              "      <td>2</td>\n",
              "      <td>2</td>\n",
              "      <td>NaN</td>\n",
              "      <td>2</td>\n",
              "      <td>8</td>\n",
              "      <td>NaN</td>\n",
              "      <td>2</td>\n",
              "      <td>NaN</td>\n",
              "      <td>251</td>\n",
              "      <td>NaN</td>\n",
              "      <td>NaN</td>\n",
              "      <td>7</td>\n",
              "      <td>40</td>\n",
              "      <td>2</td>\n",
              "      <td>114</td>\n",
              "      <td>NaN</td>\n",
              "      <td>NaN</td>\n",
              "      <td>182806</td>\n",
              "    </tr>\n",
              "    <tr>\n",
              "      <th>top</th>\n",
              "      <td>2016-03-24 14:49:47</td>\n",
              "      <td>Ford_Fiesta</td>\n",
              "      <td>privat</td>\n",
              "      <td>Angebot</td>\n",
              "      <td>NaN</td>\n",
              "      <td>test</td>\n",
              "      <td>limousine</td>\n",
              "      <td>NaN</td>\n",
              "      <td>manuell</td>\n",
              "      <td>NaN</td>\n",
              "      <td>golf</td>\n",
              "      <td>NaN</td>\n",
              "      <td>NaN</td>\n",
              "      <td>benzin</td>\n",
              "      <td>volkswagen</td>\n",
              "      <td>nein</td>\n",
              "      <td>2016-04-03 00:00:00</td>\n",
              "      <td>NaN</td>\n",
              "      <td>NaN</td>\n",
              "      <td>2016-04-07 06:45:59</td>\n",
              "    </tr>\n",
              "    <tr>\n",
              "      <th>freq</th>\n",
              "      <td>7</td>\n",
              "      <td>657</td>\n",
              "      <td>371525</td>\n",
              "      <td>371516</td>\n",
              "      <td>NaN</td>\n",
              "      <td>192585</td>\n",
              "      <td>95894</td>\n",
              "      <td>NaN</td>\n",
              "      <td>274214</td>\n",
              "      <td>NaN</td>\n",
              "      <td>30070</td>\n",
              "      <td>NaN</td>\n",
              "      <td>NaN</td>\n",
              "      <td>223857</td>\n",
              "      <td>79640</td>\n",
              "      <td>263182</td>\n",
              "      <td>14450</td>\n",
              "      <td>NaN</td>\n",
              "      <td>NaN</td>\n",
              "      <td>17</td>\n",
              "    </tr>\n",
              "    <tr>\n",
              "      <th>mean</th>\n",
              "      <td>NaN</td>\n",
              "      <td>NaN</td>\n",
              "      <td>NaN</td>\n",
              "      <td>NaN</td>\n",
              "      <td>1.729514e+04</td>\n",
              "      <td>NaN</td>\n",
              "      <td>NaN</td>\n",
              "      <td>2004.577997</td>\n",
              "      <td>NaN</td>\n",
              "      <td>115.549477</td>\n",
              "      <td>NaN</td>\n",
              "      <td>125618.688228</td>\n",
              "      <td>5.734445</td>\n",
              "      <td>NaN</td>\n",
              "      <td>NaN</td>\n",
              "      <td>NaN</td>\n",
              "      <td>NaN</td>\n",
              "      <td>0.0</td>\n",
              "      <td>50820.66764</td>\n",
              "      <td>NaN</td>\n",
              "    </tr>\n",
              "    <tr>\n",
              "      <th>std</th>\n",
              "      <td>NaN</td>\n",
              "      <td>NaN</td>\n",
              "      <td>NaN</td>\n",
              "      <td>NaN</td>\n",
              "      <td>3.587954e+06</td>\n",
              "      <td>NaN</td>\n",
              "      <td>NaN</td>\n",
              "      <td>92.866598</td>\n",
              "      <td>NaN</td>\n",
              "      <td>192.139578</td>\n",
              "      <td>NaN</td>\n",
              "      <td>40112.337051</td>\n",
              "      <td>3.712412</td>\n",
              "      <td>NaN</td>\n",
              "      <td>NaN</td>\n",
              "      <td>NaN</td>\n",
              "      <td>NaN</td>\n",
              "      <td>0.0</td>\n",
              "      <td>25799.08247</td>\n",
              "      <td>NaN</td>\n",
              "    </tr>\n",
              "    <tr>\n",
              "      <th>min</th>\n",
              "      <td>NaN</td>\n",
              "      <td>NaN</td>\n",
              "      <td>NaN</td>\n",
              "      <td>NaN</td>\n",
              "      <td>0.000000e+00</td>\n",
              "      <td>NaN</td>\n",
              "      <td>NaN</td>\n",
              "      <td>1000.000000</td>\n",
              "      <td>NaN</td>\n",
              "      <td>0.000000</td>\n",
              "      <td>NaN</td>\n",
              "      <td>5000.000000</td>\n",
              "      <td>0.000000</td>\n",
              "      <td>NaN</td>\n",
              "      <td>NaN</td>\n",
              "      <td>NaN</td>\n",
              "      <td>NaN</td>\n",
              "      <td>0.0</td>\n",
              "      <td>1067.00000</td>\n",
              "      <td>NaN</td>\n",
              "    </tr>\n",
              "    <tr>\n",
              "      <th>25%</th>\n",
              "      <td>NaN</td>\n",
              "      <td>NaN</td>\n",
              "      <td>NaN</td>\n",
              "      <td>NaN</td>\n",
              "      <td>1.150000e+03</td>\n",
              "      <td>NaN</td>\n",
              "      <td>NaN</td>\n",
              "      <td>1999.000000</td>\n",
              "      <td>NaN</td>\n",
              "      <td>70.000000</td>\n",
              "      <td>NaN</td>\n",
              "      <td>125000.000000</td>\n",
              "      <td>3.000000</td>\n",
              "      <td>NaN</td>\n",
              "      <td>NaN</td>\n",
              "      <td>NaN</td>\n",
              "      <td>NaN</td>\n",
              "      <td>0.0</td>\n",
              "      <td>30459.00000</td>\n",
              "      <td>NaN</td>\n",
              "    </tr>\n",
              "    <tr>\n",
              "      <th>50%</th>\n",
              "      <td>NaN</td>\n",
              "      <td>NaN</td>\n",
              "      <td>NaN</td>\n",
              "      <td>NaN</td>\n",
              "      <td>2.950000e+03</td>\n",
              "      <td>NaN</td>\n",
              "      <td>NaN</td>\n",
              "      <td>2003.000000</td>\n",
              "      <td>NaN</td>\n",
              "      <td>105.000000</td>\n",
              "      <td>NaN</td>\n",
              "      <td>150000.000000</td>\n",
              "      <td>6.000000</td>\n",
              "      <td>NaN</td>\n",
              "      <td>NaN</td>\n",
              "      <td>NaN</td>\n",
              "      <td>NaN</td>\n",
              "      <td>0.0</td>\n",
              "      <td>49610.00000</td>\n",
              "      <td>NaN</td>\n",
              "    </tr>\n",
              "    <tr>\n",
              "      <th>75%</th>\n",
              "      <td>NaN</td>\n",
              "      <td>NaN</td>\n",
              "      <td>NaN</td>\n",
              "      <td>NaN</td>\n",
              "      <td>7.200000e+03</td>\n",
              "      <td>NaN</td>\n",
              "      <td>NaN</td>\n",
              "      <td>2008.000000</td>\n",
              "      <td>NaN</td>\n",
              "      <td>150.000000</td>\n",
              "      <td>NaN</td>\n",
              "      <td>150000.000000</td>\n",
              "      <td>9.000000</td>\n",
              "      <td>NaN</td>\n",
              "      <td>NaN</td>\n",
              "      <td>NaN</td>\n",
              "      <td>NaN</td>\n",
              "      <td>0.0</td>\n",
              "      <td>71546.00000</td>\n",
              "      <td>NaN</td>\n",
              "    </tr>\n",
              "    <tr>\n",
              "      <th>max</th>\n",
              "      <td>NaN</td>\n",
              "      <td>NaN</td>\n",
              "      <td>NaN</td>\n",
              "      <td>NaN</td>\n",
              "      <td>2.147484e+09</td>\n",
              "      <td>NaN</td>\n",
              "      <td>NaN</td>\n",
              "      <td>9999.000000</td>\n",
              "      <td>NaN</td>\n",
              "      <td>20000.000000</td>\n",
              "      <td>NaN</td>\n",
              "      <td>150000.000000</td>\n",
              "      <td>12.000000</td>\n",
              "      <td>NaN</td>\n",
              "      <td>NaN</td>\n",
              "      <td>NaN</td>\n",
              "      <td>NaN</td>\n",
              "      <td>0.0</td>\n",
              "      <td>99998.00000</td>\n",
              "      <td>NaN</td>\n",
              "    </tr>\n",
              "  </tbody>\n",
              "</table>\n",
              "</div>\n",
              "      <button class=\"colab-df-convert\" onclick=\"convertToInteractive('df-00698afe-43bd-4ac3-bc3b-1657d18ea755')\"\n",
              "              title=\"Convert this dataframe to an interactive table.\"\n",
              "              style=\"display:none;\">\n",
              "        \n",
              "  <svg xmlns=\"http://www.w3.org/2000/svg\" height=\"24px\"viewBox=\"0 0 24 24\"\n",
              "       width=\"24px\">\n",
              "    <path d=\"M0 0h24v24H0V0z\" fill=\"none\"/>\n",
              "    <path d=\"M18.56 5.44l.94 2.06.94-2.06 2.06-.94-2.06-.94-.94-2.06-.94 2.06-2.06.94zm-11 1L8.5 8.5l.94-2.06 2.06-.94-2.06-.94L8.5 2.5l-.94 2.06-2.06.94zm10 10l.94 2.06.94-2.06 2.06-.94-2.06-.94-.94-2.06-.94 2.06-2.06.94z\"/><path d=\"M17.41 7.96l-1.37-1.37c-.4-.4-.92-.59-1.43-.59-.52 0-1.04.2-1.43.59L10.3 9.45l-7.72 7.72c-.78.78-.78 2.05 0 2.83L4 21.41c.39.39.9.59 1.41.59.51 0 1.02-.2 1.41-.59l7.78-7.78 2.81-2.81c.8-.78.8-2.07 0-2.86zM5.41 20L4 18.59l7.72-7.72 1.47 1.35L5.41 20z\"/>\n",
              "  </svg>\n",
              "      </button>\n",
              "      \n",
              "  <style>\n",
              "    .colab-df-container {\n",
              "      display:flex;\n",
              "      flex-wrap:wrap;\n",
              "      gap: 12px;\n",
              "    }\n",
              "\n",
              "    .colab-df-convert {\n",
              "      background-color: #E8F0FE;\n",
              "      border: none;\n",
              "      border-radius: 50%;\n",
              "      cursor: pointer;\n",
              "      display: none;\n",
              "      fill: #1967D2;\n",
              "      height: 32px;\n",
              "      padding: 0 0 0 0;\n",
              "      width: 32px;\n",
              "    }\n",
              "\n",
              "    .colab-df-convert:hover {\n",
              "      background-color: #E2EBFA;\n",
              "      box-shadow: 0px 1px 2px rgba(60, 64, 67, 0.3), 0px 1px 3px 1px rgba(60, 64, 67, 0.15);\n",
              "      fill: #174EA6;\n",
              "    }\n",
              "\n",
              "    [theme=dark] .colab-df-convert {\n",
              "      background-color: #3B4455;\n",
              "      fill: #D2E3FC;\n",
              "    }\n",
              "\n",
              "    [theme=dark] .colab-df-convert:hover {\n",
              "      background-color: #434B5C;\n",
              "      box-shadow: 0px 1px 3px 1px rgba(0, 0, 0, 0.15);\n",
              "      filter: drop-shadow(0px 1px 2px rgba(0, 0, 0, 0.3));\n",
              "      fill: #FFFFFF;\n",
              "    }\n",
              "  </style>\n",
              "\n",
              "      <script>\n",
              "        const buttonEl =\n",
              "          document.querySelector('#df-00698afe-43bd-4ac3-bc3b-1657d18ea755 button.colab-df-convert');\n",
              "        buttonEl.style.display =\n",
              "          google.colab.kernel.accessAllowed ? 'block' : 'none';\n",
              "\n",
              "        async function convertToInteractive(key) {\n",
              "          const element = document.querySelector('#df-00698afe-43bd-4ac3-bc3b-1657d18ea755');\n",
              "          const dataTable =\n",
              "            await google.colab.kernel.invokeFunction('convertToInteractive',\n",
              "                                                     [key], {});\n",
              "          if (!dataTable) return;\n",
              "\n",
              "          const docLinkHtml = 'Like what you see? Visit the ' +\n",
              "            '<a target=\"_blank\" href=https://colab.research.google.com/notebooks/data_table.ipynb>data table notebook</a>'\n",
              "            + ' to learn more about interactive tables.';\n",
              "          element.innerHTML = '';\n",
              "          dataTable['output_type'] = 'display_data';\n",
              "          await google.colab.output.renderOutput(dataTable, element);\n",
              "          const docLink = document.createElement('div');\n",
              "          docLink.innerHTML = docLinkHtml;\n",
              "          element.appendChild(docLink);\n",
              "        }\n",
              "      </script>\n",
              "    </div>\n",
              "  </div>\n",
              "  "
            ]
          },
          "metadata": {},
          "execution_count": 18
        }
      ]
    },
    {
      "cell_type": "code",
      "source": [
        "autos[\"seller\"].value_counts()"
      ],
      "metadata": {
        "colab": {
          "base_uri": "https://localhost:8080/"
        },
        "id": "pPFKfJLw67ii",
        "outputId": "d2d6b554-3e64-4a08-cd52-0f47e4da9c89"
      },
      "execution_count": 19,
      "outputs": [
        {
          "output_type": "execute_result",
          "data": {
            "text/plain": [
              "privat        371525\n",
              "gewerblich         3\n",
              "Name: seller, dtype: int64"
            ]
          },
          "metadata": {},
          "execution_count": 19
        }
      ]
    },
    {
      "cell_type": "code",
      "source": [
        "col_value_counts = {}\n",
        "for c in autos.columns:\n",
        "  if c in col_value_counts:\n",
        "    col_value_counts[c] += 1\n",
        "  else:\n",
        "    col_value_counts[c] = 1\n",
        "print(col_value_counts)\n",
        "\n"
      ],
      "metadata": {
        "colab": {
          "base_uri": "https://localhost:8080/"
        },
        "id": "_ly0gy8_809m",
        "outputId": "ab45ae7d-76da-4481-e3fe-b7e18ff5ab5e"
      },
      "execution_count": 25,
      "outputs": [
        {
          "output_type": "stream",
          "name": "stdout",
          "text": [
            "{'datecrawled': 1, 'name': 1, 'seller': 1, 'offertype': 1, 'price': 1, 'abtest': 1, 'vehicletype': 1, 'registration_year': 1, 'gearbox': 1, 'powerps': 1, 'model': 1, 'kilometer': 1, 'registration_month': 1, 'fueltype': 1, 'brand': 1, 'unrepaired_damage': 1, 'ad_created': 1, 'nrofpictures': 1, 'postalcode': 1, 'lastseen': 1}\n"
          ]
        }
      ]
    },
    {
      "cell_type": "code",
      "source": [
        "col_value_counts = {}\n",
        "for c in autos.columns:\n",
        "  col_value_counts[c] = autos[c].value_counts().head()\n",
        "   \n",
        "print(col_value_counts)\n",
        "\n"
      ],
      "metadata": {
        "colab": {
          "base_uri": "https://localhost:8080/"
        },
        "id": "cAUGmWCNV5rn",
        "outputId": "fb37b53d-a443-44ae-8ebb-9c43dcf7486b"
      },
      "execution_count": 41,
      "outputs": [
        {
          "output_type": "stream",
          "name": "stdout",
          "text": [
            "{'datecrawled': 2016-03-24 14:49:47    7\n",
            "2016-03-19 21:49:56    6\n",
            "2016-03-26 22:57:31    6\n",
            "2016-03-22 10:42:10    5\n",
            "2016-04-01 16:52:05    5\n",
            "Name: datecrawled, dtype: int64, 'name': Ford_Fiesta            657\n",
            "BMW_318i               627\n",
            "Opel_Corsa             622\n",
            "Volkswagen_Golf_1.4    603\n",
            "BMW_316i               523\n",
            "Name: name, dtype: int64, 'seller': privat        371525\n",
            "gewerblich         3\n",
            "Name: seller, dtype: int64, 'offertype': Angebot    371516\n",
            "Gesuch         12\n",
            "Name: offertype, dtype: int64, 'price': 0       10778\n",
            "500      5670\n",
            "1500     5394\n",
            "1000     4649\n",
            "1200     4594\n",
            "Name: price, dtype: int64, 'abtest': test       192585\n",
            "control    178943\n",
            "Name: abtest, dtype: int64, 'vehicletype': limousine     95894\n",
            "kleinwagen    80023\n",
            "kombi         67564\n",
            "bus           30201\n",
            "cabrio        22898\n",
            "Name: vehicletype, dtype: int64, 'registration_year': 2000    24551\n",
            "1999    22767\n",
            "2005    22316\n",
            "2006    20230\n",
            "2001    20218\n",
            "Name: registration_year, dtype: int64, 'gearbox': manuell      274214\n",
            "automatik     77105\n",
            "Name: gearbox, dtype: int64, 'powerps': 0      40820\n",
            "75     24035\n",
            "60     15907\n",
            "150    15442\n",
            "140    13585\n",
            "Name: powerps, dtype: int64, 'model': golf      30070\n",
            "andere    26400\n",
            "3er       20567\n",
            "polo      13092\n",
            "corsa     12573\n",
            "Name: model, dtype: int64, 'kilometer': 150000    240797\n",
            "125000     38067\n",
            "100000     15920\n",
            "90000      12523\n",
            "80000      11053\n",
            "Name: kilometer, dtype: int64, 'registration_month': 0    37675\n",
            "3    36170\n",
            "6    33167\n",
            "4    30918\n",
            "5    30631\n",
            "Name: registration_month, dtype: int64, 'fueltype': benzin    223857\n",
            "diesel    107746\n",
            "lpg         5378\n",
            "cng          571\n",
            "hybrid       278\n",
            "Name: fueltype, dtype: int64, 'brand': volkswagen       79640\n",
            "bmw              40274\n",
            "opel             40136\n",
            "mercedes_benz    35309\n",
            "audi             32873\n",
            "Name: brand, dtype: int64, 'unrepaired_damage': nein    263182\n",
            "ja       36286\n",
            "Name: unrepaired_damage, dtype: int64, 'ad_created': 2016-04-03 00:00:00    14450\n",
            "2016-04-04 00:00:00    14022\n",
            "2016-03-20 00:00:00    13547\n",
            "2016-03-12 00:00:00    13379\n",
            "2016-03-21 00:00:00    13305\n",
            "Name: ad_created, dtype: int64, 'nrofpictures': 0    371528\n",
            "Name: nrofpictures, dtype: int64, 'postalcode': 10115    828\n",
            "65428    637\n",
            "66333    349\n",
            "38518    326\n",
            "44145    323\n",
            "Name: postalcode, dtype: int64, 'lastseen': 2016-04-07 06:45:59    17\n",
            "2016-04-06 13:45:54    17\n",
            "2016-04-07 06:45:12    16\n",
            "2016-04-06 08:46:30    16\n",
            "2016-04-06 17:46:58    16\n",
            "Name: lastseen, dtype: int64}\n"
          ]
        }
      ]
    },
    {
      "cell_type": "code",
      "source": [
        "col_value_counts = {}\n",
        "for c in autos.columns:\n",
        "    value_counts = autos[c].value_counts()\n",
        "    if value_counts in col_value_counts.values():\n",
        "        col_value_counts[c] += 1\n",
        "    else:\n",
        "        col_value_counts[c] = 1\n",
        "print(col_value_counts)\n"
      ],
      "metadata": {
        "id": "7YKkV-JK9835"
      },
      "execution_count": null,
      "outputs": []
    },
    {
      "cell_type": "code",
      "source": [
        "col_value_counts = {}\n",
        "for c in autos.columns:\n",
        "    col_value_counts[c] = autos[c].value_counts()\n",
        "print(col_value_counts.head())\n"
      ],
      "metadata": {
        "id": "U2W1KF-v-T_N"
      },
      "execution_count": null,
      "outputs": []
    },
    {
      "cell_type": "code",
      "source": [
        "col_value_counts = {}\n",
        "for c in autos.columns:\n",
        "    col_value_counts[c] = autos[c].value_counts()\n",
        "\n",
        "for c, vc in col_value_counts.items():\n",
        "    print(f\"Top 5 rows for column '{c}':\\n{vc.nlargest(5)}\\n\")\n"
      ],
      "metadata": {
        "id": "NTDN1cZlMduD"
      },
      "execution_count": null,
      "outputs": []
    },
    {
      "cell_type": "code",
      "source": [
        "col_value_counts = {}\n",
        "for c in autos.columns:\n",
        "    col_value_counts[c] = autos[c].value_counts()\n",
        "\n",
        "top5_counts = pd.DataFrame(columns=autos.columns)\n",
        "for c, vc in col_value_counts.items():\n",
        "    unique_vals = set(vc.index)\n",
        "    if len(unique_vals) >= 5:\n",
        "        top5_counts[c] = vc.sort_values(ascending=False)[:5].index\n",
        "    else:\n",
        "        top5_counts[c] = list(unique_vals) + [np.nan] * (5 - len(unique_vals))\n",
        "\n",
        "print(top5_counts.head())\n"
      ],
      "metadata": {
        "id": "qgI8qIRtNcxQ"
      },
      "execution_count": null,
      "outputs": []
    },
    {
      "cell_type": "code",
      "source": [
        "col_value_counts = {}\n",
        "for c in autos.columns:\n",
        "    col_value_counts[c] = autos[c].value_counts()\n",
        "\n",
        "top5_counts = pd.DataFrame(columns=[\"value\", \"count\"])\n",
        "for c, vc in col_value_counts.items():\n",
        "    if len(vc) >= 5:\n",
        "        top5_counts = top5_counts.append(pd.DataFrame({\"value\": vc.index[:5], \"count\": vc.values[:5]}), ignore_index=True)\n",
        "    else:\n",
        "        top5_counts = top5_counts.append(pd.DataFrame({\"value\": vc.index, \"count\": vc.values}), ignore_index=True)\n",
        "\n",
        "print(top5_counts.head(10))\n"
      ],
      "metadata": {
        "id": "bQb3LLzLNcrS"
      },
      "execution_count": null,
      "outputs": []
    },
    {
      "cell_type": "code",
      "source": [
        "print(autos.columns)"
      ],
      "metadata": {
        "id": "C4_GwjI4-zfo"
      },
      "execution_count": null,
      "outputs": []
    },
    {
      "cell_type": "code",
      "source": [
        "most_popular_brands_by_year = autos.groupby(['model', 'brand']).size().reset_index(name='count')\n",
        "most_popular_brands_by_year = most_popular_brands_by_year.loc[most_popular_brands_by_year.groupby('brand')['count'].idxmax()].reset_index(drop=True)\n",
        "print(most_popular_brands_by_year)\n"
      ],
      "metadata": {
        "id": "oaJ6E_nD_u9h"
      },
      "execution_count": null,
      "outputs": []
    },
    {
      "cell_type": "code",
      "source": [
        "most_popular_brands_by_year = autos.groupby('brand')['model'].value_counts().unstack().fillna(0).idxmax(axis=1).reset_index(name='most_popular_brand')\n",
        "print(most_popular_brands_by_year)\n"
      ],
      "metadata": {
        "id": "nQRtfr0uA1lf"
      },
      "execution_count": null,
      "outputs": []
    },
    {
      "cell_type": "code",
      "source": [
        "# Group the DataFrame by the 'year' and 'brand' columns and count the occurrences\n",
        "grouped_counts = autos.groupby(['brand', 'model']).size().reset_index(name='count')\n",
        "\n",
        "# Find the indices of the rows with the highest count for each year\n",
        "max_count_indices = grouped_counts.groupby('brand')['count'].idxmax()\n",
        "\n",
        "# Select the rows with the highest count for each year\n",
        "most_popular_brands_by_year = grouped_counts.loc[max_count_indices].reset_index(drop=True)\n",
        "\n",
        "print(most_popular_brands_by_year)\n"
      ],
      "metadata": {
        "id": "iS2HAOJgCvzJ"
      },
      "execution_count": null,
      "outputs": []
    },
    {
      "cell_type": "code",
      "source": [
        "# Group the DataFrame by the 'brand' and 'model' columns and count the occurrences\n",
        "grouped_counts = autos.groupby(['brand', 'model', 'registration_year']).size().reset_index(name='count')\n",
        "\n",
        "# Find the indices of the rows with the highest count for each brand\n",
        "max_count_indices = grouped_counts.groupby('brand')['count'].idxmax()\n",
        "\n",
        "# Select the rows with the highest count for each brand\n",
        "most_popular_models_by_brand = grouped_counts.loc[max_count_indices].reset_index(drop=True)\n",
        "\n",
        "# Sort the DataFrame by the 'count' column in descending order\n",
        "most_popular_models_by_brand = most_popular_models_by_brand.sort_values('count', ascending=False).reset_index(drop=True)\n",
        "\n",
        "print(most_popular_models_by_brand)\n",
        "\n"
      ],
      "metadata": {
        "id": "3oTrC8VNDgk7"
      },
      "execution_count": null,
      "outputs": []
    },
    {
      "cell_type": "code",
      "source": [
        "print(autos[[\"brand\", \"model\", \"registration_year\"]].value_counts())\n",
        "brand_model_year = autos[[\"brand\", \"model\", \"registration_year\"]].value_counts()\n"
      ],
      "metadata": {
        "id": "q4eGKtViGHXY"
      },
      "execution_count": null,
      "outputs": []
    },
    {
      "cell_type": "code",
      "source": [
        "print(brand_model_year.head(10))"
      ],
      "metadata": {
        "id": "EvbL21boGtOA"
      },
      "execution_count": null,
      "outputs": []
    },
    {
      "cell_type": "code",
      "source": [
        "print(autos[[\"brand\", \"model\", \"registration_year\", \"price\"]].value_counts())\n",
        "brand_model_year_price = autos[[\"brand\", \"model\", \"registration_year\", \"price\"]].value_counts()\n"
      ],
      "metadata": {
        "id": "TDA84Yx-HwUS"
      },
      "execution_count": null,
      "outputs": []
    },
    {
      "cell_type": "code",
      "source": [
        "# Group the DataFrame by the 'brand', 'model', and 'registration_year' columns and calculate the average price\n",
        "brand_model_year_price = autos.groupby([\"brand\", \"model\", \"registration_year\"])[\"price\"].mean().reset_index()\n",
        "\n",
        "# Sort the DataFrame by the 'price' column in descending order\n",
        "brand_model_year_price = brand_model_year_price.sort_values(\"price\", ascending=False).reset_index(drop=True)\n",
        "\n",
        "print(brand_model_year_price)\n"
      ],
      "metadata": {
        "id": "-gKcrmHIIGUt"
      },
      "execution_count": null,
      "outputs": []
    },
    {
      "cell_type": "code",
      "source": [
        "print(autos[\"price\"].max())\n",
        "print(autos[\"price\"].min())"
      ],
      "metadata": {
        "id": "MMB_xJfbIXxj"
      },
      "execution_count": null,
      "outputs": []
    },
    {
      "cell_type": "code",
      "source": [
        "print(autos[\"price\"].min())"
      ],
      "metadata": {
        "id": "f_kEylgRI5Jg"
      },
      "execution_count": null,
      "outputs": []
    },
    {
      "cell_type": "code",
      "source": [
        "print(autos[\"price\"].loc[\"golf\"].mean())"
      ],
      "metadata": {
        "id": "ds8MSRLYI9FP"
      },
      "execution_count": null,
      "outputs": []
    },
    {
      "cell_type": "code",
      "source": [
        "print(autos.columns)"
      ],
      "metadata": {
        "id": "2fQnbENxJJg_"
      },
      "execution_count": null,
      "outputs": []
    },
    {
      "cell_type": "code",
      "source": [
        "# Filter the DataFrame for Volkswagen Golf\n",
        "vw_golf = autos[(autos['brand'] == 'volkswagen') & (autos['model'] == 'golf')]\n",
        "\n",
        "# Group the filtered DataFrame by the 'registration_year' column and calculate the average price\n",
        "golf_yearly_avg_price = vw_golf.groupby('registration_year')['price'].mean().reset_index()\n",
        "\n",
        "# Sort the DataFrame by the 'registration_year' column in ascending order\n",
        "golf_yearly_avg_price = golf_yearly_avg_price.sort_values('price').reset_index(drop=True)\n",
        "\n",
        "print(golf_yearly_avg_price)\n"
      ],
      "metadata": {
        "id": "b5pPi6wgKIeT"
      },
      "execution_count": null,
      "outputs": []
    },
    {
      "cell_type": "code",
      "source": [
        "import pandas as pd\n",
        "\n",
        "# Set the display format for floating-point numbers\n",
        "pd.options.display.float_format = '{:,.0f}'.format\n",
        "\n",
        "# Filter the DataFrame for Volkswagen Golf\n",
        "vw_golf = autos[(autos['brand'] == 'volkswagen') & (autos['model'] == 'golf')]\n",
        "\n",
        "# Group the filtered DataFrame by the 'registration_year' column and calculate the average price\n",
        "golf_yearly_avg_price = vw_golf.groupby('registration_year')['price'].mean().reset_index()\n",
        "\n",
        "# Sort the DataFrame by the 'registration_year' column in ascending order\n",
        "golf_yearly_avg_price = golf_yearly_avg_price.sort_values('price').reset_index(drop=True)\n",
        "\n",
        "print(golf_yearly_avg_price)\n"
      ],
      "metadata": {
        "id": "VUkzahc9KT51"
      },
      "execution_count": null,
      "outputs": []
    },
    {
      "cell_type": "code",
      "source": [
        "autos.columns"
      ],
      "metadata": {
        "id": "8aUQY3EhK57B"
      },
      "execution_count": null,
      "outputs": []
    },
    {
      "cell_type": "code",
      "source": [
        "autos[\"kilometer\"].unique().shape"
      ],
      "metadata": {
        "id": "dJyHzxqvO8vr"
      },
      "execution_count": null,
      "outputs": []
    },
    {
      "cell_type": "code",
      "source": [
        "col_unique_counts = {}\n",
        "for c in autos.columns:\n",
        "    col_unique_counts[c] = autos[c].unique().shape\n",
        "print(col_unique_counts[c])"
      ],
      "metadata": {
        "id": "MGo_WfIhPRsW"
      },
      "execution_count": null,
      "outputs": []
    },
    {
      "cell_type": "code",
      "source": [
        "col_unique_counts = {}\n",
        "for c in autos.columns:\n",
        "    col_unique_counts[c] = (autos[c].nunique(), autos[c].count())\n",
        "    print(f\"Column {c}: {col_unique_counts[c][0]} unique items, {col_unique_counts[c][1]} total items\")\n"
      ],
      "metadata": {
        "id": "BG-Aq-MCPrJA"
      },
      "execution_count": null,
      "outputs": []
    },
    {
      "cell_type": "code",
      "source": [
        "autos.describe()"
      ],
      "metadata": {
        "id": "dnDaGZ2wQLQR"
      },
      "execution_count": null,
      "outputs": []
    },
    {
      "cell_type": "code",
      "source": [
        "autos.columns = autos.rename(columns={'kilomter': 'odometer_km'})\n",
        "print(autos.columns)"
      ],
      "metadata": {
        "id": "Trx-MbjZQXtr"
      },
      "execution_count": null,
      "outputs": []
    },
    {
      "cell_type": "code",
      "source": [
        "autos = autos.rename(columns={'kilomter': 'odometer_km'})\n",
        "print(autos.columns)"
      ],
      "metadata": {
        "id": "NTXNobO8RzAy"
      },
      "execution_count": null,
      "outputs": []
    },
    {
      "cell_type": "code",
      "source": [
        "\n",
        "# Rename the 'kilometer' column to 'odometer_km'\n",
        "autos.rename(columns={'kilometer': 'odometer_km'}, inplace=True)\n",
        "\n",
        "# Print the updated column names\n",
        "print(autos.columns)\n",
        "\n"
      ],
      "metadata": {
        "id": "BMgWXWWBR2wl"
      },
      "execution_count": null,
      "outputs": []
    },
    {
      "cell_type": "code",
      "source": [
        "autos.rename(columns=(autos_map_dict), inplace=True)\n",
        "autos.columns = autos.columns.str.lower().str.strip()\n",
        "print(autos.columns)"
      ],
      "metadata": {
        "id": "DICp5KpnSv-n"
      },
      "execution_count": null,
      "outputs": []
    },
    {
      "cell_type": "code",
      "source": [
        "autos[\"price\"].describe(include=all)"
      ],
      "metadata": {
        "id": "z2ZyFRLjTV38"
      },
      "execution_count": null,
      "outputs": []
    },
    {
      "cell_type": "code",
      "source": [
        "autos[\"odometer_km\"].describe(include=all)"
      ],
      "metadata": {
        "id": "kkv06OKLT10K"
      },
      "execution_count": null,
      "outputs": []
    },
    {
      "cell_type": "code",
      "source": [
        "autos[\"odometer_km\"].value_counts()"
      ],
      "metadata": {
        "id": "L7NlL6LBUCb1"
      },
      "execution_count": null,
      "outputs": []
    },
    {
      "cell_type": "code",
      "source": [
        "autos[\"price\"].value_counts()"
      ],
      "metadata": {
        "id": "M6QJPBpkUI__"
      },
      "execution_count": null,
      "outputs": []
    },
    {
      "cell_type": "code",
      "source": [
        "print(autos[\"price\"].max())\n",
        "print(autos[\"price\"].min())\n",
        "print(autos[\"price\"].mean())"
      ],
      "metadata": {
        "id": "ER4JSueXUQAn"
      },
      "execution_count": null,
      "outputs": []
    },
    {
      "cell_type": "code",
      "source": [
        "print(autos[\"odometer_km\"].max())\n",
        "print(autos[\"odometer_km\"].min())\n",
        "print(autos[\"odometer_km\"].mean())"
      ],
      "metadata": {
        "id": "bHcX8YadUd0a"
      },
      "execution_count": null,
      "outputs": []
    },
    {
      "cell_type": "code",
      "source": [
        "autos[\"price\"].value_counts().head(10)"
      ],
      "metadata": {
        "id": "kU_dK2GlUoQd"
      },
      "execution_count": null,
      "outputs": []
    },
    {
      "cell_type": "code",
      "source": [
        "# Filter the dataset to include only valid prices\n",
        "autos = autos[(autos[\"price\"] >= 1) & (autos[\"price\"] <= 500000)]\n",
        "\n",
        "# Update the \"price\" column in the original dataset with the filtered values\n",
        "autos.loc[(autos[\"price\"] >= 1) & (autos[\"price\"] <= 500000), \"price\"] = autos[\"price\"]\n",
        "\n",
        "\n",
        "print(autos[\"price\"].max())\n",
        "print(autos[\"price\"].min())\n",
        "print(autos[\"price\"].mean())"
      ],
      "metadata": {
        "id": "24H3Rs5VVADv"
      },
      "execution_count": null,
      "outputs": []
    },
    {
      "cell_type": "code",
      "source": [
        "autos[\"price\"].value_counts()"
      ],
      "metadata": {
        "id": "W6H5bu_aVrRi"
      },
      "execution_count": null,
      "outputs": []
    },
    {
      "cell_type": "code",
      "source": [
        "print(\"Unique values in price:\", autos['price'].unique().shape)"
      ],
      "metadata": {
        "id": "JlfUt5iNcN_x"
      },
      "execution_count": null,
      "outputs": []
    },
    {
      "cell_type": "code",
      "source": [
        "# Analyzing the price column\n",
        "print(\"Unique values in price:\", autos['price'].unique().shape)\n",
        "print(\"\\nPrice description:\")\n",
        "print(autos['price'].describe())\n",
        "print(\"\\nValue counts of prices (top 10):\")\n",
        "print(autos['price'].value_counts().head(10))\n",
        "print(\"\\nValue counts of prices (sorted):\")\n",
        "print(autos['price'].value_counts().sort_index(ascending=True).head(10))\n",
        "print(autos['price'].value_counts().sort_index(ascending=False).head(10))\n"
      ],
      "metadata": {
        "id": "AZExYCr0cZYl"
      },
      "execution_count": null,
      "outputs": []
    },
    {
      "cell_type": "code",
      "source": [
        "# Removing outliers from the price column\n",
        "autos = autos[autos[\"price\"].between(100, 350000)]\n",
        "# Analyzing the price column\n",
        "print(\"Unique values in price:\", autos['price'].unique().shape)\n",
        "print(\"\\nPrice description:\")\n",
        "print(autos['price'].describe())\n",
        "print(\"\\nValue counts of prices (top 10):\")\n",
        "print(autos['price'].value_counts().head(10))\n",
        "print(\"\\nValue counts of prices (sorted):\")\n",
        "print(autos['price'].value_counts().sort_index(ascending=True).head(10))\n",
        "print(autos['price'].value_counts().sort_index(ascending=False).head(10))"
      ],
      "metadata": {
        "id": "dDooOFwbchDi"
      },
      "execution_count": null,
      "outputs": []
    },
    {
      "cell_type": "markdown",
      "source": [
        "- `date_crawled`: added by the crawler\n",
        "- `last_seen`: added by the crawler\n",
        "- `ad_created`: from the website\n",
        "- `registration_month`: from the website\n",
        "- `registration_year`: from the website"
      ],
      "metadata": {
        "id": "mB7OTfxvdiKQ"
      }
    },
    {
      "cell_type": "markdown",
      "source": [
        "Date crawled distribution - we are only taking the first 10 values because otherwise we go beyond the day and into timestamps.\n",
        "\n",
        "Settig normalize to True gives us the % relative to the whole as opposed to the count amount. "
      ],
      "metadata": {
        "id": "cZybytJNeRkd"
      }
    },
    {
      "cell_type": "code",
      "source": [
        "date_crawled_distribution = autos['datecrawled'].str[:10].value_counts(normalize=True, dropna=False).sort_index()\n",
        "print(\"Date Crawled Distribution:\\n\", date_crawled_distribution)"
      ],
      "metadata": {
        "id": "3qZj1JlMdJPs"
      },
      "execution_count": null,
      "outputs": []
    },
    {
      "cell_type": "code",
      "source": [
        "print(autos.columns)"
      ],
      "metadata": {
        "id": "1kyJJd6Fdxps"
      },
      "execution_count": null,
      "outputs": []
    },
    {
      "cell_type": "code",
      "source": [
        "# Distribution of ad_created\n",
        "ad_created_distribution = autos['ad_created'].str[:10].value_counts(normalize=True, dropna=False).sort_index()\n",
        "print(\"\\nAd Created Distribution:\\n\", ad_created_distribution)"
      ],
      "metadata": {
        "id": "_ZcxOXD0dyxZ"
      },
      "execution_count": null,
      "outputs": []
    },
    {
      "cell_type": "code",
      "source": [
        "# Distribution of last_seen\n",
        "last_seen_distribution = autos['lastseen'].str[:10].value_counts(normalize=True, dropna=False).sort_index()\n",
        "print(\"\\nLast Seen Distribution:\\n\", last_seen_distribution)"
      ],
      "metadata": {
        "id": "TJ8d_ptAexwm"
      },
      "execution_count": null,
      "outputs": []
    },
    {
      "cell_type": "code",
      "source": [
        "autos['registration_year'].describe()"
      ],
      "metadata": {
        "id": "oAOOcCNme5SR"
      },
      "execution_count": null,
      "outputs": []
    },
    {
      "cell_type": "code",
      "source": [
        "outside_interval = autos[(autos['registration_year'] < 1900) | (autos['registration_year'] > 2016)]\n",
        "count_outside_interval = outside_interval.shape[0]\n",
        "print(f\"Number of listings outside the 1900-2016 interval: {count_outside_interval}\")"
      ],
      "metadata": {
        "id": "wmbf2mUifK0X"
      },
      "execution_count": null,
      "outputs": []
    },
    {
      "cell_type": "code",
      "source": [
        "autos = autos[(autos['registration_year'] >= 1900) & (autos['registration_year'] <= 2016)]"
      ],
      "metadata": {
        "id": "gQzK3eG3fY7P"
      },
      "execution_count": null,
      "outputs": []
    },
    {
      "cell_type": "code",
      "source": [
        "autos['registration_year'].value_counts(normalize=True)"
      ],
      "metadata": {
        "id": "r5rRCX99flC2"
      },
      "execution_count": null,
      "outputs": []
    },
    {
      "cell_type": "code",
      "source": [
        "# Calculate the frequency of each brand in the dataset\n",
        "brand_counts = autos['brand'].value_counts(normalize=True)\n",
        "# Filter the brands that have over 0.9% of the total values\n",
        "selected_brands = brand_counts[brand_counts > .009].index\n",
        "\n",
        "print(selected_brands)\n"
      ],
      "metadata": {
        "id": "N5OP7NhHfvDx"
      },
      "execution_count": null,
      "outputs": []
    },
    {
      "cell_type": "code",
      "source": [
        "\n",
        "mean_price_per_brand={}\n",
        "for c in selected_brands:\n",
        "  mean_price_per_brand[c] = autos[autos['brand']==c] ['price'].mean()\n",
        "mean_price_per_brand"
      ],
      "metadata": {
        "id": "Idtj9hAFgDIf"
      },
      "execution_count": null,
      "outputs": []
    },
    {
      "cell_type": "code",
      "source": [
        "\n",
        "mean_mileage_per_brand={}\n",
        "for brand in selected_brands:\n",
        "  mean_mileage_per_brand[brand] = autos[autos['brand']==brand] ['odometer_km'].mean()\n",
        "mean_mileage_per_brand"
      ],
      "metadata": {
        "id": "H_PsaSGojZXm"
      },
      "execution_count": null,
      "outputs": []
    },
    {
      "cell_type": "code",
      "source": [
        "mean_mileage_per_brand = {}\n",
        "for brand in selected_brands:\n",
        "    mean_mileage = autos.loc[autos['brand'] == brand, 'odometer_km'].mean()\n",
        "    mean_mileage_per_brand[brand] = mean_mileage\n",
        "print(mean_mileage_per_brand)"
      ],
      "metadata": {
        "id": "uJJ3BOKwkDPF"
      },
      "execution_count": null,
      "outputs": []
    },
    {
      "cell_type": "code",
      "source": [
        "print(autos['vehicletype'].unique())\n",
        "print(autos['gearbox'].unique())\n",
        "print(autos['fueltype'].unique())\n",
        "print(autos['unrepaired_damage'].unique())"
      ],
      "metadata": {
        "id": "oiLTM655kg8A"
      },
      "execution_count": null,
      "outputs": []
    },
    {
      "cell_type": "code",
      "source": [
        "vehicle_type_map = {\n",
        "    'bus': 'bus',\n",
        "    'limousine': 'limousine',\n",
        "    'kleinwagen': 'small car',\n",
        "    'kombi': 'station wagon',\n",
        "    'coupe': 'coupe',\n",
        "    'suv': 'suv',\n",
        "    'cabrio': 'convertible',\n",
        "    'andere': 'other'\n",
        "}\n",
        "\n",
        "gearbox_map = {\n",
        "    'manuell': 'manual',\n",
        "    'automatik': 'automatic'\n",
        "}\n",
        "\n",
        "fuel_type_map = {\n",
        "    'lpg': 'lpg',\n",
        "    'benzin': 'gasoline',\n",
        "    'diesel': 'diesel',\n",
        "    'cng': 'cng',\n",
        "    'hybrid': 'hybrid',\n",
        "    'elektro': 'electric',\n",
        "    'andere': 'other'\n",
        "}\n",
        "\n",
        "unrepaired_damage_map = {\n",
        "    'nein': 'no',\n",
        "    'ja': 'yes'\n",
        "}\n",
        "\n",
        "autos['vehicletype'] = autos['vehicletype'].map(vehicle_type_map)\n",
        "autos['gearbox'] = autos['gearbox'].map(gearbox_map)\n",
        "autos['fueltype'] = autos['fueltype'].map(fuel_type_map)\n",
        "autos['unrepaired_damage'] = autos['unrepaired_damage'].map(unrepaired_damage_map)"
      ],
      "metadata": {
        "id": "A2UqRb7Vqclx"
      },
      "execution_count": null,
      "outputs": []
    },
    {
      "cell_type": "code",
      "source": [
        "print(autos['vehicletype'].unique())\n",
        "print(autos['gearbox'].unique())\n",
        "print(autos['fueltype'].unique())\n",
        "print(autos['unrepaired_damage'].unique())"
      ],
      "metadata": {
        "id": "pSha1vfSq1kv"
      },
      "execution_count": null,
      "outputs": []
    },
    {
      "cell_type": "code",
      "source": [
        "print(autos[\"gearbox\"])"
      ],
      "metadata": {
        "id": "tXgqht7arHYF"
      },
      "execution_count": null,
      "outputs": []
    },
    {
      "cell_type": "code",
      "source": [
        "from collections import Counter\n",
        "import re\n",
        "\n",
        "# Split car names into words and count occurrences\n",
        "word_list = []\n",
        "for car_name in autos['name']:\n",
        "    words = re.findall(r'[A-Za-z0-9]+', car_name)\n",
        "    word_list.extend(words)\n",
        "\n",
        "word_counts = Counter(word_list)\n",
        "\n",
        "# Sort words by their frequency\n",
        "sorted_word_counts = sorted(word_counts.items(), key=lambda x: x[1], reverse=True)\n",
        "\n",
        "# Print the top 60 most common words\n",
        "print(sorted_word_counts[:60])"
      ],
      "metadata": {
        "colab": {
          "base_uri": "https://localhost:8080/"
        },
        "id": "ZLUpzUQtrR7x",
        "outputId": "a6ce427d-7758-4d04-9a5b-3c72cc42e1e4"
      },
      "execution_count": 46,
      "outputs": [
        {
          "output_type": "stream",
          "name": "stdout",
          "text": [
            "[('1', 111414), ('2', 72848), ('0', 38729), ('Volkswagen', 37560), ('T', 34822), ('Opel', 34482), ('BMW', 33783), ('TDI', 31902), ('V', 30796), ('Mercedes', 30339), ('4', 30281), ('Audi', 30273), ('Golf', 28978), ('6', 27194), ('Benz', 24322), ('Ford', 22964), ('DPF', 20024), ('VW', 19010), ('3', 18810), ('mit', 17967), ('8', 16520), ('9', 15540), ('Renault', 15237), ('5', 12637), ('Polo', 11966), ('16V', 11737), ('Klima', 11561), ('Corsa', 11012), ('Automatik', 10794), ('CDI', 10081), ('Peugeot', 9986), ('Tuev', 9952), ('C', 9676), ('Passat', 9642), ('Astra', 9641), ('A4', 9602), ('S', 9115), ('Cabrio', 9080), ('Edition', 8757), ('Fiat', 8587), ('2017', 8533), ('Sport', 8288), ('Navi', 7433), ('Avant', 7348), ('Variant', 7119), ('E', 7027), ('Kombi', 6971), ('7', 6890), ('neu', 6761), ('Seat', 6395), ('Zustand', 6278), ('Top', 6237), ('Leder', 6127), ('A3', 6126), ('bis', 6100), ('AHK', 6044), ('Hand', 6023), ('A6', 5747), ('Verkaufe', 5644), ('Aut', 5520)]\n"
          ]
        }
      ]
    },
    {
      "cell_type": "code",
      "source": [
        "brand_model_combinations = autos.groupby(['brand', 'model']).size().sort_values(ascending=False)\n",
        "brand_model_combinations.head(10)"
      ],
      "metadata": {
        "id": "0k3dQCg3rbuJ"
      },
      "execution_count": null,
      "outputs": []
    },
    {
      "cell_type": "code",
      "source": [
        "brand_model_combinations = autos.groupby(['brand', 'model', 'name', 'registration_year']).size().sort_values(ascending=False)\n",
        "brand_model_combinations.head(10)"
      ],
      "metadata": {
        "id": "t-Toh4YQrrZq"
      },
      "execution_count": null,
      "outputs": []
    },
    {
      "cell_type": "code",
      "source": [
        "import numpy as np\n",
        "# Define the range for each group\n",
        "bins = np.linspace(autos['odometer_km'].min()-1, autos['odometer_km'].max(), num=10)\n",
        "\n",
        "# Categorize the data into the defined groups\n",
        "autos['odometer_km_group'] = pd.cut(autos['odometer_km'], bins=bins)\n",
        "\n",
        "# Group by the new categories and calculate the average price for each group\n",
        "odometer_price_group = autos.groupby('odometer_km_group')['price'].mean().reset_index()\n",
        "\n",
        "print(odometer_price_group.to_string())"
      ],
      "metadata": {
        "id": "gkwDB3LXrwJT"
      },
      "execution_count": null,
      "outputs": []
    },
    {
      "cell_type": "code",
      "source": [
        "# Calculate the average price of damaged cars\n",
        "damaged_cars_avg_price = autos[autos['unrepaired_damage'] == 'yes']['price'].mean()\n",
        "\n",
        "# Calculate the average price of non-damaged cars\n",
        "non_damaged_cars_avg_price = autos[autos['unrepaired_damage'] == 'no']['price'].mean()\n",
        "\n",
        "# Calculate the price difference\n",
        "price_difference = non_damaged_cars_avg_price - damaged_cars_avg_price\n",
        "\n",
        "print(\"Average price of damaged cars: {:.2f}\".format(damaged_cars_avg_price))\n",
        "print(\"Average price of non-damaged cars: {:.2f}\".format(non_damaged_cars_avg_price))\n",
        "print(\"Price difference: {:.2f}\".format(price_difference))"
      ],
      "metadata": {
        "colab": {
          "base_uri": "https://localhost:8080/"
        },
        "id": "w13SVDBNsT3g",
        "outputId": "39734340-c4c8-4898-8bea-acd25c9353b3"
      },
      "execution_count": 45,
      "outputs": [
        {
          "output_type": "stream",
          "name": "stdout",
          "text": [
            "Average price of damaged cars: nan\n",
            "Average price of non-damaged cars: nan\n",
            "Price difference: nan\n"
          ]
        }
      ]
    },
    {
      "cell_type": "code",
      "source": [
        "print(autos.columns)"
      ],
      "metadata": {
        "colab": {
          "base_uri": "https://localhost:8080/"
        },
        "id": "owtaqWk-ZASS",
        "outputId": "795a6ad3-6ebc-4885-c88d-61149840bcf8"
      },
      "execution_count": 44,
      "outputs": [
        {
          "output_type": "stream",
          "name": "stdout",
          "text": [
            "Index(['datecrawled', 'name', 'seller', 'offertype', 'price', 'abtest',\n",
            "       'vehicletype', 'registration_year', 'gearbox', 'powerps', 'model',\n",
            "       'kilometer', 'registration_month', 'fueltype', 'brand',\n",
            "       'unrepaired_damage', 'ad_created', 'nrofpictures', 'postalcode',\n",
            "       'lastseen'],\n",
            "      dtype='object')\n"
          ]
        }
      ]
    },
    {
      "cell_type": "code",
      "source": [],
      "metadata": {
        "id": "CA9Cr7_5ZPnZ"
      },
      "execution_count": null,
      "outputs": []
    }
  ]
}