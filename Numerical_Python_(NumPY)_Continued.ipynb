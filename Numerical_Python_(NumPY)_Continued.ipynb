{
  "nbformat": 4,
  "nbformat_minor": 0,
  "metadata": {
    "colab": {
      "provenance": []
    },
    "kernelspec": {
      "name": "python3",
      "display_name": "Python 3"
    },
    "language_info": {
      "name": "python"
    }
  },
  "cells": [
    {
      "cell_type": "code",
      "execution_count": null,
      "metadata": {
        "colab": {
          "base_uri": "https://localhost:8080/"
        },
        "id": "IX9GPRhFbH84",
        "outputId": "736cc1df-f7b1-42bf-c30e-602181aebe0e"
      },
      "outputs": [
        {
          "output_type": "stream",
          "name": "stdout",
          "text": [
            "(2014, 15)\n"
          ]
        }
      ],
      "source": [
        "\n",
        "import numpy as np\n",
        "\n",
        "np.genfromtxt('/content/drive/MyDrive/Dataset/nyc_taxis.csv', delimiter=None)\n",
        "\n",
        "data = np.genfromtxt('/content/drive/MyDrive/Dataset/nyc_taxis.csv', delimiter=',')\n",
        "\n",
        "print(data.shape)"
      ]
    },
    {
      "cell_type": "code",
      "source": [
        "import numpy as np\n",
        "taxi = np.genfromtxt('/content/drive/MyDrive/Dataset/nyc_taxis.csv', delimiter=',')\n",
        "taxi_shape = taxi.shape\n",
        "print(taxi_shape)"
      ],
      "metadata": {
        "colab": {
          "base_uri": "https://localhost:8080/"
        },
        "id": "1EUxhzHAbcQr",
        "outputId": "cd09425a-459d-4a2f-d01e-e5e7fa07a4df"
      },
      "execution_count": null,
      "outputs": [
        {
          "output_type": "stream",
          "name": "stdout",
          "text": [
            "(2014, 15)\n"
          ]
        }
      ]
    },
    {
      "cell_type": "markdown",
      "source": [
        "Why are we recieving NAN values when converting the data in our CSV to a ndarray"
      ],
      "metadata": {
        "id": "WIedHziPcd9t"
      }
    },
    {
      "cell_type": "code",
      "source": [
        "print(taxi[0])"
      ],
      "metadata": {
        "colab": {
          "base_uri": "https://localhost:8080/"
        },
        "id": "UZAxAz78bt3w",
        "outputId": "cf2679c6-fd5d-4ea1-bd23-fec20a23bc3d"
      },
      "execution_count": null,
      "outputs": [
        {
          "output_type": "stream",
          "name": "stdout",
          "text": [
            "[nan nan nan nan nan nan nan nan nan nan nan nan nan nan nan]\n"
          ]
        }
      ]
    },
    {
      "cell_type": "markdown",
      "source": [
        "We can see by checking the type that values are already converted to float (numpy checks what the values are in the file so doing a conversion like when using a list of lists, is not necessary)"
      ],
      "metadata": {
        "id": "g4uTyP38ctJq"
      }
    },
    {
      "cell_type": "code",
      "source": [
        "print(taxi.dtype)"
      ],
      "metadata": {
        "colab": {
          "base_uri": "https://localhost:8080/"
        },
        "id": "fakDSSHxbzv4",
        "outputId": "c2ec4340-e0c7-4074-ae44-f06e3697522e"
      },
      "execution_count": null,
      "outputs": [
        {
          "output_type": "stream",
          "name": "stdout",
          "text": [
            "float64\n"
          ]
        }
      ]
    },
    {
      "cell_type": "markdown",
      "source": [
        "the reason the first row has NAN values is because this is the header row and contains the index/column names which are not numerical / float values. NAN stands for Not a Number."
      ],
      "metadata": {
        "id": "KntR388YdHBP"
      }
    },
    {
      "cell_type": "code",
      "source": [
        "print(taxi[1:2,1:4])"
      ],
      "metadata": {
        "colab": {
          "base_uri": "https://localhost:8080/"
        },
        "id": "gZIOvgOccrmq",
        "outputId": "a80f6c9a-c51b-4d83-eacf-81d021d55d79"
      },
      "execution_count": null,
      "outputs": [
        {
          "output_type": "stream",
          "name": "stdout",
          "text": [
            "[[1. 1. 5.]]\n"
          ]
        }
      ]
    },
    {
      "cell_type": "code",
      "source": [
        "taxi = taxi[1:]\n",
        "print(taxi[0:1])"
      ],
      "metadata": {
        "colab": {
          "base_uri": "https://localhost:8080/"
        },
        "id": "pT9_-U-adAM-",
        "outputId": "9e6d89a2-a094-4fff-8e82-22fffa96f438"
      },
      "execution_count": null,
      "outputs": [
        {
          "output_type": "stream",
          "name": "stdout",
          "text": [
            "[[2.016e+03 1.000e+00 1.000e+00 5.000e+00 0.000e+00 2.000e+00 4.000e+00\n",
            "  2.100e+01 2.037e+03 5.200e+01 8.000e-01 5.540e+00 1.165e+01 6.999e+01\n",
            "  1.000e+00]]\n"
          ]
        }
      ]
    },
    {
      "cell_type": "markdown",
      "source": [
        "Two different methods in Numpy to remove the header row\n",
        "\n",
        "Best practice is to handle header row while loading in the data rather than after"
      ],
      "metadata": {
        "id": "M6Ce7N8YeTzi"
      }
    },
    {
      "cell_type": "code",
      "source": [
        "taxi = np.genfromtxt('/content/drive/MyDrive/Dataset/nyc_taxis.csv', delimiter=',')\n",
        "taxi_header_removed = taxi[1:]\n",
        "removed_shape = taxi_header_removed.shape\n",
        "\n",
        "taxi_header_skipped = np.genfromtxt('/content/drive/MyDrive/Dataset/nyc_taxis.csv', delimiter=',', skip_header=1)\n",
        "skipped_shape = taxi_header_skipped.shape\n",
        "\n",
        "print(taxi_header_removed[:5])\n",
        "print(taxi_header_skipped[:5])\n",
        "\n",
        "print(\"\\nShape of taxi_header_removed:\", removed_shape)\n",
        "print(\"Shape of taxi_header_shipped:\", skipped_shape)"
      ],
      "metadata": {
        "colab": {
          "base_uri": "https://localhost:8080/"
        },
        "id": "TEnnVHP5dVjY",
        "outputId": "3ed84e4b-cd04-4259-8e07-1bc98f4a85b9"
      },
      "execution_count": null,
      "outputs": [
        {
          "output_type": "stream",
          "name": "stdout",
          "text": [
            "[[2.016e+03 1.000e+00 1.000e+00 5.000e+00 0.000e+00 2.000e+00 4.000e+00\n",
            "  2.100e+01 2.037e+03 5.200e+01 8.000e-01 5.540e+00 1.165e+01 6.999e+01\n",
            "  1.000e+00]\n",
            " [2.016e+03 1.000e+00 1.000e+00 5.000e+00 0.000e+00 2.000e+00 1.000e+00\n",
            "  1.629e+01 1.520e+03 4.500e+01 1.300e+00 0.000e+00 8.000e+00 5.430e+01\n",
            "  1.000e+00]\n",
            " [2.016e+03 1.000e+00 1.000e+00 5.000e+00 0.000e+00 2.000e+00 6.000e+00\n",
            "  1.270e+01 1.462e+03 3.650e+01 1.300e+00 0.000e+00 0.000e+00 3.780e+01\n",
            "  2.000e+00]\n",
            " [2.016e+03 1.000e+00 1.000e+00 5.000e+00 0.000e+00 2.000e+00 6.000e+00\n",
            "  8.700e+00 1.210e+03 2.600e+01 1.300e+00 0.000e+00 5.460e+00 3.276e+01\n",
            "  1.000e+00]\n",
            " [2.016e+03 1.000e+00 1.000e+00 5.000e+00 0.000e+00 2.000e+00 6.000e+00\n",
            "  5.560e+00 7.590e+02 1.750e+01 1.300e+00 0.000e+00 0.000e+00 1.880e+01\n",
            "  2.000e+00]]\n",
            "[[2.016e+03 1.000e+00 1.000e+00 5.000e+00 0.000e+00 2.000e+00 4.000e+00\n",
            "  2.100e+01 2.037e+03 5.200e+01 8.000e-01 5.540e+00 1.165e+01 6.999e+01\n",
            "  1.000e+00]\n",
            " [2.016e+03 1.000e+00 1.000e+00 5.000e+00 0.000e+00 2.000e+00 1.000e+00\n",
            "  1.629e+01 1.520e+03 4.500e+01 1.300e+00 0.000e+00 8.000e+00 5.430e+01\n",
            "  1.000e+00]\n",
            " [2.016e+03 1.000e+00 1.000e+00 5.000e+00 0.000e+00 2.000e+00 6.000e+00\n",
            "  1.270e+01 1.462e+03 3.650e+01 1.300e+00 0.000e+00 0.000e+00 3.780e+01\n",
            "  2.000e+00]\n",
            " [2.016e+03 1.000e+00 1.000e+00 5.000e+00 0.000e+00 2.000e+00 6.000e+00\n",
            "  8.700e+00 1.210e+03 2.600e+01 1.300e+00 0.000e+00 5.460e+00 3.276e+01\n",
            "  1.000e+00]\n",
            " [2.016e+03 1.000e+00 1.000e+00 5.000e+00 0.000e+00 2.000e+00 6.000e+00\n",
            "  5.560e+00 7.590e+02 1.750e+01 1.300e+00 0.000e+00 0.000e+00 1.880e+01\n",
            "  2.000e+00]]\n",
            "\n",
            "Shape of taxi_header_removed: (2013, 15)\n",
            "Shape of taxi_header_shipped: (2013, 15)\n"
          ]
        }
      ]
    },
    {
      "cell_type": "markdown",
      "source": [
        "Using NP array functionality to run a few different mathematical operations on an an array"
      ],
      "metadata": {
        "id": "5Q1S126fg3S2"
      }
    },
    {
      "cell_type": "code",
      "source": [
        "print(np.array([2, 4, 6, 8]) * 10)"
      ],
      "metadata": {
        "colab": {
          "base_uri": "https://localhost:8080/"
        },
        "id": "5JnuSoegdmDm",
        "outputId": "92593ea0-18d7-4e67-ee5b-69ea2a9371e5"
      },
      "execution_count": null,
      "outputs": [
        {
          "output_type": "stream",
          "name": "stdout",
          "text": [
            "[20 40 60 80]\n"
          ]
        }
      ]
    },
    {
      "cell_type": "code",
      "source": [
        "print(np.array([2, 4, 6, 8]) / 10)"
      ],
      "metadata": {
        "colab": {
          "base_uri": "https://localhost:8080/"
        },
        "id": "k5_I4k25gprn",
        "outputId": "f030f836-9ee7-42ca-b706-f2c7b2ec7952"
      },
      "execution_count": null,
      "outputs": [
        {
          "output_type": "stream",
          "name": "stdout",
          "text": [
            "[0.2 0.4 0.6 0.8]\n"
          ]
        }
      ]
    },
    {
      "cell_type": "code",
      "source": [
        "print(np.array([2, 4, 6, 8]) + 10)"
      ],
      "metadata": {
        "colab": {
          "base_uri": "https://localhost:8080/"
        },
        "id": "St2d6lCJgw9Y",
        "outputId": "1893e924-b588-42b7-e4ac-bf0027ed7175"
      },
      "execution_count": null,
      "outputs": [
        {
          "output_type": "stream",
          "name": "stdout",
          "text": [
            "[12 14 16 18]\n"
          ]
        }
      ]
    },
    {
      "cell_type": "code",
      "source": [
        "print(np.array([2, 4, 6, 8]) - 10)"
      ],
      "metadata": {
        "colab": {
          "base_uri": "https://localhost:8080/"
        },
        "id": "ybHJ8klHgzxU",
        "outputId": "10489f27-63ab-4ba1-ad57-8b0c12dfdfed"
      },
      "execution_count": null,
      "outputs": [
        {
          "output_type": "stream",
          "name": "stdout",
          "text": [
            "[-8 -6 -4 -2]\n"
          ]
        }
      ]
    },
    {
      "cell_type": "markdown",
      "source": [
        "Using a Boolean operation between an ndarray and a single value allows us to quickly identify which values in "
      ],
      "metadata": {
        "id": "yeK5RJvZhDwT"
      }
    },
    {
      "cell_type": "code",
      "source": [
        "print(np.array([2, 4, 6, 8]) < 5)"
      ],
      "metadata": {
        "colab": {
          "base_uri": "https://localhost:8080/"
        },
        "id": "hjIYM335g1kt",
        "outputId": "3df81a08-f820-4dfd-f7d8-30f299cbebd6"
      },
      "execution_count": null,
      "outputs": [
        {
          "output_type": "stream",
          "name": "stdout",
          "text": [
            "[ True  True False False]\n"
          ]
        }
      ]
    },
    {
      "cell_type": "code",
      "source": [
        "print(np.array([2, 4, 6, 8]) > 5)"
      ],
      "metadata": {
        "colab": {
          "base_uri": "https://localhost:8080/"
        },
        "id": "_BNcYW_bhC_M",
        "outputId": "164fe2c4-0db6-4dee-db56-91a41a9005f8"
      },
      "execution_count": null,
      "outputs": [
        {
          "output_type": "stream",
          "name": "stdout",
          "text": [
            "[False False  True  True]\n"
          ]
        }
      ]
    },
    {
      "cell_type": "code",
      "source": [
        "a_bool = (np.array([2, 4, 6, 8]) < 3)\n",
        "b_bool = (np.array([2, 4, 6, 8]) == \"blue\")\n",
        "c_bool = (np.array([2, 4, 6, 8]) > 100)"
      ],
      "metadata": {
        "colab": {
          "base_uri": "https://localhost:8080/"
        },
        "id": "V_-tYN0ihNhi",
        "outputId": "abbad4ec-d76f-42dd-bff8-a2c0743cac8d"
      },
      "execution_count": null,
      "outputs": [
        {
          "output_type": "stream",
          "name": "stderr",
          "text": [
            "<ipython-input-28-e38062bfec6c>:2: FutureWarning: elementwise comparison failed; returning scalar instead, but in the future will perform elementwise comparison\n",
            "  b_bool = (np.array([2, 4, 6, 8]) == \"blue\")\n"
          ]
        }
      ]
    },
    {
      "cell_type": "markdown",
      "source": [
        "Some different examples of Boolean operations we can run on arrays."
      ],
      "metadata": {
        "id": "oQ1zN05-iLbg"
      }
    },
    {
      "cell_type": "code",
      "source": [
        "a = np.array([1, 2, 3, 4, 5])\n",
        "b = np.array([\"blue\", \"blue\", \"red\", \"blue\"])\n",
        "c = np.array([80.0, 103.4, 96.9, 200.3])\n",
        "\n",
        "\n",
        "a_bool = a < 3\n",
        "b_bool = b == \"blue\"\n",
        "c_bool = c > 100"
      ],
      "metadata": {
        "id": "3nQ1KF2nhkr9"
      },
      "execution_count": null,
      "outputs": []
    },
    {
      "cell_type": "markdown",
      "source": [
        "Boolean Indexing\n",
        "We have our array, we have our condition ( > 100) and then we assign the output of indexing for those conditions c[c_bool] to a variable called result"
      ],
      "metadata": {
        "id": "Vbqt-hdIivKo"
      }
    },
    {
      "cell_type": "code",
      "source": [
        "c = np.array([80.0, 103.4, 96.9, 200.3])\n",
        "c_bool = c > 100\n",
        "result = c[c_bool]\n",
        "print(result)"
      ],
      "metadata": {
        "colab": {
          "base_uri": "https://localhost:8080/"
        },
        "id": "ibz1uHchiGWH",
        "outputId": "c8214574-958b-4b35-b221-160e7adac923"
      },
      "execution_count": null,
      "outputs": [
        {
          "output_type": "stream",
          "name": "stdout",
          "text": [
            "[103.4 200.3]\n"
          ]
        }
      ]
    },
    {
      "cell_type": "markdown",
      "source": [
        "Using our taxi data set - we set the column we want to find data from in this case pickup_month (jan = 1, dec = 12); we then set our condition (or argument) we want only results in which the pickup_month is equivallent to 1 (january) we can then see there are 800 rides in the data set that took place in January by using len or shape."
      ],
      "metadata": {
        "id": "r3hAv0zUjw2t"
      }
    },
    {
      "cell_type": "code",
      "source": [
        "pickup_month = taxi[:, 1]\n",
        "january_bool = pickup_month == 1\n",
        "result = pickup_month[january_bool]\n",
        "print(len(result))\n",
        "print(result.shape)"
      ],
      "metadata": {
        "colab": {
          "base_uri": "https://localhost:8080/"
        },
        "id": "g4IIKrCJi7Tq",
        "outputId": "f4659ccc-80b4-4e89-d54c-0ae8d2f2cfde"
      },
      "execution_count": null,
      "outputs": [
        {
          "output_type": "stream",
          "name": "stdout",
          "text": [
            "800\n",
            "(800,)\n"
          ]
        }
      ]
    },
    {
      "cell_type": "code",
      "source": [
        "january_rides = result.shape[0]\n",
        "print(january_rides)"
      ],
      "metadata": {
        "colab": {
          "base_uri": "https://localhost:8080/"
        },
        "id": "QeU6ikTgjTNw",
        "outputId": "7223865f-4ae2-4df4-c05c-36825f5457c7"
      },
      "execution_count": null,
      "outputs": [
        {
          "output_type": "stream",
          "name": "stdout",
          "text": [
            "800\n"
          ]
        }
      ]
    },
    {
      "cell_type": "code",
      "source": [
        "pickup_month = taxi[:, 1]\n",
        "february_bool = pickup_month == 2\n",
        "february = pickup_month[february_bool]\n",
        "february_rides = february.shape[0] \n",
        "print(february_rides)"
      ],
      "metadata": {
        "colab": {
          "base_uri": "https://localhost:8080/"
        },
        "id": "BXK_0KLDkET0",
        "outputId": "45f15922-716d-4380-de00-a3f2f7a204cb"
      },
      "execution_count": null,
      "outputs": [
        {
          "output_type": "stream",
          "name": "stdout",
          "text": [
            "176\n"
          ]
        }
      ]
    },
    {
      "cell_type": "markdown",
      "source": [
        "Boolean Indexing with 2D ndarrys"
      ],
      "metadata": {
        "id": "0qMfrRF-mFxO"
      }
    },
    {
      "cell_type": "code",
      "source": [
        "arr = np.array([\n",
        "                [1, 2, 3],\n",
        "                [4, 5, 6],\n",
        "                [7, 8, 9],\n",
        "                [10, 11, 12]\n",
        "               ])\n",
        "print(arr)"
      ],
      "metadata": {
        "colab": {
          "base_uri": "https://localhost:8080/"
        },
        "id": "e1RbOoFTkmAA",
        "outputId": "f268da7f-e79b-494c-f7be-5b3807e75d35"
      },
      "execution_count": null,
      "outputs": [
        {
          "output_type": "stream",
          "name": "stdout",
          "text": [
            "[[ 1  2  3]\n",
            " [ 4  5  6]\n",
            " [ 7  8  9]\n",
            " [10 11 12]]\n"
          ]
        }
      ]
    },
    {
      "cell_type": "code",
      "source": [
        "bool_1 = [True, True,\n",
        "          True, True]\n",
        "print(arr[bool_1])"
      ],
      "metadata": {
        "colab": {
          "base_uri": "https://localhost:8080/"
        },
        "id": "ZpewpsVzluTc",
        "outputId": "61a83f71-ea80-4751-87a9-b8d1faa55172"
      },
      "execution_count": null,
      "outputs": [
        {
          "output_type": "stream",
          "name": "stdout",
          "text": [
            "[[ 1  2  3]\n",
            " [ 4  5  6]\n",
            " [ 7  8  9]\n",
            " [10 11 12]]\n"
          ]
        }
      ]
    },
    {
      "cell_type": "code",
      "source": [
        "bool_1 = [True, True,\n",
        "          False, False]\n",
        "print(arr[bool_1])"
      ],
      "metadata": {
        "colab": {
          "base_uri": "https://localhost:8080/"
        },
        "id": "LHokxEx0mtEo",
        "outputId": "dadd514a-94ef-43d6-8935-03e167fcfac5"
      },
      "execution_count": null,
      "outputs": [
        {
          "output_type": "stream",
          "name": "stdout",
          "text": [
            "[[1 2 3]\n",
            " [4 5 6]]\n"
          ]
        }
      ]
    },
    {
      "cell_type": "code",
      "source": [
        "bool_2 = [False, True, True]\n",
        "print(arr[:,bool_2])"
      ],
      "metadata": {
        "colab": {
          "base_uri": "https://localhost:8080/"
        },
        "id": "mCcm56chnBtO",
        "outputId": "3894bf25-213e-42f5-bc6c-8d41f33816ba"
      },
      "execution_count": null,
      "outputs": [
        {
          "output_type": "stream",
          "name": "stdout",
          "text": [
            "[[ 2  3]\n",
            " [ 5  6]\n",
            " [ 8  9]\n",
            " [11 12]]\n"
          ]
        }
      ]
    },
    {
      "cell_type": "code",
      "source": [
        "bool_2 = [False, True, False]\n",
        "print(arr[:,bool_2])"
      ],
      "metadata": {
        "colab": {
          "base_uri": "https://localhost:8080/"
        },
        "id": "2A1oTmh0nVDJ",
        "outputId": "9b779a9f-227b-45cf-a2f2-aeee30381879"
      },
      "execution_count": null,
      "outputs": [
        {
          "output_type": "stream",
          "name": "stdout",
          "text": [
            "[[ 2]\n",
            " [ 5]\n",
            " [ 8]\n",
            " [11]]\n"
          ]
        }
      ]
    },
    {
      "cell_type": "markdown",
      "source": [
        "Calculate taxi average speed using taxi data set"
      ],
      "metadata": {
        "id": "bSCi5DHqn3qx"
      }
    },
    {
      "cell_type": "code",
      "source": [
        "trip_mph = taxi[:, 7] / (taxi[:, 8] / 3600)\n",
        "print(trip_mph)"
      ],
      "metadata": {
        "colab": {
          "base_uri": "https://localhost:8080/"
        },
        "id": "NI0E3y8CnZQR",
        "outputId": "824622d6-57c4-4e90-d375-787fadffc6bb"
      },
      "execution_count": null,
      "outputs": [
        {
          "output_type": "stream",
          "name": "stdout",
          "text": [
            "[        nan 37.11340206 38.58157895 ... 22.29907867 42.41551247\n",
            " 36.90473407]\n"
          ]
        }
      ]
    },
    {
      "cell_type": "code",
      "source": [
        "trip_mph_bool = trip_mph > 20000\n",
        "trips_over_20000_mph = taxi[trip_mph_bool, 5:9]\n",
        "print(trips_over_20000_mph)"
      ],
      "metadata": {
        "colab": {
          "base_uri": "https://localhost:8080/"
        },
        "id": "w8CFarcZnvcI",
        "outputId": "9fda4aa7-e927-4c8b-fa05-4e0211639954"
      },
      "execution_count": null,
      "outputs": [
        {
          "output_type": "stream",
          "name": "stdout",
          "text": [
            "[[ 2.   2.  23.   1. ]\n",
            " [ 2.   2.  19.6  1. ]\n",
            " [ 2.   2.  16.7  2. ]\n",
            " [ 3.   3.  17.8  2. ]\n",
            " [ 2.   2.  17.2  2. ]\n",
            " [ 3.   3.  16.9  3. ]\n",
            " [ 2.   2.  27.1  4. ]]\n"
          ]
        }
      ]
    },
    {
      "cell_type": "markdown",
      "source": [
        "As related to Taxi Dataset: Here's some info on selected columns:\n",
        "📅 pickup_year: Trip's year 📅 pickup_month: Trip's month (January is 1, December is 12) 📅 pickup_day: Trip's day of the month 📍 pickup_location_code: Starting airport or borough 📍 dropoff_location_code: Ending airport or borough 📏 trip_distance: Trip distance in miles ⏱️ trip_length: Trip length in seconds 💵 fare_amount: Base fare in dollars 💰 total_amount: Total amount charged, including all fees, tolls, and tips\n",
        "NYC Taxi Trip Data\n",
        "\n",
        "Source: NYC Taxi and Limousine Commission\n",
        "This data set includes a 1/50th random sample of all trips between January and June 2016 that either start or end at an aiport location.\n",
        "Column Summary\n",
        "pickup_year - The year of the trip.\n",
        "pickup_month - The month of the trip (January is 1, December is 12).\n",
        "pickup_day - The day of the month of the trip.\n",
        "pickup_dayofweek - The day of the week (Monday is 1, Sunday is 7)\n",
        "pickup_time - The time that the trip started, as one of six categories:\n",
        "0 - 0:00am-3:59am.\n",
        "1 - 4:00am-7:59am.\n",
        "2 - 8:00am-11:59am.\n",
        "3 - 12:00pm-3:59pm.\n",
        "4 - 4:00pm-7:59pm.\n",
        "5 - 8:00pm-11:59pm.\n",
        "pickup_location_code - The airport or borough where the the trip started, as one of eight categories:\n",
        "0 - Bronx.\n",
        "1 - Brooklyn.\n",
        "2 - JFK Airport.\n",
        "3 - LaGuardia Airport.\n",
        "4 - Manhattan.\n",
        "5 - Newark Airport.\n",
        "6 - Queens.\n",
        "7 - Staten Island.\n",
        "dropoff_location_code - The airport or borough where the the trip finished, using the same eight category codes as pickup_location_code.\n",
        "trip_distance - The distance of the trip in miles.\n",
        "trip_length - The length of the trip in seconds.\n",
        "fare_amount - The base fare of the trip, in dollars.\n",
        "fees_amount - Any fees added to the fare, eg surcharges, extras, and MTA taxes.\n",
        "tolls_amount - The amount of all tolls paid during the trip.\n",
        "tip_amount - The tip added by the customer - does not include cash tips.\n",
        "total_amount - The total amount charged to the passenger, excluding cash tips.\n",
        "payment_type - The payment type, one of six categories:\n",
        "1 - Credit card.\n",
        "2 - Cash.\n",
        "3 - No charge.\n",
        "4 - Dispute.\n",
        "5 - Unknown.\n",
        "6 - Voided trip."
      ],
      "metadata": {
        "id": "z1mBl7wzpIFY"
      }
    },
    {
      "cell_type": "code",
      "source": [
        "trip_mph_bool = trip_mph > 20000\n",
        "trips_over_20000_mph = taxi[trip_mph_bool, 5:9]\n",
        "print(trips_over_20000_mph)\n",
        "\n",
        "\n"
      ],
      "metadata": {
        "colab": {
          "base_uri": "https://localhost:8080/",
          "height": 130
        },
        "id": "jSMyHp_WpLqp",
        "outputId": "f2071904-2a08-4461-844b-1aa74e3b338f"
      },
      "execution_count": null,
      "outputs": [
        {
          "output_type": "error",
          "ename": "SyntaxError",
          "evalue": "ignored",
          "traceback": [
            "\u001b[0;36m  File \u001b[0;32m\"<ipython-input-71-431580fbb363>\"\u001b[0;36m, line \u001b[0;32m6\u001b[0m\n\u001b[0;31m    tip_amount = [:,12]\u001b[0m\n\u001b[0m                  ^\u001b[0m\n\u001b[0;31mSyntaxError\u001b[0m\u001b[0;31m:\u001b[0m invalid syntax\n"
          ]
        }
      ]
    },
    {
      "cell_type": "markdown",
      "source": [
        "We are determing tip amounts greater than 20 (tip amounts is index 12) and returning index 5 through 13 for tip amounts greater than 20"
      ],
      "metadata": {
        "id": "5Pv4gpatqLT5"
      }
    },
    {
      "cell_type": "code",
      "source": [
        "tip_amount = taxi[:, 12]\n",
        "tip_bool = tip_amount > 20\n",
        "top_tips = taxi[tip_bool, 5:14]\n",
        "print(top_tips)\n"
      ],
      "metadata": {
        "id": "icw2S8LppTxu"
      },
      "execution_count": null,
      "outputs": []
    },
    {
      "cell_type": "markdown",
      "source": [
        "Assigning or changing values in ndarray"
      ],
      "metadata": {
        "id": "NLQAwhkpuQ0r"
      }
    },
    {
      "cell_type": "code",
      "source": [
        "a = np.array(['red', 'blue', 'black', 'blue', 'purple'])\n",
        "a[0] = 'orange'\n",
        "print(a)"
      ],
      "metadata": {
        "colab": {
          "base_uri": "https://localhost:8080/"
        },
        "id": "XTfiGoKVpXFc",
        "outputId": "20b7ebd2-8332-4bc0-8ef8-c77a92ce195c"
      },
      "execution_count": null,
      "outputs": [
        {
          "output_type": "stream",
          "name": "stdout",
          "text": [
            "['orange' 'blue' 'black' 'blue' 'purple']\n"
          ]
        }
      ]
    },
    {
      "cell_type": "markdown",
      "source": [
        "Changing multiple values at once"
      ],
      "metadata": {
        "id": "sewx70v8uvDu"
      }
    },
    {
      "cell_type": "code",
      "source": [
        "a[3:] = 'pink'\n",
        "print(a)"
      ],
      "metadata": {
        "colab": {
          "base_uri": "https://localhost:8080/"
        },
        "id": "gP2p6_ppuYHX",
        "outputId": "c53fa8d9-7ccf-4272-a321-bd897d91b692"
      },
      "execution_count": null,
      "outputs": [
        {
          "output_type": "stream",
          "name": "stdout",
          "text": [
            "['orange' 'blue' 'black' 'pink' 'pink']\n"
          ]
        }
      ]
    },
    {
      "cell_type": "markdown",
      "source": [
        "Changing a specific index location value (in this case - row 1 index 2)"
      ],
      "metadata": {
        "id": "tN8WroKpuzWy"
      }
    },
    {
      "cell_type": "code",
      "source": [
        "ones = np.array([[1, 1, 1, 1, 1],\n",
        "                 [1, 1, 1, 1, 1],\n",
        "                 [1, 1, 1, 1, 1]])\n",
        "ones[1, 2] = 99\n",
        "print(ones)"
      ],
      "metadata": {
        "colab": {
          "base_uri": "https://localhost:8080/"
        },
        "id": "7WCDp95qudgr",
        "outputId": "70b3e775-e368-4b86-e9a9-d61eda306e62"
      },
      "execution_count": null,
      "outputs": [
        {
          "output_type": "stream",
          "name": "stdout",
          "text": [
            "[[ 1  1  1  1  1]\n",
            " [ 1  1 99  1  1]\n",
            " [ 1  1  1  1  1]]\n"
          ]
        }
      ]
    },
    {
      "cell_type": "markdown",
      "source": [
        "An entire row"
      ],
      "metadata": {
        "id": "mrMgwdUyvQ3m"
      }
    },
    {
      "cell_type": "code",
      "source": [
        "ones[0] = 42\n",
        "print(ones)"
      ],
      "metadata": {
        "colab": {
          "base_uri": "https://localhost:8080/"
        },
        "id": "wDq6i6ivvKtu",
        "outputId": "fb99b8e5-1f40-4e27-f436-7aa3298a00f6"
      },
      "execution_count": null,
      "outputs": [
        {
          "output_type": "stream",
          "name": "stdout",
          "text": [
            "[[42 42 42 42 42]\n",
            " [ 1  1  0  1  1]\n",
            " [ 1  1  0  1  1]]\n"
          ]
        }
      ]
    },
    {
      "cell_type": "markdown",
      "source": [
        "An entire index / column"
      ],
      "metadata": {
        "id": "1cYnfBHnvS3t"
      }
    },
    {
      "cell_type": "code",
      "source": [
        "ones[:,2] = 0\n",
        "print(ones)"
      ],
      "metadata": {
        "colab": {
          "base_uri": "https://localhost:8080/"
        },
        "id": "bcO8es1_u_kS",
        "outputId": "012d8447-742d-465d-ff1f-4f2c66be07fc"
      },
      "execution_count": null,
      "outputs": [
        {
          "output_type": "stream",
          "name": "stdout",
          "text": [
            "[[42 42  0 42 42]\n",
            " [ 1  1  0  1  1]\n",
            " [ 1  1  0  1  1]]\n"
          ]
        }
      ]
    },
    {
      "cell_type": "code",
      "source": [
        "taxi_copy = taxi.copy()"
      ],
      "metadata": {
        "id": "73S52OE_vEPk"
      },
      "execution_count": null,
      "outputs": []
    },
    {
      "cell_type": "markdown",
      "source": [
        "Updating value"
      ],
      "metadata": {
        "id": "TLTHvB8-wx27"
      }
    },
    {
      "cell_type": "code",
      "source": [
        "taxi_copy[1066, 5] = 1\n"
      ],
      "metadata": {
        "id": "_deIj3a9vhR7"
      },
      "execution_count": null,
      "outputs": []
    },
    {
      "cell_type": "markdown",
      "source": [
        "Updating multiple values"
      ],
      "metadata": {
        "id": "LlLsmlRhw0AY"
      }
    },
    {
      "cell_type": "code",
      "source": [
        "taxi_copy[:,0] = 16"
      ],
      "metadata": {
        "id": "xL_Nakvkvtca"
      },
      "execution_count": null,
      "outputs": []
    },
    {
      "cell_type": "markdown",
      "source": [
        "Assigning the mean value for two rows (550 and 551) with incorrect data\n",
        "We are assigning the mean for the overall column that those two rows are in"
      ],
      "metadata": {
        "id": "a33-AZEJw14K"
      }
    },
    {
      "cell_type": "code",
      "source": [
        "taxi_copy[550:552, 7] = taxi_copy[:,7].mean()\n",
        "print(taxi_copy)"
      ],
      "metadata": {
        "colab": {
          "base_uri": "https://localhost:8080/"
        },
        "id": "k0ziiHH4v3sh",
        "outputId": "e8bdb1e5-075e-498a-bd64-824ff62821d9"
      },
      "execution_count": null,
      "outputs": [
        {
          "output_type": "stream",
          "name": "stdout",
          "text": [
            "[[16.     nan   nan ...   nan   nan   nan]\n",
            " [16.    1.    1.   ... 11.65 69.99  1.  ]\n",
            " [16.    1.    1.   ...  8.   54.3   1.  ]\n",
            " ...\n",
            " [16.    6.   30.   ...  5.   63.34  1.  ]\n",
            " [16.    6.   30.   ...  8.95 44.75  1.  ]\n",
            " [16.    6.   30.   ...  0.   54.84  2.  ]]\n"
          ]
        }
      ]
    },
    {
      "cell_type": "markdown",
      "source": [
        "Assignment using Boolean Arrays\n",
        "a2_bool acts like a filter\n",
        "We take our array (a2) and then use our filter [a2_bool] = to assign a value to anything in the array that meets that condition (> )"
      ],
      "metadata": {
        "id": "JQ8IZt8hxRns"
      }
    },
    {
      "cell_type": "code",
      "source": [
        "a2 = np.array([1, 2, 3, 4, 5])\n",
        "a2_bool = a2 > 2\n",
        "a2[a2_bool] = 99\n",
        "print(a2)"
      ],
      "metadata": {
        "colab": {
          "base_uri": "https://localhost:8080/"
        },
        "id": "BK6dArrEwFrQ",
        "outputId": "01be9eeb-1e7b-4486-997f-b42947522e24"
      },
      "execution_count": null,
      "outputs": [
        {
          "output_type": "stream",
          "name": "stdout",
          "text": [
            "[ 1  2 99 99 99]\n"
          ]
        }
      ]
    },
    {
      "cell_type": "code",
      "source": [
        "a = np.array([1, 2, 3, 4, 5])\n",
        "a[a > 2] = 99\n",
        "print(a)"
      ],
      "metadata": {
        "colab": {
          "base_uri": "https://localhost:8080/"
        },
        "id": "gU2ZxHcyxOOz",
        "outputId": "3eb972be-37fb-47fe-c744-342eedd725fb"
      },
      "execution_count": null,
      "outputs": [
        {
          "output_type": "stream",
          "name": "stdout",
          "text": [
            "[ 1  2 99 99 99]\n"
          ]
        }
      ]
    },
    {
      "cell_type": "code",
      "source": [
        "taxi_copy = taxi.copy()"
      ],
      "metadata": {
        "id": "EBEdYwt3yLCU"
      },
      "execution_count": null,
      "outputs": []
    },
    {
      "cell_type": "markdown",
      "source": [
        "Using taxi data set we are taking our trip_length column (index 8) and looking for values that are less than 60 (this is in seconds so under a minute) we are assigning anything under a minute a value of 0"
      ],
      "metadata": {
        "id": "kWhtuHpmzd0r"
      }
    },
    {
      "cell_type": "code",
      "source": [
        "trip_length = taxi_copy[:,8]\n",
        "trip_length_bool = trip_length < 60\n",
        "trip_length[trip_length_bool] = 0\n"
      ],
      "metadata": {
        "id": "d7z1HDbtykkM"
      },
      "execution_count": null,
      "outputs": []
    },
    {
      "cell_type": "markdown",
      "source": [
        "Assignment using Boolean Arrays Continued"
      ],
      "metadata": {
        "id": "oZpi3AoCz1vu"
      }
    },
    {
      "cell_type": "code",
      "source": [
        "b = np.array([[1,2,3],\n",
        "              [4,5,6],\n",
        "              [7,8,9]])\n",
        "print(b)"
      ],
      "metadata": {
        "colab": {
          "base_uri": "https://localhost:8080/"
        },
        "id": "veouxh2by7PR",
        "outputId": "fbaefcb3-dfa5-4b52-9635-5b20b4f06c94"
      },
      "execution_count": null,
      "outputs": [
        {
          "output_type": "stream",
          "name": "stdout",
          "text": [
            "[[1 2 3]\n",
            " [4 5 6]\n",
            " [7 8 9]]\n"
          ]
        }
      ]
    },
    {
      "cell_type": "code",
      "source": [
        "b[b > 4] = 99\n",
        "print(b)"
      ],
      "metadata": {
        "colab": {
          "base_uri": "https://localhost:8080/"
        },
        "id": "tmdc5tBx0H8T",
        "outputId": "463dce9b-b990-46e4-b9ca-4763e47b6f5a"
      },
      "execution_count": null,
      "outputs": [
        {
          "output_type": "stream",
          "name": "stdout",
          "text": [
            "[[ 1  2  3]\n",
            " [ 4 99 99]\n",
            " [99 99 99]]\n"
          ]
        }
      ]
    },
    {
      "cell_type": "code",
      "source": [
        "c = np.array([[1,2,3],\n",
        "              [4,5,6],\n",
        "              [7,8,9]])\n",
        "print(c)"
      ],
      "metadata": {
        "colab": {
          "base_uri": "https://localhost:8080/"
        },
        "id": "7cj38Qd70TgS",
        "outputId": "80e76501-c272-417d-bb70-2d5358fdaacf"
      },
      "execution_count": null,
      "outputs": [
        {
          "output_type": "stream",
          "name": "stdout",
          "text": [
            "[[1 2 3]\n",
            " [4 5 6]\n",
            " [7 8 9]]\n"
          ]
        }
      ]
    },
    {
      "cell_type": "markdown",
      "source": [
        "after we specify that we want all rows for column index 1 that have a value greater than 2 - we specify the index location we want our new values assigned to otherwise it will overwrite every value in the array greater than 2 \" c[c[:, 1] > 2] = 99\"  now with this  c[c[:, 1] > 2, 1] = 99 (we are only including values in index 1 greater than 2 to overwrite)"
      ],
      "metadata": {
        "id": "acRiB_D-17kW"
      }
    },
    {
      "cell_type": "code",
      "source": [
        " c = np.array([[1,2,3],\n",
        "              [4,5,6],\n",
        "              [7,8,9]])\n",
        " c[c[:, 1] > 2, 1] = 99\n",
        " print(c)"
      ],
      "metadata": {
        "colab": {
          "base_uri": "https://localhost:8080/"
        },
        "id": "H24riBrB0oqF",
        "outputId": "e57c9eac-1f51-47bb-aeaf-270d3f58905f"
      },
      "execution_count": null,
      "outputs": [
        {
          "output_type": "stream",
          "name": "stdout",
          "text": [
            "[[ 1  2  3]\n",
            " [ 4 99  6]\n",
            " [ 7 99  9]]\n"
          ]
        }
      ]
    },
    {
      "cell_type": "code",
      "source": [
        "dropoff_location_code = taxi_copy[:, 6]\n",
        "dropoff_location_code_jfk = dropoff_location_code = 2\n",
        "drop_location_code[dropoff_location_code_jfk] ,"
      ],
      "metadata": {
        "colab": {
          "base_uri": "https://localhost:8080/",
          "height": 198
        },
        "id": "XFV4_1qo1VP0",
        "outputId": "ea905e2a-1906-48de-e7f6-57cdfbf4cf8b"
      },
      "execution_count": null,
      "outputs": [
        {
          "output_type": "error",
          "ename": "NameError",
          "evalue": "ignored",
          "traceback": [
            "\u001b[0;31m---------------------------------------------------------------------------\u001b[0m",
            "\u001b[0;31mNameError\u001b[0m                                 Traceback (most recent call last)",
            "\u001b[0;32m<ipython-input-145-d11a637f21d6>\u001b[0m in \u001b[0;36m<cell line: 3>\u001b[0;34m()\u001b[0m\n\u001b[1;32m      1\u001b[0m \u001b[0mdropoff_location_code\u001b[0m \u001b[0;34m=\u001b[0m \u001b[0mtaxi_copy\u001b[0m\u001b[0;34m[\u001b[0m\u001b[0;34m:\u001b[0m\u001b[0;34m,\u001b[0m \u001b[0;36m6\u001b[0m\u001b[0;34m]\u001b[0m\u001b[0;34m\u001b[0m\u001b[0;34m\u001b[0m\u001b[0m\n\u001b[1;32m      2\u001b[0m \u001b[0mdropoff_location_code_jfk\u001b[0m \u001b[0;34m=\u001b[0m \u001b[0mdropoff_location_code\u001b[0m \u001b[0;34m=\u001b[0m \u001b[0;36m2\u001b[0m\u001b[0;34m\u001b[0m\u001b[0;34m\u001b[0m\u001b[0m\n\u001b[0;32m----> 3\u001b[0;31m \u001b[0mdrop_location_code\u001b[0m\u001b[0;34m[\u001b[0m\u001b[0mdropoff_location_code_jfk\u001b[0m\u001b[0;34m]\u001b[0m \u001b[0;34m,\u001b[0m\u001b[0;34m\u001b[0m\u001b[0;34m\u001b[0m\u001b[0m\n\u001b[0m",
            "\u001b[0;31mNameError\u001b[0m: name 'drop_location_code' is not defined"
          ]
        }
      ]
    },
    {
      "cell_type": "code",
      "source": [
        "# create a new array filled with `0`\n",
        "zeros = np.zeros([taxi.shape[0], 1])\n",
        "# append the array to the taxi data to create a new column\n",
        "taxi_modified = np.concatenate([taxi, zeros], axis=1)\n",
        "# inspect the last five columns of the first ten rows\n",
        "print(taxi_modified[:10, -5:])\n"
      ],
      "metadata": {
        "colab": {
          "base_uri": "https://localhost:8080/"
        },
        "id": "GyvXfjTv56V7",
        "outputId": "1ec03815-4ddf-4ae3-e808-9cb7fe49db93"
      },
      "execution_count": null,
      "outputs": [
        {
          "output_type": "stream",
          "name": "stdout",
          "text": [
            "[[   nan    nan    nan    nan   0.  ]\n",
            " [  5.54  11.65  69.99   1.     0.  ]\n",
            " [  0.     8.    54.3    1.     0.  ]\n",
            " [  0.     0.    37.8    2.     0.  ]\n",
            " [  0.     5.46  32.76   1.     0.  ]\n",
            " [  0.     0.    18.8    2.     0.  ]\n",
            " [  0.    52.8  105.6    1.     0.  ]\n",
            " [  0.     6.45  32.25   1.     0.  ]\n",
            " [  0.     0.    22.8    2.     0.  ]\n",
            " [ 11.08  10.   131.38   1.     0.  ]]\n"
          ]
        }
      ]
    },
    {
      "cell_type": "code",
      "source": [
        "taxi_modified[taxi_modified[:, 6] == 2, 15] = 1\n",
        "taxi_modified[taxi_modified[:, 6] == 3, 15] = 1\n",
        "taxi_modified[taxi_modified[:, 6] == 5, 15] = 1"
      ],
      "metadata": {
        "id": "25Kh_SIG6AK8"
      },
      "execution_count": null,
      "outputs": []
    },
    {
      "cell_type": "code",
      "source": [
        "print(taxi_modified[:10, -6:])\n"
      ],
      "metadata": {
        "colab": {
          "base_uri": "https://localhost:8080/"
        },
        "id": "JP4y2KYs6Iji",
        "outputId": "dbe531e2-f8bc-4ffe-f67d-433781edb465"
      },
      "execution_count": null,
      "outputs": [
        {
          "output_type": "stream",
          "name": "stdout",
          "text": [
            "[[   nan    nan    nan    nan    nan   0.  ]\n",
            " [  0.8    5.54  11.65  69.99   1.     0.  ]\n",
            " [  1.3    0.     8.    54.3    1.     0.  ]\n",
            " [  1.3    0.     0.    37.8    2.     0.  ]\n",
            " [  1.3    0.     5.46  32.76   1.     0.  ]\n",
            " [  1.3    0.     0.    18.8    2.     0.  ]\n",
            " [  0.8    0.    52.8  105.6    1.     1.  ]\n",
            " [  1.3    0.     6.45  32.25   1.     0.  ]\n",
            " [  1.3    0.     0.    22.8    2.     0.  ]\n",
            " [  0.8   11.08  10.   131.38   1.     1.  ]]\n"
          ]
        }
      ]
    },
    {
      "cell_type": "code",
      "source": [
        "zeros = np.zeros([taxi.shape[0], 1])\n",
        "print(zeros)"
      ],
      "metadata": {
        "colab": {
          "base_uri": "https://localhost:8080/"
        },
        "id": "6eFzXmgr6LSQ",
        "outputId": "8c04f878-cf25-4a63-cdbb-f24509727f32"
      },
      "execution_count": null,
      "outputs": [
        {
          "output_type": "stream",
          "name": "stdout",
          "text": [
            "[[0.]\n",
            " [0.]\n",
            " [0.]\n",
            " ...\n",
            " [0.]\n",
            " [0.]\n",
            " [0.]]\n"
          ]
        }
      ]
    },
    {
      "cell_type": "markdown",
      "source": [
        "If column 6 (taxi airport code column) is equivalent to 2, 3, or 5 column 15 (newly created column at the end of the columns in taxi is appending with the value 1 "
      ],
      "metadata": {
        "id": "2wul0eQ_9clI"
      }
    },
    {
      "cell_type": "code",
      "source": [
        "# create a new array filled with `0`\n",
        "zeros = np.zeros([taxi.shape[0], 1])\n",
        "# append the array to the taxi data to create a new column\n",
        "taxi_modified = np.concatenate([taxi, zeros], axis=1)\n",
        "# inspect the last five columns of the first ten rows\n",
        "print(taxi_modified[:10, -5:])\n",
        "\n",
        "\n",
        "taxi_modified[taxi_modified[:, 6] == 2, 15] = 1\n",
        "taxi_modified[taxi_modified[:, 6] == 3, 15] = 1\n",
        "taxi_modified[taxi_modified[:, 6] == 5, 15] = 1"
      ],
      "metadata": {
        "colab": {
          "base_uri": "https://localhost:8080/"
        },
        "id": "pApoFVDw6UQj",
        "outputId": "5cbad316-1cbe-412d-fd5d-5fbdb474f3d8"
      },
      "execution_count": null,
      "outputs": [
        {
          "output_type": "stream",
          "name": "stdout",
          "text": [
            "[[   nan    nan    nan    nan   0.  ]\n",
            " [  5.54  11.65  69.99   1.     0.  ]\n",
            " [  0.     8.    54.3    1.     0.  ]\n",
            " [  0.     0.    37.8    2.     0.  ]\n",
            " [  0.     5.46  32.76   1.     0.  ]\n",
            " [  0.     0.    18.8    2.     0.  ]\n",
            " [  0.    52.8  105.6    1.     0.  ]\n",
            " [  0.     6.45  32.25   1.     0.  ]\n",
            " [  0.     0.    22.8    2.     0.  ]\n",
            " [ 11.08  10.   131.38   1.     0.  ]]\n"
          ]
        }
      ]
    },
    {
      "cell_type": "markdown",
      "source": [
        "We know JFK airport code is 2 and contained in index 5 we are now assigning to variable JFK anything that in column 5 that has airport code 2\n",
        "Based on taxi dataset, La Guardia is the busiest airport"
      ],
      "metadata": {
        "id": "ovxKZBEw-c_o"
      }
    },
    {
      "cell_type": "code",
      "source": [
        "jfk = taxi[taxi[:,5] == 2]\n",
        "jfk_count = jfk.shape[0]\n",
        "\n",
        "laguardia = taxi[taxi[:,5] == 3]\n",
        "laguardia_count = laguardia.shape[0]\n",
        "\n",
        "newark = taxi[taxi[:,5] == 5]\n",
        "newark_count = newark.shape[0]\n",
        "\n",
        "print(jfk_count)\n",
        "print(laguardia_count)\n",
        "print(newark_count)"
      ],
      "metadata": {
        "colab": {
          "base_uri": "https://localhost:8080/"
        },
        "id": "nGONQnIt6hdQ",
        "outputId": "3b3d55ec-1615-43b4-ac78-9f08b200e533"
      },
      "execution_count": null,
      "outputs": [
        {
          "output_type": "stream",
          "name": "stdout",
          "text": [
            "724\n",
            "755\n",
            "0\n"
          ]
        }
      ]
    },
    {
      "cell_type": "markdown",
      "source": [
        "We are cleaning our taxi data set by only including trips that have an average trip mph or less than 100. "
      ],
      "metadata": {
        "id": "NNWC01P5AnI2"
      }
    },
    {
      "cell_type": "code",
      "source": [
        "trip_distance = taxi[:, 7] # trip distance in miles\n",
        "trip_length = taxi[:, 8] / 3600 # trip length in hours\n",
        "trip_mph = trip_distance / trip_length # average trip speed in mph\n",
        "\n",
        "cleaned_taxi = taxi[trip_mph < 100]"
      ],
      "metadata": {
        "id": "IsM0IGf--N0c"
      },
      "execution_count": null,
      "outputs": []
    },
    {
      "cell_type": "markdown",
      "source": [
        "This is the value from the uncleaned data set"
      ],
      "metadata": {
        "id": "Lx_PTFHjA7OC"
      }
    },
    {
      "cell_type": "code",
      "source": [
        "mean_distance = taxi[1:,7].mean()\n",
        "print(mean_distance)"
      ],
      "metadata": {
        "colab": {
          "base_uri": "https://localhost:8080/"
        },
        "id": "FGKL0CdtAxG_",
        "outputId": "b52a14a1-f42b-4a04-8418-a0475d21ebd6"
      },
      "execution_count": null,
      "outputs": [
        {
          "output_type": "stream",
          "name": "stdout",
          "text": [
            "12.924778936910084\n"
          ]
        }
      ]
    },
    {
      "cell_type": "markdown",
      "source": [
        "We are now calculating the mean values of our cleaned data set"
      ],
      "metadata": {
        "id": "OxGCMECZAuTc"
      }
    },
    {
      "cell_type": "code",
      "source": [
        "mean_distance = cleaned_taxi[:,7].mean()\n",
        "print(mean_distance)"
      ],
      "metadata": {
        "colab": {
          "base_uri": "https://localhost:8080/"
        },
        "id": "hoV5jRnw_z4m",
        "outputId": "674a89ba-4621-4202-966e-8af9ed411222"
      },
      "execution_count": null,
      "outputs": [
        {
          "output_type": "stream",
          "name": "stdout",
          "text": [
            "12.902684630738525\n"
          ]
        }
      ]
    },
    {
      "cell_type": "markdown",
      "source": [
        "Value from uncleaned data set"
      ],
      "metadata": {
        "id": "R0VeH8CtBBdR"
      }
    },
    {
      "cell_type": "code",
      "source": [
        "mean_length = taxi[1:,8].mean()\n",
        "print(mean_length)"
      ],
      "metadata": {
        "colab": {
          "base_uri": "https://localhost:8080/"
        },
        "id": "zf4slLMDBE-4",
        "outputId": "8bbd0218-92c6-48e6-f137-72d8f8164f98"
      },
      "execution_count": null,
      "outputs": [
        {
          "output_type": "stream",
          "name": "stdout",
          "text": [
            "2261.595131644312\n"
          ]
        }
      ]
    },
    {
      "cell_type": "markdown",
      "source": [
        "Cleaned data set"
      ],
      "metadata": {
        "id": "HRzHPDoWBhBm"
      }
    },
    {
      "cell_type": "code",
      "source": [
        "mean_length = cleaned_taxi[:,8].mean()\n",
        "print(mean_length)"
      ],
      "metadata": {
        "colab": {
          "base_uri": "https://localhost:8080/"
        },
        "id": "IWb2-AZ4AJG3",
        "outputId": "3fa9bb3a-b215-4f9e-8677-cffe96302b2d"
      },
      "execution_count": null,
      "outputs": [
        {
          "output_type": "stream",
          "name": "stdout",
          "text": [
            "2271.691117764471\n"
          ]
        }
      ]
    },
    {
      "cell_type": "markdown",
      "source": [
        "Unclean data set"
      ],
      "metadata": {
        "id": "iW8Vx482Bjg_"
      }
    },
    {
      "cell_type": "code",
      "source": [
        "mean_total_amount = taxi[1:,13].mean()\n",
        "print(mean_total_amount)"
      ],
      "metadata": {
        "colab": {
          "base_uri": "https://localhost:8080/"
        },
        "id": "MwvMH9QSBEEL",
        "outputId": "2978fb19-7065-45a7-ac52-e444c7a7e966"
      },
      "execution_count": null,
      "outputs": [
        {
          "output_type": "stream",
          "name": "stdout",
          "text": [
            "48.67809239940387\n"
          ]
        }
      ]
    },
    {
      "cell_type": "markdown",
      "source": [
        "Cleaned Data set"
      ],
      "metadata": {
        "id": "ZfuPgJdmBqrM"
      }
    },
    {
      "cell_type": "code",
      "source": [
        "mean_total_amount = cleaned_taxi[:,13].mean()\n",
        "print(mean_total_amount)"
      ],
      "metadata": {
        "colab": {
          "base_uri": "https://localhost:8080/"
        },
        "id": "AYSnUdlAAdet",
        "outputId": "1cd5878b-352d-448e-d151-4a18b405ac51"
      },
      "execution_count": null,
      "outputs": [
        {
          "output_type": "stream",
          "name": "stdout",
          "text": [
            "48.70217065868263\n"
          ]
        }
      ]
    },
    {
      "cell_type": "code",
      "source": [],
      "metadata": {
        "id": "AX08gV3NAkUD"
      },
      "execution_count": null,
      "outputs": []
    }
  ]
}