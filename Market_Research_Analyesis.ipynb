{
  "nbformat": 4,
  "nbformat_minor": 0,
  "metadata": {
    "colab": {
      "provenance": [],
      "mount_file_id": "1dYKpWV9K1__8Td81WNI8vOBbPXTNmZVY",
      "authorship_tag": "ABX9TyNMrolsOaoolJSF8Q8r+AJ3",
      "include_colab_link": true
    },
    "kernelspec": {
      "name": "python3",
      "display_name": "Python 3"
    },
    "language_info": {
      "name": "python"
    }
  },
  "cells": [
    {
      "cell_type": "markdown",
      "metadata": {
        "id": "view-in-github",
        "colab_type": "text"
      },
      "source": [
        "<a href=\"https://colab.research.google.com/github/MathewLipman/Work-Samples/blob/main/Market_Research_Analyesis.ipynb\" target=\"_parent\"><img src=\"https://colab.research.google.com/assets/colab-badge.svg\" alt=\"Open In Colab\"/></a>"
      ]
    },
    {
      "cell_type": "code",
      "execution_count": null,
      "metadata": {
        "id": "wfe1PdMS1aXC"
      },
      "outputs": [],
      "source": [
        "import pandas as pd\n",
        "import numpy as np\n",
        "import matplotlib.pyplot as plt\n",
        "import seaborn as sns\n",
        "import matplotlib.style as style\n"
      ]
    },
    {
      "cell_type": "code",
      "source": [
        "print(pd.options.display.max_columns)"
      ],
      "metadata": {
        "colab": {
          "base_uri": "https://localhost:8080/"
        },
        "id": "CbEkda1m27nB",
        "outputId": "ef130f54-f3ab-46b0-e9a9-49a347091772"
      },
      "execution_count": null,
      "outputs": [
        {
          "output_type": "stream",
          "name": "stdout",
          "text": [
            "150\n"
          ]
        }
      ]
    },
    {
      "cell_type": "code",
      "source": [
        "pd.options.display.max_columns = 150 "
      ],
      "metadata": {
        "id": "KJiKW45U27HY"
      },
      "execution_count": null,
      "outputs": []
    },
    {
      "cell_type": "code",
      "source": [
        "ncs = pd.read_csv('/content/drive/MyDrive/Dataset/2017-fCC-New-Coders-Survey-Data.csv')"
      ],
      "metadata": {
        "id": "EMPLA8k_2Db3",
        "colab": {
          "base_uri": "https://localhost:8080/"
        },
        "outputId": "e716d826-1019-40d2-fe45-a35c96498f1e"
      },
      "execution_count": null,
      "outputs": [
        {
          "output_type": "stream",
          "name": "stderr",
          "text": [
            "<ipython-input-33-9ff2cc61ae56>:1: DtypeWarning: Columns (17,62) have mixed types. Specify dtype option on import or set low_memory=False.\n",
            "  ncs = pd.read_csv('/content/drive/MyDrive/Dataset/2017-fCC-New-Coders-Survey-Data.csv')\n"
          ]
        }
      ]
    },
    {
      "cell_type": "code",
      "source": [
        "ncs.info()"
      ],
      "metadata": {
        "id": "v6XjhqvY2QAl",
        "colab": {
          "base_uri": "https://localhost:8080/"
        },
        "outputId": "fc4b95b8-c253-485c-e4d7-ef6076cbd217"
      },
      "execution_count": null,
      "outputs": [
        {
          "output_type": "stream",
          "name": "stdout",
          "text": [
            "<class 'pandas.core.frame.DataFrame'>\n",
            "RangeIndex: 18175 entries, 0 to 18174\n",
            "Columns: 136 entries, Age to YouTubeTheNewBoston\n",
            "dtypes: float64(105), object(31)\n",
            "memory usage: 18.9+ MB\n"
          ]
        }
      ]
    },
    {
      "cell_type": "code",
      "source": [
        "ncs.head()"
      ],
      "metadata": {
        "colab": {
          "base_uri": "https://localhost:8080/",
          "height": 514
        },
        "id": "l_orvaWP2m0s",
        "outputId": "bbc86e09-cb1d-4a86-e4e5-a491ffaa72ad"
      },
      "execution_count": null,
      "outputs": [
        {
          "output_type": "execute_result",
          "data": {
            "text/plain": [
              "    Age  AttendedBootcamp  BootcampFinish  BootcampLoanYesNo BootcampName  \\\n",
              "0  27.0               0.0             NaN                NaN          NaN   \n",
              "1  34.0               0.0             NaN                NaN          NaN   \n",
              "2  21.0               0.0             NaN                NaN          NaN   \n",
              "3  26.0               0.0             NaN                NaN          NaN   \n",
              "4  20.0               0.0             NaN                NaN          NaN   \n",
              "\n",
              "   BootcampRecommend  ChildrenNumber                 CityPopulation  \\\n",
              "0                NaN             NaN            more than 1 million   \n",
              "1                NaN             NaN              less than 100,000   \n",
              "2                NaN             NaN            more than 1 million   \n",
              "3                NaN             NaN  between 100,000 and 1 million   \n",
              "4                NaN             NaN  between 100,000 and 1 million   \n",
              "\n",
              "   CodeEventConferences  CodeEventDjangoGirls  CodeEventFCC  CodeEventGameJam  \\\n",
              "0                   NaN                   NaN           NaN               NaN   \n",
              "1                   NaN                   NaN           NaN               NaN   \n",
              "2                   NaN                   NaN           NaN               NaN   \n",
              "3                   NaN                   NaN           NaN               NaN   \n",
              "4                   NaN                   NaN           NaN               NaN   \n",
              "\n",
              "   CodeEventGirlDev  CodeEventHackathons  CodeEventMeetup  \\\n",
              "0               NaN                  NaN              NaN   \n",
              "1               NaN                  NaN              NaN   \n",
              "2               NaN                  1.0              NaN   \n",
              "3               NaN                  NaN              NaN   \n",
              "4               NaN                  NaN              NaN   \n",
              "\n",
              "   CodeEventNodeSchool  CodeEventNone CodeEventOther  CodeEventRailsBridge  \\\n",
              "0                  NaN            NaN            NaN                   NaN   \n",
              "1                  NaN            NaN            NaN                   NaN   \n",
              "2                  1.0            NaN            NaN                   NaN   \n",
              "3                  NaN            NaN            NaN                   NaN   \n",
              "4                  NaN            NaN            NaN                   NaN   \n",
              "\n",
              "   CodeEventRailsGirls  CodeEventStartUpWknd  CodeEventWkdBootcamps  \\\n",
              "0                  NaN                   NaN                    NaN   \n",
              "1                  NaN                   NaN                    NaN   \n",
              "2                  NaN                   NaN                    NaN   \n",
              "3                  NaN                   NaN                    NaN   \n",
              "4                  NaN                   NaN                    NaN   \n",
              "\n",
              "   CodeEventWomenCode  CodeEventWorkshops       CommuteTime  \\\n",
              "0                 NaN                 NaN  15 to 29 minutes   \n",
              "1                 NaN                 NaN               NaN   \n",
              "2                 NaN                 NaN  15 to 29 minutes   \n",
              "3                 NaN                 NaN  I work from home   \n",
              "4                 NaN                 NaN               NaN   \n",
              "\n",
              "             CountryCitizen               CountryLive  \\\n",
              "0                    Canada                    Canada   \n",
              "1  United States of America  United States of America   \n",
              "2  United States of America  United States of America   \n",
              "3                    Brazil                    Brazil   \n",
              "4                  Portugal                  Portugal   \n",
              "\n",
              "               EmploymentField EmploymentFieldOther  \\\n",
              "0  software development and IT                  NaN   \n",
              "1                          NaN                  NaN   \n",
              "2  software development and IT                  NaN   \n",
              "3  software development and IT                  NaN   \n",
              "4                          NaN                  NaN   \n",
              "\n",
              "                   EmploymentStatus EmploymentStatusOther  ExpectedEarning  \\\n",
              "0                Employed for wages                   NaN              NaN   \n",
              "1  Not working but looking for work                   NaN          35000.0   \n",
              "2                Employed for wages                   NaN          70000.0   \n",
              "3                Employed for wages                   NaN          40000.0   \n",
              "4  Not working but looking for work                   NaN         140000.0   \n",
              "\n",
              "   FinanciallySupporting  FirstDevJob  Gender GenderOther  HasChildren  \\\n",
              "0                    NaN          NaN  female         NaN          NaN   \n",
              "1                    NaN          NaN    male         NaN          NaN   \n",
              "2                    NaN          NaN    male         NaN          NaN   \n",
              "3                    0.0          NaN    male         NaN          0.0   \n",
              "4                    NaN          NaN  female         NaN          NaN   \n",
              "\n",
              "   HasDebt  HasFinancialDependents  HasHighSpdInternet  HasHomeMortgage  \\\n",
              "0      1.0                     0.0                 1.0              0.0   \n",
              "1      1.0                     0.0                 1.0              0.0   \n",
              "2      0.0                     0.0                 1.0              NaN   \n",
              "3      1.0                     1.0                 1.0              1.0   \n",
              "4      0.0                     0.0                 1.0              NaN   \n",
              "\n",
              "   HasServedInMilitary  HasStudentDebt  HomeMortgageOwe  HoursLearning  \\\n",
              "0                  0.0             0.0              NaN           15.0   \n",
              "1                  0.0             1.0              NaN           10.0   \n",
              "2                  0.0             NaN              NaN           25.0   \n",
              "3                  0.0             0.0          40000.0           14.0   \n",
              "4                  0.0             NaN              NaN           10.0   \n",
              "\n",
              "                               ID.x                              ID.y  \\\n",
              "0  02d9465b21e8bd09374b0066fb2d5614  eb78c1c3ac6cd9052aec557065070fbf   \n",
              "1  5bfef9ecb211ec4f518cfc1d2a6f3e0c  21db37adb60cdcafadfa7dca1b13b6b1   \n",
              "2  14f1863afa9c7de488050b82eb3edd96  21ba173828fbe9e27ccebaf4d5166a55   \n",
              "3  91756eb4dc280062a541c25a3d44cfb0  3be37b558f02daae93a6da10f83f0c77   \n",
              "4  aa3f061a1949a90b27bef7411ecd193f  d7c56bbf2c7b62096be9db010e86d96d   \n",
              "\n",
              "    Income  IsEthnicMinority  IsReceiveDisabilitiesBenefits  IsSoftwareDev  \\\n",
              "0      NaN               NaN                            0.0            0.0   \n",
              "1      NaN               0.0                            0.0            0.0   \n",
              "2  13000.0               1.0                            0.0            0.0   \n",
              "3  24000.0               0.0                            0.0            0.0   \n",
              "4      NaN               0.0                            0.0            0.0   \n",
              "\n",
              "   IsUnderEmployed              JobApplyWhen  JobInterestBackEnd  \\\n",
              "0              0.0                       NaN                 NaN   \n",
              "1              NaN     Within 7 to 12 months                 NaN   \n",
              "2              0.0     Within 7 to 12 months                 1.0   \n",
              "3              1.0  Within the next 6 months                 1.0   \n",
              "4              NaN     Within 7 to 12 months                 1.0   \n",
              "\n",
              "   JobInterestDataEngr  JobInterestDataSci  JobInterestDevOps  \\\n",
              "0                  NaN                 NaN                NaN   \n",
              "1                  NaN                 NaN                NaN   \n",
              "2                  NaN                 NaN                1.0   \n",
              "3                  NaN                 NaN                NaN   \n",
              "4                  NaN                 NaN                NaN   \n",
              "\n",
              "   JobInterestFrontEnd  JobInterestFullStack  JobInterestGameDev  \\\n",
              "0                  NaN                   NaN                 NaN   \n",
              "1                  NaN                   1.0                 NaN   \n",
              "2                  1.0                   1.0                 NaN   \n",
              "3                  1.0                   1.0                 NaN   \n",
              "4                  1.0                   1.0                 NaN   \n",
              "\n",
              "   JobInterestInfoSec  JobInterestMobile JobInterestOther  \\\n",
              "0                 NaN                NaN              NaN   \n",
              "1                 NaN                NaN              NaN   \n",
              "2                 NaN                1.0              NaN   \n",
              "3                 NaN                NaN              NaN   \n",
              "4                 1.0                1.0              NaN   \n",
              "\n",
              "   JobInterestProjMngr  JobInterestQAEngr  JobInterestUX  \\\n",
              "0                  NaN                NaN            NaN   \n",
              "1                  NaN                NaN            NaN   \n",
              "2                  NaN                NaN            NaN   \n",
              "3                  NaN                NaN            NaN   \n",
              "4                  NaN                NaN            NaN   \n",
              "\n",
              "                                JobPref  JobRelocateYesNo  \\\n",
              "0               start your own business               NaN   \n",
              "1                  work for a nonprofit               1.0   \n",
              "2       work for a medium-sized company               1.0   \n",
              "3       work for a medium-sized company               NaN   \n",
              "4  work for a multinational corporation               1.0   \n",
              "\n",
              "                                     JobRoleInterest  \\\n",
              "0                                                NaN   \n",
              "1                           Full-Stack Web Developer   \n",
              "2    Front-End Web Developer, Back-End Web Develo...   \n",
              "3    Front-End Web Developer, Full-Stack Web Deve...   \n",
              "4  Full-Stack Web Developer, Information Security...   \n",
              "\n",
              "                         JobWherePref LanguageAtHome  \\\n",
              "0                                 NaN        English   \n",
              "1  in an office with other developers        English   \n",
              "2                       no preference        Spanish   \n",
              "3                           from home     Portuguese   \n",
              "4  in an office with other developers     Portuguese   \n",
              "\n",
              "                     MaritalStatus  MoneyForLearning  MonthsProgramming  \\\n",
              "0  married or domestic partnership             150.0                6.0   \n",
              "1            single, never married              80.0                6.0   \n",
              "2            single, never married            1000.0                5.0   \n",
              "3  married or domestic partnership               0.0                5.0   \n",
              "4            single, never married               0.0               24.0   \n",
              "\n",
              "    NetworkID         Part1EndTime       Part1StartTime         Part2EndTime  \\\n",
              "0  6f1fbc6b2b  2017-03-09 00:36:22  2017-03-09 00:32:59  2017-03-09 00:59:46   \n",
              "1  f8f8be6910  2017-03-09 00:37:07  2017-03-09 00:33:26  2017-03-09 00:38:59   \n",
              "2  2ed189768e  2017-03-09 00:37:58  2017-03-09 00:33:53  2017-03-09 00:40:14   \n",
              "3  dbdc0664d1  2017-03-09 00:40:13  2017-03-09 00:37:45  2017-03-09 00:42:26   \n",
              "4  11b0f2d8a9  2017-03-09 00:42:45  2017-03-09 00:39:44  2017-03-09 00:45:42   \n",
              "\n",
              "        Part2StartTime  PodcastChangeLog  PodcastCodeNewbie  PodcastCodePen  \\\n",
              "0  2017-03-09 00:36:26               NaN                NaN             NaN   \n",
              "1  2017-03-09 00:37:10               NaN                1.0             NaN   \n",
              "2  2017-03-09 00:38:02               1.0                NaN             1.0   \n",
              "3  2017-03-09 00:40:18               NaN                NaN             NaN   \n",
              "4  2017-03-09 00:42:50               NaN                NaN             NaN   \n",
              "\n",
              "   PodcastDevTea  PodcastDotNET  PodcastGiantRobots  PodcastJSAir  \\\n",
              "0            1.0            NaN                 NaN           NaN   \n",
              "1            NaN            NaN                 NaN           NaN   \n",
              "2            NaN            NaN                 NaN           NaN   \n",
              "3            NaN            NaN                 NaN           NaN   \n",
              "4            NaN            NaN                 NaN           NaN   \n",
              "\n",
              "   PodcastJSJabber  PodcastNone PodcastOther  PodcastProgThrowdown  \\\n",
              "0              NaN          NaN          NaN                   NaN   \n",
              "1              NaN          NaN          NaN                   NaN   \n",
              "2              NaN          NaN   Codenewbie                   NaN   \n",
              "3              NaN          NaN          NaN                   NaN   \n",
              "4              NaN          NaN          NaN                   NaN   \n",
              "\n",
              "   PodcastRubyRogues  PodcastSEDaily  PodcastSERadio  PodcastShopTalk  \\\n",
              "0                NaN             NaN             NaN              NaN   \n",
              "1                NaN             NaN             NaN              NaN   \n",
              "2                NaN             NaN             NaN              1.0   \n",
              "3                NaN             NaN             NaN              NaN   \n",
              "4                NaN             NaN             NaN              NaN   \n",
              "\n",
              "   PodcastTalkPython  PodcastTheWebAhead  ResourceCodecademy  \\\n",
              "0                NaN                 NaN                 1.0   \n",
              "1                NaN                 NaN                 1.0   \n",
              "2                NaN                 NaN                 1.0   \n",
              "3                NaN                 NaN                 NaN   \n",
              "4                NaN                 NaN                 NaN   \n",
              "\n",
              "   ResourceCodeWars  ResourceCoursera  ResourceCSS  ResourceEdX  \\\n",
              "0               NaN               NaN          NaN          NaN   \n",
              "1               NaN               NaN          1.0          NaN   \n",
              "2               NaN               NaN          1.0          NaN   \n",
              "3               NaN               NaN          NaN          NaN   \n",
              "4               NaN               NaN          NaN          NaN   \n",
              "\n",
              "   ResourceEgghead  ResourceFCC  ResourceHackerRank  ResourceKA  \\\n",
              "0              NaN          1.0                 NaN         NaN   \n",
              "1              NaN          1.0                 NaN         NaN   \n",
              "2              NaN          1.0                 NaN         NaN   \n",
              "3              1.0          1.0                 NaN         NaN   \n",
              "4              NaN          NaN                 NaN         NaN   \n",
              "\n",
              "   ResourceLynda  ResourceMDN  ResourceOdinProj ResourceOther  \\\n",
              "0            NaN          1.0               NaN           NaN   \n",
              "1            NaN          NaN               NaN           NaN   \n",
              "2            NaN          1.0               NaN           NaN   \n",
              "3            NaN          1.0               NaN           NaN   \n",
              "4            NaN          NaN               NaN           NaN   \n",
              "\n",
              "   ResourcePluralSight  ResourceSkillcrush  ResourceSO  ResourceTreehouse  \\\n",
              "0                  NaN                 NaN         NaN                NaN   \n",
              "1                  NaN                 NaN         1.0                NaN   \n",
              "2                  NaN                 NaN         NaN                NaN   \n",
              "3                  NaN                 NaN         1.0                NaN   \n",
              "4                  NaN                 NaN         1.0                NaN   \n",
              "\n",
              "   ResourceUdacity  ResourceUdemy  ResourceW3S  \\\n",
              "0              NaN            1.0          1.0   \n",
              "1              NaN            1.0          1.0   \n",
              "2              1.0            1.0          NaN   \n",
              "3              NaN            NaN          NaN   \n",
              "4              NaN            NaN          NaN   \n",
              "\n",
              "                              SchoolDegree             SchoolMajor  \\\n",
              "0           some college credit, no degree                     NaN   \n",
              "1           some college credit, no degree                     NaN   \n",
              "2  high school diploma or equivalent (GED)                     NaN   \n",
              "3           some college credit, no degree                     NaN   \n",
              "4                        bachelor's degree  Information Technology   \n",
              "\n",
              "   StudentDebtOwe  YouTubeCodeCourse  YouTubeCodingTrain  YouTubeCodingTut360  \\\n",
              "0             NaN                NaN                 NaN                  NaN   \n",
              "1             NaN                NaN                 NaN                  NaN   \n",
              "2             NaN                NaN                 NaN                  1.0   \n",
              "3             NaN                NaN                 NaN                  NaN   \n",
              "4             NaN                NaN                 NaN                  NaN   \n",
              "\n",
              "   YouTubeComputerphile  YouTubeDerekBanas  YouTubeDevTips  \\\n",
              "0                   NaN                NaN             NaN   \n",
              "1                   NaN                NaN             NaN   \n",
              "2                   NaN                1.0             1.0   \n",
              "3                   NaN                NaN             1.0   \n",
              "4                   NaN                NaN             NaN   \n",
              "\n",
              "   YouTubeEngineeredTruth  YouTubeFCC  YouTubeFunFunFunction  \\\n",
              "0                     NaN         NaN                    NaN   \n",
              "1                     NaN         1.0                    NaN   \n",
              "2                     NaN         NaN                    NaN   \n",
              "3                     NaN         1.0                    1.0   \n",
              "4                     NaN         NaN                    NaN   \n",
              "\n",
              "   YouTubeGoogleDev  YouTubeLearnCode  YouTubeLevelUpTuts  YouTubeMIT  \\\n",
              "0               NaN               NaN                 NaN         NaN   \n",
              "1               NaN               NaN                 NaN         NaN   \n",
              "2               NaN               1.0                 1.0         NaN   \n",
              "3               NaN               NaN                 1.0         NaN   \n",
              "4               NaN               NaN                 NaN         NaN   \n",
              "\n",
              "   YouTubeMozillaHacks YouTubeOther  YouTubeSimplilearn  YouTubeTheNewBoston  \n",
              "0                  NaN          NaN                 NaN                  NaN  \n",
              "1                  NaN          NaN                 NaN                  NaN  \n",
              "2                  NaN          NaN                 NaN                  NaN  \n",
              "3                  NaN          NaN                 NaN                  NaN  \n",
              "4                  NaN          NaN                 NaN                  NaN  "
            ],
            "text/html": [
              "\n",
              "  <div id=\"df-d7daf5ef-52f8-4d33-a7b4-bf7b1d9dab7a\">\n",
              "    <div class=\"colab-df-container\">\n",
              "      <div>\n",
              "<style scoped>\n",
              "    .dataframe tbody tr th:only-of-type {\n",
              "        vertical-align: middle;\n",
              "    }\n",
              "\n",
              "    .dataframe tbody tr th {\n",
              "        vertical-align: top;\n",
              "    }\n",
              "\n",
              "    .dataframe thead th {\n",
              "        text-align: right;\n",
              "    }\n",
              "</style>\n",
              "<table border=\"1\" class=\"dataframe\">\n",
              "  <thead>\n",
              "    <tr style=\"text-align: right;\">\n",
              "      <th></th>\n",
              "      <th>Age</th>\n",
              "      <th>AttendedBootcamp</th>\n",
              "      <th>BootcampFinish</th>\n",
              "      <th>BootcampLoanYesNo</th>\n",
              "      <th>BootcampName</th>\n",
              "      <th>BootcampRecommend</th>\n",
              "      <th>ChildrenNumber</th>\n",
              "      <th>CityPopulation</th>\n",
              "      <th>CodeEventConferences</th>\n",
              "      <th>CodeEventDjangoGirls</th>\n",
              "      <th>CodeEventFCC</th>\n",
              "      <th>CodeEventGameJam</th>\n",
              "      <th>CodeEventGirlDev</th>\n",
              "      <th>CodeEventHackathons</th>\n",
              "      <th>CodeEventMeetup</th>\n",
              "      <th>CodeEventNodeSchool</th>\n",
              "      <th>CodeEventNone</th>\n",
              "      <th>CodeEventOther</th>\n",
              "      <th>CodeEventRailsBridge</th>\n",
              "      <th>CodeEventRailsGirls</th>\n",
              "      <th>CodeEventStartUpWknd</th>\n",
              "      <th>CodeEventWkdBootcamps</th>\n",
              "      <th>CodeEventWomenCode</th>\n",
              "      <th>CodeEventWorkshops</th>\n",
              "      <th>CommuteTime</th>\n",
              "      <th>CountryCitizen</th>\n",
              "      <th>CountryLive</th>\n",
              "      <th>EmploymentField</th>\n",
              "      <th>EmploymentFieldOther</th>\n",
              "      <th>EmploymentStatus</th>\n",
              "      <th>EmploymentStatusOther</th>\n",
              "      <th>ExpectedEarning</th>\n",
              "      <th>FinanciallySupporting</th>\n",
              "      <th>FirstDevJob</th>\n",
              "      <th>Gender</th>\n",
              "      <th>GenderOther</th>\n",
              "      <th>HasChildren</th>\n",
              "      <th>HasDebt</th>\n",
              "      <th>HasFinancialDependents</th>\n",
              "      <th>HasHighSpdInternet</th>\n",
              "      <th>HasHomeMortgage</th>\n",
              "      <th>HasServedInMilitary</th>\n",
              "      <th>HasStudentDebt</th>\n",
              "      <th>HomeMortgageOwe</th>\n",
              "      <th>HoursLearning</th>\n",
              "      <th>ID.x</th>\n",
              "      <th>ID.y</th>\n",
              "      <th>Income</th>\n",
              "      <th>IsEthnicMinority</th>\n",
              "      <th>IsReceiveDisabilitiesBenefits</th>\n",
              "      <th>IsSoftwareDev</th>\n",
              "      <th>IsUnderEmployed</th>\n",
              "      <th>JobApplyWhen</th>\n",
              "      <th>JobInterestBackEnd</th>\n",
              "      <th>JobInterestDataEngr</th>\n",
              "      <th>JobInterestDataSci</th>\n",
              "      <th>JobInterestDevOps</th>\n",
              "      <th>JobInterestFrontEnd</th>\n",
              "      <th>JobInterestFullStack</th>\n",
              "      <th>JobInterestGameDev</th>\n",
              "      <th>JobInterestInfoSec</th>\n",
              "      <th>JobInterestMobile</th>\n",
              "      <th>JobInterestOther</th>\n",
              "      <th>JobInterestProjMngr</th>\n",
              "      <th>JobInterestQAEngr</th>\n",
              "      <th>JobInterestUX</th>\n",
              "      <th>JobPref</th>\n",
              "      <th>JobRelocateYesNo</th>\n",
              "      <th>JobRoleInterest</th>\n",
              "      <th>JobWherePref</th>\n",
              "      <th>LanguageAtHome</th>\n",
              "      <th>MaritalStatus</th>\n",
              "      <th>MoneyForLearning</th>\n",
              "      <th>MonthsProgramming</th>\n",
              "      <th>NetworkID</th>\n",
              "      <th>Part1EndTime</th>\n",
              "      <th>Part1StartTime</th>\n",
              "      <th>Part2EndTime</th>\n",
              "      <th>Part2StartTime</th>\n",
              "      <th>PodcastChangeLog</th>\n",
              "      <th>PodcastCodeNewbie</th>\n",
              "      <th>PodcastCodePen</th>\n",
              "      <th>PodcastDevTea</th>\n",
              "      <th>PodcastDotNET</th>\n",
              "      <th>PodcastGiantRobots</th>\n",
              "      <th>PodcastJSAir</th>\n",
              "      <th>PodcastJSJabber</th>\n",
              "      <th>PodcastNone</th>\n",
              "      <th>PodcastOther</th>\n",
              "      <th>PodcastProgThrowdown</th>\n",
              "      <th>PodcastRubyRogues</th>\n",
              "      <th>PodcastSEDaily</th>\n",
              "      <th>PodcastSERadio</th>\n",
              "      <th>PodcastShopTalk</th>\n",
              "      <th>PodcastTalkPython</th>\n",
              "      <th>PodcastTheWebAhead</th>\n",
              "      <th>ResourceCodecademy</th>\n",
              "      <th>ResourceCodeWars</th>\n",
              "      <th>ResourceCoursera</th>\n",
              "      <th>ResourceCSS</th>\n",
              "      <th>ResourceEdX</th>\n",
              "      <th>ResourceEgghead</th>\n",
              "      <th>ResourceFCC</th>\n",
              "      <th>ResourceHackerRank</th>\n",
              "      <th>ResourceKA</th>\n",
              "      <th>ResourceLynda</th>\n",
              "      <th>ResourceMDN</th>\n",
              "      <th>ResourceOdinProj</th>\n",
              "      <th>ResourceOther</th>\n",
              "      <th>ResourcePluralSight</th>\n",
              "      <th>ResourceSkillcrush</th>\n",
              "      <th>ResourceSO</th>\n",
              "      <th>ResourceTreehouse</th>\n",
              "      <th>ResourceUdacity</th>\n",
              "      <th>ResourceUdemy</th>\n",
              "      <th>ResourceW3S</th>\n",
              "      <th>SchoolDegree</th>\n",
              "      <th>SchoolMajor</th>\n",
              "      <th>StudentDebtOwe</th>\n",
              "      <th>YouTubeCodeCourse</th>\n",
              "      <th>YouTubeCodingTrain</th>\n",
              "      <th>YouTubeCodingTut360</th>\n",
              "      <th>YouTubeComputerphile</th>\n",
              "      <th>YouTubeDerekBanas</th>\n",
              "      <th>YouTubeDevTips</th>\n",
              "      <th>YouTubeEngineeredTruth</th>\n",
              "      <th>YouTubeFCC</th>\n",
              "      <th>YouTubeFunFunFunction</th>\n",
              "      <th>YouTubeGoogleDev</th>\n",
              "      <th>YouTubeLearnCode</th>\n",
              "      <th>YouTubeLevelUpTuts</th>\n",
              "      <th>YouTubeMIT</th>\n",
              "      <th>YouTubeMozillaHacks</th>\n",
              "      <th>YouTubeOther</th>\n",
              "      <th>YouTubeSimplilearn</th>\n",
              "      <th>YouTubeTheNewBoston</th>\n",
              "    </tr>\n",
              "  </thead>\n",
              "  <tbody>\n",
              "    <tr>\n",
              "      <th>0</th>\n",
              "      <td>27.0</td>\n",
              "      <td>0.0</td>\n",
              "      <td>NaN</td>\n",
              "      <td>NaN</td>\n",
              "      <td>NaN</td>\n",
              "      <td>NaN</td>\n",
              "      <td>NaN</td>\n",
              "      <td>more than 1 million</td>\n",
              "      <td>NaN</td>\n",
              "      <td>NaN</td>\n",
              "      <td>NaN</td>\n",
              "      <td>NaN</td>\n",
              "      <td>NaN</td>\n",
              "      <td>NaN</td>\n",
              "      <td>NaN</td>\n",
              "      <td>NaN</td>\n",
              "      <td>NaN</td>\n",
              "      <td>NaN</td>\n",
              "      <td>NaN</td>\n",
              "      <td>NaN</td>\n",
              "      <td>NaN</td>\n",
              "      <td>NaN</td>\n",
              "      <td>NaN</td>\n",
              "      <td>NaN</td>\n",
              "      <td>15 to 29 minutes</td>\n",
              "      <td>Canada</td>\n",
              "      <td>Canada</td>\n",
              "      <td>software development and IT</td>\n",
              "      <td>NaN</td>\n",
              "      <td>Employed for wages</td>\n",
              "      <td>NaN</td>\n",
              "      <td>NaN</td>\n",
              "      <td>NaN</td>\n",
              "      <td>NaN</td>\n",
              "      <td>female</td>\n",
              "      <td>NaN</td>\n",
              "      <td>NaN</td>\n",
              "      <td>1.0</td>\n",
              "      <td>0.0</td>\n",
              "      <td>1.0</td>\n",
              "      <td>0.0</td>\n",
              "      <td>0.0</td>\n",
              "      <td>0.0</td>\n",
              "      <td>NaN</td>\n",
              "      <td>15.0</td>\n",
              "      <td>02d9465b21e8bd09374b0066fb2d5614</td>\n",
              "      <td>eb78c1c3ac6cd9052aec557065070fbf</td>\n",
              "      <td>NaN</td>\n",
              "      <td>NaN</td>\n",
              "      <td>0.0</td>\n",
              "      <td>0.0</td>\n",
              "      <td>0.0</td>\n",
              "      <td>NaN</td>\n",
              "      <td>NaN</td>\n",
              "      <td>NaN</td>\n",
              "      <td>NaN</td>\n",
              "      <td>NaN</td>\n",
              "      <td>NaN</td>\n",
              "      <td>NaN</td>\n",
              "      <td>NaN</td>\n",
              "      <td>NaN</td>\n",
              "      <td>NaN</td>\n",
              "      <td>NaN</td>\n",
              "      <td>NaN</td>\n",
              "      <td>NaN</td>\n",
              "      <td>NaN</td>\n",
              "      <td>start your own business</td>\n",
              "      <td>NaN</td>\n",
              "      <td>NaN</td>\n",
              "      <td>NaN</td>\n",
              "      <td>English</td>\n",
              "      <td>married or domestic partnership</td>\n",
              "      <td>150.0</td>\n",
              "      <td>6.0</td>\n",
              "      <td>6f1fbc6b2b</td>\n",
              "      <td>2017-03-09 00:36:22</td>\n",
              "      <td>2017-03-09 00:32:59</td>\n",
              "      <td>2017-03-09 00:59:46</td>\n",
              "      <td>2017-03-09 00:36:26</td>\n",
              "      <td>NaN</td>\n",
              "      <td>NaN</td>\n",
              "      <td>NaN</td>\n",
              "      <td>1.0</td>\n",
              "      <td>NaN</td>\n",
              "      <td>NaN</td>\n",
              "      <td>NaN</td>\n",
              "      <td>NaN</td>\n",
              "      <td>NaN</td>\n",
              "      <td>NaN</td>\n",
              "      <td>NaN</td>\n",
              "      <td>NaN</td>\n",
              "      <td>NaN</td>\n",
              "      <td>NaN</td>\n",
              "      <td>NaN</td>\n",
              "      <td>NaN</td>\n",
              "      <td>NaN</td>\n",
              "      <td>1.0</td>\n",
              "      <td>NaN</td>\n",
              "      <td>NaN</td>\n",
              "      <td>NaN</td>\n",
              "      <td>NaN</td>\n",
              "      <td>NaN</td>\n",
              "      <td>1.0</td>\n",
              "      <td>NaN</td>\n",
              "      <td>NaN</td>\n",
              "      <td>NaN</td>\n",
              "      <td>1.0</td>\n",
              "      <td>NaN</td>\n",
              "      <td>NaN</td>\n",
              "      <td>NaN</td>\n",
              "      <td>NaN</td>\n",
              "      <td>NaN</td>\n",
              "      <td>NaN</td>\n",
              "      <td>NaN</td>\n",
              "      <td>1.0</td>\n",
              "      <td>1.0</td>\n",
              "      <td>some college credit, no degree</td>\n",
              "      <td>NaN</td>\n",
              "      <td>NaN</td>\n",
              "      <td>NaN</td>\n",
              "      <td>NaN</td>\n",
              "      <td>NaN</td>\n",
              "      <td>NaN</td>\n",
              "      <td>NaN</td>\n",
              "      <td>NaN</td>\n",
              "      <td>NaN</td>\n",
              "      <td>NaN</td>\n",
              "      <td>NaN</td>\n",
              "      <td>NaN</td>\n",
              "      <td>NaN</td>\n",
              "      <td>NaN</td>\n",
              "      <td>NaN</td>\n",
              "      <td>NaN</td>\n",
              "      <td>NaN</td>\n",
              "      <td>NaN</td>\n",
              "      <td>NaN</td>\n",
              "    </tr>\n",
              "    <tr>\n",
              "      <th>1</th>\n",
              "      <td>34.0</td>\n",
              "      <td>0.0</td>\n",
              "      <td>NaN</td>\n",
              "      <td>NaN</td>\n",
              "      <td>NaN</td>\n",
              "      <td>NaN</td>\n",
              "      <td>NaN</td>\n",
              "      <td>less than 100,000</td>\n",
              "      <td>NaN</td>\n",
              "      <td>NaN</td>\n",
              "      <td>NaN</td>\n",
              "      <td>NaN</td>\n",
              "      <td>NaN</td>\n",
              "      <td>NaN</td>\n",
              "      <td>NaN</td>\n",
              "      <td>NaN</td>\n",
              "      <td>NaN</td>\n",
              "      <td>NaN</td>\n",
              "      <td>NaN</td>\n",
              "      <td>NaN</td>\n",
              "      <td>NaN</td>\n",
              "      <td>NaN</td>\n",
              "      <td>NaN</td>\n",
              "      <td>NaN</td>\n",
              "      <td>NaN</td>\n",
              "      <td>United States of America</td>\n",
              "      <td>United States of America</td>\n",
              "      <td>NaN</td>\n",
              "      <td>NaN</td>\n",
              "      <td>Not working but looking for work</td>\n",
              "      <td>NaN</td>\n",
              "      <td>35000.0</td>\n",
              "      <td>NaN</td>\n",
              "      <td>NaN</td>\n",
              "      <td>male</td>\n",
              "      <td>NaN</td>\n",
              "      <td>NaN</td>\n",
              "      <td>1.0</td>\n",
              "      <td>0.0</td>\n",
              "      <td>1.0</td>\n",
              "      <td>0.0</td>\n",
              "      <td>0.0</td>\n",
              "      <td>1.0</td>\n",
              "      <td>NaN</td>\n",
              "      <td>10.0</td>\n",
              "      <td>5bfef9ecb211ec4f518cfc1d2a6f3e0c</td>\n",
              "      <td>21db37adb60cdcafadfa7dca1b13b6b1</td>\n",
              "      <td>NaN</td>\n",
              "      <td>0.0</td>\n",
              "      <td>0.0</td>\n",
              "      <td>0.0</td>\n",
              "      <td>NaN</td>\n",
              "      <td>Within 7 to 12 months</td>\n",
              "      <td>NaN</td>\n",
              "      <td>NaN</td>\n",
              "      <td>NaN</td>\n",
              "      <td>NaN</td>\n",
              "      <td>NaN</td>\n",
              "      <td>1.0</td>\n",
              "      <td>NaN</td>\n",
              "      <td>NaN</td>\n",
              "      <td>NaN</td>\n",
              "      <td>NaN</td>\n",
              "      <td>NaN</td>\n",
              "      <td>NaN</td>\n",
              "      <td>NaN</td>\n",
              "      <td>work for a nonprofit</td>\n",
              "      <td>1.0</td>\n",
              "      <td>Full-Stack Web Developer</td>\n",
              "      <td>in an office with other developers</td>\n",
              "      <td>English</td>\n",
              "      <td>single, never married</td>\n",
              "      <td>80.0</td>\n",
              "      <td>6.0</td>\n",
              "      <td>f8f8be6910</td>\n",
              "      <td>2017-03-09 00:37:07</td>\n",
              "      <td>2017-03-09 00:33:26</td>\n",
              "      <td>2017-03-09 00:38:59</td>\n",
              "      <td>2017-03-09 00:37:10</td>\n",
              "      <td>NaN</td>\n",
              "      <td>1.0</td>\n",
              "      <td>NaN</td>\n",
              "      <td>NaN</td>\n",
              "      <td>NaN</td>\n",
              "      <td>NaN</td>\n",
              "      <td>NaN</td>\n",
              "      <td>NaN</td>\n",
              "      <td>NaN</td>\n",
              "      <td>NaN</td>\n",
              "      <td>NaN</td>\n",
              "      <td>NaN</td>\n",
              "      <td>NaN</td>\n",
              "      <td>NaN</td>\n",
              "      <td>NaN</td>\n",
              "      <td>NaN</td>\n",
              "      <td>NaN</td>\n",
              "      <td>1.0</td>\n",
              "      <td>NaN</td>\n",
              "      <td>NaN</td>\n",
              "      <td>1.0</td>\n",
              "      <td>NaN</td>\n",
              "      <td>NaN</td>\n",
              "      <td>1.0</td>\n",
              "      <td>NaN</td>\n",
              "      <td>NaN</td>\n",
              "      <td>NaN</td>\n",
              "      <td>NaN</td>\n",
              "      <td>NaN</td>\n",
              "      <td>NaN</td>\n",
              "      <td>NaN</td>\n",
              "      <td>NaN</td>\n",
              "      <td>1.0</td>\n",
              "      <td>NaN</td>\n",
              "      <td>NaN</td>\n",
              "      <td>1.0</td>\n",
              "      <td>1.0</td>\n",
              "      <td>some college credit, no degree</td>\n",
              "      <td>NaN</td>\n",
              "      <td>NaN</td>\n",
              "      <td>NaN</td>\n",
              "      <td>NaN</td>\n",
              "      <td>NaN</td>\n",
              "      <td>NaN</td>\n",
              "      <td>NaN</td>\n",
              "      <td>NaN</td>\n",
              "      <td>NaN</td>\n",
              "      <td>1.0</td>\n",
              "      <td>NaN</td>\n",
              "      <td>NaN</td>\n",
              "      <td>NaN</td>\n",
              "      <td>NaN</td>\n",
              "      <td>NaN</td>\n",
              "      <td>NaN</td>\n",
              "      <td>NaN</td>\n",
              "      <td>NaN</td>\n",
              "      <td>NaN</td>\n",
              "    </tr>\n",
              "    <tr>\n",
              "      <th>2</th>\n",
              "      <td>21.0</td>\n",
              "      <td>0.0</td>\n",
              "      <td>NaN</td>\n",
              "      <td>NaN</td>\n",
              "      <td>NaN</td>\n",
              "      <td>NaN</td>\n",
              "      <td>NaN</td>\n",
              "      <td>more than 1 million</td>\n",
              "      <td>NaN</td>\n",
              "      <td>NaN</td>\n",
              "      <td>NaN</td>\n",
              "      <td>NaN</td>\n",
              "      <td>NaN</td>\n",
              "      <td>1.0</td>\n",
              "      <td>NaN</td>\n",
              "      <td>1.0</td>\n",
              "      <td>NaN</td>\n",
              "      <td>NaN</td>\n",
              "      <td>NaN</td>\n",
              "      <td>NaN</td>\n",
              "      <td>NaN</td>\n",
              "      <td>NaN</td>\n",
              "      <td>NaN</td>\n",
              "      <td>NaN</td>\n",
              "      <td>15 to 29 minutes</td>\n",
              "      <td>United States of America</td>\n",
              "      <td>United States of America</td>\n",
              "      <td>software development and IT</td>\n",
              "      <td>NaN</td>\n",
              "      <td>Employed for wages</td>\n",
              "      <td>NaN</td>\n",
              "      <td>70000.0</td>\n",
              "      <td>NaN</td>\n",
              "      <td>NaN</td>\n",
              "      <td>male</td>\n",
              "      <td>NaN</td>\n",
              "      <td>NaN</td>\n",
              "      <td>0.0</td>\n",
              "      <td>0.0</td>\n",
              "      <td>1.0</td>\n",
              "      <td>NaN</td>\n",
              "      <td>0.0</td>\n",
              "      <td>NaN</td>\n",
              "      <td>NaN</td>\n",
              "      <td>25.0</td>\n",
              "      <td>14f1863afa9c7de488050b82eb3edd96</td>\n",
              "      <td>21ba173828fbe9e27ccebaf4d5166a55</td>\n",
              "      <td>13000.0</td>\n",
              "      <td>1.0</td>\n",
              "      <td>0.0</td>\n",
              "      <td>0.0</td>\n",
              "      <td>0.0</td>\n",
              "      <td>Within 7 to 12 months</td>\n",
              "      <td>1.0</td>\n",
              "      <td>NaN</td>\n",
              "      <td>NaN</td>\n",
              "      <td>1.0</td>\n",
              "      <td>1.0</td>\n",
              "      <td>1.0</td>\n",
              "      <td>NaN</td>\n",
              "      <td>NaN</td>\n",
              "      <td>1.0</td>\n",
              "      <td>NaN</td>\n",
              "      <td>NaN</td>\n",
              "      <td>NaN</td>\n",
              "      <td>NaN</td>\n",
              "      <td>work for a medium-sized company</td>\n",
              "      <td>1.0</td>\n",
              "      <td>Front-End Web Developer, Back-End Web Develo...</td>\n",
              "      <td>no preference</td>\n",
              "      <td>Spanish</td>\n",
              "      <td>single, never married</td>\n",
              "      <td>1000.0</td>\n",
              "      <td>5.0</td>\n",
              "      <td>2ed189768e</td>\n",
              "      <td>2017-03-09 00:37:58</td>\n",
              "      <td>2017-03-09 00:33:53</td>\n",
              "      <td>2017-03-09 00:40:14</td>\n",
              "      <td>2017-03-09 00:38:02</td>\n",
              "      <td>1.0</td>\n",
              "      <td>NaN</td>\n",
              "      <td>1.0</td>\n",
              "      <td>NaN</td>\n",
              "      <td>NaN</td>\n",
              "      <td>NaN</td>\n",
              "      <td>NaN</td>\n",
              "      <td>NaN</td>\n",
              "      <td>NaN</td>\n",
              "      <td>Codenewbie</td>\n",
              "      <td>NaN</td>\n",
              "      <td>NaN</td>\n",
              "      <td>NaN</td>\n",
              "      <td>NaN</td>\n",
              "      <td>1.0</td>\n",
              "      <td>NaN</td>\n",
              "      <td>NaN</td>\n",
              "      <td>1.0</td>\n",
              "      <td>NaN</td>\n",
              "      <td>NaN</td>\n",
              "      <td>1.0</td>\n",
              "      <td>NaN</td>\n",
              "      <td>NaN</td>\n",
              "      <td>1.0</td>\n",
              "      <td>NaN</td>\n",
              "      <td>NaN</td>\n",
              "      <td>NaN</td>\n",
              "      <td>1.0</td>\n",
              "      <td>NaN</td>\n",
              "      <td>NaN</td>\n",
              "      <td>NaN</td>\n",
              "      <td>NaN</td>\n",
              "      <td>NaN</td>\n",
              "      <td>NaN</td>\n",
              "      <td>1.0</td>\n",
              "      <td>1.0</td>\n",
              "      <td>NaN</td>\n",
              "      <td>high school diploma or equivalent (GED)</td>\n",
              "      <td>NaN</td>\n",
              "      <td>NaN</td>\n",
              "      <td>NaN</td>\n",
              "      <td>NaN</td>\n",
              "      <td>1.0</td>\n",
              "      <td>NaN</td>\n",
              "      <td>1.0</td>\n",
              "      <td>1.0</td>\n",
              "      <td>NaN</td>\n",
              "      <td>NaN</td>\n",
              "      <td>NaN</td>\n",
              "      <td>NaN</td>\n",
              "      <td>1.0</td>\n",
              "      <td>1.0</td>\n",
              "      <td>NaN</td>\n",
              "      <td>NaN</td>\n",
              "      <td>NaN</td>\n",
              "      <td>NaN</td>\n",
              "      <td>NaN</td>\n",
              "    </tr>\n",
              "    <tr>\n",
              "      <th>3</th>\n",
              "      <td>26.0</td>\n",
              "      <td>0.0</td>\n",
              "      <td>NaN</td>\n",
              "      <td>NaN</td>\n",
              "      <td>NaN</td>\n",
              "      <td>NaN</td>\n",
              "      <td>NaN</td>\n",
              "      <td>between 100,000 and 1 million</td>\n",
              "      <td>NaN</td>\n",
              "      <td>NaN</td>\n",
              "      <td>NaN</td>\n",
              "      <td>NaN</td>\n",
              "      <td>NaN</td>\n",
              "      <td>NaN</td>\n",
              "      <td>NaN</td>\n",
              "      <td>NaN</td>\n",
              "      <td>NaN</td>\n",
              "      <td>NaN</td>\n",
              "      <td>NaN</td>\n",
              "      <td>NaN</td>\n",
              "      <td>NaN</td>\n",
              "      <td>NaN</td>\n",
              "      <td>NaN</td>\n",
              "      <td>NaN</td>\n",
              "      <td>I work from home</td>\n",
              "      <td>Brazil</td>\n",
              "      <td>Brazil</td>\n",
              "      <td>software development and IT</td>\n",
              "      <td>NaN</td>\n",
              "      <td>Employed for wages</td>\n",
              "      <td>NaN</td>\n",
              "      <td>40000.0</td>\n",
              "      <td>0.0</td>\n",
              "      <td>NaN</td>\n",
              "      <td>male</td>\n",
              "      <td>NaN</td>\n",
              "      <td>0.0</td>\n",
              "      <td>1.0</td>\n",
              "      <td>1.0</td>\n",
              "      <td>1.0</td>\n",
              "      <td>1.0</td>\n",
              "      <td>0.0</td>\n",
              "      <td>0.0</td>\n",
              "      <td>40000.0</td>\n",
              "      <td>14.0</td>\n",
              "      <td>91756eb4dc280062a541c25a3d44cfb0</td>\n",
              "      <td>3be37b558f02daae93a6da10f83f0c77</td>\n",
              "      <td>24000.0</td>\n",
              "      <td>0.0</td>\n",
              "      <td>0.0</td>\n",
              "      <td>0.0</td>\n",
              "      <td>1.0</td>\n",
              "      <td>Within the next 6 months</td>\n",
              "      <td>1.0</td>\n",
              "      <td>NaN</td>\n",
              "      <td>NaN</td>\n",
              "      <td>NaN</td>\n",
              "      <td>1.0</td>\n",
              "      <td>1.0</td>\n",
              "      <td>NaN</td>\n",
              "      <td>NaN</td>\n",
              "      <td>NaN</td>\n",
              "      <td>NaN</td>\n",
              "      <td>NaN</td>\n",
              "      <td>NaN</td>\n",
              "      <td>NaN</td>\n",
              "      <td>work for a medium-sized company</td>\n",
              "      <td>NaN</td>\n",
              "      <td>Front-End Web Developer, Full-Stack Web Deve...</td>\n",
              "      <td>from home</td>\n",
              "      <td>Portuguese</td>\n",
              "      <td>married or domestic partnership</td>\n",
              "      <td>0.0</td>\n",
              "      <td>5.0</td>\n",
              "      <td>dbdc0664d1</td>\n",
              "      <td>2017-03-09 00:40:13</td>\n",
              "      <td>2017-03-09 00:37:45</td>\n",
              "      <td>2017-03-09 00:42:26</td>\n",
              "      <td>2017-03-09 00:40:18</td>\n",
              "      <td>NaN</td>\n",
              "      <td>NaN</td>\n",
              "      <td>NaN</td>\n",
              "      <td>NaN</td>\n",
              "      <td>NaN</td>\n",
              "      <td>NaN</td>\n",
              "      <td>NaN</td>\n",
              "      <td>NaN</td>\n",
              "      <td>NaN</td>\n",
              "      <td>NaN</td>\n",
              "      <td>NaN</td>\n",
              "      <td>NaN</td>\n",
              "      <td>NaN</td>\n",
              "      <td>NaN</td>\n",
              "      <td>NaN</td>\n",
              "      <td>NaN</td>\n",
              "      <td>NaN</td>\n",
              "      <td>NaN</td>\n",
              "      <td>NaN</td>\n",
              "      <td>NaN</td>\n",
              "      <td>NaN</td>\n",
              "      <td>NaN</td>\n",
              "      <td>1.0</td>\n",
              "      <td>1.0</td>\n",
              "      <td>NaN</td>\n",
              "      <td>NaN</td>\n",
              "      <td>NaN</td>\n",
              "      <td>1.0</td>\n",
              "      <td>NaN</td>\n",
              "      <td>NaN</td>\n",
              "      <td>NaN</td>\n",
              "      <td>NaN</td>\n",
              "      <td>1.0</td>\n",
              "      <td>NaN</td>\n",
              "      <td>NaN</td>\n",
              "      <td>NaN</td>\n",
              "      <td>NaN</td>\n",
              "      <td>some college credit, no degree</td>\n",
              "      <td>NaN</td>\n",
              "      <td>NaN</td>\n",
              "      <td>NaN</td>\n",
              "      <td>NaN</td>\n",
              "      <td>NaN</td>\n",
              "      <td>NaN</td>\n",
              "      <td>NaN</td>\n",
              "      <td>1.0</td>\n",
              "      <td>NaN</td>\n",
              "      <td>1.0</td>\n",
              "      <td>1.0</td>\n",
              "      <td>NaN</td>\n",
              "      <td>NaN</td>\n",
              "      <td>1.0</td>\n",
              "      <td>NaN</td>\n",
              "      <td>NaN</td>\n",
              "      <td>NaN</td>\n",
              "      <td>NaN</td>\n",
              "      <td>NaN</td>\n",
              "    </tr>\n",
              "    <tr>\n",
              "      <th>4</th>\n",
              "      <td>20.0</td>\n",
              "      <td>0.0</td>\n",
              "      <td>NaN</td>\n",
              "      <td>NaN</td>\n",
              "      <td>NaN</td>\n",
              "      <td>NaN</td>\n",
              "      <td>NaN</td>\n",
              "      <td>between 100,000 and 1 million</td>\n",
              "      <td>NaN</td>\n",
              "      <td>NaN</td>\n",
              "      <td>NaN</td>\n",
              "      <td>NaN</td>\n",
              "      <td>NaN</td>\n",
              "      <td>NaN</td>\n",
              "      <td>NaN</td>\n",
              "      <td>NaN</td>\n",
              "      <td>NaN</td>\n",
              "      <td>NaN</td>\n",
              "      <td>NaN</td>\n",
              "      <td>NaN</td>\n",
              "      <td>NaN</td>\n",
              "      <td>NaN</td>\n",
              "      <td>NaN</td>\n",
              "      <td>NaN</td>\n",
              "      <td>NaN</td>\n",
              "      <td>Portugal</td>\n",
              "      <td>Portugal</td>\n",
              "      <td>NaN</td>\n",
              "      <td>NaN</td>\n",
              "      <td>Not working but looking for work</td>\n",
              "      <td>NaN</td>\n",
              "      <td>140000.0</td>\n",
              "      <td>NaN</td>\n",
              "      <td>NaN</td>\n",
              "      <td>female</td>\n",
              "      <td>NaN</td>\n",
              "      <td>NaN</td>\n",
              "      <td>0.0</td>\n",
              "      <td>0.0</td>\n",
              "      <td>1.0</td>\n",
              "      <td>NaN</td>\n",
              "      <td>0.0</td>\n",
              "      <td>NaN</td>\n",
              "      <td>NaN</td>\n",
              "      <td>10.0</td>\n",
              "      <td>aa3f061a1949a90b27bef7411ecd193f</td>\n",
              "      <td>d7c56bbf2c7b62096be9db010e86d96d</td>\n",
              "      <td>NaN</td>\n",
              "      <td>0.0</td>\n",
              "      <td>0.0</td>\n",
              "      <td>0.0</td>\n",
              "      <td>NaN</td>\n",
              "      <td>Within 7 to 12 months</td>\n",
              "      <td>1.0</td>\n",
              "      <td>NaN</td>\n",
              "      <td>NaN</td>\n",
              "      <td>NaN</td>\n",
              "      <td>1.0</td>\n",
              "      <td>1.0</td>\n",
              "      <td>NaN</td>\n",
              "      <td>1.0</td>\n",
              "      <td>1.0</td>\n",
              "      <td>NaN</td>\n",
              "      <td>NaN</td>\n",
              "      <td>NaN</td>\n",
              "      <td>NaN</td>\n",
              "      <td>work for a multinational corporation</td>\n",
              "      <td>1.0</td>\n",
              "      <td>Full-Stack Web Developer, Information Security...</td>\n",
              "      <td>in an office with other developers</td>\n",
              "      <td>Portuguese</td>\n",
              "      <td>single, never married</td>\n",
              "      <td>0.0</td>\n",
              "      <td>24.0</td>\n",
              "      <td>11b0f2d8a9</td>\n",
              "      <td>2017-03-09 00:42:45</td>\n",
              "      <td>2017-03-09 00:39:44</td>\n",
              "      <td>2017-03-09 00:45:42</td>\n",
              "      <td>2017-03-09 00:42:50</td>\n",
              "      <td>NaN</td>\n",
              "      <td>NaN</td>\n",
              "      <td>NaN</td>\n",
              "      <td>NaN</td>\n",
              "      <td>NaN</td>\n",
              "      <td>NaN</td>\n",
              "      <td>NaN</td>\n",
              "      <td>NaN</td>\n",
              "      <td>NaN</td>\n",
              "      <td>NaN</td>\n",
              "      <td>NaN</td>\n",
              "      <td>NaN</td>\n",
              "      <td>NaN</td>\n",
              "      <td>NaN</td>\n",
              "      <td>NaN</td>\n",
              "      <td>NaN</td>\n",
              "      <td>NaN</td>\n",
              "      <td>NaN</td>\n",
              "      <td>NaN</td>\n",
              "      <td>NaN</td>\n",
              "      <td>NaN</td>\n",
              "      <td>NaN</td>\n",
              "      <td>NaN</td>\n",
              "      <td>NaN</td>\n",
              "      <td>NaN</td>\n",
              "      <td>NaN</td>\n",
              "      <td>NaN</td>\n",
              "      <td>NaN</td>\n",
              "      <td>NaN</td>\n",
              "      <td>NaN</td>\n",
              "      <td>NaN</td>\n",
              "      <td>NaN</td>\n",
              "      <td>1.0</td>\n",
              "      <td>NaN</td>\n",
              "      <td>NaN</td>\n",
              "      <td>NaN</td>\n",
              "      <td>NaN</td>\n",
              "      <td>bachelor's degree</td>\n",
              "      <td>Information Technology</td>\n",
              "      <td>NaN</td>\n",
              "      <td>NaN</td>\n",
              "      <td>NaN</td>\n",
              "      <td>NaN</td>\n",
              "      <td>NaN</td>\n",
              "      <td>NaN</td>\n",
              "      <td>NaN</td>\n",
              "      <td>NaN</td>\n",
              "      <td>NaN</td>\n",
              "      <td>NaN</td>\n",
              "      <td>NaN</td>\n",
              "      <td>NaN</td>\n",
              "      <td>NaN</td>\n",
              "      <td>NaN</td>\n",
              "      <td>NaN</td>\n",
              "      <td>NaN</td>\n",
              "      <td>NaN</td>\n",
              "      <td>NaN</td>\n",
              "    </tr>\n",
              "  </tbody>\n",
              "</table>\n",
              "</div>\n",
              "      <button class=\"colab-df-convert\" onclick=\"convertToInteractive('df-d7daf5ef-52f8-4d33-a7b4-bf7b1d9dab7a')\"\n",
              "              title=\"Convert this dataframe to an interactive table.\"\n",
              "              style=\"display:none;\">\n",
              "        \n",
              "  <svg xmlns=\"http://www.w3.org/2000/svg\" height=\"24px\"viewBox=\"0 0 24 24\"\n",
              "       width=\"24px\">\n",
              "    <path d=\"M0 0h24v24H0V0z\" fill=\"none\"/>\n",
              "    <path d=\"M18.56 5.44l.94 2.06.94-2.06 2.06-.94-2.06-.94-.94-2.06-.94 2.06-2.06.94zm-11 1L8.5 8.5l.94-2.06 2.06-.94-2.06-.94L8.5 2.5l-.94 2.06-2.06.94zm10 10l.94 2.06.94-2.06 2.06-.94-2.06-.94-.94-2.06-.94 2.06-2.06.94z\"/><path d=\"M17.41 7.96l-1.37-1.37c-.4-.4-.92-.59-1.43-.59-.52 0-1.04.2-1.43.59L10.3 9.45l-7.72 7.72c-.78.78-.78 2.05 0 2.83L4 21.41c.39.39.9.59 1.41.59.51 0 1.02-.2 1.41-.59l7.78-7.78 2.81-2.81c.8-.78.8-2.07 0-2.86zM5.41 20L4 18.59l7.72-7.72 1.47 1.35L5.41 20z\"/>\n",
              "  </svg>\n",
              "      </button>\n",
              "      \n",
              "  <style>\n",
              "    .colab-df-container {\n",
              "      display:flex;\n",
              "      flex-wrap:wrap;\n",
              "      gap: 12px;\n",
              "    }\n",
              "\n",
              "    .colab-df-convert {\n",
              "      background-color: #E8F0FE;\n",
              "      border: none;\n",
              "      border-radius: 50%;\n",
              "      cursor: pointer;\n",
              "      display: none;\n",
              "      fill: #1967D2;\n",
              "      height: 32px;\n",
              "      padding: 0 0 0 0;\n",
              "      width: 32px;\n",
              "    }\n",
              "\n",
              "    .colab-df-convert:hover {\n",
              "      background-color: #E2EBFA;\n",
              "      box-shadow: 0px 1px 2px rgba(60, 64, 67, 0.3), 0px 1px 3px 1px rgba(60, 64, 67, 0.15);\n",
              "      fill: #174EA6;\n",
              "    }\n",
              "\n",
              "    [theme=dark] .colab-df-convert {\n",
              "      background-color: #3B4455;\n",
              "      fill: #D2E3FC;\n",
              "    }\n",
              "\n",
              "    [theme=dark] .colab-df-convert:hover {\n",
              "      background-color: #434B5C;\n",
              "      box-shadow: 0px 1px 3px 1px rgba(0, 0, 0, 0.15);\n",
              "      filter: drop-shadow(0px 1px 2px rgba(0, 0, 0, 0.3));\n",
              "      fill: #FFFFFF;\n",
              "    }\n",
              "  </style>\n",
              "\n",
              "      <script>\n",
              "        const buttonEl =\n",
              "          document.querySelector('#df-d7daf5ef-52f8-4d33-a7b4-bf7b1d9dab7a button.colab-df-convert');\n",
              "        buttonEl.style.display =\n",
              "          google.colab.kernel.accessAllowed ? 'block' : 'none';\n",
              "\n",
              "        async function convertToInteractive(key) {\n",
              "          const element = document.querySelector('#df-d7daf5ef-52f8-4d33-a7b4-bf7b1d9dab7a');\n",
              "          const dataTable =\n",
              "            await google.colab.kernel.invokeFunction('convertToInteractive',\n",
              "                                                     [key], {});\n",
              "          if (!dataTable) return;\n",
              "\n",
              "          const docLinkHtml = 'Like what you see? Visit the ' +\n",
              "            '<a target=\"_blank\" href=https://colab.research.google.com/notebooks/data_table.ipynb>data table notebook</a>'\n",
              "            + ' to learn more about interactive tables.';\n",
              "          element.innerHTML = '';\n",
              "          dataTable['output_type'] = 'display_data';\n",
              "          await google.colab.output.renderOutput(dataTable, element);\n",
              "          const docLink = document.createElement('div');\n",
              "          docLink.innerHTML = docLinkHtml;\n",
              "          element.appendChild(docLink);\n",
              "        }\n",
              "      </script>\n",
              "    </div>\n",
              "  </div>\n",
              "  "
            ]
          },
          "metadata": {},
          "execution_count": 36
        }
      ]
    },
    {
      "cell_type": "code",
      "source": [
        "ncs.dtypes.value_counts()"
      ],
      "metadata": {
        "colab": {
          "base_uri": "https://localhost:8080/"
        },
        "id": "9TpYrVsD2v-i",
        "outputId": "86d50e62-c3a4-4283-d3f6-a2cb68ff55a8"
      },
      "execution_count": null,
      "outputs": [
        {
          "output_type": "execute_result",
          "data": {
            "text/plain": [
              "object     89\n",
              "float64    12\n",
              "dtype: int64"
            ]
          },
          "metadata": {},
          "execution_count": 18
        }
      ]
    },
    {
      "cell_type": "code",
      "source": [
        "float64_cols = ncs.select_dtypes(include=['float64'])\n",
        "print(float64_cols.head())\n"
      ],
      "metadata": {
        "id": "-iP6OXi53oKY",
        "colab": {
          "base_uri": "https://localhost:8080/"
        },
        "outputId": "0f32ebda-ab96-4ea0-c7e0-cc16c31277d8"
      },
      "execution_count": null,
      "outputs": [
        {
          "output_type": "stream",
          "name": "stdout",
          "text": [
            "    Age  AttendedBootcamp  BootcampFinish  BootcampLoanYesNo  \\\n",
            "0  27.0               0.0             NaN                NaN   \n",
            "1  34.0               0.0             NaN                NaN   \n",
            "2  21.0               0.0             NaN                NaN   \n",
            "3  26.0               0.0             NaN                NaN   \n",
            "4  20.0               0.0             NaN                NaN   \n",
            "\n",
            "   BootcampRecommend  ChildrenNumber  CodeEventConferences  \\\n",
            "0                NaN             NaN                   NaN   \n",
            "1                NaN             NaN                   NaN   \n",
            "2                NaN             NaN                   NaN   \n",
            "3                NaN             NaN                   NaN   \n",
            "4                NaN             NaN                   NaN   \n",
            "\n",
            "   CodeEventDjangoGirls  CodeEventFCC  CodeEventGameJam  CodeEventGirlDev  \\\n",
            "0                   NaN           NaN               NaN               NaN   \n",
            "1                   NaN           NaN               NaN               NaN   \n",
            "2                   NaN           NaN               NaN               NaN   \n",
            "3                   NaN           NaN               NaN               NaN   \n",
            "4                   NaN           NaN               NaN               NaN   \n",
            "\n",
            "   CodeEventHackathons  CodeEventMeetup  CodeEventNodeSchool  CodeEventNone  \\\n",
            "0                  NaN              NaN                  NaN            NaN   \n",
            "1                  NaN              NaN                  NaN            NaN   \n",
            "2                  1.0              NaN                  1.0            NaN   \n",
            "3                  NaN              NaN                  NaN            NaN   \n",
            "4                  NaN              NaN                  NaN            NaN   \n",
            "\n",
            "   CodeEventRailsBridge  CodeEventRailsGirls  CodeEventStartUpWknd  \\\n",
            "0                   NaN                  NaN                   NaN   \n",
            "1                   NaN                  NaN                   NaN   \n",
            "2                   NaN                  NaN                   NaN   \n",
            "3                   NaN                  NaN                   NaN   \n",
            "4                   NaN                  NaN                   NaN   \n",
            "\n",
            "   CodeEventWkdBootcamps  CodeEventWomenCode  CodeEventWorkshops  \\\n",
            "0                    NaN                 NaN                 NaN   \n",
            "1                    NaN                 NaN                 NaN   \n",
            "2                    NaN                 NaN                 NaN   \n",
            "3                    NaN                 NaN                 NaN   \n",
            "4                    NaN                 NaN                 NaN   \n",
            "\n",
            "   ExpectedEarning  FinanciallySupporting  FirstDevJob  HasChildren  HasDebt  \\\n",
            "0              NaN                    NaN          NaN          NaN      1.0   \n",
            "1          35000.0                    NaN          NaN          NaN      1.0   \n",
            "2          70000.0                    NaN          NaN          NaN      0.0   \n",
            "3          40000.0                    0.0          NaN          0.0      1.0   \n",
            "4         140000.0                    NaN          NaN          NaN      0.0   \n",
            "\n",
            "   HasFinancialDependents  HasHighSpdInternet  HasHomeMortgage  \\\n",
            "0                     0.0                 1.0              0.0   \n",
            "1                     0.0                 1.0              0.0   \n",
            "2                     0.0                 1.0              NaN   \n",
            "3                     1.0                 1.0              1.0   \n",
            "4                     0.0                 1.0              NaN   \n",
            "\n",
            "   HasServedInMilitary  HasStudentDebt  HomeMortgageOwe  HoursLearning  \\\n",
            "0                  0.0             0.0              NaN           15.0   \n",
            "1                  0.0             1.0              NaN           10.0   \n",
            "2                  0.0             NaN              NaN           25.0   \n",
            "3                  0.0             0.0          40000.0           14.0   \n",
            "4                  0.0             NaN              NaN           10.0   \n",
            "\n",
            "    Income  IsEthnicMinority  IsReceiveDisabilitiesBenefits  IsSoftwareDev  \\\n",
            "0      NaN               NaN                            0.0            0.0   \n",
            "1      NaN               0.0                            0.0            0.0   \n",
            "2  13000.0               1.0                            0.0            0.0   \n",
            "3  24000.0               0.0                            0.0            0.0   \n",
            "4      NaN               0.0                            0.0            0.0   \n",
            "\n",
            "   IsUnderEmployed  JobInterestBackEnd  JobInterestDataEngr  \\\n",
            "0              0.0                 NaN                  NaN   \n",
            "1              NaN                 NaN                  NaN   \n",
            "2              0.0                 1.0                  NaN   \n",
            "3              1.0                 1.0                  NaN   \n",
            "4              NaN                 1.0                  NaN   \n",
            "\n",
            "   JobInterestDataSci  JobInterestDevOps  JobInterestFrontEnd  \\\n",
            "0                 NaN                NaN                  NaN   \n",
            "1                 NaN                NaN                  NaN   \n",
            "2                 NaN                1.0                  1.0   \n",
            "3                 NaN                NaN                  1.0   \n",
            "4                 NaN                NaN                  1.0   \n",
            "\n",
            "   JobInterestFullStack  JobInterestGameDev  JobInterestInfoSec  \\\n",
            "0                   NaN                 NaN                 NaN   \n",
            "1                   1.0                 NaN                 NaN   \n",
            "2                   1.0                 NaN                 NaN   \n",
            "3                   1.0                 NaN                 NaN   \n",
            "4                   1.0                 NaN                 1.0   \n",
            "\n",
            "   JobInterestMobile  JobInterestProjMngr  JobInterestQAEngr  JobInterestUX  \\\n",
            "0                NaN                  NaN                NaN            NaN   \n",
            "1                NaN                  NaN                NaN            NaN   \n",
            "2                1.0                  NaN                NaN            NaN   \n",
            "3                NaN                  NaN                NaN            NaN   \n",
            "4                1.0                  NaN                NaN            NaN   \n",
            "\n",
            "   JobRelocateYesNo  MoneyForLearning  MonthsProgramming  PodcastChangeLog  \\\n",
            "0               NaN             150.0                6.0               NaN   \n",
            "1               1.0              80.0                6.0               NaN   \n",
            "2               1.0            1000.0                5.0               1.0   \n",
            "3               NaN               0.0                5.0               NaN   \n",
            "4               1.0               0.0               24.0               NaN   \n",
            "\n",
            "   PodcastCodeNewbie  PodcastCodePen  PodcastDevTea  PodcastDotNET  \\\n",
            "0                NaN             NaN            1.0            NaN   \n",
            "1                1.0             NaN            NaN            NaN   \n",
            "2                NaN             1.0            NaN            NaN   \n",
            "3                NaN             NaN            NaN            NaN   \n",
            "4                NaN             NaN            NaN            NaN   \n",
            "\n",
            "   PodcastGiantRobots  PodcastJSAir  PodcastJSJabber  PodcastNone  \\\n",
            "0                 NaN           NaN              NaN          NaN   \n",
            "1                 NaN           NaN              NaN          NaN   \n",
            "2                 NaN           NaN              NaN          NaN   \n",
            "3                 NaN           NaN              NaN          NaN   \n",
            "4                 NaN           NaN              NaN          NaN   \n",
            "\n",
            "   PodcastProgThrowdown  PodcastRubyRogues  PodcastSEDaily  PodcastSERadio  \\\n",
            "0                   NaN                NaN             NaN             NaN   \n",
            "1                   NaN                NaN             NaN             NaN   \n",
            "2                   NaN                NaN             NaN             NaN   \n",
            "3                   NaN                NaN             NaN             NaN   \n",
            "4                   NaN                NaN             NaN             NaN   \n",
            "\n",
            "   PodcastShopTalk  PodcastTalkPython  PodcastTheWebAhead  ResourceCodecademy  \\\n",
            "0              NaN                NaN                 NaN                 1.0   \n",
            "1              NaN                NaN                 NaN                 1.0   \n",
            "2              1.0                NaN                 NaN                 1.0   \n",
            "3              NaN                NaN                 NaN                 NaN   \n",
            "4              NaN                NaN                 NaN                 NaN   \n",
            "\n",
            "   ResourceCodeWars  ResourceCoursera  ResourceCSS  ResourceEdX  \\\n",
            "0               NaN               NaN          NaN          NaN   \n",
            "1               NaN               NaN          1.0          NaN   \n",
            "2               NaN               NaN          1.0          NaN   \n",
            "3               NaN               NaN          NaN          NaN   \n",
            "4               NaN               NaN          NaN          NaN   \n",
            "\n",
            "   ResourceEgghead  ResourceFCC  ResourceHackerRank  ResourceKA  \\\n",
            "0              NaN          1.0                 NaN         NaN   \n",
            "1              NaN          1.0                 NaN         NaN   \n",
            "2              NaN          1.0                 NaN         NaN   \n",
            "3              1.0          1.0                 NaN         NaN   \n",
            "4              NaN          NaN                 NaN         NaN   \n",
            "\n",
            "   ResourceLynda  ResourceMDN  ResourceOdinProj  ResourcePluralSight  \\\n",
            "0            NaN          1.0               NaN                  NaN   \n",
            "1            NaN          NaN               NaN                  NaN   \n",
            "2            NaN          1.0               NaN                  NaN   \n",
            "3            NaN          1.0               NaN                  NaN   \n",
            "4            NaN          NaN               NaN                  NaN   \n",
            "\n",
            "   ResourceSkillcrush  ResourceSO  ResourceTreehouse  ResourceUdacity  \\\n",
            "0                 NaN         NaN                NaN              NaN   \n",
            "1                 NaN         1.0                NaN              NaN   \n",
            "2                 NaN         NaN                NaN              1.0   \n",
            "3                 NaN         1.0                NaN              NaN   \n",
            "4                 NaN         1.0                NaN              NaN   \n",
            "\n",
            "   ResourceUdemy  ResourceW3S  StudentDebtOwe  YouTubeCodeCourse  \\\n",
            "0            1.0          1.0             NaN                NaN   \n",
            "1            1.0          1.0             NaN                NaN   \n",
            "2            1.0          NaN             NaN                NaN   \n",
            "3            NaN          NaN             NaN                NaN   \n",
            "4            NaN          NaN             NaN                NaN   \n",
            "\n",
            "   YouTubeCodingTrain  YouTubeCodingTut360  YouTubeComputerphile  \\\n",
            "0                 NaN                  NaN                   NaN   \n",
            "1                 NaN                  NaN                   NaN   \n",
            "2                 NaN                  1.0                   NaN   \n",
            "3                 NaN                  NaN                   NaN   \n",
            "4                 NaN                  NaN                   NaN   \n",
            "\n",
            "   YouTubeDerekBanas  YouTubeDevTips  YouTubeEngineeredTruth  YouTubeFCC  \\\n",
            "0                NaN             NaN                     NaN         NaN   \n",
            "1                NaN             NaN                     NaN         1.0   \n",
            "2                1.0             1.0                     NaN         NaN   \n",
            "3                NaN             1.0                     NaN         1.0   \n",
            "4                NaN             NaN                     NaN         NaN   \n",
            "\n",
            "   YouTubeFunFunFunction  YouTubeGoogleDev  YouTubeLearnCode  \\\n",
            "0                    NaN               NaN               NaN   \n",
            "1                    NaN               NaN               NaN   \n",
            "2                    NaN               NaN               1.0   \n",
            "3                    1.0               NaN               NaN   \n",
            "4                    NaN               NaN               NaN   \n",
            "\n",
            "   YouTubeLevelUpTuts  YouTubeMIT  YouTubeMozillaHacks  YouTubeSimplilearn  \\\n",
            "0                 NaN         NaN                  NaN                 NaN   \n",
            "1                 NaN         NaN                  NaN                 NaN   \n",
            "2                 1.0         NaN                  NaN                 NaN   \n",
            "3                 1.0         NaN                  NaN                 NaN   \n",
            "4                 NaN         NaN                  NaN                 NaN   \n",
            "\n",
            "   YouTubeTheNewBoston  \n",
            "0                  NaN  \n",
            "1                  NaN  \n",
            "2                  NaN  \n",
            "3                  NaN  \n",
            "4                  NaN  \n"
          ]
        }
      ]
    },
    {
      "cell_type": "code",
      "source": [
        "ncs['JobRoleInterest'].value_counts()"
      ],
      "metadata": {
        "colab": {
          "base_uri": "https://localhost:8080/"
        },
        "id": "uGZd8bZQ30SE",
        "outputId": "0684e371-4457-4579-b5f1-84dbe5a5eb2e"
      },
      "execution_count": null,
      "outputs": [
        {
          "output_type": "execute_result",
          "data": {
            "text/plain": [
              "Full-Stack Web Developer                                                                                                                                                                                                                                                                    823\n",
              "  Front-End Web Developer                                                                                                                                                                                                                                                                   450\n",
              "  Data Scientist                                                                                                                                                                                                                                                                            152\n",
              "Back-End Web Developer                                                                                                                                                                                                                                                                      142\n",
              "  Mobile Developer                                                                                                                                                                                                                                                                          117\n",
              "                                                                                                                                                                                                                                                                                           ... \n",
              "  Front-End Web Developer,   DevOps / SysAdmin,   Mobile Developer, Full-Stack Web Developer                                                                                                                                                                                                  1\n",
              "Back-End Web Developer,   Front-End Web Developer, Data Engineer, Full-Stack Web Developer,   Mobile Developer                                                                                                                                                                                1\n",
              "Back-End Web Developer,   User Experience Designer,   Mobile Developer, Game Developer,   Front-End Web Developer, Full-Stack Web Developer                                                                                                                                                   1\n",
              "  Front-End Web Developer,   Mobile Developer, Back-End Web Developer, Full-Stack Web Developer, Data Engineer                                                                                                                                                                                1\n",
              "  DevOps / SysAdmin,   Mobile Developer,   Product Manager, Game Developer,   Front-End Web Developer, Data Engineer,   Quality Assurance Engineer,   User Experience Designer, Back-End Web Developer,   Data Scientist, Full-Stack Web Developer, Information Security, IT specialist       1\n",
              "Name: JobRoleInterest, Length: 3213, dtype: int64"
            ]
          },
          "metadata": {},
          "execution_count": 45
        }
      ]
    },
    {
      "cell_type": "code",
      "source": [
        "# Split each string in the 'JobRoleInterest' column\n",
        "interests_no_nulls = ncs['JobRoleInterest'].dropna()\n",
        "splitted_interests = interests_no_nulls.str.split(',')"
      ],
      "metadata": {
        "id": "ePl3wmjU5lMk"
      },
      "execution_count": null,
      "outputs": []
    },
    {
      "cell_type": "code",
      "source": [
        "splitted_interests.value_counts()"
      ],
      "metadata": {
        "colab": {
          "base_uri": "https://localhost:8080/"
        },
        "id": "kFO_WPEH8_YL",
        "outputId": "a9de620f-60b6-4f62-8617-4634b068f490"
      },
      "execution_count": null,
      "outputs": [
        {
          "output_type": "execute_result",
          "data": {
            "text/plain": [
              "[Full-Stack Web Developer]                                                                                                                                                                                                                                                                                823\n",
              "[  Front-End Web Developer]                                                                                                                                                                                                                                                                               450\n",
              "[  Data Scientist]                                                                                                                                                                                                                                                                                        152\n",
              "[Back-End Web Developer]                                                                                                                                                                                                                                                                                  142\n",
              "[  Mobile Developer]                                                                                                                                                                                                                                                                                      117\n",
              "                                                                                                                                                                                                                                                                                                         ... \n",
              "[  Front-End Web Developer,    DevOps / SysAdmin,    Mobile Developer,  Full-Stack Web Developer]                                                                                                                                                                                                           1\n",
              "[Back-End Web Developer,    Front-End Web Developer,  Data Engineer,  Full-Stack Web Developer,    Mobile Developer]                                                                                                                                                                                        1\n",
              "[Back-End Web Developer,    User Experience Designer,    Mobile Developer,  Game Developer,    Front-End Web Developer,  Full-Stack Web Developer]                                                                                                                                                          1\n",
              "[  Front-End Web Developer,    Mobile Developer,  Back-End Web Developer,  Full-Stack Web Developer,  Data Engineer]                                                                                                                                                                                        1\n",
              "[  DevOps / SysAdmin,    Mobile Developer,    Product Manager,  Game Developer,    Front-End Web Developer,  Data Engineer,    Quality Assurance Engineer,    User Experience Designer,  Back-End Web Developer,    Data Scientist,  Full-Stack Web Developer,  Information Security,  IT specialist ]      1\n",
              "Name: JobRoleInterest, Length: 3213, dtype: int64"
            ]
          },
          "metadata": {},
          "execution_count": 50
        }
      ]
    },
    {
      "cell_type": "markdown",
      "source": [
        "Each value represents how many job interests per surveyee. 31% of participants were interested in one specific type of coding but overall the marjority of participants were interested in several. This could imply broad interest or uncertainity."
      ],
      "metadata": {
        "id": "Al-_YTmB-Ooh"
      }
    },
    {
      "cell_type": "code",
      "source": [
        "n_ops_t = [len(interest) for interest in splitted_interests]\n",
        "n_ops_t = pd.Series(n_ops_t)\n",
        "n_ops_t.value_counts(normalize=True)"
      ],
      "metadata": {
        "colab": {
          "base_uri": "https://localhost:8080/"
        },
        "id": "qTcsf23mAV0B",
        "outputId": "a8f7d2cd-a890-4baf-9607-8d273112acfd"
      },
      "execution_count": null,
      "outputs": [
        {
          "output_type": "execute_result",
          "data": {
            "text/plain": [
              "1     0.316505\n",
              "3     0.158896\n",
              "4     0.152174\n",
              "5     0.120423\n",
              "2     0.108839\n",
              "6     0.067220\n",
              "7     0.038616\n",
              "8     0.017592\n",
              "9     0.009868\n",
              "10    0.004720\n",
              "12    0.003003\n",
              "11    0.001859\n",
              "13    0.000286\n",
              "dtype: float64"
            ]
          },
          "metadata": {},
          "execution_count": 70
        }
      ]
    },
    {
      "cell_type": "code",
      "source": [
        "n_of_options = splitted_interests.apply(lambda x: len(x)) # x is a list of job options\n",
        "n_of_options.value_counts(normalize = True).sort_index() * 100"
      ],
      "metadata": {
        "colab": {
          "base_uri": "https://localhost:8080/"
        },
        "id": "5L6NxA2m9H2E",
        "outputId": "877da5c8-4d7b-4511-f390-17beed80ca5f"
      },
      "execution_count": null,
      "outputs": [
        {
          "output_type": "execute_result",
          "data": {
            "text/plain": [
              "1     31.650458\n",
              "2     10.883867\n",
              "3     15.889588\n",
              "4     15.217391\n",
              "5     12.042334\n",
              "6      6.721968\n",
              "7      3.861556\n",
              "8      1.759153\n",
              "9      0.986842\n",
              "10     0.471968\n",
              "11     0.185927\n",
              "12     0.300343\n",
              "13     0.028604\n",
              "Name: JobRoleInterest, dtype: float64"
            ]
          },
          "metadata": {},
          "execution_count": 51
        }
      ]
    },
    {
      "cell_type": "code",
      "source": [
        "style.use('dark_background')\n",
        "pd.Series(n_of_options.value_counts(normalize = True).sort_index() * 100).plot.bar(color='red')\n",
        "plt.title('Job Interests / Participant')\n",
        "plt.xlabel('Interest Length')\n",
        "plt.ylabel('Percentages')"
      ],
      "metadata": {
        "colab": {
          "base_uri": "https://localhost:8080/",
          "height": 493
        },
        "id": "L5uT7DqA92Py",
        "outputId": "2d3c7425-bb00-4acc-8949-27c05d99db56"
      },
      "execution_count": null,
      "outputs": [
        {
          "output_type": "execute_result",
          "data": {
            "text/plain": [
              "Text(0, 0.5, 'Percentages')"
            ]
          },
          "metadata": {},
          "execution_count": 63
        },
        {
          "output_type": "display_data",
          "data": {
            "text/plain": [
              "<Figure size 640x480 with 1 Axes>"
            ],
            "image/png": "[encoded data removed]"
          },
          "metadata": {}
        }
      ]
    },
    {
      "cell_type": "markdown",
      "source": [
        "CountryCitizen CountryLive"
      ],
      "metadata": {
        "id": "R208JpsVB6tp"
      }
    },
    {
      "cell_type": "code",
      "source": [
        "nationality_fq = ncs['CountryCitizen'].value_counts()\n",
        "print(nationality_fq)"
      ],
      "metadata": {
        "id": "M0Q-bCuE-ozm",
        "colab": {
          "base_uri": "https://localhost:8080/"
        },
        "outputId": "e390c9e5-0f96-4dcc-830a-00a6e06e6643"
      },
      "execution_count": null,
      "outputs": [
        {
          "output_type": "stream",
          "name": "stdout",
          "text": [
            "United States of America    5480\n",
            "India                       1594\n",
            "United Kingdom               640\n",
            "Canada                       564\n",
            "Brazil                       399\n",
            "                            ... \n",
            "Pitcairn Island                1\n",
            "Aruba                          1\n",
            "Central African Republic       1\n",
            "Norfolk Island                 1\n",
            "Brunei                         1\n",
            "Name: CountryCitizen, Length: 181, dtype: int64\n"
          ]
        }
      ]
    },
    {
      "cell_type": "code",
      "source": [
        "country_residence = ncs['CountryLive'].value_counts()\n",
        "print(country_residence)"
      ],
      "metadata": {
        "id": "jygWFh9z-0xa",
        "colab": {
          "base_uri": "https://localhost:8080/"
        },
        "outputId": "5d39b8ad-f75d-4a1c-8d85-d40f7d1e241c"
      },
      "execution_count": null,
      "outputs": [
        {
          "output_type": "stream",
          "name": "stdout",
          "text": [
            "United States of America    5791\n",
            "India                       1400\n",
            "United Kingdom               757\n",
            "Canada                       616\n",
            "Brazil                       364\n",
            "                            ... \n",
            "Liberia                        1\n",
            "Guadeloupe                     1\n",
            "Curacao                        1\n",
            "Gibraltar                      1\n",
            "Hawaii                         1\n",
            "Name: CountryLive, Length: 172, dtype: int64\n"
          ]
        }
      ]
    },
    {
      "cell_type": "code",
      "source": [
        "country_residence_pct = ncs['CountryLive'].value_counts(normalize=True)\n",
        "print(country_residence_pct)"
      ],
      "metadata": {
        "colab": {
          "base_uri": "https://localhost:8080/"
        },
        "id": "xiBwMKpgC3Pq",
        "outputId": "bab31edc-8cf4-4c11-c85b-de14c4237157"
      },
      "execution_count": null,
      "outputs": [
        {
          "output_type": "stream",
          "name": "stdout",
          "text": [
            "United States of America    0.377608\n",
            "India                       0.091288\n",
            "United Kingdom              0.049361\n",
            "Canada                      0.040167\n",
            "Brazil                      0.023735\n",
            "                              ...   \n",
            "Liberia                     0.000065\n",
            "Guadeloupe                  0.000065\n",
            "Curacao                     0.000065\n",
            "Gibraltar                   0.000065\n",
            "Hawaii                      0.000065\n",
            "Name: CountryLive, Length: 172, dtype: float64\n"
          ]
        }
      ]
    },
    {
      "cell_type": "code",
      "source": [
        "# ncs['MoneyForLearning'].value_counts()\n",
        "country_india = ncs.query(\"`CountryLive` == 'India'\")['MoneyForLearning']\n",
        "country_india.value_counts(normalize='True')"
      ],
      "metadata": {
        "colab": {
          "base_uri": "https://localhost:8080/"
        },
        "id": "28fMrzBEDcid",
        "outputId": "f6125fe5-e89e-40a9-8708-65f1cb90e926"
      },
      "execution_count": null,
      "outputs": [
        {
          "output_type": "execute_result",
          "data": {
            "text/plain": [
              "0.0       0.570513\n",
              "100.0     0.071314\n",
              "500.0     0.035256\n",
              "200.0     0.033654\n",
              "1000.0    0.032051\n",
              "            ...   \n",
              "460.0     0.000801\n",
              "35.0      0.000801\n",
              "6.0       0.000801\n",
              "1150.0    0.000801\n",
              "550.0     0.000801\n",
              "Name: MoneyForLearning, Length: 96, dtype: float64"
            ]
          },
          "metadata": {},
          "execution_count": 103
        }
      ]
    },
    {
      "cell_type": "markdown",
      "source": [
        "There is a max value of 100000 which is bringing the mean up."
      ],
      "metadata": {
        "id": "R78mRXqxGqrD"
      }
    },
    {
      "cell_type": "code",
      "source": [
        "country_india.describe()"
      ],
      "metadata": {
        "colab": {
          "base_uri": "https://localhost:8080/"
        },
        "id": "Qmld99XQF2Am",
        "outputId": "581eea9b-13e1-4780-bd10-0db8f51d2577"
      },
      "execution_count": null,
      "outputs": [
        {
          "output_type": "execute_result",
          "data": {
            "text/plain": [
              "count      1248.000000\n",
              "mean        447.001603\n",
              "std        3505.902546\n",
              "min           0.000000\n",
              "25%           0.000000\n",
              "50%           0.000000\n",
              "75%         100.000000\n",
              "max      100000.000000\n",
              "Name: MoneyForLearning, dtype: float64"
            ]
          },
          "metadata": {},
          "execution_count": 104
        }
      ]
    },
    {
      "cell_type": "code",
      "source": [
        "country_india_over500 = ncs.query(\"`CountryLive` == 'India' and `MoneyForLearning` > 500\")\n",
        "country_india_over500.shape"
      ],
      "metadata": {
        "colab": {
          "base_uri": "https://localhost:8080/"
        },
        "id": "MqcbZm9gGjx_",
        "outputId": "bd30c950-748e-4285-970e-782c0aaa11d7"
      },
      "execution_count": null,
      "outputs": [
        {
          "output_type": "execute_result",
          "data": {
            "text/plain": [
              "(121, 136)"
            ]
          },
          "metadata": {},
          "execution_count": 116
        }
      ]
    },
    {
      "cell_type": "code",
      "source": [
        "country_uk = ncs.query(\"`CountryLive` == 'United Kingdom'\")['MoneyForLearning']\n",
        "country_uk.value_counts(normalize='True')"
      ],
      "metadata": {
        "colab": {
          "base_uri": "https://localhost:8080/"
        },
        "id": "GSVPtha7G_4f",
        "outputId": "b23af716-56ac-4dee-fd7a-018cd417e233"
      },
      "execution_count": null,
      "outputs": [
        {
          "output_type": "execute_result",
          "data": {
            "text/plain": [
              "0.0        0.478933\n",
              "100.0      0.067416\n",
              "200.0      0.050562\n",
              "50.0       0.042135\n",
              "500.0      0.037921\n",
              "             ...   \n",
              "15000.0    0.001404\n",
              "26.0       0.001404\n",
              "18.0       0.001404\n",
              "49.0       0.001404\n",
              "140.0      0.001404\n",
              "Name: MoneyForLearning, Length: 73, dtype: float64"
            ]
          },
          "metadata": {},
          "execution_count": 115
        }
      ]
    },
    {
      "cell_type": "code",
      "source": [
        "country_uk_over500 = ncs.query(\"`CountryLive` == 'United Kingdom' and `MoneyForLearning` > 500\")\n",
        "country_uk_over500.shape"
      ],
      "metadata": {
        "colab": {
          "base_uri": "https://localhost:8080/"
        },
        "id": "Y3XUj7NnHte9",
        "outputId": "6aa27ea9-e604-4798-b00e-f41b35f0d68c"
      },
      "execution_count": null,
      "outputs": [
        {
          "output_type": "execute_result",
          "data": {
            "text/plain": [
              "(86, 136)"
            ]
          },
          "metadata": {},
          "execution_count": 119
        }
      ]
    },
    {
      "cell_type": "code",
      "source": [
        "pd.Series(country_india).plot.kde(xlim = (0, 10000), label = 'India')\n",
        "pd.Series(country_uk).plot.kde(xlim = (0, 10000), label = 'UK')\n",
        "plt.legend()"
      ],
      "metadata": {
        "colab": {
          "base_uri": "https://localhost:8080/",
          "height": 451
        },
        "id": "brjB-8mvIolG",
        "outputId": "dff52e6d-874e-48b4-8364-69fb7d16cd13"
      },
      "execution_count": null,
      "outputs": [
        {
          "output_type": "execute_result",
          "data": {
            "text/plain": [
              "<matplotlib.legend.Legend at 0x7f7b2720f7c0>"
            ]
          },
          "metadata": {},
          "execution_count": 132
        },
        {
          "output_type": "display_data",
          "data": {
            "text/plain": [
              "<Figure size 640x480 with 1 Axes>"
            ],
            "image/png": "[encoded data removed]"
          },
          "metadata": {}
        }
      ]
    },
    {
      "cell_type": "code",
      "source": [
        "country_india_pay = ncs.query(\"`CountryLive` == 'India' and `MoneyForLearning` > 0\")['MoneyForLearning']\n",
        "country_uk_pay = ncs.query(\"`CountryLive` == 'United Kingdom' and `MoneyForLearning` > 0\")['MoneyForLearning']"
      ],
      "metadata": {
        "id": "Mptk3BBwJGqG"
      },
      "execution_count": null,
      "outputs": []
    },
    {
      "cell_type": "code",
      "source": [
        "country_india_pay.shape\n"
      ],
      "metadata": {
        "id": "RBFhC5onKl-9"
      },
      "execution_count": null,
      "outputs": []
    },
    {
      "cell_type": "code",
      "source": [
        "country_uk_pay.shape"
      ],
      "metadata": {
        "id": "_px4jLUdK1Qs"
      },
      "execution_count": null,
      "outputs": []
    },
    {
      "cell_type": "code",
      "source": [
        "print(country_india_pay)"
      ],
      "metadata": {
        "id": "JHneD7Y9LaMW"
      },
      "execution_count": null,
      "outputs": []
    },
    {
      "cell_type": "code",
      "source": [
        "pd.Series(country_india_pay).plot.kde(xlim = (0, 10000), label = 'India')\n",
        "pd.Series(country_uk_pay).plot.kde(xlim = (0, 10000), label = 'UK')\n",
        "plt.legend()"
      ],
      "metadata": {
        "id": "gdB7c4G8LehE",
        "colab": {
          "base_uri": "https://localhost:8080/",
          "height": 451
        },
        "outputId": "c73abb99-605e-4d2c-f129-24b93a1d0abf"
      },
      "execution_count": 153,
      "outputs": [
        {
          "output_type": "execute_result",
          "data": {
            "text/plain": [
              "<matplotlib.legend.Legend at 0x7f7b28311b10>"
            ]
          },
          "metadata": {},
          "execution_count": 153
        },
        {
          "output_type": "display_data",
          "data": {
            "text/plain": [
              "<Figure size 640x480 with 1 Axes>"
            ],
            "image/png": "[encoded data removed]"
          },
          "metadata": {}
        }
      ]
    },
    {
      "cell_type": "code",
      "source": [
        "highest_budget_countries = ncs.query('`MoneyForLearning` > 500')['CountryLive']"
      ],
      "metadata": {
        "id": "pLVy2NPEML5H"
      },
      "execution_count": 156,
      "outputs": []
    },
    {
      "cell_type": "code",
      "source": [
        "highest_budget_countries.value_counts()"
      ],
      "metadata": {
        "colab": {
          "base_uri": "https://localhost:8080/"
        },
        "id": "acOiY3hKMnWe",
        "outputId": "21115d9d-eb4a-47bd-deab-3a2962ff19dd"
      },
      "execution_count": 157,
      "outputs": [
        {
          "output_type": "execute_result",
          "data": {
            "text/plain": [
              "United States of America    1110\n",
              "India                        121\n",
              "Canada                       118\n",
              "United Kingdom                86\n",
              "Spain                         60\n",
              "                            ... \n",
              "Yemen                          1\n",
              "Angola                         1\n",
              "Algeria                        1\n",
              "Puerto Rico                    1\n",
              "Iraq                           1\n",
              "Name: CountryLive, Length: 113, dtype: int64"
            ]
          },
          "metadata": {},
          "execution_count": 157
        }
      ]
    },
    {
      "cell_type": "code",
      "source": [
        "money_for_learning = ncs.query('`MoneyForLearning` > 0')['CountryLive']"
      ],
      "metadata": {
        "id": "9lXb58w0MxSI"
      },
      "execution_count": 159,
      "outputs": []
    },
    {
      "cell_type": "code",
      "source": [
        "money_for_learning.value_counts()"
      ],
      "metadata": {
        "colab": {
          "base_uri": "https://localhost:8080/"
        },
        "id": "GeQ5Cp2vM7qJ",
        "outputId": "3fadc69b-7703-421b-f925-f2315e5cf9c8"
      },
      "execution_count": 160,
      "outputs": [
        {
          "output_type": "execute_result",
          "data": {
            "text/plain": [
              "United States of America    3197\n",
              "India                        536\n",
              "United Kingdom               371\n",
              "Canada                       307\n",
              "Brazil                       182\n",
              "                            ... \n",
              "Gibraltar                      1\n",
              "Yemen                          1\n",
              "Ethiopia                       1\n",
              "Armenia                        1\n",
              "Gambia                         1\n",
              "Name: CountryLive, Length: 147, dtype: int64"
            ]
          },
          "metadata": {},
          "execution_count": 160
        }
      ]
    },
    {
      "cell_type": "markdown",
      "source": [
        "India is the best market after the United States to advertise in, it has the next most amount of students willing to spend money on learning and it also has second to the United States in people willing to spend money on learning."
      ],
      "metadata": {
        "id": "fvHutWU8NIKK"
      }
    },
    {
      "cell_type": "code",
      "source": [
        "us_avg_school_budget = ncs.query(\"`CountryLive` == 'United States of America'\")['MoneyForLearning'].mean()\n",
        "us_avg_school_budget"
      ],
      "metadata": {
        "colab": {
          "base_uri": "https://localhost:8080/"
        },
        "id": "ZOmTc0YBNDa5",
        "outputId": "a642d8cd-1a56-4e2f-ed0b-ae62b6e3b797"
      },
      "execution_count": 178,
      "outputs": [
        {
          "output_type": "execute_result",
          "data": {
            "text/plain": [
              "1509.617299426934"
            ]
          },
          "metadata": {},
          "execution_count": 178
        }
      ]
    },
    {
      "cell_type": "code",
      "source": [
        "india_avg_school_budget = ncs.query(\"`CountryLive` == 'India'\")['MoneyForLearning'].mean()\n",
        "india_avg_school_budget"
      ],
      "metadata": {
        "colab": {
          "base_uri": "https://localhost:8080/"
        },
        "id": "oP65EBl-f0I4",
        "outputId": "830d4cb5-12ea-4db1-bfcc-d912fed5ea90"
      },
      "execution_count": 179,
      "outputs": [
        {
          "output_type": "execute_result",
          "data": {
            "text/plain": [
              "447.00160256410254"
            ]
          },
          "metadata": {},
          "execution_count": 179
        }
      ]
    },
    {
      "cell_type": "code",
      "source": [
        "us_buyer_avg_budget = ncs.query(\"`CountryLive` == 'United States of America' and `MoneyForLearning` > 0\")['MoneyForLearning'].mean()\n",
        "us_buyer_avg_budget"
      ],
      "metadata": {
        "colab": {
          "base_uri": "https://localhost:8080/"
        },
        "id": "i1SaP9Kbc1Mn",
        "outputId": "23e13c91-056d-4b46-efe7-484ee1e4d30c"
      },
      "execution_count": 185,
      "outputs": [
        {
          "output_type": "execute_result",
          "data": {
            "text/plain": [
              "2636.7541445104785"
            ]
          },
          "metadata": {},
          "execution_count": 185
        }
      ]
    },
    {
      "cell_type": "code",
      "source": [
        "india_buyer_avg_budget = ncs.query(\"`CountryLive` == 'India' and `MoneyForLearning` > 0\")['MoneyForLearning'].mean()\n",
        "uk_buyer_avg_budget = ncs.query(\"`CountryLive` == 'United Kingdom' and `MoneyForLearning` > 0\")['MoneyForLearning'].mean()"
      ],
      "metadata": {
        "id": "HQv7-Oi3hUym"
      },
      "execution_count": 187,
      "outputs": []
    },
    {
      "cell_type": "code",
      "source": [
        "print(india_buyer_avg_budget, uk_buyer_avg_budget, sep='\\n')"
      ],
      "metadata": {
        "colab": {
          "base_uri": "https://localhost:8080/"
        },
        "id": "efg8qw4KjHPP",
        "outputId": "45cf55e2-36ee-4747-af18-64b7687ccc0f"
      },
      "execution_count": 188,
      "outputs": [
        {
          "output_type": "stream",
          "name": "stdout",
          "text": [
            "1040.7798507462687\n",
            "902.9353099730458\n"
          ]
        }
      ]
    },
    {
      "cell_type": "code",
      "source": [
        "ncs['MonthsProgramming'].describe()"
      ],
      "metadata": {
        "colab": {
          "base_uri": "https://localhost:8080/"
        },
        "id": "9GFwlDIEjPmi",
        "outputId": "10a7d5da-a81e-49e7-8ced-71c7ba2d607a"
      },
      "execution_count": 190,
      "outputs": [
        {
          "output_type": "execute_result",
          "data": {
            "text/plain": [
              "count    17084.000000\n",
              "mean        20.790447\n",
              "std         41.722826\n",
              "min          0.000000\n",
              "25%          3.000000\n",
              "50%          9.000000\n",
              "75%         24.000000\n",
              "max        744.000000\n",
              "Name: MonthsProgramming, dtype: float64"
            ]
          },
          "metadata": {},
          "execution_count": 190
        }
      ]
    },
    {
      "cell_type": "code",
      "source": [
        "ncs['MonthsProgramming'] = ncs['MonthsProgramming'].replace(0, 1)\n"
      ],
      "metadata": {
        "id": "BrqA6P42jq2t"
      },
      "execution_count": 191,
      "outputs": []
    },
    {
      "cell_type": "markdown",
      "source": [
        "Months programming 0 is indicative of someone who just started - to avoid dividing by 0 we are gonna convert the minimum value to 1"
      ],
      "metadata": {
        "id": "WF2hlFQskjpL"
      }
    },
    {
      "cell_type": "code",
      "source": [
        "ncs['MonthsProgramming'].describe()"
      ],
      "metadata": {
        "colab": {
          "base_uri": "https://localhost:8080/"
        },
        "id": "_EHMT5jAkdeq",
        "outputId": "e93c93f4-f500-4bb7-a0c9-b8a62f690f14"
      },
      "execution_count": 192,
      "outputs": [
        {
          "output_type": "execute_result",
          "data": {
            "text/plain": [
              "count    17084.000000\n",
              "mean        20.824280\n",
              "std         41.706355\n",
              "min          1.000000\n",
              "25%          3.000000\n",
              "50%          9.000000\n",
              "75%         24.000000\n",
              "max        744.000000\n",
              "Name: MonthsProgramming, dtype: float64"
            ]
          },
          "metadata": {},
          "execution_count": 192
        }
      ]
    },
    {
      "cell_type": "markdown",
      "source": [],
      "metadata": {
        "id": "7PAM4KfLlHks"
      }
    },
    {
      "cell_type": "code",
      "source": [
        "pct_null2 = ncs.notnull().sum() / ncs.sum()"
      ],
      "metadata": {
        "colab": {
          "base_uri": "https://localhost:8080/",
          "height": 448
        },
        "id": "Gcrm7Zqqm0W_",
        "outputId": "55726464-a066-473b-e6f4-8db8c3716110"
      },
      "execution_count": 204,
      "outputs": [
        {
          "output_type": "error",
          "ename": "TypeError",
          "evalue": "ignored",
          "traceback": [
            "\u001b[0;31m---------------------------------------------------------------------------\u001b[0m",
            "\u001b[0;31mTypeError\u001b[0m                                 Traceback (most recent call last)",
            "\u001b[0;32m/usr/local/lib/python3.10/dist-packages/pandas/core/ops/array_ops.py\u001b[0m in \u001b[0;36m_na_arithmetic_op\u001b[0;34m(left, right, op, is_cmp)\u001b[0m\n\u001b[1;32m    164\u001b[0m     \u001b[0;32mtry\u001b[0m\u001b[0;34m:\u001b[0m\u001b[0;34m\u001b[0m\u001b[0;34m\u001b[0m\u001b[0m\n\u001b[0;32m--> 165\u001b[0;31m         \u001b[0mresult\u001b[0m \u001b[0;34m=\u001b[0m \u001b[0mfunc\u001b[0m\u001b[0;34m(\u001b[0m\u001b[0mleft\u001b[0m\u001b[0;34m,\u001b[0m \u001b[0mright\u001b[0m\u001b[0;34m)\u001b[0m\u001b[0;34m\u001b[0m\u001b[0;34m\u001b[0m\u001b[0m\n\u001b[0m\u001b[1;32m    166\u001b[0m     \u001b[0;32mexcept\u001b[0m \u001b[0mTypeError\u001b[0m\u001b[0;34m:\u001b[0m\u001b[0;34m\u001b[0m\u001b[0;34m\u001b[0m\u001b[0m\n",
            "\u001b[0;32m/usr/local/lib/python3.10/dist-packages/pandas/core/computation/expressions.py\u001b[0m in \u001b[0;36mevaluate\u001b[0;34m(op, a, b, use_numexpr)\u001b[0m\n\u001b[1;32m    240\u001b[0m             \u001b[0;31m# error: \"None\" not callable\u001b[0m\u001b[0;34m\u001b[0m\u001b[0;34m\u001b[0m\u001b[0m\n\u001b[0;32m--> 241\u001b[0;31m             \u001b[0;32mreturn\u001b[0m \u001b[0m_evaluate\u001b[0m\u001b[0;34m(\u001b[0m\u001b[0mop\u001b[0m\u001b[0;34m,\u001b[0m \u001b[0mop_str\u001b[0m\u001b[0;34m,\u001b[0m \u001b[0ma\u001b[0m\u001b[0;34m,\u001b[0m \u001b[0mb\u001b[0m\u001b[0;34m)\u001b[0m  \u001b[0;31m# type: ignore[misc]\u001b[0m\u001b[0;34m\u001b[0m\u001b[0;34m\u001b[0m\u001b[0m\n\u001b[0m\u001b[1;32m    242\u001b[0m     \u001b[0;32mreturn\u001b[0m \u001b[0m_evaluate_standard\u001b[0m\u001b[0;34m(\u001b[0m\u001b[0mop\u001b[0m\u001b[0;34m,\u001b[0m \u001b[0mop_str\u001b[0m\u001b[0;34m,\u001b[0m \u001b[0ma\u001b[0m\u001b[0;34m,\u001b[0m \u001b[0mb\u001b[0m\u001b[0;34m)\u001b[0m\u001b[0;34m\u001b[0m\u001b[0;34m\u001b[0m\u001b[0m\n",
            "\u001b[0;32m/usr/local/lib/python3.10/dist-packages/pandas/core/computation/expressions.py\u001b[0m in \u001b[0;36m_evaluate_numexpr\u001b[0;34m(op, op_str, a, b)\u001b[0m\n\u001b[1;32m    128\u001b[0m     \u001b[0;32mif\u001b[0m \u001b[0mresult\u001b[0m \u001b[0;32mis\u001b[0m \u001b[0;32mNone\u001b[0m\u001b[0;34m:\u001b[0m\u001b[0;34m\u001b[0m\u001b[0;34m\u001b[0m\u001b[0m\n\u001b[0;32m--> 129\u001b[0;31m         \u001b[0mresult\u001b[0m \u001b[0;34m=\u001b[0m \u001b[0m_evaluate_standard\u001b[0m\u001b[0;34m(\u001b[0m\u001b[0mop\u001b[0m\u001b[0;34m,\u001b[0m \u001b[0mop_str\u001b[0m\u001b[0;34m,\u001b[0m \u001b[0ma\u001b[0m\u001b[0;34m,\u001b[0m \u001b[0mb\u001b[0m\u001b[0;34m)\u001b[0m\u001b[0;34m\u001b[0m\u001b[0;34m\u001b[0m\u001b[0m\n\u001b[0m\u001b[1;32m    130\u001b[0m \u001b[0;34m\u001b[0m\u001b[0m\n",
            "\u001b[0;32m/usr/local/lib/python3.10/dist-packages/pandas/core/computation/expressions.py\u001b[0m in \u001b[0;36m_evaluate_standard\u001b[0;34m(op, op_str, a, b)\u001b[0m\n\u001b[1;32m     69\u001b[0m         \u001b[0m_store_test_result\u001b[0m\u001b[0;34m(\u001b[0m\u001b[0;32mFalse\u001b[0m\u001b[0;34m)\u001b[0m\u001b[0;34m\u001b[0m\u001b[0;34m\u001b[0m\u001b[0m\n\u001b[0;32m---> 70\u001b[0;31m     \u001b[0;32mreturn\u001b[0m \u001b[0mop\u001b[0m\u001b[0;34m(\u001b[0m\u001b[0ma\u001b[0m\u001b[0;34m,\u001b[0m \u001b[0mb\u001b[0m\u001b[0;34m)\u001b[0m\u001b[0;34m\u001b[0m\u001b[0;34m\u001b[0m\u001b[0m\n\u001b[0m\u001b[1;32m     71\u001b[0m \u001b[0;34m\u001b[0m\u001b[0m\n",
            "\u001b[0;31mTypeError\u001b[0m: unsupported operand type(s) for /: 'int' and 'str'",
            "\nDuring handling of the above exception, another exception occurred:\n",
            "\u001b[0;31mTypeError\u001b[0m                                 Traceback (most recent call last)",
            "\u001b[0;32m<ipython-input-204-cff8cb83f198>\u001b[0m in \u001b[0;36m<cell line: 1>\u001b[0;34m()\u001b[0m\n\u001b[0;32m----> 1\u001b[0;31m \u001b[0mpct_null2\u001b[0m \u001b[0;34m=\u001b[0m \u001b[0mncs\u001b[0m\u001b[0;34m.\u001b[0m\u001b[0mnotnull\u001b[0m\u001b[0;34m(\u001b[0m\u001b[0;34m)\u001b[0m\u001b[0;34m.\u001b[0m\u001b[0msum\u001b[0m\u001b[0;34m(\u001b[0m\u001b[0;34m)\u001b[0m \u001b[0;34m/\u001b[0m \u001b[0mncs\u001b[0m\u001b[0;34m.\u001b[0m\u001b[0msum\u001b[0m\u001b[0;34m(\u001b[0m\u001b[0;34m)\u001b[0m\u001b[0;34m\u001b[0m\u001b[0;34m\u001b[0m\u001b[0m\n\u001b[0m",
            "\u001b[0;32m/usr/local/lib/python3.10/dist-packages/pandas/core/ops/common.py\u001b[0m in \u001b[0;36mnew_method\u001b[0;34m(self, other)\u001b[0m\n\u001b[1;32m     70\u001b[0m         \u001b[0mother\u001b[0m \u001b[0;34m=\u001b[0m \u001b[0mitem_from_zerodim\u001b[0m\u001b[0;34m(\u001b[0m\u001b[0mother\u001b[0m\u001b[0;34m)\u001b[0m\u001b[0;34m\u001b[0m\u001b[0;34m\u001b[0m\u001b[0m\n\u001b[1;32m     71\u001b[0m \u001b[0;34m\u001b[0m\u001b[0m\n\u001b[0;32m---> 72\u001b[0;31m         \u001b[0;32mreturn\u001b[0m \u001b[0mmethod\u001b[0m\u001b[0;34m(\u001b[0m\u001b[0mself\u001b[0m\u001b[0;34m,\u001b[0m \u001b[0mother\u001b[0m\u001b[0;34m)\u001b[0m\u001b[0;34m\u001b[0m\u001b[0;34m\u001b[0m\u001b[0m\n\u001b[0m\u001b[1;32m     73\u001b[0m \u001b[0;34m\u001b[0m\u001b[0m\n\u001b[1;32m     74\u001b[0m     \u001b[0;32mreturn\u001b[0m \u001b[0mnew_method\u001b[0m\u001b[0;34m\u001b[0m\u001b[0;34m\u001b[0m\u001b[0m\n",
            "\u001b[0;32m/usr/local/lib/python3.10/dist-packages/pandas/core/arraylike.py\u001b[0m in \u001b[0;36m__truediv__\u001b[0;34m(self, other)\u001b[0m\n\u001b[1;32m    124\u001b[0m     \u001b[0;34m@\u001b[0m\u001b[0munpack_zerodim_and_defer\u001b[0m\u001b[0;34m(\u001b[0m\u001b[0;34m\"__truediv__\"\u001b[0m\u001b[0;34m)\u001b[0m\u001b[0;34m\u001b[0m\u001b[0;34m\u001b[0m\u001b[0m\n\u001b[1;32m    125\u001b[0m     \u001b[0;32mdef\u001b[0m \u001b[0m__truediv__\u001b[0m\u001b[0;34m(\u001b[0m\u001b[0mself\u001b[0m\u001b[0;34m,\u001b[0m \u001b[0mother\u001b[0m\u001b[0;34m)\u001b[0m\u001b[0;34m:\u001b[0m\u001b[0;34m\u001b[0m\u001b[0;34m\u001b[0m\u001b[0m\n\u001b[0;32m--> 126\u001b[0;31m         \u001b[0;32mreturn\u001b[0m \u001b[0mself\u001b[0m\u001b[0;34m.\u001b[0m\u001b[0m_arith_method\u001b[0m\u001b[0;34m(\u001b[0m\u001b[0mother\u001b[0m\u001b[0;34m,\u001b[0m \u001b[0moperator\u001b[0m\u001b[0;34m.\u001b[0m\u001b[0mtruediv\u001b[0m\u001b[0;34m)\u001b[0m\u001b[0;34m\u001b[0m\u001b[0;34m\u001b[0m\u001b[0m\n\u001b[0m\u001b[1;32m    127\u001b[0m \u001b[0;34m\u001b[0m\u001b[0m\n\u001b[1;32m    128\u001b[0m     \u001b[0;34m@\u001b[0m\u001b[0munpack_zerodim_and_defer\u001b[0m\u001b[0;34m(\u001b[0m\u001b[0;34m\"__rtruediv__\"\u001b[0m\u001b[0;34m)\u001b[0m\u001b[0;34m\u001b[0m\u001b[0;34m\u001b[0m\u001b[0m\n",
            "\u001b[0;32m/usr/local/lib/python3.10/dist-packages/pandas/core/series.py\u001b[0m in \u001b[0;36m_arith_method\u001b[0;34m(self, other, op)\u001b[0m\n\u001b[1;32m   6257\u001b[0m     \u001b[0;32mdef\u001b[0m \u001b[0m_arith_method\u001b[0m\u001b[0;34m(\u001b[0m\u001b[0mself\u001b[0m\u001b[0;34m,\u001b[0m \u001b[0mother\u001b[0m\u001b[0;34m,\u001b[0m \u001b[0mop\u001b[0m\u001b[0;34m)\u001b[0m\u001b[0;34m:\u001b[0m\u001b[0;34m\u001b[0m\u001b[0;34m\u001b[0m\u001b[0m\n\u001b[1;32m   6258\u001b[0m         \u001b[0mself\u001b[0m\u001b[0;34m,\u001b[0m \u001b[0mother\u001b[0m \u001b[0;34m=\u001b[0m \u001b[0mops\u001b[0m\u001b[0;34m.\u001b[0m\u001b[0malign_method_SERIES\u001b[0m\u001b[0;34m(\u001b[0m\u001b[0mself\u001b[0m\u001b[0;34m,\u001b[0m \u001b[0mother\u001b[0m\u001b[0;34m)\u001b[0m\u001b[0;34m\u001b[0m\u001b[0;34m\u001b[0m\u001b[0m\n\u001b[0;32m-> 6259\u001b[0;31m         \u001b[0;32mreturn\u001b[0m \u001b[0mbase\u001b[0m\u001b[0;34m.\u001b[0m\u001b[0mIndexOpsMixin\u001b[0m\u001b[0;34m.\u001b[0m\u001b[0m_arith_method\u001b[0m\u001b[0;34m(\u001b[0m\u001b[0mself\u001b[0m\u001b[0;34m,\u001b[0m \u001b[0mother\u001b[0m\u001b[0;34m,\u001b[0m \u001b[0mop\u001b[0m\u001b[0;34m)\u001b[0m\u001b[0;34m\u001b[0m\u001b[0;34m\u001b[0m\u001b[0m\n\u001b[0m\u001b[1;32m   6260\u001b[0m \u001b[0;34m\u001b[0m\u001b[0m\n\u001b[1;32m   6261\u001b[0m \u001b[0;34m\u001b[0m\u001b[0m\n",
            "\u001b[0;32m/usr/local/lib/python3.10/dist-packages/pandas/core/base.py\u001b[0m in \u001b[0;36m_arith_method\u001b[0;34m(self, other, op)\u001b[0m\n\u001b[1;32m   1323\u001b[0m \u001b[0;34m\u001b[0m\u001b[0m\n\u001b[1;32m   1324\u001b[0m         \u001b[0;32mwith\u001b[0m \u001b[0mnp\u001b[0m\u001b[0;34m.\u001b[0m\u001b[0merrstate\u001b[0m\u001b[0;34m(\u001b[0m\u001b[0mall\u001b[0m\u001b[0;34m=\u001b[0m\u001b[0;34m\"ignore\"\u001b[0m\u001b[0;34m)\u001b[0m\u001b[0;34m:\u001b[0m\u001b[0;34m\u001b[0m\u001b[0;34m\u001b[0m\u001b[0m\n\u001b[0;32m-> 1325\u001b[0;31m             \u001b[0mresult\u001b[0m \u001b[0;34m=\u001b[0m \u001b[0mops\u001b[0m\u001b[0;34m.\u001b[0m\u001b[0marithmetic_op\u001b[0m\u001b[0;34m(\u001b[0m\u001b[0mlvalues\u001b[0m\u001b[0;34m,\u001b[0m \u001b[0mrvalues\u001b[0m\u001b[0;34m,\u001b[0m \u001b[0mop\u001b[0m\u001b[0;34m)\u001b[0m\u001b[0;34m\u001b[0m\u001b[0;34m\u001b[0m\u001b[0m\n\u001b[0m\u001b[1;32m   1326\u001b[0m \u001b[0;34m\u001b[0m\u001b[0m\n\u001b[1;32m   1327\u001b[0m         \u001b[0;32mreturn\u001b[0m \u001b[0mself\u001b[0m\u001b[0;34m.\u001b[0m\u001b[0m_construct_result\u001b[0m\u001b[0;34m(\u001b[0m\u001b[0mresult\u001b[0m\u001b[0;34m,\u001b[0m \u001b[0mname\u001b[0m\u001b[0;34m=\u001b[0m\u001b[0mres_name\u001b[0m\u001b[0;34m)\u001b[0m\u001b[0;34m\u001b[0m\u001b[0;34m\u001b[0m\u001b[0m\n",
            "\u001b[0;32m/usr/local/lib/python3.10/dist-packages/pandas/core/ops/array_ops.py\u001b[0m in \u001b[0;36marithmetic_op\u001b[0;34m(left, right, op)\u001b[0m\n\u001b[1;32m    224\u001b[0m         \u001b[0;31m# error: Argument 1 to \"_na_arithmetic_op\" has incompatible type\u001b[0m\u001b[0;34m\u001b[0m\u001b[0;34m\u001b[0m\u001b[0m\n\u001b[1;32m    225\u001b[0m         \u001b[0;31m# \"Union[ExtensionArray, ndarray[Any, Any]]\"; expected \"ndarray[Any, Any]\"\u001b[0m\u001b[0;34m\u001b[0m\u001b[0;34m\u001b[0m\u001b[0m\n\u001b[0;32m--> 226\u001b[0;31m         \u001b[0mres_values\u001b[0m \u001b[0;34m=\u001b[0m \u001b[0m_na_arithmetic_op\u001b[0m\u001b[0;34m(\u001b[0m\u001b[0mleft\u001b[0m\u001b[0;34m,\u001b[0m \u001b[0mright\u001b[0m\u001b[0;34m,\u001b[0m \u001b[0mop\u001b[0m\u001b[0;34m)\u001b[0m  \u001b[0;31m# type: ignore[arg-type]\u001b[0m\u001b[0;34m\u001b[0m\u001b[0;34m\u001b[0m\u001b[0m\n\u001b[0m\u001b[1;32m    227\u001b[0m \u001b[0;34m\u001b[0m\u001b[0m\n\u001b[1;32m    228\u001b[0m     \u001b[0;32mreturn\u001b[0m \u001b[0mres_values\u001b[0m\u001b[0;34m\u001b[0m\u001b[0;34m\u001b[0m\u001b[0m\n",
            "\u001b[0;32m/usr/local/lib/python3.10/dist-packages/pandas/core/ops/array_ops.py\u001b[0m in \u001b[0;36m_na_arithmetic_op\u001b[0;34m(left, right, op, is_cmp)\u001b[0m\n\u001b[1;32m    170\u001b[0m             \u001b[0;31m# Don't do this for comparisons, as that will handle complex numbers\u001b[0m\u001b[0;34m\u001b[0m\u001b[0;34m\u001b[0m\u001b[0m\n\u001b[1;32m    171\u001b[0m             \u001b[0;31m#  incorrectly, see GH#32047\u001b[0m\u001b[0;34m\u001b[0m\u001b[0;34m\u001b[0m\u001b[0m\n\u001b[0;32m--> 172\u001b[0;31m             \u001b[0mresult\u001b[0m \u001b[0;34m=\u001b[0m \u001b[0m_masked_arith_op\u001b[0m\u001b[0;34m(\u001b[0m\u001b[0mleft\u001b[0m\u001b[0;34m,\u001b[0m \u001b[0mright\u001b[0m\u001b[0;34m,\u001b[0m \u001b[0mop\u001b[0m\u001b[0;34m)\u001b[0m\u001b[0;34m\u001b[0m\u001b[0;34m\u001b[0m\u001b[0m\n\u001b[0m\u001b[1;32m    173\u001b[0m         \u001b[0;32melse\u001b[0m\u001b[0;34m:\u001b[0m\u001b[0;34m\u001b[0m\u001b[0;34m\u001b[0m\u001b[0m\n\u001b[1;32m    174\u001b[0m             \u001b[0;32mraise\u001b[0m\u001b[0;34m\u001b[0m\u001b[0;34m\u001b[0m\u001b[0m\n",
            "\u001b[0;32m/usr/local/lib/python3.10/dist-packages/pandas/core/ops/array_ops.py\u001b[0m in \u001b[0;36m_masked_arith_op\u001b[0;34m(x, y, op)\u001b[0m\n\u001b[1;32m    108\u001b[0m         \u001b[0;31m# See GH#5284, GH#5035, GH#19448 for historical reference\u001b[0m\u001b[0;34m\u001b[0m\u001b[0;34m\u001b[0m\u001b[0m\n\u001b[1;32m    109\u001b[0m         \u001b[0;32mif\u001b[0m \u001b[0mmask\u001b[0m\u001b[0;34m.\u001b[0m\u001b[0many\u001b[0m\u001b[0;34m(\u001b[0m\u001b[0;34m)\u001b[0m\u001b[0;34m:\u001b[0m\u001b[0;34m\u001b[0m\u001b[0;34m\u001b[0m\u001b[0m\n\u001b[0;32m--> 110\u001b[0;31m             \u001b[0mresult\u001b[0m\u001b[0;34m[\u001b[0m\u001b[0mmask\u001b[0m\u001b[0;34m]\u001b[0m \u001b[0;34m=\u001b[0m \u001b[0mop\u001b[0m\u001b[0;34m(\u001b[0m\u001b[0mxrav\u001b[0m\u001b[0;34m[\u001b[0m\u001b[0mmask\u001b[0m\u001b[0;34m]\u001b[0m\u001b[0;34m,\u001b[0m \u001b[0myrav\u001b[0m\u001b[0;34m[\u001b[0m\u001b[0mmask\u001b[0m\u001b[0;34m]\u001b[0m\u001b[0;34m)\u001b[0m\u001b[0;34m\u001b[0m\u001b[0;34m\u001b[0m\u001b[0m\n\u001b[0m\u001b[1;32m    111\u001b[0m \u001b[0;34m\u001b[0m\u001b[0m\n\u001b[1;32m    112\u001b[0m     \u001b[0;32melse\u001b[0m\u001b[0;34m:\u001b[0m\u001b[0;34m\u001b[0m\u001b[0;34m\u001b[0m\u001b[0m\n",
            "\u001b[0;31mTypeError\u001b[0m: unsupported operand type(s) for /: 'int' and 'str'"
          ]
        }
      ]
    },
    {
      "cell_type": "code",
      "source": [
        "col_ratios = {}\n",
        "def smart_div(arr1, arr2):\n",
        "  if arr1 < arr2:\n",
        "    col_ratios =  arr1 / arr2\n",
        "  else:\n",
        "    col_ratios = arr2 / arr1\n",
        "  \n",
        "col_pct_test = smart_div(ncs.isnull().sum(), ncs.notnull().sum())"
      ],
      "metadata": {
        "id": "B4Ub7K4xnTvw"
      },
      "execution_count": null,
      "outputs": []
    },
    {
      "cell_type": "code",
      "source": [
        "def smart_div(arr1, arr2):\n",
        "  if arr1 < arr2:\n",
        "    return arr1 / arr2\n",
        "  else:\n",
        "    return arr2 / arr1\n",
        "\n",
        "missing_values = ncs.isnull().sum()\n",
        "non_missing_values = ncs.notnull().sum()\n",
        "\n",
        "col_pct_test = missing_values.combine(non_missing_values, smart_div)\n"
      ],
      "metadata": {
        "id": "TZoCODe0oa2s"
      },
      "execution_count": 214,
      "outputs": []
    },
    {
      "cell_type": "code",
      "source": [
        "col_pct_test"
      ],
      "metadata": {
        "colab": {
          "base_uri": "https://localhost:8080/"
        },
        "id": "Pq5RVE0QqEWz",
        "outputId": "2b5c620c-721b-4a8a-8dc2-ef79a1f38de8"
      },
      "execution_count": 215,
      "outputs": [
        {
          "output_type": "execute_result",
          "data": {
            "text/plain": [
              "Age                    0.182729\n",
              "AttendedBootcamp       0.026314\n",
              "BootcampFinish         0.062493\n",
              "BootcampLoanYesNo      0.063114\n",
              "BootcampName           0.055091\n",
              "                         ...   \n",
              "YouTubeMIT             0.224071\n",
              "YouTubeMozillaHacks    0.035436\n",
              "YouTubeOther           0.071576\n",
              "YouTubeSimplilearn     0.011183\n",
              "YouTubeTheNewBoston    0.194545\n",
              "Length: 136, dtype: float64"
            ]
          },
          "metadata": {},
          "execution_count": 215
        }
      ]
    },
    {
      "cell_type": "code",
      "source": [
        "def smart_div(arr1, arr2):\n",
        "  total = arr1 + arr2\n",
        "  if arr1 < arr2:\n",
        "    return arr1 / total\n",
        "  else:\n",
        "    return arr2 / total\n",
        "\n",
        "missing_values = ncs.isnull().sum()\n",
        "non_missing_values = ncs.notnull().sum()\n",
        "\n",
        "col_pct_test = missing_values.combine(non_missing_values, smart_div)\n"
      ],
      "metadata": {
        "id": "iqgFPqbjrDGB"
      },
      "execution_count": 216,
      "outputs": []
    },
    {
      "cell_type": "code",
      "source": [
        "col_pct_test"
      ],
      "metadata": {
        "colab": {
          "base_uri": "https://localhost:8080/"
        },
        "id": "nUELNNBerFQF",
        "outputId": "1914e488-774c-4653-ad64-9ac88c5be90e"
      },
      "execution_count": 217,
      "outputs": [
        {
          "output_type": "execute_result",
          "data": {
            "text/plain": [
              "Age                    0.154498\n",
              "AttendedBootcamp       0.025640\n",
              "BootcampFinish         0.058817\n",
              "BootcampLoanYesNo      0.059367\n",
              "BootcampName           0.052215\n",
              "                         ...   \n",
              "YouTubeMIT             0.183054\n",
              "YouTubeMozillaHacks    0.034223\n",
              "YouTubeOther           0.066795\n",
              "YouTubeSimplilearn     0.011059\n",
              "YouTubeTheNewBoston    0.162861\n",
              "Length: 136, dtype: float64"
            ]
          },
          "metadata": {},
          "execution_count": 217
        }
      ]
    },
    {
      "cell_type": "code",
      "source": [
        "pct_null = ncs.isnull().sum() / ncs.notnull().sum()\n",
        "pct_null"
      ],
      "metadata": {
        "colab": {
          "base_uri": "https://localhost:8080/"
        },
        "id": "vOnXkySWkhhv",
        "outputId": "580f5832-9633-4ba9-947b-1f4657eaf604"
      },
      "execution_count": 199,
      "outputs": [
        {
          "output_type": "execute_result",
          "data": {
            "text/plain": [
              "Age                     0.182729\n",
              "AttendedBootcamp        0.026314\n",
              "BootcampFinish         16.001871\n",
              "BootcampLoanYesNo      15.844300\n",
              "BootcampName           18.151739\n",
              "                         ...    \n",
              "YouTubeMIT              4.462879\n",
              "YouTubeMozillaHacks    28.220257\n",
              "YouTubeOther           13.971170\n",
              "YouTubeSimplilearn     89.422886\n",
              "YouTubeTheNewBoston     5.140203\n",
              "Length: 136, dtype: float64"
            ]
          },
          "metadata": {},
          "execution_count": 199
        }
      ]
    },
    {
      "cell_type": "code",
      "source": [
        "ncs.isnull().sum()"
      ],
      "metadata": {
        "colab": {
          "base_uri": "https://localhost:8080/"
        },
        "id": "fu9YmlvAk3gO",
        "outputId": "ebdcf0f1-b981-4816-ed90-f1896f93f65a"
      },
      "execution_count": 200,
      "outputs": [
        {
          "output_type": "execute_result",
          "data": {
            "text/plain": [
              "Age                     2808\n",
              "AttendedBootcamp         466\n",
              "BootcampFinish         17106\n",
              "BootcampLoanYesNo      17096\n",
              "BootcampName           17226\n",
              "                       ...  \n",
              "YouTubeMIT             14848\n",
              "YouTubeMozillaHacks    17553\n",
              "YouTubeOther           16961\n",
              "YouTubeSimplilearn     17974\n",
              "YouTubeTheNewBoston    15215\n",
              "Length: 136, dtype: int64"
            ]
          },
          "metadata": {},
          "execution_count": 200
        }
      ]
    },
    {
      "cell_type": "code",
      "source": [
        "ncs.notnull().sum()"
      ],
      "metadata": {
        "colab": {
          "base_uri": "https://localhost:8080/"
        },
        "id": "_U4-TsvelYzW",
        "outputId": "ac75ff6c-7801-4df5-c89a-2524ed7b74e6"
      },
      "execution_count": 201,
      "outputs": [
        {
          "output_type": "execute_result",
          "data": {
            "text/plain": [
              "Age                    15367\n",
              "AttendedBootcamp       17709\n",
              "BootcampFinish          1069\n",
              "BootcampLoanYesNo       1079\n",
              "BootcampName             949\n",
              "                       ...  \n",
              "YouTubeMIT              3327\n",
              "YouTubeMozillaHacks      622\n",
              "YouTubeOther            1214\n",
              "YouTubeSimplilearn       201\n",
              "YouTubeTheNewBoston     2960\n",
              "Length: 136, dtype: int64"
            ]
          },
          "metadata": {},
          "execution_count": 201
        }
      ]
    },
    {
      "cell_type": "markdown",
      "source": [
        "It seems like a null value for a lot of these columns is just indicative of a negative value - for example Bootcamp finish is null for the majority of the participants because they have not completed the bootcamp"
      ],
      "metadata": {
        "id": "RbuN9EUPlu9x"
      }
    },
    {
      "cell_type": "code",
      "source": [
        "ncs.notnull().corr()"
      ],
      "metadata": {
        "colab": {
          "base_uri": "https://localhost:8080/",
          "height": 508
        },
        "id": "LQ96LsT0leCb",
        "outputId": "e9f6f328-bf50-4c29-8594-2e91db3053f8"
      },
      "execution_count": 203,
      "outputs": [
        {
          "output_type": "execute_result",
          "data": {
            "text/plain": [
              "                          Age  AttendedBootcamp  BootcampFinish  \\\n",
              "Age                  1.000000          0.200338       -0.002486   \n",
              "AttendedBootcamp     0.200338          1.000000        0.040552   \n",
              "BootcampFinish      -0.002486          0.040552        1.000000   \n",
              "BootcampLoanYesNo   -0.002768          0.040753        0.989127   \n",
              "BootcampName         0.004529          0.038075        0.925249   \n",
              "...                       ...               ...             ...   \n",
              "YouTubeMIT           0.008273          0.047082       -0.013113   \n",
              "YouTubeMozillaHacks -0.012479          0.013303       -0.000751   \n",
              "YouTubeOther         0.008268          0.025273        0.002432   \n",
              "YouTubeSimplilearn  -0.001377          0.013826        0.007106   \n",
              "YouTubeTheNewBoston  0.014147          0.050809       -0.036795   \n",
              "\n",
              "                     BootcampLoanYesNo  BootcampName  BootcampRecommend  \\\n",
              "Age                          -0.002768      0.004529          -0.002082   \n",
              "AttendedBootcamp              0.040753      0.038075           0.040632   \n",
              "BootcampFinish                0.989127      0.925249           0.985119   \n",
              "BootcampLoanYesNo             1.000000      0.931141           0.993089   \n",
              "BootcampName                  0.931141      1.000000           0.927609   \n",
              "...                                ...           ...                ...   \n",
              "YouTubeMIT                   -0.012352     -0.010053          -0.013532   \n",
              "YouTubeMozillaHacks           0.000094      0.000711           0.000358   \n",
              "YouTubeOther                  0.002731      0.004568           0.002178   \n",
              "YouTubeSimplilearn            0.006829      0.008289           0.006995   \n",
              "YouTubeTheNewBoston          -0.035771     -0.035203          -0.035879   \n",
              "\n",
              "                     ChildrenNumber  CityPopulation  CodeEventConferences  \\\n",
              "Age                        0.157338        0.916553             -0.007724   \n",
              "AttendedBootcamp           0.033763        0.205408              0.028497   \n",
              "BootcampFinish             0.002033        0.002533              0.073567   \n",
              "BootcampLoanYesNo          0.001833        0.002877              0.075800   \n",
              "BootcampName               0.007550        0.009765              0.072256   \n",
              "...                             ...             ...                   ...   \n",
              "YouTubeMIT                -0.019031        0.015086              0.066850   \n",
              "YouTubeMozillaHacks        0.010721       -0.012083              0.054267   \n",
              "YouTubeOther               0.010867        0.008781             -0.001143   \n",
              "YouTubeSimplilearn        -0.002511       -0.001165              0.028163   \n",
              "YouTubeTheNewBoston       -0.055371        0.006762             -0.005269   \n",
              "\n",
              "                     CodeEventDjangoGirls  CodeEventFCC  CodeEventGameJam  \\\n",
              "Age                             -0.026496     -0.014148          0.004622   \n",
              "AttendedBootcamp                -0.006494      0.008103          0.012322   \n",
              "BootcampFinish                   0.030314      0.017263          0.022289   \n",
              "BootcampLoanYesNo                0.029959      0.017236          0.020037   \n",
              "BootcampName                     0.021864      0.018493          0.017484   \n",
              "...                                   ...           ...               ...   \n",
              "YouTubeMIT                       0.025196      0.015771          0.032831   \n",
              "YouTubeMozillaHacks              0.042608      0.073170          0.060563   \n",
              "YouTubeOther                    -0.009343     -0.023478         -0.004169   \n",
              "YouTubeSimplilearn               0.045348      0.034458          0.049514   \n",
              "YouTubeTheNewBoston              0.014341      0.019831          0.019943   \n",
              "\n",
              "                     CodeEventGirlDev  CodeEventHackathons  CodeEventMeetup  \\\n",
              "Age                         -0.000137            -0.015429         0.031050   \n",
              "AttendedBootcamp             0.007180             0.030957         0.032882   \n",
              "BootcampFinish               0.126405             0.076397         0.199607   \n",
              "BootcampLoanYesNo            0.127391             0.078242         0.200531   \n",
              "BootcampName                 0.129713             0.072105         0.207015   \n",
              "...                               ...                  ...              ...   \n",
              "YouTubeMIT                   0.001833             0.115658         0.042124   \n",
              "YouTubeMozillaHacks          0.033027             0.089757         0.037434   \n",
              "YouTubeOther                 0.000281            -0.029765        -0.007147   \n",
              "YouTubeSimplilearn           0.019568             0.052612         0.030176   \n",
              "YouTubeTheNewBoston         -0.022766             0.067013        -0.001996   \n",
              "\n",
              "                     CodeEventNodeSchool  CodeEventNone  CodeEventOther  \\\n",
              "Age                            -0.032563       0.005960       -0.008679   \n",
              "AttendedBootcamp                0.003229       0.028893        0.015208   \n",
              "BootcampFinish                  0.055573      -0.046856        0.052963   \n",
              "BootcampLoanYesNo               0.054962      -0.047236        0.053649   \n",
              "BootcampName                    0.053892      -0.042111        0.044327   \n",
              "...                                  ...            ...             ...   \n",
              "YouTubeMIT                      0.039873      -0.015654        0.010334   \n",
              "YouTubeMozillaHacks             0.089466      -0.012598        0.004329   \n",
              "YouTubeOther                   -0.005399       0.174738        0.066921   \n",
              "YouTubeSimplilearn              0.051238      -0.008693       -0.000917   \n",
              "YouTubeTheNewBoston             0.024429      -0.000151        0.013824   \n",
              "\n",
              "                     CodeEventRailsBridge  CodeEventRailsGirls  \\\n",
              "Age                             -0.006165            -0.011844   \n",
              "AttendedBootcamp                 0.001675            -0.006623   \n",
              "BootcampFinish                   0.074568             0.047469   \n",
              "BootcampLoanYesNo                0.076775             0.052547   \n",
              "BootcampName                     0.072708             0.049831   \n",
              "...                                   ...                  ...   \n",
              "YouTubeMIT                       0.012777             0.009780   \n",
              "YouTubeMozillaHacks              0.054855             0.065876   \n",
              "YouTubeOther                    -0.007456            -0.002120   \n",
              "YouTubeSimplilearn               0.058822             0.059111   \n",
              "YouTubeTheNewBoston              0.007587            -0.004383   \n",
              "\n",
              "                     CodeEventStartUpWknd  CodeEventWkdBootcamps  \\\n",
              "Age                             -0.017826              -0.013802   \n",
              "AttendedBootcamp                 0.003979               0.016350   \n",
              "BootcampFinish                   0.069996               0.068200   \n",
              "BootcampLoanYesNo                0.072015               0.068855   \n",
              "BootcampName                     0.063278               0.062883   \n",
              "...                                   ...                    ...   \n",
              "YouTubeMIT                       0.042934               0.047359   \n",
              "YouTubeMozillaHacks              0.071724               0.089064   \n",
              "YouTubeOther                    -0.009488              -0.005852   \n",
              "YouTubeSimplilearn               0.037001               0.058356   \n",
              "YouTubeTheNewBoston              0.014345               0.035685   \n",
              "\n",
              "                     CodeEventWomenCode  CodeEventWorkshops  CommuteTime  \\\n",
              "Age                           -0.010135           -0.008336     0.412761   \n",
              "AttendedBootcamp               0.005059            0.023520     0.110062   \n",
              "BootcampFinish                 0.117584            0.086260     0.027214   \n",
              "BootcampLoanYesNo              0.118139            0.086701     0.027986   \n",
              "BootcampName                   0.121551            0.085848     0.032763   \n",
              "...                                 ...                 ...          ...   \n",
              "YouTubeMIT                     0.011480            0.074755    -0.022345   \n",
              "YouTubeMozillaHacks            0.038725            0.057418     0.011851   \n",
              "YouTubeOther                  -0.001549           -0.001561    -0.003345   \n",
              "YouTubeSimplilearn             0.028452            0.034954    -0.011842   \n",
              "YouTubeTheNewBoston           -0.025377            0.037102    -0.063731   \n",
              "\n",
              "                     CountryCitizen  CountryLive  EmploymentField  \\\n",
              "Age                        0.929299     0.922238         0.362841   \n",
              "AttendedBootcamp           0.201148     0.201557         0.095994   \n",
              "BootcampFinish             0.002124     0.001921         0.042637   \n",
              "BootcampLoanYesNo          0.001816     0.002273         0.042702   \n",
              "BootcampName               0.008117     0.010380         0.046381   \n",
              "...                             ...          ...              ...   \n",
              "YouTubeMIT                 0.007997     0.008108        -0.008490   \n",
              "YouTubeMozillaHacks       -0.010419    -0.011538         0.019023   \n",
              "YouTubeOther               0.006452     0.006453        -0.001378   \n",
              "YouTubeSimplilearn        -0.001622     0.000575        -0.007150   \n",
              "YouTubeTheNewBoston        0.011103     0.012873        -0.046694   \n",
              "\n",
              "                     EmploymentFieldOther  EmploymentStatus  \\\n",
              "Age                              0.103471          0.768307   \n",
              "AttendedBootcamp                 0.028943          0.183345   \n",
              "BootcampFinish                  -0.027131          0.019077   \n",
              "BootcampLoanYesNo               -0.025626          0.019626   \n",
              "BootcampName                    -0.024384          0.024854   \n",
              "...                                   ...               ...   \n",
              "YouTubeMIT                      -0.026101          0.007011   \n",
              "YouTubeMozillaHacks             -0.013956          0.001539   \n",
              "YouTubeOther                     0.003727         -0.000095   \n",
              "YouTubeSimplilearn              -0.004280          0.005620   \n",
              "YouTubeTheNewBoston             -0.033160         -0.000088   \n",
              "\n",
              "                     EmploymentStatusOther  ExpectedEarning  \\\n",
              "Age                               0.087260         0.011636   \n",
              "AttendedBootcamp                  0.020633         0.061640   \n",
              "BootcampFinish                   -0.022465        -0.009793   \n",
              "BootcampLoanYesNo                -0.022878        -0.009732   \n",
              "BootcampName                     -0.021972        -0.007557   \n",
              "...                                    ...              ...   \n",
              "YouTubeMIT                        0.014373         0.016876   \n",
              "YouTubeMozillaHacks              -0.019625        -0.031189   \n",
              "YouTubeOther                      0.017080         0.000935   \n",
              "YouTubeSimplilearn               -0.010641        -0.008203   \n",
              "YouTubeTheNewBoston               0.025631         0.004692   \n",
              "\n",
              "                     FinanciallySupporting  FirstDevJob    Gender  \\\n",
              "Age                               0.207554    -0.008292  0.940224   \n",
              "AttendedBootcamp                  0.037782     0.010949  0.196337   \n",
              "BootcampFinish                   -0.007708     0.153159 -0.000628   \n",
              "BootcampLoanYesNo                -0.007166     0.153851 -0.000954   \n",
              "BootcampName                     -0.004934     0.152116  0.004905   \n",
              "...                                    ...          ...       ...   \n",
              "YouTubeMIT                       -0.002666     0.020028  0.011999   \n",
              "YouTubeMozillaHacks               0.042898     0.069182 -0.011773   \n",
              "YouTubeOther                      0.010791    -0.009242  0.002316   \n",
              "YouTubeSimplilearn                0.020132     0.028196 -0.002814   \n",
              "YouTubeTheNewBoston              -0.024563     0.005804  0.013425   \n",
              "\n",
              "                     GenderOther  HasChildren   HasDebt  \\\n",
              "Age                     0.015236     0.205520  0.915130   \n",
              "AttendedBootcamp        0.008937     0.036535  0.202031   \n",
              "BootcampFinish         -0.001000    -0.009102  0.002322   \n",
              "BootcampLoanYesNo      -0.001124    -0.008563  0.002686   \n",
              "BootcampName            0.000577    -0.006317  0.009874   \n",
              "...                          ...          ...       ...   \n",
              "YouTubeMIT             -0.002766    -0.003904  0.015158   \n",
              "YouTubeMozillaHacks     0.006159     0.042163 -0.010189   \n",
              "YouTubeOther            0.017358     0.010943  0.010638   \n",
              "YouTubeSimplilearn      0.013331     0.019729 -0.000152   \n",
              "YouTubeTheNewBoston    -0.002597    -0.025260  0.012925   \n",
              "\n",
              "                     HasFinancialDependents  HasHighSpdInternet  \\\n",
              "Age                                0.920022            0.921301   \n",
              "AttendedBootcamp                   0.205014            0.204900   \n",
              "BootcampFinish                     0.000897           -0.001041   \n",
              "BootcampLoanYesNo                  0.001255           -0.000690   \n",
              "BootcampName                       0.007896            0.006129   \n",
              "...                                     ...                 ...   \n",
              "YouTubeMIT                         0.013691            0.015238   \n",
              "YouTubeMozillaHacks               -0.011327           -0.013714   \n",
              "YouTubeOther                       0.010369            0.006532   \n",
              "YouTubeSimplilearn                 0.000687           -0.001589   \n",
              "YouTubeTheNewBoston                0.011687            0.014126   \n",
              "\n",
              "                     HasHomeMortgage  HasServedInMilitary  HasStudentDebt  \\\n",
              "Age                         0.301327             0.908428        0.301519   \n",
              "AttendedBootcamp            0.081648             0.206832        0.080998   \n",
              "BootcampFinish              0.073814             0.000438        0.074636   \n",
              "BootcampLoanYesNo           0.073726             0.000186        0.074544   \n",
              "BootcampName                0.079744             0.007015        0.080630   \n",
              "...                              ...                  ...             ...   \n",
              "YouTubeMIT                 -0.001786             0.014079       -0.002058   \n",
              "YouTubeMozillaHacks        -0.024032            -0.012449       -0.024770   \n",
              "YouTubeOther                0.017402             0.006587        0.016783   \n",
              "YouTubeSimplilearn         -0.001923             0.000404       -0.001983   \n",
              "YouTubeTheNewBoston        -0.043938             0.012740       -0.044496   \n",
              "\n",
              "                     HomeMortgageOwe  HoursLearning  ID.x      ID.y    Income  \\\n",
              "Age                         0.120371       0.151331   NaN  0.919463  0.356850   \n",
              "AttendedBootcamp            0.038426       0.414236   NaN  0.140740  0.101195   \n",
              "BootcampFinish              0.021572       0.020584   NaN -0.003405  0.027314   \n",
              "BootcampLoanYesNo           0.021695       0.020326   NaN -0.003843  0.028519   \n",
              "BootcampName                0.028484       0.024821   NaN  0.002169  0.037575   \n",
              "...                              ...            ...   ...       ...       ...   \n",
              "YouTubeMIT                 -0.012912       0.071923   NaN  0.005511 -0.012230   \n",
              "YouTubeMozillaHacks        -0.005638       0.027827   NaN -0.012241  0.008046   \n",
              "YouTubeOther                0.013705       0.042624   NaN  0.003525  0.003493   \n",
              "YouTubeSimplilearn          0.013622       0.021590   NaN  0.001384 -0.016316   \n",
              "YouTubeTheNewBoston        -0.030629       0.057513   NaN  0.007037 -0.069601   \n",
              "\n",
              "                     IsEthnicMinority  IsReceiveDisabilitiesBenefits  \\\n",
              "Age                          0.911765                       0.901611   \n",
              "AttendedBootcamp             0.206902                       0.206932   \n",
              "BootcampFinish               0.004808                       0.001703   \n",
              "BootcampLoanYesNo            0.004523                       0.001459   \n",
              "BootcampName                 0.011160                       0.008173   \n",
              "...                               ...                            ...   \n",
              "YouTubeMIT                   0.018136                       0.017186   \n",
              "YouTubeMozillaHacks         -0.009420                      -0.011437   \n",
              "YouTubeOther                 0.008147                       0.005524   \n",
              "YouTubeSimplilearn          -0.000184                      -0.001914   \n",
              "YouTubeTheNewBoston          0.010348                       0.009262   \n",
              "\n",
              "                     IsSoftwareDev  IsUnderEmployed  JobApplyWhen  \\\n",
              "Age                       0.116348         0.412576     -0.015214   \n",
              "AttendedBootcamp          0.287835         0.108951      0.035461   \n",
              "BootcampFinish            0.013124         0.028313     -0.030405   \n",
              "BootcampLoanYesNo         0.013246         0.029087     -0.029559   \n",
              "BootcampName              0.011597         0.033356     -0.029804   \n",
              "...                            ...              ...           ...   \n",
              "YouTubeMIT                0.028988        -0.021431      0.009531   \n",
              "YouTubeMozillaHacks       0.014486         0.012932     -0.040476   \n",
              "YouTubeOther              0.006185        -0.004871     -0.002472   \n",
              "YouTubeSimplilearn        0.008138        -0.011574     -0.012696   \n",
              "YouTubeTheNewBoston       0.020308        -0.063506     -0.000109   \n",
              "\n",
              "                     JobInterestBackEnd  JobInterestDataEngr  \\\n",
              "Age                            0.004615            -0.011663   \n",
              "AttendedBootcamp               0.040275             0.014925   \n",
              "BootcampFinish                -0.013674            -0.028699   \n",
              "BootcampLoanYesNo             -0.013468            -0.028411   \n",
              "BootcampName                  -0.011128            -0.026992   \n",
              "...                                 ...                  ...   \n",
              "YouTubeMIT                     0.039982             0.070401   \n",
              "YouTubeMozillaHacks           -0.014736            -0.013661   \n",
              "YouTubeOther                  -0.009726            -0.001769   \n",
              "YouTubeSimplilearn            -0.000553             0.003363   \n",
              "YouTubeTheNewBoston            0.024520            -0.002408   \n",
              "\n",
              "                     JobInterestDataSci  JobInterestDevOps  \\\n",
              "Age                           -0.015418          -0.008512   \n",
              "AttendedBootcamp               0.020000           0.023435   \n",
              "BootcampFinish                -0.048549          -0.025810   \n",
              "BootcampLoanYesNo             -0.049142          -0.026286   \n",
              "BootcampName                  -0.045893          -0.026038   \n",
              "...                                 ...                ...   \n",
              "YouTubeMIT                     0.094862           0.052750   \n",
              "YouTubeMozillaHacks           -0.019987          -0.005567   \n",
              "YouTubeOther                  -0.007553           0.002838   \n",
              "YouTubeSimplilearn             0.002633           0.008686   \n",
              "YouTubeTheNewBoston            0.006780           0.006995   \n",
              "\n",
              "                     JobInterestFrontEnd  JobInterestFullStack  \\\n",
              "Age                             0.015827              0.008746   \n",
              "AttendedBootcamp                0.034107              0.041657   \n",
              "BootcampFinish                 -0.000018              0.006275   \n",
              "BootcampLoanYesNo              -0.000145              0.006428   \n",
              "BootcampName                    0.001003              0.006019   \n",
              "...                                  ...                   ...   \n",
              "YouTubeMIT                     -0.036188              0.022438   \n",
              "YouTubeMozillaHacks            -0.022187             -0.024204   \n",
              "YouTubeOther                   -0.005996             -0.016306   \n",
              "YouTubeSimplilearn             -0.013602             -0.004081   \n",
              "YouTubeTheNewBoston            -0.012213              0.040551   \n",
              "\n",
              "                     JobInterestGameDev  JobInterestInfoSec  \\\n",
              "Age                            0.006848           -0.020099   \n",
              "AttendedBootcamp               0.026407            0.022366   \n",
              "BootcampFinish                -0.032507           -0.039032   \n",
              "BootcampLoanYesNo             -0.033155           -0.040407   \n",
              "BootcampName                  -0.029193           -0.038368   \n",
              "...                                 ...                 ...   \n",
              "YouTubeMIT                     0.008314            0.052030   \n",
              "YouTubeMozillaHacks           -0.009122           -0.001499   \n",
              "YouTubeOther                   0.007795           -0.004091   \n",
              "YouTubeSimplilearn             0.002186           -0.004230   \n",
              "YouTubeTheNewBoston            0.000801            0.001030   \n",
              "\n",
              "                     JobInterestMobile  JobInterestOther  JobInterestProjMngr  \\\n",
              "Age                          -0.004042         -0.011287            -0.004076   \n",
              "AttendedBootcamp              0.030093          0.008175             0.014273   \n",
              "BootcampFinish               -0.032632         -0.007099            -0.008694   \n",
              "BootcampLoanYesNo            -0.032144         -0.007351            -0.009200   \n",
              "BootcampName                 -0.031948         -0.008010            -0.004502   \n",
              "...                                ...               ...                  ...   \n",
              "YouTubeMIT                    0.021264          0.009843             0.023855   \n",
              "YouTubeMozillaHacks          -0.007357         -0.010341            -0.009756   \n",
              "YouTubeOther                 -0.002369          0.022448            -0.010673   \n",
              "YouTubeSimplilearn            0.006524          0.004636            -0.008045   \n",
              "YouTubeTheNewBoston           0.026919         -0.015288            -0.020146   \n",
              "\n",
              "                     JobInterestQAEngr  JobInterestUX   JobPref  \\\n",
              "Age                          -0.011890       0.003803  0.031341   \n",
              "AttendedBootcamp              0.015739       0.018402  0.050669   \n",
              "BootcampFinish               -0.009745      -0.015665 -0.145898   \n",
              "BootcampLoanYesNo            -0.010127      -0.016343 -0.146550   \n",
              "BootcampName                 -0.009107      -0.013022 -0.145253   \n",
              "...                                ...            ...       ...   \n",
              "YouTubeMIT                    0.028316      -0.006634 -0.013041   \n",
              "YouTubeMozillaHacks           0.000024      -0.025911 -0.065993   \n",
              "YouTubeOther                 -0.007508      -0.005273  0.013296   \n",
              "YouTubeSimplilearn            0.001615       0.002353 -0.025379   \n",
              "YouTubeTheNewBoston          -0.011078      -0.031495 -0.000972   \n",
              "\n",
              "                     JobRelocateYesNo  JobRoleInterest  JobWherePref  \\\n",
              "Age                         -0.014069         0.290134     -0.010652   \n",
              "AttendedBootcamp             0.039748         0.058150      0.043512   \n",
              "BootcampFinish              -0.017312        -0.024633     -0.028447   \n",
              "BootcampLoanYesNo           -0.016061        -0.023974     -0.028074   \n",
              "BootcampName                -0.016795        -0.024952     -0.028297   \n",
              "...                               ...              ...           ...   \n",
              "YouTubeMIT                   0.017988         0.009676      0.010008   \n",
              "YouTubeMozillaHacks         -0.033178        -0.040611     -0.040678   \n",
              "YouTubeOther                -0.002008        -0.000014     -0.001437   \n",
              "YouTubeSimplilearn          -0.005397        -0.005759     -0.011406   \n",
              "YouTubeTheNewBoston          0.013651         0.001309      0.000268   \n",
              "\n",
              "                     LanguageAtHome  MaritalStatus  MoneyForLearning  \\\n",
              "Age                        0.928436       0.927072          0.172622   \n",
              "AttendedBootcamp           0.201026       0.197668          0.394626   \n",
              "BootcampFinish             0.001619       0.000670          0.026417   \n",
              "BootcampLoanYesNo          0.001328       0.000387          0.027025   \n",
              "BootcampName               0.008061       0.006328          0.038812   \n",
              "...                             ...            ...               ...   \n",
              "YouTubeMIT                 0.007935       0.014056          0.047489   \n",
              "YouTubeMozillaHacks       -0.011780      -0.012342          0.008216   \n",
              "YouTubeOther               0.007351       0.010134          0.031703   \n",
              "YouTubeSimplilearn         0.000448      -0.002307          0.006823   \n",
              "YouTubeTheNewBoston        0.011119       0.012938          0.035914   \n",
              "\n",
              "                     MonthsProgramming  NetworkID  Part1EndTime  \\\n",
              "Age                           0.175884        NaN           NaN   \n",
              "AttendedBootcamp              0.499766        NaN           NaN   \n",
              "BootcampFinish                0.036592        NaN           NaN   \n",
              "BootcampLoanYesNo             0.037021        NaN           NaN   \n",
              "BootcampName                  0.040572        NaN           NaN   \n",
              "...                                ...        ...           ...   \n",
              "YouTubeMIT                    0.062120        NaN           NaN   \n",
              "YouTubeMozillaHacks           0.019541        NaN           NaN   \n",
              "YouTubeOther                  0.032354        NaN           NaN   \n",
              "YouTubeSimplilearn            0.009005        NaN           NaN   \n",
              "YouTubeTheNewBoston           0.043712        NaN           NaN   \n",
              "\n",
              "                     Part1StartTime  Part2EndTime  Part2StartTime  \\\n",
              "Age                             NaN      0.919463        0.919463   \n",
              "AttendedBootcamp                NaN      0.140740        0.140740   \n",
              "BootcampFinish                  NaN     -0.003405       -0.003405   \n",
              "BootcampLoanYesNo               NaN     -0.003843       -0.003843   \n",
              "BootcampName                    NaN      0.002169        0.002169   \n",
              "...                             ...           ...             ...   \n",
              "YouTubeMIT                      NaN      0.005511        0.005511   \n",
              "YouTubeMozillaHacks             NaN     -0.012241       -0.012241   \n",
              "YouTubeOther                    NaN      0.003525        0.003525   \n",
              "YouTubeSimplilearn              NaN      0.001384        0.001384   \n",
              "YouTubeTheNewBoston             NaN      0.007037        0.007037   \n",
              "\n",
              "                     PodcastChangeLog  PodcastCodeNewbie  PodcastCodePen  \\\n",
              "Age                          0.004407           0.016893       -0.017029   \n",
              "AttendedBootcamp             0.019699           0.041289        0.023839   \n",
              "BootcampFinish               0.033822           0.055378        0.016843   \n",
              "BootcampLoanYesNo            0.034906           0.055218        0.018587   \n",
              "BootcampName                 0.038561           0.060991        0.022843   \n",
              "...                               ...                ...             ...   \n",
              "YouTubeMIT                   0.039838           0.048979        0.039130   \n",
              "YouTubeMozillaHacks          0.076475           0.033850        0.101301   \n",
              "YouTubeOther                 0.000122          -0.009453       -0.013796   \n",
              "YouTubeSimplilearn           0.044817           0.036595        0.050712   \n",
              "YouTubeTheNewBoston          0.028707           0.037778        0.028140   \n",
              "\n",
              "                     PodcastDevTea  PodcastDotNET  PodcastGiantRobots  \\\n",
              "Age                       0.007355      -0.003985           -0.009216   \n",
              "AttendedBootcamp          0.018934       0.011482            0.013090   \n",
              "BootcampFinish            0.041956       0.003108            0.062572   \n",
              "BootcampLoanYesNo         0.041298       0.002780            0.062063   \n",
              "BootcampName              0.041608       0.001723            0.066754   \n",
              "...                            ...            ...                 ...   \n",
              "YouTubeMIT                0.053502       0.038686            0.036333   \n",
              "YouTubeMozillaHacks       0.074215       0.051933            0.070780   \n",
              "YouTubeOther             -0.015315       0.015184           -0.001072   \n",
              "YouTubeSimplilearn        0.048158       0.064848            0.056995   \n",
              "YouTubeTheNewBoston       0.041368       0.023255            0.012618   \n",
              "\n",
              "                     PodcastJSAir  PodcastJSJabber  PodcastNone  PodcastOther  \\\n",
              "Age                     -0.029411         0.002214    -0.003297      0.016816   \n",
              "AttendedBootcamp         0.008202         0.024280     0.024058      0.019444   \n",
              "BootcampFinish           0.036181         0.080564    -0.020352      0.006651   \n",
              "BootcampLoanYesNo        0.035549         0.082517    -0.019850      0.007209   \n",
              "BootcampName             0.038006         0.087688    -0.016245      0.006580   \n",
              "...                           ...              ...          ...           ...   \n",
              "YouTubeMIT               0.042941         0.042211    -0.014698     -0.001749   \n",
              "YouTubeMozillaHacks      0.143964         0.097501    -0.013309      0.008472   \n",
              "YouTubeOther            -0.000555        -0.008248     0.213492      0.117133   \n",
              "YouTubeSimplilearn       0.061714         0.029675    -0.006135     -0.010964   \n",
              "YouTubeTheNewBoston      0.034822         0.045245    -0.013217     -0.005245   \n",
              "\n",
              "                     PodcastProgThrowdown  PodcastRubyRogues  PodcastSEDaily  \\\n",
              "Age                             -0.015281          -0.001762        0.003026   \n",
              "AttendedBootcamp                 0.009810           0.009183        0.020922   \n",
              "BootcampFinish                   0.021777           0.080931        0.025844   \n",
              "BootcampLoanYesNo                0.021359           0.081997        0.026377   \n",
              "BootcampName                     0.023536           0.087806        0.033660   \n",
              "...                                   ...                ...             ...   \n",
              "YouTubeMIT                       0.073866           0.033994        0.095167   \n",
              "YouTubeMozillaHacks              0.060308           0.046495        0.078611   \n",
              "YouTubeOther                    -0.003301          -0.010258       -0.018123   \n",
              "YouTubeSimplilearn               0.043121           0.044397        0.044543   \n",
              "YouTubeTheNewBoston              0.041290           0.020852        0.044826   \n",
              "\n",
              "                     PodcastSERadio  PodcastShopTalk  PodcastTalkPython  \\\n",
              "Age                       -0.006130         0.009440          -0.002290   \n",
              "AttendedBootcamp           0.005783         0.013682           0.014556   \n",
              "BootcampFinish             0.011054         0.013013           0.005614   \n",
              "BootcampLoanYesNo          0.012225         0.012646           0.005140   \n",
              "BootcampName               0.012850         0.013951           0.007696   \n",
              "...                             ...              ...                ...   \n",
              "YouTubeMIT                 0.078099         0.000856           0.106946   \n",
              "YouTubeMozillaHacks        0.083838         0.041819           0.077264   \n",
              "YouTubeOther              -0.018227         0.004638          -0.004435   \n",
              "YouTubeSimplilearn         0.065660         0.034040           0.064234   \n",
              "YouTubeTheNewBoston        0.041798         0.016150           0.057023   \n",
              "\n",
              "                     PodcastTheWebAhead  ResourceCodecademy  ResourceCodeWars  \\\n",
              "Age                            0.004753            0.041959          0.020910   \n",
              "AttendedBootcamp               0.007983            0.079242          0.034994   \n",
              "BootcampFinish                 0.012096            0.033088          0.132550   \n",
              "BootcampLoanYesNo              0.013531            0.033799          0.132730   \n",
              "BootcampName                   0.012895            0.034004          0.136263   \n",
              "...                                 ...                 ...               ...   \n",
              "YouTubeMIT                     0.023116            0.039896          0.041765   \n",
              "YouTubeMozillaHacks            0.077843            0.015533          0.036807   \n",
              "YouTubeOther                  -0.008111           -0.005824         -0.011257   \n",
              "YouTubeSimplilearn             0.063126            0.015955          0.014906   \n",
              "YouTubeTheNewBoston            0.022234            0.024670          0.025162   \n",
              "\n",
              "                     ResourceCoursera  ResourceCSS  ResourceEdX  \\\n",
              "Age                          0.009985     0.030538     0.017907   \n",
              "AttendedBootcamp             0.047018     0.048404     0.029230   \n",
              "BootcampFinish              -0.015782     0.097539    -0.037711   \n",
              "BootcampLoanYesNo           -0.017030     0.097344    -0.038024   \n",
              "BootcampName                -0.020696     0.096845    -0.042849   \n",
              "...                               ...          ...          ...   \n",
              "YouTubeMIT                   0.226893    -0.008805     0.231271   \n",
              "YouTubeMozillaHacks          0.048991     0.076976     0.035582   \n",
              "YouTubeOther                -0.027280    -0.001008    -0.019925   \n",
              "YouTubeSimplilearn           0.054424     0.005229     0.051028   \n",
              "YouTubeTheNewBoston          0.065420     0.056018     0.089841   \n",
              "\n",
              "                     ResourceEgghead  ResourceFCC  ResourceHackerRank  \\\n",
              "Age                         0.000688     0.049698           -0.022350   \n",
              "AttendedBootcamp            0.029805     0.090324            0.029206   \n",
              "BootcampFinish              0.102986    -0.103872            0.012927   \n",
              "BootcampLoanYesNo           0.104552    -0.104289            0.012777   \n",
              "BootcampName                0.101215    -0.106310            0.012522   \n",
              "...                              ...          ...                 ...   \n",
              "YouTubeMIT                  0.024777     0.013751            0.186208   \n",
              "YouTubeMozillaHacks         0.076532     0.005397            0.070694   \n",
              "YouTubeOther               -0.013970    -0.002564           -0.021505   \n",
              "YouTubeSimplilearn          0.018454    -0.000799            0.068768   \n",
              "YouTubeTheNewBoston         0.050505     0.043937            0.130177   \n",
              "\n",
              "                     ResourceKA  ResourceLynda  ResourceMDN  ResourceOdinProj  \\\n",
              "Age                    0.026988       0.018914     0.037399          0.022143   \n",
              "AttendedBootcamp       0.041458       0.029616     0.056470          0.020112   \n",
              "BootcampFinish        -0.023868       0.005074     0.081504          0.044186   \n",
              "BootcampLoanYesNo     -0.024961       0.006118     0.081865          0.043439   \n",
              "BootcampName          -0.022756       0.006710     0.077595          0.051609   \n",
              "...                         ...            ...          ...               ...   \n",
              "YouTubeMIT             0.161433       0.053903     0.035827          0.053232   \n",
              "YouTubeMozillaHacks    0.036433       0.032599     0.133229          0.035710   \n",
              "YouTubeOther          -0.011284      -0.018924    -0.002132         -0.014852   \n",
              "YouTubeSimplilearn     0.029725       0.040410    -0.006568          0.030822   \n",
              "YouTubeTheNewBoston    0.063440       0.070873     0.059527          0.041676   \n",
              "\n",
              "                     ResourceOther  ResourcePluralSight  ResourceSkillcrush  \\\n",
              "Age                       0.002777             0.013311            0.007657   \n",
              "AttendedBootcamp          0.020011             0.030201           -0.003154   \n",
              "BootcampFinish            0.015995             0.071462            0.044171   \n",
              "BootcampLoanYesNo         0.015356             0.073000            0.043607   \n",
              "BootcampName              0.015588             0.068114            0.049869   \n",
              "...                            ...                  ...                 ...   \n",
              "YouTubeMIT                0.005895             0.053927           -0.006158   \n",
              "YouTubeMozillaHacks       0.001255             0.058314            0.032127   \n",
              "YouTubeOther              0.114310            -0.010934           -0.007347   \n",
              "YouTubeSimplilearn       -0.000741             0.038200            0.060816   \n",
              "YouTubeTheNewBoston       0.002734             0.059697            0.011853   \n",
              "\n",
              "                     ResourceSO  ResourceTreehouse  ResourceUdacity  \\\n",
              "Age                    0.055875           0.019914         0.011119   \n",
              "AttendedBootcamp       0.093320           0.027371         0.032737   \n",
              "BootcampFinish         0.073028           0.088638        -0.000390   \n",
              "BootcampLoanYesNo      0.071673           0.088080         0.000689   \n",
              "BootcampName           0.068078           0.089940        -0.002635   \n",
              "...                         ...                ...              ...   \n",
              "YouTubeMIT             0.112813           0.017376         0.179417   \n",
              "YouTubeMozillaHacks    0.032034           0.047377         0.054645   \n",
              "YouTubeOther           0.000194          -0.009321        -0.029858   \n",
              "YouTubeSimplilearn     0.004393           0.043059         0.066478   \n",
              "YouTubeTheNewBoston    0.098322           0.055063         0.098623   \n",
              "\n",
              "                     ResourceUdemy  ResourceW3S  SchoolDegree  SchoolMajor  \\\n",
              "Age                       0.045020     0.041117      0.921856     0.383106   \n",
              "AttendedBootcamp          0.042775     0.067980      0.205208     0.091106   \n",
              "BootcampFinish            0.031637     0.011562      0.003947     0.070071   \n",
              "BootcampLoanYesNo         0.032112     0.009936      0.004281     0.070791   \n",
              "BootcampName              0.030604     0.003038      0.011338     0.076397   \n",
              "...                            ...          ...           ...          ...   \n",
              "YouTubeMIT                0.087539     0.012122      0.017651     0.029187   \n",
              "YouTubeMozillaHacks       0.034837     0.007778     -0.009997    -0.003430   \n",
              "YouTubeOther             -0.023511    -0.005858      0.007009     0.010622   \n",
              "YouTubeSimplilearn        0.049564     0.009504      0.000063     0.020521   \n",
              "YouTubeTheNewBoston       0.103072     0.075210      0.012020    -0.028420   \n",
              "\n",
              "                     StudentDebtOwe  YouTubeCodeCourse  YouTubeCodingTrain  \\\n",
              "Age                        0.199728          -0.003614            0.007962   \n",
              "AttendedBootcamp           0.064730           0.025748            0.026289   \n",
              "BootcampFinish             0.077245           0.003950           -0.014944   \n",
              "BootcampLoanYesNo          0.076399           0.003384           -0.014401   \n",
              "BootcampName               0.085645           0.004524           -0.017512   \n",
              "...                             ...                ...                 ...   \n",
              "YouTubeMIT                 0.006440           0.058637            0.055756   \n",
              "YouTubeMozillaHacks       -0.037458           0.130533            0.058533   \n",
              "YouTubeOther               0.010463          -0.028487           -0.012897   \n",
              "YouTubeSimplilearn        -0.011085           0.088209            0.056494   \n",
              "YouTubeTheNewBoston       -0.024384           0.094990            0.095219   \n",
              "\n",
              "                     YouTubeCodingTut360  YouTubeComputerphile  \\\n",
              "Age                             0.013049              0.023286   \n",
              "AttendedBootcamp                0.033740              0.038833   \n",
              "BootcampFinish                 -0.018583             -0.013331   \n",
              "BootcampLoanYesNo              -0.013929             -0.012243   \n",
              "BootcampName                   -0.011090             -0.011735   \n",
              "...                                  ...                   ...   \n",
              "YouTubeMIT                      0.049286              0.162641   \n",
              "YouTubeMozillaHacks             0.096789              0.044942   \n",
              "YouTubeOther                   -0.030042             -0.028483   \n",
              "YouTubeSimplilearn              0.082066              0.056123   \n",
              "YouTubeTheNewBoston             0.085299              0.145799   \n",
              "\n",
              "                     YouTubeDerekBanas  YouTubeDevTips  \\\n",
              "Age                          -0.000324        0.019346   \n",
              "AttendedBootcamp              0.037277        0.051692   \n",
              "BootcampFinish               -0.010553        0.003302   \n",
              "BootcampLoanYesNo            -0.010519        0.003658   \n",
              "BootcampName                 -0.015913        0.006514   \n",
              "...                                ...             ...   \n",
              "YouTubeMIT                    0.111552        0.045206   \n",
              "YouTubeMozillaHacks           0.028837        0.105454   \n",
              "YouTubeOther                 -0.006105       -0.025688   \n",
              "YouTubeSimplilearn            0.061942        0.040502   \n",
              "YouTubeTheNewBoston           0.316709        0.159736   \n",
              "\n",
              "                     YouTubeEngineeredTruth  YouTubeFCC  \\\n",
              "Age                                0.028412    0.031531   \n",
              "AttendedBootcamp                   0.026744    0.081866   \n",
              "BootcampFinish                    -0.017909   -0.042215   \n",
              "BootcampLoanYesNo                 -0.018391   -0.042190   \n",
              "BootcampName                      -0.017248   -0.043150   \n",
              "...                                     ...         ...   \n",
              "YouTubeMIT                         0.072763    0.124491   \n",
              "YouTubeMozillaHacks                0.043967    0.110161   \n",
              "YouTubeOther                      -0.001287   -0.085244   \n",
              "YouTubeSimplilearn                 0.062546    0.043842   \n",
              "YouTubeTheNewBoston                0.078207    0.075609   \n",
              "\n",
              "                     YouTubeFunFunFunction  YouTubeGoogleDev  \\\n",
              "Age                               0.017866         -0.003165   \n",
              "AttendedBootcamp                  0.034703          0.049878   \n",
              "BootcampFinish                    0.063346         -0.012492   \n",
              "BootcampLoanYesNo                 0.064267         -0.012407   \n",
              "BootcampName                      0.067314         -0.015482   \n",
              "...                                    ...               ...   \n",
              "YouTubeMIT                        0.034251          0.227502   \n",
              "YouTubeMozillaHacks               0.073659          0.196332   \n",
              "YouTubeOther                     -0.001933         -0.064217   \n",
              "YouTubeSimplilearn                0.045663          0.070233   \n",
              "YouTubeTheNewBoston               0.114723          0.119528   \n",
              "\n",
              "                     YouTubeLearnCode  YouTubeLevelUpTuts  YouTubeMIT  \\\n",
              "Age                          0.006146            0.007820    0.008273   \n",
              "AttendedBootcamp             0.045538            0.035025    0.047082   \n",
              "BootcampFinish               0.006898            0.005174   -0.013113   \n",
              "BootcampLoanYesNo            0.006562            0.004480   -0.012352   \n",
              "BootcampName                 0.004200            0.006602   -0.010053   \n",
              "...                               ...                 ...         ...   \n",
              "YouTubeMIT                   0.080767            0.065429    1.000000   \n",
              "YouTubeMozillaHacks          0.100916            0.093450    0.102631   \n",
              "YouTubeOther                -0.038524           -0.025031   -0.064525   \n",
              "YouTubeSimplilearn           0.066306            0.066308    0.076468   \n",
              "YouTubeTheNewBoston          0.144751            0.197895    0.148414   \n",
              "\n",
              "                     YouTubeMozillaHacks  YouTubeOther  YouTubeSimplilearn  \\\n",
              "Age                            -0.012479      0.008268           -0.001377   \n",
              "AttendedBootcamp                0.013303      0.025273            0.013826   \n",
              "BootcampFinish                 -0.000751      0.002432            0.007106   \n",
              "BootcampLoanYesNo               0.000094      0.002731            0.006829   \n",
              "BootcampName                    0.000711      0.004568            0.008289   \n",
              "...                                  ...           ...                 ...   \n",
              "YouTubeMIT                      0.102631     -0.064525            0.076468   \n",
              "YouTubeMozillaHacks             1.000000     -0.032179            0.107425   \n",
              "YouTubeOther                   -0.032179      1.000000           -0.007219   \n",
              "YouTubeSimplilearn              0.107425     -0.007219            1.000000   \n",
              "YouTubeTheNewBoston             0.034179     -0.043995            0.061646   \n",
              "\n",
              "                     YouTubeTheNewBoston  \n",
              "Age                             0.014147  \n",
              "AttendedBootcamp                0.050809  \n",
              "BootcampFinish                 -0.036795  \n",
              "BootcampLoanYesNo              -0.035771  \n",
              "BootcampName                   -0.035203  \n",
              "...                                  ...  \n",
              "YouTubeMIT                      0.148414  \n",
              "YouTubeMozillaHacks             0.034179  \n",
              "YouTubeOther                   -0.043995  \n",
              "YouTubeSimplilearn              0.061646  \n",
              "YouTubeTheNewBoston             1.000000  \n",
              "\n",
              "[136 rows x 136 columns]"
            ],
            "text/html": [
              "\n",
              "  <div id=\"df-0b5b1ba4-b6be-44b9-a4b5-4c0756bc9857\">\n",
              "    <div class=\"colab-df-container\">\n",
              "      <div>\n",
              "<style scoped>\n",
              "    .dataframe tbody tr th:only-of-type {\n",
              "        vertical-align: middle;\n",
              "    }\n",
              "\n",
              "    .dataframe tbody tr th {\n",
              "        vertical-align: top;\n",
              "    }\n",
              "\n",
              "    .dataframe thead th {\n",
              "        text-align: right;\n",
              "    }\n",
              "</style>\n",
              "<table border=\"1\" class=\"dataframe\">\n",
              "  <thead>\n",
              "    <tr style=\"text-align: right;\">\n",
              "      <th></th>\n",
              "      <th>Age</th>\n",
              "      <th>AttendedBootcamp</th>\n",
              "      <th>BootcampFinish</th>\n",
              "      <th>BootcampLoanYesNo</th>\n",
              "      <th>BootcampName</th>\n",
              "      <th>BootcampRecommend</th>\n",
              "      <th>ChildrenNumber</th>\n",
              "      <th>CityPopulation</th>\n",
              "      <th>CodeEventConferences</th>\n",
              "      <th>CodeEventDjangoGirls</th>\n",
              "      <th>CodeEventFCC</th>\n",
              "      <th>CodeEventGameJam</th>\n",
              "      <th>CodeEventGirlDev</th>\n",
              "      <th>CodeEventHackathons</th>\n",
              "      <th>CodeEventMeetup</th>\n",
              "      <th>CodeEventNodeSchool</th>\n",
              "      <th>CodeEventNone</th>\n",
              "      <th>CodeEventOther</th>\n",
              "      <th>CodeEventRailsBridge</th>\n",
              "      <th>CodeEventRailsGirls</th>\n",
              "      <th>CodeEventStartUpWknd</th>\n",
              "      <th>CodeEventWkdBootcamps</th>\n",
              "      <th>CodeEventWomenCode</th>\n",
              "      <th>CodeEventWorkshops</th>\n",
              "      <th>CommuteTime</th>\n",
              "      <th>CountryCitizen</th>\n",
              "      <th>CountryLive</th>\n",
              "      <th>EmploymentField</th>\n",
              "      <th>EmploymentFieldOther</th>\n",
              "      <th>EmploymentStatus</th>\n",
              "      <th>EmploymentStatusOther</th>\n",
              "      <th>ExpectedEarning</th>\n",
              "      <th>FinanciallySupporting</th>\n",
              "      <th>FirstDevJob</th>\n",
              "      <th>Gender</th>\n",
              "      <th>GenderOther</th>\n",
              "      <th>HasChildren</th>\n",
              "      <th>HasDebt</th>\n",
              "      <th>HasFinancialDependents</th>\n",
              "      <th>HasHighSpdInternet</th>\n",
              "      <th>HasHomeMortgage</th>\n",
              "      <th>HasServedInMilitary</th>\n",
              "      <th>HasStudentDebt</th>\n",
              "      <th>HomeMortgageOwe</th>\n",
              "      <th>HoursLearning</th>\n",
              "      <th>ID.x</th>\n",
              "      <th>ID.y</th>\n",
              "      <th>Income</th>\n",
              "      <th>IsEthnicMinority</th>\n",
              "      <th>IsReceiveDisabilitiesBenefits</th>\n",
              "      <th>IsSoftwareDev</th>\n",
              "      <th>IsUnderEmployed</th>\n",
              "      <th>JobApplyWhen</th>\n",
              "      <th>JobInterestBackEnd</th>\n",
              "      <th>JobInterestDataEngr</th>\n",
              "      <th>JobInterestDataSci</th>\n",
              "      <th>JobInterestDevOps</th>\n",
              "      <th>JobInterestFrontEnd</th>\n",
              "      <th>JobInterestFullStack</th>\n",
              "      <th>JobInterestGameDev</th>\n",
              "      <th>JobInterestInfoSec</th>\n",
              "      <th>JobInterestMobile</th>\n",
              "      <th>JobInterestOther</th>\n",
              "      <th>JobInterestProjMngr</th>\n",
              "      <th>JobInterestQAEngr</th>\n",
              "      <th>JobInterestUX</th>\n",
              "      <th>JobPref</th>\n",
              "      <th>JobRelocateYesNo</th>\n",
              "      <th>JobRoleInterest</th>\n",
              "      <th>JobWherePref</th>\n",
              "      <th>LanguageAtHome</th>\n",
              "      <th>MaritalStatus</th>\n",
              "      <th>MoneyForLearning</th>\n",
              "      <th>MonthsProgramming</th>\n",
              "      <th>NetworkID</th>\n",
              "      <th>Part1EndTime</th>\n",
              "      <th>Part1StartTime</th>\n",
              "      <th>Part2EndTime</th>\n",
              "      <th>Part2StartTime</th>\n",
              "      <th>PodcastChangeLog</th>\n",
              "      <th>PodcastCodeNewbie</th>\n",
              "      <th>PodcastCodePen</th>\n",
              "      <th>PodcastDevTea</th>\n",
              "      <th>PodcastDotNET</th>\n",
              "      <th>PodcastGiantRobots</th>\n",
              "      <th>PodcastJSAir</th>\n",
              "      <th>PodcastJSJabber</th>\n",
              "      <th>PodcastNone</th>\n",
              "      <th>PodcastOther</th>\n",
              "      <th>PodcastProgThrowdown</th>\n",
              "      <th>PodcastRubyRogues</th>\n",
              "      <th>PodcastSEDaily</th>\n",
              "      <th>PodcastSERadio</th>\n",
              "      <th>PodcastShopTalk</th>\n",
              "      <th>PodcastTalkPython</th>\n",
              "      <th>PodcastTheWebAhead</th>\n",
              "      <th>ResourceCodecademy</th>\n",
              "      <th>ResourceCodeWars</th>\n",
              "      <th>ResourceCoursera</th>\n",
              "      <th>ResourceCSS</th>\n",
              "      <th>ResourceEdX</th>\n",
              "      <th>ResourceEgghead</th>\n",
              "      <th>ResourceFCC</th>\n",
              "      <th>ResourceHackerRank</th>\n",
              "      <th>ResourceKA</th>\n",
              "      <th>ResourceLynda</th>\n",
              "      <th>ResourceMDN</th>\n",
              "      <th>ResourceOdinProj</th>\n",
              "      <th>ResourceOther</th>\n",
              "      <th>ResourcePluralSight</th>\n",
              "      <th>ResourceSkillcrush</th>\n",
              "      <th>ResourceSO</th>\n",
              "      <th>ResourceTreehouse</th>\n",
              "      <th>ResourceUdacity</th>\n",
              "      <th>ResourceUdemy</th>\n",
              "      <th>ResourceW3S</th>\n",
              "      <th>SchoolDegree</th>\n",
              "      <th>SchoolMajor</th>\n",
              "      <th>StudentDebtOwe</th>\n",
              "      <th>YouTubeCodeCourse</th>\n",
              "      <th>YouTubeCodingTrain</th>\n",
              "      <th>YouTubeCodingTut360</th>\n",
              "      <th>YouTubeComputerphile</th>\n",
              "      <th>YouTubeDerekBanas</th>\n",
              "      <th>YouTubeDevTips</th>\n",
              "      <th>YouTubeEngineeredTruth</th>\n",
              "      <th>YouTubeFCC</th>\n",
              "      <th>YouTubeFunFunFunction</th>\n",
              "      <th>YouTubeGoogleDev</th>\n",
              "      <th>YouTubeLearnCode</th>\n",
              "      <th>YouTubeLevelUpTuts</th>\n",
              "      <th>YouTubeMIT</th>\n",
              "      <th>YouTubeMozillaHacks</th>\n",
              "      <th>YouTubeOther</th>\n",
              "      <th>YouTubeSimplilearn</th>\n",
              "      <th>YouTubeTheNewBoston</th>\n",
              "    </tr>\n",
              "  </thead>\n",
              "  <tbody>\n",
              "    <tr>\n",
              "      <th>Age</th>\n",
              "      <td>1.000000</td>\n",
              "      <td>0.200338</td>\n",
              "      <td>-0.002486</td>\n",
              "      <td>-0.002768</td>\n",
              "      <td>0.004529</td>\n",
              "      <td>-0.002082</td>\n",
              "      <td>0.157338</td>\n",
              "      <td>0.916553</td>\n",
              "      <td>-0.007724</td>\n",
              "      <td>-0.026496</td>\n",
              "      <td>-0.014148</td>\n",
              "      <td>0.004622</td>\n",
              "      <td>-0.000137</td>\n",
              "      <td>-0.015429</td>\n",
              "      <td>0.031050</td>\n",
              "      <td>-0.032563</td>\n",
              "      <td>0.005960</td>\n",
              "      <td>-0.008679</td>\n",
              "      <td>-0.006165</td>\n",
              "      <td>-0.011844</td>\n",
              "      <td>-0.017826</td>\n",
              "      <td>-0.013802</td>\n",
              "      <td>-0.010135</td>\n",
              "      <td>-0.008336</td>\n",
              "      <td>0.412761</td>\n",
              "      <td>0.929299</td>\n",
              "      <td>0.922238</td>\n",
              "      <td>0.362841</td>\n",
              "      <td>0.103471</td>\n",
              "      <td>0.768307</td>\n",
              "      <td>0.087260</td>\n",
              "      <td>0.011636</td>\n",
              "      <td>0.207554</td>\n",
              "      <td>-0.008292</td>\n",
              "      <td>0.940224</td>\n",
              "      <td>0.015236</td>\n",
              "      <td>0.205520</td>\n",
              "      <td>0.915130</td>\n",
              "      <td>0.920022</td>\n",
              "      <td>0.921301</td>\n",
              "      <td>0.301327</td>\n",
              "      <td>0.908428</td>\n",
              "      <td>0.301519</td>\n",
              "      <td>0.120371</td>\n",
              "      <td>0.151331</td>\n",
              "      <td>NaN</td>\n",
              "      <td>0.919463</td>\n",
              "      <td>0.356850</td>\n",
              "      <td>0.911765</td>\n",
              "      <td>0.901611</td>\n",
              "      <td>0.116348</td>\n",
              "      <td>0.412576</td>\n",
              "      <td>-0.015214</td>\n",
              "      <td>0.004615</td>\n",
              "      <td>-0.011663</td>\n",
              "      <td>-0.015418</td>\n",
              "      <td>-0.008512</td>\n",
              "      <td>0.015827</td>\n",
              "      <td>0.008746</td>\n",
              "      <td>0.006848</td>\n",
              "      <td>-0.020099</td>\n",
              "      <td>-0.004042</td>\n",
              "      <td>-0.011287</td>\n",
              "      <td>-0.004076</td>\n",
              "      <td>-0.011890</td>\n",
              "      <td>0.003803</td>\n",
              "      <td>0.031341</td>\n",
              "      <td>-0.014069</td>\n",
              "      <td>0.290134</td>\n",
              "      <td>-0.010652</td>\n",
              "      <td>0.928436</td>\n",
              "      <td>0.927072</td>\n",
              "      <td>0.172622</td>\n",
              "      <td>0.175884</td>\n",
              "      <td>NaN</td>\n",
              "      <td>NaN</td>\n",
              "      <td>NaN</td>\n",
              "      <td>0.919463</td>\n",
              "      <td>0.919463</td>\n",
              "      <td>0.004407</td>\n",
              "      <td>0.016893</td>\n",
              "      <td>-0.017029</td>\n",
              "      <td>0.007355</td>\n",
              "      <td>-0.003985</td>\n",
              "      <td>-0.009216</td>\n",
              "      <td>-0.029411</td>\n",
              "      <td>0.002214</td>\n",
              "      <td>-0.003297</td>\n",
              "      <td>0.016816</td>\n",
              "      <td>-0.015281</td>\n",
              "      <td>-0.001762</td>\n",
              "      <td>0.003026</td>\n",
              "      <td>-0.006130</td>\n",
              "      <td>0.009440</td>\n",
              "      <td>-0.002290</td>\n",
              "      <td>0.004753</td>\n",
              "      <td>0.041959</td>\n",
              "      <td>0.020910</td>\n",
              "      <td>0.009985</td>\n",
              "      <td>0.030538</td>\n",
              "      <td>0.017907</td>\n",
              "      <td>0.000688</td>\n",
              "      <td>0.049698</td>\n",
              "      <td>-0.022350</td>\n",
              "      <td>0.026988</td>\n",
              "      <td>0.018914</td>\n",
              "      <td>0.037399</td>\n",
              "      <td>0.022143</td>\n",
              "      <td>0.002777</td>\n",
              "      <td>0.013311</td>\n",
              "      <td>0.007657</td>\n",
              "      <td>0.055875</td>\n",
              "      <td>0.019914</td>\n",
              "      <td>0.011119</td>\n",
              "      <td>0.045020</td>\n",
              "      <td>0.041117</td>\n",
              "      <td>0.921856</td>\n",
              "      <td>0.383106</td>\n",
              "      <td>0.199728</td>\n",
              "      <td>-0.003614</td>\n",
              "      <td>0.007962</td>\n",
              "      <td>0.013049</td>\n",
              "      <td>0.023286</td>\n",
              "      <td>-0.000324</td>\n",
              "      <td>0.019346</td>\n",
              "      <td>0.028412</td>\n",
              "      <td>0.031531</td>\n",
              "      <td>0.017866</td>\n",
              "      <td>-0.003165</td>\n",
              "      <td>0.006146</td>\n",
              "      <td>0.007820</td>\n",
              "      <td>0.008273</td>\n",
              "      <td>-0.012479</td>\n",
              "      <td>0.008268</td>\n",
              "      <td>-0.001377</td>\n",
              "      <td>0.014147</td>\n",
              "    </tr>\n",
              "    <tr>\n",
              "      <th>AttendedBootcamp</th>\n",
              "      <td>0.200338</td>\n",
              "      <td>1.000000</td>\n",
              "      <td>0.040552</td>\n",
              "      <td>0.040753</td>\n",
              "      <td>0.038075</td>\n",
              "      <td>0.040632</td>\n",
              "      <td>0.033763</td>\n",
              "      <td>0.205408</td>\n",
              "      <td>0.028497</td>\n",
              "      <td>-0.006494</td>\n",
              "      <td>0.008103</td>\n",
              "      <td>0.012322</td>\n",
              "      <td>0.007180</td>\n",
              "      <td>0.030957</td>\n",
              "      <td>0.032882</td>\n",
              "      <td>0.003229</td>\n",
              "      <td>0.028893</td>\n",
              "      <td>0.015208</td>\n",
              "      <td>0.001675</td>\n",
              "      <td>-0.006623</td>\n",
              "      <td>0.003979</td>\n",
              "      <td>0.016350</td>\n",
              "      <td>0.005059</td>\n",
              "      <td>0.023520</td>\n",
              "      <td>0.110062</td>\n",
              "      <td>0.201148</td>\n",
              "      <td>0.201557</td>\n",
              "      <td>0.095994</td>\n",
              "      <td>0.028943</td>\n",
              "      <td>0.183345</td>\n",
              "      <td>0.020633</td>\n",
              "      <td>0.061640</td>\n",
              "      <td>0.037782</td>\n",
              "      <td>0.010949</td>\n",
              "      <td>0.196337</td>\n",
              "      <td>0.008937</td>\n",
              "      <td>0.036535</td>\n",
              "      <td>0.202031</td>\n",
              "      <td>0.205014</td>\n",
              "      <td>0.204900</td>\n",
              "      <td>0.081648</td>\n",
              "      <td>0.206832</td>\n",
              "      <td>0.080998</td>\n",
              "      <td>0.038426</td>\n",
              "      <td>0.414236</td>\n",
              "      <td>NaN</td>\n",
              "      <td>0.140740</td>\n",
              "      <td>0.101195</td>\n",
              "      <td>0.206902</td>\n",
              "      <td>0.206932</td>\n",
              "      <td>0.287835</td>\n",
              "      <td>0.108951</td>\n",
              "      <td>0.035461</td>\n",
              "      <td>0.040275</td>\n",
              "      <td>0.014925</td>\n",
              "      <td>0.020000</td>\n",
              "      <td>0.023435</td>\n",
              "      <td>0.034107</td>\n",
              "      <td>0.041657</td>\n",
              "      <td>0.026407</td>\n",
              "      <td>0.022366</td>\n",
              "      <td>0.030093</td>\n",
              "      <td>0.008175</td>\n",
              "      <td>0.014273</td>\n",
              "      <td>0.015739</td>\n",
              "      <td>0.018402</td>\n",
              "      <td>0.050669</td>\n",
              "      <td>0.039748</td>\n",
              "      <td>0.058150</td>\n",
              "      <td>0.043512</td>\n",
              "      <td>0.201026</td>\n",
              "      <td>0.197668</td>\n",
              "      <td>0.394626</td>\n",
              "      <td>0.499766</td>\n",
              "      <td>NaN</td>\n",
              "      <td>NaN</td>\n",
              "      <td>NaN</td>\n",
              "      <td>0.140740</td>\n",
              "      <td>0.140740</td>\n",
              "      <td>0.019699</td>\n",
              "      <td>0.041289</td>\n",
              "      <td>0.023839</td>\n",
              "      <td>0.018934</td>\n",
              "      <td>0.011482</td>\n",
              "      <td>0.013090</td>\n",
              "      <td>0.008202</td>\n",
              "      <td>0.024280</td>\n",
              "      <td>0.024058</td>\n",
              "      <td>0.019444</td>\n",
              "      <td>0.009810</td>\n",
              "      <td>0.009183</td>\n",
              "      <td>0.020922</td>\n",
              "      <td>0.005783</td>\n",
              "      <td>0.013682</td>\n",
              "      <td>0.014556</td>\n",
              "      <td>0.007983</td>\n",
              "      <td>0.079242</td>\n",
              "      <td>0.034994</td>\n",
              "      <td>0.047018</td>\n",
              "      <td>0.048404</td>\n",
              "      <td>0.029230</td>\n",
              "      <td>0.029805</td>\n",
              "      <td>0.090324</td>\n",
              "      <td>0.029206</td>\n",
              "      <td>0.041458</td>\n",
              "      <td>0.029616</td>\n",
              "      <td>0.056470</td>\n",
              "      <td>0.020112</td>\n",
              "      <td>0.020011</td>\n",
              "      <td>0.030201</td>\n",
              "      <td>-0.003154</td>\n",
              "      <td>0.093320</td>\n",
              "      <td>0.027371</td>\n",
              "      <td>0.032737</td>\n",
              "      <td>0.042775</td>\n",
              "      <td>0.067980</td>\n",
              "      <td>0.205208</td>\n",
              "      <td>0.091106</td>\n",
              "      <td>0.064730</td>\n",
              "      <td>0.025748</td>\n",
              "      <td>0.026289</td>\n",
              "      <td>0.033740</td>\n",
              "      <td>0.038833</td>\n",
              "      <td>0.037277</td>\n",
              "      <td>0.051692</td>\n",
              "      <td>0.026744</td>\n",
              "      <td>0.081866</td>\n",
              "      <td>0.034703</td>\n",
              "      <td>0.049878</td>\n",
              "      <td>0.045538</td>\n",
              "      <td>0.035025</td>\n",
              "      <td>0.047082</td>\n",
              "      <td>0.013303</td>\n",
              "      <td>0.025273</td>\n",
              "      <td>0.013826</td>\n",
              "      <td>0.050809</td>\n",
              "    </tr>\n",
              "    <tr>\n",
              "      <th>BootcampFinish</th>\n",
              "      <td>-0.002486</td>\n",
              "      <td>0.040552</td>\n",
              "      <td>1.000000</td>\n",
              "      <td>0.989127</td>\n",
              "      <td>0.925249</td>\n",
              "      <td>0.985119</td>\n",
              "      <td>0.002033</td>\n",
              "      <td>0.002533</td>\n",
              "      <td>0.073567</td>\n",
              "      <td>0.030314</td>\n",
              "      <td>0.017263</td>\n",
              "      <td>0.022289</td>\n",
              "      <td>0.126405</td>\n",
              "      <td>0.076397</td>\n",
              "      <td>0.199607</td>\n",
              "      <td>0.055573</td>\n",
              "      <td>-0.046856</td>\n",
              "      <td>0.052963</td>\n",
              "      <td>0.074568</td>\n",
              "      <td>0.047469</td>\n",
              "      <td>0.069996</td>\n",
              "      <td>0.068200</td>\n",
              "      <td>0.117584</td>\n",
              "      <td>0.086260</td>\n",
              "      <td>0.027214</td>\n",
              "      <td>0.002124</td>\n",
              "      <td>0.001921</td>\n",
              "      <td>0.042637</td>\n",
              "      <td>-0.027131</td>\n",
              "      <td>0.019077</td>\n",
              "      <td>-0.022465</td>\n",
              "      <td>-0.009793</td>\n",
              "      <td>-0.007708</td>\n",
              "      <td>0.153159</td>\n",
              "      <td>-0.000628</td>\n",
              "      <td>-0.001000</td>\n",
              "      <td>-0.009102</td>\n",
              "      <td>0.002322</td>\n",
              "      <td>0.000897</td>\n",
              "      <td>-0.001041</td>\n",
              "      <td>0.073814</td>\n",
              "      <td>0.000438</td>\n",
              "      <td>0.074636</td>\n",
              "      <td>0.021572</td>\n",
              "      <td>0.020584</td>\n",
              "      <td>NaN</td>\n",
              "      <td>-0.003405</td>\n",
              "      <td>0.027314</td>\n",
              "      <td>0.004808</td>\n",
              "      <td>0.001703</td>\n",
              "      <td>0.013124</td>\n",
              "      <td>0.028313</td>\n",
              "      <td>-0.030405</td>\n",
              "      <td>-0.013674</td>\n",
              "      <td>-0.028699</td>\n",
              "      <td>-0.048549</td>\n",
              "      <td>-0.025810</td>\n",
              "      <td>-0.000018</td>\n",
              "      <td>0.006275</td>\n",
              "      <td>-0.032507</td>\n",
              "      <td>-0.039032</td>\n",
              "      <td>-0.032632</td>\n",
              "      <td>-0.007099</td>\n",
              "      <td>-0.008694</td>\n",
              "      <td>-0.009745</td>\n",
              "      <td>-0.015665</td>\n",
              "      <td>-0.145898</td>\n",
              "      <td>-0.017312</td>\n",
              "      <td>-0.024633</td>\n",
              "      <td>-0.028447</td>\n",
              "      <td>0.001619</td>\n",
              "      <td>0.000670</td>\n",
              "      <td>0.026417</td>\n",
              "      <td>0.036592</td>\n",
              "      <td>NaN</td>\n",
              "      <td>NaN</td>\n",
              "      <td>NaN</td>\n",
              "      <td>-0.003405</td>\n",
              "      <td>-0.003405</td>\n",
              "      <td>0.033822</td>\n",
              "      <td>0.055378</td>\n",
              "      <td>0.016843</td>\n",
              "      <td>0.041956</td>\n",
              "      <td>0.003108</td>\n",
              "      <td>0.062572</td>\n",
              "      <td>0.036181</td>\n",
              "      <td>0.080564</td>\n",
              "      <td>-0.020352</td>\n",
              "      <td>0.006651</td>\n",
              "      <td>0.021777</td>\n",
              "      <td>0.080931</td>\n",
              "      <td>0.025844</td>\n",
              "      <td>0.011054</td>\n",
              "      <td>0.013013</td>\n",
              "      <td>0.005614</td>\n",
              "      <td>0.012096</td>\n",
              "      <td>0.033088</td>\n",
              "      <td>0.132550</td>\n",
              "      <td>-0.015782</td>\n",
              "      <td>0.097539</td>\n",
              "      <td>-0.037711</td>\n",
              "      <td>0.102986</td>\n",
              "      <td>-0.103872</td>\n",
              "      <td>0.012927</td>\n",
              "      <td>-0.023868</td>\n",
              "      <td>0.005074</td>\n",
              "      <td>0.081504</td>\n",
              "      <td>0.044186</td>\n",
              "      <td>0.015995</td>\n",
              "      <td>0.071462</td>\n",
              "      <td>0.044171</td>\n",
              "      <td>0.073028</td>\n",
              "      <td>0.088638</td>\n",
              "      <td>-0.000390</td>\n",
              "      <td>0.031637</td>\n",
              "      <td>0.011562</td>\n",
              "      <td>0.003947</td>\n",
              "      <td>0.070071</td>\n",
              "      <td>0.077245</td>\n",
              "      <td>0.003950</td>\n",
              "      <td>-0.014944</td>\n",
              "      <td>-0.018583</td>\n",
              "      <td>-0.013331</td>\n",
              "      <td>-0.010553</td>\n",
              "      <td>0.003302</td>\n",
              "      <td>-0.017909</td>\n",
              "      <td>-0.042215</td>\n",
              "      <td>0.063346</td>\n",
              "      <td>-0.012492</td>\n",
              "      <td>0.006898</td>\n",
              "      <td>0.005174</td>\n",
              "      <td>-0.013113</td>\n",
              "      <td>-0.000751</td>\n",
              "      <td>0.002432</td>\n",
              "      <td>0.007106</td>\n",
              "      <td>-0.036795</td>\n",
              "    </tr>\n",
              "    <tr>\n",
              "      <th>BootcampLoanYesNo</th>\n",
              "      <td>-0.002768</td>\n",
              "      <td>0.040753</td>\n",
              "      <td>0.989127</td>\n",
              "      <td>1.000000</td>\n",
              "      <td>0.931141</td>\n",
              "      <td>0.993089</td>\n",
              "      <td>0.001833</td>\n",
              "      <td>0.002877</td>\n",
              "      <td>0.075800</td>\n",
              "      <td>0.029959</td>\n",
              "      <td>0.017236</td>\n",
              "      <td>0.020037</td>\n",
              "      <td>0.127391</td>\n",
              "      <td>0.078242</td>\n",
              "      <td>0.200531</td>\n",
              "      <td>0.054962</td>\n",
              "      <td>-0.047236</td>\n",
              "      <td>0.053649</td>\n",
              "      <td>0.076775</td>\n",
              "      <td>0.052547</td>\n",
              "      <td>0.072015</td>\n",
              "      <td>0.068855</td>\n",
              "      <td>0.118139</td>\n",
              "      <td>0.086701</td>\n",
              "      <td>0.027986</td>\n",
              "      <td>0.001816</td>\n",
              "      <td>0.002273</td>\n",
              "      <td>0.042702</td>\n",
              "      <td>-0.025626</td>\n",
              "      <td>0.019626</td>\n",
              "      <td>-0.022878</td>\n",
              "      <td>-0.009732</td>\n",
              "      <td>-0.007166</td>\n",
              "      <td>0.153851</td>\n",
              "      <td>-0.000954</td>\n",
              "      <td>-0.001124</td>\n",
              "      <td>-0.008563</td>\n",
              "      <td>0.002686</td>\n",
              "      <td>0.001255</td>\n",
              "      <td>-0.000690</td>\n",
              "      <td>0.073726</td>\n",
              "      <td>0.000186</td>\n",
              "      <td>0.074544</td>\n",
              "      <td>0.021695</td>\n",
              "      <td>0.020326</td>\n",
              "      <td>NaN</td>\n",
              "      <td>-0.003843</td>\n",
              "      <td>0.028519</td>\n",
              "      <td>0.004523</td>\n",
              "      <td>0.001459</td>\n",
              "      <td>0.013246</td>\n",
              "      <td>0.029087</td>\n",
              "      <td>-0.029559</td>\n",
              "      <td>-0.013468</td>\n",
              "      <td>-0.028411</td>\n",
              "      <td>-0.049142</td>\n",
              "      <td>-0.026286</td>\n",
              "      <td>-0.000145</td>\n",
              "      <td>0.006428</td>\n",
              "      <td>-0.033155</td>\n",
              "      <td>-0.040407</td>\n",
              "      <td>-0.032144</td>\n",
              "      <td>-0.007351</td>\n",
              "      <td>-0.009200</td>\n",
              "      <td>-0.010127</td>\n",
              "      <td>-0.016343</td>\n",
              "      <td>-0.146550</td>\n",
              "      <td>-0.016061</td>\n",
              "      <td>-0.023974</td>\n",
              "      <td>-0.028074</td>\n",
              "      <td>0.001328</td>\n",
              "      <td>0.000387</td>\n",
              "      <td>0.027025</td>\n",
              "      <td>0.037021</td>\n",
              "      <td>NaN</td>\n",
              "      <td>NaN</td>\n",
              "      <td>NaN</td>\n",
              "      <td>-0.003843</td>\n",
              "      <td>-0.003843</td>\n",
              "      <td>0.034906</td>\n",
              "      <td>0.055218</td>\n",
              "      <td>0.018587</td>\n",
              "      <td>0.041298</td>\n",
              "      <td>0.002780</td>\n",
              "      <td>0.062063</td>\n",
              "      <td>0.035549</td>\n",
              "      <td>0.082517</td>\n",
              "      <td>-0.019850</td>\n",
              "      <td>0.007209</td>\n",
              "      <td>0.021359</td>\n",
              "      <td>0.081997</td>\n",
              "      <td>0.026377</td>\n",
              "      <td>0.012225</td>\n",
              "      <td>0.012646</td>\n",
              "      <td>0.005140</td>\n",
              "      <td>0.013531</td>\n",
              "      <td>0.033799</td>\n",
              "      <td>0.132730</td>\n",
              "      <td>-0.017030</td>\n",
              "      <td>0.097344</td>\n",
              "      <td>-0.038024</td>\n",
              "      <td>0.104552</td>\n",
              "      <td>-0.104289</td>\n",
              "      <td>0.012777</td>\n",
              "      <td>-0.024961</td>\n",
              "      <td>0.006118</td>\n",
              "      <td>0.081865</td>\n",
              "      <td>0.043439</td>\n",
              "      <td>0.015356</td>\n",
              "      <td>0.073000</td>\n",
              "      <td>0.043607</td>\n",
              "      <td>0.071673</td>\n",
              "      <td>0.088080</td>\n",
              "      <td>0.000689</td>\n",
              "      <td>0.032112</td>\n",
              "      <td>0.009936</td>\n",
              "      <td>0.004281</td>\n",
              "      <td>0.070791</td>\n",
              "      <td>0.076399</td>\n",
              "      <td>0.003384</td>\n",
              "      <td>-0.014401</td>\n",
              "      <td>-0.013929</td>\n",
              "      <td>-0.012243</td>\n",
              "      <td>-0.010519</td>\n",
              "      <td>0.003658</td>\n",
              "      <td>-0.018391</td>\n",
              "      <td>-0.042190</td>\n",
              "      <td>0.064267</td>\n",
              "      <td>-0.012407</td>\n",
              "      <td>0.006562</td>\n",
              "      <td>0.004480</td>\n",
              "      <td>-0.012352</td>\n",
              "      <td>0.000094</td>\n",
              "      <td>0.002731</td>\n",
              "      <td>0.006829</td>\n",
              "      <td>-0.035771</td>\n",
              "    </tr>\n",
              "    <tr>\n",
              "      <th>BootcampName</th>\n",
              "      <td>0.004529</td>\n",
              "      <td>0.038075</td>\n",
              "      <td>0.925249</td>\n",
              "      <td>0.931141</td>\n",
              "      <td>1.000000</td>\n",
              "      <td>0.927609</td>\n",
              "      <td>0.007550</td>\n",
              "      <td>0.009765</td>\n",
              "      <td>0.072256</td>\n",
              "      <td>0.021864</td>\n",
              "      <td>0.018493</td>\n",
              "      <td>0.017484</td>\n",
              "      <td>0.129713</td>\n",
              "      <td>0.072105</td>\n",
              "      <td>0.207015</td>\n",
              "      <td>0.053892</td>\n",
              "      <td>-0.042111</td>\n",
              "      <td>0.044327</td>\n",
              "      <td>0.072708</td>\n",
              "      <td>0.049831</td>\n",
              "      <td>0.063278</td>\n",
              "      <td>0.062883</td>\n",
              "      <td>0.121551</td>\n",
              "      <td>0.085848</td>\n",
              "      <td>0.032763</td>\n",
              "      <td>0.008117</td>\n",
              "      <td>0.010380</td>\n",
              "      <td>0.046381</td>\n",
              "      <td>-0.024384</td>\n",
              "      <td>0.024854</td>\n",
              "      <td>-0.021972</td>\n",
              "      <td>-0.007557</td>\n",
              "      <td>-0.004934</td>\n",
              "      <td>0.152116</td>\n",
              "      <td>0.004905</td>\n",
              "      <td>0.000577</td>\n",
              "      <td>-0.006317</td>\n",
              "      <td>0.009874</td>\n",
              "      <td>0.007896</td>\n",
              "      <td>0.006129</td>\n",
              "      <td>0.079744</td>\n",
              "      <td>0.007015</td>\n",
              "      <td>0.080630</td>\n",
              "      <td>0.028484</td>\n",
              "      <td>0.024821</td>\n",
              "      <td>NaN</td>\n",
              "      <td>0.002169</td>\n",
              "      <td>0.037575</td>\n",
              "      <td>0.011160</td>\n",
              "      <td>0.008173</td>\n",
              "      <td>0.011597</td>\n",
              "      <td>0.033356</td>\n",
              "      <td>-0.029804</td>\n",
              "      <td>-0.011128</td>\n",
              "      <td>-0.026992</td>\n",
              "      <td>-0.045893</td>\n",
              "      <td>-0.026038</td>\n",
              "      <td>0.001003</td>\n",
              "      <td>0.006019</td>\n",
              "      <td>-0.029193</td>\n",
              "      <td>-0.038368</td>\n",
              "      <td>-0.031948</td>\n",
              "      <td>-0.008010</td>\n",
              "      <td>-0.004502</td>\n",
              "      <td>-0.009107</td>\n",
              "      <td>-0.013022</td>\n",
              "      <td>-0.145253</td>\n",
              "      <td>-0.016795</td>\n",
              "      <td>-0.024952</td>\n",
              "      <td>-0.028297</td>\n",
              "      <td>0.008061</td>\n",
              "      <td>0.006328</td>\n",
              "      <td>0.038812</td>\n",
              "      <td>0.040572</td>\n",
              "      <td>NaN</td>\n",
              "      <td>NaN</td>\n",
              "      <td>NaN</td>\n",
              "      <td>0.002169</td>\n",
              "      <td>0.002169</td>\n",
              "      <td>0.038561</td>\n",
              "      <td>0.060991</td>\n",
              "      <td>0.022843</td>\n",
              "      <td>0.041608</td>\n",
              "      <td>0.001723</td>\n",
              "      <td>0.066754</td>\n",
              "      <td>0.038006</td>\n",
              "      <td>0.087688</td>\n",
              "      <td>-0.016245</td>\n",
              "      <td>0.006580</td>\n",
              "      <td>0.023536</td>\n",
              "      <td>0.087806</td>\n",
              "      <td>0.033660</td>\n",
              "      <td>0.012850</td>\n",
              "      <td>0.013951</td>\n",
              "      <td>0.007696</td>\n",
              "      <td>0.012895</td>\n",
              "      <td>0.034004</td>\n",
              "      <td>0.136263</td>\n",
              "      <td>-0.020696</td>\n",
              "      <td>0.096845</td>\n",
              "      <td>-0.042849</td>\n",
              "      <td>0.101215</td>\n",
              "      <td>-0.106310</td>\n",
              "      <td>0.012522</td>\n",
              "      <td>-0.022756</td>\n",
              "      <td>0.006710</td>\n",
              "      <td>0.077595</td>\n",
              "      <td>0.051609</td>\n",
              "      <td>0.015588</td>\n",
              "      <td>0.068114</td>\n",
              "      <td>0.049869</td>\n",
              "      <td>0.068078</td>\n",
              "      <td>0.089940</td>\n",
              "      <td>-0.002635</td>\n",
              "      <td>0.030604</td>\n",
              "      <td>0.003038</td>\n",
              "      <td>0.011338</td>\n",
              "      <td>0.076397</td>\n",
              "      <td>0.085645</td>\n",
              "      <td>0.004524</td>\n",
              "      <td>-0.017512</td>\n",
              "      <td>-0.011090</td>\n",
              "      <td>-0.011735</td>\n",
              "      <td>-0.015913</td>\n",
              "      <td>0.006514</td>\n",
              "      <td>-0.017248</td>\n",
              "      <td>-0.043150</td>\n",
              "      <td>0.067314</td>\n",
              "      <td>-0.015482</td>\n",
              "      <td>0.004200</td>\n",
              "      <td>0.006602</td>\n",
              "      <td>-0.010053</td>\n",
              "      <td>0.000711</td>\n",
              "      <td>0.004568</td>\n",
              "      <td>0.008289</td>\n",
              "      <td>-0.035203</td>\n",
              "    </tr>\n",
              "    <tr>\n",
              "      <th>...</th>\n",
              "      <td>...</td>\n",
              "      <td>...</td>\n",
              "      <td>...</td>\n",
              "      <td>...</td>\n",
              "      <td>...</td>\n",
              "      <td>...</td>\n",
              "      <td>...</td>\n",
              "      <td>...</td>\n",
              "      <td>...</td>\n",
              "      <td>...</td>\n",
              "      <td>...</td>\n",
              "      <td>...</td>\n",
              "      <td>...</td>\n",
              "      <td>...</td>\n",
              "      <td>...</td>\n",
              "      <td>...</td>\n",
              "      <td>...</td>\n",
              "      <td>...</td>\n",
              "      <td>...</td>\n",
              "      <td>...</td>\n",
              "      <td>...</td>\n",
              "      <td>...</td>\n",
              "      <td>...</td>\n",
              "      <td>...</td>\n",
              "      <td>...</td>\n",
              "      <td>...</td>\n",
              "      <td>...</td>\n",
              "      <td>...</td>\n",
              "      <td>...</td>\n",
              "      <td>...</td>\n",
              "      <td>...</td>\n",
              "      <td>...</td>\n",
              "      <td>...</td>\n",
              "      <td>...</td>\n",
              "      <td>...</td>\n",
              "      <td>...</td>\n",
              "      <td>...</td>\n",
              "      <td>...</td>\n",
              "      <td>...</td>\n",
              "      <td>...</td>\n",
              "      <td>...</td>\n",
              "      <td>...</td>\n",
              "      <td>...</td>\n",
              "      <td>...</td>\n",
              "      <td>...</td>\n",
              "      <td>...</td>\n",
              "      <td>...</td>\n",
              "      <td>...</td>\n",
              "      <td>...</td>\n",
              "      <td>...</td>\n",
              "      <td>...</td>\n",
              "      <td>...</td>\n",
              "      <td>...</td>\n",
              "      <td>...</td>\n",
              "      <td>...</td>\n",
              "      <td>...</td>\n",
              "      <td>...</td>\n",
              "      <td>...</td>\n",
              "      <td>...</td>\n",
              "      <td>...</td>\n",
              "      <td>...</td>\n",
              "      <td>...</td>\n",
              "      <td>...</td>\n",
              "      <td>...</td>\n",
              "      <td>...</td>\n",
              "      <td>...</td>\n",
              "      <td>...</td>\n",
              "      <td>...</td>\n",
              "      <td>...</td>\n",
              "      <td>...</td>\n",
              "      <td>...</td>\n",
              "      <td>...</td>\n",
              "      <td>...</td>\n",
              "      <td>...</td>\n",
              "      <td>...</td>\n",
              "      <td>...</td>\n",
              "      <td>...</td>\n",
              "      <td>...</td>\n",
              "      <td>...</td>\n",
              "      <td>...</td>\n",
              "      <td>...</td>\n",
              "      <td>...</td>\n",
              "      <td>...</td>\n",
              "      <td>...</td>\n",
              "      <td>...</td>\n",
              "      <td>...</td>\n",
              "      <td>...</td>\n",
              "      <td>...</td>\n",
              "      <td>...</td>\n",
              "      <td>...</td>\n",
              "      <td>...</td>\n",
              "      <td>...</td>\n",
              "      <td>...</td>\n",
              "      <td>...</td>\n",
              "      <td>...</td>\n",
              "      <td>...</td>\n",
              "      <td>...</td>\n",
              "      <td>...</td>\n",
              "      <td>...</td>\n",
              "      <td>...</td>\n",
              "      <td>...</td>\n",
              "      <td>...</td>\n",
              "      <td>...</td>\n",
              "      <td>...</td>\n",
              "      <td>...</td>\n",
              "      <td>...</td>\n",
              "      <td>...</td>\n",
              "      <td>...</td>\n",
              "      <td>...</td>\n",
              "      <td>...</td>\n",
              "      <td>...</td>\n",
              "      <td>...</td>\n",
              "      <td>...</td>\n",
              "      <td>...</td>\n",
              "      <td>...</td>\n",
              "      <td>...</td>\n",
              "      <td>...</td>\n",
              "      <td>...</td>\n",
              "      <td>...</td>\n",
              "      <td>...</td>\n",
              "      <td>...</td>\n",
              "      <td>...</td>\n",
              "      <td>...</td>\n",
              "      <td>...</td>\n",
              "      <td>...</td>\n",
              "      <td>...</td>\n",
              "      <td>...</td>\n",
              "      <td>...</td>\n",
              "      <td>...</td>\n",
              "      <td>...</td>\n",
              "      <td>...</td>\n",
              "      <td>...</td>\n",
              "      <td>...</td>\n",
              "      <td>...</td>\n",
              "      <td>...</td>\n",
              "      <td>...</td>\n",
              "    </tr>\n",
              "    <tr>\n",
              "      <th>YouTubeMIT</th>\n",
              "      <td>0.008273</td>\n",
              "      <td>0.047082</td>\n",
              "      <td>-0.013113</td>\n",
              "      <td>-0.012352</td>\n",
              "      <td>-0.010053</td>\n",
              "      <td>-0.013532</td>\n",
              "      <td>-0.019031</td>\n",
              "      <td>0.015086</td>\n",
              "      <td>0.066850</td>\n",
              "      <td>0.025196</td>\n",
              "      <td>0.015771</td>\n",
              "      <td>0.032831</td>\n",
              "      <td>0.001833</td>\n",
              "      <td>0.115658</td>\n",
              "      <td>0.042124</td>\n",
              "      <td>0.039873</td>\n",
              "      <td>-0.015654</td>\n",
              "      <td>0.010334</td>\n",
              "      <td>0.012777</td>\n",
              "      <td>0.009780</td>\n",
              "      <td>0.042934</td>\n",
              "      <td>0.047359</td>\n",
              "      <td>0.011480</td>\n",
              "      <td>0.074755</td>\n",
              "      <td>-0.022345</td>\n",
              "      <td>0.007997</td>\n",
              "      <td>0.008108</td>\n",
              "      <td>-0.008490</td>\n",
              "      <td>-0.026101</td>\n",
              "      <td>0.007011</td>\n",
              "      <td>0.014373</td>\n",
              "      <td>0.016876</td>\n",
              "      <td>-0.002666</td>\n",
              "      <td>0.020028</td>\n",
              "      <td>0.011999</td>\n",
              "      <td>-0.002766</td>\n",
              "      <td>-0.003904</td>\n",
              "      <td>0.015158</td>\n",
              "      <td>0.013691</td>\n",
              "      <td>0.015238</td>\n",
              "      <td>-0.001786</td>\n",
              "      <td>0.014079</td>\n",
              "      <td>-0.002058</td>\n",
              "      <td>-0.012912</td>\n",
              "      <td>0.071923</td>\n",
              "      <td>NaN</td>\n",
              "      <td>0.005511</td>\n",
              "      <td>-0.012230</td>\n",
              "      <td>0.018136</td>\n",
              "      <td>0.017186</td>\n",
              "      <td>0.028988</td>\n",
              "      <td>-0.021431</td>\n",
              "      <td>0.009531</td>\n",
              "      <td>0.039982</td>\n",
              "      <td>0.070401</td>\n",
              "      <td>0.094862</td>\n",
              "      <td>0.052750</td>\n",
              "      <td>-0.036188</td>\n",
              "      <td>0.022438</td>\n",
              "      <td>0.008314</td>\n",
              "      <td>0.052030</td>\n",
              "      <td>0.021264</td>\n",
              "      <td>0.009843</td>\n",
              "      <td>0.023855</td>\n",
              "      <td>0.028316</td>\n",
              "      <td>-0.006634</td>\n",
              "      <td>-0.013041</td>\n",
              "      <td>0.017988</td>\n",
              "      <td>0.009676</td>\n",
              "      <td>0.010008</td>\n",
              "      <td>0.007935</td>\n",
              "      <td>0.014056</td>\n",
              "      <td>0.047489</td>\n",
              "      <td>0.062120</td>\n",
              "      <td>NaN</td>\n",
              "      <td>NaN</td>\n",
              "      <td>NaN</td>\n",
              "      <td>0.005511</td>\n",
              "      <td>0.005511</td>\n",
              "      <td>0.039838</td>\n",
              "      <td>0.048979</td>\n",
              "      <td>0.039130</td>\n",
              "      <td>0.053502</td>\n",
              "      <td>0.038686</td>\n",
              "      <td>0.036333</td>\n",
              "      <td>0.042941</td>\n",
              "      <td>0.042211</td>\n",
              "      <td>-0.014698</td>\n",
              "      <td>-0.001749</td>\n",
              "      <td>0.073866</td>\n",
              "      <td>0.033994</td>\n",
              "      <td>0.095167</td>\n",
              "      <td>0.078099</td>\n",
              "      <td>0.000856</td>\n",
              "      <td>0.106946</td>\n",
              "      <td>0.023116</td>\n",
              "      <td>0.039896</td>\n",
              "      <td>0.041765</td>\n",
              "      <td>0.226893</td>\n",
              "      <td>-0.008805</td>\n",
              "      <td>0.231271</td>\n",
              "      <td>0.024777</td>\n",
              "      <td>0.013751</td>\n",
              "      <td>0.186208</td>\n",
              "      <td>0.161433</td>\n",
              "      <td>0.053903</td>\n",
              "      <td>0.035827</td>\n",
              "      <td>0.053232</td>\n",
              "      <td>0.005895</td>\n",
              "      <td>0.053927</td>\n",
              "      <td>-0.006158</td>\n",
              "      <td>0.112813</td>\n",
              "      <td>0.017376</td>\n",
              "      <td>0.179417</td>\n",
              "      <td>0.087539</td>\n",
              "      <td>0.012122</td>\n",
              "      <td>0.017651</td>\n",
              "      <td>0.029187</td>\n",
              "      <td>0.006440</td>\n",
              "      <td>0.058637</td>\n",
              "      <td>0.055756</td>\n",
              "      <td>0.049286</td>\n",
              "      <td>0.162641</td>\n",
              "      <td>0.111552</td>\n",
              "      <td>0.045206</td>\n",
              "      <td>0.072763</td>\n",
              "      <td>0.124491</td>\n",
              "      <td>0.034251</td>\n",
              "      <td>0.227502</td>\n",
              "      <td>0.080767</td>\n",
              "      <td>0.065429</td>\n",
              "      <td>1.000000</td>\n",
              "      <td>0.102631</td>\n",
              "      <td>-0.064525</td>\n",
              "      <td>0.076468</td>\n",
              "      <td>0.148414</td>\n",
              "    </tr>\n",
              "    <tr>\n",
              "      <th>YouTubeMozillaHacks</th>\n",
              "      <td>-0.012479</td>\n",
              "      <td>0.013303</td>\n",
              "      <td>-0.000751</td>\n",
              "      <td>0.000094</td>\n",
              "      <td>0.000711</td>\n",
              "      <td>0.000358</td>\n",
              "      <td>0.010721</td>\n",
              "      <td>-0.012083</td>\n",
              "      <td>0.054267</td>\n",
              "      <td>0.042608</td>\n",
              "      <td>0.073170</td>\n",
              "      <td>0.060563</td>\n",
              "      <td>0.033027</td>\n",
              "      <td>0.089757</td>\n",
              "      <td>0.037434</td>\n",
              "      <td>0.089466</td>\n",
              "      <td>-0.012598</td>\n",
              "      <td>0.004329</td>\n",
              "      <td>0.054855</td>\n",
              "      <td>0.065876</td>\n",
              "      <td>0.071724</td>\n",
              "      <td>0.089064</td>\n",
              "      <td>0.038725</td>\n",
              "      <td>0.057418</td>\n",
              "      <td>0.011851</td>\n",
              "      <td>-0.010419</td>\n",
              "      <td>-0.011538</td>\n",
              "      <td>0.019023</td>\n",
              "      <td>-0.013956</td>\n",
              "      <td>0.001539</td>\n",
              "      <td>-0.019625</td>\n",
              "      <td>-0.031189</td>\n",
              "      <td>0.042898</td>\n",
              "      <td>0.069182</td>\n",
              "      <td>-0.011773</td>\n",
              "      <td>0.006159</td>\n",
              "      <td>0.042163</td>\n",
              "      <td>-0.010189</td>\n",
              "      <td>-0.011327</td>\n",
              "      <td>-0.013714</td>\n",
              "      <td>-0.024032</td>\n",
              "      <td>-0.012449</td>\n",
              "      <td>-0.024770</td>\n",
              "      <td>-0.005638</td>\n",
              "      <td>0.027827</td>\n",
              "      <td>NaN</td>\n",
              "      <td>-0.012241</td>\n",
              "      <td>0.008046</td>\n",
              "      <td>-0.009420</td>\n",
              "      <td>-0.011437</td>\n",
              "      <td>0.014486</td>\n",
              "      <td>0.012932</td>\n",
              "      <td>-0.040476</td>\n",
              "      <td>-0.014736</td>\n",
              "      <td>-0.013661</td>\n",
              "      <td>-0.019987</td>\n",
              "      <td>-0.005567</td>\n",
              "      <td>-0.022187</td>\n",
              "      <td>-0.024204</td>\n",
              "      <td>-0.009122</td>\n",
              "      <td>-0.001499</td>\n",
              "      <td>-0.007357</td>\n",
              "      <td>-0.010341</td>\n",
              "      <td>-0.009756</td>\n",
              "      <td>0.000024</td>\n",
              "      <td>-0.025911</td>\n",
              "      <td>-0.065993</td>\n",
              "      <td>-0.033178</td>\n",
              "      <td>-0.040611</td>\n",
              "      <td>-0.040678</td>\n",
              "      <td>-0.011780</td>\n",
              "      <td>-0.012342</td>\n",
              "      <td>0.008216</td>\n",
              "      <td>0.019541</td>\n",
              "      <td>NaN</td>\n",
              "      <td>NaN</td>\n",
              "      <td>NaN</td>\n",
              "      <td>-0.012241</td>\n",
              "      <td>-0.012241</td>\n",
              "      <td>0.076475</td>\n",
              "      <td>0.033850</td>\n",
              "      <td>0.101301</td>\n",
              "      <td>0.074215</td>\n",
              "      <td>0.051933</td>\n",
              "      <td>0.070780</td>\n",
              "      <td>0.143964</td>\n",
              "      <td>0.097501</td>\n",
              "      <td>-0.013309</td>\n",
              "      <td>0.008472</td>\n",
              "      <td>0.060308</td>\n",
              "      <td>0.046495</td>\n",
              "      <td>0.078611</td>\n",
              "      <td>0.083838</td>\n",
              "      <td>0.041819</td>\n",
              "      <td>0.077264</td>\n",
              "      <td>0.077843</td>\n",
              "      <td>0.015533</td>\n",
              "      <td>0.036807</td>\n",
              "      <td>0.048991</td>\n",
              "      <td>0.076976</td>\n",
              "      <td>0.035582</td>\n",
              "      <td>0.076532</td>\n",
              "      <td>0.005397</td>\n",
              "      <td>0.070694</td>\n",
              "      <td>0.036433</td>\n",
              "      <td>0.032599</td>\n",
              "      <td>0.133229</td>\n",
              "      <td>0.035710</td>\n",
              "      <td>0.001255</td>\n",
              "      <td>0.058314</td>\n",
              "      <td>0.032127</td>\n",
              "      <td>0.032034</td>\n",
              "      <td>0.047377</td>\n",
              "      <td>0.054645</td>\n",
              "      <td>0.034837</td>\n",
              "      <td>0.007778</td>\n",
              "      <td>-0.009997</td>\n",
              "      <td>-0.003430</td>\n",
              "      <td>-0.037458</td>\n",
              "      <td>0.130533</td>\n",
              "      <td>0.058533</td>\n",
              "      <td>0.096789</td>\n",
              "      <td>0.044942</td>\n",
              "      <td>0.028837</td>\n",
              "      <td>0.105454</td>\n",
              "      <td>0.043967</td>\n",
              "      <td>0.110161</td>\n",
              "      <td>0.073659</td>\n",
              "      <td>0.196332</td>\n",
              "      <td>0.100916</td>\n",
              "      <td>0.093450</td>\n",
              "      <td>0.102631</td>\n",
              "      <td>1.000000</td>\n",
              "      <td>-0.032179</td>\n",
              "      <td>0.107425</td>\n",
              "      <td>0.034179</td>\n",
              "    </tr>\n",
              "    <tr>\n",
              "      <th>YouTubeOther</th>\n",
              "      <td>0.008268</td>\n",
              "      <td>0.025273</td>\n",
              "      <td>0.002432</td>\n",
              "      <td>0.002731</td>\n",
              "      <td>0.004568</td>\n",
              "      <td>0.002178</td>\n",
              "      <td>0.010867</td>\n",
              "      <td>0.008781</td>\n",
              "      <td>-0.001143</td>\n",
              "      <td>-0.009343</td>\n",
              "      <td>-0.023478</td>\n",
              "      <td>-0.004169</td>\n",
              "      <td>0.000281</td>\n",
              "      <td>-0.029765</td>\n",
              "      <td>-0.007147</td>\n",
              "      <td>-0.005399</td>\n",
              "      <td>0.174738</td>\n",
              "      <td>0.066921</td>\n",
              "      <td>-0.007456</td>\n",
              "      <td>-0.002120</td>\n",
              "      <td>-0.009488</td>\n",
              "      <td>-0.005852</td>\n",
              "      <td>-0.001549</td>\n",
              "      <td>-0.001561</td>\n",
              "      <td>-0.003345</td>\n",
              "      <td>0.006452</td>\n",
              "      <td>0.006453</td>\n",
              "      <td>-0.001378</td>\n",
              "      <td>0.003727</td>\n",
              "      <td>-0.000095</td>\n",
              "      <td>0.017080</td>\n",
              "      <td>0.000935</td>\n",
              "      <td>0.010791</td>\n",
              "      <td>-0.009242</td>\n",
              "      <td>0.002316</td>\n",
              "      <td>0.017358</td>\n",
              "      <td>0.010943</td>\n",
              "      <td>0.010638</td>\n",
              "      <td>0.010369</td>\n",
              "      <td>0.006532</td>\n",
              "      <td>0.017402</td>\n",
              "      <td>0.006587</td>\n",
              "      <td>0.016783</td>\n",
              "      <td>0.013705</td>\n",
              "      <td>0.042624</td>\n",
              "      <td>NaN</td>\n",
              "      <td>0.003525</td>\n",
              "      <td>0.003493</td>\n",
              "      <td>0.008147</td>\n",
              "      <td>0.005524</td>\n",
              "      <td>0.006185</td>\n",
              "      <td>-0.004871</td>\n",
              "      <td>-0.002472</td>\n",
              "      <td>-0.009726</td>\n",
              "      <td>-0.001769</td>\n",
              "      <td>-0.007553</td>\n",
              "      <td>0.002838</td>\n",
              "      <td>-0.005996</td>\n",
              "      <td>-0.016306</td>\n",
              "      <td>0.007795</td>\n",
              "      <td>-0.004091</td>\n",
              "      <td>-0.002369</td>\n",
              "      <td>0.022448</td>\n",
              "      <td>-0.010673</td>\n",
              "      <td>-0.007508</td>\n",
              "      <td>-0.005273</td>\n",
              "      <td>0.013296</td>\n",
              "      <td>-0.002008</td>\n",
              "      <td>-0.000014</td>\n",
              "      <td>-0.001437</td>\n",
              "      <td>0.007351</td>\n",
              "      <td>0.010134</td>\n",
              "      <td>0.031703</td>\n",
              "      <td>0.032354</td>\n",
              "      <td>NaN</td>\n",
              "      <td>NaN</td>\n",
              "      <td>NaN</td>\n",
              "      <td>0.003525</td>\n",
              "      <td>0.003525</td>\n",
              "      <td>0.000122</td>\n",
              "      <td>-0.009453</td>\n",
              "      <td>-0.013796</td>\n",
              "      <td>-0.015315</td>\n",
              "      <td>0.015184</td>\n",
              "      <td>-0.001072</td>\n",
              "      <td>-0.000555</td>\n",
              "      <td>-0.008248</td>\n",
              "      <td>0.213492</td>\n",
              "      <td>0.117133</td>\n",
              "      <td>-0.003301</td>\n",
              "      <td>-0.010258</td>\n",
              "      <td>-0.018123</td>\n",
              "      <td>-0.018227</td>\n",
              "      <td>0.004638</td>\n",
              "      <td>-0.004435</td>\n",
              "      <td>-0.008111</td>\n",
              "      <td>-0.005824</td>\n",
              "      <td>-0.011257</td>\n",
              "      <td>-0.027280</td>\n",
              "      <td>-0.001008</td>\n",
              "      <td>-0.019925</td>\n",
              "      <td>-0.013970</td>\n",
              "      <td>-0.002564</td>\n",
              "      <td>-0.021505</td>\n",
              "      <td>-0.011284</td>\n",
              "      <td>-0.018924</td>\n",
              "      <td>-0.002132</td>\n",
              "      <td>-0.014852</td>\n",
              "      <td>0.114310</td>\n",
              "      <td>-0.010934</td>\n",
              "      <td>-0.007347</td>\n",
              "      <td>0.000194</td>\n",
              "      <td>-0.009321</td>\n",
              "      <td>-0.029858</td>\n",
              "      <td>-0.023511</td>\n",
              "      <td>-0.005858</td>\n",
              "      <td>0.007009</td>\n",
              "      <td>0.010622</td>\n",
              "      <td>0.010463</td>\n",
              "      <td>-0.028487</td>\n",
              "      <td>-0.012897</td>\n",
              "      <td>-0.030042</td>\n",
              "      <td>-0.028483</td>\n",
              "      <td>-0.006105</td>\n",
              "      <td>-0.025688</td>\n",
              "      <td>-0.001287</td>\n",
              "      <td>-0.085244</td>\n",
              "      <td>-0.001933</td>\n",
              "      <td>-0.064217</td>\n",
              "      <td>-0.038524</td>\n",
              "      <td>-0.025031</td>\n",
              "      <td>-0.064525</td>\n",
              "      <td>-0.032179</td>\n",
              "      <td>1.000000</td>\n",
              "      <td>-0.007219</td>\n",
              "      <td>-0.043995</td>\n",
              "    </tr>\n",
              "    <tr>\n",
              "      <th>YouTubeSimplilearn</th>\n",
              "      <td>-0.001377</td>\n",
              "      <td>0.013826</td>\n",
              "      <td>0.007106</td>\n",
              "      <td>0.006829</td>\n",
              "      <td>0.008289</td>\n",
              "      <td>0.006995</td>\n",
              "      <td>-0.002511</td>\n",
              "      <td>-0.001165</td>\n",
              "      <td>0.028163</td>\n",
              "      <td>0.045348</td>\n",
              "      <td>0.034458</td>\n",
              "      <td>0.049514</td>\n",
              "      <td>0.019568</td>\n",
              "      <td>0.052612</td>\n",
              "      <td>0.030176</td>\n",
              "      <td>0.051238</td>\n",
              "      <td>-0.008693</td>\n",
              "      <td>-0.000917</td>\n",
              "      <td>0.058822</td>\n",
              "      <td>0.059111</td>\n",
              "      <td>0.037001</td>\n",
              "      <td>0.058356</td>\n",
              "      <td>0.028452</td>\n",
              "      <td>0.034954</td>\n",
              "      <td>-0.011842</td>\n",
              "      <td>-0.001622</td>\n",
              "      <td>0.000575</td>\n",
              "      <td>-0.007150</td>\n",
              "      <td>-0.004280</td>\n",
              "      <td>0.005620</td>\n",
              "      <td>-0.010641</td>\n",
              "      <td>-0.008203</td>\n",
              "      <td>0.020132</td>\n",
              "      <td>0.028196</td>\n",
              "      <td>-0.002814</td>\n",
              "      <td>0.013331</td>\n",
              "      <td>0.019729</td>\n",
              "      <td>-0.000152</td>\n",
              "      <td>0.000687</td>\n",
              "      <td>-0.001589</td>\n",
              "      <td>-0.001923</td>\n",
              "      <td>0.000404</td>\n",
              "      <td>-0.001983</td>\n",
              "      <td>0.013622</td>\n",
              "      <td>0.021590</td>\n",
              "      <td>NaN</td>\n",
              "      <td>0.001384</td>\n",
              "      <td>-0.016316</td>\n",
              "      <td>-0.000184</td>\n",
              "      <td>-0.001914</td>\n",
              "      <td>0.008138</td>\n",
              "      <td>-0.011574</td>\n",
              "      <td>-0.012696</td>\n",
              "      <td>-0.000553</td>\n",
              "      <td>0.003363</td>\n",
              "      <td>0.002633</td>\n",
              "      <td>0.008686</td>\n",
              "      <td>-0.013602</td>\n",
              "      <td>-0.004081</td>\n",
              "      <td>0.002186</td>\n",
              "      <td>-0.004230</td>\n",
              "      <td>0.006524</td>\n",
              "      <td>0.004636</td>\n",
              "      <td>-0.008045</td>\n",
              "      <td>0.001615</td>\n",
              "      <td>0.002353</td>\n",
              "      <td>-0.025379</td>\n",
              "      <td>-0.005397</td>\n",
              "      <td>-0.005759</td>\n",
              "      <td>-0.011406</td>\n",
              "      <td>0.000448</td>\n",
              "      <td>-0.002307</td>\n",
              "      <td>0.006823</td>\n",
              "      <td>0.009005</td>\n",
              "      <td>NaN</td>\n",
              "      <td>NaN</td>\n",
              "      <td>NaN</td>\n",
              "      <td>0.001384</td>\n",
              "      <td>0.001384</td>\n",
              "      <td>0.044817</td>\n",
              "      <td>0.036595</td>\n",
              "      <td>0.050712</td>\n",
              "      <td>0.048158</td>\n",
              "      <td>0.064848</td>\n",
              "      <td>0.056995</td>\n",
              "      <td>0.061714</td>\n",
              "      <td>0.029675</td>\n",
              "      <td>-0.006135</td>\n",
              "      <td>-0.010964</td>\n",
              "      <td>0.043121</td>\n",
              "      <td>0.044397</td>\n",
              "      <td>0.044543</td>\n",
              "      <td>0.065660</td>\n",
              "      <td>0.034040</td>\n",
              "      <td>0.064234</td>\n",
              "      <td>0.063126</td>\n",
              "      <td>0.015955</td>\n",
              "      <td>0.014906</td>\n",
              "      <td>0.054424</td>\n",
              "      <td>0.005229</td>\n",
              "      <td>0.051028</td>\n",
              "      <td>0.018454</td>\n",
              "      <td>-0.000799</td>\n",
              "      <td>0.068768</td>\n",
              "      <td>0.029725</td>\n",
              "      <td>0.040410</td>\n",
              "      <td>-0.006568</td>\n",
              "      <td>0.030822</td>\n",
              "      <td>-0.000741</td>\n",
              "      <td>0.038200</td>\n",
              "      <td>0.060816</td>\n",
              "      <td>0.004393</td>\n",
              "      <td>0.043059</td>\n",
              "      <td>0.066478</td>\n",
              "      <td>0.049564</td>\n",
              "      <td>0.009504</td>\n",
              "      <td>0.000063</td>\n",
              "      <td>0.020521</td>\n",
              "      <td>-0.011085</td>\n",
              "      <td>0.088209</td>\n",
              "      <td>0.056494</td>\n",
              "      <td>0.082066</td>\n",
              "      <td>0.056123</td>\n",
              "      <td>0.061942</td>\n",
              "      <td>0.040502</td>\n",
              "      <td>0.062546</td>\n",
              "      <td>0.043842</td>\n",
              "      <td>0.045663</td>\n",
              "      <td>0.070233</td>\n",
              "      <td>0.066306</td>\n",
              "      <td>0.066308</td>\n",
              "      <td>0.076468</td>\n",
              "      <td>0.107425</td>\n",
              "      <td>-0.007219</td>\n",
              "      <td>1.000000</td>\n",
              "      <td>0.061646</td>\n",
              "    </tr>\n",
              "    <tr>\n",
              "      <th>YouTubeTheNewBoston</th>\n",
              "      <td>0.014147</td>\n",
              "      <td>0.050809</td>\n",
              "      <td>-0.036795</td>\n",
              "      <td>-0.035771</td>\n",
              "      <td>-0.035203</td>\n",
              "      <td>-0.035879</td>\n",
              "      <td>-0.055371</td>\n",
              "      <td>0.006762</td>\n",
              "      <td>-0.005269</td>\n",
              "      <td>0.014341</td>\n",
              "      <td>0.019831</td>\n",
              "      <td>0.019943</td>\n",
              "      <td>-0.022766</td>\n",
              "      <td>0.067013</td>\n",
              "      <td>-0.001996</td>\n",
              "      <td>0.024429</td>\n",
              "      <td>-0.000151</td>\n",
              "      <td>0.013824</td>\n",
              "      <td>0.007587</td>\n",
              "      <td>-0.004383</td>\n",
              "      <td>0.014345</td>\n",
              "      <td>0.035685</td>\n",
              "      <td>-0.025377</td>\n",
              "      <td>0.037102</td>\n",
              "      <td>-0.063731</td>\n",
              "      <td>0.011103</td>\n",
              "      <td>0.012873</td>\n",
              "      <td>-0.046694</td>\n",
              "      <td>-0.033160</td>\n",
              "      <td>-0.000088</td>\n",
              "      <td>0.025631</td>\n",
              "      <td>0.004692</td>\n",
              "      <td>-0.024563</td>\n",
              "      <td>0.005804</td>\n",
              "      <td>0.013425</td>\n",
              "      <td>-0.002597</td>\n",
              "      <td>-0.025260</td>\n",
              "      <td>0.012925</td>\n",
              "      <td>0.011687</td>\n",
              "      <td>0.014126</td>\n",
              "      <td>-0.043938</td>\n",
              "      <td>0.012740</td>\n",
              "      <td>-0.044496</td>\n",
              "      <td>-0.030629</td>\n",
              "      <td>0.057513</td>\n",
              "      <td>NaN</td>\n",
              "      <td>0.007037</td>\n",
              "      <td>-0.069601</td>\n",
              "      <td>0.010348</td>\n",
              "      <td>0.009262</td>\n",
              "      <td>0.020308</td>\n",
              "      <td>-0.063506</td>\n",
              "      <td>-0.000109</td>\n",
              "      <td>0.024520</td>\n",
              "      <td>-0.002408</td>\n",
              "      <td>0.006780</td>\n",
              "      <td>0.006995</td>\n",
              "      <td>-0.012213</td>\n",
              "      <td>0.040551</td>\n",
              "      <td>0.000801</td>\n",
              "      <td>0.001030</td>\n",
              "      <td>0.026919</td>\n",
              "      <td>-0.015288</td>\n",
              "      <td>-0.020146</td>\n",
              "      <td>-0.011078</td>\n",
              "      <td>-0.031495</td>\n",
              "      <td>-0.000972</td>\n",
              "      <td>0.013651</td>\n",
              "      <td>0.001309</td>\n",
              "      <td>0.000268</td>\n",
              "      <td>0.011119</td>\n",
              "      <td>0.012938</td>\n",
              "      <td>0.035914</td>\n",
              "      <td>0.043712</td>\n",
              "      <td>NaN</td>\n",
              "      <td>NaN</td>\n",
              "      <td>NaN</td>\n",
              "      <td>0.007037</td>\n",
              "      <td>0.007037</td>\n",
              "      <td>0.028707</td>\n",
              "      <td>0.037778</td>\n",
              "      <td>0.028140</td>\n",
              "      <td>0.041368</td>\n",
              "      <td>0.023255</td>\n",
              "      <td>0.012618</td>\n",
              "      <td>0.034822</td>\n",
              "      <td>0.045245</td>\n",
              "      <td>-0.013217</td>\n",
              "      <td>-0.005245</td>\n",
              "      <td>0.041290</td>\n",
              "      <td>0.020852</td>\n",
              "      <td>0.044826</td>\n",
              "      <td>0.041798</td>\n",
              "      <td>0.016150</td>\n",
              "      <td>0.057023</td>\n",
              "      <td>0.022234</td>\n",
              "      <td>0.024670</td>\n",
              "      <td>0.025162</td>\n",
              "      <td>0.065420</td>\n",
              "      <td>0.056018</td>\n",
              "      <td>0.089841</td>\n",
              "      <td>0.050505</td>\n",
              "      <td>0.043937</td>\n",
              "      <td>0.130177</td>\n",
              "      <td>0.063440</td>\n",
              "      <td>0.070873</td>\n",
              "      <td>0.059527</td>\n",
              "      <td>0.041676</td>\n",
              "      <td>0.002734</td>\n",
              "      <td>0.059697</td>\n",
              "      <td>0.011853</td>\n",
              "      <td>0.098322</td>\n",
              "      <td>0.055063</td>\n",
              "      <td>0.098623</td>\n",
              "      <td>0.103072</td>\n",
              "      <td>0.075210</td>\n",
              "      <td>0.012020</td>\n",
              "      <td>-0.028420</td>\n",
              "      <td>-0.024384</td>\n",
              "      <td>0.094990</td>\n",
              "      <td>0.095219</td>\n",
              "      <td>0.085299</td>\n",
              "      <td>0.145799</td>\n",
              "      <td>0.316709</td>\n",
              "      <td>0.159736</td>\n",
              "      <td>0.078207</td>\n",
              "      <td>0.075609</td>\n",
              "      <td>0.114723</td>\n",
              "      <td>0.119528</td>\n",
              "      <td>0.144751</td>\n",
              "      <td>0.197895</td>\n",
              "      <td>0.148414</td>\n",
              "      <td>0.034179</td>\n",
              "      <td>-0.043995</td>\n",
              "      <td>0.061646</td>\n",
              "      <td>1.000000</td>\n",
              "    </tr>\n",
              "  </tbody>\n",
              "</table>\n",
              "<p>136 rows × 136 columns</p>\n",
              "</div>\n",
              "      <button class=\"colab-df-convert\" onclick=\"convertToInteractive('df-0b5b1ba4-b6be-44b9-a4b5-4c0756bc9857')\"\n",
              "              title=\"Convert this dataframe to an interactive table.\"\n",
              "              style=\"display:none;\">\n",
              "        \n",
              "  <svg xmlns=\"http://www.w3.org/2000/svg\" height=\"24px\"viewBox=\"0 0 24 24\"\n",
              "       width=\"24px\">\n",
              "    <path d=\"M0 0h24v24H0V0z\" fill=\"none\"/>\n",
              "    <path d=\"M18.56 5.44l.94 2.06.94-2.06 2.06-.94-2.06-.94-.94-2.06-.94 2.06-2.06.94zm-11 1L8.5 8.5l.94-2.06 2.06-.94-2.06-.94L8.5 2.5l-.94 2.06-2.06.94zm10 10l.94 2.06.94-2.06 2.06-.94-2.06-.94-.94-2.06-.94 2.06-2.06.94z\"/><path d=\"M17.41 7.96l-1.37-1.37c-.4-.4-.92-.59-1.43-.59-.52 0-1.04.2-1.43.59L10.3 9.45l-7.72 7.72c-.78.78-.78 2.05 0 2.83L4 21.41c.39.39.9.59 1.41.59.51 0 1.02-.2 1.41-.59l7.78-7.78 2.81-2.81c.8-.78.8-2.07 0-2.86zM5.41 20L4 18.59l7.72-7.72 1.47 1.35L5.41 20z\"/>\n",
              "  </svg>\n",
              "      </button>\n",
              "      \n",
              "  <style>\n",
              "    .colab-df-container {\n",
              "      display:flex;\n",
              "      flex-wrap:wrap;\n",
              "      gap: 12px;\n",
              "    }\n",
              "\n",
              "    .colab-df-convert {\n",
              "      background-color: #E8F0FE;\n",
              "      border: none;\n",
              "      border-radius: 50%;\n",
              "      cursor: pointer;\n",
              "      display: none;\n",
              "      fill: #1967D2;\n",
              "      height: 32px;\n",
              "      padding: 0 0 0 0;\n",
              "      width: 32px;\n",
              "    }\n",
              "\n",
              "    .colab-df-convert:hover {\n",
              "      background-color: #E2EBFA;\n",
              "      box-shadow: 0px 1px 2px rgba(60, 64, 67, 0.3), 0px 1px 3px 1px rgba(60, 64, 67, 0.15);\n",
              "      fill: #174EA6;\n",
              "    }\n",
              "\n",
              "    [theme=dark] .colab-df-convert {\n",
              "      background-color: #3B4455;\n",
              "      fill: #D2E3FC;\n",
              "    }\n",
              "\n",
              "    [theme=dark] .colab-df-convert:hover {\n",
              "      background-color: #434B5C;\n",
              "      box-shadow: 0px 1px 3px 1px rgba(0, 0, 0, 0.15);\n",
              "      filter: drop-shadow(0px 1px 2px rgba(0, 0, 0, 0.3));\n",
              "      fill: #FFFFFF;\n",
              "    }\n",
              "  </style>\n",
              "\n",
              "      <script>\n",
              "        const buttonEl =\n",
              "          document.querySelector('#df-0b5b1ba4-b6be-44b9-a4b5-4c0756bc9857 button.colab-df-convert');\n",
              "        buttonEl.style.display =\n",
              "          google.colab.kernel.accessAllowed ? 'block' : 'none';\n",
              "\n",
              "        async function convertToInteractive(key) {\n",
              "          const element = document.querySelector('#df-0b5b1ba4-b6be-44b9-a4b5-4c0756bc9857');\n",
              "          const dataTable =\n",
              "            await google.colab.kernel.invokeFunction('convertToInteractive',\n",
              "                                                     [key], {});\n",
              "          if (!dataTable) return;\n",
              "\n",
              "          const docLinkHtml = 'Like what you see? Visit the ' +\n",
              "            '<a target=\"_blank\" href=https://colab.research.google.com/notebooks/data_table.ipynb>data table notebook</a>'\n",
              "            + ' to learn more about interactive tables.';\n",
              "          element.innerHTML = '';\n",
              "          dataTable['output_type'] = 'display_data';\n",
              "          await google.colab.output.renderOutput(dataTable, element);\n",
              "          const docLink = document.createElement('div');\n",
              "          docLink.innerHTML = docLinkHtml;\n",
              "          element.appendChild(docLink);\n",
              "        }\n",
              "      </script>\n",
              "    </div>\n",
              "  </div>\n",
              "  "
            ]
          },
          "metadata": {},
          "execution_count": 203
        }
      ]
    },
    {
      "cell_type": "code",
      "source": [
        "def get_top_correlations(df, n=10):\n",
        "    corr_matrix = df.corr().abs()\n",
        "    # Fill diagonal with NaNs\n",
        "    for x in range(corr_matrix.shape[0]):\n",
        "        corr_matrix.iloc[x,x] = np.NaN\n",
        "    corr_unstack = corr_matrix.unstack()\n",
        "    return corr_unstack.sort_values(ascending=False).drop_duplicates()[0:n]\n",
        "\n",
        "top_correlations = get_top_correlations(ncs, 10)\n",
        "print(top_correlations)\n"
      ],
      "metadata": {
        "colab": {
          "base_uri": "https://localhost:8080/"
        },
        "id": "y73GlEUA0Il-",
        "outputId": "455320ee-dba4-4fbd-f892-ef84e9d903bc"
      },
      "execution_count": 231,
      "outputs": [
        {
          "output_type": "stream",
          "name": "stdout",
          "text": [
            "HasChildren             Age                  0.522257\n",
            "Income                  HomeMortgageOwe      0.476693\n",
            "IsSoftwareDev           BootcampFinish       0.446341\n",
            "HasFinancialDependents  Age                  0.360542\n",
            "HasHomeMortgage         Age                  0.338987\n",
            "HasDebt                 Age                  0.334996\n",
            "FirstDevJob             MonthsProgramming    0.317342\n",
            "BootcampFinish          HoursLearning        0.315306\n",
            "AttendedBootcamp        MoneyForLearning     0.312869\n",
            "HasFinancialDependents  HasHomeMortgage      0.312072\n",
            "dtype: float64\n"
          ]
        }
      ]
    },
    {
      "cell_type": "code",
      "source": [
        "us_filter = ncs.query(\"`CountryLive` == 'United States of America'\")\n",
        "india_filter = ncs.query(\"`CountryLive` == 'India'\")"
      ],
      "metadata": {
        "id": "U7iIFZpi24Qu"
      },
      "execution_count": 232,
      "outputs": []
    },
    {
      "cell_type": "code",
      "source": [
        "top_correlations_us = get_top_correlations(us_filter, 10)\n",
        "top_correlations_us"
      ],
      "metadata": {
        "colab": {
          "base_uri": "https://localhost:8080/"
        },
        "id": "UZm4YjuD08x0",
        "outputId": "2a0b0f41-2c14-4ebf-8b46-631cc6eedb60"
      },
      "execution_count": 233,
      "outputs": [
        {
          "output_type": "execute_result",
          "data": {
            "text/plain": [
              "IsSoftwareDev      BootcampFinish            0.521121\n",
              "HomeMortgageOwe    Income                    0.511418\n",
              "BootcampFinish     HoursLearning             0.451796\n",
              "MoneyForLearning   AttendedBootcamp          0.422981\n",
              "HomeMortgageOwe    ExpectedEarning           0.393748\n",
              "MonthsProgramming  FirstDevJob               0.375362\n",
              "IsUnderEmployed    BootcampFinish            0.374551\n",
              "Age                HasFinancialDependents    0.355167\n",
              "                   HasHomeMortgage           0.354257\n",
              "HasHomeMortgage    HasFinancialDependents    0.348889\n",
              "dtype: float64"
            ]
          },
          "metadata": {},
          "execution_count": 233
        }
      ]
    },
    {
      "cell_type": "code",
      "source": [
        "top_correlations_india = get_top_correlations(india_filter, 10)\n",
        "top_correlations_india"
      ],
      "metadata": {
        "colab": {
          "base_uri": "https://localhost:8080/"
        },
        "id": "xDQ9z1g43MYI",
        "outputId": "6bdaa2c5-9a95-4930-d714-920c6e204cfe"
      },
      "execution_count": 234,
      "outputs": [
        {
          "output_type": "execute_result",
          "data": {
            "text/plain": [
              "ChildrenNumber     StudentDebtOwe       1.000000\n",
              "ExpectedEarning    BootcampLoanYesNo    0.999201\n",
              "ChildrenNumber     ExpectedEarning      0.801762\n",
              "Income             ExpectedEarning      0.757866\n",
              "IsUnderEmployed    BootcampFinish       0.707107\n",
              "BootcampRecommend  IsUnderEmployed      0.666667\n",
              "IsUnderEmployed    BootcampLoanYesNo    0.632456\n",
              "BootcampFinish     HomeMortgageOwe      0.626596\n",
              "HasHomeMortgage    BootcampLoanYesNo    0.612372\n",
              "Age                HasChildren          0.603278\n",
              "dtype: float64"
            ]
          },
          "metadata": {},
          "execution_count": 234
        }
      ]
    },
    {
      "cell_type": "code",
      "source": [
        "web_or_mobile = interests_no_nulls.str.contains(\n",
        "    'Web Developer|Mobile Developer') # returns an array of booleans\n",
        "freq_table = web_or_mobile.value_counts(normalize = True) * 100\n",
        "print(freq_table)"
      ],
      "metadata": {
        "colab": {
          "base_uri": "https://localhost:8080/"
        },
        "id": "hF_R_41D3wtT",
        "outputId": "b456772e-ab70-4e6a-9245-ed0251cb2c77"
      },
      "execution_count": 246,
      "outputs": [
        {
          "output_type": "stream",
          "name": "stdout",
          "text": [
            "True     86.241419\n",
            "False    13.758581\n",
            "Name: JobRoleInterest, dtype: float64\n"
          ]
        }
      ]
    },
    {
      "cell_type": "code",
      "source": [
        "freq_table.plot.bar(color='magenta')\n",
        "plt.title('Developer Program Interest Levels', color='cyan')\n",
        "plt.xticks([0,1], ['Web or Mobile', 'Other'], rotation=0 , color='cyan')\n",
        "plt.ylabel('Percentages', color='cyan')\n",
        "plt.xlabel('Programs', color='cyan')\n",
        "plt.yticks(color='cyan')\n"
      ],
      "metadata": {
        "colab": {
          "base_uri": "https://localhost:8080/",
          "height": 598
        },
        "id": "EMcVhsL34Q8G",
        "outputId": "cee08ae6-ce79-4282-b882-fd7a124027ce"
      },
      "execution_count": 272,
      "outputs": [
        {
          "output_type": "execute_result",
          "data": {
            "text/plain": [
              "(array([  0.,  20.,  40.,  60.,  80., 100.]),\n",
              " [Text(0, 0.0, '0'),\n",
              "  Text(0, 20.0, '20'),\n",
              "  Text(0, 40.0, '40'),\n",
              "  Text(0, 60.0, '60'),\n",
              "  Text(0, 80.0, '80'),\n",
              "  Text(0, 100.0, '100')])"
            ]
          },
          "metadata": {},
          "execution_count": 272
        },
        {
          "output_type": "display_data",
          "data": {
            "text/plain": [
              "<Figure size 640x480 with 1 Axes>"
            ],
            "image/png": "[encoded data removed]"
          },
          "metadata": {}
        }
      ]
    },
    {
      "cell_type": "code",
      "source": [
        "# create a new df that only contains participants who selected at least one job interest\n",
        "ncs_comp = ncs[ncs['JobRoleInterest'].notnull()].copy()\n",
        "\n",
        "# Frequency tables with absolute and relative frequencies\n",
        "absolute_frequencies = ncs_comp['CountryLive'].value_counts()\n",
        "relative_frequencies = ncs_comp['CountryLive'].value_counts(normalize = True) * 100\n",
        "\n",
        "# Display the frequency tables in a more readable format\n",
        "pd.DataFrame(data = {'Absolute frequency': absolute_frequencies, \n",
        "                     'Percentage': relative_frequencies})"
      ],
      "metadata": {
        "colab": {
          "base_uri": "https://localhost:8080/",
          "height": 444
        },
        "id": "O7ud084W4Zat",
        "outputId": "d9f25155-ce09-4fe1-eeec-397a1bff8f29"
      },
      "execution_count": 275,
      "outputs": [
        {
          "output_type": "execute_result",
          "data": {
            "text/plain": [
              "                          Absolute frequency  Percentage\n",
              "United States of America                3125   45.700497\n",
              "India                                    528    7.721556\n",
              "United Kingdom                           315    4.606610\n",
              "Canada                                   260    3.802281\n",
              "Poland                                   131    1.915765\n",
              "...                                      ...         ...\n",
              "Liberia                                    1    0.014624\n",
              "Papua New Guinea                           1    0.014624\n",
              "Guadeloupe                                 1    0.014624\n",
              "Gibraltar                                  1    0.014624\n",
              "Gambia                                     1    0.014624\n",
              "\n",
              "[137 rows x 2 columns]"
            ],
            "text/html": [
              "\n",
              "  <div id=\"df-57158ede-9701-4828-9c66-cb99a9c0f9b6\">\n",
              "    <div class=\"colab-df-container\">\n",
              "      <div>\n",
              "<style scoped>\n",
              "    .dataframe tbody tr th:only-of-type {\n",
              "        vertical-align: middle;\n",
              "    }\n",
              "\n",
              "    .dataframe tbody tr th {\n",
              "        vertical-align: top;\n",
              "    }\n",
              "\n",
              "    .dataframe thead th {\n",
              "        text-align: right;\n",
              "    }\n",
              "</style>\n",
              "<table border=\"1\" class=\"dataframe\">\n",
              "  <thead>\n",
              "    <tr style=\"text-align: right;\">\n",
              "      <th></th>\n",
              "      <th>Absolute frequency</th>\n",
              "      <th>Percentage</th>\n",
              "    </tr>\n",
              "  </thead>\n",
              "  <tbody>\n",
              "    <tr>\n",
              "      <th>United States of America</th>\n",
              "      <td>3125</td>\n",
              "      <td>45.700497</td>\n",
              "    </tr>\n",
              "    <tr>\n",
              "      <th>India</th>\n",
              "      <td>528</td>\n",
              "      <td>7.721556</td>\n",
              "    </tr>\n",
              "    <tr>\n",
              "      <th>United Kingdom</th>\n",
              "      <td>315</td>\n",
              "      <td>4.606610</td>\n",
              "    </tr>\n",
              "    <tr>\n",
              "      <th>Canada</th>\n",
              "      <td>260</td>\n",
              "      <td>3.802281</td>\n",
              "    </tr>\n",
              "    <tr>\n",
              "      <th>Poland</th>\n",
              "      <td>131</td>\n",
              "      <td>1.915765</td>\n",
              "    </tr>\n",
              "    <tr>\n",
              "      <th>...</th>\n",
              "      <td>...</td>\n",
              "      <td>...</td>\n",
              "    </tr>\n",
              "    <tr>\n",
              "      <th>Liberia</th>\n",
              "      <td>1</td>\n",
              "      <td>0.014624</td>\n",
              "    </tr>\n",
              "    <tr>\n",
              "      <th>Papua New Guinea</th>\n",
              "      <td>1</td>\n",
              "      <td>0.014624</td>\n",
              "    </tr>\n",
              "    <tr>\n",
              "      <th>Guadeloupe</th>\n",
              "      <td>1</td>\n",
              "      <td>0.014624</td>\n",
              "    </tr>\n",
              "    <tr>\n",
              "      <th>Gibraltar</th>\n",
              "      <td>1</td>\n",
              "      <td>0.014624</td>\n",
              "    </tr>\n",
              "    <tr>\n",
              "      <th>Gambia</th>\n",
              "      <td>1</td>\n",
              "      <td>0.014624</td>\n",
              "    </tr>\n",
              "  </tbody>\n",
              "</table>\n",
              "<p>137 rows × 2 columns</p>\n",
              "</div>\n",
              "      <button class=\"colab-df-convert\" onclick=\"convertToInteractive('df-57158ede-9701-4828-9c66-cb99a9c0f9b6')\"\n",
              "              title=\"Convert this dataframe to an interactive table.\"\n",
              "              style=\"display:none;\">\n",
              "        \n",
              "  <svg xmlns=\"http://www.w3.org/2000/svg\" height=\"24px\"viewBox=\"0 0 24 24\"\n",
              "       width=\"24px\">\n",
              "    <path d=\"M0 0h24v24H0V0z\" fill=\"none\"/>\n",
              "    <path d=\"M18.56 5.44l.94 2.06.94-2.06 2.06-.94-2.06-.94-.94-2.06-.94 2.06-2.06.94zm-11 1L8.5 8.5l.94-2.06 2.06-.94-2.06-.94L8.5 2.5l-.94 2.06-2.06.94zm10 10l.94 2.06.94-2.06 2.06-.94-2.06-.94-.94-2.06-.94 2.06-2.06.94z\"/><path d=\"M17.41 7.96l-1.37-1.37c-.4-.4-.92-.59-1.43-.59-.52 0-1.04.2-1.43.59L10.3 9.45l-7.72 7.72c-.78.78-.78 2.05 0 2.83L4 21.41c.39.39.9.59 1.41.59.51 0 1.02-.2 1.41-.59l7.78-7.78 2.81-2.81c.8-.78.8-2.07 0-2.86zM5.41 20L4 18.59l7.72-7.72 1.47 1.35L5.41 20z\"/>\n",
              "  </svg>\n",
              "      </button>\n",
              "      \n",
              "  <style>\n",
              "    .colab-df-container {\n",
              "      display:flex;\n",
              "      flex-wrap:wrap;\n",
              "      gap: 12px;\n",
              "    }\n",
              "\n",
              "    .colab-df-convert {\n",
              "      background-color: #E8F0FE;\n",
              "      border: none;\n",
              "      border-radius: 50%;\n",
              "      cursor: pointer;\n",
              "      display: none;\n",
              "      fill: #1967D2;\n",
              "      height: 32px;\n",
              "      padding: 0 0 0 0;\n",
              "      width: 32px;\n",
              "    }\n",
              "\n",
              "    .colab-df-convert:hover {\n",
              "      background-color: #E2EBFA;\n",
              "      box-shadow: 0px 1px 2px rgba(60, 64, 67, 0.3), 0px 1px 3px 1px rgba(60, 64, 67, 0.15);\n",
              "      fill: #174EA6;\n",
              "    }\n",
              "\n",
              "    [theme=dark] .colab-df-convert {\n",
              "      background-color: #3B4455;\n",
              "      fill: #D2E3FC;\n",
              "    }\n",
              "\n",
              "    [theme=dark] .colab-df-convert:hover {\n",
              "      background-color: #434B5C;\n",
              "      box-shadow: 0px 1px 3px 1px rgba(0, 0, 0, 0.15);\n",
              "      filter: drop-shadow(0px 1px 2px rgba(0, 0, 0, 0.3));\n",
              "      fill: #FFFFFF;\n",
              "    }\n",
              "  </style>\n",
              "\n",
              "      <script>\n",
              "        const buttonEl =\n",
              "          document.querySelector('#df-57158ede-9701-4828-9c66-cb99a9c0f9b6 button.colab-df-convert');\n",
              "        buttonEl.style.display =\n",
              "          google.colab.kernel.accessAllowed ? 'block' : 'none';\n",
              "\n",
              "        async function convertToInteractive(key) {\n",
              "          const element = document.querySelector('#df-57158ede-9701-4828-9c66-cb99a9c0f9b6');\n",
              "          const dataTable =\n",
              "            await google.colab.kernel.invokeFunction('convertToInteractive',\n",
              "                                                     [key], {});\n",
              "          if (!dataTable) return;\n",
              "\n",
              "          const docLinkHtml = 'Like what you see? Visit the ' +\n",
              "            '<a target=\"_blank\" href=https://colab.research.google.com/notebooks/data_table.ipynb>data table notebook</a>'\n",
              "            + ' to learn more about interactive tables.';\n",
              "          element.innerHTML = '';\n",
              "          dataTable['output_type'] = 'display_data';\n",
              "          await google.colab.output.renderOutput(dataTable, element);\n",
              "          const docLink = document.createElement('div');\n",
              "          docLink.innerHTML = docLinkHtml;\n",
              "          element.appendChild(docLink);\n",
              "        }\n",
              "      </script>\n",
              "    </div>\n",
              "  </div>\n",
              "  "
            ]
          },
          "metadata": {},
          "execution_count": 275
        }
      ]
    },
    {
      "cell_type": "code",
      "source": [
        "ncs_good = ncs.notnull().copy()"
      ],
      "metadata": {
        "id": "MJMhv0py9ZD-"
      },
      "execution_count": 280,
      "outputs": []
    },
    {
      "cell_type": "code",
      "source": [
        "ncs.shape"
      ],
      "metadata": {
        "colab": {
          "base_uri": "https://localhost:8080/"
        },
        "id": "Nm7PThk59hRi",
        "outputId": "06334c2b-cd93-484b-a0d3-957e6cd4e725"
      },
      "execution_count": 281,
      "outputs": [
        {
          "output_type": "execute_result",
          "data": {
            "text/plain": [
              "(18175, 136)"
            ]
          },
          "metadata": {},
          "execution_count": 281
        }
      ]
    },
    {
      "cell_type": "code",
      "source": [
        "ncs_good.shape"
      ],
      "metadata": {
        "colab": {
          "base_uri": "https://localhost:8080/"
        },
        "id": "eDuVUanR9ism",
        "outputId": "b57d22ca-72e4-48e0-ed1e-29e0f5e8243a"
      },
      "execution_count": 282,
      "outputs": [
        {
          "output_type": "execute_result",
          "data": {
            "text/plain": [
              "(18175, 136)"
            ]
          },
          "metadata": {},
          "execution_count": 282
        }
      ]
    },
    {
      "cell_type": "code",
      "source": [
        "ncs_good['MonthsProgramming'].replace(0,1, inplace = True)"
      ],
      "metadata": {
        "id": "h6JDMSik8cSX"
      },
      "execution_count": 287,
      "outputs": []
    },
    {
      "cell_type": "code",
      "source": [
        "ncs_good['MoneyForLearning'] = pd.to_numeric(ncs_good['MoneyForLearning'], errors='coerce')\n",
        "ncs_good['MonthsProgramming'] = pd.to_numeric(ncs_good['MonthsProgramming'], errors='coerce')\n"
      ],
      "metadata": {
        "id": "tWsdfuHW-04U"
      },
      "execution_count": 293,
      "outputs": []
    },
    {
      "cell_type": "code",
      "source": [
        "print(ncs['money_per_month'])"
      ],
      "metadata": {
        "colab": {
          "base_uri": "https://localhost:8080/"
        },
        "id": "gK8uyR9V9Ln7",
        "outputId": "4fec028f-b620-4ae8-a896-6b14066d6575"
      },
      "execution_count": 297,
      "outputs": [
        {
          "output_type": "stream",
          "name": "stdout",
          "text": [
            "0           25.000000\n",
            "1           13.333333\n",
            "2          200.000000\n",
            "3            0.000000\n",
            "4            0.000000\n",
            "             ...     \n",
            "18170       10.000000\n",
            "18171    10000.000000\n",
            "18172        6.333333\n",
            "18173        0.000000\n",
            "18174             NaN\n",
            "Name: money_per_month, Length: 18175, dtype: float64\n"
          ]
        }
      ]
    },
    {
      "cell_type": "code",
      "source": [
        "print(ncs['money_per_month'].notnull().value_counts())"
      ],
      "metadata": {
        "colab": {
          "base_uri": "https://localhost:8080/"
        },
        "id": "tpeUBsn_BQK4",
        "outputId": "d051adb7-c5b8-4432-b3d7-dde5f134ac07"
      },
      "execution_count": 299,
      "outputs": [
        {
          "output_type": "stream",
          "name": "stdout",
          "text": [
            "True     16180\n",
            "False     1995\n",
            "Name: money_per_month, dtype: int64\n"
          ]
        }
      ]
    },
    {
      "cell_type": "code",
      "source": [
        "avg_spent_month = ncs['money_per_month'].mean()\n",
        "avg_spent_month"
      ],
      "metadata": {
        "colab": {
          "base_uri": "https://localhost:8080/"
        },
        "id": "Vo15Hv2N-Z6d",
        "outputId": "55a9722a-c6de-43f7-aeca-6912c9f44784"
      },
      "execution_count": 301,
      "outputs": [
        {
          "output_type": "execute_result",
          "data": {
            "text/plain": [
              "132.08068116374352"
            ]
          },
          "metadata": {},
          "execution_count": 301
        }
      ]
    },
    {
      "cell_type": "code",
      "source": [
        "avg_spent_month_us = ncs.query(\"`CountryLive` == 'United States of America'\")['money_per_month'].mean()\n",
        "avg_spent_month_us"
      ],
      "metadata": {
        "colab": {
          "base_uri": "https://localhost:8080/"
        },
        "id": "CxZZdCEe-bxs",
        "outputId": "2f68fc44-85da-4a57-f6d9-c7bce535e6de"
      },
      "execution_count": 303,
      "outputs": [
        {
          "output_type": "execute_result",
          "data": {
            "text/plain": [
              "206.29771071791808"
            ]
          },
          "metadata": {},
          "execution_count": 303
        }
      ]
    },
    {
      "cell_type": "code",
      "source": [
        "avg_spent_month_india = ncs.query(\"`CountryLive` == 'India'\")['money_per_month'].mean()\n",
        "avg_spent_month_india"
      ],
      "metadata": {
        "colab": {
          "base_uri": "https://localhost:8080/"
        },
        "id": "IAsmn3_oB_ea",
        "outputId": "fe51fd05-ffc7-48bb-97c6-1302a5dc267a"
      },
      "execution_count": 304,
      "outputs": [
        {
          "output_type": "execute_result",
          "data": {
            "text/plain": [
              "66.5261980990356"
            ]
          },
          "metadata": {},
          "execution_count": 304
        }
      ]
    },
    {
      "cell_type": "code",
      "source": [
        "avg_spent_month_uk = ncs.query(\"`CountryLive` == 'United Kingdom'\")['money_per_month'].mean()\n",
        "avg_spent_month_uk"
      ],
      "metadata": {
        "colab": {
          "base_uri": "https://localhost:8080/"
        },
        "id": "scthmo3tCHvY",
        "outputId": "4adf4590-6d32-4861-e175-68cf414b27b1"
      },
      "execution_count": 305,
      "outputs": [
        {
          "output_type": "execute_result",
          "data": {
            "text/plain": [
              "55.77498025998431"
            ]
          },
          "metadata": {},
          "execution_count": 305
        }
      ]
    },
    {
      "cell_type": "code",
      "source": [
        "avg_spent_month_ca = ncs.query(\"`CountryLive` == 'Canada'\")['money_per_month'].mean()\n",
        "avg_spent_month_ca"
      ],
      "metadata": {
        "colab": {
          "base_uri": "https://localhost:8080/"
        },
        "id": "Xjec8eQtCSg0",
        "outputId": "f5fc84a6-6bf9-4d39-fe93-fbbae7791fe1"
      },
      "execution_count": 306,
      "outputs": [
        {
          "output_type": "execute_result",
          "data": {
            "text/plain": [
              "118.43405393433031"
            ]
          },
          "metadata": {},
          "execution_count": 306
        }
      ]
    },
    {
      "cell_type": "code",
      "source": [
        "ca_respondents = ncs.query(\"`CountryLive` == 'Canada'\").shape[0]\n",
        "print(ca_respondents)"
      ],
      "metadata": {
        "colab": {
          "base_uri": "https://localhost:8080/"
        },
        "id": "6uzR2q6vCV8w",
        "outputId": "39c3d4ff-20ed-4ec4-d538-3927f998d380"
      },
      "execution_count": 313,
      "outputs": [
        {
          "output_type": "stream",
          "name": "stdout",
          "text": [
            "616\n"
          ]
        }
      ]
    },
    {
      "cell_type": "code",
      "source": [
        "india_respondents = ncs.query(\"`CountryLive` == 'India'\").shape[0]"
      ],
      "metadata": {
        "id": "ZlDxSK-lCdv7"
      },
      "execution_count": 312,
      "outputs": []
    },
    {
      "cell_type": "code",
      "source": [
        "ca_spend = avg_spent_month_ca * ca_respondents \n",
        "ca_spend"
      ],
      "metadata": {
        "colab": {
          "base_uri": "https://localhost:8080/"
        },
        "id": "MjRLxvaUCidj",
        "outputId": "04ce69f7-a1fe-40d9-e213-ab3bd6dd85b1"
      },
      "execution_count": 318,
      "outputs": [
        {
          "output_type": "execute_result",
          "data": {
            "text/plain": [
              "72955.37722354748"
            ]
          },
          "metadata": {},
          "execution_count": 318
        }
      ]
    },
    {
      "cell_type": "code",
      "source": [
        "india_spend = avg_spent_month_india * india_respondents\n",
        "india_spend"
      ],
      "metadata": {
        "colab": {
          "base_uri": "https://localhost:8080/"
        },
        "id": "EYQ-HbvBDCrK",
        "outputId": "163954c5-094d-49a6-bbed-347ec1750d72"
      },
      "execution_count": 317,
      "outputs": [
        {
          "output_type": "execute_result",
          "data": {
            "text/plain": [
              "93136.67733864984"
            ]
          },
          "metadata": {},
          "execution_count": 317
        }
      ]
    },
    {
      "cell_type": "code",
      "source": [
        "india_respondents = ncs.query(\"`CountryLive` == 'India'\").shape[0]"
      ],
      "metadata": {
        "id": "bA8hZEVNDS4Q"
      },
      "execution_count": 319,
      "outputs": []
    },
    {
      "cell_type": "code",
      "source": [
        "india_respondentsnotnull = ncs.query(\"`CountryLive` == 'India'\").notnull().shape[0]"
      ],
      "metadata": {
        "id": "lw6Rj1zIDmwO"
      },
      "execution_count": 320,
      "outputs": []
    },
    {
      "cell_type": "code",
      "source": [
        "null_money_per_month = ncs[ncs['money_per_month'].isnull()]['CountryLive']\n"
      ],
      "metadata": {
        "id": "c8yAhcj6DyDI"
      },
      "execution_count": 327,
      "outputs": []
    },
    {
      "cell_type": "code",
      "source": [
        "null_money_per_month.value_counts()"
      ],
      "metadata": {
        "colab": {
          "base_uri": "https://localhost:8080/"
        },
        "id": "INxFVlnYEBVs",
        "outputId": "28b1bf62-8ba3-4cb1-ec03-2174181a41e3"
      },
      "execution_count": 328,
      "outputs": [
        {
          "output_type": "execute_result",
          "data": {
            "text/plain": [
              "United States of America    320\n",
              "India                       179\n",
              "United Kingdom               59\n",
              "Russia                       49\n",
              "Brazil                       49\n",
              "                           ... \n",
              "Aruba                         1\n",
              "Cambodia                      1\n",
              "Benin                         1\n",
              "Norway                        1\n",
              "Guatemala                     1\n",
              "Name: CountryLive, Length: 105, dtype: int64"
            ]
          },
          "metadata": {},
          "execution_count": 328
        }
      ]
    },
    {
      "cell_type": "code",
      "source": [
        "# Copy the DataFrame\n",
        "ncs_copy = ncs.copy()\n",
        "\n",
        "# Drop the rows where 'money_per_month' is null\n",
        "ncs_copy = ncs_copy.dropna(subset=['money_per_month'])\n"
      ],
      "metadata": {
        "id": "t1UsUuQnEoKM"
      },
      "execution_count": 329,
      "outputs": []
    },
    {
      "cell_type": "markdown",
      "source": [
        "We can see null values are not included in aggregate calculations like mean"
      ],
      "metadata": {
        "id": "Zt4pDEKMFvxi"
      }
    },
    {
      "cell_type": "code",
      "source": [
        "avg_spent_month_us = ncs_copy.query(\"`CountryLive` == 'United States of America'\")['money_per_month'].mean()\n",
        "avg_spent_month_us"
      ],
      "metadata": {
        "colab": {
          "base_uri": "https://localhost:8080/"
        },
        "id": "So0C5A4jE5ua",
        "outputId": "fbb66a5b-77fe-42c4-9d7f-4b2895017859"
      },
      "execution_count": 330,
      "outputs": [
        {
          "output_type": "execute_result",
          "data": {
            "text/plain": [
              "206.29771071791808"
            ]
          },
          "metadata": {},
          "execution_count": 330
        }
      ]
    },
    {
      "cell_type": "code",
      "source": [
        "# Isolate only the countries of interest\n",
        "only_4 = ncs_copy[ncs_copy['CountryLive'].str.contains(\n",
        "    'United States of America|India|United Kingdom|Canada')]\n",
        "\n",
        "# Box plots to visualize distributions\n",
        "import seaborn as sns\n",
        "sns.boxplot(y = 'money_per_month', x = 'CountryLive',\n",
        "            data = only_4)\n",
        "plt.title('Money Spent Per Month Per Country\\n(Distributions)',\n",
        "         fontsize = 16)\n",
        "plt.ylabel('Money per month (US dollars)')\n",
        "plt.xlabel('Country')\n",
        "plt.xticks(range(4), ['US', 'UK', 'India', 'Canada']) # avoids tick labels overlap\n",
        "plt.show()\n"
      ],
      "metadata": {
        "id": "TLXNqLqxFCSM"
      },
      "execution_count": null,
      "outputs": []
    },
    {
      "cell_type": "code",
      "source": [
        "only_4b = ncs_copy.query(\"`CountryLive` == 'United States of America' or `CountryLive` == 'India' or `CountryLive` == 'United Kingdom' or `CountryLive` == 'Canada'\")\n"
      ],
      "metadata": {
        "colab": {
          "base_uri": "https://localhost:8080/",
          "height": 136
        },
        "id": "498CjbV0HN6m",
        "outputId": "60f32b48-5890-462f-b82c-84c2114bae38"
      },
      "execution_count": 339,
      "outputs": [
        {
          "output_type": "error",
          "ename": "SyntaxError",
          "evalue": "ignored",
          "traceback": [
            "\u001b[0;36m  File \u001b[0;32m\"<ipython-input-339-7124f096640d>\"\u001b[0;36m, line \u001b[0;32m1\u001b[0m\n\u001b[0;31m    only_4b = ncs_copy.query(\"`CountryLive` == 'United States of America'\u001b[0m\n\u001b[0m                             ^\u001b[0m\n\u001b[0;31mSyntaxError\u001b[0m\u001b[0;31m:\u001b[0m unterminated string literal (detected at line 1)\n"
          ]
        }
      ]
    },
    {
      "cell_type": "code",
      "source": [
        "only_4b = ncs_copy.query(\"`CountryLive` == 'United States of America' or 'India' or 'United Kingdom' or 'Canada'\")['money_per_month']['CountryLive']"
      ],
      "metadata": {
        "colab": {
          "base_uri": "https://localhost:8080/",
          "height": 322
        },
        "id": "i6EAA0KSGazs",
        "outputId": "437724ae-dab2-4a77-f080-eb2873646b83"
      },
      "execution_count": 333,
      "outputs": [
        {
          "output_type": "error",
          "ename": "NotImplementedError",
          "evalue": "ignored",
          "traceback": [
            "\u001b[0;31m---------------------------------------------------------------------------\u001b[0m",
            "\u001b[0;31mNotImplementedError\u001b[0m                       Traceback (most recent call last)",
            "\u001b[0;32m<ipython-input-333-9d0cbaa2592c>\u001b[0m in \u001b[0;36m<cell line: 1>\u001b[0;34m()\u001b[0m\n\u001b[0;32m----> 1\u001b[0;31m \u001b[0monly_4b\u001b[0m \u001b[0;34m=\u001b[0m \u001b[0mncs_copy\u001b[0m\u001b[0;34m.\u001b[0m\u001b[0mquery\u001b[0m\u001b[0;34m(\u001b[0m\u001b[0;34m\"`CountryLive` == 'United States of America' or 'India' or 'United Kingdom' or 'Canada'\"\u001b[0m\u001b[0;34m)\u001b[0m\u001b[0;34m[\u001b[0m\u001b[0;34m'money_per_month'\u001b[0m\u001b[0;34m]\u001b[0m\u001b[0;34m[\u001b[0m\u001b[0;34m'CountryLive'\u001b[0m\u001b[0;34m]\u001b[0m\u001b[0;34m\u001b[0m\u001b[0;34m\u001b[0m\u001b[0m\n\u001b[0m",
            "\u001b[0;32m/usr/local/lib/python3.10/dist-packages/pandas/util/_decorators.py\u001b[0m in \u001b[0;36mwrapper\u001b[0;34m(*args, **kwargs)\u001b[0m\n\u001b[1;32m    329\u001b[0m                     \u001b[0mstacklevel\u001b[0m\u001b[0;34m=\u001b[0m\u001b[0mfind_stack_level\u001b[0m\u001b[0;34m(\u001b[0m\u001b[0;34m)\u001b[0m\u001b[0;34m,\u001b[0m\u001b[0;34m\u001b[0m\u001b[0;34m\u001b[0m\u001b[0m\n\u001b[1;32m    330\u001b[0m                 )\n\u001b[0;32m--> 331\u001b[0;31m             \u001b[0;32mreturn\u001b[0m \u001b[0mfunc\u001b[0m\u001b[0;34m(\u001b[0m\u001b[0;34m*\u001b[0m\u001b[0margs\u001b[0m\u001b[0;34m,\u001b[0m \u001b[0;34m**\u001b[0m\u001b[0mkwargs\u001b[0m\u001b[0;34m)\u001b[0m\u001b[0;34m\u001b[0m\u001b[0;34m\u001b[0m\u001b[0m\n\u001b[0m\u001b[1;32m    332\u001b[0m \u001b[0;34m\u001b[0m\u001b[0m\n\u001b[1;32m    333\u001b[0m         \u001b[0;31m# error: \"Callable[[VarArg(Any), KwArg(Any)], Any]\" has no\u001b[0m\u001b[0;34m\u001b[0m\u001b[0;34m\u001b[0m\u001b[0m\n",
            "\u001b[0;32m/usr/local/lib/python3.10/dist-packages/pandas/core/frame.py\u001b[0m in \u001b[0;36mquery\u001b[0;34m(self, expr, inplace, **kwargs)\u001b[0m\n\u001b[1;32m   4472\u001b[0m         \u001b[0mkwargs\u001b[0m\u001b[0;34m[\u001b[0m\u001b[0;34m\"level\"\u001b[0m\u001b[0;34m]\u001b[0m \u001b[0;34m=\u001b[0m \u001b[0mkwargs\u001b[0m\u001b[0;34m.\u001b[0m\u001b[0mpop\u001b[0m\u001b[0;34m(\u001b[0m\u001b[0;34m\"level\"\u001b[0m\u001b[0;34m,\u001b[0m \u001b[0;36m0\u001b[0m\u001b[0;34m)\u001b[0m \u001b[0;34m+\u001b[0m \u001b[0;36m2\u001b[0m\u001b[0;34m\u001b[0m\u001b[0;34m\u001b[0m\u001b[0m\n\u001b[1;32m   4473\u001b[0m         \u001b[0mkwargs\u001b[0m\u001b[0;34m[\u001b[0m\u001b[0;34m\"target\"\u001b[0m\u001b[0;34m]\u001b[0m \u001b[0;34m=\u001b[0m \u001b[0;32mNone\u001b[0m\u001b[0;34m\u001b[0m\u001b[0;34m\u001b[0m\u001b[0m\n\u001b[0;32m-> 4474\u001b[0;31m         \u001b[0mres\u001b[0m \u001b[0;34m=\u001b[0m \u001b[0mself\u001b[0m\u001b[0;34m.\u001b[0m\u001b[0meval\u001b[0m\u001b[0;34m(\u001b[0m\u001b[0mexpr\u001b[0m\u001b[0;34m,\u001b[0m \u001b[0;34m**\u001b[0m\u001b[0mkwargs\u001b[0m\u001b[0;34m)\u001b[0m\u001b[0;34m\u001b[0m\u001b[0;34m\u001b[0m\u001b[0m\n\u001b[0m\u001b[1;32m   4475\u001b[0m \u001b[0;34m\u001b[0m\u001b[0m\n\u001b[1;32m   4476\u001b[0m         \u001b[0;32mtry\u001b[0m\u001b[0;34m:\u001b[0m\u001b[0;34m\u001b[0m\u001b[0;34m\u001b[0m\u001b[0m\n",
            "\u001b[0;32m/usr/local/lib/python3.10/dist-packages/pandas/util/_decorators.py\u001b[0m in \u001b[0;36mwrapper\u001b[0;34m(*args, **kwargs)\u001b[0m\n\u001b[1;32m    329\u001b[0m                     \u001b[0mstacklevel\u001b[0m\u001b[0;34m=\u001b[0m\u001b[0mfind_stack_level\u001b[0m\u001b[0;34m(\u001b[0m\u001b[0;34m)\u001b[0m\u001b[0;34m,\u001b[0m\u001b[0;34m\u001b[0m\u001b[0;34m\u001b[0m\u001b[0m\n\u001b[1;32m    330\u001b[0m                 )\n\u001b[0;32m--> 331\u001b[0;31m             \u001b[0;32mreturn\u001b[0m \u001b[0mfunc\u001b[0m\u001b[0;34m(\u001b[0m\u001b[0;34m*\u001b[0m\u001b[0margs\u001b[0m\u001b[0;34m,\u001b[0m \u001b[0;34m**\u001b[0m\u001b[0mkwargs\u001b[0m\u001b[0;34m)\u001b[0m\u001b[0;34m\u001b[0m\u001b[0;34m\u001b[0m\u001b[0m\n\u001b[0m\u001b[1;32m    332\u001b[0m \u001b[0;34m\u001b[0m\u001b[0m\n\u001b[1;32m    333\u001b[0m         \u001b[0;31m# error: \"Callable[[VarArg(Any), KwArg(Any)], Any]\" has no\u001b[0m\u001b[0;34m\u001b[0m\u001b[0;34m\u001b[0m\u001b[0m\n",
            "\u001b[0;32m/usr/local/lib/python3.10/dist-packages/pandas/core/frame.py\u001b[0m in \u001b[0;36meval\u001b[0;34m(self, expr, inplace, **kwargs)\u001b[0m\n\u001b[1;32m   4610\u001b[0m         \u001b[0mkwargs\u001b[0m\u001b[0;34m[\u001b[0m\u001b[0;34m\"resolvers\"\u001b[0m\u001b[0;34m]\u001b[0m \u001b[0;34m=\u001b[0m \u001b[0mtuple\u001b[0m\u001b[0;34m(\u001b[0m\u001b[0mkwargs\u001b[0m\u001b[0;34m.\u001b[0m\u001b[0mget\u001b[0m\u001b[0;34m(\u001b[0m\u001b[0;34m\"resolvers\"\u001b[0m\u001b[0;34m,\u001b[0m \u001b[0;34m(\u001b[0m\u001b[0;34m)\u001b[0m\u001b[0;34m)\u001b[0m\u001b[0;34m)\u001b[0m \u001b[0;34m+\u001b[0m \u001b[0mresolvers\u001b[0m\u001b[0;34m\u001b[0m\u001b[0;34m\u001b[0m\u001b[0m\n\u001b[1;32m   4611\u001b[0m \u001b[0;34m\u001b[0m\u001b[0m\n\u001b[0;32m-> 4612\u001b[0;31m         \u001b[0;32mreturn\u001b[0m \u001b[0m_eval\u001b[0m\u001b[0;34m(\u001b[0m\u001b[0mexpr\u001b[0m\u001b[0;34m,\u001b[0m \u001b[0minplace\u001b[0m\u001b[0;34m=\u001b[0m\u001b[0minplace\u001b[0m\u001b[0;34m,\u001b[0m \u001b[0;34m**\u001b[0m\u001b[0mkwargs\u001b[0m\u001b[0;34m)\u001b[0m\u001b[0;34m\u001b[0m\u001b[0;34m\u001b[0m\u001b[0m\n\u001b[0m\u001b[1;32m   4613\u001b[0m \u001b[0;34m\u001b[0m\u001b[0m\n\u001b[1;32m   4614\u001b[0m     \u001b[0;32mdef\u001b[0m \u001b[0mselect_dtypes\u001b[0m\u001b[0;34m(\u001b[0m\u001b[0mself\u001b[0m\u001b[0;34m,\u001b[0m \u001b[0minclude\u001b[0m\u001b[0;34m=\u001b[0m\u001b[0;32mNone\u001b[0m\u001b[0;34m,\u001b[0m \u001b[0mexclude\u001b[0m\u001b[0;34m=\u001b[0m\u001b[0;32mNone\u001b[0m\u001b[0;34m)\u001b[0m \u001b[0;34m->\u001b[0m \u001b[0mDataFrame\u001b[0m\u001b[0;34m:\u001b[0m\u001b[0;34m\u001b[0m\u001b[0;34m\u001b[0m\u001b[0m\n",
            "\u001b[0;32m/usr/local/lib/python3.10/dist-packages/pandas/core/computation/eval.py\u001b[0m in \u001b[0;36meval\u001b[0;34m(expr, parser, engine, truediv, local_dict, global_dict, resolvers, level, target, inplace)\u001b[0m\n\u001b[1;32m    351\u001b[0m         )\n\u001b[1;32m    352\u001b[0m \u001b[0;34m\u001b[0m\u001b[0m\n\u001b[0;32m--> 353\u001b[0;31m         \u001b[0mparsed_expr\u001b[0m \u001b[0;34m=\u001b[0m \u001b[0mExpr\u001b[0m\u001b[0;34m(\u001b[0m\u001b[0mexpr\u001b[0m\u001b[0;34m,\u001b[0m \u001b[0mengine\u001b[0m\u001b[0;34m=\u001b[0m\u001b[0mengine\u001b[0m\u001b[0;34m,\u001b[0m \u001b[0mparser\u001b[0m\u001b[0;34m=\u001b[0m\u001b[0mparser\u001b[0m\u001b[0;34m,\u001b[0m \u001b[0menv\u001b[0m\u001b[0;34m=\u001b[0m\u001b[0menv\u001b[0m\u001b[0;34m)\u001b[0m\u001b[0;34m\u001b[0m\u001b[0;34m\u001b[0m\u001b[0m\n\u001b[0m\u001b[1;32m    354\u001b[0m \u001b[0;34m\u001b[0m\u001b[0m\n\u001b[1;32m    355\u001b[0m         \u001b[0;31m# construct the engine and evaluate the parsed expression\u001b[0m\u001b[0;34m\u001b[0m\u001b[0;34m\u001b[0m\u001b[0m\n",
            "\u001b[0;32m/usr/local/lib/python3.10/dist-packages/pandas/core/computation/expr.py\u001b[0m in \u001b[0;36m__init__\u001b[0;34m(self, expr, engine, parser, env, level)\u001b[0m\n\u001b[1;32m    811\u001b[0m         \u001b[0mself\u001b[0m\u001b[0;34m.\u001b[0m\u001b[0mparser\u001b[0m \u001b[0;34m=\u001b[0m \u001b[0mparser\u001b[0m\u001b[0;34m\u001b[0m\u001b[0;34m\u001b[0m\u001b[0m\n\u001b[1;32m    812\u001b[0m         \u001b[0mself\u001b[0m\u001b[0;34m.\u001b[0m\u001b[0m_visitor\u001b[0m \u001b[0;34m=\u001b[0m \u001b[0mPARSERS\u001b[0m\u001b[0;34m[\u001b[0m\u001b[0mparser\u001b[0m\u001b[0;34m]\u001b[0m\u001b[0;34m(\u001b[0m\u001b[0mself\u001b[0m\u001b[0;34m.\u001b[0m\u001b[0menv\u001b[0m\u001b[0;34m,\u001b[0m \u001b[0mself\u001b[0m\u001b[0;34m.\u001b[0m\u001b[0mengine\u001b[0m\u001b[0;34m,\u001b[0m \u001b[0mself\u001b[0m\u001b[0;34m.\u001b[0m\u001b[0mparser\u001b[0m\u001b[0;34m)\u001b[0m\u001b[0;34m\u001b[0m\u001b[0;34m\u001b[0m\u001b[0m\n\u001b[0;32m--> 813\u001b[0;31m         \u001b[0mself\u001b[0m\u001b[0;34m.\u001b[0m\u001b[0mterms\u001b[0m \u001b[0;34m=\u001b[0m \u001b[0mself\u001b[0m\u001b[0;34m.\u001b[0m\u001b[0mparse\u001b[0m\u001b[0;34m(\u001b[0m\u001b[0;34m)\u001b[0m\u001b[0;34m\u001b[0m\u001b[0;34m\u001b[0m\u001b[0m\n\u001b[0m\u001b[1;32m    814\u001b[0m \u001b[0;34m\u001b[0m\u001b[0m\n\u001b[1;32m    815\u001b[0m     \u001b[0;34m@\u001b[0m\u001b[0mproperty\u001b[0m\u001b[0;34m\u001b[0m\u001b[0;34m\u001b[0m\u001b[0m\n",
            "\u001b[0;32m/usr/local/lib/python3.10/dist-packages/pandas/core/computation/expr.py\u001b[0m in \u001b[0;36mparse\u001b[0;34m(self)\u001b[0m\n\u001b[1;32m    830\u001b[0m         \u001b[0mParse\u001b[0m \u001b[0man\u001b[0m \u001b[0mexpression\u001b[0m\u001b[0;34m.\u001b[0m\u001b[0;34m\u001b[0m\u001b[0;34m\u001b[0m\u001b[0m\n\u001b[1;32m    831\u001b[0m         \"\"\"\n\u001b[0;32m--> 832\u001b[0;31m         \u001b[0;32mreturn\u001b[0m \u001b[0mself\u001b[0m\u001b[0;34m.\u001b[0m\u001b[0m_visitor\u001b[0m\u001b[0;34m.\u001b[0m\u001b[0mvisit\u001b[0m\u001b[0;34m(\u001b[0m\u001b[0mself\u001b[0m\u001b[0;34m.\u001b[0m\u001b[0mexpr\u001b[0m\u001b[0;34m)\u001b[0m\u001b[0;34m\u001b[0m\u001b[0;34m\u001b[0m\u001b[0m\n\u001b[0m\u001b[1;32m    833\u001b[0m \u001b[0;34m\u001b[0m\u001b[0m\n\u001b[1;32m    834\u001b[0m     \u001b[0;34m@\u001b[0m\u001b[0mproperty\u001b[0m\u001b[0;34m\u001b[0m\u001b[0;34m\u001b[0m\u001b[0m\n",
            "\u001b[0;32m/usr/local/lib/python3.10/dist-packages/pandas/core/computation/expr.py\u001b[0m in \u001b[0;36mvisit\u001b[0;34m(self, node, **kwargs)\u001b[0m\n\u001b[1;32m    413\u001b[0m         \u001b[0mmethod\u001b[0m \u001b[0;34m=\u001b[0m \u001b[0;34m\"visit_\"\u001b[0m \u001b[0;34m+\u001b[0m \u001b[0mtype\u001b[0m\u001b[0;34m(\u001b[0m\u001b[0mnode\u001b[0m\u001b[0;34m)\u001b[0m\u001b[0;34m.\u001b[0m\u001b[0m__name__\u001b[0m\u001b[0;34m\u001b[0m\u001b[0;34m\u001b[0m\u001b[0m\n\u001b[1;32m    414\u001b[0m         \u001b[0mvisitor\u001b[0m \u001b[0;34m=\u001b[0m \u001b[0mgetattr\u001b[0m\u001b[0;34m(\u001b[0m\u001b[0mself\u001b[0m\u001b[0;34m,\u001b[0m \u001b[0mmethod\u001b[0m\u001b[0;34m)\u001b[0m\u001b[0;34m\u001b[0m\u001b[0;34m\u001b[0m\u001b[0m\n\u001b[0;32m--> 415\u001b[0;31m         \u001b[0;32mreturn\u001b[0m \u001b[0mvisitor\u001b[0m\u001b[0;34m(\u001b[0m\u001b[0mnode\u001b[0m\u001b[0;34m,\u001b[0m \u001b[0;34m**\u001b[0m\u001b[0mkwargs\u001b[0m\u001b[0;34m)\u001b[0m\u001b[0;34m\u001b[0m\u001b[0;34m\u001b[0m\u001b[0m\n\u001b[0m\u001b[1;32m    416\u001b[0m \u001b[0;34m\u001b[0m\u001b[0m\n\u001b[1;32m    417\u001b[0m     \u001b[0;32mdef\u001b[0m \u001b[0mvisit_Module\u001b[0m\u001b[0;34m(\u001b[0m\u001b[0mself\u001b[0m\u001b[0;34m,\u001b[0m \u001b[0mnode\u001b[0m\u001b[0;34m,\u001b[0m \u001b[0;34m**\u001b[0m\u001b[0mkwargs\u001b[0m\u001b[0;34m)\u001b[0m\u001b[0;34m:\u001b[0m\u001b[0;34m\u001b[0m\u001b[0;34m\u001b[0m\u001b[0m\n",
            "\u001b[0;32m/usr/local/lib/python3.10/dist-packages/pandas/core/computation/expr.py\u001b[0m in \u001b[0;36mvisit_Module\u001b[0;34m(self, node, **kwargs)\u001b[0m\n\u001b[1;32m    419\u001b[0m             \u001b[0;32mraise\u001b[0m \u001b[0mSyntaxError\u001b[0m\u001b[0;34m(\u001b[0m\u001b[0;34m\"only a single expression is allowed\"\u001b[0m\u001b[0;34m)\u001b[0m\u001b[0;34m\u001b[0m\u001b[0;34m\u001b[0m\u001b[0m\n\u001b[1;32m    420\u001b[0m         \u001b[0mexpr\u001b[0m \u001b[0;34m=\u001b[0m \u001b[0mnode\u001b[0m\u001b[0;34m.\u001b[0m\u001b[0mbody\u001b[0m\u001b[0;34m[\u001b[0m\u001b[0;36m0\u001b[0m\u001b[0;34m]\u001b[0m\u001b[0;34m\u001b[0m\u001b[0;34m\u001b[0m\u001b[0m\n\u001b[0;32m--> 421\u001b[0;31m         \u001b[0;32mreturn\u001b[0m \u001b[0mself\u001b[0m\u001b[0;34m.\u001b[0m\u001b[0mvisit\u001b[0m\u001b[0;34m(\u001b[0m\u001b[0mexpr\u001b[0m\u001b[0;34m,\u001b[0m \u001b[0;34m**\u001b[0m\u001b[0mkwargs\u001b[0m\u001b[0;34m)\u001b[0m\u001b[0;34m\u001b[0m\u001b[0;34m\u001b[0m\u001b[0m\n\u001b[0m\u001b[1;32m    422\u001b[0m \u001b[0;34m\u001b[0m\u001b[0m\n\u001b[1;32m    423\u001b[0m     \u001b[0;32mdef\u001b[0m \u001b[0mvisit_Expr\u001b[0m\u001b[0;34m(\u001b[0m\u001b[0mself\u001b[0m\u001b[0;34m,\u001b[0m \u001b[0mnode\u001b[0m\u001b[0;34m,\u001b[0m \u001b[0;34m**\u001b[0m\u001b[0mkwargs\u001b[0m\u001b[0;34m)\u001b[0m\u001b[0;34m:\u001b[0m\u001b[0;34m\u001b[0m\u001b[0;34m\u001b[0m\u001b[0m\n",
            "\u001b[0;32m/usr/local/lib/python3.10/dist-packages/pandas/core/computation/expr.py\u001b[0m in \u001b[0;36mvisit\u001b[0;34m(self, node, **kwargs)\u001b[0m\n\u001b[1;32m    413\u001b[0m         \u001b[0mmethod\u001b[0m \u001b[0;34m=\u001b[0m \u001b[0;34m\"visit_\"\u001b[0m \u001b[0;34m+\u001b[0m \u001b[0mtype\u001b[0m\u001b[0;34m(\u001b[0m\u001b[0mnode\u001b[0m\u001b[0;34m)\u001b[0m\u001b[0;34m.\u001b[0m\u001b[0m__name__\u001b[0m\u001b[0;34m\u001b[0m\u001b[0;34m\u001b[0m\u001b[0m\n\u001b[1;32m    414\u001b[0m         \u001b[0mvisitor\u001b[0m \u001b[0;34m=\u001b[0m \u001b[0mgetattr\u001b[0m\u001b[0;34m(\u001b[0m\u001b[0mself\u001b[0m\u001b[0;34m,\u001b[0m \u001b[0mmethod\u001b[0m\u001b[0;34m)\u001b[0m\u001b[0;34m\u001b[0m\u001b[0;34m\u001b[0m\u001b[0m\n\u001b[0;32m--> 415\u001b[0;31m         \u001b[0;32mreturn\u001b[0m \u001b[0mvisitor\u001b[0m\u001b[0;34m(\u001b[0m\u001b[0mnode\u001b[0m\u001b[0;34m,\u001b[0m \u001b[0;34m**\u001b[0m\u001b[0mkwargs\u001b[0m\u001b[0;34m)\u001b[0m\u001b[0;34m\u001b[0m\u001b[0;34m\u001b[0m\u001b[0m\n\u001b[0m\u001b[1;32m    416\u001b[0m \u001b[0;34m\u001b[0m\u001b[0m\n\u001b[1;32m    417\u001b[0m     \u001b[0;32mdef\u001b[0m \u001b[0mvisit_Module\u001b[0m\u001b[0;34m(\u001b[0m\u001b[0mself\u001b[0m\u001b[0;34m,\u001b[0m \u001b[0mnode\u001b[0m\u001b[0;34m,\u001b[0m \u001b[0;34m**\u001b[0m\u001b[0mkwargs\u001b[0m\u001b[0;34m)\u001b[0m\u001b[0;34m:\u001b[0m\u001b[0;34m\u001b[0m\u001b[0;34m\u001b[0m\u001b[0m\n",
            "\u001b[0;32m/usr/local/lib/python3.10/dist-packages/pandas/core/computation/expr.py\u001b[0m in \u001b[0;36mvisit_Expr\u001b[0;34m(self, node, **kwargs)\u001b[0m\n\u001b[1;32m    422\u001b[0m \u001b[0;34m\u001b[0m\u001b[0m\n\u001b[1;32m    423\u001b[0m     \u001b[0;32mdef\u001b[0m \u001b[0mvisit_Expr\u001b[0m\u001b[0;34m(\u001b[0m\u001b[0mself\u001b[0m\u001b[0;34m,\u001b[0m \u001b[0mnode\u001b[0m\u001b[0;34m,\u001b[0m \u001b[0;34m**\u001b[0m\u001b[0mkwargs\u001b[0m\u001b[0;34m)\u001b[0m\u001b[0;34m:\u001b[0m\u001b[0;34m\u001b[0m\u001b[0;34m\u001b[0m\u001b[0m\n\u001b[0;32m--> 424\u001b[0;31m         \u001b[0;32mreturn\u001b[0m \u001b[0mself\u001b[0m\u001b[0;34m.\u001b[0m\u001b[0mvisit\u001b[0m\u001b[0;34m(\u001b[0m\u001b[0mnode\u001b[0m\u001b[0;34m.\u001b[0m\u001b[0mvalue\u001b[0m\u001b[0;34m,\u001b[0m \u001b[0;34m**\u001b[0m\u001b[0mkwargs\u001b[0m\u001b[0;34m)\u001b[0m\u001b[0;34m\u001b[0m\u001b[0;34m\u001b[0m\u001b[0m\n\u001b[0m\u001b[1;32m    425\u001b[0m \u001b[0;34m\u001b[0m\u001b[0m\n\u001b[1;32m    426\u001b[0m     \u001b[0;32mdef\u001b[0m \u001b[0m_rewrite_membership_op\u001b[0m\u001b[0;34m(\u001b[0m\u001b[0mself\u001b[0m\u001b[0;34m,\u001b[0m \u001b[0mnode\u001b[0m\u001b[0;34m,\u001b[0m \u001b[0mleft\u001b[0m\u001b[0;34m,\u001b[0m \u001b[0mright\u001b[0m\u001b[0;34m)\u001b[0m\u001b[0;34m:\u001b[0m\u001b[0;34m\u001b[0m\u001b[0;34m\u001b[0m\u001b[0m\n",
            "\u001b[0;32m/usr/local/lib/python3.10/dist-packages/pandas/core/computation/expr.py\u001b[0m in \u001b[0;36mvisit\u001b[0;34m(self, node, **kwargs)\u001b[0m\n\u001b[1;32m    413\u001b[0m         \u001b[0mmethod\u001b[0m \u001b[0;34m=\u001b[0m \u001b[0;34m\"visit_\"\u001b[0m \u001b[0;34m+\u001b[0m \u001b[0mtype\u001b[0m\u001b[0;34m(\u001b[0m\u001b[0mnode\u001b[0m\u001b[0;34m)\u001b[0m\u001b[0;34m.\u001b[0m\u001b[0m__name__\u001b[0m\u001b[0;34m\u001b[0m\u001b[0;34m\u001b[0m\u001b[0m\n\u001b[1;32m    414\u001b[0m         \u001b[0mvisitor\u001b[0m \u001b[0;34m=\u001b[0m \u001b[0mgetattr\u001b[0m\u001b[0;34m(\u001b[0m\u001b[0mself\u001b[0m\u001b[0;34m,\u001b[0m \u001b[0mmethod\u001b[0m\u001b[0;34m)\u001b[0m\u001b[0;34m\u001b[0m\u001b[0;34m\u001b[0m\u001b[0m\n\u001b[0;32m--> 415\u001b[0;31m         \u001b[0;32mreturn\u001b[0m \u001b[0mvisitor\u001b[0m\u001b[0;34m(\u001b[0m\u001b[0mnode\u001b[0m\u001b[0;34m,\u001b[0m \u001b[0;34m**\u001b[0m\u001b[0mkwargs\u001b[0m\u001b[0;34m)\u001b[0m\u001b[0;34m\u001b[0m\u001b[0;34m\u001b[0m\u001b[0m\n\u001b[0m\u001b[1;32m    416\u001b[0m \u001b[0;34m\u001b[0m\u001b[0m\n\u001b[1;32m    417\u001b[0m     \u001b[0;32mdef\u001b[0m \u001b[0mvisit_Module\u001b[0m\u001b[0;34m(\u001b[0m\u001b[0mself\u001b[0m\u001b[0;34m,\u001b[0m \u001b[0mnode\u001b[0m\u001b[0;34m,\u001b[0m \u001b[0;34m**\u001b[0m\u001b[0mkwargs\u001b[0m\u001b[0;34m)\u001b[0m\u001b[0;34m:\u001b[0m\u001b[0;34m\u001b[0m\u001b[0;34m\u001b[0m\u001b[0m\n",
            "\u001b[0;32m/usr/local/lib/python3.10/dist-packages/pandas/core/computation/expr.py\u001b[0m in \u001b[0;36mvisit_BoolOp\u001b[0;34m(self, node, **kwargs)\u001b[0m\n\u001b[1;32m    748\u001b[0m \u001b[0;34m\u001b[0m\u001b[0m\n\u001b[1;32m    749\u001b[0m         \u001b[0moperands\u001b[0m \u001b[0;34m=\u001b[0m \u001b[0mnode\u001b[0m\u001b[0;34m.\u001b[0m\u001b[0mvalues\u001b[0m\u001b[0;34m\u001b[0m\u001b[0;34m\u001b[0m\u001b[0m\n\u001b[0;32m--> 750\u001b[0;31m         \u001b[0;32mreturn\u001b[0m \u001b[0mreduce\u001b[0m\u001b[0;34m(\u001b[0m\u001b[0mvisitor\u001b[0m\u001b[0;34m,\u001b[0m \u001b[0moperands\u001b[0m\u001b[0;34m)\u001b[0m\u001b[0;34m\u001b[0m\u001b[0;34m\u001b[0m\u001b[0m\n\u001b[0m\u001b[1;32m    751\u001b[0m \u001b[0;34m\u001b[0m\u001b[0m\n\u001b[1;32m    752\u001b[0m \u001b[0;34m\u001b[0m\u001b[0m\n",
            "\u001b[0;32m/usr/local/lib/python3.10/dist-packages/pandas/core/computation/expr.py\u001b[0m in \u001b[0;36mvisitor\u001b[0;34m(x, y)\u001b[0m\n\u001b[1;32m    745\u001b[0m \u001b[0;34m\u001b[0m\u001b[0m\n\u001b[1;32m    746\u001b[0m             \u001b[0mop\u001b[0m\u001b[0;34m,\u001b[0m \u001b[0mop_class\u001b[0m\u001b[0;34m,\u001b[0m \u001b[0mlhs\u001b[0m\u001b[0;34m,\u001b[0m \u001b[0mrhs\u001b[0m \u001b[0;34m=\u001b[0m \u001b[0mself\u001b[0m\u001b[0;34m.\u001b[0m\u001b[0m_maybe_transform_eq_ne\u001b[0m\u001b[0;34m(\u001b[0m\u001b[0mnode\u001b[0m\u001b[0;34m,\u001b[0m \u001b[0mlhs\u001b[0m\u001b[0;34m,\u001b[0m \u001b[0mrhs\u001b[0m\u001b[0;34m)\u001b[0m\u001b[0;34m\u001b[0m\u001b[0;34m\u001b[0m\u001b[0m\n\u001b[0;32m--> 747\u001b[0;31m             \u001b[0;32mreturn\u001b[0m \u001b[0mself\u001b[0m\u001b[0;34m.\u001b[0m\u001b[0m_maybe_evaluate_binop\u001b[0m\u001b[0;34m(\u001b[0m\u001b[0mop\u001b[0m\u001b[0;34m,\u001b[0m \u001b[0mnode\u001b[0m\u001b[0;34m.\u001b[0m\u001b[0mop\u001b[0m\u001b[0;34m,\u001b[0m \u001b[0mlhs\u001b[0m\u001b[0;34m,\u001b[0m \u001b[0mrhs\u001b[0m\u001b[0;34m)\u001b[0m\u001b[0;34m\u001b[0m\u001b[0;34m\u001b[0m\u001b[0m\n\u001b[0m\u001b[1;32m    748\u001b[0m \u001b[0;34m\u001b[0m\u001b[0m\n\u001b[1;32m    749\u001b[0m         \u001b[0moperands\u001b[0m \u001b[0;34m=\u001b[0m \u001b[0mnode\u001b[0m\u001b[0;34m.\u001b[0m\u001b[0mvalues\u001b[0m\u001b[0;34m\u001b[0m\u001b[0;34m\u001b[0m\u001b[0m\n",
            "\u001b[0;32m/usr/local/lib/python3.10/dist-packages/pandas/core/computation/expr.py\u001b[0m in \u001b[0;36m_maybe_evaluate_binop\u001b[0;34m(self, op, op_class, lhs, rhs, eval_in_python, maybe_eval_in_python)\u001b[0m\n\u001b[1;32m    503\u001b[0m         \u001b[0mmaybe_eval_in_python\u001b[0m\u001b[0;34m=\u001b[0m\u001b[0;34m(\u001b[0m\u001b[0;34m\"==\"\u001b[0m\u001b[0;34m,\u001b[0m \u001b[0;34m\"!=\"\u001b[0m\u001b[0;34m,\u001b[0m \u001b[0;34m\"<\"\u001b[0m\u001b[0;34m,\u001b[0m \u001b[0;34m\">\"\u001b[0m\u001b[0;34m,\u001b[0m \u001b[0;34m\"<=\"\u001b[0m\u001b[0;34m,\u001b[0m \u001b[0;34m\">=\"\u001b[0m\u001b[0;34m)\u001b[0m\u001b[0;34m,\u001b[0m\u001b[0;34m\u001b[0m\u001b[0;34m\u001b[0m\u001b[0m\n\u001b[1;32m    504\u001b[0m     ):\n\u001b[0;32m--> 505\u001b[0;31m         \u001b[0mres\u001b[0m \u001b[0;34m=\u001b[0m \u001b[0mop\u001b[0m\u001b[0;34m(\u001b[0m\u001b[0mlhs\u001b[0m\u001b[0;34m,\u001b[0m \u001b[0mrhs\u001b[0m\u001b[0;34m)\u001b[0m\u001b[0;34m\u001b[0m\u001b[0;34m\u001b[0m\u001b[0m\n\u001b[0m\u001b[1;32m    506\u001b[0m \u001b[0;34m\u001b[0m\u001b[0m\n\u001b[1;32m    507\u001b[0m         \u001b[0;32mif\u001b[0m \u001b[0mres\u001b[0m\u001b[0;34m.\u001b[0m\u001b[0mhas_invalid_return_type\u001b[0m\u001b[0;34m:\u001b[0m\u001b[0;34m\u001b[0m\u001b[0;34m\u001b[0m\u001b[0m\n",
            "\u001b[0;32m/usr/local/lib/python3.10/dist-packages/pandas/core/computation/ops.py\u001b[0m in \u001b[0;36m__init__\u001b[0;34m(self, op, lhs, rhs)\u001b[0m\n\u001b[1;32m    375\u001b[0m         \u001b[0mself\u001b[0m\u001b[0;34m.\u001b[0m\u001b[0mrhs\u001b[0m \u001b[0;34m=\u001b[0m \u001b[0mrhs\u001b[0m\u001b[0;34m\u001b[0m\u001b[0;34m\u001b[0m\u001b[0m\n\u001b[1;32m    376\u001b[0m \u001b[0;34m\u001b[0m\u001b[0m\n\u001b[0;32m--> 377\u001b[0;31m         \u001b[0mself\u001b[0m\u001b[0;34m.\u001b[0m\u001b[0m_disallow_scalar_only_bool_ops\u001b[0m\u001b[0;34m(\u001b[0m\u001b[0;34m)\u001b[0m\u001b[0;34m\u001b[0m\u001b[0;34m\u001b[0m\u001b[0m\n\u001b[0m\u001b[1;32m    378\u001b[0m \u001b[0;34m\u001b[0m\u001b[0m\n\u001b[1;32m    379\u001b[0m         \u001b[0mself\u001b[0m\u001b[0;34m.\u001b[0m\u001b[0mconvert_values\u001b[0m\u001b[0;34m(\u001b[0m\u001b[0;34m)\u001b[0m\u001b[0;34m\u001b[0m\u001b[0;34m\u001b[0m\u001b[0m\n",
            "\u001b[0;32m/usr/local/lib/python3.10/dist-packages/pandas/core/computation/ops.py\u001b[0m in \u001b[0;36m_disallow_scalar_only_bool_ops\u001b[0;34m(self)\u001b[0m\n\u001b[1;32m    508\u001b[0m             )\n\u001b[1;32m    509\u001b[0m         ):\n\u001b[0;32m--> 510\u001b[0;31m             \u001b[0;32mraise\u001b[0m \u001b[0mNotImplementedError\u001b[0m\u001b[0;34m(\u001b[0m\u001b[0;34m\"cannot evaluate scalar only bool ops\"\u001b[0m\u001b[0;34m)\u001b[0m\u001b[0;34m\u001b[0m\u001b[0;34m\u001b[0m\u001b[0m\n\u001b[0m\u001b[1;32m    511\u001b[0m \u001b[0;34m\u001b[0m\u001b[0m\n\u001b[1;32m    512\u001b[0m \u001b[0;34m\u001b[0m\u001b[0m\n",
            "\u001b[0;31mNotImplementedError\u001b[0m: cannot evaluate scalar only bool ops"
          ]
        }
      ]
    },
    {
      "cell_type": "code",
      "source": [
        "only_4b = ncs_copy.query(\n",
        "    \"`CountryLive` == 'United States of America' or \"\n",
        "    \"`CountryLive` == 'India' or \"\n",
        "    \"`CountryLive` == 'United Kingdom' or \"\n",
        "    \"`CountryLive` == 'Canada'\"\n",
        ")\n"
      ],
      "metadata": {
        "id": "DTYaBWtdG-9Y"
      },
      "execution_count": 340,
      "outputs": []
    },
    {
      "cell_type": "code",
      "source": [
        "avg_per_month_country = only_4b.groupby(by='CountryLive')['money_per_month'].mean()"
      ],
      "metadata": {
        "id": "hk-gzy0qH_ML"
      },
      "execution_count": 357,
      "outputs": []
    },
    {
      "cell_type": "code",
      "source": [
        "print(avg_per_month_country)"
      ],
      "metadata": {
        "colab": {
          "base_uri": "https://localhost:8080/"
        },
        "id": "Y6g5PdteIUNh",
        "outputId": "5c0fecd9-aa3b-43f1-e94f-0212ab114201"
      },
      "execution_count": 358,
      "outputs": [
        {
          "output_type": "stream",
          "name": "stdout",
          "text": [
            "CountryLive\n",
            "Canada                      118.434054\n",
            "India                        66.526198\n",
            "United Kingdom               55.774980\n",
            "United States of America    206.297711\n",
            "Name: money_per_month, dtype: float64\n"
          ]
        }
      ]
    },
    {
      "cell_type": "code",
      "source": [
        "pd.Series(avg_per_month_country).plot.barh(color='lime')"
      ],
      "metadata": {
        "colab": {
          "base_uri": "https://localhost:8080/",
          "height": 448
        },
        "id": "e-86OgfZJvW_",
        "outputId": "b092b895-c5ea-4ae5-edcf-f4c17d2c45b4"
      },
      "execution_count": 370,
      "outputs": [
        {
          "output_type": "execute_result",
          "data": {
            "text/plain": [
              "<Axes: ylabel='CountryLive'>"
            ]
          },
          "metadata": {},
          "execution_count": 370
        },
        {
          "output_type": "display_data",
          "data": {
            "text/plain": [
              "<Figure size 640x480 with 1 Axes>"
            ],
            "image/png": "[encoded data removed]"
          },
          "metadata": {}
        }
      ]
    },
    {
      "cell_type": "code",
      "source": [
        "ncs_copy = ncs_copy[ncs_copy['money_per_month'] < 20000]"
      ],
      "metadata": {
        "id": "RzY3ffyNLGQK"
      },
      "execution_count": 374,
      "outputs": []
    },
    {
      "cell_type": "code",
      "source": [
        "only_4b = ncs_copy.query(\n",
        "    \"`CountryLive` == 'United States of America' or \"\n",
        "    \"`CountryLive` == 'India' or \"\n",
        "    \"`CountryLive` == 'United Kingdom' or \"\n",
        "    \"`CountryLive` == 'Canada'\"\n",
        ")\n"
      ],
      "metadata": {
        "id": "NFCD0waxL11O"
      },
      "execution_count": 376,
      "outputs": []
    },
    {
      "cell_type": "code",
      "source": [
        "avg_per_month_country = only_4b.groupby(by='CountryLive')['money_per_month'].mean()"
      ],
      "metadata": {
        "id": "CxbOzmgIM_vB"
      },
      "execution_count": 377,
      "outputs": []
    },
    {
      "cell_type": "markdown",
      "source": [
        "After dropping our outlier larger values (spend per month > 20000) our average spend per month by country has decreased."
      ],
      "metadata": {
        "id": "BwUjRgTSNUYg"
      }
    },
    {
      "cell_type": "code",
      "source": [
        "print(avg_per_month_country)"
      ],
      "metadata": {
        "colab": {
          "base_uri": "https://localhost:8080/"
        },
        "id": "1T7oaI5INNiM",
        "outputId": "24449798-9238-4b8e-d520-5ee95b3bcebd"
      },
      "execution_count": 378,
      "outputs": [
        {
          "output_type": "stream",
          "name": "stdout",
          "text": [
            "CountryLive\n",
            "Canada                      118.434054\n",
            "India                        66.526198\n",
            "United Kingdom               55.774980\n",
            "United States of America    158.919644\n",
            "Name: money_per_month, dtype: float64\n"
          ]
        }
      ]
    },
    {
      "cell_type": "code",
      "source": [
        "country_spend_mean = {}\n",
        "for country in ncs_copy['CountryLive'].unique():  # Loop over unique country names\n",
        "    country_spend_mean[country] = ncs_copy[ncs_copy['CountryLive'] == country]['money_per_month'].mean()\n"
      ],
      "metadata": {
        "id": "XUMSL_C1N9pd"
      },
      "execution_count": 381,
      "outputs": []
    },
    {
      "cell_type": "code",
      "source": [
        "print(country_spend_mean)"
      ],
      "metadata": {
        "colab": {
          "base_uri": "https://localhost:8080/"
        },
        "id": "rMRpcLHWOjMz",
        "outputId": "33afb1b4-68ba-42c4-94cc-a2e02684866e"
      },
      "execution_count": 382,
      "outputs": [
        {
          "output_type": "stream",
          "name": "stdout",
          "text": [
            "{'Canada': 118.43405393433031, 'United States of America': 158.91964422570982, 'Brazil': 56.85019908853934, 'Portugal': 176.13027180406212, 'United Kingdom': 55.77498025998431, 'Mexico': 38.14772366408709, 'Germany': 35.33184985639155, 'Macedonia': 64.39325396825396, 'Romania': 29.764535389406685, 'Malaysia': 68.87777777777778, nan: nan, 'Argentina': 37.502190170940175, 'Venezuela': 83.1219362745098, 'Colombia': 59.80252619497902, 'Australia': 114.30610541130085, 'India': 66.5261980990356, 'Peru': 24.05475063131313, 'Cambodia': 13.605654761904763, 'New Zealand': 285.678857022607, 'Kyrgyzstan': 5.050505050505051, 'Israel': 131.2981601731602, 'Russia': 35.88356635051461, 'South Africa': 53.98027517836839, 'Egypt': 27.090239858906525, 'Lithuania': 48.392682926829266, 'Finland': 28.851934523809522, 'Belgium': 43.031531531531535, 'Bosnia & Herzegovina': 14.40735835801625, 'Great Britain': 20.51466049382716, 'Czech Republic': 43.185501066098084, 'Netherlands (Holland, Europe)': 21.551623440318483, 'Kenya': 76.74674112785016, 'Switzerland': 43.26315789473684, 'Italy': 28.781815250477223, 'Serbia': 47.725251469655795, 'France': 54.86658866677712, 'Qatar': 3.472222222222222, 'Norway': 161.9693418560606, 'Sweden': 38.36276028230456, 'Austria': 397.39215263400047, 'Turkey': 78.4139211006858, 'Poland': 94.26215791458955, 'Spain': 209.82176612677526, 'China': 99.70844075591462, 'Ireland': 31.152259965018875, 'New Caledonia': 0.0, 'Croatia': 44.2530525030525, 'Cameroon': 15.135281385281385, 'Ukraine': 34.210028464953915, 'Hungary': 23.24801260964912, 'Korea South': 114.22660098522168, 'Singapore': 69.45537475345166, 'Luxembourg': 219.13614163614167, 'Greece': 51.968750258979334, 'Dominican Republic': 75.90055884286653, 'Slovenia': 10.649007936507937, 'Philippines': 34.66640590807258, 'Georgia': 1.7676767676767675, 'Nigeria': 107.25748721475846, 'Denmark': 20.23848523444211, 'Iraq': 36.111111111111114, 'Slovakia': 17.39506172839506, 'Chile': 70.811473727422, 'Palestine': 30.777777777777782, 'Bulgaria': 29.77356902356902, 'Costa Rica': 43.4486161986162, 'Nicaragua': 50.0, 'Albania': 14.60987103174603, 'Bangladesh': 80.85433022721159, 'Honduras': 0.0, 'Morocco': 44.24575746314877, 'Puerto Rico': 15.769230769230772, 'Japan': 14.388049450549449, 'Cyprus': 13.604910714285715, 'Ghana': 64.43328732459166, 'Algeria': 2.9876543209876543, 'Tunisia': 6.636904761904761, 'Pakistan': 19.465398667526326, 'Thailand': 15.444300890037326, 'Hong Kong': 209.483624609264, 'Iceland': 1.2984674329501915, 'Vietnam': 118.88860665478313, 'Virgin Islands (USA)': 40.05769230769231, 'Indonesia': 44.81438420838421, 'Mauritius': 44.22222222222222, 'Taiwan': 212.27301117685732, 'Guam': 6.0888888888888895, 'Uruguay': 89.90185185185186, 'Guatemala': 2.581081081081081, 'Kazakhstan': 60.928802910052916, 'Nepal': 33.48005698005697, 'Sri Lanka': 54.80311355311355, 'Armenia': 20.833333333333332, 'Latvia': 10.606060606060606, 'Uganda': 152.1990740740741, 'Senegal': 61.80952380952381, 'Malta': 9.583333333333334, 'Belarus': 16.081349206349206, 'Uzbekistan': 3.935185185185185, 'Saudi Arabia': 78.05776515151514, 'United Arab Emirates': 75.82234684507412, 'Sierra Leone': 0.0, 'Turkmenistan': 32.05128205128205, 'Botswana': 0.0, 'Estonia': 24.838383838383837, 'Jamaica': 518.2478632478633, \"Cote D'Ivoire\": 0.6666666666666667, 'Haiti': 0.0, 'Ecuador': 9.708333333333332, 'Myanmar': 9.642857142857142, 'Iran': 40.01469017094017, 'Panama': 9.030555555555555, 'Republic of Montenegro': 4.166666666666667, 'Bahrain': 0.0, 'Barbados': 0.0, 'Moldova': 17.36525974025974, 'Ethiopia': 5.0, 'Azerbaijan': 34.761904761904766, 'Zambia': 6.114285714285715, 'Maldives': 0.5639204545454546, 'Dominica': 33.425925925925924, 'Korea North': 0.0, 'Swaziland': 4.166666666666667, 'Yemen': 5000.0, 'Gibraltar': 0.8333333333333334, 'Somalia': 77.5, 'Lebanon': 1.25, 'Jordan': 15.944444444444443, 'Zimbabwe': 22.46212121212121, 'Isle of Man': 0.0, 'Republic of Serbia': 20.416666666666664, 'Cayman Islands': 175.0, 'Mozambique': 102.3809523809524, 'Curacao': 0.0, 'Guadeloupe': 0.0, 'Papua New Guinea': 75.16666666666667, 'Afghanistan': 8.333333333333334, 'Kuwait': 0.0, 'Greenland': 10.0, 'Trinidad & Tobago': 101.28571428571429, 'Gabon': 8.333333333333334, 'Netherland Antilles': 41.666666666666664, 'El Salvador': 42.916666666666664, 'Belize': 5.555555555555556, 'Bolivia': 56.666666666666664, 'Niger': 270.08214285714286, 'Bermuda': 0.0, 'Angola': 70.0, 'Paraguay': 31.73333333333333, 'Canary Islands': 0.0, 'Rwanda': 50.0, 'Sudan': 0.0, 'Nambia': 8.333333333333334, 'Samoa': 0.0, 'Mongolia': 18.75, 'Burundi': 1.0416666666666667, 'Channel Islands': 0.0, 'Virgin Islands (British)': 0.0, 'Cuba': 0.0, 'Benin': 12.5, 'Brunei': 7.5, 'Malawi': 378.5833333333333, 'Madagascar': 200.0, 'Vanuatu': 0.0, 'Tanzania': 29.166666666666668, 'Anguilla': 0.0, 'Martinique': 25.0, 'Hawaii': 100.0, 'Gambia': 12.5}\n"
          ]
        }
      ]
    },
    {
      "cell_type": "code",
      "source": [
        "country_spend_avgs = pd.DataFrame.from_dict(country_spend_mean, orient='index')"
      ],
      "metadata": {
        "id": "I4LL7kuqOmRd"
      },
      "execution_count": 383,
      "outputs": []
    },
    {
      "cell_type": "code",
      "source": [
        "country_spend_avgs.sort_values(by=0, ascending=False)"
      ],
      "metadata": {
        "colab": {
          "base_uri": "https://localhost:8080/",
          "height": 444
        },
        "id": "Llh7LN81O0i9",
        "outputId": "24b53b84-0791-4661-9d91-5c75a2f05060"
      },
      "execution_count": 386,
      "outputs": [
        {
          "output_type": "execute_result",
          "data": {
            "text/plain": [
              "                       0\n",
              "Yemen        5000.000000\n",
              "Jamaica       518.247863\n",
              "Austria       397.392153\n",
              "Malawi        378.583333\n",
              "New Zealand   285.678857\n",
              "...                  ...\n",
              "Isle of Man     0.000000\n",
              "Kuwait          0.000000\n",
              "Haiti           0.000000\n",
              "Sudan           0.000000\n",
              "NaN                  NaN\n",
              "\n",
              "[169 rows x 1 columns]"
            ],
            "text/html": [
              "\n",
              "  <div id=\"df-29fe4281-3a34-4e1f-a674-f74e9e3d3c73\">\n",
              "    <div class=\"colab-df-container\">\n",
              "      <div>\n",
              "<style scoped>\n",
              "    .dataframe tbody tr th:only-of-type {\n",
              "        vertical-align: middle;\n",
              "    }\n",
              "\n",
              "    .dataframe tbody tr th {\n",
              "        vertical-align: top;\n",
              "    }\n",
              "\n",
              "    .dataframe thead th {\n",
              "        text-align: right;\n",
              "    }\n",
              "</style>\n",
              "<table border=\"1\" class=\"dataframe\">\n",
              "  <thead>\n",
              "    <tr style=\"text-align: right;\">\n",
              "      <th></th>\n",
              "      <th>0</th>\n",
              "    </tr>\n",
              "  </thead>\n",
              "  <tbody>\n",
              "    <tr>\n",
              "      <th>Yemen</th>\n",
              "      <td>5000.000000</td>\n",
              "    </tr>\n",
              "    <tr>\n",
              "      <th>Jamaica</th>\n",
              "      <td>518.247863</td>\n",
              "    </tr>\n",
              "    <tr>\n",
              "      <th>Austria</th>\n",
              "      <td>397.392153</td>\n",
              "    </tr>\n",
              "    <tr>\n",
              "      <th>Malawi</th>\n",
              "      <td>378.583333</td>\n",
              "    </tr>\n",
              "    <tr>\n",
              "      <th>New Zealand</th>\n",
              "      <td>285.678857</td>\n",
              "    </tr>\n",
              "    <tr>\n",
              "      <th>...</th>\n",
              "      <td>...</td>\n",
              "    </tr>\n",
              "    <tr>\n",
              "      <th>Isle of Man</th>\n",
              "      <td>0.000000</td>\n",
              "    </tr>\n",
              "    <tr>\n",
              "      <th>Kuwait</th>\n",
              "      <td>0.000000</td>\n",
              "    </tr>\n",
              "    <tr>\n",
              "      <th>Haiti</th>\n",
              "      <td>0.000000</td>\n",
              "    </tr>\n",
              "    <tr>\n",
              "      <th>Sudan</th>\n",
              "      <td>0.000000</td>\n",
              "    </tr>\n",
              "    <tr>\n",
              "      <th>NaN</th>\n",
              "      <td>NaN</td>\n",
              "    </tr>\n",
              "  </tbody>\n",
              "</table>\n",
              "<p>169 rows × 1 columns</p>\n",
              "</div>\n",
              "      <button class=\"colab-df-convert\" onclick=\"convertToInteractive('df-29fe4281-3a34-4e1f-a674-f74e9e3d3c73')\"\n",
              "              title=\"Convert this dataframe to an interactive table.\"\n",
              "              style=\"display:none;\">\n",
              "        \n",
              "  <svg xmlns=\"http://www.w3.org/2000/svg\" height=\"24px\"viewBox=\"0 0 24 24\"\n",
              "       width=\"24px\">\n",
              "    <path d=\"M0 0h24v24H0V0z\" fill=\"none\"/>\n",
              "    <path d=\"M18.56 5.44l.94 2.06.94-2.06 2.06-.94-2.06-.94-.94-2.06-.94 2.06-2.06.94zm-11 1L8.5 8.5l.94-2.06 2.06-.94-2.06-.94L8.5 2.5l-.94 2.06-2.06.94zm10 10l.94 2.06.94-2.06 2.06-.94-2.06-.94-.94-2.06-.94 2.06-2.06.94z\"/><path d=\"M17.41 7.96l-1.37-1.37c-.4-.4-.92-.59-1.43-.59-.52 0-1.04.2-1.43.59L10.3 9.45l-7.72 7.72c-.78.78-.78 2.05 0 2.83L4 21.41c.39.39.9.59 1.41.59.51 0 1.02-.2 1.41-.59l7.78-7.78 2.81-2.81c.8-.78.8-2.07 0-2.86zM5.41 20L4 18.59l7.72-7.72 1.47 1.35L5.41 20z\"/>\n",
              "  </svg>\n",
              "      </button>\n",
              "      \n",
              "  <style>\n",
              "    .colab-df-container {\n",
              "      display:flex;\n",
              "      flex-wrap:wrap;\n",
              "      gap: 12px;\n",
              "    }\n",
              "\n",
              "    .colab-df-convert {\n",
              "      background-color: #E8F0FE;\n",
              "      border: none;\n",
              "      border-radius: 50%;\n",
              "      cursor: pointer;\n",
              "      display: none;\n",
              "      fill: #1967D2;\n",
              "      height: 32px;\n",
              "      padding: 0 0 0 0;\n",
              "      width: 32px;\n",
              "    }\n",
              "\n",
              "    .colab-df-convert:hover {\n",
              "      background-color: #E2EBFA;\n",
              "      box-shadow: 0px 1px 2px rgba(60, 64, 67, 0.3), 0px 1px 3px 1px rgba(60, 64, 67, 0.15);\n",
              "      fill: #174EA6;\n",
              "    }\n",
              "\n",
              "    [theme=dark] .colab-df-convert {\n",
              "      background-color: #3B4455;\n",
              "      fill: #D2E3FC;\n",
              "    }\n",
              "\n",
              "    [theme=dark] .colab-df-convert:hover {\n",
              "      background-color: #434B5C;\n",
              "      box-shadow: 0px 1px 3px 1px rgba(0, 0, 0, 0.15);\n",
              "      filter: drop-shadow(0px 1px 2px rgba(0, 0, 0, 0.3));\n",
              "      fill: #FFFFFF;\n",
              "    }\n",
              "  </style>\n",
              "\n",
              "      <script>\n",
              "        const buttonEl =\n",
              "          document.querySelector('#df-29fe4281-3a34-4e1f-a674-f74e9e3d3c73 button.colab-df-convert');\n",
              "        buttonEl.style.display =\n",
              "          google.colab.kernel.accessAllowed ? 'block' : 'none';\n",
              "\n",
              "        async function convertToInteractive(key) {\n",
              "          const element = document.querySelector('#df-29fe4281-3a34-4e1f-a674-f74e9e3d3c73');\n",
              "          const dataTable =\n",
              "            await google.colab.kernel.invokeFunction('convertToInteractive',\n",
              "                                                     [key], {});\n",
              "          if (!dataTable) return;\n",
              "\n",
              "          const docLinkHtml = 'Like what you see? Visit the ' +\n",
              "            '<a target=\"_blank\" href=https://colab.research.google.com/notebooks/data_table.ipynb>data table notebook</a>'\n",
              "            + ' to learn more about interactive tables.';\n",
              "          element.innerHTML = '';\n",
              "          dataTable['output_type'] = 'display_data';\n",
              "          await google.colab.output.renderOutput(dataTable, element);\n",
              "          const docLink = document.createElement('div');\n",
              "          docLink.innerHTML = docLinkHtml;\n",
              "          element.appendChild(docLink);\n",
              "        }\n",
              "      </script>\n",
              "    </div>\n",
              "  </div>\n",
              "  "
            ]
          },
          "metadata": {},
          "execution_count": 386
        }
      ]
    },
    {
      "cell_type": "code",
      "source": [
        "country_counts = ncs_copy['CountryLive'].value_counts()"
      ],
      "metadata": {
        "id": "lHpqxToqO5X1"
      },
      "execution_count": 387,
      "outputs": []
    },
    {
      "cell_type": "code",
      "source": [
        "country_counts.mean()"
      ],
      "metadata": {
        "colab": {
          "base_uri": "https://localhost:8080/"
        },
        "id": "7QoqEjXFQKpu",
        "outputId": "0e0acd43-82f7-4246-d4f0-fdca3541adfc"
      },
      "execution_count": 394,
      "outputs": [
        {
          "output_type": "execute_result",
          "data": {
            "text/plain": [
              "83.125"
            ]
          },
          "metadata": {},
          "execution_count": 394
        }
      ]
    },
    {
      "cell_type": "code",
      "source": [
        "mask = ncs_copy['CountryLive'].map(country_counts) >= 100"
      ],
      "metadata": {
        "id": "fuZiVVs1PmWH"
      },
      "execution_count": 388,
      "outputs": []
    },
    {
      "cell_type": "code",
      "source": [
        "ncs_copy = ncs_copy[mask]\n"
      ],
      "metadata": {
        "id": "WkCklwMcPq4F"
      },
      "execution_count": 389,
      "outputs": []
    },
    {
      "cell_type": "code",
      "source": [
        "country_spend_mean = {}\n",
        "for country in ncs_copy['CountryLive'].unique():  # Loop over unique country names\n",
        "    country_spend_mean[country] = ncs_copy[ncs_copy['CountryLive'] == country]['money_per_month'].mean()\n"
      ],
      "metadata": {
        "id": "8CPZGBiMPwD9"
      },
      "execution_count": 390,
      "outputs": []
    },
    {
      "cell_type": "code",
      "source": [
        "country_spend_avgs = pd.DataFrame.from_dict(country_spend_mean, orient='index')"
      ],
      "metadata": {
        "id": "ZNRh75i5P1zU"
      },
      "execution_count": 391,
      "outputs": []
    },
    {
      "cell_type": "markdown",
      "source": [
        "By eliminating countries with less than 100 rows we have a much more accurate representation"
      ],
      "metadata": {
        "id": "Jgi_zhI6QD8t"
      }
    },
    {
      "cell_type": "code",
      "source": [
        "country_spend_avgs.sort_values(by=0, ascending=False).head(10)"
      ],
      "metadata": {
        "colab": {
          "base_uri": "https://localhost:8080/",
          "height": 381
        },
        "id": "P7855G39P5rO",
        "outputId": "9d0652ec-005d-4260-8fd7-b336bc4b39e1"
      },
      "execution_count": 393,
      "outputs": [
        {
          "output_type": "execute_result",
          "data": {
            "text/plain": [
              "                                   0\n",
              "Spain                     209.821766\n",
              "United States of America  158.919644\n",
              "Canada                    118.434054\n",
              "Australia                 114.306105\n",
              "Nigeria                   107.257487\n",
              "Poland                     94.262158\n",
              "Turkey                     78.413921\n",
              "India                      66.526198\n",
              "Brazil                     56.850199\n",
              "United Kingdom             55.774980"
            ],
            "text/html": [
              "\n",
              "  <div id=\"df-68973685-010a-4281-b9aa-c5cfb906153e\">\n",
              "    <div class=\"colab-df-container\">\n",
              "      <div>\n",
              "<style scoped>\n",
              "    .dataframe tbody tr th:only-of-type {\n",
              "        vertical-align: middle;\n",
              "    }\n",
              "\n",
              "    .dataframe tbody tr th {\n",
              "        vertical-align: top;\n",
              "    }\n",
              "\n",
              "    .dataframe thead th {\n",
              "        text-align: right;\n",
              "    }\n",
              "</style>\n",
              "<table border=\"1\" class=\"dataframe\">\n",
              "  <thead>\n",
              "    <tr style=\"text-align: right;\">\n",
              "      <th></th>\n",
              "      <th>0</th>\n",
              "    </tr>\n",
              "  </thead>\n",
              "  <tbody>\n",
              "    <tr>\n",
              "      <th>Spain</th>\n",
              "      <td>209.821766</td>\n",
              "    </tr>\n",
              "    <tr>\n",
              "      <th>United States of America</th>\n",
              "      <td>158.919644</td>\n",
              "    </tr>\n",
              "    <tr>\n",
              "      <th>Canada</th>\n",
              "      <td>118.434054</td>\n",
              "    </tr>\n",
              "    <tr>\n",
              "      <th>Australia</th>\n",
              "      <td>114.306105</td>\n",
              "    </tr>\n",
              "    <tr>\n",
              "      <th>Nigeria</th>\n",
              "      <td>107.257487</td>\n",
              "    </tr>\n",
              "    <tr>\n",
              "      <th>Poland</th>\n",
              "      <td>94.262158</td>\n",
              "    </tr>\n",
              "    <tr>\n",
              "      <th>Turkey</th>\n",
              "      <td>78.413921</td>\n",
              "    </tr>\n",
              "    <tr>\n",
              "      <th>India</th>\n",
              "      <td>66.526198</td>\n",
              "    </tr>\n",
              "    <tr>\n",
              "      <th>Brazil</th>\n",
              "      <td>56.850199</td>\n",
              "    </tr>\n",
              "    <tr>\n",
              "      <th>United Kingdom</th>\n",
              "      <td>55.774980</td>\n",
              "    </tr>\n",
              "  </tbody>\n",
              "</table>\n",
              "</div>\n",
              "      <button class=\"colab-df-convert\" onclick=\"convertToInteractive('df-68973685-010a-4281-b9aa-c5cfb906153e')\"\n",
              "              title=\"Convert this dataframe to an interactive table.\"\n",
              "              style=\"display:none;\">\n",
              "        \n",
              "  <svg xmlns=\"http://www.w3.org/2000/svg\" height=\"24px\"viewBox=\"0 0 24 24\"\n",
              "       width=\"24px\">\n",
              "    <path d=\"M0 0h24v24H0V0z\" fill=\"none\"/>\n",
              "    <path d=\"M18.56 5.44l.94 2.06.94-2.06 2.06-.94-2.06-.94-.94-2.06-.94 2.06-2.06.94zm-11 1L8.5 8.5l.94-2.06 2.06-.94-2.06-.94L8.5 2.5l-.94 2.06-2.06.94zm10 10l.94 2.06.94-2.06 2.06-.94-2.06-.94-.94-2.06-.94 2.06-2.06.94z\"/><path d=\"M17.41 7.96l-1.37-1.37c-.4-.4-.92-.59-1.43-.59-.52 0-1.04.2-1.43.59L10.3 9.45l-7.72 7.72c-.78.78-.78 2.05 0 2.83L4 21.41c.39.39.9.59 1.41.59.51 0 1.02-.2 1.41-.59l7.78-7.78 2.81-2.81c.8-.78.8-2.07 0-2.86zM5.41 20L4 18.59l7.72-7.72 1.47 1.35L5.41 20z\"/>\n",
              "  </svg>\n",
              "      </button>\n",
              "      \n",
              "  <style>\n",
              "    .colab-df-container {\n",
              "      display:flex;\n",
              "      flex-wrap:wrap;\n",
              "      gap: 12px;\n",
              "    }\n",
              "\n",
              "    .colab-df-convert {\n",
              "      background-color: #E8F0FE;\n",
              "      border: none;\n",
              "      border-radius: 50%;\n",
              "      cursor: pointer;\n",
              "      display: none;\n",
              "      fill: #1967D2;\n",
              "      height: 32px;\n",
              "      padding: 0 0 0 0;\n",
              "      width: 32px;\n",
              "    }\n",
              "\n",
              "    .colab-df-convert:hover {\n",
              "      background-color: #E2EBFA;\n",
              "      box-shadow: 0px 1px 2px rgba(60, 64, 67, 0.3), 0px 1px 3px 1px rgba(60, 64, 67, 0.15);\n",
              "      fill: #174EA6;\n",
              "    }\n",
              "\n",
              "    [theme=dark] .colab-df-convert {\n",
              "      background-color: #3B4455;\n",
              "      fill: #D2E3FC;\n",
              "    }\n",
              "\n",
              "    [theme=dark] .colab-df-convert:hover {\n",
              "      background-color: #434B5C;\n",
              "      box-shadow: 0px 1px 3px 1px rgba(0, 0, 0, 0.15);\n",
              "      filter: drop-shadow(0px 1px 2px rgba(0, 0, 0, 0.3));\n",
              "      fill: #FFFFFF;\n",
              "    }\n",
              "  </style>\n",
              "\n",
              "      <script>\n",
              "        const buttonEl =\n",
              "          document.querySelector('#df-68973685-010a-4281-b9aa-c5cfb906153e button.colab-df-convert');\n",
              "        buttonEl.style.display =\n",
              "          google.colab.kernel.accessAllowed ? 'block' : 'none';\n",
              "\n",
              "        async function convertToInteractive(key) {\n",
              "          const element = document.querySelector('#df-68973685-010a-4281-b9aa-c5cfb906153e');\n",
              "          const dataTable =\n",
              "            await google.colab.kernel.invokeFunction('convertToInteractive',\n",
              "                                                     [key], {});\n",
              "          if (!dataTable) return;\n",
              "\n",
              "          const docLinkHtml = 'Like what you see? Visit the ' +\n",
              "            '<a target=\"_blank\" href=https://colab.research.google.com/notebooks/data_table.ipynb>data table notebook</a>'\n",
              "            + ' to learn more about interactive tables.';\n",
              "          element.innerHTML = '';\n",
              "          dataTable['output_type'] = 'display_data';\n",
              "          await google.colab.output.renderOutput(dataTable, element);\n",
              "          const docLink = document.createElement('div');\n",
              "          docLink.innerHTML = docLinkHtml;\n",
              "          element.appendChild(docLink);\n",
              "        }\n",
              "      </script>\n",
              "    </div>\n",
              "  </div>\n",
              "  "
            ]
          },
          "metadata": {},
          "execution_count": 393
        }
      ]
    },
    {
      "cell_type": "code",
      "source": [
        "country_counts = ncs_copy['CountryLive'].value_counts()"
      ],
      "metadata": {
        "id": "FgaHBIf5P9Hn"
      },
      "execution_count": 395,
      "outputs": []
    },
    {
      "cell_type": "markdown",
      "source": [
        "By eliminating countries with less than 100 results our mean results per country went from 83 to 487"
      ],
      "metadata": {
        "id": "8-o_LzGYQWXx"
      }
    },
    {
      "cell_type": "code",
      "source": [
        "country_counts.mean()"
      ],
      "metadata": {
        "colab": {
          "base_uri": "https://localhost:8080/"
        },
        "id": "4NHhyiPNQRwS",
        "outputId": "be89cc21-e313-47b5-a0ad-79470a82392e"
      },
      "execution_count": 396,
      "outputs": [
        {
          "output_type": "execute_result",
          "data": {
            "text/plain": [
              "487.7391304347826"
            ]
          },
          "metadata": {},
          "execution_count": 396
        }
      ]
    },
    {
      "cell_type": "code",
      "source": [
        "ncs_copy.query(\"`CountryLive` =='Spain'\").shape[0]"
      ],
      "metadata": {
        "colab": {
          "base_uri": "https://localhost:8080/"
        },
        "id": "T0XIjRBRQTR6",
        "outputId": "212de76b-2c53-4f7b-f190-ed6e69d71d3a"
      },
      "execution_count": 398,
      "outputs": [
        {
          "output_type": "execute_result",
          "data": {
            "text/plain": [
              "189"
            ]
          },
          "metadata": {},
          "execution_count": 398
        }
      ]
    },
    {
      "cell_type": "code",
      "source": [
        "avg_age_bootcamp = ncs.query(\"`AttendedBootcamp` == 1\")['Age'].mean()\n",
        "avg_age_bootcamp"
      ],
      "metadata": {
        "colab": {
          "base_uri": "https://localhost:8080/"
        },
        "id": "BqrQE4IzQyIh",
        "outputId": "811bf21f-6bbd-4347-ad33-4e06102d6fb1"
      },
      "execution_count": 400,
      "outputs": [
        {
          "output_type": "execute_result",
          "data": {
            "text/plain": [
              "30.142546245919476"
            ]
          },
          "metadata": {},
          "execution_count": 400
        }
      ]
    },
    {
      "cell_type": "code",
      "source": [
        "avg_age_bootcamp_finish = ncs.query(\"`BootcampFinish` == 1\")['Age'].mean()\n",
        "avg_age_bootcamp_finish"
      ],
      "metadata": {
        "colab": {
          "base_uri": "https://localhost:8080/"
        },
        "id": "m4WJoqJJRbUM",
        "outputId": "7a43ae09-3b3a-4c5e-d842-39c267b4e39f"
      },
      "execution_count": 402,
      "outputs": [
        {
          "output_type": "execute_result",
          "data": {
            "text/plain": [
              "30.4359375"
            ]
          },
          "metadata": {},
          "execution_count": 402
        }
      ]
    },
    {
      "cell_type": "code",
      "source": [
        "boot_camp_pop = ncs['AttendedBootcamp'].value_counts()\n",
        "boot_camp_pop"
      ],
      "metadata": {
        "colab": {
          "base_uri": "https://localhost:8080/"
        },
        "id": "PstgPbv_RvQ5",
        "outputId": "e8c905ee-4f45-409b-8d70-4c2c494e4046"
      },
      "execution_count": 405,
      "outputs": [
        {
          "output_type": "execute_result",
          "data": {
            "text/plain": [
              "0.0    16611\n",
              "1.0     1098\n",
              "Name: AttendedBootcamp, dtype: int64"
            ]
          },
          "metadata": {},
          "execution_count": 405
        }
      ]
    },
    {
      "cell_type": "code",
      "source": [
        "boot_camp_pop_pct = boot_camp_pop.iloc[1] / (boot_camp_pop.iloc[0] + boot_camp_pop.iloc[1])\n",
        "print('Bootcamp Attendance Rate', round(boot_camp_pop_pct, 3) * 100,'%')"
      ],
      "metadata": {
        "colab": {
          "base_uri": "https://localhost:8080/"
        },
        "id": "7Fh3ATNvSBgn",
        "outputId": "d1e393c9-eb23-408c-fa2f-06ae8237e53e"
      },
      "execution_count": 412,
      "outputs": [
        {
          "output_type": "stream",
          "name": "stdout",
          "text": [
            "Bootcamp Attendance Rate 6.2 %\n"
          ]
        }
      ]
    },
    {
      "cell_type": "code",
      "source": [],
      "metadata": {
        "id": "YWiXsLjUSPql"
      },
      "execution_count": null,
      "outputs": []
    }
  ]
}